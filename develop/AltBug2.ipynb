{
 "cells": [
  {
   "cell_type": "markdown",
   "metadata": {},
   "source": [
    "#  Altair Examples\n",
    "\n",
    "These examples use the Seattle bike trip dataset, as discussed by Jake Vanderpla"
   ]
  },
  {
   "cell_type": "markdown",
   "metadata": {},
   "source": [
    "## Import require packages"
   ]
  },
  {
   "cell_type": "code",
   "execution_count": 15,
   "metadata": {},
   "outputs": [],
   "source": [
    "import altair as alt\n",
    "import pandas as pd\n",
    "\n",
    "# used to retreive datasets\n",
    "from urllib.request import urlretrieve\n",
    "\n",
    "# used for file existance testing\n",
    "import pathlib"
   ]
  },
  {
   "cell_type": "markdown",
   "metadata": {},
   "source": [
    "### Define data source, and local file name"
   ]
  },
  {
   "cell_type": "code",
   "execution_count": 16,
   "metadata": {},
   "outputs": [],
   "source": [
    "url = 'https://data.seattle.gov/api/views/65db-xm6k/rows.csv?accessType=DOWNLOAD'\n",
    "csv_file = '../data/fremont.csv'"
   ]
  },
  {
   "cell_type": "markdown",
   "metadata": {},
   "source": [
    "### Access data, save locally (if needed)"
   ]
  },
  {
   "cell_type": "code",
   "execution_count": 17,
   "metadata": {},
   "outputs": [],
   "source": [
    "data_file = pathlib.Path(csv_file)\n",
    "if( data_file.exists() ):\n",
    "    urlretrieve(url, csv_file)\n",
    "#end if"
   ]
  },
  {
   "cell_type": "code",
   "execution_count": 18,
   "metadata": {},
   "outputs": [],
   "source": [
    "# read the data set\n",
    "bike_df = pd.read_csv(csv_file)"
   ]
  },
  {
   "cell_type": "markdown",
   "metadata": {},
   "source": [
    "### Show original column names, then reset to shorter names"
   ]
  },
  {
   "cell_type": "code",
   "execution_count": 19,
   "metadata": {},
   "outputs": [
    {
     "data": {
      "text/plain": [
       "Index(['Date', 'Fremont Bridge West Sidewalk', 'Fremont Bridge East Sidewalk'], dtype='object')"
      ]
     },
     "execution_count": 19,
     "metadata": {},
     "output_type": "execute_result"
    }
   ],
   "source": [
    "bike_df.columns"
   ]
  },
  {
   "cell_type": "code",
   "execution_count": 20,
   "metadata": {},
   "outputs": [],
   "source": [
    "bike_df.columns = ['DateString', 'West', 'East']"
   ]
  },
  {
   "cell_type": "markdown",
   "metadata": {},
   "source": [
    "### Fix string date, convert to datetime timestamps\n",
    "\n",
    "We do this as calculations (eg day of week) are much easier with DateTime objects"
   ]
  },
  {
   "cell_type": "code",
   "execution_count": 21,
   "metadata": {},
   "outputs": [],
   "source": [
    "bike_df['Date2'] = pd.to_datetime(bike_df['DateString'], format='%m/%d/%Y %I:%M:%S %p')"
   ]
  },
  {
   "cell_type": "markdown",
   "metadata": {},
   "source": [
    "### Create convenience columns, show the hour and year of each observation, as well as the day number since the start of dataset (a form of pseudo-Julian Day number)"
   ]
  },
  {
   "cell_type": "code",
   "execution_count": 22,
   "metadata": {},
   "outputs": [],
   "source": [
    "bike_df['Year'] = bike_df['Date2'].dt.year\n",
    "bike_df['Hour'] = bike_df['Date2'].dt.hour\n",
    "bike_df['WeekDay'] = bike_df['Date2'].dt.dayofweek\n",
    "\n",
    "bike_df['JulianDay'] =  ((bike_df['Date2'] - pd.datetime(2012, 10, 3)).dt.total_seconds()//(24*60*60)).astype(int)"
   ]
  },
  {
   "cell_type": "markdown",
   "metadata": {},
   "source": [
    "### Save dataframe rows as json file\n",
    "\n",
    "In order for Altair to understand the JSON file as written by Pandas, we must perform some data conversions.\n",
    "\n",
    "For example, pandas converts all datetimes to UTC before writing to JSON, which Altair reads as local times."
   ]
  },
  {
   "cell_type": "code",
   "execution_count": 23,
   "metadata": {},
   "outputs": [],
   "source": [
    "bike2_df = alt.utils.sanitize_dataframe(bike_df)"
   ]
  },
  {
   "cell_type": "code",
   "execution_count": 24,
   "metadata": {},
   "outputs": [],
   "source": [
    "json_file = 'data.json'\n",
    "bike2_df.to_json(json_file, orient='records')"
   ]
  },
  {
   "cell_type": "markdown",
   "metadata": {},
   "source": [
    "## Altair Charting"
   ]
  },
  {
   "cell_type": "code",
   "execution_count": 25,
   "metadata": {},
   "outputs": [
    {
     "data": {
      "application/vnd.vegalite.v2+json": {
       "$schema": "https://vega.github.io/schema/vega-lite/v2.4.3.json",
       "config": {
        "view": {
         "height": 300,
         "width": 400
        }
       },
       "data": {
        "values": [
         {
          "Date2": "2012-10-03 00:00:00",
          "DateString": "10/03/2012 12:00:00 AM",
          "East": 9,
          "Hour": 0,
          "JulianDay": 0,
          "WeekDay": 2,
          "West": 4,
          "Year": 2012
         },
         {
          "Date2": "2012-10-03 01:00:00",
          "DateString": "10/03/2012 01:00:00 AM",
          "East": 6,
          "Hour": 1,
          "JulianDay": 0,
          "WeekDay": 2,
          "West": 4,
          "Year": 2012
         },
         {
          "Date2": "2012-10-03 02:00:00",
          "DateString": "10/03/2012 02:00:00 AM",
          "East": 1,
          "Hour": 2,
          "JulianDay": 0,
          "WeekDay": 2,
          "West": 1,
          "Year": 2012
         },
         {
          "Date2": "2012-10-03 03:00:00",
          "DateString": "10/03/2012 03:00:00 AM",
          "East": 3,
          "Hour": 3,
          "JulianDay": 0,
          "WeekDay": 2,
          "West": 2,
          "Year": 2012
         },
         {
          "Date2": "2012-10-03 04:00:00",
          "DateString": "10/03/2012 04:00:00 AM",
          "East": 1,
          "Hour": 4,
          "JulianDay": 0,
          "WeekDay": 2,
          "West": 6,
          "Year": 2012
         },
         {
          "Date2": "2012-10-03 05:00:00",
          "DateString": "10/03/2012 05:00:00 AM",
          "East": 10,
          "Hour": 5,
          "JulianDay": 0,
          "WeekDay": 2,
          "West": 21,
          "Year": 2012
         },
         {
          "Date2": "2012-10-03 06:00:00",
          "DateString": "10/03/2012 06:00:00 AM",
          "East": 50,
          "Hour": 6,
          "JulianDay": 0,
          "WeekDay": 2,
          "West": 105,
          "Year": 2012
         },
         {
          "Date2": "2012-10-03 07:00:00",
          "DateString": "10/03/2012 07:00:00 AM",
          "East": 95,
          "Hour": 7,
          "JulianDay": 0,
          "WeekDay": 2,
          "West": 257,
          "Year": 2012
         },
         {
          "Date2": "2012-10-03 08:00:00",
          "DateString": "10/03/2012 08:00:00 AM",
          "East": 146,
          "Hour": 8,
          "JulianDay": 0,
          "WeekDay": 2,
          "West": 291,
          "Year": 2012
         },
         {
          "Date2": "2012-10-03 09:00:00",
          "DateString": "10/03/2012 09:00:00 AM",
          "East": 104,
          "Hour": 9,
          "JulianDay": 0,
          "WeekDay": 2,
          "West": 172,
          "Year": 2012
         },
         {
          "Date2": "2012-10-03 10:00:00",
          "DateString": "10/03/2012 10:00:00 AM",
          "East": 46,
          "Hour": 10,
          "JulianDay": 0,
          "WeekDay": 2,
          "West": 72,
          "Year": 2012
         },
         {
          "Date2": "2012-10-03 11:00:00",
          "DateString": "10/03/2012 11:00:00 AM",
          "East": 32,
          "Hour": 11,
          "JulianDay": 0,
          "WeekDay": 2,
          "West": 10,
          "Year": 2012
         },
         {
          "Date2": "2012-10-03 12:00:00",
          "DateString": "10/03/2012 12:00:00 PM",
          "East": 41,
          "Hour": 12,
          "JulianDay": 0,
          "WeekDay": 2,
          "West": 35,
          "Year": 2012
         },
         {
          "Date2": "2012-10-03 13:00:00",
          "DateString": "10/03/2012 01:00:00 PM",
          "East": 48,
          "Hour": 13,
          "JulianDay": 0,
          "WeekDay": 2,
          "West": 42,
          "Year": 2012
         },
         {
          "Date2": "2012-10-03 14:00:00",
          "DateString": "10/03/2012 02:00:00 PM",
          "East": 51,
          "Hour": 14,
          "JulianDay": 0,
          "WeekDay": 2,
          "West": 77,
          "Year": 2012
         },
         {
          "Date2": "2012-10-03 15:00:00",
          "DateString": "10/03/2012 03:00:00 PM",
          "East": 92,
          "Hour": 15,
          "JulianDay": 0,
          "WeekDay": 2,
          "West": 72,
          "Year": 2012
         },
         {
          "Date2": "2012-10-03 16:00:00",
          "DateString": "10/03/2012 04:00:00 PM",
          "East": 182,
          "Hour": 16,
          "JulianDay": 0,
          "WeekDay": 2,
          "West": 133,
          "Year": 2012
         },
         {
          "Date2": "2012-10-03 17:00:00",
          "DateString": "10/03/2012 05:00:00 PM",
          "East": 391,
          "Hour": 17,
          "JulianDay": 0,
          "WeekDay": 2,
          "West": 192,
          "Year": 2012
         },
         {
          "Date2": "2012-10-03 18:00:00",
          "DateString": "10/03/2012 06:00:00 PM",
          "East": 258,
          "Hour": 18,
          "JulianDay": 0,
          "WeekDay": 2,
          "West": 122,
          "Year": 2012
         },
         {
          "Date2": "2012-10-03 19:00:00",
          "DateString": "10/03/2012 07:00:00 PM",
          "East": 69,
          "Hour": 19,
          "JulianDay": 0,
          "WeekDay": 2,
          "West": 59,
          "Year": 2012
         },
         {
          "Date2": "2012-10-03 20:00:00",
          "DateString": "10/03/2012 08:00:00 PM",
          "East": 51,
          "Hour": 20,
          "JulianDay": 0,
          "WeekDay": 2,
          "West": 29,
          "Year": 2012
         },
         {
          "Date2": "2012-10-03 21:00:00",
          "DateString": "10/03/2012 09:00:00 PM",
          "East": 38,
          "Hour": 21,
          "JulianDay": 0,
          "WeekDay": 2,
          "West": 25,
          "Year": 2012
         },
         {
          "Date2": "2012-10-03 22:00:00",
          "DateString": "10/03/2012 10:00:00 PM",
          "East": 25,
          "Hour": 22,
          "JulianDay": 0,
          "WeekDay": 2,
          "West": 24,
          "Year": 2012
         },
         {
          "Date2": "2012-10-03 23:00:00",
          "DateString": "10/03/2012 11:00:00 PM",
          "East": 12,
          "Hour": 23,
          "JulianDay": 0,
          "WeekDay": 2,
          "West": 5,
          "Year": 2012
         },
         {
          "Date2": "2012-10-04 00:00:00",
          "DateString": "10/04/2012 12:00:00 AM",
          "East": 11,
          "Hour": 0,
          "JulianDay": 1,
          "WeekDay": 3,
          "West": 7,
          "Year": 2012
         },
         {
          "Date2": "2012-10-04 01:00:00",
          "DateString": "10/04/2012 01:00:00 AM",
          "East": 0,
          "Hour": 1,
          "JulianDay": 1,
          "WeekDay": 3,
          "West": 3,
          "Year": 2012
         },
         {
          "Date2": "2012-10-04 02:00:00",
          "DateString": "10/04/2012 02:00:00 AM",
          "East": 6,
          "Hour": 2,
          "JulianDay": 1,
          "WeekDay": 3,
          "West": 3,
          "Year": 2012
         },
         {
          "Date2": "2012-10-04 03:00:00",
          "DateString": "10/04/2012 03:00:00 AM",
          "East": 3,
          "Hour": 3,
          "JulianDay": 1,
          "WeekDay": 3,
          "West": 0,
          "Year": 2012
         },
         {
          "Date2": "2012-10-04 04:00:00",
          "DateString": "10/04/2012 04:00:00 AM",
          "East": 1,
          "Hour": 4,
          "JulianDay": 1,
          "WeekDay": 3,
          "West": 7,
          "Year": 2012
         },
         {
          "Date2": "2012-10-04 05:00:00",
          "DateString": "10/04/2012 05:00:00 AM",
          "East": 11,
          "Hour": 5,
          "JulianDay": 1,
          "WeekDay": 3,
          "West": 15,
          "Year": 2012
         },
         {
          "Date2": "2012-10-04 06:00:00",
          "DateString": "10/04/2012 06:00:00 AM",
          "East": 51,
          "Hour": 6,
          "JulianDay": 1,
          "WeekDay": 3,
          "West": 91,
          "Year": 2012
         },
         {
          "Date2": "2012-10-04 07:00:00",
          "DateString": "10/04/2012 07:00:00 AM",
          "East": 89,
          "Hour": 7,
          "JulianDay": 1,
          "WeekDay": 3,
          "West": 230,
          "Year": 2012
         },
         {
          "Date2": "2012-10-04 08:00:00",
          "DateString": "10/04/2012 08:00:00 AM",
          "East": 134,
          "Hour": 8,
          "JulianDay": 1,
          "WeekDay": 3,
          "West": 284,
          "Year": 2012
         },
         {
          "Date2": "2012-10-04 09:00:00",
          "DateString": "10/04/2012 09:00:00 AM",
          "East": 94,
          "Hour": 9,
          "JulianDay": 1,
          "WeekDay": 3,
          "West": 147,
          "Year": 2012
         },
         {
          "Date2": "2012-10-04 10:00:00",
          "DateString": "10/04/2012 10:00:00 AM",
          "East": 53,
          "Hour": 10,
          "JulianDay": 1,
          "WeekDay": 3,
          "West": 67,
          "Year": 2012
         },
         {
          "Date2": "2012-10-04 11:00:00",
          "DateString": "10/04/2012 11:00:00 AM",
          "East": 55,
          "Hour": 11,
          "JulianDay": 1,
          "WeekDay": 3,
          "West": 53,
          "Year": 2012
         },
         {
          "Date2": "2012-10-04 12:00:00",
          "DateString": "10/04/2012 12:00:00 PM",
          "East": 50,
          "Hour": 12,
          "JulianDay": 1,
          "WeekDay": 3,
          "West": 54,
          "Year": 2012
         },
         {
          "Date2": "2012-10-04 13:00:00",
          "DateString": "10/04/2012 01:00:00 PM",
          "East": 71,
          "Hour": 13,
          "JulianDay": 1,
          "WeekDay": 3,
          "West": 55,
          "Year": 2012
         },
         {
          "Date2": "2012-10-04 14:00:00",
          "DateString": "10/04/2012 02:00:00 PM",
          "East": 56,
          "Hour": 14,
          "JulianDay": 1,
          "WeekDay": 3,
          "West": 63,
          "Year": 2012
         },
         {
          "Date2": "2012-10-04 15:00:00",
          "DateString": "10/04/2012 03:00:00 PM",
          "East": 74,
          "Hour": 15,
          "JulianDay": 1,
          "WeekDay": 3,
          "West": 73,
          "Year": 2012
         },
         {
          "Date2": "2012-10-04 16:00:00",
          "DateString": "10/04/2012 04:00:00 PM",
          "East": 161,
          "Hour": 16,
          "JulianDay": 1,
          "WeekDay": 3,
          "West": 114,
          "Year": 2012
         },
         {
          "Date2": "2012-10-04 17:00:00",
          "DateString": "10/04/2012 05:00:00 PM",
          "East": 353,
          "Hour": 17,
          "JulianDay": 1,
          "WeekDay": 3,
          "West": 154,
          "Year": 2012
         },
         {
          "Date2": "2012-10-04 18:00:00",
          "DateString": "10/04/2012 06:00:00 PM",
          "East": 241,
          "Hour": 18,
          "JulianDay": 1,
          "WeekDay": 3,
          "West": 137,
          "Year": 2012
         },
         {
          "Date2": "2012-10-04 19:00:00",
          "DateString": "10/04/2012 07:00:00 PM",
          "East": 107,
          "Hour": 19,
          "JulianDay": 1,
          "WeekDay": 3,
          "West": 57,
          "Year": 2012
         },
         {
          "Date2": "2012-10-04 20:00:00",
          "DateString": "10/04/2012 08:00:00 PM",
          "East": 56,
          "Hour": 20,
          "JulianDay": 1,
          "WeekDay": 3,
          "West": 27,
          "Year": 2012
         },
         {
          "Date2": "2012-10-04 21:00:00",
          "DateString": "10/04/2012 09:00:00 PM",
          "East": 39,
          "Hour": 21,
          "JulianDay": 1,
          "WeekDay": 3,
          "West": 31,
          "Year": 2012
         },
         {
          "Date2": "2012-10-04 22:00:00",
          "DateString": "10/04/2012 10:00:00 PM",
          "East": 21,
          "Hour": 22,
          "JulianDay": 1,
          "WeekDay": 3,
          "West": 25,
          "Year": 2012
         },
         {
          "Date2": "2012-10-04 23:00:00",
          "DateString": "10/04/2012 11:00:00 PM",
          "East": 30,
          "Hour": 23,
          "JulianDay": 1,
          "WeekDay": 3,
          "West": 11,
          "Year": 2012
         },
         {
          "Date2": "2012-10-05 00:00:00",
          "DateString": "10/05/2012 12:00:00 AM",
          "East": 7,
          "Hour": 0,
          "JulianDay": 2,
          "WeekDay": 4,
          "West": 4,
          "Year": 2012
         },
         {
          "Date2": "2012-10-05 01:00:00",
          "DateString": "10/05/2012 01:00:00 AM",
          "East": 4,
          "Hour": 1,
          "JulianDay": 2,
          "WeekDay": 4,
          "West": 4,
          "Year": 2012
         },
         {
          "Date2": "2012-10-05 02:00:00",
          "DateString": "10/05/2012 02:00:00 AM",
          "East": 3,
          "Hour": 2,
          "JulianDay": 2,
          "WeekDay": 4,
          "West": 4,
          "Year": 2012
         },
         {
          "Date2": "2012-10-05 03:00:00",
          "DateString": "10/05/2012 03:00:00 AM",
          "East": 2,
          "Hour": 3,
          "JulianDay": 2,
          "WeekDay": 4,
          "West": 2,
          "Year": 2012
         },
         {
          "Date2": "2012-10-05 04:00:00",
          "DateString": "10/05/2012 04:00:00 AM",
          "East": 2,
          "Hour": 4,
          "JulianDay": 2,
          "WeekDay": 4,
          "West": 7,
          "Year": 2012
         },
         {
          "Date2": "2012-10-05 05:00:00",
          "DateString": "10/05/2012 05:00:00 AM",
          "East": 7,
          "Hour": 5,
          "JulianDay": 2,
          "WeekDay": 4,
          "West": 18,
          "Year": 2012
         },
         {
          "Date2": "2012-10-05 06:00:00",
          "DateString": "10/05/2012 06:00:00 AM",
          "East": 37,
          "Hour": 6,
          "JulianDay": 2,
          "WeekDay": 4,
          "West": 68,
          "Year": 2012
         },
         {
          "Date2": "2012-10-05 07:00:00",
          "DateString": "10/05/2012 07:00:00 AM",
          "East": 101,
          "Hour": 7,
          "JulianDay": 2,
          "WeekDay": 4,
          "West": 218,
          "Year": 2012
         },
         {
          "Date2": "2012-10-05 08:00:00",
          "DateString": "10/05/2012 08:00:00 AM",
          "East": 119,
          "Hour": 8,
          "JulianDay": 2,
          "WeekDay": 4,
          "West": 251,
          "Year": 2012
         },
         {
          "Date2": "2012-10-05 09:00:00",
          "DateString": "10/05/2012 09:00:00 AM",
          "East": 81,
          "Hour": 9,
          "JulianDay": 2,
          "WeekDay": 4,
          "West": 131,
          "Year": 2012
         },
         {
          "Date2": "2012-10-05 10:00:00",
          "DateString": "10/05/2012 10:00:00 AM",
          "East": 48,
          "Hour": 10,
          "JulianDay": 2,
          "WeekDay": 4,
          "West": 71,
          "Year": 2012
         },
         {
          "Date2": "2012-10-05 11:00:00",
          "DateString": "10/05/2012 11:00:00 AM",
          "East": 61,
          "Hour": 11,
          "JulianDay": 2,
          "WeekDay": 4,
          "West": 43,
          "Year": 2012
         },
         {
          "Date2": "2012-10-05 12:00:00",
          "DateString": "10/05/2012 12:00:00 PM",
          "East": 46,
          "Hour": 12,
          "JulianDay": 2,
          "WeekDay": 4,
          "West": 55,
          "Year": 2012
         },
         {
          "Date2": "2012-10-05 13:00:00",
          "DateString": "10/05/2012 01:00:00 PM",
          "East": 50,
          "Hour": 13,
          "JulianDay": 2,
          "WeekDay": 4,
          "West": 62,
          "Year": 2012
         },
         {
          "Date2": "2012-10-05 14:00:00",
          "DateString": "10/05/2012 02:00:00 PM",
          "East": 62,
          "Hour": 14,
          "JulianDay": 2,
          "WeekDay": 4,
          "West": 63,
          "Year": 2012
         },
         {
          "Date2": "2012-10-05 15:00:00",
          "DateString": "10/05/2012 03:00:00 PM",
          "East": 84,
          "Hour": 15,
          "JulianDay": 2,
          "WeekDay": 4,
          "West": 80,
          "Year": 2012
         },
         {
          "Date2": "2012-10-05 16:00:00",
          "DateString": "10/05/2012 04:00:00 PM",
          "East": 190,
          "Hour": 16,
          "JulianDay": 2,
          "WeekDay": 4,
          "West": 120,
          "Year": 2012
         },
         {
          "Date2": "2012-10-05 17:00:00",
          "DateString": "10/05/2012 05:00:00 PM",
          "East": 290,
          "Hour": 17,
          "JulianDay": 2,
          "WeekDay": 4,
          "West": 144,
          "Year": 2012
         },
         {
          "Date2": "2012-10-05 18:00:00",
          "DateString": "10/05/2012 06:00:00 PM",
          "East": 209,
          "Hour": 18,
          "JulianDay": 2,
          "WeekDay": 4,
          "West": 107,
          "Year": 2012
         },
         {
          "Date2": "2012-10-05 19:00:00",
          "DateString": "10/05/2012 07:00:00 PM",
          "East": 73,
          "Hour": 19,
          "JulianDay": 2,
          "WeekDay": 4,
          "West": 42,
          "Year": 2012
         },
         {
          "Date2": "2012-10-05 20:00:00",
          "DateString": "10/05/2012 08:00:00 PM",
          "East": 41,
          "Hour": 20,
          "JulianDay": 2,
          "WeekDay": 4,
          "West": 27,
          "Year": 2012
         },
         {
          "Date2": "2012-10-05 21:00:00",
          "DateString": "10/05/2012 09:00:00 PM",
          "East": 31,
          "Hour": 21,
          "JulianDay": 2,
          "WeekDay": 4,
          "West": 11,
          "Year": 2012
         },
         {
          "Date2": "2012-10-05 22:00:00",
          "DateString": "10/05/2012 10:00:00 PM",
          "East": 26,
          "Hour": 22,
          "JulianDay": 2,
          "WeekDay": 4,
          "West": 10,
          "Year": 2012
         },
         {
          "Date2": "2012-10-05 23:00:00",
          "DateString": "10/05/2012 11:00:00 PM",
          "East": 16,
          "Hour": 23,
          "JulianDay": 2,
          "WeekDay": 4,
          "West": 16,
          "Year": 2012
         },
         {
          "Date2": "2012-10-06 00:00:00",
          "DateString": "10/06/2012 12:00:00 AM",
          "East": 7,
          "Hour": 0,
          "JulianDay": 3,
          "WeekDay": 5,
          "West": 8,
          "Year": 2012
         },
         {
          "Date2": "2012-10-06 01:00:00",
          "DateString": "10/06/2012 01:00:00 AM",
          "East": 5,
          "Hour": 1,
          "JulianDay": 3,
          "WeekDay": 5,
          "West": 10,
          "Year": 2012
         },
         {
          "Date2": "2012-10-06 02:00:00",
          "DateString": "10/06/2012 02:00:00 AM",
          "East": 2,
          "Hour": 2,
          "JulianDay": 3,
          "WeekDay": 5,
          "West": 7,
          "Year": 2012
         },
         {
          "Date2": "2012-10-06 03:00:00",
          "DateString": "10/06/2012 03:00:00 AM",
          "East": 2,
          "Hour": 3,
          "JulianDay": 3,
          "WeekDay": 5,
          "West": 1,
          "Year": 2012
         },
         {
          "Date2": "2012-10-06 04:00:00",
          "DateString": "10/06/2012 04:00:00 AM",
          "East": 1,
          "Hour": 4,
          "JulianDay": 3,
          "WeekDay": 5,
          "West": 4,
          "Year": 2012
         },
         {
          "Date2": "2012-10-06 05:00:00",
          "DateString": "10/06/2012 05:00:00 AM",
          "East": 2,
          "Hour": 5,
          "JulianDay": 3,
          "WeekDay": 5,
          "West": 3,
          "Year": 2012
         },
         {
          "Date2": "2012-10-06 06:00:00",
          "DateString": "10/06/2012 06:00:00 AM",
          "East": 15,
          "Hour": 6,
          "JulianDay": 3,
          "WeekDay": 5,
          "West": 12,
          "Year": 2012
         },
         {
          "Date2": "2012-10-06 07:00:00",
          "DateString": "10/06/2012 07:00:00 AM",
          "East": 16,
          "Hour": 7,
          "JulianDay": 3,
          "WeekDay": 5,
          "West": 17,
          "Year": 2012
         },
         {
          "Date2": "2012-10-06 08:00:00",
          "DateString": "10/06/2012 08:00:00 AM",
          "East": 47,
          "Hour": 8,
          "JulianDay": 3,
          "WeekDay": 5,
          "West": 58,
          "Year": 2012
         },
         {
          "Date2": "2012-10-06 09:00:00",
          "DateString": "10/06/2012 09:00:00 AM",
          "East": 55,
          "Hour": 9,
          "JulianDay": 3,
          "WeekDay": 5,
          "West": 59,
          "Year": 2012
         },
         {
          "Date2": "2012-10-06 10:00:00",
          "DateString": "10/06/2012 10:00:00 AM",
          "East": 47,
          "Hour": 10,
          "JulianDay": 3,
          "WeekDay": 5,
          "West": 68,
          "Year": 2012
         },
         {
          "Date2": "2012-10-06 11:00:00",
          "DateString": "10/06/2012 11:00:00 AM",
          "East": 48,
          "Hour": 11,
          "JulianDay": 3,
          "WeekDay": 5,
          "West": 76,
          "Year": 2012
         },
         {
          "Date2": "2012-10-06 12:00:00",
          "DateString": "10/06/2012 12:00:00 PM",
          "East": 73,
          "Hour": 12,
          "JulianDay": 3,
          "WeekDay": 5,
          "West": 91,
          "Year": 2012
         },
         {
          "Date2": "2012-10-06 13:00:00",
          "DateString": "10/06/2012 01:00:00 PM",
          "East": 82,
          "Hour": 13,
          "JulianDay": 3,
          "WeekDay": 5,
          "West": 95,
          "Year": 2012
         },
         {
          "Date2": "2012-10-06 14:00:00",
          "DateString": "10/06/2012 02:00:00 PM",
          "East": 114,
          "Hour": 14,
          "JulianDay": 3,
          "WeekDay": 5,
          "West": 89,
          "Year": 2012
         },
         {
          "Date2": "2012-10-06 15:00:00",
          "DateString": "10/06/2012 03:00:00 PM",
          "East": 96,
          "Hour": 15,
          "JulianDay": 3,
          "WeekDay": 5,
          "West": 115,
          "Year": 2012
         },
         {
          "Date2": "2012-10-06 16:00:00",
          "DateString": "10/06/2012 04:00:00 PM",
          "East": 76,
          "Hour": 16,
          "JulianDay": 3,
          "WeekDay": 5,
          "West": 107,
          "Year": 2012
         },
         {
          "Date2": "2012-10-06 17:00:00",
          "DateString": "10/06/2012 05:00:00 PM",
          "East": 73,
          "Hour": 17,
          "JulianDay": 3,
          "WeekDay": 5,
          "West": 107,
          "Year": 2012
         },
         {
          "Date2": "2012-10-06 18:00:00",
          "DateString": "10/06/2012 06:00:00 PM",
          "East": 55,
          "Hour": 18,
          "JulianDay": 3,
          "WeekDay": 5,
          "West": 41,
          "Year": 2012
         },
         {
          "Date2": "2012-10-06 19:00:00",
          "DateString": "10/06/2012 07:00:00 PM",
          "East": 38,
          "Hour": 19,
          "JulianDay": 3,
          "WeekDay": 5,
          "West": 40,
          "Year": 2012
         },
         {
          "Date2": "2012-10-06 20:00:00",
          "DateString": "10/06/2012 08:00:00 PM",
          "East": 18,
          "Hour": 20,
          "JulianDay": 3,
          "WeekDay": 5,
          "West": 25,
          "Year": 2012
         },
         {
          "Date2": "2012-10-06 21:00:00",
          "DateString": "10/06/2012 09:00:00 PM",
          "East": 15,
          "Hour": 21,
          "JulianDay": 3,
          "WeekDay": 5,
          "West": 18,
          "Year": 2012
         },
         {
          "Date2": "2012-10-06 22:00:00",
          "DateString": "10/06/2012 10:00:00 PM",
          "East": 20,
          "Hour": 22,
          "JulianDay": 3,
          "WeekDay": 5,
          "West": 14,
          "Year": 2012
         },
         {
          "Date2": "2012-10-06 23:00:00",
          "DateString": "10/06/2012 11:00:00 PM",
          "East": 19,
          "Hour": 23,
          "JulianDay": 3,
          "WeekDay": 5,
          "West": 15,
          "Year": 2012
         },
         {
          "Date2": "2012-10-07 00:00:00",
          "DateString": "10/07/2012 12:00:00 AM",
          "East": 5,
          "Hour": 0,
          "JulianDay": 4,
          "WeekDay": 6,
          "West": 6,
          "Year": 2012
         },
         {
          "Date2": "2012-10-07 01:00:00",
          "DateString": "10/07/2012 01:00:00 AM",
          "East": 5,
          "Hour": 1,
          "JulianDay": 4,
          "WeekDay": 6,
          "West": 12,
          "Year": 2012
         },
         {
          "Date2": "2012-10-07 02:00:00",
          "DateString": "10/07/2012 02:00:00 AM",
          "East": 1,
          "Hour": 2,
          "JulianDay": 4,
          "WeekDay": 6,
          "West": 2,
          "Year": 2012
         },
         {
          "Date2": "2012-10-07 03:00:00",
          "DateString": "10/07/2012 03:00:00 AM",
          "East": 2,
          "Hour": 3,
          "JulianDay": 4,
          "WeekDay": 6,
          "West": 4,
          "Year": 2012
         },
         {
          "Date2": "2012-10-07 04:00:00",
          "DateString": "10/07/2012 04:00:00 AM",
          "East": 2,
          "Hour": 4,
          "JulianDay": 4,
          "WeekDay": 6,
          "West": 1,
          "Year": 2012
         },
         {
          "Date2": "2012-10-07 05:00:00",
          "DateString": "10/07/2012 05:00:00 AM",
          "East": 3,
          "Hour": 5,
          "JulianDay": 4,
          "WeekDay": 6,
          "West": 6,
          "Year": 2012
         },
         {
          "Date2": "2012-10-07 06:00:00",
          "DateString": "10/07/2012 06:00:00 AM",
          "East": 8,
          "Hour": 6,
          "JulianDay": 4,
          "WeekDay": 6,
          "West": 9,
          "Year": 2012
         },
         {
          "Date2": "2012-10-07 07:00:00",
          "DateString": "10/07/2012 07:00:00 AM",
          "East": 12,
          "Hour": 7,
          "JulianDay": 4,
          "WeekDay": 6,
          "West": 14,
          "Year": 2012
         },
         {
          "Date2": "2012-10-07 08:00:00",
          "DateString": "10/07/2012 08:00:00 AM",
          "East": 26,
          "Hour": 8,
          "JulianDay": 4,
          "WeekDay": 6,
          "West": 43,
          "Year": 2012
         },
         {
          "Date2": "2012-10-07 09:00:00",
          "DateString": "10/07/2012 09:00:00 AM",
          "East": 36,
          "Hour": 9,
          "JulianDay": 4,
          "WeekDay": 6,
          "West": 67,
          "Year": 2012
         },
         {
          "Date2": "2012-10-07 10:00:00",
          "DateString": "10/07/2012 10:00:00 AM",
          "East": 41,
          "Hour": 10,
          "JulianDay": 4,
          "WeekDay": 6,
          "West": 67,
          "Year": 2012
         },
         {
          "Date2": "2012-10-07 11:00:00",
          "DateString": "10/07/2012 11:00:00 AM",
          "East": 71,
          "Hour": 11,
          "JulianDay": 4,
          "WeekDay": 6,
          "West": 94,
          "Year": 2012
         },
         {
          "Date2": "2012-10-07 12:00:00",
          "DateString": "10/07/2012 12:00:00 PM",
          "East": 91,
          "Hour": 12,
          "JulianDay": 4,
          "WeekDay": 6,
          "West": 100,
          "Year": 2012
         },
         {
          "Date2": "2012-10-07 13:00:00",
          "DateString": "10/07/2012 01:00:00 PM",
          "East": 99,
          "Hour": 13,
          "JulianDay": 4,
          "WeekDay": 6,
          "West": 129,
          "Year": 2012
         },
         {
          "Date2": "2012-10-07 14:00:00",
          "DateString": "10/07/2012 02:00:00 PM",
          "East": 115,
          "Hour": 14,
          "JulianDay": 4,
          "WeekDay": 6,
          "West": 126,
          "Year": 2012
         },
         {
          "Date2": "2012-10-07 15:00:00",
          "DateString": "10/07/2012 03:00:00 PM",
          "East": 109,
          "Hour": 15,
          "JulianDay": 4,
          "WeekDay": 6,
          "West": 122,
          "Year": 2012
         },
         {
          "Date2": "2012-10-07 16:00:00",
          "DateString": "10/07/2012 04:00:00 PM",
          "East": 93,
          "Hour": 16,
          "JulianDay": 4,
          "WeekDay": 6,
          "West": 132,
          "Year": 2012
         },
         {
          "Date2": "2012-10-07 17:00:00",
          "DateString": "10/07/2012 05:00:00 PM",
          "East": 73,
          "Hour": 17,
          "JulianDay": 4,
          "WeekDay": 6,
          "West": 118,
          "Year": 2012
         },
         {
          "Date2": "2012-10-07 18:00:00",
          "DateString": "10/07/2012 06:00:00 PM",
          "East": 45,
          "Hour": 18,
          "JulianDay": 4,
          "WeekDay": 6,
          "West": 68,
          "Year": 2012
         },
         {
          "Date2": "2012-10-07 19:00:00",
          "DateString": "10/07/2012 07:00:00 PM",
          "East": 23,
          "Hour": 19,
          "JulianDay": 4,
          "WeekDay": 6,
          "West": 26,
          "Year": 2012
         },
         {
          "Date2": "2012-10-07 20:00:00",
          "DateString": "10/07/2012 08:00:00 PM",
          "East": 36,
          "Hour": 20,
          "JulianDay": 4,
          "WeekDay": 6,
          "West": 19,
          "Year": 2012
         },
         {
          "Date2": "2012-10-07 21:00:00",
          "DateString": "10/07/2012 09:00:00 PM",
          "East": 35,
          "Hour": 21,
          "JulianDay": 4,
          "WeekDay": 6,
          "West": 12,
          "Year": 2012
         },
         {
          "Date2": "2012-10-07 22:00:00",
          "DateString": "10/07/2012 10:00:00 PM",
          "East": 9,
          "Hour": 22,
          "JulianDay": 4,
          "WeekDay": 6,
          "West": 9,
          "Year": 2012
         },
         {
          "Date2": "2012-10-07 23:00:00",
          "DateString": "10/07/2012 11:00:00 PM",
          "East": 11,
          "Hour": 23,
          "JulianDay": 4,
          "WeekDay": 6,
          "West": 5,
          "Year": 2012
         },
         {
          "Date2": "2012-10-08 00:00:00",
          "DateString": "10/08/2012 12:00:00 AM",
          "East": 5,
          "Hour": 0,
          "JulianDay": 5,
          "WeekDay": 0,
          "West": 4,
          "Year": 2012
         },
         {
          "Date2": "2012-10-08 01:00:00",
          "DateString": "10/08/2012 01:00:00 AM",
          "East": 2,
          "Hour": 1,
          "JulianDay": 5,
          "WeekDay": 0,
          "West": 2,
          "Year": 2012
         },
         {
          "Date2": "2012-10-08 02:00:00",
          "DateString": "10/08/2012 02:00:00 AM",
          "East": 0,
          "Hour": 2,
          "JulianDay": 5,
          "WeekDay": 0,
          "West": 5,
          "Year": 2012
         },
         {
          "Date2": "2012-10-08 03:00:00",
          "DateString": "10/08/2012 03:00:00 AM",
          "East": 4,
          "Hour": 3,
          "JulianDay": 5,
          "WeekDay": 0,
          "West": 1,
          "Year": 2012
         },
         {
          "Date2": "2012-10-08 04:00:00",
          "DateString": "10/08/2012 04:00:00 AM",
          "East": 2,
          "Hour": 4,
          "JulianDay": 5,
          "WeekDay": 0,
          "West": 3,
          "Year": 2012
         },
         {
          "Date2": "2012-10-08 05:00:00",
          "DateString": "10/08/2012 05:00:00 AM",
          "East": 7,
          "Hour": 5,
          "JulianDay": 5,
          "WeekDay": 0,
          "West": 16,
          "Year": 2012
         },
         {
          "Date2": "2012-10-08 06:00:00",
          "DateString": "10/08/2012 06:00:00 AM",
          "East": 48,
          "Hour": 6,
          "JulianDay": 5,
          "WeekDay": 0,
          "West": 89,
          "Year": 2012
         },
         {
          "Date2": "2012-10-08 07:00:00",
          "DateString": "10/08/2012 07:00:00 AM",
          "East": 94,
          "Hour": 7,
          "JulianDay": 5,
          "WeekDay": 0,
          "West": 233,
          "Year": 2012
         },
         {
          "Date2": "2012-10-08 08:00:00",
          "DateString": "10/08/2012 08:00:00 AM",
          "East": 153,
          "Hour": 8,
          "JulianDay": 5,
          "WeekDay": 0,
          "West": 304,
          "Year": 2012
         },
         {
          "Date2": "2012-10-08 09:00:00",
          "DateString": "10/08/2012 09:00:00 AM",
          "East": 104,
          "Hour": 9,
          "JulianDay": 5,
          "WeekDay": 0,
          "West": 174,
          "Year": 2012
         },
         {
          "Date2": "2012-10-08 10:00:00",
          "DateString": "10/08/2012 10:00:00 AM",
          "East": 44,
          "Hour": 10,
          "JulianDay": 5,
          "WeekDay": 0,
          "West": 53,
          "Year": 2012
         },
         {
          "Date2": "2012-10-08 11:00:00",
          "DateString": "10/08/2012 11:00:00 AM",
          "East": 44,
          "Hour": 11,
          "JulianDay": 5,
          "WeekDay": 0,
          "West": 55,
          "Year": 2012
         },
         {
          "Date2": "2012-10-08 12:00:00",
          "DateString": "10/08/2012 12:00:00 PM",
          "East": 55,
          "Hour": 12,
          "JulianDay": 5,
          "WeekDay": 0,
          "West": 53,
          "Year": 2012
         },
         {
          "Date2": "2012-10-08 13:00:00",
          "DateString": "10/08/2012 01:00:00 PM",
          "East": 44,
          "Hour": 13,
          "JulianDay": 5,
          "WeekDay": 0,
          "West": 52,
          "Year": 2012
         },
         {
          "Date2": "2012-10-08 14:00:00",
          "DateString": "10/08/2012 02:00:00 PM",
          "East": 62,
          "Hour": 14,
          "JulianDay": 5,
          "WeekDay": 0,
          "West": 59,
          "Year": 2012
         },
         {
          "Date2": "2012-10-08 15:00:00",
          "DateString": "10/08/2012 03:00:00 PM",
          "East": 75,
          "Hour": 15,
          "JulianDay": 5,
          "WeekDay": 0,
          "West": 92,
          "Year": 2012
         },
         {
          "Date2": "2012-10-08 16:00:00",
          "DateString": "10/08/2012 04:00:00 PM",
          "East": 135,
          "Hour": 16,
          "JulianDay": 5,
          "WeekDay": 0,
          "West": 117,
          "Year": 2012
         },
         {
          "Date2": "2012-10-08 17:00:00",
          "DateString": "10/08/2012 05:00:00 PM",
          "East": 390,
          "Hour": 17,
          "JulianDay": 5,
          "WeekDay": 0,
          "West": 214,
          "Year": 2012
         },
         {
          "Date2": "2012-10-08 18:00:00",
          "DateString": "10/08/2012 06:00:00 PM",
          "East": 226,
          "Hour": 18,
          "JulianDay": 5,
          "WeekDay": 0,
          "West": 139,
          "Year": 2012
         },
         {
          "Date2": "2012-10-08 19:00:00",
          "DateString": "10/08/2012 07:00:00 PM",
          "East": 95,
          "Hour": 19,
          "JulianDay": 5,
          "WeekDay": 0,
          "West": 73,
          "Year": 2012
         },
         {
          "Date2": "2012-10-08 20:00:00",
          "DateString": "10/08/2012 08:00:00 PM",
          "East": 57,
          "Hour": 20,
          "JulianDay": 5,
          "WeekDay": 0,
          "West": 37,
          "Year": 2012
         },
         {
          "Date2": "2012-10-08 21:00:00",
          "DateString": "10/08/2012 09:00:00 PM",
          "East": 35,
          "Hour": 21,
          "JulianDay": 5,
          "WeekDay": 0,
          "West": 28,
          "Year": 2012
         },
         {
          "Date2": "2012-10-08 22:00:00",
          "DateString": "10/08/2012 10:00:00 PM",
          "East": 14,
          "Hour": 22,
          "JulianDay": 5,
          "WeekDay": 0,
          "West": 15,
          "Year": 2012
         },
         {
          "Date2": "2012-10-08 23:00:00",
          "DateString": "10/08/2012 11:00:00 PM",
          "East": 13,
          "Hour": 23,
          "JulianDay": 5,
          "WeekDay": 0,
          "West": 11,
          "Year": 2012
         },
         {
          "Date2": "2012-10-09 00:00:00",
          "DateString": "10/09/2012 12:00:00 AM",
          "East": 4,
          "Hour": 0,
          "JulianDay": 6,
          "WeekDay": 1,
          "West": 8,
          "Year": 2012
         },
         {
          "Date2": "2012-10-09 01:00:00",
          "DateString": "10/09/2012 01:00:00 AM",
          "East": 2,
          "Hour": 1,
          "JulianDay": 6,
          "WeekDay": 1,
          "West": 1,
          "Year": 2012
         },
         {
          "Date2": "2012-10-09 02:00:00",
          "DateString": "10/09/2012 02:00:00 AM",
          "East": 2,
          "Hour": 2,
          "JulianDay": 6,
          "WeekDay": 1,
          "West": 2,
          "Year": 2012
         },
         {
          "Date2": "2012-10-09 03:00:00",
          "DateString": "10/09/2012 03:00:00 AM",
          "East": 3,
          "Hour": 3,
          "JulianDay": 6,
          "WeekDay": 1,
          "West": 5,
          "Year": 2012
         },
         {
          "Date2": "2012-10-09 04:00:00",
          "DateString": "10/09/2012 04:00:00 AM",
          "East": 5,
          "Hour": 4,
          "JulianDay": 6,
          "WeekDay": 1,
          "West": 4,
          "Year": 2012
         },
         {
          "Date2": "2012-10-09 05:00:00",
          "DateString": "10/09/2012 05:00:00 AM",
          "East": 9,
          "Hour": 5,
          "JulianDay": 6,
          "WeekDay": 1,
          "West": 22,
          "Year": 2012
         },
         {
          "Date2": "2012-10-09 06:00:00",
          "DateString": "10/09/2012 06:00:00 AM",
          "East": 50,
          "Hour": 6,
          "JulianDay": 6,
          "WeekDay": 1,
          "West": 103,
          "Year": 2012
         },
         {
          "Date2": "2012-10-09 07:00:00",
          "DateString": "10/09/2012 07:00:00 AM",
          "East": 110,
          "Hour": 7,
          "JulianDay": 6,
          "WeekDay": 1,
          "West": 258,
          "Year": 2012
         },
         {
          "Date2": "2012-10-09 08:00:00",
          "DateString": "10/09/2012 08:00:00 AM",
          "East": 145,
          "Hour": 8,
          "JulianDay": 6,
          "WeekDay": 1,
          "West": 317,
          "Year": 2012
         },
         {
          "Date2": "2012-10-09 09:00:00",
          "DateString": "10/09/2012 09:00:00 AM",
          "East": 112,
          "Hour": 9,
          "JulianDay": 6,
          "WeekDay": 1,
          "West": 163,
          "Year": 2012
         },
         {
          "Date2": "2012-10-09 10:00:00",
          "DateString": "10/09/2012 10:00:00 AM",
          "East": 36,
          "Hour": 10,
          "JulianDay": 6,
          "WeekDay": 1,
          "West": 58,
          "Year": 2012
         },
         {
          "Date2": "2012-10-09 11:00:00",
          "DateString": "10/09/2012 11:00:00 AM",
          "East": 45,
          "Hour": 11,
          "JulianDay": 6,
          "WeekDay": 1,
          "West": 29,
          "Year": 2012
         },
         {
          "Date2": "2012-10-09 12:00:00",
          "DateString": "10/09/2012 12:00:00 PM",
          "East": 40,
          "Hour": 12,
          "JulianDay": 6,
          "WeekDay": 1,
          "West": 37,
          "Year": 2012
         },
         {
          "Date2": "2012-10-09 13:00:00",
          "DateString": "10/09/2012 01:00:00 PM",
          "East": 37,
          "Hour": 13,
          "JulianDay": 6,
          "WeekDay": 1,
          "West": 46,
          "Year": 2012
         },
         {
          "Date2": "2012-10-09 14:00:00",
          "DateString": "10/09/2012 02:00:00 PM",
          "East": 54,
          "Hour": 14,
          "JulianDay": 6,
          "WeekDay": 1,
          "West": 54,
          "Year": 2012
         },
         {
          "Date2": "2012-10-09 15:00:00",
          "DateString": "10/09/2012 03:00:00 PM",
          "East": 72,
          "Hour": 15,
          "JulianDay": 6,
          "WeekDay": 1,
          "West": 62,
          "Year": 2012
         },
         {
          "Date2": "2012-10-09 16:00:00",
          "DateString": "10/09/2012 04:00:00 PM",
          "East": 149,
          "Hour": 16,
          "JulianDay": 6,
          "WeekDay": 1,
          "West": 95,
          "Year": 2012
         },
         {
          "Date2": "2012-10-09 17:00:00",
          "DateString": "10/09/2012 05:00:00 PM",
          "East": 400,
          "Hour": 17,
          "JulianDay": 6,
          "WeekDay": 1,
          "West": 197,
          "Year": 2012
         },
         {
          "Date2": "2012-10-09 18:00:00",
          "DateString": "10/09/2012 06:00:00 PM",
          "East": 244,
          "Hour": 18,
          "JulianDay": 6,
          "WeekDay": 1,
          "West": 152,
          "Year": 2012
         },
         {
          "Date2": "2012-10-09 19:00:00",
          "DateString": "10/09/2012 07:00:00 PM",
          "East": 105,
          "Hour": 19,
          "JulianDay": 6,
          "WeekDay": 1,
          "West": 58,
          "Year": 2012
         },
         {
          "Date2": "2012-10-09 20:00:00",
          "DateString": "10/09/2012 08:00:00 PM",
          "East": 53,
          "Hour": 20,
          "JulianDay": 6,
          "WeekDay": 1,
          "West": 32,
          "Year": 2012
         },
         {
          "Date2": "2012-10-09 21:00:00",
          "DateString": "10/09/2012 09:00:00 PM",
          "East": 34,
          "Hour": 21,
          "JulianDay": 6,
          "WeekDay": 1,
          "West": 30,
          "Year": 2012
         },
         {
          "Date2": "2012-10-09 22:00:00",
          "DateString": "10/09/2012 10:00:00 PM",
          "East": 17,
          "Hour": 22,
          "JulianDay": 6,
          "WeekDay": 1,
          "West": 17,
          "Year": 2012
         },
         {
          "Date2": "2012-10-09 23:00:00",
          "DateString": "10/09/2012 11:00:00 PM",
          "East": 14,
          "Hour": 23,
          "JulianDay": 6,
          "WeekDay": 1,
          "West": 9,
          "Year": 2012
         },
         {
          "Date2": "2012-10-10 00:00:00",
          "DateString": "10/10/2012 12:00:00 AM",
          "East": 7,
          "Hour": 0,
          "JulianDay": 7,
          "WeekDay": 2,
          "West": 8,
          "Year": 2012
         },
         {
          "Date2": "2012-10-10 01:00:00",
          "DateString": "10/10/2012 01:00:00 AM",
          "East": 2,
          "Hour": 1,
          "JulianDay": 7,
          "WeekDay": 2,
          "West": 1,
          "Year": 2012
         },
         {
          "Date2": "2012-10-10 02:00:00",
          "DateString": "10/10/2012 02:00:00 AM",
          "East": 0,
          "Hour": 2,
          "JulianDay": 7,
          "WeekDay": 2,
          "West": 3,
          "Year": 2012
         },
         {
          "Date2": "2012-10-10 03:00:00",
          "DateString": "10/10/2012 03:00:00 AM",
          "East": 3,
          "Hour": 3,
          "JulianDay": 7,
          "WeekDay": 2,
          "West": 1,
          "Year": 2012
         },
         {
          "Date2": "2012-10-10 04:00:00",
          "DateString": "10/10/2012 04:00:00 AM",
          "East": 2,
          "Hour": 4,
          "JulianDay": 7,
          "WeekDay": 2,
          "West": 3,
          "Year": 2012
         },
         {
          "Date2": "2012-10-10 05:00:00",
          "DateString": "10/10/2012 05:00:00 AM",
          "East": 9,
          "Hour": 5,
          "JulianDay": 7,
          "WeekDay": 2,
          "West": 16,
          "Year": 2012
         },
         {
          "Date2": "2012-10-10 06:00:00",
          "DateString": "10/10/2012 06:00:00 AM",
          "East": 40,
          "Hour": 6,
          "JulianDay": 7,
          "WeekDay": 2,
          "West": 109,
          "Year": 2012
         },
         {
          "Date2": "2012-10-10 07:00:00",
          "DateString": "10/10/2012 07:00:00 AM",
          "East": 95,
          "Hour": 7,
          "JulianDay": 7,
          "WeekDay": 2,
          "West": 245,
          "Year": 2012
         },
         {
          "Date2": "2012-10-10 08:00:00",
          "DateString": "10/10/2012 08:00:00 AM",
          "East": 133,
          "Hour": 8,
          "JulianDay": 7,
          "WeekDay": 2,
          "West": 302,
          "Year": 2012
         },
         {
          "Date2": "2012-10-10 09:00:00",
          "DateString": "10/10/2012 09:00:00 AM",
          "East": 99,
          "Hour": 9,
          "JulianDay": 7,
          "WeekDay": 2,
          "West": 156,
          "Year": 2012
         },
         {
          "Date2": "2012-10-10 10:00:00",
          "DateString": "10/10/2012 10:00:00 AM",
          "East": 44,
          "Hour": 10,
          "JulianDay": 7,
          "WeekDay": 2,
          "West": 53,
          "Year": 2012
         },
         {
          "Date2": "2012-10-10 11:00:00",
          "DateString": "10/10/2012 11:00:00 AM",
          "East": 21,
          "Hour": 11,
          "JulianDay": 7,
          "WeekDay": 2,
          "West": 34,
          "Year": 2012
         },
         {
          "Date2": "2012-10-10 12:00:00",
          "DateString": "10/10/2012 12:00:00 PM",
          "East": 40,
          "Hour": 12,
          "JulianDay": 7,
          "WeekDay": 2,
          "West": 47,
          "Year": 2012
         },
         {
          "Date2": "2012-10-10 13:00:00",
          "DateString": "10/10/2012 01:00:00 PM",
          "East": 48,
          "Hour": 13,
          "JulianDay": 7,
          "WeekDay": 2,
          "West": 46,
          "Year": 2012
         },
         {
          "Date2": "2012-10-10 14:00:00",
          "DateString": "10/10/2012 02:00:00 PM",
          "East": 39,
          "Hour": 14,
          "JulianDay": 7,
          "WeekDay": 2,
          "West": 54,
          "Year": 2012
         },
         {
          "Date2": "2012-10-10 15:00:00",
          "DateString": "10/10/2012 03:00:00 PM",
          "East": 65,
          "Hour": 15,
          "JulianDay": 7,
          "WeekDay": 2,
          "West": 65,
          "Year": 2012
         },
         {
          "Date2": "2012-10-10 16:00:00",
          "DateString": "10/10/2012 04:00:00 PM",
          "East": 128,
          "Hour": 16,
          "JulianDay": 7,
          "WeekDay": 2,
          "West": 102,
          "Year": 2012
         },
         {
          "Date2": "2012-10-10 17:00:00",
          "DateString": "10/10/2012 05:00:00 PM",
          "East": 377,
          "Hour": 17,
          "JulianDay": 7,
          "WeekDay": 2,
          "West": 155,
          "Year": 2012
         },
         {
          "Date2": "2012-10-10 18:00:00",
          "DateString": "10/10/2012 06:00:00 PM",
          "East": 215,
          "Hour": 18,
          "JulianDay": 7,
          "WeekDay": 2,
          "West": 116,
          "Year": 2012
         },
         {
          "Date2": "2012-10-10 19:00:00",
          "DateString": "10/10/2012 07:00:00 PM",
          "East": 94,
          "Hour": 19,
          "JulianDay": 7,
          "WeekDay": 2,
          "West": 51,
          "Year": 2012
         },
         {
          "Date2": "2012-10-10 20:00:00",
          "DateString": "10/10/2012 08:00:00 PM",
          "East": 56,
          "Hour": 20,
          "JulianDay": 7,
          "WeekDay": 2,
          "West": 30,
          "Year": 2012
         },
         {
          "Date2": "2012-10-10 21:00:00",
          "DateString": "10/10/2012 09:00:00 PM",
          "East": 38,
          "Hour": 21,
          "JulianDay": 7,
          "WeekDay": 2,
          "West": 24,
          "Year": 2012
         },
         {
          "Date2": "2012-10-10 22:00:00",
          "DateString": "10/10/2012 10:00:00 PM",
          "East": 19,
          "Hour": 22,
          "JulianDay": 7,
          "WeekDay": 2,
          "West": 17,
          "Year": 2012
         },
         {
          "Date2": "2012-10-10 23:00:00",
          "DateString": "10/10/2012 11:00:00 PM",
          "East": 13,
          "Hour": 23,
          "JulianDay": 7,
          "WeekDay": 2,
          "West": 10,
          "Year": 2012
         },
         {
          "Date2": "2012-10-11 00:00:00",
          "DateString": "10/11/2012 12:00:00 AM",
          "East": 14,
          "Hour": 0,
          "JulianDay": 8,
          "WeekDay": 3,
          "West": 7,
          "Year": 2012
         },
         {
          "Date2": "2012-10-11 01:00:00",
          "DateString": "10/11/2012 01:00:00 AM",
          "East": 6,
          "Hour": 1,
          "JulianDay": 8,
          "WeekDay": 3,
          "West": 4,
          "Year": 2012
         },
         {
          "Date2": "2012-10-11 02:00:00",
          "DateString": "10/11/2012 02:00:00 AM",
          "East": 5,
          "Hour": 2,
          "JulianDay": 8,
          "WeekDay": 3,
          "West": 8,
          "Year": 2012
         },
         {
          "Date2": "2012-10-11 03:00:00",
          "DateString": "10/11/2012 03:00:00 AM",
          "East": 2,
          "Hour": 3,
          "JulianDay": 8,
          "WeekDay": 3,
          "West": 0,
          "Year": 2012
         },
         {
          "Date2": "2012-10-11 04:00:00",
          "DateString": "10/11/2012 04:00:00 AM",
          "East": 1,
          "Hour": 4,
          "JulianDay": 8,
          "WeekDay": 3,
          "West": 11,
          "Year": 2012
         },
         {
          "Date2": "2012-10-11 05:00:00",
          "DateString": "10/11/2012 05:00:00 AM",
          "East": 12,
          "Hour": 5,
          "JulianDay": 8,
          "WeekDay": 3,
          "West": 0,
          "Year": 2012
         },
         {
          "Date2": "2012-10-11 06:00:00",
          "DateString": "10/11/2012 06:00:00 AM",
          "East": 41,
          "Hour": 6,
          "JulianDay": 8,
          "WeekDay": 3,
          "West": 2,
          "Year": 2012
         },
         {
          "Date2": "2012-10-11 07:00:00",
          "DateString": "10/11/2012 07:00:00 AM",
          "East": 79,
          "Hour": 7,
          "JulianDay": 8,
          "WeekDay": 3,
          "West": 225,
          "Year": 2012
         },
         {
          "Date2": "2012-10-11 08:00:00",
          "DateString": "10/11/2012 08:00:00 AM",
          "East": 122,
          "Hour": 8,
          "JulianDay": 8,
          "WeekDay": 3,
          "West": 282,
          "Year": 2012
         },
         {
          "Date2": "2012-10-11 09:00:00",
          "DateString": "10/11/2012 09:00:00 AM",
          "East": 48,
          "Hour": 9,
          "JulianDay": 8,
          "WeekDay": 3,
          "West": 141,
          "Year": 2012
         },
         {
          "Date2": "2012-10-11 10:00:00",
          "DateString": "10/11/2012 10:00:00 AM",
          "East": 0,
          "Hour": 10,
          "JulianDay": 8,
          "WeekDay": 3,
          "West": 4,
          "Year": 2012
         },
         {
          "Date2": "2012-10-11 11:00:00",
          "DateString": "10/11/2012 11:00:00 AM",
          "East": 5,
          "Hour": 11,
          "JulianDay": 8,
          "WeekDay": 3,
          "West": 87,
          "Year": 2012
         },
         {
          "Date2": "2012-10-11 12:00:00",
          "DateString": "10/11/2012 12:00:00 PM",
          "East": 37,
          "Hour": 12,
          "JulianDay": 8,
          "WeekDay": 3,
          "West": 44,
          "Year": 2012
         },
         {
          "Date2": "2012-10-11 13:00:00",
          "DateString": "10/11/2012 01:00:00 PM",
          "East": 58,
          "Hour": 13,
          "JulianDay": 8,
          "WeekDay": 3,
          "West": 60,
          "Year": 2012
         },
         {
          "Date2": "2012-10-11 14:00:00",
          "DateString": "10/11/2012 02:00:00 PM",
          "East": 56,
          "Hour": 14,
          "JulianDay": 8,
          "WeekDay": 3,
          "West": 52,
          "Year": 2012
         },
         {
          "Date2": "2012-10-11 15:00:00",
          "DateString": "10/11/2012 03:00:00 PM",
          "East": 69,
          "Hour": 15,
          "JulianDay": 8,
          "WeekDay": 3,
          "West": 74,
          "Year": 2012
         },
         {
          "Date2": "2012-10-11 16:00:00",
          "DateString": "10/11/2012 04:00:00 PM",
          "East": 135,
          "Hour": 16,
          "JulianDay": 8,
          "WeekDay": 3,
          "West": 135,
          "Year": 2012
         },
         {
          "Date2": "2012-10-11 17:00:00",
          "DateString": "10/11/2012 05:00:00 PM",
          "East": 360,
          "Hour": 17,
          "JulianDay": 8,
          "WeekDay": 3,
          "West": 157,
          "Year": 2012
         },
         {
          "Date2": "2012-10-11 18:00:00",
          "DateString": "10/11/2012 06:00:00 PM",
          "East": 186,
          "Hour": 18,
          "JulianDay": 8,
          "WeekDay": 3,
          "West": 113,
          "Year": 2012
         },
         {
          "Date2": "2012-10-11 19:00:00",
          "DateString": "10/11/2012 07:00:00 PM",
          "East": 92,
          "Hour": 19,
          "JulianDay": 8,
          "WeekDay": 3,
          "West": 57,
          "Year": 2012
         },
         {
          "Date2": "2012-10-11 20:00:00",
          "DateString": "10/11/2012 08:00:00 PM",
          "East": 60,
          "Hour": 20,
          "JulianDay": 8,
          "WeekDay": 3,
          "West": 44,
          "Year": 2012
         },
         {
          "Date2": "2012-10-11 21:00:00",
          "DateString": "10/11/2012 09:00:00 PM",
          "East": 45,
          "Hour": 21,
          "JulianDay": 8,
          "WeekDay": 3,
          "West": 26,
          "Year": 2012
         },
         {
          "Date2": "2012-10-11 22:00:00",
          "DateString": "10/11/2012 10:00:00 PM",
          "East": 19,
          "Hour": 22,
          "JulianDay": 8,
          "WeekDay": 3,
          "West": 29,
          "Year": 2012
         },
         {
          "Date2": "2012-10-11 23:00:00",
          "DateString": "10/11/2012 11:00:00 PM",
          "East": 16,
          "Hour": 23,
          "JulianDay": 8,
          "WeekDay": 3,
          "West": 17,
          "Year": 2012
         },
         {
          "Date2": "2012-10-12 00:00:00",
          "DateString": "10/12/2012 12:00:00 AM",
          "East": 9,
          "Hour": 0,
          "JulianDay": 9,
          "WeekDay": 4,
          "West": 8,
          "Year": 2012
         },
         {
          "Date2": "2012-10-12 01:00:00",
          "DateString": "10/12/2012 01:00:00 AM",
          "East": 6,
          "Hour": 1,
          "JulianDay": 9,
          "WeekDay": 4,
          "West": 7,
          "Year": 2012
         },
         {
          "Date2": "2012-10-12 02:00:00",
          "DateString": "10/12/2012 02:00:00 AM",
          "East": 1,
          "Hour": 2,
          "JulianDay": 9,
          "WeekDay": 4,
          "West": 4,
          "Year": 2012
         },
         {
          "Date2": "2012-10-12 03:00:00",
          "DateString": "10/12/2012 03:00:00 AM",
          "East": 3,
          "Hour": 3,
          "JulianDay": 9,
          "WeekDay": 4,
          "West": 4,
          "Year": 2012
         },
         {
          "Date2": "2012-10-12 04:00:00",
          "DateString": "10/12/2012 04:00:00 AM",
          "East": 3,
          "Hour": 4,
          "JulianDay": 9,
          "WeekDay": 4,
          "West": 2,
          "Year": 2012
         },
         {
          "Date2": "2012-10-12 05:00:00",
          "DateString": "10/12/2012 05:00:00 AM",
          "East": 4,
          "Hour": 5,
          "JulianDay": 9,
          "WeekDay": 4,
          "West": 10,
          "Year": 2012
         },
         {
          "Date2": "2012-10-12 06:00:00",
          "DateString": "10/12/2012 06:00:00 AM",
          "East": 30,
          "Hour": 6,
          "JulianDay": 9,
          "WeekDay": 4,
          "West": 57,
          "Year": 2012
         },
         {
          "Date2": "2012-10-12 07:00:00",
          "DateString": "10/12/2012 07:00:00 AM",
          "East": 58,
          "Hour": 7,
          "JulianDay": 9,
          "WeekDay": 4,
          "West": 125,
          "Year": 2012
         },
         {
          "Date2": "2012-10-12 08:00:00",
          "DateString": "10/12/2012 08:00:00 AM",
          "East": 86,
          "Hour": 8,
          "JulianDay": 9,
          "WeekDay": 4,
          "West": 182,
          "Year": 2012
         },
         {
          "Date2": "2012-10-12 09:00:00",
          "DateString": "10/12/2012 09:00:00 AM",
          "East": 45,
          "Hour": 9,
          "JulianDay": 9,
          "WeekDay": 4,
          "West": 100,
          "Year": 2012
         },
         {
          "Date2": "2012-10-12 10:00:00",
          "DateString": "10/12/2012 10:00:00 AM",
          "East": 29,
          "Hour": 10,
          "JulianDay": 9,
          "WeekDay": 4,
          "West": 33,
          "Year": 2012
         },
         {
          "Date2": "2012-10-12 11:00:00",
          "DateString": "10/12/2012 11:00:00 AM",
          "East": 31,
          "Hour": 11,
          "JulianDay": 9,
          "WeekDay": 4,
          "West": 27,
          "Year": 2012
         },
         {
          "Date2": "2012-10-12 12:00:00",
          "DateString": "10/12/2012 12:00:00 PM",
          "East": 28,
          "Hour": 12,
          "JulianDay": 9,
          "WeekDay": 4,
          "West": 41,
          "Year": 2012
         },
         {
          "Date2": "2012-10-12 13:00:00",
          "DateString": "10/12/2012 01:00:00 PM",
          "East": 33,
          "Hour": 13,
          "JulianDay": 9,
          "WeekDay": 4,
          "West": 39,
          "Year": 2012
         },
         {
          "Date2": "2012-10-12 14:00:00",
          "DateString": "10/12/2012 02:00:00 PM",
          "East": 30,
          "Hour": 14,
          "JulianDay": 9,
          "WeekDay": 4,
          "West": 35,
          "Year": 2012
         },
         {
          "Date2": "2012-10-12 15:00:00",
          "DateString": "10/12/2012 03:00:00 PM",
          "East": 63,
          "Hour": 15,
          "JulianDay": 9,
          "WeekDay": 4,
          "West": 50,
          "Year": 2012
         },
         {
          "Date2": "2012-10-12 16:00:00",
          "DateString": "10/12/2012 04:00:00 PM",
          "East": 96,
          "Hour": 16,
          "JulianDay": 9,
          "WeekDay": 4,
          "West": 69,
          "Year": 2012
         },
         {
          "Date2": "2012-10-12 17:00:00",
          "DateString": "10/12/2012 05:00:00 PM",
          "East": 212,
          "Hour": 17,
          "JulianDay": 9,
          "WeekDay": 4,
          "West": 92,
          "Year": 2012
         },
         {
          "Date2": "2012-10-12 18:00:00",
          "DateString": "10/12/2012 06:00:00 PM",
          "East": 112,
          "Hour": 18,
          "JulianDay": 9,
          "WeekDay": 4,
          "West": 66,
          "Year": 2012
         },
         {
          "Date2": "2012-10-12 19:00:00",
          "DateString": "10/12/2012 07:00:00 PM",
          "East": 49,
          "Hour": 19,
          "JulianDay": 9,
          "WeekDay": 4,
          "West": 30,
          "Year": 2012
         },
         {
          "Date2": "2012-10-12 20:00:00",
          "DateString": "10/12/2012 08:00:00 PM",
          "East": 27,
          "Hour": 20,
          "JulianDay": 9,
          "WeekDay": 4,
          "West": 11,
          "Year": 2012
         },
         {
          "Date2": "2012-10-12 21:00:00",
          "DateString": "10/12/2012 09:00:00 PM",
          "East": 16,
          "Hour": 21,
          "JulianDay": 9,
          "WeekDay": 4,
          "West": 10,
          "Year": 2012
         },
         {
          "Date2": "2012-10-12 22:00:00",
          "DateString": "10/12/2012 10:00:00 PM",
          "East": 3,
          "Hour": 22,
          "JulianDay": 9,
          "WeekDay": 4,
          "West": 11,
          "Year": 2012
         },
         {
          "Date2": "2012-10-12 23:00:00",
          "DateString": "10/12/2012 11:00:00 PM",
          "East": 15,
          "Hour": 23,
          "JulianDay": 9,
          "WeekDay": 4,
          "West": 9,
          "Year": 2012
         },
         {
          "Date2": "2012-10-13 00:00:00",
          "DateString": "10/13/2012 12:00:00 AM",
          "East": 12,
          "Hour": 0,
          "JulianDay": 10,
          "WeekDay": 5,
          "West": 6,
          "Year": 2012
         },
         {
          "Date2": "2012-10-13 01:00:00",
          "DateString": "10/13/2012 01:00:00 AM",
          "East": 6,
          "Hour": 1,
          "JulianDay": 10,
          "WeekDay": 5,
          "West": 5,
          "Year": 2012
         },
         {
          "Date2": "2012-10-13 02:00:00",
          "DateString": "10/13/2012 02:00:00 AM",
          "East": 6,
          "Hour": 2,
          "JulianDay": 10,
          "WeekDay": 5,
          "West": 10,
          "Year": 2012
         },
         {
          "Date2": "2012-10-13 03:00:00",
          "DateString": "10/13/2012 03:00:00 AM",
          "East": 0,
          "Hour": 3,
          "JulianDay": 10,
          "WeekDay": 5,
          "West": 4,
          "Year": 2012
         },
         {
          "Date2": "2012-10-13 04:00:00",
          "DateString": "10/13/2012 04:00:00 AM",
          "East": 2,
          "Hour": 4,
          "JulianDay": 10,
          "WeekDay": 5,
          "West": 1,
          "Year": 2012
         },
         {
          "Date2": "2012-10-13 05:00:00",
          "DateString": "10/13/2012 05:00:00 AM",
          "East": 3,
          "Hour": 5,
          "JulianDay": 10,
          "WeekDay": 5,
          "West": 7,
          "Year": 2012
         },
         {
          "Date2": "2012-10-13 06:00:00",
          "DateString": "10/13/2012 06:00:00 AM",
          "East": 5,
          "Hour": 6,
          "JulianDay": 10,
          "WeekDay": 5,
          "West": 9,
          "Year": 2012
         },
         {
          "Date2": "2012-10-13 07:00:00",
          "DateString": "10/13/2012 07:00:00 AM",
          "East": 13,
          "Hour": 7,
          "JulianDay": 10,
          "WeekDay": 5,
          "West": 17,
          "Year": 2012
         },
         {
          "Date2": "2012-10-13 08:00:00",
          "DateString": "10/13/2012 08:00:00 AM",
          "East": 8,
          "Hour": 8,
          "JulianDay": 10,
          "WeekDay": 5,
          "West": 24,
          "Year": 2012
         },
         {
          "Date2": "2012-10-13 09:00:00",
          "DateString": "10/13/2012 09:00:00 AM",
          "East": 20,
          "Hour": 9,
          "JulianDay": 10,
          "WeekDay": 5,
          "West": 21,
          "Year": 2012
         },
         {
          "Date2": "2012-10-13 10:00:00",
          "DateString": "10/13/2012 10:00:00 AM",
          "East": 17,
          "Hour": 10,
          "JulianDay": 10,
          "WeekDay": 5,
          "West": 29,
          "Year": 2012
         },
         {
          "Date2": "2012-10-13 11:00:00",
          "DateString": "10/13/2012 11:00:00 AM",
          "East": 14,
          "Hour": 11,
          "JulianDay": 10,
          "WeekDay": 5,
          "West": 28,
          "Year": 2012
         },
         {
          "Date2": "2012-10-13 12:00:00",
          "DateString": "10/13/2012 12:00:00 PM",
          "East": 24,
          "Hour": 12,
          "JulianDay": 10,
          "WeekDay": 5,
          "West": 48,
          "Year": 2012
         },
         {
          "Date2": "2012-10-13 13:00:00",
          "DateString": "10/13/2012 01:00:00 PM",
          "East": 26,
          "Hour": 13,
          "JulianDay": 10,
          "WeekDay": 5,
          "West": 38,
          "Year": 2012
         },
         {
          "Date2": "2012-10-13 14:00:00",
          "DateString": "10/13/2012 02:00:00 PM",
          "East": 32,
          "Hour": 14,
          "JulianDay": 10,
          "WeekDay": 5,
          "West": 30,
          "Year": 2012
         },
         {
          "Date2": "2012-10-13 15:00:00",
          "DateString": "10/13/2012 03:00:00 PM",
          "East": 20,
          "Hour": 15,
          "JulianDay": 10,
          "WeekDay": 5,
          "West": 21,
          "Year": 2012
         },
         {
          "Date2": "2012-10-13 16:00:00",
          "DateString": "10/13/2012 04:00:00 PM",
          "East": 32,
          "Hour": 16,
          "JulianDay": 10,
          "WeekDay": 5,
          "West": 26,
          "Year": 2012
         },
         {
          "Date2": "2012-10-13 17:00:00",
          "DateString": "10/13/2012 05:00:00 PM",
          "East": 25,
          "Hour": 17,
          "JulianDay": 10,
          "WeekDay": 5,
          "West": 25,
          "Year": 2012
         },
         {
          "Date2": "2012-10-13 18:00:00",
          "DateString": "10/13/2012 06:00:00 PM",
          "East": 24,
          "Hour": 18,
          "JulianDay": 10,
          "WeekDay": 5,
          "West": 35,
          "Year": 2012
         },
         {
          "Date2": "2012-10-13 19:00:00",
          "DateString": "10/13/2012 07:00:00 PM",
          "East": 17,
          "Hour": 19,
          "JulianDay": 10,
          "WeekDay": 5,
          "West": 10,
          "Year": 2012
         },
         {
          "Date2": "2012-10-13 20:00:00",
          "DateString": "10/13/2012 08:00:00 PM",
          "East": 10,
          "Hour": 20,
          "JulianDay": 10,
          "WeekDay": 5,
          "West": 9,
          "Year": 2012
         },
         {
          "Date2": "2012-10-13 21:00:00",
          "DateString": "10/13/2012 09:00:00 PM",
          "East": 6,
          "Hour": 21,
          "JulianDay": 10,
          "WeekDay": 5,
          "West": 4,
          "Year": 2012
         },
         {
          "Date2": "2012-10-13 22:00:00",
          "DateString": "10/13/2012 10:00:00 PM",
          "East": 14,
          "Hour": 22,
          "JulianDay": 10,
          "WeekDay": 5,
          "West": 4,
          "Year": 2012
         },
         {
          "Date2": "2012-10-13 23:00:00",
          "DateString": "10/13/2012 11:00:00 PM",
          "East": 15,
          "Hour": 23,
          "JulianDay": 10,
          "WeekDay": 5,
          "West": 4,
          "Year": 2012
         },
         {
          "Date2": "2012-10-14 00:00:00",
          "DateString": "10/14/2012 12:00:00 AM",
          "East": 3,
          "Hour": 0,
          "JulianDay": 11,
          "WeekDay": 6,
          "West": 3,
          "Year": 2012
         },
         {
          "Date2": "2012-10-14 01:00:00",
          "DateString": "10/14/2012 01:00:00 AM",
          "East": 4,
          "Hour": 1,
          "JulianDay": 11,
          "WeekDay": 6,
          "West": 5,
          "Year": 2012
         },
         {
          "Date2": "2012-10-14 02:00:00",
          "DateString": "10/14/2012 02:00:00 AM",
          "East": 4,
          "Hour": 2,
          "JulianDay": 11,
          "WeekDay": 6,
          "West": 4,
          "Year": 2012
         },
         {
          "Date2": "2012-10-14 03:00:00",
          "DateString": "10/14/2012 03:00:00 AM",
          "East": 0,
          "Hour": 3,
          "JulianDay": 11,
          "WeekDay": 6,
          "West": 4,
          "Year": 2012
         },
         {
          "Date2": "2012-10-14 04:00:00",
          "DateString": "10/14/2012 04:00:00 AM",
          "East": 1,
          "Hour": 4,
          "JulianDay": 11,
          "WeekDay": 6,
          "West": 4,
          "Year": 2012
         },
         {
          "Date2": "2012-10-14 05:00:00",
          "DateString": "10/14/2012 05:00:00 AM",
          "East": 0,
          "Hour": 5,
          "JulianDay": 11,
          "WeekDay": 6,
          "West": 3,
          "Year": 2012
         },
         {
          "Date2": "2012-10-14 06:00:00",
          "DateString": "10/14/2012 06:00:00 AM",
          "East": 7,
          "Hour": 6,
          "JulianDay": 11,
          "WeekDay": 6,
          "West": 5,
          "Year": 2012
         },
         {
          "Date2": "2012-10-14 07:00:00",
          "DateString": "10/14/2012 07:00:00 AM",
          "East": 4,
          "Hour": 7,
          "JulianDay": 11,
          "WeekDay": 6,
          "West": 10,
          "Year": 2012
         },
         {
          "Date2": "2012-10-14 08:00:00",
          "DateString": "10/14/2012 08:00:00 AM",
          "East": 8,
          "Hour": 8,
          "JulianDay": 11,
          "WeekDay": 6,
          "West": 16,
          "Year": 2012
         },
         {
          "Date2": "2012-10-14 09:00:00",
          "DateString": "10/14/2012 09:00:00 AM",
          "East": 26,
          "Hour": 9,
          "JulianDay": 11,
          "WeekDay": 6,
          "West": 28,
          "Year": 2012
         },
         {
          "Date2": "2012-10-14 10:00:00",
          "DateString": "10/14/2012 10:00:00 AM",
          "East": 25,
          "Hour": 10,
          "JulianDay": 11,
          "WeekDay": 6,
          "West": 47,
          "Year": 2012
         },
         {
          "Date2": "2012-10-14 11:00:00",
          "DateString": "10/14/2012 11:00:00 AM",
          "East": 18,
          "Hour": 11,
          "JulianDay": 11,
          "WeekDay": 6,
          "West": 63,
          "Year": 2012
         },
         {
          "Date2": "2012-10-14 12:00:00",
          "DateString": "10/14/2012 12:00:00 PM",
          "East": 22,
          "Hour": 12,
          "JulianDay": 11,
          "WeekDay": 6,
          "West": 40,
          "Year": 2012
         },
         {
          "Date2": "2012-10-14 13:00:00",
          "DateString": "10/14/2012 01:00:00 PM",
          "East": 33,
          "Hour": 13,
          "JulianDay": 11,
          "WeekDay": 6,
          "West": 49,
          "Year": 2012
         },
         {
          "Date2": "2012-10-14 14:00:00",
          "DateString": "10/14/2012 02:00:00 PM",
          "East": 30,
          "Hour": 14,
          "JulianDay": 11,
          "WeekDay": 6,
          "West": 28,
          "Year": 2012
         },
         {
          "Date2": "2012-10-14 15:00:00",
          "DateString": "10/14/2012 03:00:00 PM",
          "East": 15,
          "Hour": 15,
          "JulianDay": 11,
          "WeekDay": 6,
          "West": 22,
          "Year": 2012
         },
         {
          "Date2": "2012-10-14 16:00:00",
          "DateString": "10/14/2012 04:00:00 PM",
          "East": 16,
          "Hour": 16,
          "JulianDay": 11,
          "WeekDay": 6,
          "West": 18,
          "Year": 2012
         },
         {
          "Date2": "2012-10-14 17:00:00",
          "DateString": "10/14/2012 05:00:00 PM",
          "East": 10,
          "Hour": 17,
          "JulianDay": 11,
          "WeekDay": 6,
          "West": 27,
          "Year": 2012
         },
         {
          "Date2": "2012-10-14 18:00:00",
          "DateString": "10/14/2012 06:00:00 PM",
          "East": 9,
          "Hour": 18,
          "JulianDay": 11,
          "WeekDay": 6,
          "West": 18,
          "Year": 2012
         },
         {
          "Date2": "2012-10-14 19:00:00",
          "DateString": "10/14/2012 07:00:00 PM",
          "East": 13,
          "Hour": 19,
          "JulianDay": 11,
          "WeekDay": 6,
          "West": 10,
          "Year": 2012
         },
         {
          "Date2": "2012-10-14 20:00:00",
          "DateString": "10/14/2012 08:00:00 PM",
          "East": 6,
          "Hour": 20,
          "JulianDay": 11,
          "WeekDay": 6,
          "West": 5,
          "Year": 2012
         },
         {
          "Date2": "2012-10-14 21:00:00",
          "DateString": "10/14/2012 09:00:00 PM",
          "East": 4,
          "Hour": 21,
          "JulianDay": 11,
          "WeekDay": 6,
          "West": 8,
          "Year": 2012
         },
         {
          "Date2": "2012-10-14 22:00:00",
          "DateString": "10/14/2012 10:00:00 PM",
          "East": 6,
          "Hour": 22,
          "JulianDay": 11,
          "WeekDay": 6,
          "West": 7,
          "Year": 2012
         },
         {
          "Date2": "2012-10-14 23:00:00",
          "DateString": "10/14/2012 11:00:00 PM",
          "East": 7,
          "Hour": 23,
          "JulianDay": 11,
          "WeekDay": 6,
          "West": 3,
          "Year": 2012
         },
         {
          "Date2": "2012-10-15 00:00:00",
          "DateString": "10/15/2012 12:00:00 AM",
          "East": 5,
          "Hour": 0,
          "JulianDay": 12,
          "WeekDay": 0,
          "West": 2,
          "Year": 2012
         },
         {
          "Date2": "2012-10-15 01:00:00",
          "DateString": "10/15/2012 01:00:00 AM",
          "East": 1,
          "Hour": 1,
          "JulianDay": 12,
          "WeekDay": 0,
          "West": 2,
          "Year": 2012
         },
         {
          "Date2": "2012-10-15 02:00:00",
          "DateString": "10/15/2012 02:00:00 AM",
          "East": 1,
          "Hour": 2,
          "JulianDay": 12,
          "WeekDay": 0,
          "West": 4,
          "Year": 2012
         },
         {
          "Date2": "2012-10-15 03:00:00",
          "DateString": "10/15/2012 03:00:00 AM",
          "East": 2,
          "Hour": 3,
          "JulianDay": 12,
          "WeekDay": 0,
          "West": 1,
          "Year": 2012
         },
         {
          "Date2": "2012-10-15 04:00:00",
          "DateString": "10/15/2012 04:00:00 AM",
          "East": 2,
          "Hour": 4,
          "JulianDay": 12,
          "WeekDay": 0,
          "West": 4,
          "Year": 2012
         },
         {
          "Date2": "2012-10-15 05:00:00",
          "DateString": "10/15/2012 05:00:00 AM",
          "East": 7,
          "Hour": 5,
          "JulianDay": 12,
          "WeekDay": 0,
          "West": 19,
          "Year": 2012
         },
         {
          "Date2": "2012-10-15 06:00:00",
          "DateString": "10/15/2012 06:00:00 AM",
          "East": 34,
          "Hour": 6,
          "JulianDay": 12,
          "WeekDay": 0,
          "West": 59,
          "Year": 2012
         },
         {
          "Date2": "2012-10-15 07:00:00",
          "DateString": "10/15/2012 07:00:00 AM",
          "East": 58,
          "Hour": 7,
          "JulianDay": 12,
          "WeekDay": 0,
          "West": 167,
          "Year": 2012
         },
         {
          "Date2": "2012-10-15 08:00:00",
          "DateString": "10/15/2012 08:00:00 AM",
          "East": 92,
          "Hour": 8,
          "JulianDay": 12,
          "WeekDay": 0,
          "West": 235,
          "Year": 2012
         },
         {
          "Date2": "2012-10-15 09:00:00",
          "DateString": "10/15/2012 09:00:00 AM",
          "East": 73,
          "Hour": 9,
          "JulianDay": 12,
          "WeekDay": 0,
          "West": 130,
          "Year": 2012
         },
         {
          "Date2": "2012-10-15 10:00:00",
          "DateString": "10/15/2012 10:00:00 AM",
          "East": 29,
          "Hour": 10,
          "JulianDay": 12,
          "WeekDay": 0,
          "West": 57,
          "Year": 2012
         },
         {
          "Date2": "2012-10-15 11:00:00",
          "DateString": "10/15/2012 11:00:00 AM",
          "East": 21,
          "Hour": 11,
          "JulianDay": 12,
          "WeekDay": 0,
          "West": 45,
          "Year": 2012
         },
         {
          "Date2": "2012-10-15 12:00:00",
          "DateString": "10/15/2012 12:00:00 PM",
          "East": 38,
          "Hour": 12,
          "JulianDay": 12,
          "WeekDay": 0,
          "West": 46,
          "Year": 2012
         },
         {
          "Date2": "2012-10-15 13:00:00",
          "DateString": "10/15/2012 01:00:00 PM",
          "East": 29,
          "Hour": 13,
          "JulianDay": 12,
          "WeekDay": 0,
          "West": 42,
          "Year": 2012
         },
         {
          "Date2": "2012-10-15 14:00:00",
          "DateString": "10/15/2012 02:00:00 PM",
          "East": 33,
          "Hour": 14,
          "JulianDay": 12,
          "WeekDay": 0,
          "West": 40,
          "Year": 2012
         },
         {
          "Date2": "2012-10-15 15:00:00",
          "DateString": "10/15/2012 03:00:00 PM",
          "East": 58,
          "Hour": 15,
          "JulianDay": 12,
          "WeekDay": 0,
          "West": 49,
          "Year": 2012
         },
         {
          "Date2": "2012-10-15 16:00:00",
          "DateString": "10/15/2012 04:00:00 PM",
          "East": 76,
          "Hour": 16,
          "JulianDay": 12,
          "WeekDay": 0,
          "West": 64,
          "Year": 2012
         },
         {
          "Date2": "2012-10-15 17:00:00",
          "DateString": "10/15/2012 05:00:00 PM",
          "East": 239,
          "Hour": 17,
          "JulianDay": 12,
          "WeekDay": 0,
          "West": 96,
          "Year": 2012
         },
         {
          "Date2": "2012-10-15 18:00:00",
          "DateString": "10/15/2012 06:00:00 PM",
          "East": 150,
          "Hour": 18,
          "JulianDay": 12,
          "WeekDay": 0,
          "West": 54,
          "Year": 2012
         },
         {
          "Date2": "2012-10-15 19:00:00",
          "DateString": "10/15/2012 07:00:00 PM",
          "East": 51,
          "Hour": 19,
          "JulianDay": 12,
          "WeekDay": 0,
          "West": 27,
          "Year": 2012
         },
         {
          "Date2": "2012-10-15 20:00:00",
          "DateString": "10/15/2012 08:00:00 PM",
          "East": 38,
          "Hour": 20,
          "JulianDay": 12,
          "WeekDay": 0,
          "West": 17,
          "Year": 2012
         },
         {
          "Date2": "2012-10-15 21:00:00",
          "DateString": "10/15/2012 09:00:00 PM",
          "East": 18,
          "Hour": 21,
          "JulianDay": 12,
          "WeekDay": 0,
          "West": 18,
          "Year": 2012
         },
         {
          "Date2": "2012-10-15 22:00:00",
          "DateString": "10/15/2012 10:00:00 PM",
          "East": 11,
          "Hour": 22,
          "JulianDay": 12,
          "WeekDay": 0,
          "West": 15,
          "Year": 2012
         },
         {
          "Date2": "2012-10-15 23:00:00",
          "DateString": "10/15/2012 11:00:00 PM",
          "East": 7,
          "Hour": 23,
          "JulianDay": 12,
          "WeekDay": 0,
          "West": 7,
          "Year": 2012
         },
         {
          "Date2": "2012-10-16 00:00:00",
          "DateString": "10/16/2012 12:00:00 AM",
          "East": 4,
          "Hour": 0,
          "JulianDay": 13,
          "WeekDay": 1,
          "West": 6,
          "Year": 2012
         },
         {
          "Date2": "2012-10-16 01:00:00",
          "DateString": "10/16/2012 01:00:00 AM",
          "East": 3,
          "Hour": 1,
          "JulianDay": 13,
          "WeekDay": 1,
          "West": 2,
          "Year": 2012
         },
         {
          "Date2": "2012-10-16 02:00:00",
          "DateString": "10/16/2012 02:00:00 AM",
          "East": 0,
          "Hour": 2,
          "JulianDay": 13,
          "WeekDay": 1,
          "West": 3,
          "Year": 2012
         },
         {
          "Date2": "2012-10-16 03:00:00",
          "DateString": "10/16/2012 03:00:00 AM",
          "East": 4,
          "Hour": 3,
          "JulianDay": 13,
          "WeekDay": 1,
          "West": 1,
          "Year": 2012
         },
         {
          "Date2": "2012-10-16 04:00:00",
          "DateString": "10/16/2012 04:00:00 AM",
          "East": 3,
          "Hour": 4,
          "JulianDay": 13,
          "WeekDay": 1,
          "West": 2,
          "Year": 2012
         },
         {
          "Date2": "2012-10-16 05:00:00",
          "DateString": "10/16/2012 05:00:00 AM",
          "East": 8,
          "Hour": 5,
          "JulianDay": 13,
          "WeekDay": 1,
          "West": 21,
          "Year": 2012
         },
         {
          "Date2": "2012-10-16 06:00:00",
          "DateString": "10/16/2012 06:00:00 AM",
          "East": 34,
          "Hour": 6,
          "JulianDay": 13,
          "WeekDay": 1,
          "West": 88,
          "Year": 2012
         },
         {
          "Date2": "2012-10-16 07:00:00",
          "DateString": "10/16/2012 07:00:00 AM",
          "East": 69,
          "Hour": 7,
          "JulianDay": 13,
          "WeekDay": 1,
          "West": 187,
          "Year": 2012
         },
         {
          "Date2": "2012-10-16 08:00:00",
          "DateString": "10/16/2012 08:00:00 AM",
          "East": 104,
          "Hour": 8,
          "JulianDay": 13,
          "WeekDay": 1,
          "West": 253,
          "Year": 2012
         },
         {
          "Date2": "2012-10-16 09:00:00",
          "DateString": "10/16/2012 09:00:00 AM",
          "East": 77,
          "Hour": 9,
          "JulianDay": 13,
          "WeekDay": 1,
          "West": 130,
          "Year": 2012
         },
         {
          "Date2": "2012-10-16 10:00:00",
          "DateString": "10/16/2012 10:00:00 AM",
          "East": 47,
          "Hour": 10,
          "JulianDay": 13,
          "WeekDay": 1,
          "West": 77,
          "Year": 2012
         },
         {
          "Date2": "2012-10-16 11:00:00",
          "DateString": "10/16/2012 11:00:00 AM",
          "East": 36,
          "Hour": 11,
          "JulianDay": 13,
          "WeekDay": 1,
          "West": 47,
          "Year": 2012
         },
         {
          "Date2": "2012-10-16 12:00:00",
          "DateString": "10/16/2012 12:00:00 PM",
          "East": 26,
          "Hour": 12,
          "JulianDay": 13,
          "WeekDay": 1,
          "West": 49,
          "Year": 2012
         },
         {
          "Date2": "2012-10-16 13:00:00",
          "DateString": "10/16/2012 01:00:00 PM",
          "East": 42,
          "Hour": 13,
          "JulianDay": 13,
          "WeekDay": 1,
          "West": 48,
          "Year": 2012
         },
         {
          "Date2": "2012-10-16 14:00:00",
          "DateString": "10/16/2012 02:00:00 PM",
          "East": 44,
          "Hour": 14,
          "JulianDay": 13,
          "WeekDay": 1,
          "West": 53,
          "Year": 2012
         },
         {
          "Date2": "2012-10-16 15:00:00",
          "DateString": "10/16/2012 03:00:00 PM",
          "East": 86,
          "Hour": 15,
          "JulianDay": 13,
          "WeekDay": 1,
          "West": 77,
          "Year": 2012
         },
         {
          "Date2": "2012-10-16 16:00:00",
          "DateString": "10/16/2012 04:00:00 PM",
          "East": 146,
          "Hour": 16,
          "JulianDay": 13,
          "WeekDay": 1,
          "West": 109,
          "Year": 2012
         },
         {
          "Date2": "2012-10-16 17:00:00",
          "DateString": "10/16/2012 05:00:00 PM",
          "East": 353,
          "Hour": 17,
          "JulianDay": 13,
          "WeekDay": 1,
          "West": 147,
          "Year": 2012
         },
         {
          "Date2": "2012-10-16 18:00:00",
          "DateString": "10/16/2012 06:00:00 PM",
          "East": 198,
          "Hour": 18,
          "JulianDay": 13,
          "WeekDay": 1,
          "West": 109,
          "Year": 2012
         },
         {
          "Date2": "2012-10-16 19:00:00",
          "DateString": "10/16/2012 07:00:00 PM",
          "East": 90,
          "Hour": 19,
          "JulianDay": 13,
          "WeekDay": 1,
          "West": 45,
          "Year": 2012
         },
         {
          "Date2": "2012-10-16 20:00:00",
          "DateString": "10/16/2012 08:00:00 PM",
          "East": 47,
          "Hour": 20,
          "JulianDay": 13,
          "WeekDay": 1,
          "West": 41,
          "Year": 2012
         },
         {
          "Date2": "2012-10-16 21:00:00",
          "DateString": "10/16/2012 09:00:00 PM",
          "East": 30,
          "Hour": 21,
          "JulianDay": 13,
          "WeekDay": 1,
          "West": 35,
          "Year": 2012
         },
         {
          "Date2": "2012-10-16 22:00:00",
          "DateString": "10/16/2012 10:00:00 PM",
          "East": 14,
          "Hour": 22,
          "JulianDay": 13,
          "WeekDay": 1,
          "West": 16,
          "Year": 2012
         },
         {
          "Date2": "2012-10-16 23:00:00",
          "DateString": "10/16/2012 11:00:00 PM",
          "East": 12,
          "Hour": 23,
          "JulianDay": 13,
          "WeekDay": 1,
          "West": 13,
          "Year": 2012
         },
         {
          "Date2": "2012-10-17 00:00:00",
          "DateString": "10/17/2012 12:00:00 AM",
          "East": 9,
          "Hour": 0,
          "JulianDay": 14,
          "WeekDay": 2,
          "West": 13,
          "Year": 2012
         },
         {
          "Date2": "2012-10-17 01:00:00",
          "DateString": "10/17/2012 01:00:00 AM",
          "East": 3,
          "Hour": 1,
          "JulianDay": 14,
          "WeekDay": 2,
          "West": 3,
          "Year": 2012
         },
         {
          "Date2": "2012-10-17 02:00:00",
          "DateString": "10/17/2012 02:00:00 AM",
          "East": 3,
          "Hour": 2,
          "JulianDay": 14,
          "WeekDay": 2,
          "West": 2,
          "Year": 2012
         },
         {
          "Date2": "2012-10-17 03:00:00",
          "DateString": "10/17/2012 03:00:00 AM",
          "East": 4,
          "Hour": 3,
          "JulianDay": 14,
          "WeekDay": 2,
          "West": 0,
          "Year": 2012
         },
         {
          "Date2": "2012-10-17 04:00:00",
          "DateString": "10/17/2012 04:00:00 AM",
          "East": 3,
          "Hour": 4,
          "JulianDay": 14,
          "WeekDay": 2,
          "West": 4,
          "Year": 2012
         },
         {
          "Date2": "2012-10-17 05:00:00",
          "DateString": "10/17/2012 05:00:00 AM",
          "East": 9,
          "Hour": 5,
          "JulianDay": 14,
          "WeekDay": 2,
          "West": 21,
          "Year": 2012
         },
         {
          "Date2": "2012-10-17 06:00:00",
          "DateString": "10/17/2012 06:00:00 AM",
          "East": 44,
          "Hour": 6,
          "JulianDay": 14,
          "WeekDay": 2,
          "West": 89,
          "Year": 2012
         },
         {
          "Date2": "2012-10-17 07:00:00",
          "DateString": "10/17/2012 07:00:00 AM",
          "East": 85,
          "Hour": 7,
          "JulianDay": 14,
          "WeekDay": 2,
          "West": 213,
          "Year": 2012
         },
         {
          "Date2": "2012-10-17 08:00:00",
          "DateString": "10/17/2012 08:00:00 AM",
          "East": 133,
          "Hour": 8,
          "JulianDay": 14,
          "WeekDay": 2,
          "West": 283,
          "Year": 2012
         },
         {
          "Date2": "2012-10-17 09:00:00",
          "DateString": "10/17/2012 09:00:00 AM",
          "East": 78,
          "Hour": 9,
          "JulianDay": 14,
          "WeekDay": 2,
          "West": 166,
          "Year": 2012
         },
         {
          "Date2": "2012-10-17 10:00:00",
          "DateString": "10/17/2012 10:00:00 AM",
          "East": 47,
          "Hour": 10,
          "JulianDay": 14,
          "WeekDay": 2,
          "West": 49,
          "Year": 2012
         },
         {
          "Date2": "2012-10-17 11:00:00",
          "DateString": "10/17/2012 11:00:00 AM",
          "East": 26,
          "Hour": 11,
          "JulianDay": 14,
          "WeekDay": 2,
          "West": 52,
          "Year": 2012
         },
         {
          "Date2": "2012-10-17 12:00:00",
          "DateString": "10/17/2012 12:00:00 PM",
          "East": 50,
          "Hour": 12,
          "JulianDay": 14,
          "WeekDay": 2,
          "West": 61,
          "Year": 2012
         },
         {
          "Date2": "2012-10-17 13:00:00",
          "DateString": "10/17/2012 01:00:00 PM",
          "East": 40,
          "Hour": 13,
          "JulianDay": 14,
          "WeekDay": 2,
          "West": 56,
          "Year": 2012
         },
         {
          "Date2": "2012-10-17 14:00:00",
          "DateString": "10/17/2012 02:00:00 PM",
          "East": 51,
          "Hour": 14,
          "JulianDay": 14,
          "WeekDay": 2,
          "West": 54,
          "Year": 2012
         },
         {
          "Date2": "2012-10-17 15:00:00",
          "DateString": "10/17/2012 03:00:00 PM",
          "East": 89,
          "Hour": 15,
          "JulianDay": 14,
          "WeekDay": 2,
          "West": 72,
          "Year": 2012
         },
         {
          "Date2": "2012-10-17 16:00:00",
          "DateString": "10/17/2012 04:00:00 PM",
          "East": 145,
          "Hour": 16,
          "JulianDay": 14,
          "WeekDay": 2,
          "West": 113,
          "Year": 2012
         },
         {
          "Date2": "2012-10-17 17:00:00",
          "DateString": "10/17/2012 05:00:00 PM",
          "East": 332,
          "Hour": 17,
          "JulianDay": 14,
          "WeekDay": 2,
          "West": 150,
          "Year": 2012
         },
         {
          "Date2": "2012-10-17 18:00:00",
          "DateString": "10/17/2012 06:00:00 PM",
          "East": 241,
          "Hour": 18,
          "JulianDay": 14,
          "WeekDay": 2,
          "West": 117,
          "Year": 2012
         },
         {
          "Date2": "2012-10-17 19:00:00",
          "DateString": "10/17/2012 07:00:00 PM",
          "East": 94,
          "Hour": 19,
          "JulianDay": 14,
          "WeekDay": 2,
          "West": 51,
          "Year": 2012
         },
         {
          "Date2": "2012-10-17 20:00:00",
          "DateString": "10/17/2012 08:00:00 PM",
          "East": 40,
          "Hour": 20,
          "JulianDay": 14,
          "WeekDay": 2,
          "West": 18,
          "Year": 2012
         },
         {
          "Date2": "2012-10-17 21:00:00",
          "DateString": "10/17/2012 09:00:00 PM",
          "East": 41,
          "Hour": 21,
          "JulianDay": 14,
          "WeekDay": 2,
          "West": 25,
          "Year": 2012
         },
         {
          "Date2": "2012-10-17 22:00:00",
          "DateString": "10/17/2012 10:00:00 PM",
          "East": 23,
          "Hour": 22,
          "JulianDay": 14,
          "WeekDay": 2,
          "West": 25,
          "Year": 2012
         },
         {
          "Date2": "2012-10-17 23:00:00",
          "DateString": "10/17/2012 11:00:00 PM",
          "East": 6,
          "Hour": 23,
          "JulianDay": 14,
          "WeekDay": 2,
          "West": 10,
          "Year": 2012
         },
         {
          "Date2": "2012-10-18 00:00:00",
          "DateString": "10/18/2012 12:00:00 AM",
          "East": 0,
          "Hour": 0,
          "JulianDay": 15,
          "WeekDay": 3,
          "West": 7,
          "Year": 2012
         },
         {
          "Date2": "2012-10-18 01:00:00",
          "DateString": "10/18/2012 01:00:00 AM",
          "East": 4,
          "Hour": 1,
          "JulianDay": 15,
          "WeekDay": 3,
          "West": 3,
          "Year": 2012
         },
         {
          "Date2": "2012-10-18 02:00:00",
          "DateString": "10/18/2012 02:00:00 AM",
          "East": 4,
          "Hour": 2,
          "JulianDay": 15,
          "WeekDay": 3,
          "West": 5,
          "Year": 2012
         },
         {
          "Date2": "2012-10-18 03:00:00",
          "DateString": "10/18/2012 03:00:00 AM",
          "East": 4,
          "Hour": 3,
          "JulianDay": 15,
          "WeekDay": 3,
          "West": 1,
          "Year": 2012
         },
         {
          "Date2": "2012-10-18 04:00:00",
          "DateString": "10/18/2012 04:00:00 AM",
          "East": 1,
          "Hour": 4,
          "JulianDay": 15,
          "WeekDay": 3,
          "West": 7,
          "Year": 2012
         },
         {
          "Date2": "2012-10-18 05:00:00",
          "DateString": "10/18/2012 05:00:00 AM",
          "East": 12,
          "Hour": 5,
          "JulianDay": 15,
          "WeekDay": 3,
          "West": 14,
          "Year": 2012
         },
         {
          "Date2": "2012-10-18 06:00:00",
          "DateString": "10/18/2012 06:00:00 AM",
          "East": 35,
          "Hour": 6,
          "JulianDay": 15,
          "WeekDay": 3,
          "West": 88,
          "Year": 2012
         },
         {
          "Date2": "2012-10-18 07:00:00",
          "DateString": "10/18/2012 07:00:00 AM",
          "East": 73,
          "Hour": 7,
          "JulianDay": 15,
          "WeekDay": 3,
          "West": 206,
          "Year": 2012
         },
         {
          "Date2": "2012-10-18 08:00:00",
          "DateString": "10/18/2012 08:00:00 AM",
          "East": 130,
          "Hour": 8,
          "JulianDay": 15,
          "WeekDay": 3,
          "West": 246,
          "Year": 2012
         },
         {
          "Date2": "2012-10-18 09:00:00",
          "DateString": "10/18/2012 09:00:00 AM",
          "East": 83,
          "Hour": 9,
          "JulianDay": 15,
          "WeekDay": 3,
          "West": 147,
          "Year": 2012
         },
         {
          "Date2": "2012-10-18 10:00:00",
          "DateString": "10/18/2012 10:00:00 AM",
          "East": 35,
          "Hour": 10,
          "JulianDay": 15,
          "WeekDay": 3,
          "West": 59,
          "Year": 2012
         },
         {
          "Date2": "2012-10-18 11:00:00",
          "DateString": "10/18/2012 11:00:00 AM",
          "East": 46,
          "Hour": 11,
          "JulianDay": 15,
          "WeekDay": 3,
          "West": 47,
          "Year": 2012
         },
         {
          "Date2": "2012-10-18 12:00:00",
          "DateString": "10/18/2012 12:00:00 PM",
          "East": 56,
          "Hour": 12,
          "JulianDay": 15,
          "WeekDay": 3,
          "West": 54,
          "Year": 2012
         },
         {
          "Date2": "2012-10-18 13:00:00",
          "DateString": "10/18/2012 01:00:00 PM",
          "East": 70,
          "Hour": 13,
          "JulianDay": 15,
          "WeekDay": 3,
          "West": 51,
          "Year": 2012
         },
         {
          "Date2": "2012-10-18 14:00:00",
          "DateString": "10/18/2012 02:00:00 PM",
          "East": 51,
          "Hour": 14,
          "JulianDay": 15,
          "WeekDay": 3,
          "West": 53,
          "Year": 2012
         },
         {
          "Date2": "2012-10-18 15:00:00",
          "DateString": "10/18/2012 03:00:00 PM",
          "East": 77,
          "Hour": 15,
          "JulianDay": 15,
          "WeekDay": 3,
          "West": 68,
          "Year": 2012
         },
         {
          "Date2": "2012-10-18 16:00:00",
          "DateString": "10/18/2012 04:00:00 PM",
          "East": 132,
          "Hour": 16,
          "JulianDay": 15,
          "WeekDay": 3,
          "West": 98,
          "Year": 2012
         },
         {
          "Date2": "2012-10-18 17:00:00",
          "DateString": "10/18/2012 05:00:00 PM",
          "East": 334,
          "Hour": 17,
          "JulianDay": 15,
          "WeekDay": 3,
          "West": 130,
          "Year": 2012
         },
         {
          "Date2": "2012-10-18 18:00:00",
          "DateString": "10/18/2012 06:00:00 PM",
          "East": 191,
          "Hour": 18,
          "JulianDay": 15,
          "WeekDay": 3,
          "West": 89,
          "Year": 2012
         },
         {
          "Date2": "2012-10-18 19:00:00",
          "DateString": "10/18/2012 07:00:00 PM",
          "East": 62,
          "Hour": 19,
          "JulianDay": 15,
          "WeekDay": 3,
          "West": 25,
          "Year": 2012
         },
         {
          "Date2": "2012-10-18 20:00:00",
          "DateString": "10/18/2012 08:00:00 PM",
          "East": 34,
          "Hour": 20,
          "JulianDay": 15,
          "WeekDay": 3,
          "West": 25,
          "Year": 2012
         },
         {
          "Date2": "2012-10-18 21:00:00",
          "DateString": "10/18/2012 09:00:00 PM",
          "East": 23,
          "Hour": 21,
          "JulianDay": 15,
          "WeekDay": 3,
          "West": 13,
          "Year": 2012
         },
         {
          "Date2": "2012-10-18 22:00:00",
          "DateString": "10/18/2012 10:00:00 PM",
          "East": 10,
          "Hour": 22,
          "JulianDay": 15,
          "WeekDay": 3,
          "West": 6,
          "Year": 2012
         },
         {
          "Date2": "2012-10-18 23:00:00",
          "DateString": "10/18/2012 11:00:00 PM",
          "East": 7,
          "Hour": 23,
          "JulianDay": 15,
          "WeekDay": 3,
          "West": 7,
          "Year": 2012
         },
         {
          "Date2": "2012-10-19 00:00:00",
          "DateString": "10/19/2012 12:00:00 AM",
          "East": 9,
          "Hour": 0,
          "JulianDay": 16,
          "WeekDay": 4,
          "West": 3,
          "Year": 2012
         },
         {
          "Date2": "2012-10-19 01:00:00",
          "DateString": "10/19/2012 01:00:00 AM",
          "East": 1,
          "Hour": 1,
          "JulianDay": 16,
          "WeekDay": 4,
          "West": 3,
          "Year": 2012
         },
         {
          "Date2": "2012-10-19 02:00:00",
          "DateString": "10/19/2012 02:00:00 AM",
          "East": 1,
          "Hour": 2,
          "JulianDay": 16,
          "WeekDay": 4,
          "West": 4,
          "Year": 2012
         },
         {
          "Date2": "2012-10-19 03:00:00",
          "DateString": "10/19/2012 03:00:00 AM",
          "East": 2,
          "Hour": 3,
          "JulianDay": 16,
          "WeekDay": 4,
          "West": 0,
          "Year": 2012
         },
         {
          "Date2": "2012-10-19 04:00:00",
          "DateString": "10/19/2012 04:00:00 AM",
          "East": 5,
          "Hour": 4,
          "JulianDay": 16,
          "WeekDay": 4,
          "West": 4,
          "Year": 2012
         },
         {
          "Date2": "2012-10-19 05:00:00",
          "DateString": "10/19/2012 05:00:00 AM",
          "East": 6,
          "Hour": 5,
          "JulianDay": 16,
          "WeekDay": 4,
          "West": 20,
          "Year": 2012
         },
         {
          "Date2": "2012-10-19 06:00:00",
          "DateString": "10/19/2012 06:00:00 AM",
          "East": 21,
          "Hour": 6,
          "JulianDay": 16,
          "WeekDay": 4,
          "West": 50,
          "Year": 2012
         },
         {
          "Date2": "2012-10-19 07:00:00",
          "DateString": "10/19/2012 07:00:00 AM",
          "East": 54,
          "Hour": 7,
          "JulianDay": 16,
          "WeekDay": 4,
          "West": 126,
          "Year": 2012
         },
         {
          "Date2": "2012-10-19 08:00:00",
          "DateString": "10/19/2012 08:00:00 AM",
          "East": 76,
          "Hour": 8,
          "JulianDay": 16,
          "WeekDay": 4,
          "West": 169,
          "Year": 2012
         },
         {
          "Date2": "2012-10-19 09:00:00",
          "DateString": "10/19/2012 09:00:00 AM",
          "East": 76,
          "Hour": 9,
          "JulianDay": 16,
          "WeekDay": 4,
          "West": 93,
          "Year": 2012
         },
         {
          "Date2": "2012-10-19 10:00:00",
          "DateString": "10/19/2012 10:00:00 AM",
          "East": 24,
          "Hour": 10,
          "JulianDay": 16,
          "WeekDay": 4,
          "West": 41,
          "Year": 2012
         },
         {
          "Date2": "2012-10-19 11:00:00",
          "DateString": "10/19/2012 11:00:00 AM",
          "East": 26,
          "Hour": 11,
          "JulianDay": 16,
          "WeekDay": 4,
          "West": 26,
          "Year": 2012
         },
         {
          "Date2": "2012-10-19 12:00:00",
          "DateString": "10/19/2012 12:00:00 PM",
          "East": 24,
          "Hour": 12,
          "JulianDay": 16,
          "WeekDay": 4,
          "West": 26,
          "Year": 2012
         },
         {
          "Date2": "2012-10-19 13:00:00",
          "DateString": "10/19/2012 01:00:00 PM",
          "East": 44,
          "Hour": 13,
          "JulianDay": 16,
          "WeekDay": 4,
          "West": 34,
          "Year": 2012
         },
         {
          "Date2": "2012-10-19 14:00:00",
          "DateString": "10/19/2012 02:00:00 PM",
          "East": 36,
          "Hour": 14,
          "JulianDay": 16,
          "WeekDay": 4,
          "West": 39,
          "Year": 2012
         },
         {
          "Date2": "2012-10-19 15:00:00",
          "DateString": "10/19/2012 03:00:00 PM",
          "East": 56,
          "Hour": 15,
          "JulianDay": 16,
          "WeekDay": 4,
          "West": 54,
          "Year": 2012
         },
         {
          "Date2": "2012-10-19 16:00:00",
          "DateString": "10/19/2012 04:00:00 PM",
          "East": 98,
          "Hour": 16,
          "JulianDay": 16,
          "WeekDay": 4,
          "West": 79,
          "Year": 2012
         },
         {
          "Date2": "2012-10-19 17:00:00",
          "DateString": "10/19/2012 05:00:00 PM",
          "East": 212,
          "Hour": 17,
          "JulianDay": 16,
          "WeekDay": 4,
          "West": 85,
          "Year": 2012
         },
         {
          "Date2": "2012-10-19 18:00:00",
          "DateString": "10/19/2012 06:00:00 PM",
          "East": 134,
          "Hour": 18,
          "JulianDay": 16,
          "WeekDay": 4,
          "West": 57,
          "Year": 2012
         },
         {
          "Date2": "2012-10-19 19:00:00",
          "DateString": "10/19/2012 07:00:00 PM",
          "East": 46,
          "Hour": 19,
          "JulianDay": 16,
          "WeekDay": 4,
          "West": 16,
          "Year": 2012
         },
         {
          "Date2": "2012-10-19 20:00:00",
          "DateString": "10/19/2012 08:00:00 PM",
          "East": 29,
          "Hour": 20,
          "JulianDay": 16,
          "WeekDay": 4,
          "West": 13,
          "Year": 2012
         },
         {
          "Date2": "2012-10-19 21:00:00",
          "DateString": "10/19/2012 09:00:00 PM",
          "East": 12,
          "Hour": 21,
          "JulianDay": 16,
          "WeekDay": 4,
          "West": 7,
          "Year": 2012
         },
         {
          "Date2": "2012-10-19 22:00:00",
          "DateString": "10/19/2012 10:00:00 PM",
          "East": 9,
          "Hour": 22,
          "JulianDay": 16,
          "WeekDay": 4,
          "West": 8,
          "Year": 2012
         },
         {
          "Date2": "2012-10-19 23:00:00",
          "DateString": "10/19/2012 11:00:00 PM",
          "East": 11,
          "Hour": 23,
          "JulianDay": 16,
          "WeekDay": 4,
          "West": 8,
          "Year": 2012
         },
         {
          "Date2": "2012-10-20 00:00:00",
          "DateString": "10/20/2012 12:00:00 AM",
          "East": 5,
          "Hour": 0,
          "JulianDay": 17,
          "WeekDay": 5,
          "West": 4,
          "Year": 2012
         },
         {
          "Date2": "2012-10-20 01:00:00",
          "DateString": "10/20/2012 01:00:00 AM",
          "East": 7,
          "Hour": 1,
          "JulianDay": 17,
          "WeekDay": 5,
          "West": 1,
          "Year": 2012
         },
         {
          "Date2": "2012-10-20 02:00:00",
          "DateString": "10/20/2012 02:00:00 AM",
          "East": 4,
          "Hour": 2,
          "JulianDay": 17,
          "WeekDay": 5,
          "West": 8,
          "Year": 2012
         },
         {
          "Date2": "2012-10-20 03:00:00",
          "DateString": "10/20/2012 03:00:00 AM",
          "East": 3,
          "Hour": 3,
          "JulianDay": 17,
          "WeekDay": 5,
          "West": 2,
          "Year": 2012
         },
         {
          "Date2": "2012-10-20 04:00:00",
          "DateString": "10/20/2012 04:00:00 AM",
          "East": 2,
          "Hour": 4,
          "JulianDay": 17,
          "WeekDay": 5,
          "West": 1,
          "Year": 2012
         },
         {
          "Date2": "2012-10-20 05:00:00",
          "DateString": "10/20/2012 05:00:00 AM",
          "East": 6,
          "Hour": 5,
          "JulianDay": 17,
          "WeekDay": 5,
          "West": 9,
          "Year": 2012
         },
         {
          "Date2": "2012-10-20 06:00:00",
          "DateString": "10/20/2012 06:00:00 AM",
          "East": 6,
          "Hour": 6,
          "JulianDay": 17,
          "WeekDay": 5,
          "West": 10,
          "Year": 2012
         },
         {
          "Date2": "2012-10-20 07:00:00",
          "DateString": "10/20/2012 07:00:00 AM",
          "East": 12,
          "Hour": 7,
          "JulianDay": 17,
          "WeekDay": 5,
          "West": 16,
          "Year": 2012
         },
         {
          "Date2": "2012-10-20 08:00:00",
          "DateString": "10/20/2012 08:00:00 AM",
          "East": 18,
          "Hour": 8,
          "JulianDay": 17,
          "WeekDay": 5,
          "West": 28,
          "Year": 2012
         },
         {
          "Date2": "2012-10-20 09:00:00",
          "DateString": "10/20/2012 09:00:00 AM",
          "East": 30,
          "Hour": 9,
          "JulianDay": 17,
          "WeekDay": 5,
          "West": 29,
          "Year": 2012
         },
         {
          "Date2": "2012-10-20 10:00:00",
          "DateString": "10/20/2012 10:00:00 AM",
          "East": 31,
          "Hour": 10,
          "JulianDay": 17,
          "WeekDay": 5,
          "West": 52,
          "Year": 2012
         },
         {
          "Date2": "2012-10-20 11:00:00",
          "DateString": "10/20/2012 11:00:00 AM",
          "East": 33,
          "Hour": 11,
          "JulianDay": 17,
          "WeekDay": 5,
          "West": 59,
          "Year": 2012
         },
         {
          "Date2": "2012-10-20 12:00:00",
          "DateString": "10/20/2012 12:00:00 PM",
          "East": 34,
          "Hour": 12,
          "JulianDay": 17,
          "WeekDay": 5,
          "West": 64,
          "Year": 2012
         },
         {
          "Date2": "2012-10-20 13:00:00",
          "DateString": "10/20/2012 01:00:00 PM",
          "East": 51,
          "Hour": 13,
          "JulianDay": 17,
          "WeekDay": 5,
          "West": 62,
          "Year": 2012
         },
         {
          "Date2": "2012-10-20 14:00:00",
          "DateString": "10/20/2012 02:00:00 PM",
          "East": 46,
          "Hour": 14,
          "JulianDay": 17,
          "WeekDay": 5,
          "West": 52,
          "Year": 2012
         },
         {
          "Date2": "2012-10-20 15:00:00",
          "DateString": "10/20/2012 03:00:00 PM",
          "East": 28,
          "Hour": 15,
          "JulianDay": 17,
          "WeekDay": 5,
          "West": 44,
          "Year": 2012
         },
         {
          "Date2": "2012-10-20 16:00:00",
          "DateString": "10/20/2012 04:00:00 PM",
          "East": 46,
          "Hour": 16,
          "JulianDay": 17,
          "WeekDay": 5,
          "West": 30,
          "Year": 2012
         },
         {
          "Date2": "2012-10-20 17:00:00",
          "DateString": "10/20/2012 05:00:00 PM",
          "East": 26,
          "Hour": 17,
          "JulianDay": 17,
          "WeekDay": 5,
          "West": 37,
          "Year": 2012
         },
         {
          "Date2": "2012-10-20 18:00:00",
          "DateString": "10/20/2012 06:00:00 PM",
          "East": 38,
          "Hour": 18,
          "JulianDay": 17,
          "WeekDay": 5,
          "West": 31,
          "Year": 2012
         },
         {
          "Date2": "2012-10-20 19:00:00",
          "DateString": "10/20/2012 07:00:00 PM",
          "East": 18,
          "Hour": 19,
          "JulianDay": 17,
          "WeekDay": 5,
          "West": 18,
          "Year": 2012
         },
         {
          "Date2": "2012-10-20 20:00:00",
          "DateString": "10/20/2012 08:00:00 PM",
          "East": 12,
          "Hour": 20,
          "JulianDay": 17,
          "WeekDay": 5,
          "West": 10,
          "Year": 2012
         },
         {
          "Date2": "2012-10-20 21:00:00",
          "DateString": "10/20/2012 09:00:00 PM",
          "East": 8,
          "Hour": 21,
          "JulianDay": 17,
          "WeekDay": 5,
          "West": 5,
          "Year": 2012
         },
         {
          "Date2": "2012-10-20 22:00:00",
          "DateString": "10/20/2012 10:00:00 PM",
          "East": 6,
          "Hour": 22,
          "JulianDay": 17,
          "WeekDay": 5,
          "West": 6,
          "Year": 2012
         },
         {
          "Date2": "2012-10-20 23:00:00",
          "DateString": "10/20/2012 11:00:00 PM",
          "East": 12,
          "Hour": 23,
          "JulianDay": 17,
          "WeekDay": 5,
          "West": 8,
          "Year": 2012
         },
         {
          "Date2": "2012-10-21 00:00:00",
          "DateString": "10/21/2012 12:00:00 AM",
          "East": 12,
          "Hour": 0,
          "JulianDay": 18,
          "WeekDay": 6,
          "West": 5,
          "Year": 2012
         },
         {
          "Date2": "2012-10-21 01:00:00",
          "DateString": "10/21/2012 01:00:00 AM",
          "East": 9,
          "Hour": 1,
          "JulianDay": 18,
          "WeekDay": 6,
          "West": 2,
          "Year": 2012
         },
         {
          "Date2": "2012-10-21 02:00:00",
          "DateString": "10/21/2012 02:00:00 AM",
          "East": 4,
          "Hour": 2,
          "JulianDay": 18,
          "WeekDay": 6,
          "West": 7,
          "Year": 2012
         },
         {
          "Date2": "2012-10-21 03:00:00",
          "DateString": "10/21/2012 03:00:00 AM",
          "East": 1,
          "Hour": 3,
          "JulianDay": 18,
          "WeekDay": 6,
          "West": 3,
          "Year": 2012
         },
         {
          "Date2": "2012-10-21 04:00:00",
          "DateString": "10/21/2012 04:00:00 AM",
          "East": 1,
          "Hour": 4,
          "JulianDay": 18,
          "WeekDay": 6,
          "West": 3,
          "Year": 2012
         },
         {
          "Date2": "2012-10-21 05:00:00",
          "DateString": "10/21/2012 05:00:00 AM",
          "East": 4,
          "Hour": 5,
          "JulianDay": 18,
          "WeekDay": 6,
          "West": 4,
          "Year": 2012
         },
         {
          "Date2": "2012-10-21 06:00:00",
          "DateString": "10/21/2012 06:00:00 AM",
          "East": 5,
          "Hour": 6,
          "JulianDay": 18,
          "WeekDay": 6,
          "West": 8,
          "Year": 2012
         },
         {
          "Date2": "2012-10-21 07:00:00",
          "DateString": "10/21/2012 07:00:00 AM",
          "East": 6,
          "Hour": 7,
          "JulianDay": 18,
          "WeekDay": 6,
          "West": 9,
          "Year": 2012
         },
         {
          "Date2": "2012-10-21 08:00:00",
          "DateString": "10/21/2012 08:00:00 AM",
          "East": 11,
          "Hour": 8,
          "JulianDay": 18,
          "WeekDay": 6,
          "West": 26,
          "Year": 2012
         },
         {
          "Date2": "2012-10-21 09:00:00",
          "DateString": "10/21/2012 09:00:00 AM",
          "East": 22,
          "Hour": 9,
          "JulianDay": 18,
          "WeekDay": 6,
          "West": 28,
          "Year": 2012
         },
         {
          "Date2": "2012-10-21 10:00:00",
          "DateString": "10/21/2012 10:00:00 AM",
          "East": 28,
          "Hour": 10,
          "JulianDay": 18,
          "WeekDay": 6,
          "West": 38,
          "Year": 2012
         },
         {
          "Date2": "2012-10-21 11:00:00",
          "DateString": "10/21/2012 11:00:00 AM",
          "East": 23,
          "Hour": 11,
          "JulianDay": 18,
          "WeekDay": 6,
          "West": 34,
          "Year": 2012
         },
         {
          "Date2": "2012-10-21 12:00:00",
          "DateString": "10/21/2012 12:00:00 PM",
          "East": 37,
          "Hour": 12,
          "JulianDay": 18,
          "WeekDay": 6,
          "West": 63,
          "Year": 2012
         },
         {
          "Date2": "2012-10-21 13:00:00",
          "DateString": "10/21/2012 01:00:00 PM",
          "East": 41,
          "Hour": 13,
          "JulianDay": 18,
          "WeekDay": 6,
          "West": 48,
          "Year": 2012
         },
         {
          "Date2": "2012-10-21 14:00:00",
          "DateString": "10/21/2012 02:00:00 PM",
          "East": 47,
          "Hour": 14,
          "JulianDay": 18,
          "WeekDay": 6,
          "West": 67,
          "Year": 2012
         },
         {
          "Date2": "2012-10-21 15:00:00",
          "DateString": "10/21/2012 03:00:00 PM",
          "East": 52,
          "Hour": 15,
          "JulianDay": 18,
          "WeekDay": 6,
          "West": 63,
          "Year": 2012
         },
         {
          "Date2": "2012-10-21 16:00:00",
          "DateString": "10/21/2012 04:00:00 PM",
          "East": 30,
          "Hour": 16,
          "JulianDay": 18,
          "WeekDay": 6,
          "West": 42,
          "Year": 2012
         },
         {
          "Date2": "2012-10-21 17:00:00",
          "DateString": "10/21/2012 05:00:00 PM",
          "East": 46,
          "Hour": 17,
          "JulianDay": 18,
          "WeekDay": 6,
          "West": 36,
          "Year": 2012
         },
         {
          "Date2": "2012-10-21 18:00:00",
          "DateString": "10/21/2012 06:00:00 PM",
          "East": 19,
          "Hour": 18,
          "JulianDay": 18,
          "WeekDay": 6,
          "West": 25,
          "Year": 2012
         },
         {
          "Date2": "2012-10-21 19:00:00",
          "DateString": "10/21/2012 07:00:00 PM",
          "East": 10,
          "Hour": 19,
          "JulianDay": 18,
          "WeekDay": 6,
          "West": 7,
          "Year": 2012
         },
         {
          "Date2": "2012-10-21 20:00:00",
          "DateString": "10/21/2012 08:00:00 PM",
          "East": 18,
          "Hour": 20,
          "JulianDay": 18,
          "WeekDay": 6,
          "West": 3,
          "Year": 2012
         },
         {
          "Date2": "2012-10-21 21:00:00",
          "DateString": "10/21/2012 09:00:00 PM",
          "East": 10,
          "Hour": 21,
          "JulianDay": 18,
          "WeekDay": 6,
          "West": 16,
          "Year": 2012
         },
         {
          "Date2": "2012-10-21 22:00:00",
          "DateString": "10/21/2012 10:00:00 PM",
          "East": 7,
          "Hour": 22,
          "JulianDay": 18,
          "WeekDay": 6,
          "West": 2,
          "Year": 2012
         },
         {
          "Date2": "2012-10-21 23:00:00",
          "DateString": "10/21/2012 11:00:00 PM",
          "East": 6,
          "Hour": 23,
          "JulianDay": 18,
          "WeekDay": 6,
          "West": 1,
          "Year": 2012
         },
         {
          "Date2": "2012-10-22 00:00:00",
          "DateString": "10/22/2012 12:00:00 AM",
          "East": 2,
          "Hour": 0,
          "JulianDay": 19,
          "WeekDay": 0,
          "West": 4,
          "Year": 2012
         },
         {
          "Date2": "2012-10-22 01:00:00",
          "DateString": "10/22/2012 01:00:00 AM",
          "East": 3,
          "Hour": 1,
          "JulianDay": 19,
          "WeekDay": 0,
          "West": 1,
          "Year": 2012
         },
         {
          "Date2": "2012-10-22 02:00:00",
          "DateString": "10/22/2012 02:00:00 AM",
          "East": 0,
          "Hour": 2,
          "JulianDay": 19,
          "WeekDay": 0,
          "West": 2,
          "Year": 2012
         },
         {
          "Date2": "2012-10-22 03:00:00",
          "DateString": "10/22/2012 03:00:00 AM",
          "East": 3,
          "Hour": 3,
          "JulianDay": 19,
          "WeekDay": 0,
          "West": 1,
          "Year": 2012
         },
         {
          "Date2": "2012-10-22 04:00:00",
          "DateString": "10/22/2012 04:00:00 AM",
          "East": 5,
          "Hour": 4,
          "JulianDay": 19,
          "WeekDay": 0,
          "West": 5,
          "Year": 2012
         },
         {
          "Date2": "2012-10-22 05:00:00",
          "DateString": "10/22/2012 05:00:00 AM",
          "East": 8,
          "Hour": 5,
          "JulianDay": 19,
          "WeekDay": 0,
          "West": 19,
          "Year": 2012
         },
         {
          "Date2": "2012-10-22 06:00:00",
          "DateString": "10/22/2012 06:00:00 AM",
          "East": 32,
          "Hour": 6,
          "JulianDay": 19,
          "WeekDay": 0,
          "West": 85,
          "Year": 2012
         },
         {
          "Date2": "2012-10-22 07:00:00",
          "DateString": "10/22/2012 07:00:00 AM",
          "East": 74,
          "Hour": 7,
          "JulianDay": 19,
          "WeekDay": 0,
          "West": 184,
          "Year": 2012
         },
         {
          "Date2": "2012-10-22 08:00:00",
          "DateString": "10/22/2012 08:00:00 AM",
          "East": 92,
          "Hour": 8,
          "JulianDay": 19,
          "WeekDay": 0,
          "West": 256,
          "Year": 2012
         },
         {
          "Date2": "2012-10-22 09:00:00",
          "DateString": "10/22/2012 09:00:00 AM",
          "East": 54,
          "Hour": 9,
          "JulianDay": 19,
          "WeekDay": 0,
          "West": 107,
          "Year": 2012
         },
         {
          "Date2": "2012-10-22 10:00:00",
          "DateString": "10/22/2012 10:00:00 AM",
          "East": 38,
          "Hour": 10,
          "JulianDay": 19,
          "WeekDay": 0,
          "West": 29,
          "Year": 2012
         },
         {
          "Date2": "2012-10-22 11:00:00",
          "DateString": "10/22/2012 11:00:00 AM",
          "East": 20,
          "Hour": 11,
          "JulianDay": 19,
          "WeekDay": 0,
          "West": 22,
          "Year": 2012
         },
         {
          "Date2": "2012-10-22 12:00:00",
          "DateString": "10/22/2012 12:00:00 PM",
          "East": 23,
          "Hour": 12,
          "JulianDay": 19,
          "WeekDay": 0,
          "West": 18,
          "Year": 2012
         },
         {
          "Date2": "2012-10-22 13:00:00",
          "DateString": "10/22/2012 01:00:00 PM",
          "East": 20,
          "Hour": 13,
          "JulianDay": 19,
          "WeekDay": 0,
          "West": 20,
          "Year": 2012
         },
         {
          "Date2": "2012-10-22 14:00:00",
          "DateString": "10/22/2012 02:00:00 PM",
          "East": 26,
          "Hour": 14,
          "JulianDay": 19,
          "WeekDay": 0,
          "West": 19,
          "Year": 2012
         },
         {
          "Date2": "2012-10-22 15:00:00",
          "DateString": "10/22/2012 03:00:00 PM",
          "East": 38,
          "Hour": 15,
          "JulianDay": 19,
          "WeekDay": 0,
          "West": 33,
          "Year": 2012
         },
         {
          "Date2": "2012-10-22 16:00:00",
          "DateString": "10/22/2012 04:00:00 PM",
          "East": 87,
          "Hour": 16,
          "JulianDay": 19,
          "WeekDay": 0,
          "West": 63,
          "Year": 2012
         },
         {
          "Date2": "2012-10-22 17:00:00",
          "DateString": "10/22/2012 05:00:00 PM",
          "East": 272,
          "Hour": 17,
          "JulianDay": 19,
          "WeekDay": 0,
          "West": 97,
          "Year": 2012
         },
         {
          "Date2": "2012-10-22 18:00:00",
          "DateString": "10/22/2012 06:00:00 PM",
          "East": 145,
          "Hour": 18,
          "JulianDay": 19,
          "WeekDay": 0,
          "West": 54,
          "Year": 2012
         },
         {
          "Date2": "2012-10-22 19:00:00",
          "DateString": "10/22/2012 07:00:00 PM",
          "East": 49,
          "Hour": 19,
          "JulianDay": 19,
          "WeekDay": 0,
          "West": 25,
          "Year": 2012
         },
         {
          "Date2": "2012-10-22 20:00:00",
          "DateString": "10/22/2012 08:00:00 PM",
          "East": 26,
          "Hour": 20,
          "JulianDay": 19,
          "WeekDay": 0,
          "West": 14,
          "Year": 2012
         },
         {
          "Date2": "2012-10-22 21:00:00",
          "DateString": "10/22/2012 09:00:00 PM",
          "East": 11,
          "Hour": 21,
          "JulianDay": 19,
          "WeekDay": 0,
          "West": 17,
          "Year": 2012
         },
         {
          "Date2": "2012-10-22 22:00:00",
          "DateString": "10/22/2012 10:00:00 PM",
          "East": 9,
          "Hour": 22,
          "JulianDay": 19,
          "WeekDay": 0,
          "West": 6,
          "Year": 2012
         },
         {
          "Date2": "2012-10-22 23:00:00",
          "DateString": "10/22/2012 11:00:00 PM",
          "East": 4,
          "Hour": 23,
          "JulianDay": 19,
          "WeekDay": 0,
          "West": 7,
          "Year": 2012
         },
         {
          "Date2": "2012-10-23 00:00:00",
          "DateString": "10/23/2012 12:00:00 AM",
          "East": 3,
          "Hour": 0,
          "JulianDay": 20,
          "WeekDay": 1,
          "West": 3,
          "Year": 2012
         },
         {
          "Date2": "2012-10-23 01:00:00",
          "DateString": "10/23/2012 01:00:00 AM",
          "East": 1,
          "Hour": 1,
          "JulianDay": 20,
          "WeekDay": 1,
          "West": 1,
          "Year": 2012
         },
         {
          "Date2": "2012-10-23 02:00:00",
          "DateString": "10/23/2012 02:00:00 AM",
          "East": 1,
          "Hour": 2,
          "JulianDay": 20,
          "WeekDay": 1,
          "West": 2,
          "Year": 2012
         },
         {
          "Date2": "2012-10-23 03:00:00",
          "DateString": "10/23/2012 03:00:00 AM",
          "East": 1,
          "Hour": 3,
          "JulianDay": 20,
          "WeekDay": 1,
          "West": 0,
          "Year": 2012
         },
         {
          "Date2": "2012-10-23 04:00:00",
          "DateString": "10/23/2012 04:00:00 AM",
          "East": 6,
          "Hour": 4,
          "JulianDay": 20,
          "WeekDay": 1,
          "West": 5,
          "Year": 2012
         },
         {
          "Date2": "2012-10-23 05:00:00",
          "DateString": "10/23/2012 05:00:00 AM",
          "East": 8,
          "Hour": 5,
          "JulianDay": 20,
          "WeekDay": 1,
          "West": 27,
          "Year": 2012
         },
         {
          "Date2": "2012-10-23 06:00:00",
          "DateString": "10/23/2012 06:00:00 AM",
          "East": 33,
          "Hour": 6,
          "JulianDay": 20,
          "WeekDay": 1,
          "West": 79,
          "Year": 2012
         },
         {
          "Date2": "2012-10-23 07:00:00",
          "DateString": "10/23/2012 07:00:00 AM",
          "East": 67,
          "Hour": 7,
          "JulianDay": 20,
          "WeekDay": 1,
          "West": 169,
          "Year": 2012
         },
         {
          "Date2": "2012-10-23 08:00:00",
          "DateString": "10/23/2012 08:00:00 AM",
          "East": 105,
          "Hour": 8,
          "JulianDay": 20,
          "WeekDay": 1,
          "West": 238,
          "Year": 2012
         },
         {
          "Date2": "2012-10-23 09:00:00",
          "DateString": "10/23/2012 09:00:00 AM",
          "East": 58,
          "Hour": 9,
          "JulianDay": 20,
          "WeekDay": 1,
          "West": 110,
          "Year": 2012
         },
         {
          "Date2": "2012-10-23 10:00:00",
          "DateString": "10/23/2012 10:00:00 AM",
          "East": 31,
          "Hour": 10,
          "JulianDay": 20,
          "WeekDay": 1,
          "West": 48,
          "Year": 2012
         },
         {
          "Date2": "2012-10-23 11:00:00",
          "DateString": "10/23/2012 11:00:00 AM",
          "East": 25,
          "Hour": 11,
          "JulianDay": 20,
          "WeekDay": 1,
          "West": 27,
          "Year": 2012
         },
         {
          "Date2": "2012-10-23 12:00:00",
          "DateString": "10/23/2012 12:00:00 PM",
          "East": 35,
          "Hour": 12,
          "JulianDay": 20,
          "WeekDay": 1,
          "West": 33,
          "Year": 2012
         },
         {
          "Date2": "2012-10-23 13:00:00",
          "DateString": "10/23/2012 01:00:00 PM",
          "East": 23,
          "Hour": 13,
          "JulianDay": 20,
          "WeekDay": 1,
          "West": 36,
          "Year": 2012
         },
         {
          "Date2": "2012-10-23 14:00:00",
          "DateString": "10/23/2012 02:00:00 PM",
          "East": 38,
          "Hour": 14,
          "JulianDay": 20,
          "WeekDay": 1,
          "West": 38,
          "Year": 2012
         },
         {
          "Date2": "2012-10-23 15:00:00",
          "DateString": "10/23/2012 03:00:00 PM",
          "East": 49,
          "Hour": 15,
          "JulianDay": 20,
          "WeekDay": 1,
          "West": 51,
          "Year": 2012
         },
         {
          "Date2": "2012-10-23 16:00:00",
          "DateString": "10/23/2012 04:00:00 PM",
          "East": 114,
          "Hour": 16,
          "JulianDay": 20,
          "WeekDay": 1,
          "West": 76,
          "Year": 2012
         },
         {
          "Date2": "2012-10-23 17:00:00",
          "DateString": "10/23/2012 05:00:00 PM",
          "East": 299,
          "Hour": 17,
          "JulianDay": 20,
          "WeekDay": 1,
          "West": 135,
          "Year": 2012
         },
         {
          "Date2": "2012-10-23 18:00:00",
          "DateString": "10/23/2012 06:00:00 PM",
          "East": 194,
          "Hour": 18,
          "JulianDay": 20,
          "WeekDay": 1,
          "West": 76,
          "Year": 2012
         },
         {
          "Date2": "2012-10-23 19:00:00",
          "DateString": "10/23/2012 07:00:00 PM",
          "East": 67,
          "Hour": 19,
          "JulianDay": 20,
          "WeekDay": 1,
          "West": 37,
          "Year": 2012
         },
         {
          "Date2": "2012-10-23 20:00:00",
          "DateString": "10/23/2012 08:00:00 PM",
          "East": 38,
          "Hour": 20,
          "JulianDay": 20,
          "WeekDay": 1,
          "West": 21,
          "Year": 2012
         },
         {
          "Date2": "2012-10-23 21:00:00",
          "DateString": "10/23/2012 09:00:00 PM",
          "East": 26,
          "Hour": 21,
          "JulianDay": 20,
          "WeekDay": 1,
          "West": 24,
          "Year": 2012
         },
         {
          "Date2": "2012-10-23 22:00:00",
          "DateString": "10/23/2012 10:00:00 PM",
          "East": 10,
          "Hour": 22,
          "JulianDay": 20,
          "WeekDay": 1,
          "West": 11,
          "Year": 2012
         },
         {
          "Date2": "2012-10-23 23:00:00",
          "DateString": "10/23/2012 11:00:00 PM",
          "East": 5,
          "Hour": 23,
          "JulianDay": 20,
          "WeekDay": 1,
          "West": 16,
          "Year": 2012
         },
         {
          "Date2": "2012-10-24 00:00:00",
          "DateString": "10/24/2012 12:00:00 AM",
          "East": 8,
          "Hour": 0,
          "JulianDay": 21,
          "WeekDay": 2,
          "West": 3,
          "Year": 2012
         },
         {
          "Date2": "2012-10-24 01:00:00",
          "DateString": "10/24/2012 01:00:00 AM",
          "East": 9,
          "Hour": 1,
          "JulianDay": 21,
          "WeekDay": 2,
          "West": 2,
          "Year": 2012
         },
         {
          "Date2": "2012-10-24 02:00:00",
          "DateString": "10/24/2012 02:00:00 AM",
          "East": 2,
          "Hour": 2,
          "JulianDay": 21,
          "WeekDay": 2,
          "West": 7,
          "Year": 2012
         },
         {
          "Date2": "2012-10-24 03:00:00",
          "DateString": "10/24/2012 03:00:00 AM",
          "East": 3,
          "Hour": 3,
          "JulianDay": 21,
          "WeekDay": 2,
          "West": 1,
          "Year": 2012
         },
         {
          "Date2": "2012-10-24 04:00:00",
          "DateString": "10/24/2012 04:00:00 AM",
          "East": 3,
          "Hour": 4,
          "JulianDay": 21,
          "WeekDay": 2,
          "West": 2,
          "Year": 2012
         },
         {
          "Date2": "2012-10-24 05:00:00",
          "DateString": "10/24/2012 05:00:00 AM",
          "East": 9,
          "Hour": 5,
          "JulianDay": 21,
          "WeekDay": 2,
          "West": 16,
          "Year": 2012
         },
         {
          "Date2": "2012-10-24 06:00:00",
          "DateString": "10/24/2012 06:00:00 AM",
          "East": 39,
          "Hour": 6,
          "JulianDay": 21,
          "WeekDay": 2,
          "West": 79,
          "Year": 2012
         },
         {
          "Date2": "2012-10-24 07:00:00",
          "DateString": "10/24/2012 07:00:00 AM",
          "East": 67,
          "Hour": 7,
          "JulianDay": 21,
          "WeekDay": 2,
          "West": 158,
          "Year": 2012
         },
         {
          "Date2": "2012-10-24 08:00:00",
          "DateString": "10/24/2012 08:00:00 AM",
          "East": 89,
          "Hour": 8,
          "JulianDay": 21,
          "WeekDay": 2,
          "West": 224,
          "Year": 2012
         },
         {
          "Date2": "2012-10-24 09:00:00",
          "DateString": "10/24/2012 09:00:00 AM",
          "East": 64,
          "Hour": 9,
          "JulianDay": 21,
          "WeekDay": 2,
          "West": 108,
          "Year": 2012
         },
         {
          "Date2": "2012-10-24 10:00:00",
          "DateString": "10/24/2012 10:00:00 AM",
          "East": 38,
          "Hour": 10,
          "JulianDay": 21,
          "WeekDay": 2,
          "West": 40,
          "Year": 2012
         },
         {
          "Date2": "2012-10-24 11:00:00",
          "DateString": "10/24/2012 11:00:00 AM",
          "East": 14,
          "Hour": 11,
          "JulianDay": 21,
          "WeekDay": 2,
          "West": 35,
          "Year": 2012
         },
         {
          "Date2": "2012-10-24 12:00:00",
          "DateString": "10/24/2012 12:00:00 PM",
          "East": 15,
          "Hour": 12,
          "JulianDay": 21,
          "WeekDay": 2,
          "West": 20,
          "Year": 2012
         },
         {
          "Date2": "2012-10-24 13:00:00",
          "DateString": "10/24/2012 01:00:00 PM",
          "East": 28,
          "Hour": 13,
          "JulianDay": 21,
          "WeekDay": 2,
          "West": 38,
          "Year": 2012
         },
         {
          "Date2": "2012-10-24 14:00:00",
          "DateString": "10/24/2012 02:00:00 PM",
          "East": 32,
          "Hour": 14,
          "JulianDay": 21,
          "WeekDay": 2,
          "West": 46,
          "Year": 2012
         },
         {
          "Date2": "2012-10-24 15:00:00",
          "DateString": "10/24/2012 03:00:00 PM",
          "East": 61,
          "Hour": 15,
          "JulianDay": 21,
          "WeekDay": 2,
          "West": 40,
          "Year": 2012
         },
         {
          "Date2": "2012-10-24 16:00:00",
          "DateString": "10/24/2012 04:00:00 PM",
          "East": 104,
          "Hour": 16,
          "JulianDay": 21,
          "WeekDay": 2,
          "West": 88,
          "Year": 2012
         },
         {
          "Date2": "2012-10-24 17:00:00",
          "DateString": "10/24/2012 05:00:00 PM",
          "East": 261,
          "Hour": 17,
          "JulianDay": 21,
          "WeekDay": 2,
          "West": 138,
          "Year": 2012
         },
         {
          "Date2": "2012-10-24 18:00:00",
          "DateString": "10/24/2012 06:00:00 PM",
          "East": 165,
          "Hour": 18,
          "JulianDay": 21,
          "WeekDay": 2,
          "West": 100,
          "Year": 2012
         },
         {
          "Date2": "2012-10-24 19:00:00",
          "DateString": "10/24/2012 07:00:00 PM",
          "East": 79,
          "Hour": 19,
          "JulianDay": 21,
          "WeekDay": 2,
          "West": 38,
          "Year": 2012
         },
         {
          "Date2": "2012-10-24 20:00:00",
          "DateString": "10/24/2012 08:00:00 PM",
          "East": 35,
          "Hour": 20,
          "JulianDay": 21,
          "WeekDay": 2,
          "West": 27,
          "Year": 2012
         },
         {
          "Date2": "2012-10-24 21:00:00",
          "DateString": "10/24/2012 09:00:00 PM",
          "East": 26,
          "Hour": 21,
          "JulianDay": 21,
          "WeekDay": 2,
          "West": 20,
          "Year": 2012
         },
         {
          "Date2": "2012-10-24 22:00:00",
          "DateString": "10/24/2012 10:00:00 PM",
          "East": 21,
          "Hour": 22,
          "JulianDay": 21,
          "WeekDay": 2,
          "West": 12,
          "Year": 2012
         },
         {
          "Date2": "2012-10-24 23:00:00",
          "DateString": "10/24/2012 11:00:00 PM",
          "East": 7,
          "Hour": 23,
          "JulianDay": 21,
          "WeekDay": 2,
          "West": 8,
          "Year": 2012
         },
         {
          "Date2": "2012-10-25 00:00:00",
          "DateString": "10/25/2012 12:00:00 AM",
          "East": 1,
          "Hour": 0,
          "JulianDay": 22,
          "WeekDay": 3,
          "West": 2,
          "Year": 2012
         },
         {
          "Date2": "2012-10-25 01:00:00",
          "DateString": "10/25/2012 01:00:00 AM",
          "East": 5,
          "Hour": 1,
          "JulianDay": 22,
          "WeekDay": 3,
          "West": 1,
          "Year": 2012
         },
         {
          "Date2": "2012-10-25 02:00:00",
          "DateString": "10/25/2012 02:00:00 AM",
          "East": 1,
          "Hour": 2,
          "JulianDay": 22,
          "WeekDay": 3,
          "West": 2,
          "Year": 2012
         },
         {
          "Date2": "2012-10-25 03:00:00",
          "DateString": "10/25/2012 03:00:00 AM",
          "East": 2,
          "Hour": 3,
          "JulianDay": 22,
          "WeekDay": 3,
          "West": 1,
          "Year": 2012
         },
         {
          "Date2": "2012-10-25 04:00:00",
          "DateString": "10/25/2012 04:00:00 AM",
          "East": 1,
          "Hour": 4,
          "JulianDay": 22,
          "WeekDay": 3,
          "West": 4,
          "Year": 2012
         },
         {
          "Date2": "2012-10-25 05:00:00",
          "DateString": "10/25/2012 05:00:00 AM",
          "East": 14,
          "Hour": 5,
          "JulianDay": 22,
          "WeekDay": 3,
          "West": 19,
          "Year": 2012
         },
         {
          "Date2": "2012-10-25 06:00:00",
          "DateString": "10/25/2012 06:00:00 AM",
          "East": 38,
          "Hour": 6,
          "JulianDay": 22,
          "WeekDay": 3,
          "West": 81,
          "Year": 2012
         },
         {
          "Date2": "2012-10-25 07:00:00",
          "DateString": "10/25/2012 07:00:00 AM",
          "East": 60,
          "Hour": 7,
          "JulianDay": 22,
          "WeekDay": 3,
          "West": 184,
          "Year": 2012
         },
         {
          "Date2": "2012-10-25 08:00:00",
          "DateString": "10/25/2012 08:00:00 AM",
          "East": 114,
          "Hour": 8,
          "JulianDay": 22,
          "WeekDay": 3,
          "West": 227,
          "Year": 2012
         },
         {
          "Date2": "2012-10-25 09:00:00",
          "DateString": "10/25/2012 09:00:00 AM",
          "East": 69,
          "Hour": 9,
          "JulianDay": 22,
          "WeekDay": 3,
          "West": 133,
          "Year": 2012
         },
         {
          "Date2": "2012-10-25 10:00:00",
          "DateString": "10/25/2012 10:00:00 AM",
          "East": 23,
          "Hour": 10,
          "JulianDay": 22,
          "WeekDay": 3,
          "West": 60,
          "Year": 2012
         },
         {
          "Date2": "2012-10-25 11:00:00",
          "DateString": "10/25/2012 11:00:00 AM",
          "East": 26,
          "Hour": 11,
          "JulianDay": 22,
          "WeekDay": 3,
          "West": 29,
          "Year": 2012
         },
         {
          "Date2": "2012-10-25 12:00:00",
          "DateString": "10/25/2012 12:00:00 PM",
          "East": 35,
          "Hour": 12,
          "JulianDay": 22,
          "WeekDay": 3,
          "West": 39,
          "Year": 2012
         },
         {
          "Date2": "2012-10-25 13:00:00",
          "DateString": "10/25/2012 01:00:00 PM",
          "East": 38,
          "Hour": 13,
          "JulianDay": 22,
          "WeekDay": 3,
          "West": 42,
          "Year": 2012
         },
         {
          "Date2": "2012-10-25 14:00:00",
          "DateString": "10/25/2012 02:00:00 PM",
          "East": 38,
          "Hour": 14,
          "JulianDay": 22,
          "WeekDay": 3,
          "West": 52,
          "Year": 2012
         },
         {
          "Date2": "2012-10-25 15:00:00",
          "DateString": "10/25/2012 03:00:00 PM",
          "East": 86,
          "Hour": 15,
          "JulianDay": 22,
          "WeekDay": 3,
          "West": 60,
          "Year": 2012
         },
         {
          "Date2": "2012-10-25 16:00:00",
          "DateString": "10/25/2012 04:00:00 PM",
          "East": 138,
          "Hour": 16,
          "JulianDay": 22,
          "WeekDay": 3,
          "West": 93,
          "Year": 2012
         },
         {
          "Date2": "2012-10-25 17:00:00",
          "DateString": "10/25/2012 05:00:00 PM",
          "East": 295,
          "Hour": 17,
          "JulianDay": 22,
          "WeekDay": 3,
          "West": 130,
          "Year": 2012
         },
         {
          "Date2": "2012-10-25 18:00:00",
          "DateString": "10/25/2012 06:00:00 PM",
          "East": 193,
          "Hour": 18,
          "JulianDay": 22,
          "WeekDay": 3,
          "West": 79,
          "Year": 2012
         },
         {
          "Date2": "2012-10-25 19:00:00",
          "DateString": "10/25/2012 07:00:00 PM",
          "East": 61,
          "Hour": 19,
          "JulianDay": 22,
          "WeekDay": 3,
          "West": 47,
          "Year": 2012
         },
         {
          "Date2": "2012-10-25 20:00:00",
          "DateString": "10/25/2012 08:00:00 PM",
          "East": 49,
          "Hour": 20,
          "JulianDay": 22,
          "WeekDay": 3,
          "West": 30,
          "Year": 2012
         },
         {
          "Date2": "2012-10-25 21:00:00",
          "DateString": "10/25/2012 09:00:00 PM",
          "East": 34,
          "Hour": 21,
          "JulianDay": 22,
          "WeekDay": 3,
          "West": 21,
          "Year": 2012
         },
         {
          "Date2": "2012-10-25 22:00:00",
          "DateString": "10/25/2012 10:00:00 PM",
          "East": 19,
          "Hour": 22,
          "JulianDay": 22,
          "WeekDay": 3,
          "West": 9,
          "Year": 2012
         },
         {
          "Date2": "2012-10-25 23:00:00",
          "DateString": "10/25/2012 11:00:00 PM",
          "East": 12,
          "Hour": 23,
          "JulianDay": 22,
          "WeekDay": 3,
          "West": 16,
          "Year": 2012
         },
         {
          "Date2": "2012-10-26 00:00:00",
          "DateString": "10/26/2012 12:00:00 AM",
          "East": 8,
          "Hour": 0,
          "JulianDay": 23,
          "WeekDay": 4,
          "West": 11,
          "Year": 2012
         },
         {
          "Date2": "2012-10-26 01:00:00",
          "DateString": "10/26/2012 01:00:00 AM",
          "East": 7,
          "Hour": 1,
          "JulianDay": 23,
          "WeekDay": 4,
          "West": 9,
          "Year": 2012
         },
         {
          "Date2": "2012-10-26 02:00:00",
          "DateString": "10/26/2012 02:00:00 AM",
          "East": 1,
          "Hour": 2,
          "JulianDay": 23,
          "WeekDay": 4,
          "West": 3,
          "Year": 2012
         },
         {
          "Date2": "2012-10-26 03:00:00",
          "DateString": "10/26/2012 03:00:00 AM",
          "East": 1,
          "Hour": 3,
          "JulianDay": 23,
          "WeekDay": 4,
          "West": 0,
          "Year": 2012
         },
         {
          "Date2": "2012-10-26 04:00:00",
          "DateString": "10/26/2012 04:00:00 AM",
          "East": 6,
          "Hour": 4,
          "JulianDay": 23,
          "WeekDay": 4,
          "West": 4,
          "Year": 2012
         },
         {
          "Date2": "2012-10-26 05:00:00",
          "DateString": "10/26/2012 05:00:00 AM",
          "East": 9,
          "Hour": 5,
          "JulianDay": 23,
          "WeekDay": 4,
          "West": 12,
          "Year": 2012
         },
         {
          "Date2": "2012-10-26 06:00:00",
          "DateString": "10/26/2012 06:00:00 AM",
          "East": 32,
          "Hour": 6,
          "JulianDay": 23,
          "WeekDay": 4,
          "West": 55,
          "Year": 2012
         },
         {
          "Date2": "2012-10-26 07:00:00",
          "DateString": "10/26/2012 07:00:00 AM",
          "East": 66,
          "Hour": 7,
          "JulianDay": 23,
          "WeekDay": 4,
          "West": 137,
          "Year": 2012
         },
         {
          "Date2": "2012-10-26 08:00:00",
          "DateString": "10/26/2012 08:00:00 AM",
          "East": 96,
          "Hour": 8,
          "JulianDay": 23,
          "WeekDay": 4,
          "West": 187,
          "Year": 2012
         },
         {
          "Date2": "2012-10-26 09:00:00",
          "DateString": "10/26/2012 09:00:00 AM",
          "East": 55,
          "Hour": 9,
          "JulianDay": 23,
          "WeekDay": 4,
          "West": 116,
          "Year": 2012
         },
         {
          "Date2": "2012-10-26 10:00:00",
          "DateString": "10/26/2012 10:00:00 AM",
          "East": 27,
          "Hour": 10,
          "JulianDay": 23,
          "WeekDay": 4,
          "West": 59,
          "Year": 2012
         },
         {
          "Date2": "2012-10-26 11:00:00",
          "DateString": "10/26/2012 11:00:00 AM",
          "East": 22,
          "Hour": 11,
          "JulianDay": 23,
          "WeekDay": 4,
          "West": 28,
          "Year": 2012
         },
         {
          "Date2": "2012-10-26 12:00:00",
          "DateString": "10/26/2012 12:00:00 PM",
          "East": 20,
          "Hour": 12,
          "JulianDay": 23,
          "WeekDay": 4,
          "West": 22,
          "Year": 2012
         },
         {
          "Date2": "2012-10-26 13:00:00",
          "DateString": "10/26/2012 01:00:00 PM",
          "East": 27,
          "Hour": 13,
          "JulianDay": 23,
          "WeekDay": 4,
          "West": 13,
          "Year": 2012
         },
         {
          "Date2": "2012-10-26 14:00:00",
          "DateString": "10/26/2012 02:00:00 PM",
          "East": 33,
          "Hour": 14,
          "JulianDay": 23,
          "WeekDay": 4,
          "West": 26,
          "Year": 2012
         },
         {
          "Date2": "2012-10-26 15:00:00",
          "DateString": "10/26/2012 03:00:00 PM",
          "East": 67,
          "Hour": 15,
          "JulianDay": 23,
          "WeekDay": 4,
          "West": 49,
          "Year": 2012
         },
         {
          "Date2": "2012-10-26 16:00:00",
          "DateString": "10/26/2012 04:00:00 PM",
          "East": 108,
          "Hour": 16,
          "JulianDay": 23,
          "WeekDay": 4,
          "West": 90,
          "Year": 2012
         },
         {
          "Date2": "2012-10-26 17:00:00",
          "DateString": "10/26/2012 05:00:00 PM",
          "East": 204,
          "Hour": 17,
          "JulianDay": 23,
          "WeekDay": 4,
          "West": 94,
          "Year": 2012
         },
         {
          "Date2": "2012-10-26 18:00:00",
          "DateString": "10/26/2012 06:00:00 PM",
          "East": 131,
          "Hour": 18,
          "JulianDay": 23,
          "WeekDay": 4,
          "West": 65,
          "Year": 2012
         },
         {
          "Date2": "2012-10-26 19:00:00",
          "DateString": "10/26/2012 07:00:00 PM",
          "East": 43,
          "Hour": 19,
          "JulianDay": 23,
          "WeekDay": 4,
          "West": 22,
          "Year": 2012
         },
         {
          "Date2": "2012-10-26 20:00:00",
          "DateString": "10/26/2012 08:00:00 PM",
          "East": 28,
          "Hour": 20,
          "JulianDay": 23,
          "WeekDay": 4,
          "West": 14,
          "Year": 2012
         },
         {
          "Date2": "2012-10-26 21:00:00",
          "DateString": "10/26/2012 09:00:00 PM",
          "East": 24,
          "Hour": 21,
          "JulianDay": 23,
          "WeekDay": 4,
          "West": 9,
          "Year": 2012
         },
         {
          "Date2": "2012-10-26 22:00:00",
          "DateString": "10/26/2012 10:00:00 PM",
          "East": 9,
          "Hour": 22,
          "JulianDay": 23,
          "WeekDay": 4,
          "West": 6,
          "Year": 2012
         },
         {
          "Date2": "2012-10-26 23:00:00",
          "DateString": "10/26/2012 11:00:00 PM",
          "East": 10,
          "Hour": 23,
          "JulianDay": 23,
          "WeekDay": 4,
          "West": 8,
          "Year": 2012
         },
         {
          "Date2": "2012-10-27 00:00:00",
          "DateString": "10/27/2012 12:00:00 AM",
          "East": 6,
          "Hour": 0,
          "JulianDay": 24,
          "WeekDay": 5,
          "West": 6,
          "Year": 2012
         },
         {
          "Date2": "2012-10-27 01:00:00",
          "DateString": "10/27/2012 01:00:00 AM",
          "East": 3,
          "Hour": 1,
          "JulianDay": 24,
          "WeekDay": 5,
          "West": 6,
          "Year": 2012
         },
         {
          "Date2": "2012-10-27 02:00:00",
          "DateString": "10/27/2012 02:00:00 AM",
          "East": 10,
          "Hour": 2,
          "JulianDay": 24,
          "WeekDay": 5,
          "West": 6,
          "Year": 2012
         },
         {
          "Date2": "2012-10-27 03:00:00",
          "DateString": "10/27/2012 03:00:00 AM",
          "East": 1,
          "Hour": 3,
          "JulianDay": 24,
          "WeekDay": 5,
          "West": 1,
          "Year": 2012
         },
         {
          "Date2": "2012-10-27 04:00:00",
          "DateString": "10/27/2012 04:00:00 AM",
          "East": 3,
          "Hour": 4,
          "JulianDay": 24,
          "WeekDay": 5,
          "West": 2,
          "Year": 2012
         },
         {
          "Date2": "2012-10-27 05:00:00",
          "DateString": "10/27/2012 05:00:00 AM",
          "East": 6,
          "Hour": 5,
          "JulianDay": 24,
          "WeekDay": 5,
          "West": 7,
          "Year": 2012
         },
         {
          "Date2": "2012-10-27 06:00:00",
          "DateString": "10/27/2012 06:00:00 AM",
          "East": 6,
          "Hour": 6,
          "JulianDay": 24,
          "WeekDay": 5,
          "West": 7,
          "Year": 2012
         },
         {
          "Date2": "2012-10-27 07:00:00",
          "DateString": "10/27/2012 07:00:00 AM",
          "East": 6,
          "Hour": 7,
          "JulianDay": 24,
          "WeekDay": 5,
          "West": 9,
          "Year": 2012
         },
         {
          "Date2": "2012-10-27 08:00:00",
          "DateString": "10/27/2012 08:00:00 AM",
          "East": 13,
          "Hour": 8,
          "JulianDay": 24,
          "WeekDay": 5,
          "West": 12,
          "Year": 2012
         },
         {
          "Date2": "2012-10-27 09:00:00",
          "DateString": "10/27/2012 09:00:00 AM",
          "East": 11,
          "Hour": 9,
          "JulianDay": 24,
          "WeekDay": 5,
          "West": 14,
          "Year": 2012
         },
         {
          "Date2": "2012-10-27 10:00:00",
          "DateString": "10/27/2012 10:00:00 AM",
          "East": 11,
          "Hour": 10,
          "JulianDay": 24,
          "WeekDay": 5,
          "West": 10,
          "Year": 2012
         },
         {
          "Date2": "2012-10-27 11:00:00",
          "DateString": "10/27/2012 11:00:00 AM",
          "East": 9,
          "Hour": 11,
          "JulianDay": 24,
          "WeekDay": 5,
          "West": 22,
          "Year": 2012
         },
         {
          "Date2": "2012-10-27 12:00:00",
          "DateString": "10/27/2012 12:00:00 PM",
          "East": 12,
          "Hour": 12,
          "JulianDay": 24,
          "WeekDay": 5,
          "West": 13,
          "Year": 2012
         },
         {
          "Date2": "2012-10-27 13:00:00",
          "DateString": "10/27/2012 01:00:00 PM",
          "East": 13,
          "Hour": 13,
          "JulianDay": 24,
          "WeekDay": 5,
          "West": 28,
          "Year": 2012
         },
         {
          "Date2": "2012-10-27 14:00:00",
          "DateString": "10/27/2012 02:00:00 PM",
          "East": 28,
          "Hour": 14,
          "JulianDay": 24,
          "WeekDay": 5,
          "West": 23,
          "Year": 2012
         },
         {
          "Date2": "2012-10-27 15:00:00",
          "DateString": "10/27/2012 03:00:00 PM",
          "East": 21,
          "Hour": 15,
          "JulianDay": 24,
          "WeekDay": 5,
          "West": 30,
          "Year": 2012
         },
         {
          "Date2": "2012-10-27 16:00:00",
          "DateString": "10/27/2012 04:00:00 PM",
          "East": 32,
          "Hour": 16,
          "JulianDay": 24,
          "WeekDay": 5,
          "West": 27,
          "Year": 2012
         },
         {
          "Date2": "2012-10-27 17:00:00",
          "DateString": "10/27/2012 05:00:00 PM",
          "East": 10,
          "Hour": 17,
          "JulianDay": 24,
          "WeekDay": 5,
          "West": 26,
          "Year": 2012
         },
         {
          "Date2": "2012-10-27 18:00:00",
          "DateString": "10/27/2012 06:00:00 PM",
          "East": 7,
          "Hour": 18,
          "JulianDay": 24,
          "WeekDay": 5,
          "West": 11,
          "Year": 2012
         },
         {
          "Date2": "2012-10-27 19:00:00",
          "DateString": "10/27/2012 07:00:00 PM",
          "East": 7,
          "Hour": 19,
          "JulianDay": 24,
          "WeekDay": 5,
          "West": 8,
          "Year": 2012
         },
         {
          "Date2": "2012-10-27 20:00:00",
          "DateString": "10/27/2012 08:00:00 PM",
          "East": 3,
          "Hour": 20,
          "JulianDay": 24,
          "WeekDay": 5,
          "West": 5,
          "Year": 2012
         },
         {
          "Date2": "2012-10-27 21:00:00",
          "DateString": "10/27/2012 09:00:00 PM",
          "East": 11,
          "Hour": 21,
          "JulianDay": 24,
          "WeekDay": 5,
          "West": 6,
          "Year": 2012
         },
         {
          "Date2": "2012-10-27 22:00:00",
          "DateString": "10/27/2012 10:00:00 PM",
          "East": 5,
          "Hour": 22,
          "JulianDay": 24,
          "WeekDay": 5,
          "West": 7,
          "Year": 2012
         },
         {
          "Date2": "2012-10-27 23:00:00",
          "DateString": "10/27/2012 11:00:00 PM",
          "East": 8,
          "Hour": 23,
          "JulianDay": 24,
          "WeekDay": 5,
          "West": 3,
          "Year": 2012
         },
         {
          "Date2": "2012-10-28 00:00:00",
          "DateString": "10/28/2012 12:00:00 AM",
          "East": 5,
          "Hour": 0,
          "JulianDay": 25,
          "WeekDay": 6,
          "West": 5,
          "Year": 2012
         },
         {
          "Date2": "2012-10-28 01:00:00",
          "DateString": "10/28/2012 01:00:00 AM",
          "East": 11,
          "Hour": 1,
          "JulianDay": 25,
          "WeekDay": 6,
          "West": 0,
          "Year": 2012
         },
         {
          "Date2": "2012-10-28 02:00:00",
          "DateString": "10/28/2012 02:00:00 AM",
          "East": 3,
          "Hour": 2,
          "JulianDay": 25,
          "WeekDay": 6,
          "West": 4,
          "Year": 2012
         },
         {
          "Date2": "2012-10-28 03:00:00",
          "DateString": "10/28/2012 03:00:00 AM",
          "East": 3,
          "Hour": 3,
          "JulianDay": 25,
          "WeekDay": 6,
          "West": 1,
          "Year": 2012
         },
         {
          "Date2": "2012-10-28 04:00:00",
          "DateString": "10/28/2012 04:00:00 AM",
          "East": 1,
          "Hour": 4,
          "JulianDay": 25,
          "WeekDay": 6,
          "West": 2,
          "Year": 2012
         },
         {
          "Date2": "2012-10-28 05:00:00",
          "DateString": "10/28/2012 05:00:00 AM",
          "East": 1,
          "Hour": 5,
          "JulianDay": 25,
          "WeekDay": 6,
          "West": 5,
          "Year": 2012
         },
         {
          "Date2": "2012-10-28 06:00:00",
          "DateString": "10/28/2012 06:00:00 AM",
          "East": 9,
          "Hour": 6,
          "JulianDay": 25,
          "WeekDay": 6,
          "West": 1,
          "Year": 2012
         },
         {
          "Date2": "2012-10-28 07:00:00",
          "DateString": "10/28/2012 07:00:00 AM",
          "East": 6,
          "Hour": 7,
          "JulianDay": 25,
          "WeekDay": 6,
          "West": 11,
          "Year": 2012
         },
         {
          "Date2": "2012-10-28 08:00:00",
          "DateString": "10/28/2012 08:00:00 AM",
          "East": 15,
          "Hour": 8,
          "JulianDay": 25,
          "WeekDay": 6,
          "West": 16,
          "Year": 2012
         },
         {
          "Date2": "2012-10-28 09:00:00",
          "DateString": "10/28/2012 09:00:00 AM",
          "East": 24,
          "Hour": 9,
          "JulianDay": 25,
          "WeekDay": 6,
          "West": 18,
          "Year": 2012
         },
         {
          "Date2": "2012-10-28 10:00:00",
          "DateString": "10/28/2012 10:00:00 AM",
          "East": 24,
          "Hour": 10,
          "JulianDay": 25,
          "WeekDay": 6,
          "West": 29,
          "Year": 2012
         },
         {
          "Date2": "2012-10-28 11:00:00",
          "DateString": "10/28/2012 11:00:00 AM",
          "East": 31,
          "Hour": 11,
          "JulianDay": 25,
          "WeekDay": 6,
          "West": 47,
          "Year": 2012
         },
         {
          "Date2": "2012-10-28 12:00:00",
          "DateString": "10/28/2012 12:00:00 PM",
          "East": 42,
          "Hour": 12,
          "JulianDay": 25,
          "WeekDay": 6,
          "West": 73,
          "Year": 2012
         },
         {
          "Date2": "2012-10-28 13:00:00",
          "DateString": "10/28/2012 01:00:00 PM",
          "East": 51,
          "Hour": 13,
          "JulianDay": 25,
          "WeekDay": 6,
          "West": 74,
          "Year": 2012
         },
         {
          "Date2": "2012-10-28 14:00:00",
          "DateString": "10/28/2012 02:00:00 PM",
          "East": 49,
          "Hour": 14,
          "JulianDay": 25,
          "WeekDay": 6,
          "West": 89,
          "Year": 2012
         },
         {
          "Date2": "2012-10-28 15:00:00",
          "DateString": "10/28/2012 03:00:00 PM",
          "East": 46,
          "Hour": 15,
          "JulianDay": 25,
          "WeekDay": 6,
          "West": 74,
          "Year": 2012
         },
         {
          "Date2": "2012-10-28 16:00:00",
          "DateString": "10/28/2012 04:00:00 PM",
          "East": 40,
          "Hour": 16,
          "JulianDay": 25,
          "WeekDay": 6,
          "West": 59,
          "Year": 2012
         },
         {
          "Date2": "2012-10-28 17:00:00",
          "DateString": "10/28/2012 05:00:00 PM",
          "East": 39,
          "Hour": 17,
          "JulianDay": 25,
          "WeekDay": 6,
          "West": 50,
          "Year": 2012
         },
         {
          "Date2": "2012-10-28 18:00:00",
          "DateString": "10/28/2012 06:00:00 PM",
          "East": 13,
          "Hour": 18,
          "JulianDay": 25,
          "WeekDay": 6,
          "West": 21,
          "Year": 2012
         },
         {
          "Date2": "2012-10-28 19:00:00",
          "DateString": "10/28/2012 07:00:00 PM",
          "East": 11,
          "Hour": 19,
          "JulianDay": 25,
          "WeekDay": 6,
          "West": 10,
          "Year": 2012
         },
         {
          "Date2": "2012-10-28 20:00:00",
          "DateString": "10/28/2012 08:00:00 PM",
          "East": 9,
          "Hour": 20,
          "JulianDay": 25,
          "WeekDay": 6,
          "West": 8,
          "Year": 2012
         },
         {
          "Date2": "2012-10-28 21:00:00",
          "DateString": "10/28/2012 09:00:00 PM",
          "East": 7,
          "Hour": 21,
          "JulianDay": 25,
          "WeekDay": 6,
          "West": 5,
          "Year": 2012
         },
         {
          "Date2": "2012-10-28 22:00:00",
          "DateString": "10/28/2012 10:00:00 PM",
          "East": 6,
          "Hour": 22,
          "JulianDay": 25,
          "WeekDay": 6,
          "West": 8,
          "Year": 2012
         },
         {
          "Date2": "2012-10-28 23:00:00",
          "DateString": "10/28/2012 11:00:00 PM",
          "East": 5,
          "Hour": 23,
          "JulianDay": 25,
          "WeekDay": 6,
          "West": 1,
          "Year": 2012
         },
         {
          "Date2": "2012-10-29 00:00:00",
          "DateString": "10/29/2012 12:00:00 AM",
          "East": 7,
          "Hour": 0,
          "JulianDay": 26,
          "WeekDay": 0,
          "West": 4,
          "Year": 2012
         },
         {
          "Date2": "2012-10-29 01:00:00",
          "DateString": "10/29/2012 01:00:00 AM",
          "East": 1,
          "Hour": 1,
          "JulianDay": 26,
          "WeekDay": 0,
          "West": 0,
          "Year": 2012
         },
         {
          "Date2": "2012-10-29 02:00:00",
          "DateString": "10/29/2012 02:00:00 AM",
          "East": 1,
          "Hour": 2,
          "JulianDay": 26,
          "WeekDay": 0,
          "West": 2,
          "Year": 2012
         },
         {
          "Date2": "2012-10-29 03:00:00",
          "DateString": "10/29/2012 03:00:00 AM",
          "East": 2,
          "Hour": 3,
          "JulianDay": 26,
          "WeekDay": 0,
          "West": 0,
          "Year": 2012
         },
         {
          "Date2": "2012-10-29 04:00:00",
          "DateString": "10/29/2012 04:00:00 AM",
          "East": 3,
          "Hour": 4,
          "JulianDay": 26,
          "WeekDay": 0,
          "West": 2,
          "Year": 2012
         },
         {
          "Date2": "2012-10-29 05:00:00",
          "DateString": "10/29/2012 05:00:00 AM",
          "East": 5,
          "Hour": 5,
          "JulianDay": 26,
          "WeekDay": 0,
          "West": 17,
          "Year": 2012
         },
         {
          "Date2": "2012-10-29 06:00:00",
          "DateString": "10/29/2012 06:00:00 AM",
          "East": 30,
          "Hour": 6,
          "JulianDay": 26,
          "WeekDay": 0,
          "West": 65,
          "Year": 2012
         },
         {
          "Date2": "2012-10-29 07:00:00",
          "DateString": "10/29/2012 07:00:00 AM",
          "East": 53,
          "Hour": 7,
          "JulianDay": 26,
          "WeekDay": 0,
          "West": 161,
          "Year": 2012
         },
         {
          "Date2": "2012-10-29 08:00:00",
          "DateString": "10/29/2012 08:00:00 AM",
          "East": 87,
          "Hour": 8,
          "JulianDay": 26,
          "WeekDay": 0,
          "West": 187,
          "Year": 2012
         },
         {
          "Date2": "2012-10-29 09:00:00",
          "DateString": "10/29/2012 09:00:00 AM",
          "East": 51,
          "Hour": 9,
          "JulianDay": 26,
          "WeekDay": 0,
          "West": 101,
          "Year": 2012
         },
         {
          "Date2": "2012-10-29 10:00:00",
          "DateString": "10/29/2012 10:00:00 AM",
          "East": 36,
          "Hour": 10,
          "JulianDay": 26,
          "WeekDay": 0,
          "West": 37,
          "Year": 2012
         },
         {
          "Date2": "2012-10-29 11:00:00",
          "DateString": "10/29/2012 11:00:00 AM",
          "East": 29,
          "Hour": 11,
          "JulianDay": 26,
          "WeekDay": 0,
          "West": 26,
          "Year": 2012
         },
         {
          "Date2": "2012-10-29 12:00:00",
          "DateString": "10/29/2012 12:00:00 PM",
          "East": 21,
          "Hour": 12,
          "JulianDay": 26,
          "WeekDay": 0,
          "West": 36,
          "Year": 2012
         },
         {
          "Date2": "2012-10-29 13:00:00",
          "DateString": "10/29/2012 01:00:00 PM",
          "East": 23,
          "Hour": 13,
          "JulianDay": 26,
          "WeekDay": 0,
          "West": 40,
          "Year": 2012
         },
         {
          "Date2": "2012-10-29 14:00:00",
          "DateString": "10/29/2012 02:00:00 PM",
          "East": 34,
          "Hour": 14,
          "JulianDay": 26,
          "WeekDay": 0,
          "West": 48,
          "Year": 2012
         },
         {
          "Date2": "2012-10-29 15:00:00",
          "DateString": "10/29/2012 03:00:00 PM",
          "East": 53,
          "Hour": 15,
          "JulianDay": 26,
          "WeekDay": 0,
          "West": 36,
          "Year": 2012
         },
         {
          "Date2": "2012-10-29 16:00:00",
          "DateString": "10/29/2012 04:00:00 PM",
          "East": 85,
          "Hour": 16,
          "JulianDay": 26,
          "WeekDay": 0,
          "West": 92,
          "Year": 2012
         },
         {
          "Date2": "2012-10-29 17:00:00",
          "DateString": "10/29/2012 05:00:00 PM",
          "East": 247,
          "Hour": 17,
          "JulianDay": 26,
          "WeekDay": 0,
          "West": 129,
          "Year": 2012
         },
         {
          "Date2": "2012-10-29 18:00:00",
          "DateString": "10/29/2012 06:00:00 PM",
          "East": 164,
          "Hour": 18,
          "JulianDay": 26,
          "WeekDay": 0,
          "West": 82,
          "Year": 2012
         },
         {
          "Date2": "2012-10-29 19:00:00",
          "DateString": "10/29/2012 07:00:00 PM",
          "East": 58,
          "Hour": 19,
          "JulianDay": 26,
          "WeekDay": 0,
          "West": 35,
          "Year": 2012
         },
         {
          "Date2": "2012-10-29 20:00:00",
          "DateString": "10/29/2012 08:00:00 PM",
          "East": 36,
          "Hour": 20,
          "JulianDay": 26,
          "WeekDay": 0,
          "West": 19,
          "Year": 2012
         },
         {
          "Date2": "2012-10-29 21:00:00",
          "DateString": "10/29/2012 09:00:00 PM",
          "East": 27,
          "Hour": 21,
          "JulianDay": 26,
          "WeekDay": 0,
          "West": 13,
          "Year": 2012
         },
         {
          "Date2": "2012-10-29 22:00:00",
          "DateString": "10/29/2012 10:00:00 PM",
          "East": 9,
          "Hour": 22,
          "JulianDay": 26,
          "WeekDay": 0,
          "West": 6,
          "Year": 2012
         },
         {
          "Date2": "2012-10-29 23:00:00",
          "DateString": "10/29/2012 11:00:00 PM",
          "East": 9,
          "Hour": 23,
          "JulianDay": 26,
          "WeekDay": 0,
          "West": 8,
          "Year": 2012
         },
         {
          "Date2": "2012-10-30 00:00:00",
          "DateString": "10/30/2012 12:00:00 AM",
          "East": 7,
          "Hour": 0,
          "JulianDay": 27,
          "WeekDay": 1,
          "West": 8,
          "Year": 2012
         },
         {
          "Date2": "2012-10-30 01:00:00",
          "DateString": "10/30/2012 01:00:00 AM",
          "East": 0,
          "Hour": 1,
          "JulianDay": 27,
          "WeekDay": 1,
          "West": 1,
          "Year": 2012
         },
         {
          "Date2": "2012-10-30 02:00:00",
          "DateString": "10/30/2012 02:00:00 AM",
          "East": 1,
          "Hour": 2,
          "JulianDay": 27,
          "WeekDay": 1,
          "West": 4,
          "Year": 2012
         },
         {
          "Date2": "2012-10-30 03:00:00",
          "DateString": "10/30/2012 03:00:00 AM",
          "East": 2,
          "Hour": 3,
          "JulianDay": 27,
          "WeekDay": 1,
          "West": 1,
          "Year": 2012
         },
         {
          "Date2": "2012-10-30 04:00:00",
          "DateString": "10/30/2012 04:00:00 AM",
          "East": 3,
          "Hour": 4,
          "JulianDay": 27,
          "WeekDay": 1,
          "West": 3,
          "Year": 2012
         },
         {
          "Date2": "2012-10-30 05:00:00",
          "DateString": "10/30/2012 05:00:00 AM",
          "East": 6,
          "Hour": 5,
          "JulianDay": 27,
          "WeekDay": 1,
          "West": 18,
          "Year": 2012
         },
         {
          "Date2": "2012-10-30 06:00:00",
          "DateString": "10/30/2012 06:00:00 AM",
          "East": 23,
          "Hour": 6,
          "JulianDay": 27,
          "WeekDay": 1,
          "West": 59,
          "Year": 2012
         },
         {
          "Date2": "2012-10-30 07:00:00",
          "DateString": "10/30/2012 07:00:00 AM",
          "East": 49,
          "Hour": 7,
          "JulianDay": 27,
          "WeekDay": 1,
          "West": 151,
          "Year": 2012
         },
         {
          "Date2": "2012-10-30 08:00:00",
          "DateString": "10/30/2012 08:00:00 AM",
          "East": 75,
          "Hour": 8,
          "JulianDay": 27,
          "WeekDay": 1,
          "West": 185,
          "Year": 2012
         },
         {
          "Date2": "2012-10-30 09:00:00",
          "DateString": "10/30/2012 09:00:00 AM",
          "East": 53,
          "Hour": 9,
          "JulianDay": 27,
          "WeekDay": 1,
          "West": 88,
          "Year": 2012
         },
         {
          "Date2": "2012-10-30 10:00:00",
          "DateString": "10/30/2012 10:00:00 AM",
          "East": 23,
          "Hour": 10,
          "JulianDay": 27,
          "WeekDay": 1,
          "West": 33,
          "Year": 2012
         },
         {
          "Date2": "2012-10-30 11:00:00",
          "DateString": "10/30/2012 11:00:00 AM",
          "East": 13,
          "Hour": 11,
          "JulianDay": 27,
          "WeekDay": 1,
          "West": 22,
          "Year": 2012
         },
         {
          "Date2": "2012-10-30 12:00:00",
          "DateString": "10/30/2012 12:00:00 PM",
          "East": 13,
          "Hour": 12,
          "JulianDay": 27,
          "WeekDay": 1,
          "West": 17,
          "Year": 2012
         },
         {
          "Date2": "2012-10-30 13:00:00",
          "DateString": "10/30/2012 01:00:00 PM",
          "East": 14,
          "Hour": 13,
          "JulianDay": 27,
          "WeekDay": 1,
          "West": 27,
          "Year": 2012
         },
         {
          "Date2": "2012-10-30 14:00:00",
          "DateString": "10/30/2012 02:00:00 PM",
          "East": 24,
          "Hour": 14,
          "JulianDay": 27,
          "WeekDay": 1,
          "West": 19,
          "Year": 2012
         },
         {
          "Date2": "2012-10-30 15:00:00",
          "DateString": "10/30/2012 03:00:00 PM",
          "East": 31,
          "Hour": 15,
          "JulianDay": 27,
          "WeekDay": 1,
          "West": 33,
          "Year": 2012
         },
         {
          "Date2": "2012-10-30 16:00:00",
          "DateString": "10/30/2012 04:00:00 PM",
          "East": 70,
          "Hour": 16,
          "JulianDay": 27,
          "WeekDay": 1,
          "West": 43,
          "Year": 2012
         },
         {
          "Date2": "2012-10-30 17:00:00",
          "DateString": "10/30/2012 05:00:00 PM",
          "East": 199,
          "Hour": 17,
          "JulianDay": 27,
          "WeekDay": 1,
          "West": 83,
          "Year": 2012
         },
         {
          "Date2": "2012-10-30 18:00:00",
          "DateString": "10/30/2012 06:00:00 PM",
          "East": 132,
          "Hour": 18,
          "JulianDay": 27,
          "WeekDay": 1,
          "West": 57,
          "Year": 2012
         },
         {
          "Date2": "2012-10-30 19:00:00",
          "DateString": "10/30/2012 07:00:00 PM",
          "East": 44,
          "Hour": 19,
          "JulianDay": 27,
          "WeekDay": 1,
          "West": 21,
          "Year": 2012
         },
         {
          "Date2": "2012-10-30 20:00:00",
          "DateString": "10/30/2012 08:00:00 PM",
          "East": 20,
          "Hour": 20,
          "JulianDay": 27,
          "WeekDay": 1,
          "West": 15,
          "Year": 2012
         },
         {
          "Date2": "2012-10-30 21:00:00",
          "DateString": "10/30/2012 09:00:00 PM",
          "East": 8,
          "Hour": 21,
          "JulianDay": 27,
          "WeekDay": 1,
          "West": 8,
          "Year": 2012
         },
         {
          "Date2": "2012-10-30 22:00:00",
          "DateString": "10/30/2012 10:00:00 PM",
          "East": 8,
          "Hour": 22,
          "JulianDay": 27,
          "WeekDay": 1,
          "West": 8,
          "Year": 2012
         },
         {
          "Date2": "2012-10-30 23:00:00",
          "DateString": "10/30/2012 11:00:00 PM",
          "East": 5,
          "Hour": 23,
          "JulianDay": 27,
          "WeekDay": 1,
          "West": 8,
          "Year": 2012
         },
         {
          "Date2": "2012-10-31 00:00:00",
          "DateString": "10/31/2012 12:00:00 AM",
          "East": 2,
          "Hour": 0,
          "JulianDay": 28,
          "WeekDay": 2,
          "West": 2,
          "Year": 2012
         },
         {
          "Date2": "2012-10-31 01:00:00",
          "DateString": "10/31/2012 01:00:00 AM",
          "East": 1,
          "Hour": 1,
          "JulianDay": 28,
          "WeekDay": 2,
          "West": 4,
          "Year": 2012
         },
         {
          "Date2": "2012-10-31 02:00:00",
          "DateString": "10/31/2012 02:00:00 AM",
          "East": 0,
          "Hour": 2,
          "JulianDay": 28,
          "WeekDay": 2,
          "West": 2,
          "Year": 2012
         },
         {
          "Date2": "2012-10-31 03:00:00",
          "DateString": "10/31/2012 03:00:00 AM",
          "East": 1,
          "Hour": 3,
          "JulianDay": 28,
          "WeekDay": 2,
          "West": 0,
          "Year": 2012
         },
         {
          "Date2": "2012-10-31 04:00:00",
          "DateString": "10/31/2012 04:00:00 AM",
          "East": 4,
          "Hour": 4,
          "JulianDay": 28,
          "WeekDay": 2,
          "West": 7,
          "Year": 2012
         },
         {
          "Date2": "2012-10-31 05:00:00",
          "DateString": "10/31/2012 05:00:00 AM",
          "East": 4,
          "Hour": 5,
          "JulianDay": 28,
          "WeekDay": 2,
          "West": 7,
          "Year": 2012
         },
         {
          "Date2": "2012-10-31 06:00:00",
          "DateString": "10/31/2012 06:00:00 AM",
          "East": 22,
          "Hour": 6,
          "JulianDay": 28,
          "WeekDay": 2,
          "West": 47,
          "Year": 2012
         },
         {
          "Date2": "2012-10-31 07:00:00",
          "DateString": "10/31/2012 07:00:00 AM",
          "East": 37,
          "Hour": 7,
          "JulianDay": 28,
          "WeekDay": 2,
          "West": 133,
          "Year": 2012
         },
         {
          "Date2": "2012-10-31 08:00:00",
          "DateString": "10/31/2012 08:00:00 AM",
          "East": 76,
          "Hour": 8,
          "JulianDay": 28,
          "WeekDay": 2,
          "West": 169,
          "Year": 2012
         },
         {
          "Date2": "2012-10-31 09:00:00",
          "DateString": "10/31/2012 09:00:00 AM",
          "East": 37,
          "Hour": 9,
          "JulianDay": 28,
          "WeekDay": 2,
          "West": 88,
          "Year": 2012
         },
         {
          "Date2": "2012-10-31 10:00:00",
          "DateString": "10/31/2012 10:00:00 AM",
          "East": 16,
          "Hour": 10,
          "JulianDay": 28,
          "WeekDay": 2,
          "West": 26,
          "Year": 2012
         },
         {
          "Date2": "2012-10-31 11:00:00",
          "DateString": "10/31/2012 11:00:00 AM",
          "East": 17,
          "Hour": 11,
          "JulianDay": 28,
          "WeekDay": 2,
          "West": 36,
          "Year": 2012
         },
         {
          "Date2": "2012-10-31 12:00:00",
          "DateString": "10/31/2012 12:00:00 PM",
          "East": 27,
          "Hour": 12,
          "JulianDay": 28,
          "WeekDay": 2,
          "West": 28,
          "Year": 2012
         },
         {
          "Date2": "2012-10-31 13:00:00",
          "DateString": "10/31/2012 01:00:00 PM",
          "East": 21,
          "Hour": 13,
          "JulianDay": 28,
          "WeekDay": 2,
          "West": 14,
          "Year": 2012
         },
         {
          "Date2": "2012-10-31 14:00:00",
          "DateString": "10/31/2012 02:00:00 PM",
          "East": 21,
          "Hour": 14,
          "JulianDay": 28,
          "WeekDay": 2,
          "West": 28,
          "Year": 2012
         },
         {
          "Date2": "2012-10-31 15:00:00",
          "DateString": "10/31/2012 03:00:00 PM",
          "East": 48,
          "Hour": 15,
          "JulianDay": 28,
          "WeekDay": 2,
          "West": 32,
          "Year": 2012
         },
         {
          "Date2": "2012-10-31 16:00:00",
          "DateString": "10/31/2012 04:00:00 PM",
          "East": 94,
          "Hour": 16,
          "JulianDay": 28,
          "WeekDay": 2,
          "West": 57,
          "Year": 2012
         },
         {
          "Date2": "2012-10-31 17:00:00",
          "DateString": "10/31/2012 05:00:00 PM",
          "East": 189,
          "Hour": 17,
          "JulianDay": 28,
          "WeekDay": 2,
          "West": 91,
          "Year": 2012
         },
         {
          "Date2": "2012-10-31 18:00:00",
          "DateString": "10/31/2012 06:00:00 PM",
          "East": 100,
          "Hour": 18,
          "JulianDay": 28,
          "WeekDay": 2,
          "West": 43,
          "Year": 2012
         },
         {
          "Date2": "2012-10-31 19:00:00",
          "DateString": "10/31/2012 07:00:00 PM",
          "East": 54,
          "Hour": 19,
          "JulianDay": 28,
          "WeekDay": 2,
          "West": 34,
          "Year": 2012
         },
         {
          "Date2": "2012-10-31 20:00:00",
          "DateString": "10/31/2012 08:00:00 PM",
          "East": 31,
          "Hour": 20,
          "JulianDay": 28,
          "WeekDay": 2,
          "West": 14,
          "Year": 2012
         },
         {
          "Date2": "2012-10-31 21:00:00",
          "DateString": "10/31/2012 09:00:00 PM",
          "East": 6,
          "Hour": 21,
          "JulianDay": 28,
          "WeekDay": 2,
          "West": 8,
          "Year": 2012
         },
         {
          "Date2": "2012-10-31 22:00:00",
          "DateString": "10/31/2012 10:00:00 PM",
          "East": 6,
          "Hour": 22,
          "JulianDay": 28,
          "WeekDay": 2,
          "West": 8,
          "Year": 2012
         },
         {
          "Date2": "2012-10-31 23:00:00",
          "DateString": "10/31/2012 11:00:00 PM",
          "East": 13,
          "Hour": 23,
          "JulianDay": 28,
          "WeekDay": 2,
          "West": 5,
          "Year": 2012
         },
         {
          "Date2": "2012-11-01 00:00:00",
          "DateString": "11/01/2012 12:00:00 AM",
          "East": 3,
          "Hour": 0,
          "JulianDay": 29,
          "WeekDay": 3,
          "West": 4,
          "Year": 2012
         },
         {
          "Date2": "2012-11-01 01:00:00",
          "DateString": "11/01/2012 01:00:00 AM",
          "East": 3,
          "Hour": 1,
          "JulianDay": 29,
          "WeekDay": 3,
          "West": 2,
          "Year": 2012
         },
         {
          "Date2": "2012-11-01 02:00:00",
          "DateString": "11/01/2012 02:00:00 AM",
          "East": 1,
          "Hour": 2,
          "JulianDay": 29,
          "WeekDay": 3,
          "West": 1,
          "Year": 2012
         },
         {
          "Date2": "2012-11-01 03:00:00",
          "DateString": "11/01/2012 03:00:00 AM",
          "East": 0,
          "Hour": 3,
          "JulianDay": 29,
          "WeekDay": 3,
          "West": 0,
          "Year": 2012
         },
         {
          "Date2": "2012-11-01 04:00:00",
          "DateString": "11/01/2012 04:00:00 AM",
          "East": 4,
          "Hour": 4,
          "JulianDay": 29,
          "WeekDay": 3,
          "West": 2,
          "Year": 2012
         },
         {
          "Date2": "2012-11-01 05:00:00",
          "DateString": "11/01/2012 05:00:00 AM",
          "East": 7,
          "Hour": 5,
          "JulianDay": 29,
          "WeekDay": 3,
          "West": 11,
          "Year": 2012
         },
         {
          "Date2": "2012-11-01 06:00:00",
          "DateString": "11/01/2012 06:00:00 AM",
          "East": 26,
          "Hour": 6,
          "JulianDay": 29,
          "WeekDay": 3,
          "West": 63,
          "Year": 2012
         },
         {
          "Date2": "2012-11-01 07:00:00",
          "DateString": "11/01/2012 07:00:00 AM",
          "East": 52,
          "Hour": 7,
          "JulianDay": 29,
          "WeekDay": 3,
          "West": 146,
          "Year": 2012
         },
         {
          "Date2": "2012-11-01 08:00:00",
          "DateString": "11/01/2012 08:00:00 AM",
          "East": 81,
          "Hour": 8,
          "JulianDay": 29,
          "WeekDay": 3,
          "West": 179,
          "Year": 2012
         },
         {
          "Date2": "2012-11-01 09:00:00",
          "DateString": "11/01/2012 09:00:00 AM",
          "East": 55,
          "Hour": 9,
          "JulianDay": 29,
          "WeekDay": 3,
          "West": 75,
          "Year": 2012
         },
         {
          "Date2": "2012-11-01 10:00:00",
          "DateString": "11/01/2012 10:00:00 AM",
          "East": 17,
          "Hour": 10,
          "JulianDay": 29,
          "WeekDay": 3,
          "West": 39,
          "Year": 2012
         },
         {
          "Date2": "2012-11-01 11:00:00",
          "DateString": "11/01/2012 11:00:00 AM",
          "East": 17,
          "Hour": 11,
          "JulianDay": 29,
          "WeekDay": 3,
          "West": 23,
          "Year": 2012
         },
         {
          "Date2": "2012-11-01 12:00:00",
          "DateString": "11/01/2012 12:00:00 PM",
          "East": 31,
          "Hour": 12,
          "JulianDay": 29,
          "WeekDay": 3,
          "West": 27,
          "Year": 2012
         },
         {
          "Date2": "2012-11-01 13:00:00",
          "DateString": "11/01/2012 01:00:00 PM",
          "East": 27,
          "Hour": 13,
          "JulianDay": 29,
          "WeekDay": 3,
          "West": 41,
          "Year": 2012
         },
         {
          "Date2": "2012-11-01 14:00:00",
          "DateString": "11/01/2012 02:00:00 PM",
          "East": 29,
          "Hour": 14,
          "JulianDay": 29,
          "WeekDay": 3,
          "West": 42,
          "Year": 2012
         },
         {
          "Date2": "2012-11-01 15:00:00",
          "DateString": "11/01/2012 03:00:00 PM",
          "East": 60,
          "Hour": 15,
          "JulianDay": 29,
          "WeekDay": 3,
          "West": 40,
          "Year": 2012
         },
         {
          "Date2": "2012-11-01 16:00:00",
          "DateString": "11/01/2012 04:00:00 PM",
          "East": 93,
          "Hour": 16,
          "JulianDay": 29,
          "WeekDay": 3,
          "West": 94,
          "Year": 2012
         },
         {
          "Date2": "2012-11-01 17:00:00",
          "DateString": "11/01/2012 05:00:00 PM",
          "East": 223,
          "Hour": 17,
          "JulianDay": 29,
          "WeekDay": 3,
          "West": 93,
          "Year": 2012
         },
         {
          "Date2": "2012-11-01 18:00:00",
          "DateString": "11/01/2012 06:00:00 PM",
          "East": 162,
          "Hour": 18,
          "JulianDay": 29,
          "WeekDay": 3,
          "West": 71,
          "Year": 2012
         },
         {
          "Date2": "2012-11-01 19:00:00",
          "DateString": "11/01/2012 07:00:00 PM",
          "East": 68,
          "Hour": 19,
          "JulianDay": 29,
          "WeekDay": 3,
          "West": 38,
          "Year": 2012
         },
         {
          "Date2": "2012-11-01 20:00:00",
          "DateString": "11/01/2012 08:00:00 PM",
          "East": 35,
          "Hour": 20,
          "JulianDay": 29,
          "WeekDay": 3,
          "West": 24,
          "Year": 2012
         },
         {
          "Date2": "2012-11-01 21:00:00",
          "DateString": "11/01/2012 09:00:00 PM",
          "East": 18,
          "Hour": 21,
          "JulianDay": 29,
          "WeekDay": 3,
          "West": 22,
          "Year": 2012
         },
         {
          "Date2": "2012-11-01 22:00:00",
          "DateString": "11/01/2012 10:00:00 PM",
          "East": 8,
          "Hour": 22,
          "JulianDay": 29,
          "WeekDay": 3,
          "West": 13,
          "Year": 2012
         },
         {
          "Date2": "2012-11-01 23:00:00",
          "DateString": "11/01/2012 11:00:00 PM",
          "East": 10,
          "Hour": 23,
          "JulianDay": 29,
          "WeekDay": 3,
          "West": 11,
          "Year": 2012
         },
         {
          "Date2": "2012-11-02 00:00:00",
          "DateString": "11/02/2012 12:00:00 AM",
          "East": 2,
          "Hour": 0,
          "JulianDay": 30,
          "WeekDay": 4,
          "West": 4,
          "Year": 2012
         },
         {
          "Date2": "2012-11-02 01:00:00",
          "DateString": "11/02/2012 01:00:00 AM",
          "East": 4,
          "Hour": 1,
          "JulianDay": 30,
          "WeekDay": 4,
          "West": 3,
          "Year": 2012
         },
         {
          "Date2": "2012-11-02 02:00:00",
          "DateString": "11/02/2012 02:00:00 AM",
          "East": 0,
          "Hour": 2,
          "JulianDay": 30,
          "WeekDay": 4,
          "West": 2,
          "Year": 2012
         },
         {
          "Date2": "2012-11-02 03:00:00",
          "DateString": "11/02/2012 03:00:00 AM",
          "East": 1,
          "Hour": 3,
          "JulianDay": 30,
          "WeekDay": 4,
          "West": 3,
          "Year": 2012
         },
         {
          "Date2": "2012-11-02 04:00:00",
          "DateString": "11/02/2012 04:00:00 AM",
          "East": 5,
          "Hour": 4,
          "JulianDay": 30,
          "WeekDay": 4,
          "West": 5,
          "Year": 2012
         },
         {
          "Date2": "2012-11-02 05:00:00",
          "DateString": "11/02/2012 05:00:00 AM",
          "East": 6,
          "Hour": 5,
          "JulianDay": 30,
          "WeekDay": 4,
          "West": 11,
          "Year": 2012
         },
         {
          "Date2": "2012-11-02 06:00:00",
          "DateString": "11/02/2012 06:00:00 AM",
          "East": 38,
          "Hour": 6,
          "JulianDay": 30,
          "WeekDay": 4,
          "West": 76,
          "Year": 2012
         },
         {
          "Date2": "2012-11-02 07:00:00",
          "DateString": "11/02/2012 07:00:00 AM",
          "East": 68,
          "Hour": 7,
          "JulianDay": 30,
          "WeekDay": 4,
          "West": 162,
          "Year": 2012
         },
         {
          "Date2": "2012-11-02 08:00:00",
          "DateString": "11/02/2012 08:00:00 AM",
          "East": 91,
          "Hour": 8,
          "JulianDay": 30,
          "WeekDay": 4,
          "West": 245,
          "Year": 2012
         },
         {
          "Date2": "2012-11-02 09:00:00",
          "DateString": "11/02/2012 09:00:00 AM",
          "East": 65,
          "Hour": 9,
          "JulianDay": 30,
          "WeekDay": 4,
          "West": 133,
          "Year": 2012
         },
         {
          "Date2": "2012-11-02 10:00:00",
          "DateString": "11/02/2012 10:00:00 AM",
          "East": 39,
          "Hour": 10,
          "JulianDay": 30,
          "WeekDay": 4,
          "West": 41,
          "Year": 2012
         },
         {
          "Date2": "2012-11-02 11:00:00",
          "DateString": "11/02/2012 11:00:00 AM",
          "East": 34,
          "Hour": 11,
          "JulianDay": 30,
          "WeekDay": 4,
          "West": 41,
          "Year": 2012
         },
         {
          "Date2": "2012-11-02 12:00:00",
          "DateString": "11/02/2012 12:00:00 PM",
          "East": 31,
          "Hour": 12,
          "JulianDay": 30,
          "WeekDay": 4,
          "West": 49,
          "Year": 2012
         },
         {
          "Date2": "2012-11-02 13:00:00",
          "DateString": "11/02/2012 01:00:00 PM",
          "East": 48,
          "Hour": 13,
          "JulianDay": 30,
          "WeekDay": 4,
          "West": 59,
          "Year": 2012
         },
         {
          "Date2": "2012-11-02 14:00:00",
          "DateString": "11/02/2012 02:00:00 PM",
          "East": 29,
          "Hour": 14,
          "JulianDay": 30,
          "WeekDay": 4,
          "West": 62,
          "Year": 2012
         },
         {
          "Date2": "2012-11-02 15:00:00",
          "DateString": "11/02/2012 03:00:00 PM",
          "East": 67,
          "Hour": 15,
          "JulianDay": 30,
          "WeekDay": 4,
          "West": 92,
          "Year": 2012
         },
         {
          "Date2": "2012-11-02 16:00:00",
          "DateString": "11/02/2012 04:00:00 PM",
          "East": 121,
          "Hour": 16,
          "JulianDay": 30,
          "WeekDay": 4,
          "West": 114,
          "Year": 2012
         },
         {
          "Date2": "2012-11-02 17:00:00",
          "DateString": "11/02/2012 05:00:00 PM",
          "East": 254,
          "Hour": 17,
          "JulianDay": 30,
          "WeekDay": 4,
          "West": 94,
          "Year": 2012
         },
         {
          "Date2": "2012-11-02 18:00:00",
          "DateString": "11/02/2012 06:00:00 PM",
          "East": 122,
          "Hour": 18,
          "JulianDay": 30,
          "WeekDay": 4,
          "West": 73,
          "Year": 2012
         },
         {
          "Date2": "2012-11-02 19:00:00",
          "DateString": "11/02/2012 07:00:00 PM",
          "East": 50,
          "Hour": 19,
          "JulianDay": 30,
          "WeekDay": 4,
          "West": 23,
          "Year": 2012
         },
         {
          "Date2": "2012-11-02 20:00:00",
          "DateString": "11/02/2012 08:00:00 PM",
          "East": 24,
          "Hour": 20,
          "JulianDay": 30,
          "WeekDay": 4,
          "West": 17,
          "Year": 2012
         },
         {
          "Date2": "2012-11-02 21:00:00",
          "DateString": "11/02/2012 09:00:00 PM",
          "East": 13,
          "Hour": 21,
          "JulianDay": 30,
          "WeekDay": 4,
          "West": 20,
          "Year": 2012
         },
         {
          "Date2": "2012-11-02 22:00:00",
          "DateString": "11/02/2012 10:00:00 PM",
          "East": 13,
          "Hour": 22,
          "JulianDay": 30,
          "WeekDay": 4,
          "West": 10,
          "Year": 2012
         },
         {
          "Date2": "2012-11-02 23:00:00",
          "DateString": "11/02/2012 11:00:00 PM",
          "East": 8,
          "Hour": 23,
          "JulianDay": 30,
          "WeekDay": 4,
          "West": 6,
          "Year": 2012
         },
         {
          "Date2": "2012-11-03 00:00:00",
          "DateString": "11/03/2012 12:00:00 AM",
          "East": 5,
          "Hour": 0,
          "JulianDay": 31,
          "WeekDay": 5,
          "West": 7,
          "Year": 2012
         },
         {
          "Date2": "2012-11-03 01:00:00",
          "DateString": "11/03/2012 01:00:00 AM",
          "East": 4,
          "Hour": 1,
          "JulianDay": 31,
          "WeekDay": 5,
          "West": 2,
          "Year": 2012
         },
         {
          "Date2": "2012-11-03 02:00:00",
          "DateString": "11/03/2012 02:00:00 AM",
          "East": 2,
          "Hour": 2,
          "JulianDay": 31,
          "WeekDay": 5,
          "West": 3,
          "Year": 2012
         },
         {
          "Date2": "2012-11-03 03:00:00",
          "DateString": "11/03/2012 03:00:00 AM",
          "East": 0,
          "Hour": 3,
          "JulianDay": 31,
          "WeekDay": 5,
          "West": 2,
          "Year": 2012
         },
         {
          "Date2": "2012-11-03 04:00:00",
          "DateString": "11/03/2012 04:00:00 AM",
          "East": 2,
          "Hour": 4,
          "JulianDay": 31,
          "WeekDay": 5,
          "West": 2,
          "Year": 2012
         },
         {
          "Date2": "2012-11-03 05:00:00",
          "DateString": "11/03/2012 05:00:00 AM",
          "East": 6,
          "Hour": 5,
          "JulianDay": 31,
          "WeekDay": 5,
          "West": 6,
          "Year": 2012
         },
         {
          "Date2": "2012-11-03 06:00:00",
          "DateString": "11/03/2012 06:00:00 AM",
          "East": 3,
          "Hour": 6,
          "JulianDay": 31,
          "WeekDay": 5,
          "West": 10,
          "Year": 2012
         },
         {
          "Date2": "2012-11-03 07:00:00",
          "DateString": "11/03/2012 07:00:00 AM",
          "East": 6,
          "Hour": 7,
          "JulianDay": 31,
          "WeekDay": 5,
          "West": 7,
          "Year": 2012
         },
         {
          "Date2": "2012-11-03 08:00:00",
          "DateString": "11/03/2012 08:00:00 AM",
          "East": 14,
          "Hour": 8,
          "JulianDay": 31,
          "WeekDay": 5,
          "West": 19,
          "Year": 2012
         },
         {
          "Date2": "2012-11-03 09:00:00",
          "DateString": "11/03/2012 09:00:00 AM",
          "East": 36,
          "Hour": 9,
          "JulianDay": 31,
          "WeekDay": 5,
          "West": 33,
          "Year": 2012
         },
         {
          "Date2": "2012-11-03 10:00:00",
          "DateString": "11/03/2012 10:00:00 AM",
          "East": 26,
          "Hour": 10,
          "JulianDay": 31,
          "WeekDay": 5,
          "West": 36,
          "Year": 2012
         },
         {
          "Date2": "2012-11-03 11:00:00",
          "DateString": "11/03/2012 11:00:00 AM",
          "East": 39,
          "Hour": 11,
          "JulianDay": 31,
          "WeekDay": 5,
          "West": 49,
          "Year": 2012
         },
         {
          "Date2": "2012-11-03 12:00:00",
          "DateString": "11/03/2012 12:00:00 PM",
          "East": 24,
          "Hour": 12,
          "JulianDay": 31,
          "WeekDay": 5,
          "West": 55,
          "Year": 2012
         },
         {
          "Date2": "2012-11-03 13:00:00",
          "DateString": "11/03/2012 01:00:00 PM",
          "East": 35,
          "Hour": 13,
          "JulianDay": 31,
          "WeekDay": 5,
          "West": 47,
          "Year": 2012
         },
         {
          "Date2": "2012-11-03 14:00:00",
          "DateString": "11/03/2012 02:00:00 PM",
          "East": 54,
          "Hour": 14,
          "JulianDay": 31,
          "WeekDay": 5,
          "West": 55,
          "Year": 2012
         },
         {
          "Date2": "2012-11-03 15:00:00",
          "DateString": "11/03/2012 03:00:00 PM",
          "East": 36,
          "Hour": 15,
          "JulianDay": 31,
          "WeekDay": 5,
          "West": 35,
          "Year": 2012
         },
         {
          "Date2": "2012-11-03 16:00:00",
          "DateString": "11/03/2012 04:00:00 PM",
          "East": 32,
          "Hour": 16,
          "JulianDay": 31,
          "WeekDay": 5,
          "West": 41,
          "Year": 2012
         },
         {
          "Date2": "2012-11-03 17:00:00",
          "DateString": "11/03/2012 05:00:00 PM",
          "East": 34,
          "Hour": 17,
          "JulianDay": 31,
          "WeekDay": 5,
          "West": 31,
          "Year": 2012
         },
         {
          "Date2": "2012-11-03 18:00:00",
          "DateString": "11/03/2012 06:00:00 PM",
          "East": 25,
          "Hour": 18,
          "JulianDay": 31,
          "WeekDay": 5,
          "West": 27,
          "Year": 2012
         },
         {
          "Date2": "2012-11-03 19:00:00",
          "DateString": "11/03/2012 07:00:00 PM",
          "East": 16,
          "Hour": 19,
          "JulianDay": 31,
          "WeekDay": 5,
          "West": 19,
          "Year": 2012
         },
         {
          "Date2": "2012-11-03 20:00:00",
          "DateString": "11/03/2012 08:00:00 PM",
          "East": 15,
          "Hour": 20,
          "JulianDay": 31,
          "WeekDay": 5,
          "West": 9,
          "Year": 2012
         },
         {
          "Date2": "2012-11-03 21:00:00",
          "DateString": "11/03/2012 09:00:00 PM",
          "East": 5,
          "Hour": 21,
          "JulianDay": 31,
          "WeekDay": 5,
          "West": 4,
          "Year": 2012
         },
         {
          "Date2": "2012-11-03 22:00:00",
          "DateString": "11/03/2012 10:00:00 PM",
          "East": 6,
          "Hour": 22,
          "JulianDay": 31,
          "WeekDay": 5,
          "West": 7,
          "Year": 2012
         },
         {
          "Date2": "2012-11-03 23:00:00",
          "DateString": "11/03/2012 11:00:00 PM",
          "East": 14,
          "Hour": 23,
          "JulianDay": 31,
          "WeekDay": 5,
          "West": 7,
          "Year": 2012
         },
         {
          "Date2": "2012-11-04 00:00:00",
          "DateString": "11/04/2012 12:00:00 AM",
          "East": 11,
          "Hour": 0,
          "JulianDay": 32,
          "WeekDay": 6,
          "West": 7,
          "Year": 2012
         },
         {
          "Date2": "2012-11-04 01:00:00",
          "DateString": "11/04/2012 01:00:00 AM",
          "East": 4,
          "Hour": 1,
          "JulianDay": 32,
          "WeekDay": 6,
          "West": 6,
          "Year": 2012
         },
         {
          "Date2": "2012-11-04 02:00:00",
          "DateString": "11/04/2012 02:00:00 AM",
          "East": 5,
          "Hour": 2,
          "JulianDay": 32,
          "WeekDay": 6,
          "West": 5,
          "Year": 2012
         },
         {
          "Date2": "2012-11-04 03:00:00",
          "DateString": "11/04/2012 03:00:00 AM",
          "East": 2,
          "Hour": 3,
          "JulianDay": 32,
          "WeekDay": 6,
          "West": 1,
          "Year": 2012
         },
         {
          "Date2": "2012-11-04 04:00:00",
          "DateString": "11/04/2012 04:00:00 AM",
          "East": 2,
          "Hour": 4,
          "JulianDay": 32,
          "WeekDay": 6,
          "West": 1,
          "Year": 2012
         },
         {
          "Date2": "2012-11-04 05:00:00",
          "DateString": "11/04/2012 05:00:00 AM",
          "East": 2,
          "Hour": 5,
          "JulianDay": 32,
          "WeekDay": 6,
          "West": 5,
          "Year": 2012
         },
         {
          "Date2": "2012-11-04 06:00:00",
          "DateString": "11/04/2012 06:00:00 AM",
          "East": 3,
          "Hour": 6,
          "JulianDay": 32,
          "WeekDay": 6,
          "West": 9,
          "Year": 2012
         },
         {
          "Date2": "2012-11-04 07:00:00",
          "DateString": "11/04/2012 07:00:00 AM",
          "East": 12,
          "Hour": 7,
          "JulianDay": 32,
          "WeekDay": 6,
          "West": 17,
          "Year": 2012
         },
         {
          "Date2": "2012-11-04 08:00:00",
          "DateString": "11/04/2012 08:00:00 AM",
          "East": 24,
          "Hour": 8,
          "JulianDay": 32,
          "WeekDay": 6,
          "West": 27,
          "Year": 2012
         },
         {
          "Date2": "2012-11-04 09:00:00",
          "DateString": "11/04/2012 09:00:00 AM",
          "East": 34,
          "Hour": 9,
          "JulianDay": 32,
          "WeekDay": 6,
          "West": 34,
          "Year": 2012
         },
         {
          "Date2": "2012-11-04 10:00:00",
          "DateString": "11/04/2012 10:00:00 AM",
          "East": 28,
          "Hour": 10,
          "JulianDay": 32,
          "WeekDay": 6,
          "West": 47,
          "Year": 2012
         },
         {
          "Date2": "2012-11-04 11:00:00",
          "DateString": "11/04/2012 11:00:00 AM",
          "East": 34,
          "Hour": 11,
          "JulianDay": 32,
          "WeekDay": 6,
          "West": 56,
          "Year": 2012
         },
         {
          "Date2": "2012-11-04 12:00:00",
          "DateString": "11/04/2012 12:00:00 PM",
          "East": 44,
          "Hour": 12,
          "JulianDay": 32,
          "WeekDay": 6,
          "West": 68,
          "Year": 2012
         },
         {
          "Date2": "2012-11-04 13:00:00",
          "DateString": "11/04/2012 01:00:00 PM",
          "East": 41,
          "Hour": 13,
          "JulianDay": 32,
          "WeekDay": 6,
          "West": 57,
          "Year": 2012
         },
         {
          "Date2": "2012-11-04 14:00:00",
          "DateString": "11/04/2012 02:00:00 PM",
          "East": 29,
          "Hour": 14,
          "JulianDay": 32,
          "WeekDay": 6,
          "West": 44,
          "Year": 2012
         },
         {
          "Date2": "2012-11-04 15:00:00",
          "DateString": "11/04/2012 03:00:00 PM",
          "East": 45,
          "Hour": 15,
          "JulianDay": 32,
          "WeekDay": 6,
          "West": 45,
          "Year": 2012
         },
         {
          "Date2": "2012-11-04 16:00:00",
          "DateString": "11/04/2012 04:00:00 PM",
          "East": 51,
          "Hour": 16,
          "JulianDay": 32,
          "WeekDay": 6,
          "West": 46,
          "Year": 2012
         },
         {
          "Date2": "2012-11-04 17:00:00",
          "DateString": "11/04/2012 05:00:00 PM",
          "East": 36,
          "Hour": 17,
          "JulianDay": 32,
          "WeekDay": 6,
          "West": 19,
          "Year": 2012
         },
         {
          "Date2": "2012-11-04 18:00:00",
          "DateString": "11/04/2012 06:00:00 PM",
          "East": 15,
          "Hour": 18,
          "JulianDay": 32,
          "WeekDay": 6,
          "West": 27,
          "Year": 2012
         },
         {
          "Date2": "2012-11-04 19:00:00",
          "DateString": "11/04/2012 07:00:00 PM",
          "East": 8,
          "Hour": 19,
          "JulianDay": 32,
          "WeekDay": 6,
          "West": 4,
          "Year": 2012
         },
         {
          "Date2": "2012-11-04 20:00:00",
          "DateString": "11/04/2012 08:00:00 PM",
          "East": 11,
          "Hour": 20,
          "JulianDay": 32,
          "WeekDay": 6,
          "West": 10,
          "Year": 2012
         },
         {
          "Date2": "2012-11-04 21:00:00",
          "DateString": "11/04/2012 09:00:00 PM",
          "East": 8,
          "Hour": 21,
          "JulianDay": 32,
          "WeekDay": 6,
          "West": 5,
          "Year": 2012
         },
         {
          "Date2": "2012-11-04 22:00:00",
          "DateString": "11/04/2012 10:00:00 PM",
          "East": 7,
          "Hour": 22,
          "JulianDay": 32,
          "WeekDay": 6,
          "West": 6,
          "Year": 2012
         },
         {
          "Date2": "2012-11-04 23:00:00",
          "DateString": "11/04/2012 11:00:00 PM",
          "East": 7,
          "Hour": 23,
          "JulianDay": 32,
          "WeekDay": 6,
          "West": 2,
          "Year": 2012
         },
         {
          "Date2": "2012-11-05 00:00:00",
          "DateString": "11/05/2012 12:00:00 AM",
          "East": 2,
          "Hour": 0,
          "JulianDay": 33,
          "WeekDay": 0,
          "West": 5,
          "Year": 2012
         },
         {
          "Date2": "2012-11-05 01:00:00",
          "DateString": "11/05/2012 01:00:00 AM",
          "East": 1,
          "Hour": 1,
          "JulianDay": 33,
          "WeekDay": 0,
          "West": 2,
          "Year": 2012
         },
         {
          "Date2": "2012-11-05 02:00:00",
          "DateString": "11/05/2012 02:00:00 AM",
          "East": 1,
          "Hour": 2,
          "JulianDay": 33,
          "WeekDay": 0,
          "West": 1,
          "Year": 2012
         },
         {
          "Date2": "2012-11-05 03:00:00",
          "DateString": "11/05/2012 03:00:00 AM",
          "East": 2,
          "Hour": 3,
          "JulianDay": 33,
          "WeekDay": 0,
          "West": 1,
          "Year": 2012
         },
         {
          "Date2": "2012-11-05 04:00:00",
          "DateString": "11/05/2012 04:00:00 AM",
          "East": 3,
          "Hour": 4,
          "JulianDay": 33,
          "WeekDay": 0,
          "West": 2,
          "Year": 2012
         },
         {
          "Date2": "2012-11-05 05:00:00",
          "DateString": "11/05/2012 05:00:00 AM",
          "East": 7,
          "Hour": 5,
          "JulianDay": 33,
          "WeekDay": 0,
          "West": 18,
          "Year": 2012
         },
         {
          "Date2": "2012-11-05 06:00:00",
          "DateString": "11/05/2012 06:00:00 AM",
          "East": 45,
          "Hour": 6,
          "JulianDay": 33,
          "WeekDay": 0,
          "West": 81,
          "Year": 2012
         },
         {
          "Date2": "2012-11-05 07:00:00",
          "DateString": "11/05/2012 07:00:00 AM",
          "East": 74,
          "Hour": 7,
          "JulianDay": 33,
          "WeekDay": 0,
          "West": 238,
          "Year": 2012
         },
         {
          "Date2": "2012-11-05 08:00:00",
          "DateString": "11/05/2012 08:00:00 AM",
          "East": 121,
          "Hour": 8,
          "JulianDay": 33,
          "WeekDay": 0,
          "West": 252,
          "Year": 2012
         },
         {
          "Date2": "2012-11-05 09:00:00",
          "DateString": "11/05/2012 09:00:00 AM",
          "East": 77,
          "Hour": 9,
          "JulianDay": 33,
          "WeekDay": 0,
          "West": 105,
          "Year": 2012
         },
         {
          "Date2": "2012-11-05 10:00:00",
          "DateString": "11/05/2012 10:00:00 AM",
          "East": 26,
          "Hour": 10,
          "JulianDay": 33,
          "WeekDay": 0,
          "West": 65,
          "Year": 2012
         },
         {
          "Date2": "2012-11-05 11:00:00",
          "DateString": "11/05/2012 11:00:00 AM",
          "East": 19,
          "Hour": 11,
          "JulianDay": 33,
          "WeekDay": 0,
          "West": 38,
          "Year": 2012
         },
         {
          "Date2": "2012-11-05 12:00:00",
          "DateString": "11/05/2012 12:00:00 PM",
          "East": 54,
          "Hour": 12,
          "JulianDay": 33,
          "WeekDay": 0,
          "West": 41,
          "Year": 2012
         },
         {
          "Date2": "2012-11-05 13:00:00",
          "DateString": "11/05/2012 01:00:00 PM",
          "East": 32,
          "Hour": 13,
          "JulianDay": 33,
          "WeekDay": 0,
          "West": 31,
          "Year": 2012
         },
         {
          "Date2": "2012-11-05 14:00:00",
          "DateString": "11/05/2012 02:00:00 PM",
          "East": 40,
          "Hour": 14,
          "JulianDay": 33,
          "WeekDay": 0,
          "West": 58,
          "Year": 2012
         },
         {
          "Date2": "2012-11-05 15:00:00",
          "DateString": "11/05/2012 03:00:00 PM",
          "East": 58,
          "Hour": 15,
          "JulianDay": 33,
          "WeekDay": 0,
          "West": 65,
          "Year": 2012
         },
         {
          "Date2": "2012-11-05 16:00:00",
          "DateString": "11/05/2012 04:00:00 PM",
          "East": 134,
          "Hour": 16,
          "JulianDay": 33,
          "WeekDay": 0,
          "West": 112,
          "Year": 2012
         },
         {
          "Date2": "2012-11-05 17:00:00",
          "DateString": "11/05/2012 05:00:00 PM",
          "East": 344,
          "Hour": 17,
          "JulianDay": 33,
          "WeekDay": 0,
          "West": 126,
          "Year": 2012
         },
         {
          "Date2": "2012-11-05 18:00:00",
          "DateString": "11/05/2012 06:00:00 PM",
          "East": 177,
          "Hour": 18,
          "JulianDay": 33,
          "WeekDay": 0,
          "West": 84,
          "Year": 2012
         },
         {
          "Date2": "2012-11-05 19:00:00",
          "DateString": "11/05/2012 07:00:00 PM",
          "East": 78,
          "Hour": 19,
          "JulianDay": 33,
          "WeekDay": 0,
          "West": 30,
          "Year": 2012
         },
         {
          "Date2": "2012-11-05 20:00:00",
          "DateString": "11/05/2012 08:00:00 PM",
          "East": 36,
          "Hour": 20,
          "JulianDay": 33,
          "WeekDay": 0,
          "West": 32,
          "Year": 2012
         },
         {
          "Date2": "2012-11-05 21:00:00",
          "DateString": "11/05/2012 09:00:00 PM",
          "East": 24,
          "Hour": 21,
          "JulianDay": 33,
          "WeekDay": 0,
          "West": 21,
          "Year": 2012
         },
         {
          "Date2": "2012-11-05 22:00:00",
          "DateString": "11/05/2012 10:00:00 PM",
          "East": 11,
          "Hour": 22,
          "JulianDay": 33,
          "WeekDay": 0,
          "West": 13,
          "Year": 2012
         },
         {
          "Date2": "2012-11-05 23:00:00",
          "DateString": "11/05/2012 11:00:00 PM",
          "East": 14,
          "Hour": 23,
          "JulianDay": 33,
          "WeekDay": 0,
          "West": 9,
          "Year": 2012
         },
         {
          "Date2": "2012-11-06 00:00:00",
          "DateString": "11/06/2012 12:00:00 AM",
          "East": 5,
          "Hour": 0,
          "JulianDay": 34,
          "WeekDay": 1,
          "West": 5,
          "Year": 2012
         },
         {
          "Date2": "2012-11-06 01:00:00",
          "DateString": "11/06/2012 01:00:00 AM",
          "East": 3,
          "Hour": 1,
          "JulianDay": 34,
          "WeekDay": 1,
          "West": 4,
          "Year": 2012
         },
         {
          "Date2": "2012-11-06 02:00:00",
          "DateString": "11/06/2012 02:00:00 AM",
          "East": 2,
          "Hour": 2,
          "JulianDay": 34,
          "WeekDay": 1,
          "West": 3,
          "Year": 2012
         },
         {
          "Date2": "2012-11-06 03:00:00",
          "DateString": "11/06/2012 03:00:00 AM",
          "East": 2,
          "Hour": 3,
          "JulianDay": 34,
          "WeekDay": 1,
          "West": 1,
          "Year": 2012
         },
         {
          "Date2": "2012-11-06 04:00:00",
          "DateString": "11/06/2012 04:00:00 AM",
          "East": 3,
          "Hour": 4,
          "JulianDay": 34,
          "WeekDay": 1,
          "West": 5,
          "Year": 2012
         },
         {
          "Date2": "2012-11-06 05:00:00",
          "DateString": "11/06/2012 05:00:00 AM",
          "East": 9,
          "Hour": 5,
          "JulianDay": 34,
          "WeekDay": 1,
          "West": 18,
          "Year": 2012
         },
         {
          "Date2": "2012-11-06 06:00:00",
          "DateString": "11/06/2012 06:00:00 AM",
          "East": 33,
          "Hour": 6,
          "JulianDay": 34,
          "WeekDay": 1,
          "West": 94,
          "Year": 2012
         },
         {
          "Date2": "2012-11-06 07:00:00",
          "DateString": "11/06/2012 07:00:00 AM",
          "East": 63,
          "Hour": 7,
          "JulianDay": 34,
          "WeekDay": 1,
          "West": 217,
          "Year": 2012
         },
         {
          "Date2": "2012-11-06 08:00:00",
          "DateString": "11/06/2012 08:00:00 AM",
          "East": 113,
          "Hour": 8,
          "JulianDay": 34,
          "WeekDay": 1,
          "West": 258,
          "Year": 2012
         },
         {
          "Date2": "2012-11-06 09:00:00",
          "DateString": "11/06/2012 09:00:00 AM",
          "East": 55,
          "Hour": 9,
          "JulianDay": 34,
          "WeekDay": 1,
          "West": 109,
          "Year": 2012
         },
         {
          "Date2": "2012-11-06 10:00:00",
          "DateString": "11/06/2012 10:00:00 AM",
          "East": 30,
          "Hour": 10,
          "JulianDay": 34,
          "WeekDay": 1,
          "West": 33,
          "Year": 2012
         },
         {
          "Date2": "2012-11-06 11:00:00",
          "DateString": "11/06/2012 11:00:00 AM",
          "East": 22,
          "Hour": 11,
          "JulianDay": 34,
          "WeekDay": 1,
          "West": 32,
          "Year": 2012
         },
         {
          "Date2": "2012-11-06 12:00:00",
          "DateString": "11/06/2012 12:00:00 PM",
          "East": 32,
          "Hour": 12,
          "JulianDay": 34,
          "WeekDay": 1,
          "West": 30,
          "Year": 2012
         },
         {
          "Date2": "2012-11-06 13:00:00",
          "DateString": "11/06/2012 01:00:00 PM",
          "East": 26,
          "Hour": 13,
          "JulianDay": 34,
          "WeekDay": 1,
          "West": 40,
          "Year": 2012
         },
         {
          "Date2": "2012-11-06 14:00:00",
          "DateString": "11/06/2012 02:00:00 PM",
          "East": 38,
          "Hour": 14,
          "JulianDay": 34,
          "WeekDay": 1,
          "West": 37,
          "Year": 2012
         },
         {
          "Date2": "2012-11-06 15:00:00",
          "DateString": "11/06/2012 03:00:00 PM",
          "East": 58,
          "Hour": 15,
          "JulianDay": 34,
          "WeekDay": 1,
          "West": 53,
          "Year": 2012
         },
         {
          "Date2": "2012-11-06 16:00:00",
          "DateString": "11/06/2012 04:00:00 PM",
          "East": 141,
          "Hour": 16,
          "JulianDay": 34,
          "WeekDay": 1,
          "West": 95,
          "Year": 2012
         },
         {
          "Date2": "2012-11-06 17:00:00",
          "DateString": "11/06/2012 05:00:00 PM",
          "East": 298,
          "Hour": 17,
          "JulianDay": 34,
          "WeekDay": 1,
          "West": 105,
          "Year": 2012
         },
         {
          "Date2": "2012-11-06 18:00:00",
          "DateString": "11/06/2012 06:00:00 PM",
          "East": 147,
          "Hour": 18,
          "JulianDay": 34,
          "WeekDay": 1,
          "West": 70,
          "Year": 2012
         },
         {
          "Date2": "2012-11-06 19:00:00",
          "DateString": "11/06/2012 07:00:00 PM",
          "East": 47,
          "Hour": 19,
          "JulianDay": 34,
          "WeekDay": 1,
          "West": 33,
          "Year": 2012
         },
         {
          "Date2": "2012-11-06 20:00:00",
          "DateString": "11/06/2012 08:00:00 PM",
          "East": 27,
          "Hour": 20,
          "JulianDay": 34,
          "WeekDay": 1,
          "West": 16,
          "Year": 2012
         },
         {
          "Date2": "2012-11-06 21:00:00",
          "DateString": "11/06/2012 09:00:00 PM",
          "East": 20,
          "Hour": 21,
          "JulianDay": 34,
          "WeekDay": 1,
          "West": 12,
          "Year": 2012
         },
         {
          "Date2": "2012-11-06 22:00:00",
          "DateString": "11/06/2012 10:00:00 PM",
          "East": 16,
          "Hour": 22,
          "JulianDay": 34,
          "WeekDay": 1,
          "West": 12,
          "Year": 2012
         },
         {
          "Date2": "2012-11-06 23:00:00",
          "DateString": "11/06/2012 11:00:00 PM",
          "East": 16,
          "Hour": 23,
          "JulianDay": 34,
          "WeekDay": 1,
          "West": 5,
          "Year": 2012
         },
         {
          "Date2": "2012-11-07 00:00:00",
          "DateString": "11/07/2012 12:00:00 AM",
          "East": 6,
          "Hour": 0,
          "JulianDay": 35,
          "WeekDay": 2,
          "West": 6,
          "Year": 2012
         },
         {
          "Date2": "2012-11-07 01:00:00",
          "DateString": "11/07/2012 01:00:00 AM",
          "East": 1,
          "Hour": 1,
          "JulianDay": 35,
          "WeekDay": 2,
          "West": 4,
          "Year": 2012
         },
         {
          "Date2": "2012-11-07 02:00:00",
          "DateString": "11/07/2012 02:00:00 AM",
          "East": 2,
          "Hour": 2,
          "JulianDay": 35,
          "WeekDay": 2,
          "West": 4,
          "Year": 2012
         },
         {
          "Date2": "2012-11-07 03:00:00",
          "DateString": "11/07/2012 03:00:00 AM",
          "East": 5,
          "Hour": 3,
          "JulianDay": 35,
          "WeekDay": 2,
          "West": 1,
          "Year": 2012
         },
         {
          "Date2": "2012-11-07 04:00:00",
          "DateString": "11/07/2012 04:00:00 AM",
          "East": 3,
          "Hour": 4,
          "JulianDay": 35,
          "WeekDay": 2,
          "West": 7,
          "Year": 2012
         },
         {
          "Date2": "2012-11-07 05:00:00",
          "DateString": "11/07/2012 05:00:00 AM",
          "East": 5,
          "Hour": 5,
          "JulianDay": 35,
          "WeekDay": 2,
          "West": 9,
          "Year": 2012
         },
         {
          "Date2": "2012-11-07 06:00:00",
          "DateString": "11/07/2012 06:00:00 AM",
          "East": 34,
          "Hour": 6,
          "JulianDay": 35,
          "WeekDay": 2,
          "West": 82,
          "Year": 2012
         },
         {
          "Date2": "2012-11-07 07:00:00",
          "DateString": "11/07/2012 07:00:00 AM",
          "East": 77,
          "Hour": 7,
          "JulianDay": 35,
          "WeekDay": 2,
          "West": 189,
          "Year": 2012
         },
         {
          "Date2": "2012-11-07 08:00:00",
          "DateString": "11/07/2012 08:00:00 AM",
          "East": 115,
          "Hour": 8,
          "JulianDay": 35,
          "WeekDay": 2,
          "West": 256,
          "Year": 2012
         },
         {
          "Date2": "2012-11-07 09:00:00",
          "DateString": "11/07/2012 09:00:00 AM",
          "East": 63,
          "Hour": 9,
          "JulianDay": 35,
          "WeekDay": 2,
          "West": 137,
          "Year": 2012
         },
         {
          "Date2": "2012-11-07 10:00:00",
          "DateString": "11/07/2012 10:00:00 AM",
          "East": 42,
          "Hour": 10,
          "JulianDay": 35,
          "WeekDay": 2,
          "West": 54,
          "Year": 2012
         },
         {
          "Date2": "2012-11-07 11:00:00",
          "DateString": "11/07/2012 11:00:00 AM",
          "East": 24,
          "Hour": 11,
          "JulianDay": 35,
          "WeekDay": 2,
          "West": 34,
          "Year": 2012
         },
         {
          "Date2": "2012-11-07 12:00:00",
          "DateString": "11/07/2012 12:00:00 PM",
          "East": 36,
          "Hour": 12,
          "JulianDay": 35,
          "WeekDay": 2,
          "West": 35,
          "Year": 2012
         },
         {
          "Date2": "2012-11-07 13:00:00",
          "DateString": "11/07/2012 01:00:00 PM",
          "East": 30,
          "Hour": 13,
          "JulianDay": 35,
          "WeekDay": 2,
          "West": 37,
          "Year": 2012
         },
         {
          "Date2": "2012-11-07 14:00:00",
          "DateString": "11/07/2012 02:00:00 PM",
          "East": 45,
          "Hour": 14,
          "JulianDay": 35,
          "WeekDay": 2,
          "West": 59,
          "Year": 2012
         },
         {
          "Date2": "2012-11-07 15:00:00",
          "DateString": "11/07/2012 03:00:00 PM",
          "East": 72,
          "Hour": 15,
          "JulianDay": 35,
          "WeekDay": 2,
          "West": 60,
          "Year": 2012
         },
         {
          "Date2": "2012-11-07 16:00:00",
          "DateString": "11/07/2012 04:00:00 PM",
          "East": 139,
          "Hour": 16,
          "JulianDay": 35,
          "WeekDay": 2,
          "West": 98,
          "Year": 2012
         },
         {
          "Date2": "2012-11-07 17:00:00",
          "DateString": "11/07/2012 05:00:00 PM",
          "East": 275,
          "Hour": 17,
          "JulianDay": 35,
          "WeekDay": 2,
          "West": 112,
          "Year": 2012
         },
         {
          "Date2": "2012-11-07 18:00:00",
          "DateString": "11/07/2012 06:00:00 PM",
          "East": 171,
          "Hour": 18,
          "JulianDay": 35,
          "WeekDay": 2,
          "West": 99,
          "Year": 2012
         },
         {
          "Date2": "2012-11-07 19:00:00",
          "DateString": "11/07/2012 07:00:00 PM",
          "East": 66,
          "Hour": 19,
          "JulianDay": 35,
          "WeekDay": 2,
          "West": 48,
          "Year": 2012
         },
         {
          "Date2": "2012-11-07 20:00:00",
          "DateString": "11/07/2012 08:00:00 PM",
          "East": 44,
          "Hour": 20,
          "JulianDay": 35,
          "WeekDay": 2,
          "West": 23,
          "Year": 2012
         },
         {
          "Date2": "2012-11-07 21:00:00",
          "DateString": "11/07/2012 09:00:00 PM",
          "East": 26,
          "Hour": 21,
          "JulianDay": 35,
          "WeekDay": 2,
          "West": 19,
          "Year": 2012
         },
         {
          "Date2": "2012-11-07 22:00:00",
          "DateString": "11/07/2012 10:00:00 PM",
          "East": 23,
          "Hour": 22,
          "JulianDay": 35,
          "WeekDay": 2,
          "West": 20,
          "Year": 2012
         },
         {
          "Date2": "2012-11-07 23:00:00",
          "DateString": "11/07/2012 11:00:00 PM",
          "East": 9,
          "Hour": 23,
          "JulianDay": 35,
          "WeekDay": 2,
          "West": 13,
          "Year": 2012
         },
         {
          "Date2": "2012-11-08 00:00:00",
          "DateString": "11/08/2012 12:00:00 AM",
          "East": 1,
          "Hour": 0,
          "JulianDay": 36,
          "WeekDay": 3,
          "West": 1,
          "Year": 2012
         },
         {
          "Date2": "2012-11-08 01:00:00",
          "DateString": "11/08/2012 01:00:00 AM",
          "East": 3,
          "Hour": 1,
          "JulianDay": 36,
          "WeekDay": 3,
          "West": 3,
          "Year": 2012
         },
         {
          "Date2": "2012-11-08 02:00:00",
          "DateString": "11/08/2012 02:00:00 AM",
          "East": 3,
          "Hour": 2,
          "JulianDay": 36,
          "WeekDay": 3,
          "West": 1,
          "Year": 2012
         },
         {
          "Date2": "2012-11-08 03:00:00",
          "DateString": "11/08/2012 03:00:00 AM",
          "East": 4,
          "Hour": 3,
          "JulianDay": 36,
          "WeekDay": 3,
          "West": 2,
          "Year": 2012
         },
         {
          "Date2": "2012-11-08 04:00:00",
          "DateString": "11/08/2012 04:00:00 AM",
          "East": 3,
          "Hour": 4,
          "JulianDay": 36,
          "WeekDay": 3,
          "West": 7,
          "Year": 2012
         },
         {
          "Date2": "2012-11-08 05:00:00",
          "DateString": "11/08/2012 05:00:00 AM",
          "East": 9,
          "Hour": 5,
          "JulianDay": 36,
          "WeekDay": 3,
          "West": 15,
          "Year": 2012
         },
         {
          "Date2": "2012-11-08 06:00:00",
          "DateString": "11/08/2012 06:00:00 AM",
          "East": 46,
          "Hour": 6,
          "JulianDay": 36,
          "WeekDay": 3,
          "West": 82,
          "Year": 2012
         },
         {
          "Date2": "2012-11-08 07:00:00",
          "DateString": "11/08/2012 07:00:00 AM",
          "East": 76,
          "Hour": 7,
          "JulianDay": 36,
          "WeekDay": 3,
          "West": 203,
          "Year": 2012
         },
         {
          "Date2": "2012-11-08 08:00:00",
          "DateString": "11/08/2012 08:00:00 AM",
          "East": 94,
          "Hour": 8,
          "JulianDay": 36,
          "WeekDay": 3,
          "West": 254,
          "Year": 2012
         },
         {
          "Date2": "2012-11-08 09:00:00",
          "DateString": "11/08/2012 09:00:00 AM",
          "East": 76,
          "Hour": 9,
          "JulianDay": 36,
          "WeekDay": 3,
          "West": 130,
          "Year": 2012
         },
         {
          "Date2": "2012-11-08 10:00:00",
          "DateString": "11/08/2012 10:00:00 AM",
          "East": 34,
          "Hour": 10,
          "JulianDay": 36,
          "WeekDay": 3,
          "West": 54,
          "Year": 2012
         },
         {
          "Date2": "2012-11-08 11:00:00",
          "DateString": "11/08/2012 11:00:00 AM",
          "East": 32,
          "Hour": 11,
          "JulianDay": 36,
          "WeekDay": 3,
          "West": 44,
          "Year": 2012
         },
         {
          "Date2": "2012-11-08 12:00:00",
          "DateString": "11/08/2012 12:00:00 PM",
          "East": 31,
          "Hour": 12,
          "JulianDay": 36,
          "WeekDay": 3,
          "West": 40,
          "Year": 2012
         },
         {
          "Date2": "2012-11-08 13:00:00",
          "DateString": "11/08/2012 01:00:00 PM",
          "East": 35,
          "Hour": 13,
          "JulianDay": 36,
          "WeekDay": 3,
          "West": 39,
          "Year": 2012
         },
         {
          "Date2": "2012-11-08 14:00:00",
          "DateString": "11/08/2012 02:00:00 PM",
          "East": 35,
          "Hour": 14,
          "JulianDay": 36,
          "WeekDay": 3,
          "West": 54,
          "Year": 2012
         },
         {
          "Date2": "2012-11-08 15:00:00",
          "DateString": "11/08/2012 03:00:00 PM",
          "East": 59,
          "Hour": 15,
          "JulianDay": 36,
          "WeekDay": 3,
          "West": 47,
          "Year": 2012
         },
         {
          "Date2": "2012-11-08 16:00:00",
          "DateString": "11/08/2012 04:00:00 PM",
          "East": 162,
          "Hour": 16,
          "JulianDay": 36,
          "WeekDay": 3,
          "West": 94,
          "Year": 2012
         },
         {
          "Date2": "2012-11-08 17:00:00",
          "DateString": "11/08/2012 05:00:00 PM",
          "East": 290,
          "Hour": 17,
          "JulianDay": 36,
          "WeekDay": 3,
          "West": 104,
          "Year": 2012
         },
         {
          "Date2": "2012-11-08 18:00:00",
          "DateString": "11/08/2012 06:00:00 PM",
          "East": 169,
          "Hour": 18,
          "JulianDay": 36,
          "WeekDay": 3,
          "West": 89,
          "Year": 2012
         },
         {
          "Date2": "2012-11-08 19:00:00",
          "DateString": "11/08/2012 07:00:00 PM",
          "East": 79,
          "Hour": 19,
          "JulianDay": 36,
          "WeekDay": 3,
          "West": 35,
          "Year": 2012
         },
         {
          "Date2": "2012-11-08 20:00:00",
          "DateString": "11/08/2012 08:00:00 PM",
          "East": 39,
          "Hour": 20,
          "JulianDay": 36,
          "WeekDay": 3,
          "West": 20,
          "Year": 2012
         },
         {
          "Date2": "2012-11-08 21:00:00",
          "DateString": "11/08/2012 09:00:00 PM",
          "East": 29,
          "Hour": 21,
          "JulianDay": 36,
          "WeekDay": 3,
          "West": 15,
          "Year": 2012
         },
         {
          "Date2": "2012-11-08 22:00:00",
          "DateString": "11/08/2012 10:00:00 PM",
          "East": 14,
          "Hour": 22,
          "JulianDay": 36,
          "WeekDay": 3,
          "West": 13,
          "Year": 2012
         },
         {
          "Date2": "2012-11-08 23:00:00",
          "DateString": "11/08/2012 11:00:00 PM",
          "East": 13,
          "Hour": 23,
          "JulianDay": 36,
          "WeekDay": 3,
          "West": 9,
          "Year": 2012
         },
         {
          "Date2": "2012-11-09 00:00:00",
          "DateString": "11/09/2012 12:00:00 AM",
          "East": 8,
          "Hour": 0,
          "JulianDay": 37,
          "WeekDay": 4,
          "West": 11,
          "Year": 2012
         },
         {
          "Date2": "2012-11-09 01:00:00",
          "DateString": "11/09/2012 01:00:00 AM",
          "East": 3,
          "Hour": 1,
          "JulianDay": 37,
          "WeekDay": 4,
          "West": 2,
          "Year": 2012
         },
         {
          "Date2": "2012-11-09 02:00:00",
          "DateString": "11/09/2012 02:00:00 AM",
          "East": 1,
          "Hour": 2,
          "JulianDay": 37,
          "WeekDay": 4,
          "West": 4,
          "Year": 2012
         },
         {
          "Date2": "2012-11-09 03:00:00",
          "DateString": "11/09/2012 03:00:00 AM",
          "East": 2,
          "Hour": 3,
          "JulianDay": 37,
          "WeekDay": 4,
          "West": 0,
          "Year": 2012
         },
         {
          "Date2": "2012-11-09 04:00:00",
          "DateString": "11/09/2012 04:00:00 AM",
          "East": 2,
          "Hour": 4,
          "JulianDay": 37,
          "WeekDay": 4,
          "West": 5,
          "Year": 2012
         },
         {
          "Date2": "2012-11-09 05:00:00",
          "DateString": "11/09/2012 05:00:00 AM",
          "East": 4,
          "Hour": 5,
          "JulianDay": 37,
          "WeekDay": 4,
          "West": 11,
          "Year": 2012
         },
         {
          "Date2": "2012-11-09 06:00:00",
          "DateString": "11/09/2012 06:00:00 AM",
          "East": 40,
          "Hour": 6,
          "JulianDay": 37,
          "WeekDay": 4,
          "West": 60,
          "Year": 2012
         },
         {
          "Date2": "2012-11-09 07:00:00",
          "DateString": "11/09/2012 07:00:00 AM",
          "East": 65,
          "Hour": 7,
          "JulianDay": 37,
          "WeekDay": 4,
          "West": 168,
          "Year": 2012
         },
         {
          "Date2": "2012-11-09 08:00:00",
          "DateString": "11/09/2012 08:00:00 AM",
          "East": 97,
          "Hour": 8,
          "JulianDay": 37,
          "WeekDay": 4,
          "West": 232,
          "Year": 2012
         },
         {
          "Date2": "2012-11-09 09:00:00",
          "DateString": "11/09/2012 09:00:00 AM",
          "East": 53,
          "Hour": 9,
          "JulianDay": 37,
          "WeekDay": 4,
          "West": 114,
          "Year": 2012
         },
         {
          "Date2": "2012-11-09 10:00:00",
          "DateString": "11/09/2012 10:00:00 AM",
          "East": 39,
          "Hour": 10,
          "JulianDay": 37,
          "WeekDay": 4,
          "West": 53,
          "Year": 2012
         },
         {
          "Date2": "2012-11-09 11:00:00",
          "DateString": "11/09/2012 11:00:00 AM",
          "East": 28,
          "Hour": 11,
          "JulianDay": 37,
          "WeekDay": 4,
          "West": 47,
          "Year": 2012
         },
         {
          "Date2": "2012-11-09 12:00:00",
          "DateString": "11/09/2012 12:00:00 PM",
          "East": 20,
          "Hour": 12,
          "JulianDay": 37,
          "WeekDay": 4,
          "West": 46,
          "Year": 2012
         },
         {
          "Date2": "2012-11-09 13:00:00",
          "DateString": "11/09/2012 01:00:00 PM",
          "East": 45,
          "Hour": 13,
          "JulianDay": 37,
          "WeekDay": 4,
          "West": 45,
          "Year": 2012
         },
         {
          "Date2": "2012-11-09 14:00:00",
          "DateString": "11/09/2012 02:00:00 PM",
          "East": 48,
          "Hour": 14,
          "JulianDay": 37,
          "WeekDay": 4,
          "West": 54,
          "Year": 2012
         },
         {
          "Date2": "2012-11-09 15:00:00",
          "DateString": "11/09/2012 03:00:00 PM",
          "East": 87,
          "Hour": 15,
          "JulianDay": 37,
          "WeekDay": 4,
          "West": 76,
          "Year": 2012
         },
         {
          "Date2": "2012-11-09 16:00:00",
          "DateString": "11/09/2012 04:00:00 PM",
          "East": 131,
          "Hour": 16,
          "JulianDay": 37,
          "WeekDay": 4,
          "West": 91,
          "Year": 2012
         },
         {
          "Date2": "2012-11-09 17:00:00",
          "DateString": "11/09/2012 05:00:00 PM",
          "East": 225,
          "Hour": 17,
          "JulianDay": 37,
          "WeekDay": 4,
          "West": 99,
          "Year": 2012
         },
         {
          "Date2": "2012-11-09 18:00:00",
          "DateString": "11/09/2012 06:00:00 PM",
          "East": 142,
          "Hour": 18,
          "JulianDay": 37,
          "WeekDay": 4,
          "West": 66,
          "Year": 2012
         },
         {
          "Date2": "2012-11-09 19:00:00",
          "DateString": "11/09/2012 07:00:00 PM",
          "East": 58,
          "Hour": 19,
          "JulianDay": 37,
          "WeekDay": 4,
          "West": 26,
          "Year": 2012
         },
         {
          "Date2": "2012-11-09 20:00:00",
          "DateString": "11/09/2012 08:00:00 PM",
          "East": 25,
          "Hour": 20,
          "JulianDay": 37,
          "WeekDay": 4,
          "West": 7,
          "Year": 2012
         },
         {
          "Date2": "2012-11-09 21:00:00",
          "DateString": "11/09/2012 09:00:00 PM",
          "East": 12,
          "Hour": 21,
          "JulianDay": 37,
          "WeekDay": 4,
          "West": 13,
          "Year": 2012
         },
         {
          "Date2": "2012-11-09 22:00:00",
          "DateString": "11/09/2012 10:00:00 PM",
          "East": 12,
          "Hour": 22,
          "JulianDay": 37,
          "WeekDay": 4,
          "West": 13,
          "Year": 2012
         },
         {
          "Date2": "2012-11-09 23:00:00",
          "DateString": "11/09/2012 11:00:00 PM",
          "East": 8,
          "Hour": 23,
          "JulianDay": 37,
          "WeekDay": 4,
          "West": 8,
          "Year": 2012
         },
         {
          "Date2": "2012-11-10 00:00:00",
          "DateString": "11/10/2012 12:00:00 AM",
          "East": 15,
          "Hour": 0,
          "JulianDay": 38,
          "WeekDay": 5,
          "West": 5,
          "Year": 2012
         },
         {
          "Date2": "2012-11-10 01:00:00",
          "DateString": "11/10/2012 01:00:00 AM",
          "East": 4,
          "Hour": 1,
          "JulianDay": 38,
          "WeekDay": 5,
          "West": 4,
          "Year": 2012
         },
         {
          "Date2": "2012-11-10 02:00:00",
          "DateString": "11/10/2012 02:00:00 AM",
          "East": 6,
          "Hour": 2,
          "JulianDay": 38,
          "WeekDay": 5,
          "West": 4,
          "Year": 2012
         },
         {
          "Date2": "2012-11-10 03:00:00",
          "DateString": "11/10/2012 03:00:00 AM",
          "East": 2,
          "Hour": 3,
          "JulianDay": 38,
          "WeekDay": 5,
          "West": 3,
          "Year": 2012
         },
         {
          "Date2": "2012-11-10 04:00:00",
          "DateString": "11/10/2012 04:00:00 AM",
          "East": 2,
          "Hour": 4,
          "JulianDay": 38,
          "WeekDay": 5,
          "West": 2,
          "Year": 2012
         },
         {
          "Date2": "2012-11-10 05:00:00",
          "DateString": "11/10/2012 05:00:00 AM",
          "East": 5,
          "Hour": 5,
          "JulianDay": 38,
          "WeekDay": 5,
          "West": 4,
          "Year": 2012
         },
         {
          "Date2": "2012-11-10 06:00:00",
          "DateString": "11/10/2012 06:00:00 AM",
          "East": 9,
          "Hour": 6,
          "JulianDay": 38,
          "WeekDay": 5,
          "West": 6,
          "Year": 2012
         },
         {
          "Date2": "2012-11-10 07:00:00",
          "DateString": "11/10/2012 07:00:00 AM",
          "East": 13,
          "Hour": 7,
          "JulianDay": 38,
          "WeekDay": 5,
          "West": 10,
          "Year": 2012
         },
         {
          "Date2": "2012-11-10 08:00:00",
          "DateString": "11/10/2012 08:00:00 AM",
          "East": 19,
          "Hour": 8,
          "JulianDay": 38,
          "WeekDay": 5,
          "West": 25,
          "Year": 2012
         },
         {
          "Date2": "2012-11-10 09:00:00",
          "DateString": "11/10/2012 09:00:00 AM",
          "East": 24,
          "Hour": 9,
          "JulianDay": 38,
          "WeekDay": 5,
          "West": 30,
          "Year": 2012
         },
         {
          "Date2": "2012-11-10 10:00:00",
          "DateString": "11/10/2012 10:00:00 AM",
          "East": 39,
          "Hour": 10,
          "JulianDay": 38,
          "WeekDay": 5,
          "West": 63,
          "Year": 2012
         },
         {
          "Date2": "2012-11-10 11:00:00",
          "DateString": "11/10/2012 11:00:00 AM",
          "East": 33,
          "Hour": 11,
          "JulianDay": 38,
          "WeekDay": 5,
          "West": 69,
          "Year": 2012
         },
         {
          "Date2": "2012-11-10 12:00:00",
          "DateString": "11/10/2012 12:00:00 PM",
          "East": 63,
          "Hour": 12,
          "JulianDay": 38,
          "WeekDay": 5,
          "West": 75,
          "Year": 2012
         },
         {
          "Date2": "2012-11-10 13:00:00",
          "DateString": "11/10/2012 01:00:00 PM",
          "East": 54,
          "Hour": 13,
          "JulianDay": 38,
          "WeekDay": 5,
          "West": 76,
          "Year": 2012
         },
         {
          "Date2": "2012-11-10 14:00:00",
          "DateString": "11/10/2012 02:00:00 PM",
          "East": 73,
          "Hour": 14,
          "JulianDay": 38,
          "WeekDay": 5,
          "West": 69,
          "Year": 2012
         },
         {
          "Date2": "2012-11-10 15:00:00",
          "DateString": "11/10/2012 03:00:00 PM",
          "East": 41,
          "Hour": 15,
          "JulianDay": 38,
          "WeekDay": 5,
          "West": 96,
          "Year": 2012
         },
         {
          "Date2": "2012-11-10 16:00:00",
          "DateString": "11/10/2012 04:00:00 PM",
          "East": 58,
          "Hour": 16,
          "JulianDay": 38,
          "WeekDay": 5,
          "West": 51,
          "Year": 2012
         },
         {
          "Date2": "2012-11-10 17:00:00",
          "DateString": "11/10/2012 05:00:00 PM",
          "East": 37,
          "Hour": 17,
          "JulianDay": 38,
          "WeekDay": 5,
          "West": 35,
          "Year": 2012
         },
         {
          "Date2": "2012-11-10 18:00:00",
          "DateString": "11/10/2012 06:00:00 PM",
          "East": 30,
          "Hour": 18,
          "JulianDay": 38,
          "WeekDay": 5,
          "West": 17,
          "Year": 2012
         },
         {
          "Date2": "2012-11-10 19:00:00",
          "DateString": "11/10/2012 07:00:00 PM",
          "East": 13,
          "Hour": 19,
          "JulianDay": 38,
          "WeekDay": 5,
          "West": 13,
          "Year": 2012
         },
         {
          "Date2": "2012-11-10 20:00:00",
          "DateString": "11/10/2012 08:00:00 PM",
          "East": 14,
          "Hour": 20,
          "JulianDay": 38,
          "WeekDay": 5,
          "West": 10,
          "Year": 2012
         },
         {
          "Date2": "2012-11-10 21:00:00",
          "DateString": "11/10/2012 09:00:00 PM",
          "East": 8,
          "Hour": 21,
          "JulianDay": 38,
          "WeekDay": 5,
          "West": 7,
          "Year": 2012
         },
         {
          "Date2": "2012-11-10 22:00:00",
          "DateString": "11/10/2012 10:00:00 PM",
          "East": 10,
          "Hour": 22,
          "JulianDay": 38,
          "WeekDay": 5,
          "West": 5,
          "Year": 2012
         },
         {
          "Date2": "2012-11-10 23:00:00",
          "DateString": "11/10/2012 11:00:00 PM",
          "East": 12,
          "Hour": 23,
          "JulianDay": 38,
          "WeekDay": 5,
          "West": 6,
          "Year": 2012
         },
         {
          "Date2": "2012-11-11 00:00:00",
          "DateString": "11/11/2012 12:00:00 AM",
          "East": 3,
          "Hour": 0,
          "JulianDay": 39,
          "WeekDay": 6,
          "West": 7,
          "Year": 2012
         },
         {
          "Date2": "2012-11-11 01:00:00",
          "DateString": "11/11/2012 01:00:00 AM",
          "East": 4,
          "Hour": 1,
          "JulianDay": 39,
          "WeekDay": 6,
          "West": 3,
          "Year": 2012
         },
         {
          "Date2": "2012-11-11 02:00:00",
          "DateString": "11/11/2012 02:00:00 AM",
          "East": 8,
          "Hour": 2,
          "JulianDay": 39,
          "WeekDay": 6,
          "West": 0,
          "Year": 2012
         },
         {
          "Date2": "2012-11-11 03:00:00",
          "DateString": "11/11/2012 03:00:00 AM",
          "East": 1,
          "Hour": 3,
          "JulianDay": 39,
          "WeekDay": 6,
          "West": 3,
          "Year": 2012
         },
         {
          "Date2": "2012-11-11 04:00:00",
          "DateString": "11/11/2012 04:00:00 AM",
          "East": 0,
          "Hour": 4,
          "JulianDay": 39,
          "WeekDay": 6,
          "West": 3,
          "Year": 2012
         },
         {
          "Date2": "2012-11-11 05:00:00",
          "DateString": "11/11/2012 05:00:00 AM",
          "East": 3,
          "Hour": 5,
          "JulianDay": 39,
          "WeekDay": 6,
          "West": 0,
          "Year": 2012
         },
         {
          "Date2": "2012-11-11 06:00:00",
          "DateString": "11/11/2012 06:00:00 AM",
          "East": 11,
          "Hour": 6,
          "JulianDay": 39,
          "WeekDay": 6,
          "West": 1,
          "Year": 2012
         },
         {
          "Date2": "2012-11-11 07:00:00",
          "DateString": "11/11/2012 07:00:00 AM",
          "East": 10,
          "Hour": 7,
          "JulianDay": 39,
          "WeekDay": 6,
          "West": 11,
          "Year": 2012
         },
         {
          "Date2": "2012-11-11 08:00:00",
          "DateString": "11/11/2012 08:00:00 AM",
          "East": 15,
          "Hour": 8,
          "JulianDay": 39,
          "WeekDay": 6,
          "West": 21,
          "Year": 2012
         },
         {
          "Date2": "2012-11-11 09:00:00",
          "DateString": "11/11/2012 09:00:00 AM",
          "East": 30,
          "Hour": 9,
          "JulianDay": 39,
          "WeekDay": 6,
          "West": 28,
          "Year": 2012
         },
         {
          "Date2": "2012-11-11 10:00:00",
          "DateString": "11/11/2012 10:00:00 AM",
          "East": 14,
          "Hour": 10,
          "JulianDay": 39,
          "WeekDay": 6,
          "West": 40,
          "Year": 2012
         },
         {
          "Date2": "2012-11-11 11:00:00",
          "DateString": "11/11/2012 11:00:00 AM",
          "East": 30,
          "Hour": 11,
          "JulianDay": 39,
          "WeekDay": 6,
          "West": 28,
          "Year": 2012
         },
         {
          "Date2": "2012-11-11 12:00:00",
          "DateString": "11/11/2012 12:00:00 PM",
          "East": 24,
          "Hour": 12,
          "JulianDay": 39,
          "WeekDay": 6,
          "West": 27,
          "Year": 2012
         },
         {
          "Date2": "2012-11-11 13:00:00",
          "DateString": "11/11/2012 01:00:00 PM",
          "East": 23,
          "Hour": 13,
          "JulianDay": 39,
          "WeekDay": 6,
          "West": 35,
          "Year": 2012
         },
         {
          "Date2": "2012-11-11 14:00:00",
          "DateString": "11/11/2012 02:00:00 PM",
          "East": 32,
          "Hour": 14,
          "JulianDay": 39,
          "WeekDay": 6,
          "West": 39,
          "Year": 2012
         },
         {
          "Date2": "2012-11-11 15:00:00",
          "DateString": "11/11/2012 03:00:00 PM",
          "East": 16,
          "Hour": 15,
          "JulianDay": 39,
          "WeekDay": 6,
          "West": 19,
          "Year": 2012
         },
         {
          "Date2": "2012-11-11 16:00:00",
          "DateString": "11/11/2012 04:00:00 PM",
          "East": 12,
          "Hour": 16,
          "JulianDay": 39,
          "WeekDay": 6,
          "West": 27,
          "Year": 2012
         },
         {
          "Date2": "2012-11-11 17:00:00",
          "DateString": "11/11/2012 05:00:00 PM",
          "East": 20,
          "Hour": 17,
          "JulianDay": 39,
          "WeekDay": 6,
          "West": 7,
          "Year": 2012
         },
         {
          "Date2": "2012-11-11 18:00:00",
          "DateString": "11/11/2012 06:00:00 PM",
          "East": 14,
          "Hour": 18,
          "JulianDay": 39,
          "WeekDay": 6,
          "West": 5,
          "Year": 2012
         },
         {
          "Date2": "2012-11-11 19:00:00",
          "DateString": "11/11/2012 07:00:00 PM",
          "East": 6,
          "Hour": 19,
          "JulianDay": 39,
          "WeekDay": 6,
          "West": 8,
          "Year": 2012
         },
         {
          "Date2": "2012-11-11 20:00:00",
          "DateString": "11/11/2012 08:00:00 PM",
          "East": 6,
          "Hour": 20,
          "JulianDay": 39,
          "WeekDay": 6,
          "West": 5,
          "Year": 2012
         },
         {
          "Date2": "2012-11-11 21:00:00",
          "DateString": "11/11/2012 09:00:00 PM",
          "East": 8,
          "Hour": 21,
          "JulianDay": 39,
          "WeekDay": 6,
          "West": 6,
          "Year": 2012
         },
         {
          "Date2": "2012-11-11 22:00:00",
          "DateString": "11/11/2012 10:00:00 PM",
          "East": 3,
          "Hour": 22,
          "JulianDay": 39,
          "WeekDay": 6,
          "West": 4,
          "Year": 2012
         },
         {
          "Date2": "2012-11-11 23:00:00",
          "DateString": "11/11/2012 11:00:00 PM",
          "East": 8,
          "Hour": 23,
          "JulianDay": 39,
          "WeekDay": 6,
          "West": 0,
          "Year": 2012
         },
         {
          "Date2": "2012-11-12 00:00:00",
          "DateString": "11/12/2012 12:00:00 AM",
          "East": 0,
          "Hour": 0,
          "JulianDay": 40,
          "WeekDay": 0,
          "West": 4,
          "Year": 2012
         },
         {
          "Date2": "2012-11-12 01:00:00",
          "DateString": "11/12/2012 01:00:00 AM",
          "East": 0,
          "Hour": 1,
          "JulianDay": 40,
          "WeekDay": 0,
          "West": 1,
          "Year": 2012
         },
         {
          "Date2": "2012-11-12 02:00:00",
          "DateString": "11/12/2012 02:00:00 AM",
          "East": 2,
          "Hour": 2,
          "JulianDay": 40,
          "WeekDay": 0,
          "West": 2,
          "Year": 2012
         },
         {
          "Date2": "2012-11-12 03:00:00",
          "DateString": "11/12/2012 03:00:00 AM",
          "East": 1,
          "Hour": 3,
          "JulianDay": 40,
          "WeekDay": 0,
          "West": 0,
          "Year": 2012
         },
         {
          "Date2": "2012-11-12 04:00:00",
          "DateString": "11/12/2012 04:00:00 AM",
          "East": 1,
          "Hour": 4,
          "JulianDay": 40,
          "WeekDay": 0,
          "West": 1,
          "Year": 2012
         },
         {
          "Date2": "2012-11-12 05:00:00",
          "DateString": "11/12/2012 05:00:00 AM",
          "East": 2,
          "Hour": 5,
          "JulianDay": 40,
          "WeekDay": 0,
          "West": 9,
          "Year": 2012
         },
         {
          "Date2": "2012-11-12 06:00:00",
          "DateString": "11/12/2012 06:00:00 AM",
          "East": 19,
          "Hour": 6,
          "JulianDay": 40,
          "WeekDay": 0,
          "West": 44,
          "Year": 2012
         },
         {
          "Date2": "2012-11-12 07:00:00",
          "DateString": "11/12/2012 07:00:00 AM",
          "East": 42,
          "Hour": 7,
          "JulianDay": 40,
          "WeekDay": 0,
          "West": 104,
          "Year": 2012
         },
         {
          "Date2": "2012-11-12 08:00:00",
          "DateString": "11/12/2012 08:00:00 AM",
          "East": 65,
          "Hour": 8,
          "JulianDay": 40,
          "WeekDay": 0,
          "West": 148,
          "Year": 2012
         },
         {
          "Date2": "2012-11-12 09:00:00",
          "DateString": "11/12/2012 09:00:00 AM",
          "East": 54,
          "Hour": 9,
          "JulianDay": 40,
          "WeekDay": 0,
          "West": 81,
          "Year": 2012
         },
         {
          "Date2": "2012-11-12 10:00:00",
          "DateString": "11/12/2012 10:00:00 AM",
          "East": 21,
          "Hour": 10,
          "JulianDay": 40,
          "WeekDay": 0,
          "West": 31,
          "Year": 2012
         },
         {
          "Date2": "2012-11-12 11:00:00",
          "DateString": "11/12/2012 11:00:00 AM",
          "East": 18,
          "Hour": 11,
          "JulianDay": 40,
          "WeekDay": 0,
          "West": 28,
          "Year": 2012
         },
         {
          "Date2": "2012-11-12 12:00:00",
          "DateString": "11/12/2012 12:00:00 PM",
          "East": 15,
          "Hour": 12,
          "JulianDay": 40,
          "WeekDay": 0,
          "West": 28,
          "Year": 2012
         },
         {
          "Date2": "2012-11-12 13:00:00",
          "DateString": "11/12/2012 01:00:00 PM",
          "East": 18,
          "Hour": 13,
          "JulianDay": 40,
          "WeekDay": 0,
          "West": 19,
          "Year": 2012
         },
         {
          "Date2": "2012-11-12 14:00:00",
          "DateString": "11/12/2012 02:00:00 PM",
          "East": 26,
          "Hour": 14,
          "JulianDay": 40,
          "WeekDay": 0,
          "West": 34,
          "Year": 2012
         },
         {
          "Date2": "2012-11-12 15:00:00",
          "DateString": "11/12/2012 03:00:00 PM",
          "East": 44,
          "Hour": 15,
          "JulianDay": 40,
          "WeekDay": 0,
          "West": 36,
          "Year": 2012
         },
         {
          "Date2": "2012-11-12 16:00:00",
          "DateString": "11/12/2012 04:00:00 PM",
          "East": 76,
          "Hour": 16,
          "JulianDay": 40,
          "WeekDay": 0,
          "West": 62,
          "Year": 2012
         },
         {
          "Date2": "2012-11-12 17:00:00",
          "DateString": "11/12/2012 05:00:00 PM",
          "East": 178,
          "Hour": 17,
          "JulianDay": 40,
          "WeekDay": 0,
          "West": 83,
          "Year": 2012
         },
         {
          "Date2": "2012-11-12 18:00:00",
          "DateString": "11/12/2012 06:00:00 PM",
          "East": 113,
          "Hour": 18,
          "JulianDay": 40,
          "WeekDay": 0,
          "West": 63,
          "Year": 2012
         },
         {
          "Date2": "2012-11-12 19:00:00",
          "DateString": "11/12/2012 07:00:00 PM",
          "East": 45,
          "Hour": 19,
          "JulianDay": 40,
          "WeekDay": 0,
          "West": 23,
          "Year": 2012
         },
         {
          "Date2": "2012-11-12 20:00:00",
          "DateString": "11/12/2012 08:00:00 PM",
          "East": 16,
          "Hour": 20,
          "JulianDay": 40,
          "WeekDay": 0,
          "West": 7,
          "Year": 2012
         },
         {
          "Date2": "2012-11-12 21:00:00",
          "DateString": "11/12/2012 09:00:00 PM",
          "East": 15,
          "Hour": 21,
          "JulianDay": 40,
          "WeekDay": 0,
          "West": 11,
          "Year": 2012
         },
         {
          "Date2": "2012-11-12 22:00:00",
          "DateString": "11/12/2012 10:00:00 PM",
          "East": 11,
          "Hour": 22,
          "JulianDay": 40,
          "WeekDay": 0,
          "West": 13,
          "Year": 2012
         },
         {
          "Date2": "2012-11-12 23:00:00",
          "DateString": "11/12/2012 11:00:00 PM",
          "East": 10,
          "Hour": 23,
          "JulianDay": 40,
          "WeekDay": 0,
          "West": 7,
          "Year": 2012
         },
         {
          "Date2": "2012-11-13 00:00:00",
          "DateString": "11/13/2012 12:00:00 AM",
          "East": 5,
          "Hour": 0,
          "JulianDay": 41,
          "WeekDay": 1,
          "West": 4,
          "Year": 2012
         },
         {
          "Date2": "2012-11-13 01:00:00",
          "DateString": "11/13/2012 01:00:00 AM",
          "East": 2,
          "Hour": 1,
          "JulianDay": 41,
          "WeekDay": 1,
          "West": 1,
          "Year": 2012
         },
         {
          "Date2": "2012-11-13 02:00:00",
          "DateString": "11/13/2012 02:00:00 AM",
          "East": 1,
          "Hour": 2,
          "JulianDay": 41,
          "WeekDay": 1,
          "West": 3,
          "Year": 2012
         },
         {
          "Date2": "2012-11-13 03:00:00",
          "DateString": "11/13/2012 03:00:00 AM",
          "East": 1,
          "Hour": 3,
          "JulianDay": 41,
          "WeekDay": 1,
          "West": 1,
          "Year": 2012
         },
         {
          "Date2": "2012-11-13 04:00:00",
          "DateString": "11/13/2012 04:00:00 AM",
          "East": 2,
          "Hour": 4,
          "JulianDay": 41,
          "WeekDay": 1,
          "West": 6,
          "Year": 2012
         },
         {
          "Date2": "2012-11-13 05:00:00",
          "DateString": "11/13/2012 05:00:00 AM",
          "East": 8,
          "Hour": 5,
          "JulianDay": 41,
          "WeekDay": 1,
          "West": 17,
          "Year": 2012
         },
         {
          "Date2": "2012-11-13 06:00:00",
          "DateString": "11/13/2012 06:00:00 AM",
          "East": 37,
          "Hour": 6,
          "JulianDay": 41,
          "WeekDay": 1,
          "West": 76,
          "Year": 2012
         },
         {
          "Date2": "2012-11-13 07:00:00",
          "DateString": "11/13/2012 07:00:00 AM",
          "East": 66,
          "Hour": 7,
          "JulianDay": 41,
          "WeekDay": 1,
          "West": 180,
          "Year": 2012
         },
         {
          "Date2": "2012-11-13 08:00:00",
          "DateString": "11/13/2012 08:00:00 AM",
          "East": 100,
          "Hour": 8,
          "JulianDay": 41,
          "WeekDay": 1,
          "West": 218,
          "Year": 2012
         },
         {
          "Date2": "2012-11-13 09:00:00",
          "DateString": "11/13/2012 09:00:00 AM",
          "East": 67,
          "Hour": 9,
          "JulianDay": 41,
          "WeekDay": 1,
          "West": 104,
          "Year": 2012
         },
         {
          "Date2": "2012-11-13 10:00:00",
          "DateString": "11/13/2012 10:00:00 AM",
          "East": 26,
          "Hour": 10,
          "JulianDay": 41,
          "WeekDay": 1,
          "West": 30,
          "Year": 2012
         },
         {
          "Date2": "2012-11-13 11:00:00",
          "DateString": "11/13/2012 11:00:00 AM",
          "East": 18,
          "Hour": 11,
          "JulianDay": 41,
          "WeekDay": 1,
          "West": 34,
          "Year": 2012
         },
         {
          "Date2": "2012-11-13 12:00:00",
          "DateString": "11/13/2012 12:00:00 PM",
          "East": 6,
          "Hour": 12,
          "JulianDay": 41,
          "WeekDay": 1,
          "West": 22,
          "Year": 2012
         },
         {
          "Date2": "2012-11-13 13:00:00",
          "DateString": "11/13/2012 01:00:00 PM",
          "East": 20,
          "Hour": 13,
          "JulianDay": 41,
          "WeekDay": 1,
          "West": 21,
          "Year": 2012
         },
         {
          "Date2": "2012-11-13 14:00:00",
          "DateString": "11/13/2012 02:00:00 PM",
          "East": 30,
          "Hour": 14,
          "JulianDay": 41,
          "WeekDay": 1,
          "West": 21,
          "Year": 2012
         },
         {
          "Date2": "2012-11-13 15:00:00",
          "DateString": "11/13/2012 03:00:00 PM",
          "East": 38,
          "Hour": 15,
          "JulianDay": 41,
          "WeekDay": 1,
          "West": 37,
          "Year": 2012
         }
        ]
       },
       "encoding": {
        "color": {
         "field": "JulianDay",
         "legend": null,
         "scale": {
          "range": [
           "red"
          ]
         },
         "type": "nominal"
        },
        "x": {
         "field": "Hour",
         "type": "quantitative"
        },
        "y": {
         "field": "East",
         "type": "quantitative"
        }
       },
       "mark": {
        "opacity": 0.05,
        "type": "line"
       }
      },
      "image/png": "[encoded data removed]",
      "text/plain": [
       "<VegaLite 2 object>\n",
       "\n",
       "If you see this message, it means the renderer has not been properly enabled\n",
       "for the frontend that you are using. For more information, see\n",
       "https://altair-viz.github.io/user_guide/troubleshooting.html\n"
      ]
     },
     "execution_count": 25,
     "metadata": {},
     "output_type": "execute_result"
    }
   ],
   "source": [
    "c1 = alt.Chart(bike2_df[0:1000]).mark_line(opacity=0.05).encode(\n",
    "    x=alt.X('Hour:Q'),\n",
    "    y='East:Q',\n",
    "    color=alt.Color('JulianDay:N', legend=None, scale=alt.Scale(range=['red'])))\n",
    "c1"
   ]
  },
  {
   "cell_type": "code",
   "execution_count": 26,
   "metadata": {},
   "outputs": [
    {
     "data": {
      "application/vnd.vegalite.v2+json": {
       "$schema": "https://vega.github.io/schema/vega-lite/v2.4.3.json",
       "config": {
        "view": {
         "height": 300,
         "width": 400
        }
       },
       "data": {
        "values": [
         {
          "Date2": "2012-10-03 00:00:00",
          "DateString": "10/03/2012 12:00:00 AM",
          "East": 9,
          "Hour": 0,
          "JulianDay": 0,
          "WeekDay": 2,
          "West": 4,
          "Year": 2012
         },
         {
          "Date2": "2012-10-03 01:00:00",
          "DateString": "10/03/2012 01:00:00 AM",
          "East": 6,
          "Hour": 1,
          "JulianDay": 0,
          "WeekDay": 2,
          "West": 4,
          "Year": 2012
         },
         {
          "Date2": "2012-10-03 02:00:00",
          "DateString": "10/03/2012 02:00:00 AM",
          "East": 1,
          "Hour": 2,
          "JulianDay": 0,
          "WeekDay": 2,
          "West": 1,
          "Year": 2012
         },
         {
          "Date2": "2012-10-03 03:00:00",
          "DateString": "10/03/2012 03:00:00 AM",
          "East": 3,
          "Hour": 3,
          "JulianDay": 0,
          "WeekDay": 2,
          "West": 2,
          "Year": 2012
         },
         {
          "Date2": "2012-10-03 04:00:00",
          "DateString": "10/03/2012 04:00:00 AM",
          "East": 1,
          "Hour": 4,
          "JulianDay": 0,
          "WeekDay": 2,
          "West": 6,
          "Year": 2012
         },
         {
          "Date2": "2012-10-03 05:00:00",
          "DateString": "10/03/2012 05:00:00 AM",
          "East": 10,
          "Hour": 5,
          "JulianDay": 0,
          "WeekDay": 2,
          "West": 21,
          "Year": 2012
         },
         {
          "Date2": "2012-10-03 06:00:00",
          "DateString": "10/03/2012 06:00:00 AM",
          "East": 50,
          "Hour": 6,
          "JulianDay": 0,
          "WeekDay": 2,
          "West": 105,
          "Year": 2012
         },
         {
          "Date2": "2012-10-03 07:00:00",
          "DateString": "10/03/2012 07:00:00 AM",
          "East": 95,
          "Hour": 7,
          "JulianDay": 0,
          "WeekDay": 2,
          "West": 257,
          "Year": 2012
         },
         {
          "Date2": "2012-10-03 08:00:00",
          "DateString": "10/03/2012 08:00:00 AM",
          "East": 146,
          "Hour": 8,
          "JulianDay": 0,
          "WeekDay": 2,
          "West": 291,
          "Year": 2012
         },
         {
          "Date2": "2012-10-03 09:00:00",
          "DateString": "10/03/2012 09:00:00 AM",
          "East": 104,
          "Hour": 9,
          "JulianDay": 0,
          "WeekDay": 2,
          "West": 172,
          "Year": 2012
         },
         {
          "Date2": "2012-10-03 10:00:00",
          "DateString": "10/03/2012 10:00:00 AM",
          "East": 46,
          "Hour": 10,
          "JulianDay": 0,
          "WeekDay": 2,
          "West": 72,
          "Year": 2012
         },
         {
          "Date2": "2012-10-03 11:00:00",
          "DateString": "10/03/2012 11:00:00 AM",
          "East": 32,
          "Hour": 11,
          "JulianDay": 0,
          "WeekDay": 2,
          "West": 10,
          "Year": 2012
         },
         {
          "Date2": "2012-10-03 12:00:00",
          "DateString": "10/03/2012 12:00:00 PM",
          "East": 41,
          "Hour": 12,
          "JulianDay": 0,
          "WeekDay": 2,
          "West": 35,
          "Year": 2012
         },
         {
          "Date2": "2012-10-03 13:00:00",
          "DateString": "10/03/2012 01:00:00 PM",
          "East": 48,
          "Hour": 13,
          "JulianDay": 0,
          "WeekDay": 2,
          "West": 42,
          "Year": 2012
         },
         {
          "Date2": "2012-10-03 14:00:00",
          "DateString": "10/03/2012 02:00:00 PM",
          "East": 51,
          "Hour": 14,
          "JulianDay": 0,
          "WeekDay": 2,
          "West": 77,
          "Year": 2012
         },
         {
          "Date2": "2012-10-03 15:00:00",
          "DateString": "10/03/2012 03:00:00 PM",
          "East": 92,
          "Hour": 15,
          "JulianDay": 0,
          "WeekDay": 2,
          "West": 72,
          "Year": 2012
         },
         {
          "Date2": "2012-10-03 16:00:00",
          "DateString": "10/03/2012 04:00:00 PM",
          "East": 182,
          "Hour": 16,
          "JulianDay": 0,
          "WeekDay": 2,
          "West": 133,
          "Year": 2012
         },
         {
          "Date2": "2012-10-03 17:00:00",
          "DateString": "10/03/2012 05:00:00 PM",
          "East": 391,
          "Hour": 17,
          "JulianDay": 0,
          "WeekDay": 2,
          "West": 192,
          "Year": 2012
         },
         {
          "Date2": "2012-10-03 18:00:00",
          "DateString": "10/03/2012 06:00:00 PM",
          "East": 258,
          "Hour": 18,
          "JulianDay": 0,
          "WeekDay": 2,
          "West": 122,
          "Year": 2012
         },
         {
          "Date2": "2012-10-03 19:00:00",
          "DateString": "10/03/2012 07:00:00 PM",
          "East": 69,
          "Hour": 19,
          "JulianDay": 0,
          "WeekDay": 2,
          "West": 59,
          "Year": 2012
         },
         {
          "Date2": "2012-10-03 20:00:00",
          "DateString": "10/03/2012 08:00:00 PM",
          "East": 51,
          "Hour": 20,
          "JulianDay": 0,
          "WeekDay": 2,
          "West": 29,
          "Year": 2012
         },
         {
          "Date2": "2012-10-03 21:00:00",
          "DateString": "10/03/2012 09:00:00 PM",
          "East": 38,
          "Hour": 21,
          "JulianDay": 0,
          "WeekDay": 2,
          "West": 25,
          "Year": 2012
         },
         {
          "Date2": "2012-10-03 22:00:00",
          "DateString": "10/03/2012 10:00:00 PM",
          "East": 25,
          "Hour": 22,
          "JulianDay": 0,
          "WeekDay": 2,
          "West": 24,
          "Year": 2012
         },
         {
          "Date2": "2012-10-03 23:00:00",
          "DateString": "10/03/2012 11:00:00 PM",
          "East": 12,
          "Hour": 23,
          "JulianDay": 0,
          "WeekDay": 2,
          "West": 5,
          "Year": 2012
         },
         {
          "Date2": "2012-10-04 00:00:00",
          "DateString": "10/04/2012 12:00:00 AM",
          "East": 11,
          "Hour": 0,
          "JulianDay": 1,
          "WeekDay": 3,
          "West": 7,
          "Year": 2012
         },
         {
          "Date2": "2012-10-04 01:00:00",
          "DateString": "10/04/2012 01:00:00 AM",
          "East": 0,
          "Hour": 1,
          "JulianDay": 1,
          "WeekDay": 3,
          "West": 3,
          "Year": 2012
         },
         {
          "Date2": "2012-10-04 02:00:00",
          "DateString": "10/04/2012 02:00:00 AM",
          "East": 6,
          "Hour": 2,
          "JulianDay": 1,
          "WeekDay": 3,
          "West": 3,
          "Year": 2012
         },
         {
          "Date2": "2012-10-04 03:00:00",
          "DateString": "10/04/2012 03:00:00 AM",
          "East": 3,
          "Hour": 3,
          "JulianDay": 1,
          "WeekDay": 3,
          "West": 0,
          "Year": 2012
         },
         {
          "Date2": "2012-10-04 04:00:00",
          "DateString": "10/04/2012 04:00:00 AM",
          "East": 1,
          "Hour": 4,
          "JulianDay": 1,
          "WeekDay": 3,
          "West": 7,
          "Year": 2012
         },
         {
          "Date2": "2012-10-04 05:00:00",
          "DateString": "10/04/2012 05:00:00 AM",
          "East": 11,
          "Hour": 5,
          "JulianDay": 1,
          "WeekDay": 3,
          "West": 15,
          "Year": 2012
         },
         {
          "Date2": "2012-10-04 06:00:00",
          "DateString": "10/04/2012 06:00:00 AM",
          "East": 51,
          "Hour": 6,
          "JulianDay": 1,
          "WeekDay": 3,
          "West": 91,
          "Year": 2012
         },
         {
          "Date2": "2012-10-04 07:00:00",
          "DateString": "10/04/2012 07:00:00 AM",
          "East": 89,
          "Hour": 7,
          "JulianDay": 1,
          "WeekDay": 3,
          "West": 230,
          "Year": 2012
         },
         {
          "Date2": "2012-10-04 08:00:00",
          "DateString": "10/04/2012 08:00:00 AM",
          "East": 134,
          "Hour": 8,
          "JulianDay": 1,
          "WeekDay": 3,
          "West": 284,
          "Year": 2012
         },
         {
          "Date2": "2012-10-04 09:00:00",
          "DateString": "10/04/2012 09:00:00 AM",
          "East": 94,
          "Hour": 9,
          "JulianDay": 1,
          "WeekDay": 3,
          "West": 147,
          "Year": 2012
         },
         {
          "Date2": "2012-10-04 10:00:00",
          "DateString": "10/04/2012 10:00:00 AM",
          "East": 53,
          "Hour": 10,
          "JulianDay": 1,
          "WeekDay": 3,
          "West": 67,
          "Year": 2012
         },
         {
          "Date2": "2012-10-04 11:00:00",
          "DateString": "10/04/2012 11:00:00 AM",
          "East": 55,
          "Hour": 11,
          "JulianDay": 1,
          "WeekDay": 3,
          "West": 53,
          "Year": 2012
         },
         {
          "Date2": "2012-10-04 12:00:00",
          "DateString": "10/04/2012 12:00:00 PM",
          "East": 50,
          "Hour": 12,
          "JulianDay": 1,
          "WeekDay": 3,
          "West": 54,
          "Year": 2012
         },
         {
          "Date2": "2012-10-04 13:00:00",
          "DateString": "10/04/2012 01:00:00 PM",
          "East": 71,
          "Hour": 13,
          "JulianDay": 1,
          "WeekDay": 3,
          "West": 55,
          "Year": 2012
         },
         {
          "Date2": "2012-10-04 14:00:00",
          "DateString": "10/04/2012 02:00:00 PM",
          "East": 56,
          "Hour": 14,
          "JulianDay": 1,
          "WeekDay": 3,
          "West": 63,
          "Year": 2012
         },
         {
          "Date2": "2012-10-04 15:00:00",
          "DateString": "10/04/2012 03:00:00 PM",
          "East": 74,
          "Hour": 15,
          "JulianDay": 1,
          "WeekDay": 3,
          "West": 73,
          "Year": 2012
         },
         {
          "Date2": "2012-10-04 16:00:00",
          "DateString": "10/04/2012 04:00:00 PM",
          "East": 161,
          "Hour": 16,
          "JulianDay": 1,
          "WeekDay": 3,
          "West": 114,
          "Year": 2012
         },
         {
          "Date2": "2012-10-04 17:00:00",
          "DateString": "10/04/2012 05:00:00 PM",
          "East": 353,
          "Hour": 17,
          "JulianDay": 1,
          "WeekDay": 3,
          "West": 154,
          "Year": 2012
         },
         {
          "Date2": "2012-10-04 18:00:00",
          "DateString": "10/04/2012 06:00:00 PM",
          "East": 241,
          "Hour": 18,
          "JulianDay": 1,
          "WeekDay": 3,
          "West": 137,
          "Year": 2012
         },
         {
          "Date2": "2012-10-04 19:00:00",
          "DateString": "10/04/2012 07:00:00 PM",
          "East": 107,
          "Hour": 19,
          "JulianDay": 1,
          "WeekDay": 3,
          "West": 57,
          "Year": 2012
         },
         {
          "Date2": "2012-10-04 20:00:00",
          "DateString": "10/04/2012 08:00:00 PM",
          "East": 56,
          "Hour": 20,
          "JulianDay": 1,
          "WeekDay": 3,
          "West": 27,
          "Year": 2012
         },
         {
          "Date2": "2012-10-04 21:00:00",
          "DateString": "10/04/2012 09:00:00 PM",
          "East": 39,
          "Hour": 21,
          "JulianDay": 1,
          "WeekDay": 3,
          "West": 31,
          "Year": 2012
         },
         {
          "Date2": "2012-10-04 22:00:00",
          "DateString": "10/04/2012 10:00:00 PM",
          "East": 21,
          "Hour": 22,
          "JulianDay": 1,
          "WeekDay": 3,
          "West": 25,
          "Year": 2012
         },
         {
          "Date2": "2012-10-04 23:00:00",
          "DateString": "10/04/2012 11:00:00 PM",
          "East": 30,
          "Hour": 23,
          "JulianDay": 1,
          "WeekDay": 3,
          "West": 11,
          "Year": 2012
         },
         {
          "Date2": "2012-10-05 00:00:00",
          "DateString": "10/05/2012 12:00:00 AM",
          "East": 7,
          "Hour": 0,
          "JulianDay": 2,
          "WeekDay": 4,
          "West": 4,
          "Year": 2012
         },
         {
          "Date2": "2012-10-05 01:00:00",
          "DateString": "10/05/2012 01:00:00 AM",
          "East": 4,
          "Hour": 1,
          "JulianDay": 2,
          "WeekDay": 4,
          "West": 4,
          "Year": 2012
         },
         {
          "Date2": "2012-10-05 02:00:00",
          "DateString": "10/05/2012 02:00:00 AM",
          "East": 3,
          "Hour": 2,
          "JulianDay": 2,
          "WeekDay": 4,
          "West": 4,
          "Year": 2012
         },
         {
          "Date2": "2012-10-05 03:00:00",
          "DateString": "10/05/2012 03:00:00 AM",
          "East": 2,
          "Hour": 3,
          "JulianDay": 2,
          "WeekDay": 4,
          "West": 2,
          "Year": 2012
         },
         {
          "Date2": "2012-10-05 04:00:00",
          "DateString": "10/05/2012 04:00:00 AM",
          "East": 2,
          "Hour": 4,
          "JulianDay": 2,
          "WeekDay": 4,
          "West": 7,
          "Year": 2012
         },
         {
          "Date2": "2012-10-05 05:00:00",
          "DateString": "10/05/2012 05:00:00 AM",
          "East": 7,
          "Hour": 5,
          "JulianDay": 2,
          "WeekDay": 4,
          "West": 18,
          "Year": 2012
         },
         {
          "Date2": "2012-10-05 06:00:00",
          "DateString": "10/05/2012 06:00:00 AM",
          "East": 37,
          "Hour": 6,
          "JulianDay": 2,
          "WeekDay": 4,
          "West": 68,
          "Year": 2012
         },
         {
          "Date2": "2012-10-05 07:00:00",
          "DateString": "10/05/2012 07:00:00 AM",
          "East": 101,
          "Hour": 7,
          "JulianDay": 2,
          "WeekDay": 4,
          "West": 218,
          "Year": 2012
         },
         {
          "Date2": "2012-10-05 08:00:00",
          "DateString": "10/05/2012 08:00:00 AM",
          "East": 119,
          "Hour": 8,
          "JulianDay": 2,
          "WeekDay": 4,
          "West": 251,
          "Year": 2012
         },
         {
          "Date2": "2012-10-05 09:00:00",
          "DateString": "10/05/2012 09:00:00 AM",
          "East": 81,
          "Hour": 9,
          "JulianDay": 2,
          "WeekDay": 4,
          "West": 131,
          "Year": 2012
         },
         {
          "Date2": "2012-10-05 10:00:00",
          "DateString": "10/05/2012 10:00:00 AM",
          "East": 48,
          "Hour": 10,
          "JulianDay": 2,
          "WeekDay": 4,
          "West": 71,
          "Year": 2012
         },
         {
          "Date2": "2012-10-05 11:00:00",
          "DateString": "10/05/2012 11:00:00 AM",
          "East": 61,
          "Hour": 11,
          "JulianDay": 2,
          "WeekDay": 4,
          "West": 43,
          "Year": 2012
         },
         {
          "Date2": "2012-10-05 12:00:00",
          "DateString": "10/05/2012 12:00:00 PM",
          "East": 46,
          "Hour": 12,
          "JulianDay": 2,
          "WeekDay": 4,
          "West": 55,
          "Year": 2012
         },
         {
          "Date2": "2012-10-05 13:00:00",
          "DateString": "10/05/2012 01:00:00 PM",
          "East": 50,
          "Hour": 13,
          "JulianDay": 2,
          "WeekDay": 4,
          "West": 62,
          "Year": 2012
         },
         {
          "Date2": "2012-10-05 14:00:00",
          "DateString": "10/05/2012 02:00:00 PM",
          "East": 62,
          "Hour": 14,
          "JulianDay": 2,
          "WeekDay": 4,
          "West": 63,
          "Year": 2012
         },
         {
          "Date2": "2012-10-05 15:00:00",
          "DateString": "10/05/2012 03:00:00 PM",
          "East": 84,
          "Hour": 15,
          "JulianDay": 2,
          "WeekDay": 4,
          "West": 80,
          "Year": 2012
         },
         {
          "Date2": "2012-10-05 16:00:00",
          "DateString": "10/05/2012 04:00:00 PM",
          "East": 190,
          "Hour": 16,
          "JulianDay": 2,
          "WeekDay": 4,
          "West": 120,
          "Year": 2012
         },
         {
          "Date2": "2012-10-05 17:00:00",
          "DateString": "10/05/2012 05:00:00 PM",
          "East": 290,
          "Hour": 17,
          "JulianDay": 2,
          "WeekDay": 4,
          "West": 144,
          "Year": 2012
         },
         {
          "Date2": "2012-10-05 18:00:00",
          "DateString": "10/05/2012 06:00:00 PM",
          "East": 209,
          "Hour": 18,
          "JulianDay": 2,
          "WeekDay": 4,
          "West": 107,
          "Year": 2012
         },
         {
          "Date2": "2012-10-05 19:00:00",
          "DateString": "10/05/2012 07:00:00 PM",
          "East": 73,
          "Hour": 19,
          "JulianDay": 2,
          "WeekDay": 4,
          "West": 42,
          "Year": 2012
         },
         {
          "Date2": "2012-10-05 20:00:00",
          "DateString": "10/05/2012 08:00:00 PM",
          "East": 41,
          "Hour": 20,
          "JulianDay": 2,
          "WeekDay": 4,
          "West": 27,
          "Year": 2012
         },
         {
          "Date2": "2012-10-05 21:00:00",
          "DateString": "10/05/2012 09:00:00 PM",
          "East": 31,
          "Hour": 21,
          "JulianDay": 2,
          "WeekDay": 4,
          "West": 11,
          "Year": 2012
         },
         {
          "Date2": "2012-10-05 22:00:00",
          "DateString": "10/05/2012 10:00:00 PM",
          "East": 26,
          "Hour": 22,
          "JulianDay": 2,
          "WeekDay": 4,
          "West": 10,
          "Year": 2012
         },
         {
          "Date2": "2012-10-05 23:00:00",
          "DateString": "10/05/2012 11:00:00 PM",
          "East": 16,
          "Hour": 23,
          "JulianDay": 2,
          "WeekDay": 4,
          "West": 16,
          "Year": 2012
         },
         {
          "Date2": "2012-10-06 00:00:00",
          "DateString": "10/06/2012 12:00:00 AM",
          "East": 7,
          "Hour": 0,
          "JulianDay": 3,
          "WeekDay": 5,
          "West": 8,
          "Year": 2012
         },
         {
          "Date2": "2012-10-06 01:00:00",
          "DateString": "10/06/2012 01:00:00 AM",
          "East": 5,
          "Hour": 1,
          "JulianDay": 3,
          "WeekDay": 5,
          "West": 10,
          "Year": 2012
         },
         {
          "Date2": "2012-10-06 02:00:00",
          "DateString": "10/06/2012 02:00:00 AM",
          "East": 2,
          "Hour": 2,
          "JulianDay": 3,
          "WeekDay": 5,
          "West": 7,
          "Year": 2012
         },
         {
          "Date2": "2012-10-06 03:00:00",
          "DateString": "10/06/2012 03:00:00 AM",
          "East": 2,
          "Hour": 3,
          "JulianDay": 3,
          "WeekDay": 5,
          "West": 1,
          "Year": 2012
         },
         {
          "Date2": "2012-10-06 04:00:00",
          "DateString": "10/06/2012 04:00:00 AM",
          "East": 1,
          "Hour": 4,
          "JulianDay": 3,
          "WeekDay": 5,
          "West": 4,
          "Year": 2012
         },
         {
          "Date2": "2012-10-06 05:00:00",
          "DateString": "10/06/2012 05:00:00 AM",
          "East": 2,
          "Hour": 5,
          "JulianDay": 3,
          "WeekDay": 5,
          "West": 3,
          "Year": 2012
         },
         {
          "Date2": "2012-10-06 06:00:00",
          "DateString": "10/06/2012 06:00:00 AM",
          "East": 15,
          "Hour": 6,
          "JulianDay": 3,
          "WeekDay": 5,
          "West": 12,
          "Year": 2012
         },
         {
          "Date2": "2012-10-06 07:00:00",
          "DateString": "10/06/2012 07:00:00 AM",
          "East": 16,
          "Hour": 7,
          "JulianDay": 3,
          "WeekDay": 5,
          "West": 17,
          "Year": 2012
         },
         {
          "Date2": "2012-10-06 08:00:00",
          "DateString": "10/06/2012 08:00:00 AM",
          "East": 47,
          "Hour": 8,
          "JulianDay": 3,
          "WeekDay": 5,
          "West": 58,
          "Year": 2012
         },
         {
          "Date2": "2012-10-06 09:00:00",
          "DateString": "10/06/2012 09:00:00 AM",
          "East": 55,
          "Hour": 9,
          "JulianDay": 3,
          "WeekDay": 5,
          "West": 59,
          "Year": 2012
         },
         {
          "Date2": "2012-10-06 10:00:00",
          "DateString": "10/06/2012 10:00:00 AM",
          "East": 47,
          "Hour": 10,
          "JulianDay": 3,
          "WeekDay": 5,
          "West": 68,
          "Year": 2012
         },
         {
          "Date2": "2012-10-06 11:00:00",
          "DateString": "10/06/2012 11:00:00 AM",
          "East": 48,
          "Hour": 11,
          "JulianDay": 3,
          "WeekDay": 5,
          "West": 76,
          "Year": 2012
         },
         {
          "Date2": "2012-10-06 12:00:00",
          "DateString": "10/06/2012 12:00:00 PM",
          "East": 73,
          "Hour": 12,
          "JulianDay": 3,
          "WeekDay": 5,
          "West": 91,
          "Year": 2012
         },
         {
          "Date2": "2012-10-06 13:00:00",
          "DateString": "10/06/2012 01:00:00 PM",
          "East": 82,
          "Hour": 13,
          "JulianDay": 3,
          "WeekDay": 5,
          "West": 95,
          "Year": 2012
         },
         {
          "Date2": "2012-10-06 14:00:00",
          "DateString": "10/06/2012 02:00:00 PM",
          "East": 114,
          "Hour": 14,
          "JulianDay": 3,
          "WeekDay": 5,
          "West": 89,
          "Year": 2012
         },
         {
          "Date2": "2012-10-06 15:00:00",
          "DateString": "10/06/2012 03:00:00 PM",
          "East": 96,
          "Hour": 15,
          "JulianDay": 3,
          "WeekDay": 5,
          "West": 115,
          "Year": 2012
         },
         {
          "Date2": "2012-10-06 16:00:00",
          "DateString": "10/06/2012 04:00:00 PM",
          "East": 76,
          "Hour": 16,
          "JulianDay": 3,
          "WeekDay": 5,
          "West": 107,
          "Year": 2012
         },
         {
          "Date2": "2012-10-06 17:00:00",
          "DateString": "10/06/2012 05:00:00 PM",
          "East": 73,
          "Hour": 17,
          "JulianDay": 3,
          "WeekDay": 5,
          "West": 107,
          "Year": 2012
         },
         {
          "Date2": "2012-10-06 18:00:00",
          "DateString": "10/06/2012 06:00:00 PM",
          "East": 55,
          "Hour": 18,
          "JulianDay": 3,
          "WeekDay": 5,
          "West": 41,
          "Year": 2012
         },
         {
          "Date2": "2012-10-06 19:00:00",
          "DateString": "10/06/2012 07:00:00 PM",
          "East": 38,
          "Hour": 19,
          "JulianDay": 3,
          "WeekDay": 5,
          "West": 40,
          "Year": 2012
         },
         {
          "Date2": "2012-10-06 20:00:00",
          "DateString": "10/06/2012 08:00:00 PM",
          "East": 18,
          "Hour": 20,
          "JulianDay": 3,
          "WeekDay": 5,
          "West": 25,
          "Year": 2012
         },
         {
          "Date2": "2012-10-06 21:00:00",
          "DateString": "10/06/2012 09:00:00 PM",
          "East": 15,
          "Hour": 21,
          "JulianDay": 3,
          "WeekDay": 5,
          "West": 18,
          "Year": 2012
         },
         {
          "Date2": "2012-10-06 22:00:00",
          "DateString": "10/06/2012 10:00:00 PM",
          "East": 20,
          "Hour": 22,
          "JulianDay": 3,
          "WeekDay": 5,
          "West": 14,
          "Year": 2012
         },
         {
          "Date2": "2012-10-06 23:00:00",
          "DateString": "10/06/2012 11:00:00 PM",
          "East": 19,
          "Hour": 23,
          "JulianDay": 3,
          "WeekDay": 5,
          "West": 15,
          "Year": 2012
         },
         {
          "Date2": "2012-10-07 00:00:00",
          "DateString": "10/07/2012 12:00:00 AM",
          "East": 5,
          "Hour": 0,
          "JulianDay": 4,
          "WeekDay": 6,
          "West": 6,
          "Year": 2012
         },
         {
          "Date2": "2012-10-07 01:00:00",
          "DateString": "10/07/2012 01:00:00 AM",
          "East": 5,
          "Hour": 1,
          "JulianDay": 4,
          "WeekDay": 6,
          "West": 12,
          "Year": 2012
         },
         {
          "Date2": "2012-10-07 02:00:00",
          "DateString": "10/07/2012 02:00:00 AM",
          "East": 1,
          "Hour": 2,
          "JulianDay": 4,
          "WeekDay": 6,
          "West": 2,
          "Year": 2012
         },
         {
          "Date2": "2012-10-07 03:00:00",
          "DateString": "10/07/2012 03:00:00 AM",
          "East": 2,
          "Hour": 3,
          "JulianDay": 4,
          "WeekDay": 6,
          "West": 4,
          "Year": 2012
         },
         {
          "Date2": "2012-10-07 04:00:00",
          "DateString": "10/07/2012 04:00:00 AM",
          "East": 2,
          "Hour": 4,
          "JulianDay": 4,
          "WeekDay": 6,
          "West": 1,
          "Year": 2012
         },
         {
          "Date2": "2012-10-07 05:00:00",
          "DateString": "10/07/2012 05:00:00 AM",
          "East": 3,
          "Hour": 5,
          "JulianDay": 4,
          "WeekDay": 6,
          "West": 6,
          "Year": 2012
         },
         {
          "Date2": "2012-10-07 06:00:00",
          "DateString": "10/07/2012 06:00:00 AM",
          "East": 8,
          "Hour": 6,
          "JulianDay": 4,
          "WeekDay": 6,
          "West": 9,
          "Year": 2012
         },
         {
          "Date2": "2012-10-07 07:00:00",
          "DateString": "10/07/2012 07:00:00 AM",
          "East": 12,
          "Hour": 7,
          "JulianDay": 4,
          "WeekDay": 6,
          "West": 14,
          "Year": 2012
         },
         {
          "Date2": "2012-10-07 08:00:00",
          "DateString": "10/07/2012 08:00:00 AM",
          "East": 26,
          "Hour": 8,
          "JulianDay": 4,
          "WeekDay": 6,
          "West": 43,
          "Year": 2012
         },
         {
          "Date2": "2012-10-07 09:00:00",
          "DateString": "10/07/2012 09:00:00 AM",
          "East": 36,
          "Hour": 9,
          "JulianDay": 4,
          "WeekDay": 6,
          "West": 67,
          "Year": 2012
         },
         {
          "Date2": "2012-10-07 10:00:00",
          "DateString": "10/07/2012 10:00:00 AM",
          "East": 41,
          "Hour": 10,
          "JulianDay": 4,
          "WeekDay": 6,
          "West": 67,
          "Year": 2012
         },
         {
          "Date2": "2012-10-07 11:00:00",
          "DateString": "10/07/2012 11:00:00 AM",
          "East": 71,
          "Hour": 11,
          "JulianDay": 4,
          "WeekDay": 6,
          "West": 94,
          "Year": 2012
         },
         {
          "Date2": "2012-10-07 12:00:00",
          "DateString": "10/07/2012 12:00:00 PM",
          "East": 91,
          "Hour": 12,
          "JulianDay": 4,
          "WeekDay": 6,
          "West": 100,
          "Year": 2012
         },
         {
          "Date2": "2012-10-07 13:00:00",
          "DateString": "10/07/2012 01:00:00 PM",
          "East": 99,
          "Hour": 13,
          "JulianDay": 4,
          "WeekDay": 6,
          "West": 129,
          "Year": 2012
         },
         {
          "Date2": "2012-10-07 14:00:00",
          "DateString": "10/07/2012 02:00:00 PM",
          "East": 115,
          "Hour": 14,
          "JulianDay": 4,
          "WeekDay": 6,
          "West": 126,
          "Year": 2012
         },
         {
          "Date2": "2012-10-07 15:00:00",
          "DateString": "10/07/2012 03:00:00 PM",
          "East": 109,
          "Hour": 15,
          "JulianDay": 4,
          "WeekDay": 6,
          "West": 122,
          "Year": 2012
         },
         {
          "Date2": "2012-10-07 16:00:00",
          "DateString": "10/07/2012 04:00:00 PM",
          "East": 93,
          "Hour": 16,
          "JulianDay": 4,
          "WeekDay": 6,
          "West": 132,
          "Year": 2012
         },
         {
          "Date2": "2012-10-07 17:00:00",
          "DateString": "10/07/2012 05:00:00 PM",
          "East": 73,
          "Hour": 17,
          "JulianDay": 4,
          "WeekDay": 6,
          "West": 118,
          "Year": 2012
         },
         {
          "Date2": "2012-10-07 18:00:00",
          "DateString": "10/07/2012 06:00:00 PM",
          "East": 45,
          "Hour": 18,
          "JulianDay": 4,
          "WeekDay": 6,
          "West": 68,
          "Year": 2012
         },
         {
          "Date2": "2012-10-07 19:00:00",
          "DateString": "10/07/2012 07:00:00 PM",
          "East": 23,
          "Hour": 19,
          "JulianDay": 4,
          "WeekDay": 6,
          "West": 26,
          "Year": 2012
         },
         {
          "Date2": "2012-10-07 20:00:00",
          "DateString": "10/07/2012 08:00:00 PM",
          "East": 36,
          "Hour": 20,
          "JulianDay": 4,
          "WeekDay": 6,
          "West": 19,
          "Year": 2012
         },
         {
          "Date2": "2012-10-07 21:00:00",
          "DateString": "10/07/2012 09:00:00 PM",
          "East": 35,
          "Hour": 21,
          "JulianDay": 4,
          "WeekDay": 6,
          "West": 12,
          "Year": 2012
         },
         {
          "Date2": "2012-10-07 22:00:00",
          "DateString": "10/07/2012 10:00:00 PM",
          "East": 9,
          "Hour": 22,
          "JulianDay": 4,
          "WeekDay": 6,
          "West": 9,
          "Year": 2012
         },
         {
          "Date2": "2012-10-07 23:00:00",
          "DateString": "10/07/2012 11:00:00 PM",
          "East": 11,
          "Hour": 23,
          "JulianDay": 4,
          "WeekDay": 6,
          "West": 5,
          "Year": 2012
         },
         {
          "Date2": "2012-10-08 00:00:00",
          "DateString": "10/08/2012 12:00:00 AM",
          "East": 5,
          "Hour": 0,
          "JulianDay": 5,
          "WeekDay": 0,
          "West": 4,
          "Year": 2012
         },
         {
          "Date2": "2012-10-08 01:00:00",
          "DateString": "10/08/2012 01:00:00 AM",
          "East": 2,
          "Hour": 1,
          "JulianDay": 5,
          "WeekDay": 0,
          "West": 2,
          "Year": 2012
         },
         {
          "Date2": "2012-10-08 02:00:00",
          "DateString": "10/08/2012 02:00:00 AM",
          "East": 0,
          "Hour": 2,
          "JulianDay": 5,
          "WeekDay": 0,
          "West": 5,
          "Year": 2012
         },
         {
          "Date2": "2012-10-08 03:00:00",
          "DateString": "10/08/2012 03:00:00 AM",
          "East": 4,
          "Hour": 3,
          "JulianDay": 5,
          "WeekDay": 0,
          "West": 1,
          "Year": 2012
         },
         {
          "Date2": "2012-10-08 04:00:00",
          "DateString": "10/08/2012 04:00:00 AM",
          "East": 2,
          "Hour": 4,
          "JulianDay": 5,
          "WeekDay": 0,
          "West": 3,
          "Year": 2012
         },
         {
          "Date2": "2012-10-08 05:00:00",
          "DateString": "10/08/2012 05:00:00 AM",
          "East": 7,
          "Hour": 5,
          "JulianDay": 5,
          "WeekDay": 0,
          "West": 16,
          "Year": 2012
         },
         {
          "Date2": "2012-10-08 06:00:00",
          "DateString": "10/08/2012 06:00:00 AM",
          "East": 48,
          "Hour": 6,
          "JulianDay": 5,
          "WeekDay": 0,
          "West": 89,
          "Year": 2012
         },
         {
          "Date2": "2012-10-08 07:00:00",
          "DateString": "10/08/2012 07:00:00 AM",
          "East": 94,
          "Hour": 7,
          "JulianDay": 5,
          "WeekDay": 0,
          "West": 233,
          "Year": 2012
         },
         {
          "Date2": "2012-10-08 08:00:00",
          "DateString": "10/08/2012 08:00:00 AM",
          "East": 153,
          "Hour": 8,
          "JulianDay": 5,
          "WeekDay": 0,
          "West": 304,
          "Year": 2012
         },
         {
          "Date2": "2012-10-08 09:00:00",
          "DateString": "10/08/2012 09:00:00 AM",
          "East": 104,
          "Hour": 9,
          "JulianDay": 5,
          "WeekDay": 0,
          "West": 174,
          "Year": 2012
         },
         {
          "Date2": "2012-10-08 10:00:00",
          "DateString": "10/08/2012 10:00:00 AM",
          "East": 44,
          "Hour": 10,
          "JulianDay": 5,
          "WeekDay": 0,
          "West": 53,
          "Year": 2012
         },
         {
          "Date2": "2012-10-08 11:00:00",
          "DateString": "10/08/2012 11:00:00 AM",
          "East": 44,
          "Hour": 11,
          "JulianDay": 5,
          "WeekDay": 0,
          "West": 55,
          "Year": 2012
         },
         {
          "Date2": "2012-10-08 12:00:00",
          "DateString": "10/08/2012 12:00:00 PM",
          "East": 55,
          "Hour": 12,
          "JulianDay": 5,
          "WeekDay": 0,
          "West": 53,
          "Year": 2012
         },
         {
          "Date2": "2012-10-08 13:00:00",
          "DateString": "10/08/2012 01:00:00 PM",
          "East": 44,
          "Hour": 13,
          "JulianDay": 5,
          "WeekDay": 0,
          "West": 52,
          "Year": 2012
         },
         {
          "Date2": "2012-10-08 14:00:00",
          "DateString": "10/08/2012 02:00:00 PM",
          "East": 62,
          "Hour": 14,
          "JulianDay": 5,
          "WeekDay": 0,
          "West": 59,
          "Year": 2012
         },
         {
          "Date2": "2012-10-08 15:00:00",
          "DateString": "10/08/2012 03:00:00 PM",
          "East": 75,
          "Hour": 15,
          "JulianDay": 5,
          "WeekDay": 0,
          "West": 92,
          "Year": 2012
         },
         {
          "Date2": "2012-10-08 16:00:00",
          "DateString": "10/08/2012 04:00:00 PM",
          "East": 135,
          "Hour": 16,
          "JulianDay": 5,
          "WeekDay": 0,
          "West": 117,
          "Year": 2012
         },
         {
          "Date2": "2012-10-08 17:00:00",
          "DateString": "10/08/2012 05:00:00 PM",
          "East": 390,
          "Hour": 17,
          "JulianDay": 5,
          "WeekDay": 0,
          "West": 214,
          "Year": 2012
         },
         {
          "Date2": "2012-10-08 18:00:00",
          "DateString": "10/08/2012 06:00:00 PM",
          "East": 226,
          "Hour": 18,
          "JulianDay": 5,
          "WeekDay": 0,
          "West": 139,
          "Year": 2012
         },
         {
          "Date2": "2012-10-08 19:00:00",
          "DateString": "10/08/2012 07:00:00 PM",
          "East": 95,
          "Hour": 19,
          "JulianDay": 5,
          "WeekDay": 0,
          "West": 73,
          "Year": 2012
         },
         {
          "Date2": "2012-10-08 20:00:00",
          "DateString": "10/08/2012 08:00:00 PM",
          "East": 57,
          "Hour": 20,
          "JulianDay": 5,
          "WeekDay": 0,
          "West": 37,
          "Year": 2012
         },
         {
          "Date2": "2012-10-08 21:00:00",
          "DateString": "10/08/2012 09:00:00 PM",
          "East": 35,
          "Hour": 21,
          "JulianDay": 5,
          "WeekDay": 0,
          "West": 28,
          "Year": 2012
         },
         {
          "Date2": "2012-10-08 22:00:00",
          "DateString": "10/08/2012 10:00:00 PM",
          "East": 14,
          "Hour": 22,
          "JulianDay": 5,
          "WeekDay": 0,
          "West": 15,
          "Year": 2012
         },
         {
          "Date2": "2012-10-08 23:00:00",
          "DateString": "10/08/2012 11:00:00 PM",
          "East": 13,
          "Hour": 23,
          "JulianDay": 5,
          "WeekDay": 0,
          "West": 11,
          "Year": 2012
         },
         {
          "Date2": "2012-10-09 00:00:00",
          "DateString": "10/09/2012 12:00:00 AM",
          "East": 4,
          "Hour": 0,
          "JulianDay": 6,
          "WeekDay": 1,
          "West": 8,
          "Year": 2012
         },
         {
          "Date2": "2012-10-09 01:00:00",
          "DateString": "10/09/2012 01:00:00 AM",
          "East": 2,
          "Hour": 1,
          "JulianDay": 6,
          "WeekDay": 1,
          "West": 1,
          "Year": 2012
         },
         {
          "Date2": "2012-10-09 02:00:00",
          "DateString": "10/09/2012 02:00:00 AM",
          "East": 2,
          "Hour": 2,
          "JulianDay": 6,
          "WeekDay": 1,
          "West": 2,
          "Year": 2012
         },
         {
          "Date2": "2012-10-09 03:00:00",
          "DateString": "10/09/2012 03:00:00 AM",
          "East": 3,
          "Hour": 3,
          "JulianDay": 6,
          "WeekDay": 1,
          "West": 5,
          "Year": 2012
         },
         {
          "Date2": "2012-10-09 04:00:00",
          "DateString": "10/09/2012 04:00:00 AM",
          "East": 5,
          "Hour": 4,
          "JulianDay": 6,
          "WeekDay": 1,
          "West": 4,
          "Year": 2012
         },
         {
          "Date2": "2012-10-09 05:00:00",
          "DateString": "10/09/2012 05:00:00 AM",
          "East": 9,
          "Hour": 5,
          "JulianDay": 6,
          "WeekDay": 1,
          "West": 22,
          "Year": 2012
         },
         {
          "Date2": "2012-10-09 06:00:00",
          "DateString": "10/09/2012 06:00:00 AM",
          "East": 50,
          "Hour": 6,
          "JulianDay": 6,
          "WeekDay": 1,
          "West": 103,
          "Year": 2012
         },
         {
          "Date2": "2012-10-09 07:00:00",
          "DateString": "10/09/2012 07:00:00 AM",
          "East": 110,
          "Hour": 7,
          "JulianDay": 6,
          "WeekDay": 1,
          "West": 258,
          "Year": 2012
         },
         {
          "Date2": "2012-10-09 08:00:00",
          "DateString": "10/09/2012 08:00:00 AM",
          "East": 145,
          "Hour": 8,
          "JulianDay": 6,
          "WeekDay": 1,
          "West": 317,
          "Year": 2012
         },
         {
          "Date2": "2012-10-09 09:00:00",
          "DateString": "10/09/2012 09:00:00 AM",
          "East": 112,
          "Hour": 9,
          "JulianDay": 6,
          "WeekDay": 1,
          "West": 163,
          "Year": 2012
         },
         {
          "Date2": "2012-10-09 10:00:00",
          "DateString": "10/09/2012 10:00:00 AM",
          "East": 36,
          "Hour": 10,
          "JulianDay": 6,
          "WeekDay": 1,
          "West": 58,
          "Year": 2012
         },
         {
          "Date2": "2012-10-09 11:00:00",
          "DateString": "10/09/2012 11:00:00 AM",
          "East": 45,
          "Hour": 11,
          "JulianDay": 6,
          "WeekDay": 1,
          "West": 29,
          "Year": 2012
         },
         {
          "Date2": "2012-10-09 12:00:00",
          "DateString": "10/09/2012 12:00:00 PM",
          "East": 40,
          "Hour": 12,
          "JulianDay": 6,
          "WeekDay": 1,
          "West": 37,
          "Year": 2012
         },
         {
          "Date2": "2012-10-09 13:00:00",
          "DateString": "10/09/2012 01:00:00 PM",
          "East": 37,
          "Hour": 13,
          "JulianDay": 6,
          "WeekDay": 1,
          "West": 46,
          "Year": 2012
         },
         {
          "Date2": "2012-10-09 14:00:00",
          "DateString": "10/09/2012 02:00:00 PM",
          "East": 54,
          "Hour": 14,
          "JulianDay": 6,
          "WeekDay": 1,
          "West": 54,
          "Year": 2012
         },
         {
          "Date2": "2012-10-09 15:00:00",
          "DateString": "10/09/2012 03:00:00 PM",
          "East": 72,
          "Hour": 15,
          "JulianDay": 6,
          "WeekDay": 1,
          "West": 62,
          "Year": 2012
         },
         {
          "Date2": "2012-10-09 16:00:00",
          "DateString": "10/09/2012 04:00:00 PM",
          "East": 149,
          "Hour": 16,
          "JulianDay": 6,
          "WeekDay": 1,
          "West": 95,
          "Year": 2012
         },
         {
          "Date2": "2012-10-09 17:00:00",
          "DateString": "10/09/2012 05:00:00 PM",
          "East": 400,
          "Hour": 17,
          "JulianDay": 6,
          "WeekDay": 1,
          "West": 197,
          "Year": 2012
         },
         {
          "Date2": "2012-10-09 18:00:00",
          "DateString": "10/09/2012 06:00:00 PM",
          "East": 244,
          "Hour": 18,
          "JulianDay": 6,
          "WeekDay": 1,
          "West": 152,
          "Year": 2012
         },
         {
          "Date2": "2012-10-09 19:00:00",
          "DateString": "10/09/2012 07:00:00 PM",
          "East": 105,
          "Hour": 19,
          "JulianDay": 6,
          "WeekDay": 1,
          "West": 58,
          "Year": 2012
         },
         {
          "Date2": "2012-10-09 20:00:00",
          "DateString": "10/09/2012 08:00:00 PM",
          "East": 53,
          "Hour": 20,
          "JulianDay": 6,
          "WeekDay": 1,
          "West": 32,
          "Year": 2012
         },
         {
          "Date2": "2012-10-09 21:00:00",
          "DateString": "10/09/2012 09:00:00 PM",
          "East": 34,
          "Hour": 21,
          "JulianDay": 6,
          "WeekDay": 1,
          "West": 30,
          "Year": 2012
         },
         {
          "Date2": "2012-10-09 22:00:00",
          "DateString": "10/09/2012 10:00:00 PM",
          "East": 17,
          "Hour": 22,
          "JulianDay": 6,
          "WeekDay": 1,
          "West": 17,
          "Year": 2012
         },
         {
          "Date2": "2012-10-09 23:00:00",
          "DateString": "10/09/2012 11:00:00 PM",
          "East": 14,
          "Hour": 23,
          "JulianDay": 6,
          "WeekDay": 1,
          "West": 9,
          "Year": 2012
         },
         {
          "Date2": "2012-10-10 00:00:00",
          "DateString": "10/10/2012 12:00:00 AM",
          "East": 7,
          "Hour": 0,
          "JulianDay": 7,
          "WeekDay": 2,
          "West": 8,
          "Year": 2012
         },
         {
          "Date2": "2012-10-10 01:00:00",
          "DateString": "10/10/2012 01:00:00 AM",
          "East": 2,
          "Hour": 1,
          "JulianDay": 7,
          "WeekDay": 2,
          "West": 1,
          "Year": 2012
         },
         {
          "Date2": "2012-10-10 02:00:00",
          "DateString": "10/10/2012 02:00:00 AM",
          "East": 0,
          "Hour": 2,
          "JulianDay": 7,
          "WeekDay": 2,
          "West": 3,
          "Year": 2012
         },
         {
          "Date2": "2012-10-10 03:00:00",
          "DateString": "10/10/2012 03:00:00 AM",
          "East": 3,
          "Hour": 3,
          "JulianDay": 7,
          "WeekDay": 2,
          "West": 1,
          "Year": 2012
         },
         {
          "Date2": "2012-10-10 04:00:00",
          "DateString": "10/10/2012 04:00:00 AM",
          "East": 2,
          "Hour": 4,
          "JulianDay": 7,
          "WeekDay": 2,
          "West": 3,
          "Year": 2012
         },
         {
          "Date2": "2012-10-10 05:00:00",
          "DateString": "10/10/2012 05:00:00 AM",
          "East": 9,
          "Hour": 5,
          "JulianDay": 7,
          "WeekDay": 2,
          "West": 16,
          "Year": 2012
         },
         {
          "Date2": "2012-10-10 06:00:00",
          "DateString": "10/10/2012 06:00:00 AM",
          "East": 40,
          "Hour": 6,
          "JulianDay": 7,
          "WeekDay": 2,
          "West": 109,
          "Year": 2012
         },
         {
          "Date2": "2012-10-10 07:00:00",
          "DateString": "10/10/2012 07:00:00 AM",
          "East": 95,
          "Hour": 7,
          "JulianDay": 7,
          "WeekDay": 2,
          "West": 245,
          "Year": 2012
         },
         {
          "Date2": "2012-10-10 08:00:00",
          "DateString": "10/10/2012 08:00:00 AM",
          "East": 133,
          "Hour": 8,
          "JulianDay": 7,
          "WeekDay": 2,
          "West": 302,
          "Year": 2012
         },
         {
          "Date2": "2012-10-10 09:00:00",
          "DateString": "10/10/2012 09:00:00 AM",
          "East": 99,
          "Hour": 9,
          "JulianDay": 7,
          "WeekDay": 2,
          "West": 156,
          "Year": 2012
         },
         {
          "Date2": "2012-10-10 10:00:00",
          "DateString": "10/10/2012 10:00:00 AM",
          "East": 44,
          "Hour": 10,
          "JulianDay": 7,
          "WeekDay": 2,
          "West": 53,
          "Year": 2012
         },
         {
          "Date2": "2012-10-10 11:00:00",
          "DateString": "10/10/2012 11:00:00 AM",
          "East": 21,
          "Hour": 11,
          "JulianDay": 7,
          "WeekDay": 2,
          "West": 34,
          "Year": 2012
         },
         {
          "Date2": "2012-10-10 12:00:00",
          "DateString": "10/10/2012 12:00:00 PM",
          "East": 40,
          "Hour": 12,
          "JulianDay": 7,
          "WeekDay": 2,
          "West": 47,
          "Year": 2012
         },
         {
          "Date2": "2012-10-10 13:00:00",
          "DateString": "10/10/2012 01:00:00 PM",
          "East": 48,
          "Hour": 13,
          "JulianDay": 7,
          "WeekDay": 2,
          "West": 46,
          "Year": 2012
         },
         {
          "Date2": "2012-10-10 14:00:00",
          "DateString": "10/10/2012 02:00:00 PM",
          "East": 39,
          "Hour": 14,
          "JulianDay": 7,
          "WeekDay": 2,
          "West": 54,
          "Year": 2012
         },
         {
          "Date2": "2012-10-10 15:00:00",
          "DateString": "10/10/2012 03:00:00 PM",
          "East": 65,
          "Hour": 15,
          "JulianDay": 7,
          "WeekDay": 2,
          "West": 65,
          "Year": 2012
         },
         {
          "Date2": "2012-10-10 16:00:00",
          "DateString": "10/10/2012 04:00:00 PM",
          "East": 128,
          "Hour": 16,
          "JulianDay": 7,
          "WeekDay": 2,
          "West": 102,
          "Year": 2012
         },
         {
          "Date2": "2012-10-10 17:00:00",
          "DateString": "10/10/2012 05:00:00 PM",
          "East": 377,
          "Hour": 17,
          "JulianDay": 7,
          "WeekDay": 2,
          "West": 155,
          "Year": 2012
         },
         {
          "Date2": "2012-10-10 18:00:00",
          "DateString": "10/10/2012 06:00:00 PM",
          "East": 215,
          "Hour": 18,
          "JulianDay": 7,
          "WeekDay": 2,
          "West": 116,
          "Year": 2012
         },
         {
          "Date2": "2012-10-10 19:00:00",
          "DateString": "10/10/2012 07:00:00 PM",
          "East": 94,
          "Hour": 19,
          "JulianDay": 7,
          "WeekDay": 2,
          "West": 51,
          "Year": 2012
         },
         {
          "Date2": "2012-10-10 20:00:00",
          "DateString": "10/10/2012 08:00:00 PM",
          "East": 56,
          "Hour": 20,
          "JulianDay": 7,
          "WeekDay": 2,
          "West": 30,
          "Year": 2012
         },
         {
          "Date2": "2012-10-10 21:00:00",
          "DateString": "10/10/2012 09:00:00 PM",
          "East": 38,
          "Hour": 21,
          "JulianDay": 7,
          "WeekDay": 2,
          "West": 24,
          "Year": 2012
         },
         {
          "Date2": "2012-10-10 22:00:00",
          "DateString": "10/10/2012 10:00:00 PM",
          "East": 19,
          "Hour": 22,
          "JulianDay": 7,
          "WeekDay": 2,
          "West": 17,
          "Year": 2012
         },
         {
          "Date2": "2012-10-10 23:00:00",
          "DateString": "10/10/2012 11:00:00 PM",
          "East": 13,
          "Hour": 23,
          "JulianDay": 7,
          "WeekDay": 2,
          "West": 10,
          "Year": 2012
         },
         {
          "Date2": "2012-10-11 00:00:00",
          "DateString": "10/11/2012 12:00:00 AM",
          "East": 14,
          "Hour": 0,
          "JulianDay": 8,
          "WeekDay": 3,
          "West": 7,
          "Year": 2012
         },
         {
          "Date2": "2012-10-11 01:00:00",
          "DateString": "10/11/2012 01:00:00 AM",
          "East": 6,
          "Hour": 1,
          "JulianDay": 8,
          "WeekDay": 3,
          "West": 4,
          "Year": 2012
         },
         {
          "Date2": "2012-10-11 02:00:00",
          "DateString": "10/11/2012 02:00:00 AM",
          "East": 5,
          "Hour": 2,
          "JulianDay": 8,
          "WeekDay": 3,
          "West": 8,
          "Year": 2012
         },
         {
          "Date2": "2012-10-11 03:00:00",
          "DateString": "10/11/2012 03:00:00 AM",
          "East": 2,
          "Hour": 3,
          "JulianDay": 8,
          "WeekDay": 3,
          "West": 0,
          "Year": 2012
         },
         {
          "Date2": "2012-10-11 04:00:00",
          "DateString": "10/11/2012 04:00:00 AM",
          "East": 1,
          "Hour": 4,
          "JulianDay": 8,
          "WeekDay": 3,
          "West": 11,
          "Year": 2012
         },
         {
          "Date2": "2012-10-11 05:00:00",
          "DateString": "10/11/2012 05:00:00 AM",
          "East": 12,
          "Hour": 5,
          "JulianDay": 8,
          "WeekDay": 3,
          "West": 0,
          "Year": 2012
         },
         {
          "Date2": "2012-10-11 06:00:00",
          "DateString": "10/11/2012 06:00:00 AM",
          "East": 41,
          "Hour": 6,
          "JulianDay": 8,
          "WeekDay": 3,
          "West": 2,
          "Year": 2012
         },
         {
          "Date2": "2012-10-11 07:00:00",
          "DateString": "10/11/2012 07:00:00 AM",
          "East": 79,
          "Hour": 7,
          "JulianDay": 8,
          "WeekDay": 3,
          "West": 225,
          "Year": 2012
         },
         {
          "Date2": "2012-10-11 08:00:00",
          "DateString": "10/11/2012 08:00:00 AM",
          "East": 122,
          "Hour": 8,
          "JulianDay": 8,
          "WeekDay": 3,
          "West": 282,
          "Year": 2012
         },
         {
          "Date2": "2012-10-11 09:00:00",
          "DateString": "10/11/2012 09:00:00 AM",
          "East": 48,
          "Hour": 9,
          "JulianDay": 8,
          "WeekDay": 3,
          "West": 141,
          "Year": 2012
         },
         {
          "Date2": "2012-10-11 10:00:00",
          "DateString": "10/11/2012 10:00:00 AM",
          "East": 0,
          "Hour": 10,
          "JulianDay": 8,
          "WeekDay": 3,
          "West": 4,
          "Year": 2012
         },
         {
          "Date2": "2012-10-11 11:00:00",
          "DateString": "10/11/2012 11:00:00 AM",
          "East": 5,
          "Hour": 11,
          "JulianDay": 8,
          "WeekDay": 3,
          "West": 87,
          "Year": 2012
         },
         {
          "Date2": "2012-10-11 12:00:00",
          "DateString": "10/11/2012 12:00:00 PM",
          "East": 37,
          "Hour": 12,
          "JulianDay": 8,
          "WeekDay": 3,
          "West": 44,
          "Year": 2012
         },
         {
          "Date2": "2012-10-11 13:00:00",
          "DateString": "10/11/2012 01:00:00 PM",
          "East": 58,
          "Hour": 13,
          "JulianDay": 8,
          "WeekDay": 3,
          "West": 60,
          "Year": 2012
         },
         {
          "Date2": "2012-10-11 14:00:00",
          "DateString": "10/11/2012 02:00:00 PM",
          "East": 56,
          "Hour": 14,
          "JulianDay": 8,
          "WeekDay": 3,
          "West": 52,
          "Year": 2012
         },
         {
          "Date2": "2012-10-11 15:00:00",
          "DateString": "10/11/2012 03:00:00 PM",
          "East": 69,
          "Hour": 15,
          "JulianDay": 8,
          "WeekDay": 3,
          "West": 74,
          "Year": 2012
         },
         {
          "Date2": "2012-10-11 16:00:00",
          "DateString": "10/11/2012 04:00:00 PM",
          "East": 135,
          "Hour": 16,
          "JulianDay": 8,
          "WeekDay": 3,
          "West": 135,
          "Year": 2012
         },
         {
          "Date2": "2012-10-11 17:00:00",
          "DateString": "10/11/2012 05:00:00 PM",
          "East": 360,
          "Hour": 17,
          "JulianDay": 8,
          "WeekDay": 3,
          "West": 157,
          "Year": 2012
         },
         {
          "Date2": "2012-10-11 18:00:00",
          "DateString": "10/11/2012 06:00:00 PM",
          "East": 186,
          "Hour": 18,
          "JulianDay": 8,
          "WeekDay": 3,
          "West": 113,
          "Year": 2012
         },
         {
          "Date2": "2012-10-11 19:00:00",
          "DateString": "10/11/2012 07:00:00 PM",
          "East": 92,
          "Hour": 19,
          "JulianDay": 8,
          "WeekDay": 3,
          "West": 57,
          "Year": 2012
         },
         {
          "Date2": "2012-10-11 20:00:00",
          "DateString": "10/11/2012 08:00:00 PM",
          "East": 60,
          "Hour": 20,
          "JulianDay": 8,
          "WeekDay": 3,
          "West": 44,
          "Year": 2012
         },
         {
          "Date2": "2012-10-11 21:00:00",
          "DateString": "10/11/2012 09:00:00 PM",
          "East": 45,
          "Hour": 21,
          "JulianDay": 8,
          "WeekDay": 3,
          "West": 26,
          "Year": 2012
         },
         {
          "Date2": "2012-10-11 22:00:00",
          "DateString": "10/11/2012 10:00:00 PM",
          "East": 19,
          "Hour": 22,
          "JulianDay": 8,
          "WeekDay": 3,
          "West": 29,
          "Year": 2012
         },
         {
          "Date2": "2012-10-11 23:00:00",
          "DateString": "10/11/2012 11:00:00 PM",
          "East": 16,
          "Hour": 23,
          "JulianDay": 8,
          "WeekDay": 3,
          "West": 17,
          "Year": 2012
         },
         {
          "Date2": "2012-10-12 00:00:00",
          "DateString": "10/12/2012 12:00:00 AM",
          "East": 9,
          "Hour": 0,
          "JulianDay": 9,
          "WeekDay": 4,
          "West": 8,
          "Year": 2012
         },
         {
          "Date2": "2012-10-12 01:00:00",
          "DateString": "10/12/2012 01:00:00 AM",
          "East": 6,
          "Hour": 1,
          "JulianDay": 9,
          "WeekDay": 4,
          "West": 7,
          "Year": 2012
         },
         {
          "Date2": "2012-10-12 02:00:00",
          "DateString": "10/12/2012 02:00:00 AM",
          "East": 1,
          "Hour": 2,
          "JulianDay": 9,
          "WeekDay": 4,
          "West": 4,
          "Year": 2012
         },
         {
          "Date2": "2012-10-12 03:00:00",
          "DateString": "10/12/2012 03:00:00 AM",
          "East": 3,
          "Hour": 3,
          "JulianDay": 9,
          "WeekDay": 4,
          "West": 4,
          "Year": 2012
         },
         {
          "Date2": "2012-10-12 04:00:00",
          "DateString": "10/12/2012 04:00:00 AM",
          "East": 3,
          "Hour": 4,
          "JulianDay": 9,
          "WeekDay": 4,
          "West": 2,
          "Year": 2012
         },
         {
          "Date2": "2012-10-12 05:00:00",
          "DateString": "10/12/2012 05:00:00 AM",
          "East": 4,
          "Hour": 5,
          "JulianDay": 9,
          "WeekDay": 4,
          "West": 10,
          "Year": 2012
         },
         {
          "Date2": "2012-10-12 06:00:00",
          "DateString": "10/12/2012 06:00:00 AM",
          "East": 30,
          "Hour": 6,
          "JulianDay": 9,
          "WeekDay": 4,
          "West": 57,
          "Year": 2012
         },
         {
          "Date2": "2012-10-12 07:00:00",
          "DateString": "10/12/2012 07:00:00 AM",
          "East": 58,
          "Hour": 7,
          "JulianDay": 9,
          "WeekDay": 4,
          "West": 125,
          "Year": 2012
         },
         {
          "Date2": "2012-10-12 08:00:00",
          "DateString": "10/12/2012 08:00:00 AM",
          "East": 86,
          "Hour": 8,
          "JulianDay": 9,
          "WeekDay": 4,
          "West": 182,
          "Year": 2012
         },
         {
          "Date2": "2012-10-12 09:00:00",
          "DateString": "10/12/2012 09:00:00 AM",
          "East": 45,
          "Hour": 9,
          "JulianDay": 9,
          "WeekDay": 4,
          "West": 100,
          "Year": 2012
         },
         {
          "Date2": "2012-10-12 10:00:00",
          "DateString": "10/12/2012 10:00:00 AM",
          "East": 29,
          "Hour": 10,
          "JulianDay": 9,
          "WeekDay": 4,
          "West": 33,
          "Year": 2012
         },
         {
          "Date2": "2012-10-12 11:00:00",
          "DateString": "10/12/2012 11:00:00 AM",
          "East": 31,
          "Hour": 11,
          "JulianDay": 9,
          "WeekDay": 4,
          "West": 27,
          "Year": 2012
         },
         {
          "Date2": "2012-10-12 12:00:00",
          "DateString": "10/12/2012 12:00:00 PM",
          "East": 28,
          "Hour": 12,
          "JulianDay": 9,
          "WeekDay": 4,
          "West": 41,
          "Year": 2012
         },
         {
          "Date2": "2012-10-12 13:00:00",
          "DateString": "10/12/2012 01:00:00 PM",
          "East": 33,
          "Hour": 13,
          "JulianDay": 9,
          "WeekDay": 4,
          "West": 39,
          "Year": 2012
         },
         {
          "Date2": "2012-10-12 14:00:00",
          "DateString": "10/12/2012 02:00:00 PM",
          "East": 30,
          "Hour": 14,
          "JulianDay": 9,
          "WeekDay": 4,
          "West": 35,
          "Year": 2012
         },
         {
          "Date2": "2012-10-12 15:00:00",
          "DateString": "10/12/2012 03:00:00 PM",
          "East": 63,
          "Hour": 15,
          "JulianDay": 9,
          "WeekDay": 4,
          "West": 50,
          "Year": 2012
         },
         {
          "Date2": "2012-10-12 16:00:00",
          "DateString": "10/12/2012 04:00:00 PM",
          "East": 96,
          "Hour": 16,
          "JulianDay": 9,
          "WeekDay": 4,
          "West": 69,
          "Year": 2012
         },
         {
          "Date2": "2012-10-12 17:00:00",
          "DateString": "10/12/2012 05:00:00 PM",
          "East": 212,
          "Hour": 17,
          "JulianDay": 9,
          "WeekDay": 4,
          "West": 92,
          "Year": 2012
         },
         {
          "Date2": "2012-10-12 18:00:00",
          "DateString": "10/12/2012 06:00:00 PM",
          "East": 112,
          "Hour": 18,
          "JulianDay": 9,
          "WeekDay": 4,
          "West": 66,
          "Year": 2012
         },
         {
          "Date2": "2012-10-12 19:00:00",
          "DateString": "10/12/2012 07:00:00 PM",
          "East": 49,
          "Hour": 19,
          "JulianDay": 9,
          "WeekDay": 4,
          "West": 30,
          "Year": 2012
         },
         {
          "Date2": "2012-10-12 20:00:00",
          "DateString": "10/12/2012 08:00:00 PM",
          "East": 27,
          "Hour": 20,
          "JulianDay": 9,
          "WeekDay": 4,
          "West": 11,
          "Year": 2012
         },
         {
          "Date2": "2012-10-12 21:00:00",
          "DateString": "10/12/2012 09:00:00 PM",
          "East": 16,
          "Hour": 21,
          "JulianDay": 9,
          "WeekDay": 4,
          "West": 10,
          "Year": 2012
         },
         {
          "Date2": "2012-10-12 22:00:00",
          "DateString": "10/12/2012 10:00:00 PM",
          "East": 3,
          "Hour": 22,
          "JulianDay": 9,
          "WeekDay": 4,
          "West": 11,
          "Year": 2012
         },
         {
          "Date2": "2012-10-12 23:00:00",
          "DateString": "10/12/2012 11:00:00 PM",
          "East": 15,
          "Hour": 23,
          "JulianDay": 9,
          "WeekDay": 4,
          "West": 9,
          "Year": 2012
         },
         {
          "Date2": "2012-10-13 00:00:00",
          "DateString": "10/13/2012 12:00:00 AM",
          "East": 12,
          "Hour": 0,
          "JulianDay": 10,
          "WeekDay": 5,
          "West": 6,
          "Year": 2012
         },
         {
          "Date2": "2012-10-13 01:00:00",
          "DateString": "10/13/2012 01:00:00 AM",
          "East": 6,
          "Hour": 1,
          "JulianDay": 10,
          "WeekDay": 5,
          "West": 5,
          "Year": 2012
         },
         {
          "Date2": "2012-10-13 02:00:00",
          "DateString": "10/13/2012 02:00:00 AM",
          "East": 6,
          "Hour": 2,
          "JulianDay": 10,
          "WeekDay": 5,
          "West": 10,
          "Year": 2012
         },
         {
          "Date2": "2012-10-13 03:00:00",
          "DateString": "10/13/2012 03:00:00 AM",
          "East": 0,
          "Hour": 3,
          "JulianDay": 10,
          "WeekDay": 5,
          "West": 4,
          "Year": 2012
         },
         {
          "Date2": "2012-10-13 04:00:00",
          "DateString": "10/13/2012 04:00:00 AM",
          "East": 2,
          "Hour": 4,
          "JulianDay": 10,
          "WeekDay": 5,
          "West": 1,
          "Year": 2012
         },
         {
          "Date2": "2012-10-13 05:00:00",
          "DateString": "10/13/2012 05:00:00 AM",
          "East": 3,
          "Hour": 5,
          "JulianDay": 10,
          "WeekDay": 5,
          "West": 7,
          "Year": 2012
         },
         {
          "Date2": "2012-10-13 06:00:00",
          "DateString": "10/13/2012 06:00:00 AM",
          "East": 5,
          "Hour": 6,
          "JulianDay": 10,
          "WeekDay": 5,
          "West": 9,
          "Year": 2012
         },
         {
          "Date2": "2012-10-13 07:00:00",
          "DateString": "10/13/2012 07:00:00 AM",
          "East": 13,
          "Hour": 7,
          "JulianDay": 10,
          "WeekDay": 5,
          "West": 17,
          "Year": 2012
         },
         {
          "Date2": "2012-10-13 08:00:00",
          "DateString": "10/13/2012 08:00:00 AM",
          "East": 8,
          "Hour": 8,
          "JulianDay": 10,
          "WeekDay": 5,
          "West": 24,
          "Year": 2012
         },
         {
          "Date2": "2012-10-13 09:00:00",
          "DateString": "10/13/2012 09:00:00 AM",
          "East": 20,
          "Hour": 9,
          "JulianDay": 10,
          "WeekDay": 5,
          "West": 21,
          "Year": 2012
         },
         {
          "Date2": "2012-10-13 10:00:00",
          "DateString": "10/13/2012 10:00:00 AM",
          "East": 17,
          "Hour": 10,
          "JulianDay": 10,
          "WeekDay": 5,
          "West": 29,
          "Year": 2012
         },
         {
          "Date2": "2012-10-13 11:00:00",
          "DateString": "10/13/2012 11:00:00 AM",
          "East": 14,
          "Hour": 11,
          "JulianDay": 10,
          "WeekDay": 5,
          "West": 28,
          "Year": 2012
         },
         {
          "Date2": "2012-10-13 12:00:00",
          "DateString": "10/13/2012 12:00:00 PM",
          "East": 24,
          "Hour": 12,
          "JulianDay": 10,
          "WeekDay": 5,
          "West": 48,
          "Year": 2012
         },
         {
          "Date2": "2012-10-13 13:00:00",
          "DateString": "10/13/2012 01:00:00 PM",
          "East": 26,
          "Hour": 13,
          "JulianDay": 10,
          "WeekDay": 5,
          "West": 38,
          "Year": 2012
         },
         {
          "Date2": "2012-10-13 14:00:00",
          "DateString": "10/13/2012 02:00:00 PM",
          "East": 32,
          "Hour": 14,
          "JulianDay": 10,
          "WeekDay": 5,
          "West": 30,
          "Year": 2012
         },
         {
          "Date2": "2012-10-13 15:00:00",
          "DateString": "10/13/2012 03:00:00 PM",
          "East": 20,
          "Hour": 15,
          "JulianDay": 10,
          "WeekDay": 5,
          "West": 21,
          "Year": 2012
         },
         {
          "Date2": "2012-10-13 16:00:00",
          "DateString": "10/13/2012 04:00:00 PM",
          "East": 32,
          "Hour": 16,
          "JulianDay": 10,
          "WeekDay": 5,
          "West": 26,
          "Year": 2012
         },
         {
          "Date2": "2012-10-13 17:00:00",
          "DateString": "10/13/2012 05:00:00 PM",
          "East": 25,
          "Hour": 17,
          "JulianDay": 10,
          "WeekDay": 5,
          "West": 25,
          "Year": 2012
         },
         {
          "Date2": "2012-10-13 18:00:00",
          "DateString": "10/13/2012 06:00:00 PM",
          "East": 24,
          "Hour": 18,
          "JulianDay": 10,
          "WeekDay": 5,
          "West": 35,
          "Year": 2012
         },
         {
          "Date2": "2012-10-13 19:00:00",
          "DateString": "10/13/2012 07:00:00 PM",
          "East": 17,
          "Hour": 19,
          "JulianDay": 10,
          "WeekDay": 5,
          "West": 10,
          "Year": 2012
         },
         {
          "Date2": "2012-10-13 20:00:00",
          "DateString": "10/13/2012 08:00:00 PM",
          "East": 10,
          "Hour": 20,
          "JulianDay": 10,
          "WeekDay": 5,
          "West": 9,
          "Year": 2012
         },
         {
          "Date2": "2012-10-13 21:00:00",
          "DateString": "10/13/2012 09:00:00 PM",
          "East": 6,
          "Hour": 21,
          "JulianDay": 10,
          "WeekDay": 5,
          "West": 4,
          "Year": 2012
         },
         {
          "Date2": "2012-10-13 22:00:00",
          "DateString": "10/13/2012 10:00:00 PM",
          "East": 14,
          "Hour": 22,
          "JulianDay": 10,
          "WeekDay": 5,
          "West": 4,
          "Year": 2012
         },
         {
          "Date2": "2012-10-13 23:00:00",
          "DateString": "10/13/2012 11:00:00 PM",
          "East": 15,
          "Hour": 23,
          "JulianDay": 10,
          "WeekDay": 5,
          "West": 4,
          "Year": 2012
         },
         {
          "Date2": "2012-10-14 00:00:00",
          "DateString": "10/14/2012 12:00:00 AM",
          "East": 3,
          "Hour": 0,
          "JulianDay": 11,
          "WeekDay": 6,
          "West": 3,
          "Year": 2012
         },
         {
          "Date2": "2012-10-14 01:00:00",
          "DateString": "10/14/2012 01:00:00 AM",
          "East": 4,
          "Hour": 1,
          "JulianDay": 11,
          "WeekDay": 6,
          "West": 5,
          "Year": 2012
         },
         {
          "Date2": "2012-10-14 02:00:00",
          "DateString": "10/14/2012 02:00:00 AM",
          "East": 4,
          "Hour": 2,
          "JulianDay": 11,
          "WeekDay": 6,
          "West": 4,
          "Year": 2012
         },
         {
          "Date2": "2012-10-14 03:00:00",
          "DateString": "10/14/2012 03:00:00 AM",
          "East": 0,
          "Hour": 3,
          "JulianDay": 11,
          "WeekDay": 6,
          "West": 4,
          "Year": 2012
         },
         {
          "Date2": "2012-10-14 04:00:00",
          "DateString": "10/14/2012 04:00:00 AM",
          "East": 1,
          "Hour": 4,
          "JulianDay": 11,
          "WeekDay": 6,
          "West": 4,
          "Year": 2012
         },
         {
          "Date2": "2012-10-14 05:00:00",
          "DateString": "10/14/2012 05:00:00 AM",
          "East": 0,
          "Hour": 5,
          "JulianDay": 11,
          "WeekDay": 6,
          "West": 3,
          "Year": 2012
         },
         {
          "Date2": "2012-10-14 06:00:00",
          "DateString": "10/14/2012 06:00:00 AM",
          "East": 7,
          "Hour": 6,
          "JulianDay": 11,
          "WeekDay": 6,
          "West": 5,
          "Year": 2012
         },
         {
          "Date2": "2012-10-14 07:00:00",
          "DateString": "10/14/2012 07:00:00 AM",
          "East": 4,
          "Hour": 7,
          "JulianDay": 11,
          "WeekDay": 6,
          "West": 10,
          "Year": 2012
         },
         {
          "Date2": "2012-10-14 08:00:00",
          "DateString": "10/14/2012 08:00:00 AM",
          "East": 8,
          "Hour": 8,
          "JulianDay": 11,
          "WeekDay": 6,
          "West": 16,
          "Year": 2012
         },
         {
          "Date2": "2012-10-14 09:00:00",
          "DateString": "10/14/2012 09:00:00 AM",
          "East": 26,
          "Hour": 9,
          "JulianDay": 11,
          "WeekDay": 6,
          "West": 28,
          "Year": 2012
         },
         {
          "Date2": "2012-10-14 10:00:00",
          "DateString": "10/14/2012 10:00:00 AM",
          "East": 25,
          "Hour": 10,
          "JulianDay": 11,
          "WeekDay": 6,
          "West": 47,
          "Year": 2012
         },
         {
          "Date2": "2012-10-14 11:00:00",
          "DateString": "10/14/2012 11:00:00 AM",
          "East": 18,
          "Hour": 11,
          "JulianDay": 11,
          "WeekDay": 6,
          "West": 63,
          "Year": 2012
         },
         {
          "Date2": "2012-10-14 12:00:00",
          "DateString": "10/14/2012 12:00:00 PM",
          "East": 22,
          "Hour": 12,
          "JulianDay": 11,
          "WeekDay": 6,
          "West": 40,
          "Year": 2012
         },
         {
          "Date2": "2012-10-14 13:00:00",
          "DateString": "10/14/2012 01:00:00 PM",
          "East": 33,
          "Hour": 13,
          "JulianDay": 11,
          "WeekDay": 6,
          "West": 49,
          "Year": 2012
         },
         {
          "Date2": "2012-10-14 14:00:00",
          "DateString": "10/14/2012 02:00:00 PM",
          "East": 30,
          "Hour": 14,
          "JulianDay": 11,
          "WeekDay": 6,
          "West": 28,
          "Year": 2012
         },
         {
          "Date2": "2012-10-14 15:00:00",
          "DateString": "10/14/2012 03:00:00 PM",
          "East": 15,
          "Hour": 15,
          "JulianDay": 11,
          "WeekDay": 6,
          "West": 22,
          "Year": 2012
         },
         {
          "Date2": "2012-10-14 16:00:00",
          "DateString": "10/14/2012 04:00:00 PM",
          "East": 16,
          "Hour": 16,
          "JulianDay": 11,
          "WeekDay": 6,
          "West": 18,
          "Year": 2012
         },
         {
          "Date2": "2012-10-14 17:00:00",
          "DateString": "10/14/2012 05:00:00 PM",
          "East": 10,
          "Hour": 17,
          "JulianDay": 11,
          "WeekDay": 6,
          "West": 27,
          "Year": 2012
         },
         {
          "Date2": "2012-10-14 18:00:00",
          "DateString": "10/14/2012 06:00:00 PM",
          "East": 9,
          "Hour": 18,
          "JulianDay": 11,
          "WeekDay": 6,
          "West": 18,
          "Year": 2012
         },
         {
          "Date2": "2012-10-14 19:00:00",
          "DateString": "10/14/2012 07:00:00 PM",
          "East": 13,
          "Hour": 19,
          "JulianDay": 11,
          "WeekDay": 6,
          "West": 10,
          "Year": 2012
         },
         {
          "Date2": "2012-10-14 20:00:00",
          "DateString": "10/14/2012 08:00:00 PM",
          "East": 6,
          "Hour": 20,
          "JulianDay": 11,
          "WeekDay": 6,
          "West": 5,
          "Year": 2012
         },
         {
          "Date2": "2012-10-14 21:00:00",
          "DateString": "10/14/2012 09:00:00 PM",
          "East": 4,
          "Hour": 21,
          "JulianDay": 11,
          "WeekDay": 6,
          "West": 8,
          "Year": 2012
         },
         {
          "Date2": "2012-10-14 22:00:00",
          "DateString": "10/14/2012 10:00:00 PM",
          "East": 6,
          "Hour": 22,
          "JulianDay": 11,
          "WeekDay": 6,
          "West": 7,
          "Year": 2012
         },
         {
          "Date2": "2012-10-14 23:00:00",
          "DateString": "10/14/2012 11:00:00 PM",
          "East": 7,
          "Hour": 23,
          "JulianDay": 11,
          "WeekDay": 6,
          "West": 3,
          "Year": 2012
         },
         {
          "Date2": "2012-10-15 00:00:00",
          "DateString": "10/15/2012 12:00:00 AM",
          "East": 5,
          "Hour": 0,
          "JulianDay": 12,
          "WeekDay": 0,
          "West": 2,
          "Year": 2012
         },
         {
          "Date2": "2012-10-15 01:00:00",
          "DateString": "10/15/2012 01:00:00 AM",
          "East": 1,
          "Hour": 1,
          "JulianDay": 12,
          "WeekDay": 0,
          "West": 2,
          "Year": 2012
         },
         {
          "Date2": "2012-10-15 02:00:00",
          "DateString": "10/15/2012 02:00:00 AM",
          "East": 1,
          "Hour": 2,
          "JulianDay": 12,
          "WeekDay": 0,
          "West": 4,
          "Year": 2012
         },
         {
          "Date2": "2012-10-15 03:00:00",
          "DateString": "10/15/2012 03:00:00 AM",
          "East": 2,
          "Hour": 3,
          "JulianDay": 12,
          "WeekDay": 0,
          "West": 1,
          "Year": 2012
         },
         {
          "Date2": "2012-10-15 04:00:00",
          "DateString": "10/15/2012 04:00:00 AM",
          "East": 2,
          "Hour": 4,
          "JulianDay": 12,
          "WeekDay": 0,
          "West": 4,
          "Year": 2012
         },
         {
          "Date2": "2012-10-15 05:00:00",
          "DateString": "10/15/2012 05:00:00 AM",
          "East": 7,
          "Hour": 5,
          "JulianDay": 12,
          "WeekDay": 0,
          "West": 19,
          "Year": 2012
         },
         {
          "Date2": "2012-10-15 06:00:00",
          "DateString": "10/15/2012 06:00:00 AM",
          "East": 34,
          "Hour": 6,
          "JulianDay": 12,
          "WeekDay": 0,
          "West": 59,
          "Year": 2012
         },
         {
          "Date2": "2012-10-15 07:00:00",
          "DateString": "10/15/2012 07:00:00 AM",
          "East": 58,
          "Hour": 7,
          "JulianDay": 12,
          "WeekDay": 0,
          "West": 167,
          "Year": 2012
         },
         {
          "Date2": "2012-10-15 08:00:00",
          "DateString": "10/15/2012 08:00:00 AM",
          "East": 92,
          "Hour": 8,
          "JulianDay": 12,
          "WeekDay": 0,
          "West": 235,
          "Year": 2012
         },
         {
          "Date2": "2012-10-15 09:00:00",
          "DateString": "10/15/2012 09:00:00 AM",
          "East": 73,
          "Hour": 9,
          "JulianDay": 12,
          "WeekDay": 0,
          "West": 130,
          "Year": 2012
         },
         {
          "Date2": "2012-10-15 10:00:00",
          "DateString": "10/15/2012 10:00:00 AM",
          "East": 29,
          "Hour": 10,
          "JulianDay": 12,
          "WeekDay": 0,
          "West": 57,
          "Year": 2012
         },
         {
          "Date2": "2012-10-15 11:00:00",
          "DateString": "10/15/2012 11:00:00 AM",
          "East": 21,
          "Hour": 11,
          "JulianDay": 12,
          "WeekDay": 0,
          "West": 45,
          "Year": 2012
         },
         {
          "Date2": "2012-10-15 12:00:00",
          "DateString": "10/15/2012 12:00:00 PM",
          "East": 38,
          "Hour": 12,
          "JulianDay": 12,
          "WeekDay": 0,
          "West": 46,
          "Year": 2012
         },
         {
          "Date2": "2012-10-15 13:00:00",
          "DateString": "10/15/2012 01:00:00 PM",
          "East": 29,
          "Hour": 13,
          "JulianDay": 12,
          "WeekDay": 0,
          "West": 42,
          "Year": 2012
         },
         {
          "Date2": "2012-10-15 14:00:00",
          "DateString": "10/15/2012 02:00:00 PM",
          "East": 33,
          "Hour": 14,
          "JulianDay": 12,
          "WeekDay": 0,
          "West": 40,
          "Year": 2012
         },
         {
          "Date2": "2012-10-15 15:00:00",
          "DateString": "10/15/2012 03:00:00 PM",
          "East": 58,
          "Hour": 15,
          "JulianDay": 12,
          "WeekDay": 0,
          "West": 49,
          "Year": 2012
         },
         {
          "Date2": "2012-10-15 16:00:00",
          "DateString": "10/15/2012 04:00:00 PM",
          "East": 76,
          "Hour": 16,
          "JulianDay": 12,
          "WeekDay": 0,
          "West": 64,
          "Year": 2012
         },
         {
          "Date2": "2012-10-15 17:00:00",
          "DateString": "10/15/2012 05:00:00 PM",
          "East": 239,
          "Hour": 17,
          "JulianDay": 12,
          "WeekDay": 0,
          "West": 96,
          "Year": 2012
         },
         {
          "Date2": "2012-10-15 18:00:00",
          "DateString": "10/15/2012 06:00:00 PM",
          "East": 150,
          "Hour": 18,
          "JulianDay": 12,
          "WeekDay": 0,
          "West": 54,
          "Year": 2012
         },
         {
          "Date2": "2012-10-15 19:00:00",
          "DateString": "10/15/2012 07:00:00 PM",
          "East": 51,
          "Hour": 19,
          "JulianDay": 12,
          "WeekDay": 0,
          "West": 27,
          "Year": 2012
         },
         {
          "Date2": "2012-10-15 20:00:00",
          "DateString": "10/15/2012 08:00:00 PM",
          "East": 38,
          "Hour": 20,
          "JulianDay": 12,
          "WeekDay": 0,
          "West": 17,
          "Year": 2012
         },
         {
          "Date2": "2012-10-15 21:00:00",
          "DateString": "10/15/2012 09:00:00 PM",
          "East": 18,
          "Hour": 21,
          "JulianDay": 12,
          "WeekDay": 0,
          "West": 18,
          "Year": 2012
         },
         {
          "Date2": "2012-10-15 22:00:00",
          "DateString": "10/15/2012 10:00:00 PM",
          "East": 11,
          "Hour": 22,
          "JulianDay": 12,
          "WeekDay": 0,
          "West": 15,
          "Year": 2012
         },
         {
          "Date2": "2012-10-15 23:00:00",
          "DateString": "10/15/2012 11:00:00 PM",
          "East": 7,
          "Hour": 23,
          "JulianDay": 12,
          "WeekDay": 0,
          "West": 7,
          "Year": 2012
         },
         {
          "Date2": "2012-10-16 00:00:00",
          "DateString": "10/16/2012 12:00:00 AM",
          "East": 4,
          "Hour": 0,
          "JulianDay": 13,
          "WeekDay": 1,
          "West": 6,
          "Year": 2012
         },
         {
          "Date2": "2012-10-16 01:00:00",
          "DateString": "10/16/2012 01:00:00 AM",
          "East": 3,
          "Hour": 1,
          "JulianDay": 13,
          "WeekDay": 1,
          "West": 2,
          "Year": 2012
         },
         {
          "Date2": "2012-10-16 02:00:00",
          "DateString": "10/16/2012 02:00:00 AM",
          "East": 0,
          "Hour": 2,
          "JulianDay": 13,
          "WeekDay": 1,
          "West": 3,
          "Year": 2012
         },
         {
          "Date2": "2012-10-16 03:00:00",
          "DateString": "10/16/2012 03:00:00 AM",
          "East": 4,
          "Hour": 3,
          "JulianDay": 13,
          "WeekDay": 1,
          "West": 1,
          "Year": 2012
         },
         {
          "Date2": "2012-10-16 04:00:00",
          "DateString": "10/16/2012 04:00:00 AM",
          "East": 3,
          "Hour": 4,
          "JulianDay": 13,
          "WeekDay": 1,
          "West": 2,
          "Year": 2012
         },
         {
          "Date2": "2012-10-16 05:00:00",
          "DateString": "10/16/2012 05:00:00 AM",
          "East": 8,
          "Hour": 5,
          "JulianDay": 13,
          "WeekDay": 1,
          "West": 21,
          "Year": 2012
         },
         {
          "Date2": "2012-10-16 06:00:00",
          "DateString": "10/16/2012 06:00:00 AM",
          "East": 34,
          "Hour": 6,
          "JulianDay": 13,
          "WeekDay": 1,
          "West": 88,
          "Year": 2012
         },
         {
          "Date2": "2012-10-16 07:00:00",
          "DateString": "10/16/2012 07:00:00 AM",
          "East": 69,
          "Hour": 7,
          "JulianDay": 13,
          "WeekDay": 1,
          "West": 187,
          "Year": 2012
         },
         {
          "Date2": "2012-10-16 08:00:00",
          "DateString": "10/16/2012 08:00:00 AM",
          "East": 104,
          "Hour": 8,
          "JulianDay": 13,
          "WeekDay": 1,
          "West": 253,
          "Year": 2012
         },
         {
          "Date2": "2012-10-16 09:00:00",
          "DateString": "10/16/2012 09:00:00 AM",
          "East": 77,
          "Hour": 9,
          "JulianDay": 13,
          "WeekDay": 1,
          "West": 130,
          "Year": 2012
         },
         {
          "Date2": "2012-10-16 10:00:00",
          "DateString": "10/16/2012 10:00:00 AM",
          "East": 47,
          "Hour": 10,
          "JulianDay": 13,
          "WeekDay": 1,
          "West": 77,
          "Year": 2012
         },
         {
          "Date2": "2012-10-16 11:00:00",
          "DateString": "10/16/2012 11:00:00 AM",
          "East": 36,
          "Hour": 11,
          "JulianDay": 13,
          "WeekDay": 1,
          "West": 47,
          "Year": 2012
         },
         {
          "Date2": "2012-10-16 12:00:00",
          "DateString": "10/16/2012 12:00:00 PM",
          "East": 26,
          "Hour": 12,
          "JulianDay": 13,
          "WeekDay": 1,
          "West": 49,
          "Year": 2012
         },
         {
          "Date2": "2012-10-16 13:00:00",
          "DateString": "10/16/2012 01:00:00 PM",
          "East": 42,
          "Hour": 13,
          "JulianDay": 13,
          "WeekDay": 1,
          "West": 48,
          "Year": 2012
         },
         {
          "Date2": "2012-10-16 14:00:00",
          "DateString": "10/16/2012 02:00:00 PM",
          "East": 44,
          "Hour": 14,
          "JulianDay": 13,
          "WeekDay": 1,
          "West": 53,
          "Year": 2012
         },
         {
          "Date2": "2012-10-16 15:00:00",
          "DateString": "10/16/2012 03:00:00 PM",
          "East": 86,
          "Hour": 15,
          "JulianDay": 13,
          "WeekDay": 1,
          "West": 77,
          "Year": 2012
         },
         {
          "Date2": "2012-10-16 16:00:00",
          "DateString": "10/16/2012 04:00:00 PM",
          "East": 146,
          "Hour": 16,
          "JulianDay": 13,
          "WeekDay": 1,
          "West": 109,
          "Year": 2012
         },
         {
          "Date2": "2012-10-16 17:00:00",
          "DateString": "10/16/2012 05:00:00 PM",
          "East": 353,
          "Hour": 17,
          "JulianDay": 13,
          "WeekDay": 1,
          "West": 147,
          "Year": 2012
         },
         {
          "Date2": "2012-10-16 18:00:00",
          "DateString": "10/16/2012 06:00:00 PM",
          "East": 198,
          "Hour": 18,
          "JulianDay": 13,
          "WeekDay": 1,
          "West": 109,
          "Year": 2012
         },
         {
          "Date2": "2012-10-16 19:00:00",
          "DateString": "10/16/2012 07:00:00 PM",
          "East": 90,
          "Hour": 19,
          "JulianDay": 13,
          "WeekDay": 1,
          "West": 45,
          "Year": 2012
         },
         {
          "Date2": "2012-10-16 20:00:00",
          "DateString": "10/16/2012 08:00:00 PM",
          "East": 47,
          "Hour": 20,
          "JulianDay": 13,
          "WeekDay": 1,
          "West": 41,
          "Year": 2012
         },
         {
          "Date2": "2012-10-16 21:00:00",
          "DateString": "10/16/2012 09:00:00 PM",
          "East": 30,
          "Hour": 21,
          "JulianDay": 13,
          "WeekDay": 1,
          "West": 35,
          "Year": 2012
         },
         {
          "Date2": "2012-10-16 22:00:00",
          "DateString": "10/16/2012 10:00:00 PM",
          "East": 14,
          "Hour": 22,
          "JulianDay": 13,
          "WeekDay": 1,
          "West": 16,
          "Year": 2012
         },
         {
          "Date2": "2012-10-16 23:00:00",
          "DateString": "10/16/2012 11:00:00 PM",
          "East": 12,
          "Hour": 23,
          "JulianDay": 13,
          "WeekDay": 1,
          "West": 13,
          "Year": 2012
         },
         {
          "Date2": "2012-10-17 00:00:00",
          "DateString": "10/17/2012 12:00:00 AM",
          "East": 9,
          "Hour": 0,
          "JulianDay": 14,
          "WeekDay": 2,
          "West": 13,
          "Year": 2012
         },
         {
          "Date2": "2012-10-17 01:00:00",
          "DateString": "10/17/2012 01:00:00 AM",
          "East": 3,
          "Hour": 1,
          "JulianDay": 14,
          "WeekDay": 2,
          "West": 3,
          "Year": 2012
         },
         {
          "Date2": "2012-10-17 02:00:00",
          "DateString": "10/17/2012 02:00:00 AM",
          "East": 3,
          "Hour": 2,
          "JulianDay": 14,
          "WeekDay": 2,
          "West": 2,
          "Year": 2012
         },
         {
          "Date2": "2012-10-17 03:00:00",
          "DateString": "10/17/2012 03:00:00 AM",
          "East": 4,
          "Hour": 3,
          "JulianDay": 14,
          "WeekDay": 2,
          "West": 0,
          "Year": 2012
         },
         {
          "Date2": "2012-10-17 04:00:00",
          "DateString": "10/17/2012 04:00:00 AM",
          "East": 3,
          "Hour": 4,
          "JulianDay": 14,
          "WeekDay": 2,
          "West": 4,
          "Year": 2012
         },
         {
          "Date2": "2012-10-17 05:00:00",
          "DateString": "10/17/2012 05:00:00 AM",
          "East": 9,
          "Hour": 5,
          "JulianDay": 14,
          "WeekDay": 2,
          "West": 21,
          "Year": 2012
         },
         {
          "Date2": "2012-10-17 06:00:00",
          "DateString": "10/17/2012 06:00:00 AM",
          "East": 44,
          "Hour": 6,
          "JulianDay": 14,
          "WeekDay": 2,
          "West": 89,
          "Year": 2012
         },
         {
          "Date2": "2012-10-17 07:00:00",
          "DateString": "10/17/2012 07:00:00 AM",
          "East": 85,
          "Hour": 7,
          "JulianDay": 14,
          "WeekDay": 2,
          "West": 213,
          "Year": 2012
         },
         {
          "Date2": "2012-10-17 08:00:00",
          "DateString": "10/17/2012 08:00:00 AM",
          "East": 133,
          "Hour": 8,
          "JulianDay": 14,
          "WeekDay": 2,
          "West": 283,
          "Year": 2012
         },
         {
          "Date2": "2012-10-17 09:00:00",
          "DateString": "10/17/2012 09:00:00 AM",
          "East": 78,
          "Hour": 9,
          "JulianDay": 14,
          "WeekDay": 2,
          "West": 166,
          "Year": 2012
         },
         {
          "Date2": "2012-10-17 10:00:00",
          "DateString": "10/17/2012 10:00:00 AM",
          "East": 47,
          "Hour": 10,
          "JulianDay": 14,
          "WeekDay": 2,
          "West": 49,
          "Year": 2012
         },
         {
          "Date2": "2012-10-17 11:00:00",
          "DateString": "10/17/2012 11:00:00 AM",
          "East": 26,
          "Hour": 11,
          "JulianDay": 14,
          "WeekDay": 2,
          "West": 52,
          "Year": 2012
         },
         {
          "Date2": "2012-10-17 12:00:00",
          "DateString": "10/17/2012 12:00:00 PM",
          "East": 50,
          "Hour": 12,
          "JulianDay": 14,
          "WeekDay": 2,
          "West": 61,
          "Year": 2012
         },
         {
          "Date2": "2012-10-17 13:00:00",
          "DateString": "10/17/2012 01:00:00 PM",
          "East": 40,
          "Hour": 13,
          "JulianDay": 14,
          "WeekDay": 2,
          "West": 56,
          "Year": 2012
         },
         {
          "Date2": "2012-10-17 14:00:00",
          "DateString": "10/17/2012 02:00:00 PM",
          "East": 51,
          "Hour": 14,
          "JulianDay": 14,
          "WeekDay": 2,
          "West": 54,
          "Year": 2012
         },
         {
          "Date2": "2012-10-17 15:00:00",
          "DateString": "10/17/2012 03:00:00 PM",
          "East": 89,
          "Hour": 15,
          "JulianDay": 14,
          "WeekDay": 2,
          "West": 72,
          "Year": 2012
         },
         {
          "Date2": "2012-10-17 16:00:00",
          "DateString": "10/17/2012 04:00:00 PM",
          "East": 145,
          "Hour": 16,
          "JulianDay": 14,
          "WeekDay": 2,
          "West": 113,
          "Year": 2012
         },
         {
          "Date2": "2012-10-17 17:00:00",
          "DateString": "10/17/2012 05:00:00 PM",
          "East": 332,
          "Hour": 17,
          "JulianDay": 14,
          "WeekDay": 2,
          "West": 150,
          "Year": 2012
         },
         {
          "Date2": "2012-10-17 18:00:00",
          "DateString": "10/17/2012 06:00:00 PM",
          "East": 241,
          "Hour": 18,
          "JulianDay": 14,
          "WeekDay": 2,
          "West": 117,
          "Year": 2012
         },
         {
          "Date2": "2012-10-17 19:00:00",
          "DateString": "10/17/2012 07:00:00 PM",
          "East": 94,
          "Hour": 19,
          "JulianDay": 14,
          "WeekDay": 2,
          "West": 51,
          "Year": 2012
         },
         {
          "Date2": "2012-10-17 20:00:00",
          "DateString": "10/17/2012 08:00:00 PM",
          "East": 40,
          "Hour": 20,
          "JulianDay": 14,
          "WeekDay": 2,
          "West": 18,
          "Year": 2012
         },
         {
          "Date2": "2012-10-17 21:00:00",
          "DateString": "10/17/2012 09:00:00 PM",
          "East": 41,
          "Hour": 21,
          "JulianDay": 14,
          "WeekDay": 2,
          "West": 25,
          "Year": 2012
         },
         {
          "Date2": "2012-10-17 22:00:00",
          "DateString": "10/17/2012 10:00:00 PM",
          "East": 23,
          "Hour": 22,
          "JulianDay": 14,
          "WeekDay": 2,
          "West": 25,
          "Year": 2012
         },
         {
          "Date2": "2012-10-17 23:00:00",
          "DateString": "10/17/2012 11:00:00 PM",
          "East": 6,
          "Hour": 23,
          "JulianDay": 14,
          "WeekDay": 2,
          "West": 10,
          "Year": 2012
         },
         {
          "Date2": "2012-10-18 00:00:00",
          "DateString": "10/18/2012 12:00:00 AM",
          "East": 0,
          "Hour": 0,
          "JulianDay": 15,
          "WeekDay": 3,
          "West": 7,
          "Year": 2012
         },
         {
          "Date2": "2012-10-18 01:00:00",
          "DateString": "10/18/2012 01:00:00 AM",
          "East": 4,
          "Hour": 1,
          "JulianDay": 15,
          "WeekDay": 3,
          "West": 3,
          "Year": 2012
         },
         {
          "Date2": "2012-10-18 02:00:00",
          "DateString": "10/18/2012 02:00:00 AM",
          "East": 4,
          "Hour": 2,
          "JulianDay": 15,
          "WeekDay": 3,
          "West": 5,
          "Year": 2012
         },
         {
          "Date2": "2012-10-18 03:00:00",
          "DateString": "10/18/2012 03:00:00 AM",
          "East": 4,
          "Hour": 3,
          "JulianDay": 15,
          "WeekDay": 3,
          "West": 1,
          "Year": 2012
         },
         {
          "Date2": "2012-10-18 04:00:00",
          "DateString": "10/18/2012 04:00:00 AM",
          "East": 1,
          "Hour": 4,
          "JulianDay": 15,
          "WeekDay": 3,
          "West": 7,
          "Year": 2012
         },
         {
          "Date2": "2012-10-18 05:00:00",
          "DateString": "10/18/2012 05:00:00 AM",
          "East": 12,
          "Hour": 5,
          "JulianDay": 15,
          "WeekDay": 3,
          "West": 14,
          "Year": 2012
         },
         {
          "Date2": "2012-10-18 06:00:00",
          "DateString": "10/18/2012 06:00:00 AM",
          "East": 35,
          "Hour": 6,
          "JulianDay": 15,
          "WeekDay": 3,
          "West": 88,
          "Year": 2012
         },
         {
          "Date2": "2012-10-18 07:00:00",
          "DateString": "10/18/2012 07:00:00 AM",
          "East": 73,
          "Hour": 7,
          "JulianDay": 15,
          "WeekDay": 3,
          "West": 206,
          "Year": 2012
         },
         {
          "Date2": "2012-10-18 08:00:00",
          "DateString": "10/18/2012 08:00:00 AM",
          "East": 130,
          "Hour": 8,
          "JulianDay": 15,
          "WeekDay": 3,
          "West": 246,
          "Year": 2012
         },
         {
          "Date2": "2012-10-18 09:00:00",
          "DateString": "10/18/2012 09:00:00 AM",
          "East": 83,
          "Hour": 9,
          "JulianDay": 15,
          "WeekDay": 3,
          "West": 147,
          "Year": 2012
         },
         {
          "Date2": "2012-10-18 10:00:00",
          "DateString": "10/18/2012 10:00:00 AM",
          "East": 35,
          "Hour": 10,
          "JulianDay": 15,
          "WeekDay": 3,
          "West": 59,
          "Year": 2012
         },
         {
          "Date2": "2012-10-18 11:00:00",
          "DateString": "10/18/2012 11:00:00 AM",
          "East": 46,
          "Hour": 11,
          "JulianDay": 15,
          "WeekDay": 3,
          "West": 47,
          "Year": 2012
         },
         {
          "Date2": "2012-10-18 12:00:00",
          "DateString": "10/18/2012 12:00:00 PM",
          "East": 56,
          "Hour": 12,
          "JulianDay": 15,
          "WeekDay": 3,
          "West": 54,
          "Year": 2012
         },
         {
          "Date2": "2012-10-18 13:00:00",
          "DateString": "10/18/2012 01:00:00 PM",
          "East": 70,
          "Hour": 13,
          "JulianDay": 15,
          "WeekDay": 3,
          "West": 51,
          "Year": 2012
         },
         {
          "Date2": "2012-10-18 14:00:00",
          "DateString": "10/18/2012 02:00:00 PM",
          "East": 51,
          "Hour": 14,
          "JulianDay": 15,
          "WeekDay": 3,
          "West": 53,
          "Year": 2012
         },
         {
          "Date2": "2012-10-18 15:00:00",
          "DateString": "10/18/2012 03:00:00 PM",
          "East": 77,
          "Hour": 15,
          "JulianDay": 15,
          "WeekDay": 3,
          "West": 68,
          "Year": 2012
         },
         {
          "Date2": "2012-10-18 16:00:00",
          "DateString": "10/18/2012 04:00:00 PM",
          "East": 132,
          "Hour": 16,
          "JulianDay": 15,
          "WeekDay": 3,
          "West": 98,
          "Year": 2012
         },
         {
          "Date2": "2012-10-18 17:00:00",
          "DateString": "10/18/2012 05:00:00 PM",
          "East": 334,
          "Hour": 17,
          "JulianDay": 15,
          "WeekDay": 3,
          "West": 130,
          "Year": 2012
         },
         {
          "Date2": "2012-10-18 18:00:00",
          "DateString": "10/18/2012 06:00:00 PM",
          "East": 191,
          "Hour": 18,
          "JulianDay": 15,
          "WeekDay": 3,
          "West": 89,
          "Year": 2012
         },
         {
          "Date2": "2012-10-18 19:00:00",
          "DateString": "10/18/2012 07:00:00 PM",
          "East": 62,
          "Hour": 19,
          "JulianDay": 15,
          "WeekDay": 3,
          "West": 25,
          "Year": 2012
         },
         {
          "Date2": "2012-10-18 20:00:00",
          "DateString": "10/18/2012 08:00:00 PM",
          "East": 34,
          "Hour": 20,
          "JulianDay": 15,
          "WeekDay": 3,
          "West": 25,
          "Year": 2012
         },
         {
          "Date2": "2012-10-18 21:00:00",
          "DateString": "10/18/2012 09:00:00 PM",
          "East": 23,
          "Hour": 21,
          "JulianDay": 15,
          "WeekDay": 3,
          "West": 13,
          "Year": 2012
         },
         {
          "Date2": "2012-10-18 22:00:00",
          "DateString": "10/18/2012 10:00:00 PM",
          "East": 10,
          "Hour": 22,
          "JulianDay": 15,
          "WeekDay": 3,
          "West": 6,
          "Year": 2012
         },
         {
          "Date2": "2012-10-18 23:00:00",
          "DateString": "10/18/2012 11:00:00 PM",
          "East": 7,
          "Hour": 23,
          "JulianDay": 15,
          "WeekDay": 3,
          "West": 7,
          "Year": 2012
         },
         {
          "Date2": "2012-10-19 00:00:00",
          "DateString": "10/19/2012 12:00:00 AM",
          "East": 9,
          "Hour": 0,
          "JulianDay": 16,
          "WeekDay": 4,
          "West": 3,
          "Year": 2012
         },
         {
          "Date2": "2012-10-19 01:00:00",
          "DateString": "10/19/2012 01:00:00 AM",
          "East": 1,
          "Hour": 1,
          "JulianDay": 16,
          "WeekDay": 4,
          "West": 3,
          "Year": 2012
         },
         {
          "Date2": "2012-10-19 02:00:00",
          "DateString": "10/19/2012 02:00:00 AM",
          "East": 1,
          "Hour": 2,
          "JulianDay": 16,
          "WeekDay": 4,
          "West": 4,
          "Year": 2012
         },
         {
          "Date2": "2012-10-19 03:00:00",
          "DateString": "10/19/2012 03:00:00 AM",
          "East": 2,
          "Hour": 3,
          "JulianDay": 16,
          "WeekDay": 4,
          "West": 0,
          "Year": 2012
         },
         {
          "Date2": "2012-10-19 04:00:00",
          "DateString": "10/19/2012 04:00:00 AM",
          "East": 5,
          "Hour": 4,
          "JulianDay": 16,
          "WeekDay": 4,
          "West": 4,
          "Year": 2012
         },
         {
          "Date2": "2012-10-19 05:00:00",
          "DateString": "10/19/2012 05:00:00 AM",
          "East": 6,
          "Hour": 5,
          "JulianDay": 16,
          "WeekDay": 4,
          "West": 20,
          "Year": 2012
         },
         {
          "Date2": "2012-10-19 06:00:00",
          "DateString": "10/19/2012 06:00:00 AM",
          "East": 21,
          "Hour": 6,
          "JulianDay": 16,
          "WeekDay": 4,
          "West": 50,
          "Year": 2012
         },
         {
          "Date2": "2012-10-19 07:00:00",
          "DateString": "10/19/2012 07:00:00 AM",
          "East": 54,
          "Hour": 7,
          "JulianDay": 16,
          "WeekDay": 4,
          "West": 126,
          "Year": 2012
         },
         {
          "Date2": "2012-10-19 08:00:00",
          "DateString": "10/19/2012 08:00:00 AM",
          "East": 76,
          "Hour": 8,
          "JulianDay": 16,
          "WeekDay": 4,
          "West": 169,
          "Year": 2012
         },
         {
          "Date2": "2012-10-19 09:00:00",
          "DateString": "10/19/2012 09:00:00 AM",
          "East": 76,
          "Hour": 9,
          "JulianDay": 16,
          "WeekDay": 4,
          "West": 93,
          "Year": 2012
         },
         {
          "Date2": "2012-10-19 10:00:00",
          "DateString": "10/19/2012 10:00:00 AM",
          "East": 24,
          "Hour": 10,
          "JulianDay": 16,
          "WeekDay": 4,
          "West": 41,
          "Year": 2012
         },
         {
          "Date2": "2012-10-19 11:00:00",
          "DateString": "10/19/2012 11:00:00 AM",
          "East": 26,
          "Hour": 11,
          "JulianDay": 16,
          "WeekDay": 4,
          "West": 26,
          "Year": 2012
         },
         {
          "Date2": "2012-10-19 12:00:00",
          "DateString": "10/19/2012 12:00:00 PM",
          "East": 24,
          "Hour": 12,
          "JulianDay": 16,
          "WeekDay": 4,
          "West": 26,
          "Year": 2012
         },
         {
          "Date2": "2012-10-19 13:00:00",
          "DateString": "10/19/2012 01:00:00 PM",
          "East": 44,
          "Hour": 13,
          "JulianDay": 16,
          "WeekDay": 4,
          "West": 34,
          "Year": 2012
         },
         {
          "Date2": "2012-10-19 14:00:00",
          "DateString": "10/19/2012 02:00:00 PM",
          "East": 36,
          "Hour": 14,
          "JulianDay": 16,
          "WeekDay": 4,
          "West": 39,
          "Year": 2012
         },
         {
          "Date2": "2012-10-19 15:00:00",
          "DateString": "10/19/2012 03:00:00 PM",
          "East": 56,
          "Hour": 15,
          "JulianDay": 16,
          "WeekDay": 4,
          "West": 54,
          "Year": 2012
         },
         {
          "Date2": "2012-10-19 16:00:00",
          "DateString": "10/19/2012 04:00:00 PM",
          "East": 98,
          "Hour": 16,
          "JulianDay": 16,
          "WeekDay": 4,
          "West": 79,
          "Year": 2012
         },
         {
          "Date2": "2012-10-19 17:00:00",
          "DateString": "10/19/2012 05:00:00 PM",
          "East": 212,
          "Hour": 17,
          "JulianDay": 16,
          "WeekDay": 4,
          "West": 85,
          "Year": 2012
         },
         {
          "Date2": "2012-10-19 18:00:00",
          "DateString": "10/19/2012 06:00:00 PM",
          "East": 134,
          "Hour": 18,
          "JulianDay": 16,
          "WeekDay": 4,
          "West": 57,
          "Year": 2012
         },
         {
          "Date2": "2012-10-19 19:00:00",
          "DateString": "10/19/2012 07:00:00 PM",
          "East": 46,
          "Hour": 19,
          "JulianDay": 16,
          "WeekDay": 4,
          "West": 16,
          "Year": 2012
         },
         {
          "Date2": "2012-10-19 20:00:00",
          "DateString": "10/19/2012 08:00:00 PM",
          "East": 29,
          "Hour": 20,
          "JulianDay": 16,
          "WeekDay": 4,
          "West": 13,
          "Year": 2012
         },
         {
          "Date2": "2012-10-19 21:00:00",
          "DateString": "10/19/2012 09:00:00 PM",
          "East": 12,
          "Hour": 21,
          "JulianDay": 16,
          "WeekDay": 4,
          "West": 7,
          "Year": 2012
         },
         {
          "Date2": "2012-10-19 22:00:00",
          "DateString": "10/19/2012 10:00:00 PM",
          "East": 9,
          "Hour": 22,
          "JulianDay": 16,
          "WeekDay": 4,
          "West": 8,
          "Year": 2012
         },
         {
          "Date2": "2012-10-19 23:00:00",
          "DateString": "10/19/2012 11:00:00 PM",
          "East": 11,
          "Hour": 23,
          "JulianDay": 16,
          "WeekDay": 4,
          "West": 8,
          "Year": 2012
         },
         {
          "Date2": "2012-10-20 00:00:00",
          "DateString": "10/20/2012 12:00:00 AM",
          "East": 5,
          "Hour": 0,
          "JulianDay": 17,
          "WeekDay": 5,
          "West": 4,
          "Year": 2012
         },
         {
          "Date2": "2012-10-20 01:00:00",
          "DateString": "10/20/2012 01:00:00 AM",
          "East": 7,
          "Hour": 1,
          "JulianDay": 17,
          "WeekDay": 5,
          "West": 1,
          "Year": 2012
         },
         {
          "Date2": "2012-10-20 02:00:00",
          "DateString": "10/20/2012 02:00:00 AM",
          "East": 4,
          "Hour": 2,
          "JulianDay": 17,
          "WeekDay": 5,
          "West": 8,
          "Year": 2012
         },
         {
          "Date2": "2012-10-20 03:00:00",
          "DateString": "10/20/2012 03:00:00 AM",
          "East": 3,
          "Hour": 3,
          "JulianDay": 17,
          "WeekDay": 5,
          "West": 2,
          "Year": 2012
         },
         {
          "Date2": "2012-10-20 04:00:00",
          "DateString": "10/20/2012 04:00:00 AM",
          "East": 2,
          "Hour": 4,
          "JulianDay": 17,
          "WeekDay": 5,
          "West": 1,
          "Year": 2012
         },
         {
          "Date2": "2012-10-20 05:00:00",
          "DateString": "10/20/2012 05:00:00 AM",
          "East": 6,
          "Hour": 5,
          "JulianDay": 17,
          "WeekDay": 5,
          "West": 9,
          "Year": 2012
         },
         {
          "Date2": "2012-10-20 06:00:00",
          "DateString": "10/20/2012 06:00:00 AM",
          "East": 6,
          "Hour": 6,
          "JulianDay": 17,
          "WeekDay": 5,
          "West": 10,
          "Year": 2012
         },
         {
          "Date2": "2012-10-20 07:00:00",
          "DateString": "10/20/2012 07:00:00 AM",
          "East": 12,
          "Hour": 7,
          "JulianDay": 17,
          "WeekDay": 5,
          "West": 16,
          "Year": 2012
         },
         {
          "Date2": "2012-10-20 08:00:00",
          "DateString": "10/20/2012 08:00:00 AM",
          "East": 18,
          "Hour": 8,
          "JulianDay": 17,
          "WeekDay": 5,
          "West": 28,
          "Year": 2012
         },
         {
          "Date2": "2012-10-20 09:00:00",
          "DateString": "10/20/2012 09:00:00 AM",
          "East": 30,
          "Hour": 9,
          "JulianDay": 17,
          "WeekDay": 5,
          "West": 29,
          "Year": 2012
         },
         {
          "Date2": "2012-10-20 10:00:00",
          "DateString": "10/20/2012 10:00:00 AM",
          "East": 31,
          "Hour": 10,
          "JulianDay": 17,
          "WeekDay": 5,
          "West": 52,
          "Year": 2012
         },
         {
          "Date2": "2012-10-20 11:00:00",
          "DateString": "10/20/2012 11:00:00 AM",
          "East": 33,
          "Hour": 11,
          "JulianDay": 17,
          "WeekDay": 5,
          "West": 59,
          "Year": 2012
         },
         {
          "Date2": "2012-10-20 12:00:00",
          "DateString": "10/20/2012 12:00:00 PM",
          "East": 34,
          "Hour": 12,
          "JulianDay": 17,
          "WeekDay": 5,
          "West": 64,
          "Year": 2012
         },
         {
          "Date2": "2012-10-20 13:00:00",
          "DateString": "10/20/2012 01:00:00 PM",
          "East": 51,
          "Hour": 13,
          "JulianDay": 17,
          "WeekDay": 5,
          "West": 62,
          "Year": 2012
         },
         {
          "Date2": "2012-10-20 14:00:00",
          "DateString": "10/20/2012 02:00:00 PM",
          "East": 46,
          "Hour": 14,
          "JulianDay": 17,
          "WeekDay": 5,
          "West": 52,
          "Year": 2012
         },
         {
          "Date2": "2012-10-20 15:00:00",
          "DateString": "10/20/2012 03:00:00 PM",
          "East": 28,
          "Hour": 15,
          "JulianDay": 17,
          "WeekDay": 5,
          "West": 44,
          "Year": 2012
         },
         {
          "Date2": "2012-10-20 16:00:00",
          "DateString": "10/20/2012 04:00:00 PM",
          "East": 46,
          "Hour": 16,
          "JulianDay": 17,
          "WeekDay": 5,
          "West": 30,
          "Year": 2012
         },
         {
          "Date2": "2012-10-20 17:00:00",
          "DateString": "10/20/2012 05:00:00 PM",
          "East": 26,
          "Hour": 17,
          "JulianDay": 17,
          "WeekDay": 5,
          "West": 37,
          "Year": 2012
         },
         {
          "Date2": "2012-10-20 18:00:00",
          "DateString": "10/20/2012 06:00:00 PM",
          "East": 38,
          "Hour": 18,
          "JulianDay": 17,
          "WeekDay": 5,
          "West": 31,
          "Year": 2012
         },
         {
          "Date2": "2012-10-20 19:00:00",
          "DateString": "10/20/2012 07:00:00 PM",
          "East": 18,
          "Hour": 19,
          "JulianDay": 17,
          "WeekDay": 5,
          "West": 18,
          "Year": 2012
         },
         {
          "Date2": "2012-10-20 20:00:00",
          "DateString": "10/20/2012 08:00:00 PM",
          "East": 12,
          "Hour": 20,
          "JulianDay": 17,
          "WeekDay": 5,
          "West": 10,
          "Year": 2012
         },
         {
          "Date2": "2012-10-20 21:00:00",
          "DateString": "10/20/2012 09:00:00 PM",
          "East": 8,
          "Hour": 21,
          "JulianDay": 17,
          "WeekDay": 5,
          "West": 5,
          "Year": 2012
         },
         {
          "Date2": "2012-10-20 22:00:00",
          "DateString": "10/20/2012 10:00:00 PM",
          "East": 6,
          "Hour": 22,
          "JulianDay": 17,
          "WeekDay": 5,
          "West": 6,
          "Year": 2012
         },
         {
          "Date2": "2012-10-20 23:00:00",
          "DateString": "10/20/2012 11:00:00 PM",
          "East": 12,
          "Hour": 23,
          "JulianDay": 17,
          "WeekDay": 5,
          "West": 8,
          "Year": 2012
         },
         {
          "Date2": "2012-10-21 00:00:00",
          "DateString": "10/21/2012 12:00:00 AM",
          "East": 12,
          "Hour": 0,
          "JulianDay": 18,
          "WeekDay": 6,
          "West": 5,
          "Year": 2012
         },
         {
          "Date2": "2012-10-21 01:00:00",
          "DateString": "10/21/2012 01:00:00 AM",
          "East": 9,
          "Hour": 1,
          "JulianDay": 18,
          "WeekDay": 6,
          "West": 2,
          "Year": 2012
         },
         {
          "Date2": "2012-10-21 02:00:00",
          "DateString": "10/21/2012 02:00:00 AM",
          "East": 4,
          "Hour": 2,
          "JulianDay": 18,
          "WeekDay": 6,
          "West": 7,
          "Year": 2012
         },
         {
          "Date2": "2012-10-21 03:00:00",
          "DateString": "10/21/2012 03:00:00 AM",
          "East": 1,
          "Hour": 3,
          "JulianDay": 18,
          "WeekDay": 6,
          "West": 3,
          "Year": 2012
         },
         {
          "Date2": "2012-10-21 04:00:00",
          "DateString": "10/21/2012 04:00:00 AM",
          "East": 1,
          "Hour": 4,
          "JulianDay": 18,
          "WeekDay": 6,
          "West": 3,
          "Year": 2012
         },
         {
          "Date2": "2012-10-21 05:00:00",
          "DateString": "10/21/2012 05:00:00 AM",
          "East": 4,
          "Hour": 5,
          "JulianDay": 18,
          "WeekDay": 6,
          "West": 4,
          "Year": 2012
         },
         {
          "Date2": "2012-10-21 06:00:00",
          "DateString": "10/21/2012 06:00:00 AM",
          "East": 5,
          "Hour": 6,
          "JulianDay": 18,
          "WeekDay": 6,
          "West": 8,
          "Year": 2012
         },
         {
          "Date2": "2012-10-21 07:00:00",
          "DateString": "10/21/2012 07:00:00 AM",
          "East": 6,
          "Hour": 7,
          "JulianDay": 18,
          "WeekDay": 6,
          "West": 9,
          "Year": 2012
         },
         {
          "Date2": "2012-10-21 08:00:00",
          "DateString": "10/21/2012 08:00:00 AM",
          "East": 11,
          "Hour": 8,
          "JulianDay": 18,
          "WeekDay": 6,
          "West": 26,
          "Year": 2012
         },
         {
          "Date2": "2012-10-21 09:00:00",
          "DateString": "10/21/2012 09:00:00 AM",
          "East": 22,
          "Hour": 9,
          "JulianDay": 18,
          "WeekDay": 6,
          "West": 28,
          "Year": 2012
         },
         {
          "Date2": "2012-10-21 10:00:00",
          "DateString": "10/21/2012 10:00:00 AM",
          "East": 28,
          "Hour": 10,
          "JulianDay": 18,
          "WeekDay": 6,
          "West": 38,
          "Year": 2012
         },
         {
          "Date2": "2012-10-21 11:00:00",
          "DateString": "10/21/2012 11:00:00 AM",
          "East": 23,
          "Hour": 11,
          "JulianDay": 18,
          "WeekDay": 6,
          "West": 34,
          "Year": 2012
         },
         {
          "Date2": "2012-10-21 12:00:00",
          "DateString": "10/21/2012 12:00:00 PM",
          "East": 37,
          "Hour": 12,
          "JulianDay": 18,
          "WeekDay": 6,
          "West": 63,
          "Year": 2012
         },
         {
          "Date2": "2012-10-21 13:00:00",
          "DateString": "10/21/2012 01:00:00 PM",
          "East": 41,
          "Hour": 13,
          "JulianDay": 18,
          "WeekDay": 6,
          "West": 48,
          "Year": 2012
         },
         {
          "Date2": "2012-10-21 14:00:00",
          "DateString": "10/21/2012 02:00:00 PM",
          "East": 47,
          "Hour": 14,
          "JulianDay": 18,
          "WeekDay": 6,
          "West": 67,
          "Year": 2012
         },
         {
          "Date2": "2012-10-21 15:00:00",
          "DateString": "10/21/2012 03:00:00 PM",
          "East": 52,
          "Hour": 15,
          "JulianDay": 18,
          "WeekDay": 6,
          "West": 63,
          "Year": 2012
         },
         {
          "Date2": "2012-10-21 16:00:00",
          "DateString": "10/21/2012 04:00:00 PM",
          "East": 30,
          "Hour": 16,
          "JulianDay": 18,
          "WeekDay": 6,
          "West": 42,
          "Year": 2012
         },
         {
          "Date2": "2012-10-21 17:00:00",
          "DateString": "10/21/2012 05:00:00 PM",
          "East": 46,
          "Hour": 17,
          "JulianDay": 18,
          "WeekDay": 6,
          "West": 36,
          "Year": 2012
         },
         {
          "Date2": "2012-10-21 18:00:00",
          "DateString": "10/21/2012 06:00:00 PM",
          "East": 19,
          "Hour": 18,
          "JulianDay": 18,
          "WeekDay": 6,
          "West": 25,
          "Year": 2012
         },
         {
          "Date2": "2012-10-21 19:00:00",
          "DateString": "10/21/2012 07:00:00 PM",
          "East": 10,
          "Hour": 19,
          "JulianDay": 18,
          "WeekDay": 6,
          "West": 7,
          "Year": 2012
         },
         {
          "Date2": "2012-10-21 20:00:00",
          "DateString": "10/21/2012 08:00:00 PM",
          "East": 18,
          "Hour": 20,
          "JulianDay": 18,
          "WeekDay": 6,
          "West": 3,
          "Year": 2012
         },
         {
          "Date2": "2012-10-21 21:00:00",
          "DateString": "10/21/2012 09:00:00 PM",
          "East": 10,
          "Hour": 21,
          "JulianDay": 18,
          "WeekDay": 6,
          "West": 16,
          "Year": 2012
         },
         {
          "Date2": "2012-10-21 22:00:00",
          "DateString": "10/21/2012 10:00:00 PM",
          "East": 7,
          "Hour": 22,
          "JulianDay": 18,
          "WeekDay": 6,
          "West": 2,
          "Year": 2012
         },
         {
          "Date2": "2012-10-21 23:00:00",
          "DateString": "10/21/2012 11:00:00 PM",
          "East": 6,
          "Hour": 23,
          "JulianDay": 18,
          "WeekDay": 6,
          "West": 1,
          "Year": 2012
         },
         {
          "Date2": "2012-10-22 00:00:00",
          "DateString": "10/22/2012 12:00:00 AM",
          "East": 2,
          "Hour": 0,
          "JulianDay": 19,
          "WeekDay": 0,
          "West": 4,
          "Year": 2012
         },
         {
          "Date2": "2012-10-22 01:00:00",
          "DateString": "10/22/2012 01:00:00 AM",
          "East": 3,
          "Hour": 1,
          "JulianDay": 19,
          "WeekDay": 0,
          "West": 1,
          "Year": 2012
         },
         {
          "Date2": "2012-10-22 02:00:00",
          "DateString": "10/22/2012 02:00:00 AM",
          "East": 0,
          "Hour": 2,
          "JulianDay": 19,
          "WeekDay": 0,
          "West": 2,
          "Year": 2012
         },
         {
          "Date2": "2012-10-22 03:00:00",
          "DateString": "10/22/2012 03:00:00 AM",
          "East": 3,
          "Hour": 3,
          "JulianDay": 19,
          "WeekDay": 0,
          "West": 1,
          "Year": 2012
         },
         {
          "Date2": "2012-10-22 04:00:00",
          "DateString": "10/22/2012 04:00:00 AM",
          "East": 5,
          "Hour": 4,
          "JulianDay": 19,
          "WeekDay": 0,
          "West": 5,
          "Year": 2012
         },
         {
          "Date2": "2012-10-22 05:00:00",
          "DateString": "10/22/2012 05:00:00 AM",
          "East": 8,
          "Hour": 5,
          "JulianDay": 19,
          "WeekDay": 0,
          "West": 19,
          "Year": 2012
         },
         {
          "Date2": "2012-10-22 06:00:00",
          "DateString": "10/22/2012 06:00:00 AM",
          "East": 32,
          "Hour": 6,
          "JulianDay": 19,
          "WeekDay": 0,
          "West": 85,
          "Year": 2012
         },
         {
          "Date2": "2012-10-22 07:00:00",
          "DateString": "10/22/2012 07:00:00 AM",
          "East": 74,
          "Hour": 7,
          "JulianDay": 19,
          "WeekDay": 0,
          "West": 184,
          "Year": 2012
         },
         {
          "Date2": "2012-10-22 08:00:00",
          "DateString": "10/22/2012 08:00:00 AM",
          "East": 92,
          "Hour": 8,
          "JulianDay": 19,
          "WeekDay": 0,
          "West": 256,
          "Year": 2012
         },
         {
          "Date2": "2012-10-22 09:00:00",
          "DateString": "10/22/2012 09:00:00 AM",
          "East": 54,
          "Hour": 9,
          "JulianDay": 19,
          "WeekDay": 0,
          "West": 107,
          "Year": 2012
         },
         {
          "Date2": "2012-10-22 10:00:00",
          "DateString": "10/22/2012 10:00:00 AM",
          "East": 38,
          "Hour": 10,
          "JulianDay": 19,
          "WeekDay": 0,
          "West": 29,
          "Year": 2012
         },
         {
          "Date2": "2012-10-22 11:00:00",
          "DateString": "10/22/2012 11:00:00 AM",
          "East": 20,
          "Hour": 11,
          "JulianDay": 19,
          "WeekDay": 0,
          "West": 22,
          "Year": 2012
         },
         {
          "Date2": "2012-10-22 12:00:00",
          "DateString": "10/22/2012 12:00:00 PM",
          "East": 23,
          "Hour": 12,
          "JulianDay": 19,
          "WeekDay": 0,
          "West": 18,
          "Year": 2012
         },
         {
          "Date2": "2012-10-22 13:00:00",
          "DateString": "10/22/2012 01:00:00 PM",
          "East": 20,
          "Hour": 13,
          "JulianDay": 19,
          "WeekDay": 0,
          "West": 20,
          "Year": 2012
         },
         {
          "Date2": "2012-10-22 14:00:00",
          "DateString": "10/22/2012 02:00:00 PM",
          "East": 26,
          "Hour": 14,
          "JulianDay": 19,
          "WeekDay": 0,
          "West": 19,
          "Year": 2012
         },
         {
          "Date2": "2012-10-22 15:00:00",
          "DateString": "10/22/2012 03:00:00 PM",
          "East": 38,
          "Hour": 15,
          "JulianDay": 19,
          "WeekDay": 0,
          "West": 33,
          "Year": 2012
         },
         {
          "Date2": "2012-10-22 16:00:00",
          "DateString": "10/22/2012 04:00:00 PM",
          "East": 87,
          "Hour": 16,
          "JulianDay": 19,
          "WeekDay": 0,
          "West": 63,
          "Year": 2012
         },
         {
          "Date2": "2012-10-22 17:00:00",
          "DateString": "10/22/2012 05:00:00 PM",
          "East": 272,
          "Hour": 17,
          "JulianDay": 19,
          "WeekDay": 0,
          "West": 97,
          "Year": 2012
         },
         {
          "Date2": "2012-10-22 18:00:00",
          "DateString": "10/22/2012 06:00:00 PM",
          "East": 145,
          "Hour": 18,
          "JulianDay": 19,
          "WeekDay": 0,
          "West": 54,
          "Year": 2012
         },
         {
          "Date2": "2012-10-22 19:00:00",
          "DateString": "10/22/2012 07:00:00 PM",
          "East": 49,
          "Hour": 19,
          "JulianDay": 19,
          "WeekDay": 0,
          "West": 25,
          "Year": 2012
         },
         {
          "Date2": "2012-10-22 20:00:00",
          "DateString": "10/22/2012 08:00:00 PM",
          "East": 26,
          "Hour": 20,
          "JulianDay": 19,
          "WeekDay": 0,
          "West": 14,
          "Year": 2012
         },
         {
          "Date2": "2012-10-22 21:00:00",
          "DateString": "10/22/2012 09:00:00 PM",
          "East": 11,
          "Hour": 21,
          "JulianDay": 19,
          "WeekDay": 0,
          "West": 17,
          "Year": 2012
         },
         {
          "Date2": "2012-10-22 22:00:00",
          "DateString": "10/22/2012 10:00:00 PM",
          "East": 9,
          "Hour": 22,
          "JulianDay": 19,
          "WeekDay": 0,
          "West": 6,
          "Year": 2012
         },
         {
          "Date2": "2012-10-22 23:00:00",
          "DateString": "10/22/2012 11:00:00 PM",
          "East": 4,
          "Hour": 23,
          "JulianDay": 19,
          "WeekDay": 0,
          "West": 7,
          "Year": 2012
         },
         {
          "Date2": "2012-10-23 00:00:00",
          "DateString": "10/23/2012 12:00:00 AM",
          "East": 3,
          "Hour": 0,
          "JulianDay": 20,
          "WeekDay": 1,
          "West": 3,
          "Year": 2012
         },
         {
          "Date2": "2012-10-23 01:00:00",
          "DateString": "10/23/2012 01:00:00 AM",
          "East": 1,
          "Hour": 1,
          "JulianDay": 20,
          "WeekDay": 1,
          "West": 1,
          "Year": 2012
         },
         {
          "Date2": "2012-10-23 02:00:00",
          "DateString": "10/23/2012 02:00:00 AM",
          "East": 1,
          "Hour": 2,
          "JulianDay": 20,
          "WeekDay": 1,
          "West": 2,
          "Year": 2012
         },
         {
          "Date2": "2012-10-23 03:00:00",
          "DateString": "10/23/2012 03:00:00 AM",
          "East": 1,
          "Hour": 3,
          "JulianDay": 20,
          "WeekDay": 1,
          "West": 0,
          "Year": 2012
         },
         {
          "Date2": "2012-10-23 04:00:00",
          "DateString": "10/23/2012 04:00:00 AM",
          "East": 6,
          "Hour": 4,
          "JulianDay": 20,
          "WeekDay": 1,
          "West": 5,
          "Year": 2012
         },
         {
          "Date2": "2012-10-23 05:00:00",
          "DateString": "10/23/2012 05:00:00 AM",
          "East": 8,
          "Hour": 5,
          "JulianDay": 20,
          "WeekDay": 1,
          "West": 27,
          "Year": 2012
         },
         {
          "Date2": "2012-10-23 06:00:00",
          "DateString": "10/23/2012 06:00:00 AM",
          "East": 33,
          "Hour": 6,
          "JulianDay": 20,
          "WeekDay": 1,
          "West": 79,
          "Year": 2012
         },
         {
          "Date2": "2012-10-23 07:00:00",
          "DateString": "10/23/2012 07:00:00 AM",
          "East": 67,
          "Hour": 7,
          "JulianDay": 20,
          "WeekDay": 1,
          "West": 169,
          "Year": 2012
         },
         {
          "Date2": "2012-10-23 08:00:00",
          "DateString": "10/23/2012 08:00:00 AM",
          "East": 105,
          "Hour": 8,
          "JulianDay": 20,
          "WeekDay": 1,
          "West": 238,
          "Year": 2012
         },
         {
          "Date2": "2012-10-23 09:00:00",
          "DateString": "10/23/2012 09:00:00 AM",
          "East": 58,
          "Hour": 9,
          "JulianDay": 20,
          "WeekDay": 1,
          "West": 110,
          "Year": 2012
         },
         {
          "Date2": "2012-10-23 10:00:00",
          "DateString": "10/23/2012 10:00:00 AM",
          "East": 31,
          "Hour": 10,
          "JulianDay": 20,
          "WeekDay": 1,
          "West": 48,
          "Year": 2012
         },
         {
          "Date2": "2012-10-23 11:00:00",
          "DateString": "10/23/2012 11:00:00 AM",
          "East": 25,
          "Hour": 11,
          "JulianDay": 20,
          "WeekDay": 1,
          "West": 27,
          "Year": 2012
         },
         {
          "Date2": "2012-10-23 12:00:00",
          "DateString": "10/23/2012 12:00:00 PM",
          "East": 35,
          "Hour": 12,
          "JulianDay": 20,
          "WeekDay": 1,
          "West": 33,
          "Year": 2012
         },
         {
          "Date2": "2012-10-23 13:00:00",
          "DateString": "10/23/2012 01:00:00 PM",
          "East": 23,
          "Hour": 13,
          "JulianDay": 20,
          "WeekDay": 1,
          "West": 36,
          "Year": 2012
         },
         {
          "Date2": "2012-10-23 14:00:00",
          "DateString": "10/23/2012 02:00:00 PM",
          "East": 38,
          "Hour": 14,
          "JulianDay": 20,
          "WeekDay": 1,
          "West": 38,
          "Year": 2012
         },
         {
          "Date2": "2012-10-23 15:00:00",
          "DateString": "10/23/2012 03:00:00 PM",
          "East": 49,
          "Hour": 15,
          "JulianDay": 20,
          "WeekDay": 1,
          "West": 51,
          "Year": 2012
         },
         {
          "Date2": "2012-10-23 16:00:00",
          "DateString": "10/23/2012 04:00:00 PM",
          "East": 114,
          "Hour": 16,
          "JulianDay": 20,
          "WeekDay": 1,
          "West": 76,
          "Year": 2012
         },
         {
          "Date2": "2012-10-23 17:00:00",
          "DateString": "10/23/2012 05:00:00 PM",
          "East": 299,
          "Hour": 17,
          "JulianDay": 20,
          "WeekDay": 1,
          "West": 135,
          "Year": 2012
         },
         {
          "Date2": "2012-10-23 18:00:00",
          "DateString": "10/23/2012 06:00:00 PM",
          "East": 194,
          "Hour": 18,
          "JulianDay": 20,
          "WeekDay": 1,
          "West": 76,
          "Year": 2012
         },
         {
          "Date2": "2012-10-23 19:00:00",
          "DateString": "10/23/2012 07:00:00 PM",
          "East": 67,
          "Hour": 19,
          "JulianDay": 20,
          "WeekDay": 1,
          "West": 37,
          "Year": 2012
         },
         {
          "Date2": "2012-10-23 20:00:00",
          "DateString": "10/23/2012 08:00:00 PM",
          "East": 38,
          "Hour": 20,
          "JulianDay": 20,
          "WeekDay": 1,
          "West": 21,
          "Year": 2012
         },
         {
          "Date2": "2012-10-23 21:00:00",
          "DateString": "10/23/2012 09:00:00 PM",
          "East": 26,
          "Hour": 21,
          "JulianDay": 20,
          "WeekDay": 1,
          "West": 24,
          "Year": 2012
         },
         {
          "Date2": "2012-10-23 22:00:00",
          "DateString": "10/23/2012 10:00:00 PM",
          "East": 10,
          "Hour": 22,
          "JulianDay": 20,
          "WeekDay": 1,
          "West": 11,
          "Year": 2012
         },
         {
          "Date2": "2012-10-23 23:00:00",
          "DateString": "10/23/2012 11:00:00 PM",
          "East": 5,
          "Hour": 23,
          "JulianDay": 20,
          "WeekDay": 1,
          "West": 16,
          "Year": 2012
         },
         {
          "Date2": "2012-10-24 00:00:00",
          "DateString": "10/24/2012 12:00:00 AM",
          "East": 8,
          "Hour": 0,
          "JulianDay": 21,
          "WeekDay": 2,
          "West": 3,
          "Year": 2012
         },
         {
          "Date2": "2012-10-24 01:00:00",
          "DateString": "10/24/2012 01:00:00 AM",
          "East": 9,
          "Hour": 1,
          "JulianDay": 21,
          "WeekDay": 2,
          "West": 2,
          "Year": 2012
         },
         {
          "Date2": "2012-10-24 02:00:00",
          "DateString": "10/24/2012 02:00:00 AM",
          "East": 2,
          "Hour": 2,
          "JulianDay": 21,
          "WeekDay": 2,
          "West": 7,
          "Year": 2012
         },
         {
          "Date2": "2012-10-24 03:00:00",
          "DateString": "10/24/2012 03:00:00 AM",
          "East": 3,
          "Hour": 3,
          "JulianDay": 21,
          "WeekDay": 2,
          "West": 1,
          "Year": 2012
         },
         {
          "Date2": "2012-10-24 04:00:00",
          "DateString": "10/24/2012 04:00:00 AM",
          "East": 3,
          "Hour": 4,
          "JulianDay": 21,
          "WeekDay": 2,
          "West": 2,
          "Year": 2012
         },
         {
          "Date2": "2012-10-24 05:00:00",
          "DateString": "10/24/2012 05:00:00 AM",
          "East": 9,
          "Hour": 5,
          "JulianDay": 21,
          "WeekDay": 2,
          "West": 16,
          "Year": 2012
         },
         {
          "Date2": "2012-10-24 06:00:00",
          "DateString": "10/24/2012 06:00:00 AM",
          "East": 39,
          "Hour": 6,
          "JulianDay": 21,
          "WeekDay": 2,
          "West": 79,
          "Year": 2012
         },
         {
          "Date2": "2012-10-24 07:00:00",
          "DateString": "10/24/2012 07:00:00 AM",
          "East": 67,
          "Hour": 7,
          "JulianDay": 21,
          "WeekDay": 2,
          "West": 158,
          "Year": 2012
         },
         {
          "Date2": "2012-10-24 08:00:00",
          "DateString": "10/24/2012 08:00:00 AM",
          "East": 89,
          "Hour": 8,
          "JulianDay": 21,
          "WeekDay": 2,
          "West": 224,
          "Year": 2012
         },
         {
          "Date2": "2012-10-24 09:00:00",
          "DateString": "10/24/2012 09:00:00 AM",
          "East": 64,
          "Hour": 9,
          "JulianDay": 21,
          "WeekDay": 2,
          "West": 108,
          "Year": 2012
         },
         {
          "Date2": "2012-10-24 10:00:00",
          "DateString": "10/24/2012 10:00:00 AM",
          "East": 38,
          "Hour": 10,
          "JulianDay": 21,
          "WeekDay": 2,
          "West": 40,
          "Year": 2012
         },
         {
          "Date2": "2012-10-24 11:00:00",
          "DateString": "10/24/2012 11:00:00 AM",
          "East": 14,
          "Hour": 11,
          "JulianDay": 21,
          "WeekDay": 2,
          "West": 35,
          "Year": 2012
         },
         {
          "Date2": "2012-10-24 12:00:00",
          "DateString": "10/24/2012 12:00:00 PM",
          "East": 15,
          "Hour": 12,
          "JulianDay": 21,
          "WeekDay": 2,
          "West": 20,
          "Year": 2012
         },
         {
          "Date2": "2012-10-24 13:00:00",
          "DateString": "10/24/2012 01:00:00 PM",
          "East": 28,
          "Hour": 13,
          "JulianDay": 21,
          "WeekDay": 2,
          "West": 38,
          "Year": 2012
         },
         {
          "Date2": "2012-10-24 14:00:00",
          "DateString": "10/24/2012 02:00:00 PM",
          "East": 32,
          "Hour": 14,
          "JulianDay": 21,
          "WeekDay": 2,
          "West": 46,
          "Year": 2012
         },
         {
          "Date2": "2012-10-24 15:00:00",
          "DateString": "10/24/2012 03:00:00 PM",
          "East": 61,
          "Hour": 15,
          "JulianDay": 21,
          "WeekDay": 2,
          "West": 40,
          "Year": 2012
         },
         {
          "Date2": "2012-10-24 16:00:00",
          "DateString": "10/24/2012 04:00:00 PM",
          "East": 104,
          "Hour": 16,
          "JulianDay": 21,
          "WeekDay": 2,
          "West": 88,
          "Year": 2012
         },
         {
          "Date2": "2012-10-24 17:00:00",
          "DateString": "10/24/2012 05:00:00 PM",
          "East": 261,
          "Hour": 17,
          "JulianDay": 21,
          "WeekDay": 2,
          "West": 138,
          "Year": 2012
         },
         {
          "Date2": "2012-10-24 18:00:00",
          "DateString": "10/24/2012 06:00:00 PM",
          "East": 165,
          "Hour": 18,
          "JulianDay": 21,
          "WeekDay": 2,
          "West": 100,
          "Year": 2012
         },
         {
          "Date2": "2012-10-24 19:00:00",
          "DateString": "10/24/2012 07:00:00 PM",
          "East": 79,
          "Hour": 19,
          "JulianDay": 21,
          "WeekDay": 2,
          "West": 38,
          "Year": 2012
         },
         {
          "Date2": "2012-10-24 20:00:00",
          "DateString": "10/24/2012 08:00:00 PM",
          "East": 35,
          "Hour": 20,
          "JulianDay": 21,
          "WeekDay": 2,
          "West": 27,
          "Year": 2012
         },
         {
          "Date2": "2012-10-24 21:00:00",
          "DateString": "10/24/2012 09:00:00 PM",
          "East": 26,
          "Hour": 21,
          "JulianDay": 21,
          "WeekDay": 2,
          "West": 20,
          "Year": 2012
         },
         {
          "Date2": "2012-10-24 22:00:00",
          "DateString": "10/24/2012 10:00:00 PM",
          "East": 21,
          "Hour": 22,
          "JulianDay": 21,
          "WeekDay": 2,
          "West": 12,
          "Year": 2012
         },
         {
          "Date2": "2012-10-24 23:00:00",
          "DateString": "10/24/2012 11:00:00 PM",
          "East": 7,
          "Hour": 23,
          "JulianDay": 21,
          "WeekDay": 2,
          "West": 8,
          "Year": 2012
         },
         {
          "Date2": "2012-10-25 00:00:00",
          "DateString": "10/25/2012 12:00:00 AM",
          "East": 1,
          "Hour": 0,
          "JulianDay": 22,
          "WeekDay": 3,
          "West": 2,
          "Year": 2012
         },
         {
          "Date2": "2012-10-25 01:00:00",
          "DateString": "10/25/2012 01:00:00 AM",
          "East": 5,
          "Hour": 1,
          "JulianDay": 22,
          "WeekDay": 3,
          "West": 1,
          "Year": 2012
         },
         {
          "Date2": "2012-10-25 02:00:00",
          "DateString": "10/25/2012 02:00:00 AM",
          "East": 1,
          "Hour": 2,
          "JulianDay": 22,
          "WeekDay": 3,
          "West": 2,
          "Year": 2012
         },
         {
          "Date2": "2012-10-25 03:00:00",
          "DateString": "10/25/2012 03:00:00 AM",
          "East": 2,
          "Hour": 3,
          "JulianDay": 22,
          "WeekDay": 3,
          "West": 1,
          "Year": 2012
         },
         {
          "Date2": "2012-10-25 04:00:00",
          "DateString": "10/25/2012 04:00:00 AM",
          "East": 1,
          "Hour": 4,
          "JulianDay": 22,
          "WeekDay": 3,
          "West": 4,
          "Year": 2012
         },
         {
          "Date2": "2012-10-25 05:00:00",
          "DateString": "10/25/2012 05:00:00 AM",
          "East": 14,
          "Hour": 5,
          "JulianDay": 22,
          "WeekDay": 3,
          "West": 19,
          "Year": 2012
         },
         {
          "Date2": "2012-10-25 06:00:00",
          "DateString": "10/25/2012 06:00:00 AM",
          "East": 38,
          "Hour": 6,
          "JulianDay": 22,
          "WeekDay": 3,
          "West": 81,
          "Year": 2012
         },
         {
          "Date2": "2012-10-25 07:00:00",
          "DateString": "10/25/2012 07:00:00 AM",
          "East": 60,
          "Hour": 7,
          "JulianDay": 22,
          "WeekDay": 3,
          "West": 184,
          "Year": 2012
         },
         {
          "Date2": "2012-10-25 08:00:00",
          "DateString": "10/25/2012 08:00:00 AM",
          "East": 114,
          "Hour": 8,
          "JulianDay": 22,
          "WeekDay": 3,
          "West": 227,
          "Year": 2012
         },
         {
          "Date2": "2012-10-25 09:00:00",
          "DateString": "10/25/2012 09:00:00 AM",
          "East": 69,
          "Hour": 9,
          "JulianDay": 22,
          "WeekDay": 3,
          "West": 133,
          "Year": 2012
         },
         {
          "Date2": "2012-10-25 10:00:00",
          "DateString": "10/25/2012 10:00:00 AM",
          "East": 23,
          "Hour": 10,
          "JulianDay": 22,
          "WeekDay": 3,
          "West": 60,
          "Year": 2012
         },
         {
          "Date2": "2012-10-25 11:00:00",
          "DateString": "10/25/2012 11:00:00 AM",
          "East": 26,
          "Hour": 11,
          "JulianDay": 22,
          "WeekDay": 3,
          "West": 29,
          "Year": 2012
         },
         {
          "Date2": "2012-10-25 12:00:00",
          "DateString": "10/25/2012 12:00:00 PM",
          "East": 35,
          "Hour": 12,
          "JulianDay": 22,
          "WeekDay": 3,
          "West": 39,
          "Year": 2012
         },
         {
          "Date2": "2012-10-25 13:00:00",
          "DateString": "10/25/2012 01:00:00 PM",
          "East": 38,
          "Hour": 13,
          "JulianDay": 22,
          "WeekDay": 3,
          "West": 42,
          "Year": 2012
         },
         {
          "Date2": "2012-10-25 14:00:00",
          "DateString": "10/25/2012 02:00:00 PM",
          "East": 38,
          "Hour": 14,
          "JulianDay": 22,
          "WeekDay": 3,
          "West": 52,
          "Year": 2012
         },
         {
          "Date2": "2012-10-25 15:00:00",
          "DateString": "10/25/2012 03:00:00 PM",
          "East": 86,
          "Hour": 15,
          "JulianDay": 22,
          "WeekDay": 3,
          "West": 60,
          "Year": 2012
         },
         {
          "Date2": "2012-10-25 16:00:00",
          "DateString": "10/25/2012 04:00:00 PM",
          "East": 138,
          "Hour": 16,
          "JulianDay": 22,
          "WeekDay": 3,
          "West": 93,
          "Year": 2012
         },
         {
          "Date2": "2012-10-25 17:00:00",
          "DateString": "10/25/2012 05:00:00 PM",
          "East": 295,
          "Hour": 17,
          "JulianDay": 22,
          "WeekDay": 3,
          "West": 130,
          "Year": 2012
         },
         {
          "Date2": "2012-10-25 18:00:00",
          "DateString": "10/25/2012 06:00:00 PM",
          "East": 193,
          "Hour": 18,
          "JulianDay": 22,
          "WeekDay": 3,
          "West": 79,
          "Year": 2012
         },
         {
          "Date2": "2012-10-25 19:00:00",
          "DateString": "10/25/2012 07:00:00 PM",
          "East": 61,
          "Hour": 19,
          "JulianDay": 22,
          "WeekDay": 3,
          "West": 47,
          "Year": 2012
         },
         {
          "Date2": "2012-10-25 20:00:00",
          "DateString": "10/25/2012 08:00:00 PM",
          "East": 49,
          "Hour": 20,
          "JulianDay": 22,
          "WeekDay": 3,
          "West": 30,
          "Year": 2012
         },
         {
          "Date2": "2012-10-25 21:00:00",
          "DateString": "10/25/2012 09:00:00 PM",
          "East": 34,
          "Hour": 21,
          "JulianDay": 22,
          "WeekDay": 3,
          "West": 21,
          "Year": 2012
         },
         {
          "Date2": "2012-10-25 22:00:00",
          "DateString": "10/25/2012 10:00:00 PM",
          "East": 19,
          "Hour": 22,
          "JulianDay": 22,
          "WeekDay": 3,
          "West": 9,
          "Year": 2012
         },
         {
          "Date2": "2012-10-25 23:00:00",
          "DateString": "10/25/2012 11:00:00 PM",
          "East": 12,
          "Hour": 23,
          "JulianDay": 22,
          "WeekDay": 3,
          "West": 16,
          "Year": 2012
         },
         {
          "Date2": "2012-10-26 00:00:00",
          "DateString": "10/26/2012 12:00:00 AM",
          "East": 8,
          "Hour": 0,
          "JulianDay": 23,
          "WeekDay": 4,
          "West": 11,
          "Year": 2012
         },
         {
          "Date2": "2012-10-26 01:00:00",
          "DateString": "10/26/2012 01:00:00 AM",
          "East": 7,
          "Hour": 1,
          "JulianDay": 23,
          "WeekDay": 4,
          "West": 9,
          "Year": 2012
         },
         {
          "Date2": "2012-10-26 02:00:00",
          "DateString": "10/26/2012 02:00:00 AM",
          "East": 1,
          "Hour": 2,
          "JulianDay": 23,
          "WeekDay": 4,
          "West": 3,
          "Year": 2012
         },
         {
          "Date2": "2012-10-26 03:00:00",
          "DateString": "10/26/2012 03:00:00 AM",
          "East": 1,
          "Hour": 3,
          "JulianDay": 23,
          "WeekDay": 4,
          "West": 0,
          "Year": 2012
         },
         {
          "Date2": "2012-10-26 04:00:00",
          "DateString": "10/26/2012 04:00:00 AM",
          "East": 6,
          "Hour": 4,
          "JulianDay": 23,
          "WeekDay": 4,
          "West": 4,
          "Year": 2012
         },
         {
          "Date2": "2012-10-26 05:00:00",
          "DateString": "10/26/2012 05:00:00 AM",
          "East": 9,
          "Hour": 5,
          "JulianDay": 23,
          "WeekDay": 4,
          "West": 12,
          "Year": 2012
         },
         {
          "Date2": "2012-10-26 06:00:00",
          "DateString": "10/26/2012 06:00:00 AM",
          "East": 32,
          "Hour": 6,
          "JulianDay": 23,
          "WeekDay": 4,
          "West": 55,
          "Year": 2012
         },
         {
          "Date2": "2012-10-26 07:00:00",
          "DateString": "10/26/2012 07:00:00 AM",
          "East": 66,
          "Hour": 7,
          "JulianDay": 23,
          "WeekDay": 4,
          "West": 137,
          "Year": 2012
         },
         {
          "Date2": "2012-10-26 08:00:00",
          "DateString": "10/26/2012 08:00:00 AM",
          "East": 96,
          "Hour": 8,
          "JulianDay": 23,
          "WeekDay": 4,
          "West": 187,
          "Year": 2012
         },
         {
          "Date2": "2012-10-26 09:00:00",
          "DateString": "10/26/2012 09:00:00 AM",
          "East": 55,
          "Hour": 9,
          "JulianDay": 23,
          "WeekDay": 4,
          "West": 116,
          "Year": 2012
         },
         {
          "Date2": "2012-10-26 10:00:00",
          "DateString": "10/26/2012 10:00:00 AM",
          "East": 27,
          "Hour": 10,
          "JulianDay": 23,
          "WeekDay": 4,
          "West": 59,
          "Year": 2012
         },
         {
          "Date2": "2012-10-26 11:00:00",
          "DateString": "10/26/2012 11:00:00 AM",
          "East": 22,
          "Hour": 11,
          "JulianDay": 23,
          "WeekDay": 4,
          "West": 28,
          "Year": 2012
         },
         {
          "Date2": "2012-10-26 12:00:00",
          "DateString": "10/26/2012 12:00:00 PM",
          "East": 20,
          "Hour": 12,
          "JulianDay": 23,
          "WeekDay": 4,
          "West": 22,
          "Year": 2012
         },
         {
          "Date2": "2012-10-26 13:00:00",
          "DateString": "10/26/2012 01:00:00 PM",
          "East": 27,
          "Hour": 13,
          "JulianDay": 23,
          "WeekDay": 4,
          "West": 13,
          "Year": 2012
         },
         {
          "Date2": "2012-10-26 14:00:00",
          "DateString": "10/26/2012 02:00:00 PM",
          "East": 33,
          "Hour": 14,
          "JulianDay": 23,
          "WeekDay": 4,
          "West": 26,
          "Year": 2012
         },
         {
          "Date2": "2012-10-26 15:00:00",
          "DateString": "10/26/2012 03:00:00 PM",
          "East": 67,
          "Hour": 15,
          "JulianDay": 23,
          "WeekDay": 4,
          "West": 49,
          "Year": 2012
         },
         {
          "Date2": "2012-10-26 16:00:00",
          "DateString": "10/26/2012 04:00:00 PM",
          "East": 108,
          "Hour": 16,
          "JulianDay": 23,
          "WeekDay": 4,
          "West": 90,
          "Year": 2012
         },
         {
          "Date2": "2012-10-26 17:00:00",
          "DateString": "10/26/2012 05:00:00 PM",
          "East": 204,
          "Hour": 17,
          "JulianDay": 23,
          "WeekDay": 4,
          "West": 94,
          "Year": 2012
         },
         {
          "Date2": "2012-10-26 18:00:00",
          "DateString": "10/26/2012 06:00:00 PM",
          "East": 131,
          "Hour": 18,
          "JulianDay": 23,
          "WeekDay": 4,
          "West": 65,
          "Year": 2012
         },
         {
          "Date2": "2012-10-26 19:00:00",
          "DateString": "10/26/2012 07:00:00 PM",
          "East": 43,
          "Hour": 19,
          "JulianDay": 23,
          "WeekDay": 4,
          "West": 22,
          "Year": 2012
         },
         {
          "Date2": "2012-10-26 20:00:00",
          "DateString": "10/26/2012 08:00:00 PM",
          "East": 28,
          "Hour": 20,
          "JulianDay": 23,
          "WeekDay": 4,
          "West": 14,
          "Year": 2012
         },
         {
          "Date2": "2012-10-26 21:00:00",
          "DateString": "10/26/2012 09:00:00 PM",
          "East": 24,
          "Hour": 21,
          "JulianDay": 23,
          "WeekDay": 4,
          "West": 9,
          "Year": 2012
         },
         {
          "Date2": "2012-10-26 22:00:00",
          "DateString": "10/26/2012 10:00:00 PM",
          "East": 9,
          "Hour": 22,
          "JulianDay": 23,
          "WeekDay": 4,
          "West": 6,
          "Year": 2012
         },
         {
          "Date2": "2012-10-26 23:00:00",
          "DateString": "10/26/2012 11:00:00 PM",
          "East": 10,
          "Hour": 23,
          "JulianDay": 23,
          "WeekDay": 4,
          "West": 8,
          "Year": 2012
         },
         {
          "Date2": "2012-10-27 00:00:00",
          "DateString": "10/27/2012 12:00:00 AM",
          "East": 6,
          "Hour": 0,
          "JulianDay": 24,
          "WeekDay": 5,
          "West": 6,
          "Year": 2012
         },
         {
          "Date2": "2012-10-27 01:00:00",
          "DateString": "10/27/2012 01:00:00 AM",
          "East": 3,
          "Hour": 1,
          "JulianDay": 24,
          "WeekDay": 5,
          "West": 6,
          "Year": 2012
         },
         {
          "Date2": "2012-10-27 02:00:00",
          "DateString": "10/27/2012 02:00:00 AM",
          "East": 10,
          "Hour": 2,
          "JulianDay": 24,
          "WeekDay": 5,
          "West": 6,
          "Year": 2012
         },
         {
          "Date2": "2012-10-27 03:00:00",
          "DateString": "10/27/2012 03:00:00 AM",
          "East": 1,
          "Hour": 3,
          "JulianDay": 24,
          "WeekDay": 5,
          "West": 1,
          "Year": 2012
         },
         {
          "Date2": "2012-10-27 04:00:00",
          "DateString": "10/27/2012 04:00:00 AM",
          "East": 3,
          "Hour": 4,
          "JulianDay": 24,
          "WeekDay": 5,
          "West": 2,
          "Year": 2012
         },
         {
          "Date2": "2012-10-27 05:00:00",
          "DateString": "10/27/2012 05:00:00 AM",
          "East": 6,
          "Hour": 5,
          "JulianDay": 24,
          "WeekDay": 5,
          "West": 7,
          "Year": 2012
         },
         {
          "Date2": "2012-10-27 06:00:00",
          "DateString": "10/27/2012 06:00:00 AM",
          "East": 6,
          "Hour": 6,
          "JulianDay": 24,
          "WeekDay": 5,
          "West": 7,
          "Year": 2012
         },
         {
          "Date2": "2012-10-27 07:00:00",
          "DateString": "10/27/2012 07:00:00 AM",
          "East": 6,
          "Hour": 7,
          "JulianDay": 24,
          "WeekDay": 5,
          "West": 9,
          "Year": 2012
         },
         {
          "Date2": "2012-10-27 08:00:00",
          "DateString": "10/27/2012 08:00:00 AM",
          "East": 13,
          "Hour": 8,
          "JulianDay": 24,
          "WeekDay": 5,
          "West": 12,
          "Year": 2012
         },
         {
          "Date2": "2012-10-27 09:00:00",
          "DateString": "10/27/2012 09:00:00 AM",
          "East": 11,
          "Hour": 9,
          "JulianDay": 24,
          "WeekDay": 5,
          "West": 14,
          "Year": 2012
         },
         {
          "Date2": "2012-10-27 10:00:00",
          "DateString": "10/27/2012 10:00:00 AM",
          "East": 11,
          "Hour": 10,
          "JulianDay": 24,
          "WeekDay": 5,
          "West": 10,
          "Year": 2012
         },
         {
          "Date2": "2012-10-27 11:00:00",
          "DateString": "10/27/2012 11:00:00 AM",
          "East": 9,
          "Hour": 11,
          "JulianDay": 24,
          "WeekDay": 5,
          "West": 22,
          "Year": 2012
         },
         {
          "Date2": "2012-10-27 12:00:00",
          "DateString": "10/27/2012 12:00:00 PM",
          "East": 12,
          "Hour": 12,
          "JulianDay": 24,
          "WeekDay": 5,
          "West": 13,
          "Year": 2012
         },
         {
          "Date2": "2012-10-27 13:00:00",
          "DateString": "10/27/2012 01:00:00 PM",
          "East": 13,
          "Hour": 13,
          "JulianDay": 24,
          "WeekDay": 5,
          "West": 28,
          "Year": 2012
         },
         {
          "Date2": "2012-10-27 14:00:00",
          "DateString": "10/27/2012 02:00:00 PM",
          "East": 28,
          "Hour": 14,
          "JulianDay": 24,
          "WeekDay": 5,
          "West": 23,
          "Year": 2012
         },
         {
          "Date2": "2012-10-27 15:00:00",
          "DateString": "10/27/2012 03:00:00 PM",
          "East": 21,
          "Hour": 15,
          "JulianDay": 24,
          "WeekDay": 5,
          "West": 30,
          "Year": 2012
         },
         {
          "Date2": "2012-10-27 16:00:00",
          "DateString": "10/27/2012 04:00:00 PM",
          "East": 32,
          "Hour": 16,
          "JulianDay": 24,
          "WeekDay": 5,
          "West": 27,
          "Year": 2012
         },
         {
          "Date2": "2012-10-27 17:00:00",
          "DateString": "10/27/2012 05:00:00 PM",
          "East": 10,
          "Hour": 17,
          "JulianDay": 24,
          "WeekDay": 5,
          "West": 26,
          "Year": 2012
         },
         {
          "Date2": "2012-10-27 18:00:00",
          "DateString": "10/27/2012 06:00:00 PM",
          "East": 7,
          "Hour": 18,
          "JulianDay": 24,
          "WeekDay": 5,
          "West": 11,
          "Year": 2012
         },
         {
          "Date2": "2012-10-27 19:00:00",
          "DateString": "10/27/2012 07:00:00 PM",
          "East": 7,
          "Hour": 19,
          "JulianDay": 24,
          "WeekDay": 5,
          "West": 8,
          "Year": 2012
         },
         {
          "Date2": "2012-10-27 20:00:00",
          "DateString": "10/27/2012 08:00:00 PM",
          "East": 3,
          "Hour": 20,
          "JulianDay": 24,
          "WeekDay": 5,
          "West": 5,
          "Year": 2012
         },
         {
          "Date2": "2012-10-27 21:00:00",
          "DateString": "10/27/2012 09:00:00 PM",
          "East": 11,
          "Hour": 21,
          "JulianDay": 24,
          "WeekDay": 5,
          "West": 6,
          "Year": 2012
         },
         {
          "Date2": "2012-10-27 22:00:00",
          "DateString": "10/27/2012 10:00:00 PM",
          "East": 5,
          "Hour": 22,
          "JulianDay": 24,
          "WeekDay": 5,
          "West": 7,
          "Year": 2012
         },
         {
          "Date2": "2012-10-27 23:00:00",
          "DateString": "10/27/2012 11:00:00 PM",
          "East": 8,
          "Hour": 23,
          "JulianDay": 24,
          "WeekDay": 5,
          "West": 3,
          "Year": 2012
         },
         {
          "Date2": "2012-10-28 00:00:00",
          "DateString": "10/28/2012 12:00:00 AM",
          "East": 5,
          "Hour": 0,
          "JulianDay": 25,
          "WeekDay": 6,
          "West": 5,
          "Year": 2012
         },
         {
          "Date2": "2012-10-28 01:00:00",
          "DateString": "10/28/2012 01:00:00 AM",
          "East": 11,
          "Hour": 1,
          "JulianDay": 25,
          "WeekDay": 6,
          "West": 0,
          "Year": 2012
         },
         {
          "Date2": "2012-10-28 02:00:00",
          "DateString": "10/28/2012 02:00:00 AM",
          "East": 3,
          "Hour": 2,
          "JulianDay": 25,
          "WeekDay": 6,
          "West": 4,
          "Year": 2012
         },
         {
          "Date2": "2012-10-28 03:00:00",
          "DateString": "10/28/2012 03:00:00 AM",
          "East": 3,
          "Hour": 3,
          "JulianDay": 25,
          "WeekDay": 6,
          "West": 1,
          "Year": 2012
         },
         {
          "Date2": "2012-10-28 04:00:00",
          "DateString": "10/28/2012 04:00:00 AM",
          "East": 1,
          "Hour": 4,
          "JulianDay": 25,
          "WeekDay": 6,
          "West": 2,
          "Year": 2012
         },
         {
          "Date2": "2012-10-28 05:00:00",
          "DateString": "10/28/2012 05:00:00 AM",
          "East": 1,
          "Hour": 5,
          "JulianDay": 25,
          "WeekDay": 6,
          "West": 5,
          "Year": 2012
         },
         {
          "Date2": "2012-10-28 06:00:00",
          "DateString": "10/28/2012 06:00:00 AM",
          "East": 9,
          "Hour": 6,
          "JulianDay": 25,
          "WeekDay": 6,
          "West": 1,
          "Year": 2012
         },
         {
          "Date2": "2012-10-28 07:00:00",
          "DateString": "10/28/2012 07:00:00 AM",
          "East": 6,
          "Hour": 7,
          "JulianDay": 25,
          "WeekDay": 6,
          "West": 11,
          "Year": 2012
         },
         {
          "Date2": "2012-10-28 08:00:00",
          "DateString": "10/28/2012 08:00:00 AM",
          "East": 15,
          "Hour": 8,
          "JulianDay": 25,
          "WeekDay": 6,
          "West": 16,
          "Year": 2012
         },
         {
          "Date2": "2012-10-28 09:00:00",
          "DateString": "10/28/2012 09:00:00 AM",
          "East": 24,
          "Hour": 9,
          "JulianDay": 25,
          "WeekDay": 6,
          "West": 18,
          "Year": 2012
         },
         {
          "Date2": "2012-10-28 10:00:00",
          "DateString": "10/28/2012 10:00:00 AM",
          "East": 24,
          "Hour": 10,
          "JulianDay": 25,
          "WeekDay": 6,
          "West": 29,
          "Year": 2012
         },
         {
          "Date2": "2012-10-28 11:00:00",
          "DateString": "10/28/2012 11:00:00 AM",
          "East": 31,
          "Hour": 11,
          "JulianDay": 25,
          "WeekDay": 6,
          "West": 47,
          "Year": 2012
         },
         {
          "Date2": "2012-10-28 12:00:00",
          "DateString": "10/28/2012 12:00:00 PM",
          "East": 42,
          "Hour": 12,
          "JulianDay": 25,
          "WeekDay": 6,
          "West": 73,
          "Year": 2012
         },
         {
          "Date2": "2012-10-28 13:00:00",
          "DateString": "10/28/2012 01:00:00 PM",
          "East": 51,
          "Hour": 13,
          "JulianDay": 25,
          "WeekDay": 6,
          "West": 74,
          "Year": 2012
         },
         {
          "Date2": "2012-10-28 14:00:00",
          "DateString": "10/28/2012 02:00:00 PM",
          "East": 49,
          "Hour": 14,
          "JulianDay": 25,
          "WeekDay": 6,
          "West": 89,
          "Year": 2012
         },
         {
          "Date2": "2012-10-28 15:00:00",
          "DateString": "10/28/2012 03:00:00 PM",
          "East": 46,
          "Hour": 15,
          "JulianDay": 25,
          "WeekDay": 6,
          "West": 74,
          "Year": 2012
         },
         {
          "Date2": "2012-10-28 16:00:00",
          "DateString": "10/28/2012 04:00:00 PM",
          "East": 40,
          "Hour": 16,
          "JulianDay": 25,
          "WeekDay": 6,
          "West": 59,
          "Year": 2012
         },
         {
          "Date2": "2012-10-28 17:00:00",
          "DateString": "10/28/2012 05:00:00 PM",
          "East": 39,
          "Hour": 17,
          "JulianDay": 25,
          "WeekDay": 6,
          "West": 50,
          "Year": 2012
         },
         {
          "Date2": "2012-10-28 18:00:00",
          "DateString": "10/28/2012 06:00:00 PM",
          "East": 13,
          "Hour": 18,
          "JulianDay": 25,
          "WeekDay": 6,
          "West": 21,
          "Year": 2012
         },
         {
          "Date2": "2012-10-28 19:00:00",
          "DateString": "10/28/2012 07:00:00 PM",
          "East": 11,
          "Hour": 19,
          "JulianDay": 25,
          "WeekDay": 6,
          "West": 10,
          "Year": 2012
         },
         {
          "Date2": "2012-10-28 20:00:00",
          "DateString": "10/28/2012 08:00:00 PM",
          "East": 9,
          "Hour": 20,
          "JulianDay": 25,
          "WeekDay": 6,
          "West": 8,
          "Year": 2012
         },
         {
          "Date2": "2012-10-28 21:00:00",
          "DateString": "10/28/2012 09:00:00 PM",
          "East": 7,
          "Hour": 21,
          "JulianDay": 25,
          "WeekDay": 6,
          "West": 5,
          "Year": 2012
         },
         {
          "Date2": "2012-10-28 22:00:00",
          "DateString": "10/28/2012 10:00:00 PM",
          "East": 6,
          "Hour": 22,
          "JulianDay": 25,
          "WeekDay": 6,
          "West": 8,
          "Year": 2012
         },
         {
          "Date2": "2012-10-28 23:00:00",
          "DateString": "10/28/2012 11:00:00 PM",
          "East": 5,
          "Hour": 23,
          "JulianDay": 25,
          "WeekDay": 6,
          "West": 1,
          "Year": 2012
         },
         {
          "Date2": "2012-10-29 00:00:00",
          "DateString": "10/29/2012 12:00:00 AM",
          "East": 7,
          "Hour": 0,
          "JulianDay": 26,
          "WeekDay": 0,
          "West": 4,
          "Year": 2012
         },
         {
          "Date2": "2012-10-29 01:00:00",
          "DateString": "10/29/2012 01:00:00 AM",
          "East": 1,
          "Hour": 1,
          "JulianDay": 26,
          "WeekDay": 0,
          "West": 0,
          "Year": 2012
         },
         {
          "Date2": "2012-10-29 02:00:00",
          "DateString": "10/29/2012 02:00:00 AM",
          "East": 1,
          "Hour": 2,
          "JulianDay": 26,
          "WeekDay": 0,
          "West": 2,
          "Year": 2012
         },
         {
          "Date2": "2012-10-29 03:00:00",
          "DateString": "10/29/2012 03:00:00 AM",
          "East": 2,
          "Hour": 3,
          "JulianDay": 26,
          "WeekDay": 0,
          "West": 0,
          "Year": 2012
         },
         {
          "Date2": "2012-10-29 04:00:00",
          "DateString": "10/29/2012 04:00:00 AM",
          "East": 3,
          "Hour": 4,
          "JulianDay": 26,
          "WeekDay": 0,
          "West": 2,
          "Year": 2012
         },
         {
          "Date2": "2012-10-29 05:00:00",
          "DateString": "10/29/2012 05:00:00 AM",
          "East": 5,
          "Hour": 5,
          "JulianDay": 26,
          "WeekDay": 0,
          "West": 17,
          "Year": 2012
         },
         {
          "Date2": "2012-10-29 06:00:00",
          "DateString": "10/29/2012 06:00:00 AM",
          "East": 30,
          "Hour": 6,
          "JulianDay": 26,
          "WeekDay": 0,
          "West": 65,
          "Year": 2012
         },
         {
          "Date2": "2012-10-29 07:00:00",
          "DateString": "10/29/2012 07:00:00 AM",
          "East": 53,
          "Hour": 7,
          "JulianDay": 26,
          "WeekDay": 0,
          "West": 161,
          "Year": 2012
         },
         {
          "Date2": "2012-10-29 08:00:00",
          "DateString": "10/29/2012 08:00:00 AM",
          "East": 87,
          "Hour": 8,
          "JulianDay": 26,
          "WeekDay": 0,
          "West": 187,
          "Year": 2012
         },
         {
          "Date2": "2012-10-29 09:00:00",
          "DateString": "10/29/2012 09:00:00 AM",
          "East": 51,
          "Hour": 9,
          "JulianDay": 26,
          "WeekDay": 0,
          "West": 101,
          "Year": 2012
         },
         {
          "Date2": "2012-10-29 10:00:00",
          "DateString": "10/29/2012 10:00:00 AM",
          "East": 36,
          "Hour": 10,
          "JulianDay": 26,
          "WeekDay": 0,
          "West": 37,
          "Year": 2012
         },
         {
          "Date2": "2012-10-29 11:00:00",
          "DateString": "10/29/2012 11:00:00 AM",
          "East": 29,
          "Hour": 11,
          "JulianDay": 26,
          "WeekDay": 0,
          "West": 26,
          "Year": 2012
         },
         {
          "Date2": "2012-10-29 12:00:00",
          "DateString": "10/29/2012 12:00:00 PM",
          "East": 21,
          "Hour": 12,
          "JulianDay": 26,
          "WeekDay": 0,
          "West": 36,
          "Year": 2012
         },
         {
          "Date2": "2012-10-29 13:00:00",
          "DateString": "10/29/2012 01:00:00 PM",
          "East": 23,
          "Hour": 13,
          "JulianDay": 26,
          "WeekDay": 0,
          "West": 40,
          "Year": 2012
         },
         {
          "Date2": "2012-10-29 14:00:00",
          "DateString": "10/29/2012 02:00:00 PM",
          "East": 34,
          "Hour": 14,
          "JulianDay": 26,
          "WeekDay": 0,
          "West": 48,
          "Year": 2012
         },
         {
          "Date2": "2012-10-29 15:00:00",
          "DateString": "10/29/2012 03:00:00 PM",
          "East": 53,
          "Hour": 15,
          "JulianDay": 26,
          "WeekDay": 0,
          "West": 36,
          "Year": 2012
         },
         {
          "Date2": "2012-10-29 16:00:00",
          "DateString": "10/29/2012 04:00:00 PM",
          "East": 85,
          "Hour": 16,
          "JulianDay": 26,
          "WeekDay": 0,
          "West": 92,
          "Year": 2012
         },
         {
          "Date2": "2012-10-29 17:00:00",
          "DateString": "10/29/2012 05:00:00 PM",
          "East": 247,
          "Hour": 17,
          "JulianDay": 26,
          "WeekDay": 0,
          "West": 129,
          "Year": 2012
         },
         {
          "Date2": "2012-10-29 18:00:00",
          "DateString": "10/29/2012 06:00:00 PM",
          "East": 164,
          "Hour": 18,
          "JulianDay": 26,
          "WeekDay": 0,
          "West": 82,
          "Year": 2012
         },
         {
          "Date2": "2012-10-29 19:00:00",
          "DateString": "10/29/2012 07:00:00 PM",
          "East": 58,
          "Hour": 19,
          "JulianDay": 26,
          "WeekDay": 0,
          "West": 35,
          "Year": 2012
         },
         {
          "Date2": "2012-10-29 20:00:00",
          "DateString": "10/29/2012 08:00:00 PM",
          "East": 36,
          "Hour": 20,
          "JulianDay": 26,
          "WeekDay": 0,
          "West": 19,
          "Year": 2012
         },
         {
          "Date2": "2012-10-29 21:00:00",
          "DateString": "10/29/2012 09:00:00 PM",
          "East": 27,
          "Hour": 21,
          "JulianDay": 26,
          "WeekDay": 0,
          "West": 13,
          "Year": 2012
         },
         {
          "Date2": "2012-10-29 22:00:00",
          "DateString": "10/29/2012 10:00:00 PM",
          "East": 9,
          "Hour": 22,
          "JulianDay": 26,
          "WeekDay": 0,
          "West": 6,
          "Year": 2012
         },
         {
          "Date2": "2012-10-29 23:00:00",
          "DateString": "10/29/2012 11:00:00 PM",
          "East": 9,
          "Hour": 23,
          "JulianDay": 26,
          "WeekDay": 0,
          "West": 8,
          "Year": 2012
         },
         {
          "Date2": "2012-10-30 00:00:00",
          "DateString": "10/30/2012 12:00:00 AM",
          "East": 7,
          "Hour": 0,
          "JulianDay": 27,
          "WeekDay": 1,
          "West": 8,
          "Year": 2012
         },
         {
          "Date2": "2012-10-30 01:00:00",
          "DateString": "10/30/2012 01:00:00 AM",
          "East": 0,
          "Hour": 1,
          "JulianDay": 27,
          "WeekDay": 1,
          "West": 1,
          "Year": 2012
         },
         {
          "Date2": "2012-10-30 02:00:00",
          "DateString": "10/30/2012 02:00:00 AM",
          "East": 1,
          "Hour": 2,
          "JulianDay": 27,
          "WeekDay": 1,
          "West": 4,
          "Year": 2012
         },
         {
          "Date2": "2012-10-30 03:00:00",
          "DateString": "10/30/2012 03:00:00 AM",
          "East": 2,
          "Hour": 3,
          "JulianDay": 27,
          "WeekDay": 1,
          "West": 1,
          "Year": 2012
         },
         {
          "Date2": "2012-10-30 04:00:00",
          "DateString": "10/30/2012 04:00:00 AM",
          "East": 3,
          "Hour": 4,
          "JulianDay": 27,
          "WeekDay": 1,
          "West": 3,
          "Year": 2012
         },
         {
          "Date2": "2012-10-30 05:00:00",
          "DateString": "10/30/2012 05:00:00 AM",
          "East": 6,
          "Hour": 5,
          "JulianDay": 27,
          "WeekDay": 1,
          "West": 18,
          "Year": 2012
         },
         {
          "Date2": "2012-10-30 06:00:00",
          "DateString": "10/30/2012 06:00:00 AM",
          "East": 23,
          "Hour": 6,
          "JulianDay": 27,
          "WeekDay": 1,
          "West": 59,
          "Year": 2012
         },
         {
          "Date2": "2012-10-30 07:00:00",
          "DateString": "10/30/2012 07:00:00 AM",
          "East": 49,
          "Hour": 7,
          "JulianDay": 27,
          "WeekDay": 1,
          "West": 151,
          "Year": 2012
         },
         {
          "Date2": "2012-10-30 08:00:00",
          "DateString": "10/30/2012 08:00:00 AM",
          "East": 75,
          "Hour": 8,
          "JulianDay": 27,
          "WeekDay": 1,
          "West": 185,
          "Year": 2012
         },
         {
          "Date2": "2012-10-30 09:00:00",
          "DateString": "10/30/2012 09:00:00 AM",
          "East": 53,
          "Hour": 9,
          "JulianDay": 27,
          "WeekDay": 1,
          "West": 88,
          "Year": 2012
         },
         {
          "Date2": "2012-10-30 10:00:00",
          "DateString": "10/30/2012 10:00:00 AM",
          "East": 23,
          "Hour": 10,
          "JulianDay": 27,
          "WeekDay": 1,
          "West": 33,
          "Year": 2012
         },
         {
          "Date2": "2012-10-30 11:00:00",
          "DateString": "10/30/2012 11:00:00 AM",
          "East": 13,
          "Hour": 11,
          "JulianDay": 27,
          "WeekDay": 1,
          "West": 22,
          "Year": 2012
         },
         {
          "Date2": "2012-10-30 12:00:00",
          "DateString": "10/30/2012 12:00:00 PM",
          "East": 13,
          "Hour": 12,
          "JulianDay": 27,
          "WeekDay": 1,
          "West": 17,
          "Year": 2012
         },
         {
          "Date2": "2012-10-30 13:00:00",
          "DateString": "10/30/2012 01:00:00 PM",
          "East": 14,
          "Hour": 13,
          "JulianDay": 27,
          "WeekDay": 1,
          "West": 27,
          "Year": 2012
         },
         {
          "Date2": "2012-10-30 14:00:00",
          "DateString": "10/30/2012 02:00:00 PM",
          "East": 24,
          "Hour": 14,
          "JulianDay": 27,
          "WeekDay": 1,
          "West": 19,
          "Year": 2012
         },
         {
          "Date2": "2012-10-30 15:00:00",
          "DateString": "10/30/2012 03:00:00 PM",
          "East": 31,
          "Hour": 15,
          "JulianDay": 27,
          "WeekDay": 1,
          "West": 33,
          "Year": 2012
         },
         {
          "Date2": "2012-10-30 16:00:00",
          "DateString": "10/30/2012 04:00:00 PM",
          "East": 70,
          "Hour": 16,
          "JulianDay": 27,
          "WeekDay": 1,
          "West": 43,
          "Year": 2012
         },
         {
          "Date2": "2012-10-30 17:00:00",
          "DateString": "10/30/2012 05:00:00 PM",
          "East": 199,
          "Hour": 17,
          "JulianDay": 27,
          "WeekDay": 1,
          "West": 83,
          "Year": 2012
         },
         {
          "Date2": "2012-10-30 18:00:00",
          "DateString": "10/30/2012 06:00:00 PM",
          "East": 132,
          "Hour": 18,
          "JulianDay": 27,
          "WeekDay": 1,
          "West": 57,
          "Year": 2012
         },
         {
          "Date2": "2012-10-30 19:00:00",
          "DateString": "10/30/2012 07:00:00 PM",
          "East": 44,
          "Hour": 19,
          "JulianDay": 27,
          "WeekDay": 1,
          "West": 21,
          "Year": 2012
         },
         {
          "Date2": "2012-10-30 20:00:00",
          "DateString": "10/30/2012 08:00:00 PM",
          "East": 20,
          "Hour": 20,
          "JulianDay": 27,
          "WeekDay": 1,
          "West": 15,
          "Year": 2012
         },
         {
          "Date2": "2012-10-30 21:00:00",
          "DateString": "10/30/2012 09:00:00 PM",
          "East": 8,
          "Hour": 21,
          "JulianDay": 27,
          "WeekDay": 1,
          "West": 8,
          "Year": 2012
         },
         {
          "Date2": "2012-10-30 22:00:00",
          "DateString": "10/30/2012 10:00:00 PM",
          "East": 8,
          "Hour": 22,
          "JulianDay": 27,
          "WeekDay": 1,
          "West": 8,
          "Year": 2012
         },
         {
          "Date2": "2012-10-30 23:00:00",
          "DateString": "10/30/2012 11:00:00 PM",
          "East": 5,
          "Hour": 23,
          "JulianDay": 27,
          "WeekDay": 1,
          "West": 8,
          "Year": 2012
         },
         {
          "Date2": "2012-10-31 00:00:00",
          "DateString": "10/31/2012 12:00:00 AM",
          "East": 2,
          "Hour": 0,
          "JulianDay": 28,
          "WeekDay": 2,
          "West": 2,
          "Year": 2012
         },
         {
          "Date2": "2012-10-31 01:00:00",
          "DateString": "10/31/2012 01:00:00 AM",
          "East": 1,
          "Hour": 1,
          "JulianDay": 28,
          "WeekDay": 2,
          "West": 4,
          "Year": 2012
         },
         {
          "Date2": "2012-10-31 02:00:00",
          "DateString": "10/31/2012 02:00:00 AM",
          "East": 0,
          "Hour": 2,
          "JulianDay": 28,
          "WeekDay": 2,
          "West": 2,
          "Year": 2012
         },
         {
          "Date2": "2012-10-31 03:00:00",
          "DateString": "10/31/2012 03:00:00 AM",
          "East": 1,
          "Hour": 3,
          "JulianDay": 28,
          "WeekDay": 2,
          "West": 0,
          "Year": 2012
         },
         {
          "Date2": "2012-10-31 04:00:00",
          "DateString": "10/31/2012 04:00:00 AM",
          "East": 4,
          "Hour": 4,
          "JulianDay": 28,
          "WeekDay": 2,
          "West": 7,
          "Year": 2012
         },
         {
          "Date2": "2012-10-31 05:00:00",
          "DateString": "10/31/2012 05:00:00 AM",
          "East": 4,
          "Hour": 5,
          "JulianDay": 28,
          "WeekDay": 2,
          "West": 7,
          "Year": 2012
         },
         {
          "Date2": "2012-10-31 06:00:00",
          "DateString": "10/31/2012 06:00:00 AM",
          "East": 22,
          "Hour": 6,
          "JulianDay": 28,
          "WeekDay": 2,
          "West": 47,
          "Year": 2012
         },
         {
          "Date2": "2012-10-31 07:00:00",
          "DateString": "10/31/2012 07:00:00 AM",
          "East": 37,
          "Hour": 7,
          "JulianDay": 28,
          "WeekDay": 2,
          "West": 133,
          "Year": 2012
         },
         {
          "Date2": "2012-10-31 08:00:00",
          "DateString": "10/31/2012 08:00:00 AM",
          "East": 76,
          "Hour": 8,
          "JulianDay": 28,
          "WeekDay": 2,
          "West": 169,
          "Year": 2012
         },
         {
          "Date2": "2012-10-31 09:00:00",
          "DateString": "10/31/2012 09:00:00 AM",
          "East": 37,
          "Hour": 9,
          "JulianDay": 28,
          "WeekDay": 2,
          "West": 88,
          "Year": 2012
         },
         {
          "Date2": "2012-10-31 10:00:00",
          "DateString": "10/31/2012 10:00:00 AM",
          "East": 16,
          "Hour": 10,
          "JulianDay": 28,
          "WeekDay": 2,
          "West": 26,
          "Year": 2012
         },
         {
          "Date2": "2012-10-31 11:00:00",
          "DateString": "10/31/2012 11:00:00 AM",
          "East": 17,
          "Hour": 11,
          "JulianDay": 28,
          "WeekDay": 2,
          "West": 36,
          "Year": 2012
         },
         {
          "Date2": "2012-10-31 12:00:00",
          "DateString": "10/31/2012 12:00:00 PM",
          "East": 27,
          "Hour": 12,
          "JulianDay": 28,
          "WeekDay": 2,
          "West": 28,
          "Year": 2012
         },
         {
          "Date2": "2012-10-31 13:00:00",
          "DateString": "10/31/2012 01:00:00 PM",
          "East": 21,
          "Hour": 13,
          "JulianDay": 28,
          "WeekDay": 2,
          "West": 14,
          "Year": 2012
         },
         {
          "Date2": "2012-10-31 14:00:00",
          "DateString": "10/31/2012 02:00:00 PM",
          "East": 21,
          "Hour": 14,
          "JulianDay": 28,
          "WeekDay": 2,
          "West": 28,
          "Year": 2012
         },
         {
          "Date2": "2012-10-31 15:00:00",
          "DateString": "10/31/2012 03:00:00 PM",
          "East": 48,
          "Hour": 15,
          "JulianDay": 28,
          "WeekDay": 2,
          "West": 32,
          "Year": 2012
         },
         {
          "Date2": "2012-10-31 16:00:00",
          "DateString": "10/31/2012 04:00:00 PM",
          "East": 94,
          "Hour": 16,
          "JulianDay": 28,
          "WeekDay": 2,
          "West": 57,
          "Year": 2012
         },
         {
          "Date2": "2012-10-31 17:00:00",
          "DateString": "10/31/2012 05:00:00 PM",
          "East": 189,
          "Hour": 17,
          "JulianDay": 28,
          "WeekDay": 2,
          "West": 91,
          "Year": 2012
         },
         {
          "Date2": "2012-10-31 18:00:00",
          "DateString": "10/31/2012 06:00:00 PM",
          "East": 100,
          "Hour": 18,
          "JulianDay": 28,
          "WeekDay": 2,
          "West": 43,
          "Year": 2012
         },
         {
          "Date2": "2012-10-31 19:00:00",
          "DateString": "10/31/2012 07:00:00 PM",
          "East": 54,
          "Hour": 19,
          "JulianDay": 28,
          "WeekDay": 2,
          "West": 34,
          "Year": 2012
         },
         {
          "Date2": "2012-10-31 20:00:00",
          "DateString": "10/31/2012 08:00:00 PM",
          "East": 31,
          "Hour": 20,
          "JulianDay": 28,
          "WeekDay": 2,
          "West": 14,
          "Year": 2012
         },
         {
          "Date2": "2012-10-31 21:00:00",
          "DateString": "10/31/2012 09:00:00 PM",
          "East": 6,
          "Hour": 21,
          "JulianDay": 28,
          "WeekDay": 2,
          "West": 8,
          "Year": 2012
         },
         {
          "Date2": "2012-10-31 22:00:00",
          "DateString": "10/31/2012 10:00:00 PM",
          "East": 6,
          "Hour": 22,
          "JulianDay": 28,
          "WeekDay": 2,
          "West": 8,
          "Year": 2012
         },
         {
          "Date2": "2012-10-31 23:00:00",
          "DateString": "10/31/2012 11:00:00 PM",
          "East": 13,
          "Hour": 23,
          "JulianDay": 28,
          "WeekDay": 2,
          "West": 5,
          "Year": 2012
         },
         {
          "Date2": "2012-11-01 00:00:00",
          "DateString": "11/01/2012 12:00:00 AM",
          "East": 3,
          "Hour": 0,
          "JulianDay": 29,
          "WeekDay": 3,
          "West": 4,
          "Year": 2012
         },
         {
          "Date2": "2012-11-01 01:00:00",
          "DateString": "11/01/2012 01:00:00 AM",
          "East": 3,
          "Hour": 1,
          "JulianDay": 29,
          "WeekDay": 3,
          "West": 2,
          "Year": 2012
         },
         {
          "Date2": "2012-11-01 02:00:00",
          "DateString": "11/01/2012 02:00:00 AM",
          "East": 1,
          "Hour": 2,
          "JulianDay": 29,
          "WeekDay": 3,
          "West": 1,
          "Year": 2012
         },
         {
          "Date2": "2012-11-01 03:00:00",
          "DateString": "11/01/2012 03:00:00 AM",
          "East": 0,
          "Hour": 3,
          "JulianDay": 29,
          "WeekDay": 3,
          "West": 0,
          "Year": 2012
         },
         {
          "Date2": "2012-11-01 04:00:00",
          "DateString": "11/01/2012 04:00:00 AM",
          "East": 4,
          "Hour": 4,
          "JulianDay": 29,
          "WeekDay": 3,
          "West": 2,
          "Year": 2012
         },
         {
          "Date2": "2012-11-01 05:00:00",
          "DateString": "11/01/2012 05:00:00 AM",
          "East": 7,
          "Hour": 5,
          "JulianDay": 29,
          "WeekDay": 3,
          "West": 11,
          "Year": 2012
         },
         {
          "Date2": "2012-11-01 06:00:00",
          "DateString": "11/01/2012 06:00:00 AM",
          "East": 26,
          "Hour": 6,
          "JulianDay": 29,
          "WeekDay": 3,
          "West": 63,
          "Year": 2012
         },
         {
          "Date2": "2012-11-01 07:00:00",
          "DateString": "11/01/2012 07:00:00 AM",
          "East": 52,
          "Hour": 7,
          "JulianDay": 29,
          "WeekDay": 3,
          "West": 146,
          "Year": 2012
         },
         {
          "Date2": "2012-11-01 08:00:00",
          "DateString": "11/01/2012 08:00:00 AM",
          "East": 81,
          "Hour": 8,
          "JulianDay": 29,
          "WeekDay": 3,
          "West": 179,
          "Year": 2012
         },
         {
          "Date2": "2012-11-01 09:00:00",
          "DateString": "11/01/2012 09:00:00 AM",
          "East": 55,
          "Hour": 9,
          "JulianDay": 29,
          "WeekDay": 3,
          "West": 75,
          "Year": 2012
         },
         {
          "Date2": "2012-11-01 10:00:00",
          "DateString": "11/01/2012 10:00:00 AM",
          "East": 17,
          "Hour": 10,
          "JulianDay": 29,
          "WeekDay": 3,
          "West": 39,
          "Year": 2012
         },
         {
          "Date2": "2012-11-01 11:00:00",
          "DateString": "11/01/2012 11:00:00 AM",
          "East": 17,
          "Hour": 11,
          "JulianDay": 29,
          "WeekDay": 3,
          "West": 23,
          "Year": 2012
         },
         {
          "Date2": "2012-11-01 12:00:00",
          "DateString": "11/01/2012 12:00:00 PM",
          "East": 31,
          "Hour": 12,
          "JulianDay": 29,
          "WeekDay": 3,
          "West": 27,
          "Year": 2012
         },
         {
          "Date2": "2012-11-01 13:00:00",
          "DateString": "11/01/2012 01:00:00 PM",
          "East": 27,
          "Hour": 13,
          "JulianDay": 29,
          "WeekDay": 3,
          "West": 41,
          "Year": 2012
         },
         {
          "Date2": "2012-11-01 14:00:00",
          "DateString": "11/01/2012 02:00:00 PM",
          "East": 29,
          "Hour": 14,
          "JulianDay": 29,
          "WeekDay": 3,
          "West": 42,
          "Year": 2012
         },
         {
          "Date2": "2012-11-01 15:00:00",
          "DateString": "11/01/2012 03:00:00 PM",
          "East": 60,
          "Hour": 15,
          "JulianDay": 29,
          "WeekDay": 3,
          "West": 40,
          "Year": 2012
         },
         {
          "Date2": "2012-11-01 16:00:00",
          "DateString": "11/01/2012 04:00:00 PM",
          "East": 93,
          "Hour": 16,
          "JulianDay": 29,
          "WeekDay": 3,
          "West": 94,
          "Year": 2012
         },
         {
          "Date2": "2012-11-01 17:00:00",
          "DateString": "11/01/2012 05:00:00 PM",
          "East": 223,
          "Hour": 17,
          "JulianDay": 29,
          "WeekDay": 3,
          "West": 93,
          "Year": 2012
         },
         {
          "Date2": "2012-11-01 18:00:00",
          "DateString": "11/01/2012 06:00:00 PM",
          "East": 162,
          "Hour": 18,
          "JulianDay": 29,
          "WeekDay": 3,
          "West": 71,
          "Year": 2012
         },
         {
          "Date2": "2012-11-01 19:00:00",
          "DateString": "11/01/2012 07:00:00 PM",
          "East": 68,
          "Hour": 19,
          "JulianDay": 29,
          "WeekDay": 3,
          "West": 38,
          "Year": 2012
         },
         {
          "Date2": "2012-11-01 20:00:00",
          "DateString": "11/01/2012 08:00:00 PM",
          "East": 35,
          "Hour": 20,
          "JulianDay": 29,
          "WeekDay": 3,
          "West": 24,
          "Year": 2012
         },
         {
          "Date2": "2012-11-01 21:00:00",
          "DateString": "11/01/2012 09:00:00 PM",
          "East": 18,
          "Hour": 21,
          "JulianDay": 29,
          "WeekDay": 3,
          "West": 22,
          "Year": 2012
         },
         {
          "Date2": "2012-11-01 22:00:00",
          "DateString": "11/01/2012 10:00:00 PM",
          "East": 8,
          "Hour": 22,
          "JulianDay": 29,
          "WeekDay": 3,
          "West": 13,
          "Year": 2012
         },
         {
          "Date2": "2012-11-01 23:00:00",
          "DateString": "11/01/2012 11:00:00 PM",
          "East": 10,
          "Hour": 23,
          "JulianDay": 29,
          "WeekDay": 3,
          "West": 11,
          "Year": 2012
         },
         {
          "Date2": "2012-11-02 00:00:00",
          "DateString": "11/02/2012 12:00:00 AM",
          "East": 2,
          "Hour": 0,
          "JulianDay": 30,
          "WeekDay": 4,
          "West": 4,
          "Year": 2012
         },
         {
          "Date2": "2012-11-02 01:00:00",
          "DateString": "11/02/2012 01:00:00 AM",
          "East": 4,
          "Hour": 1,
          "JulianDay": 30,
          "WeekDay": 4,
          "West": 3,
          "Year": 2012
         },
         {
          "Date2": "2012-11-02 02:00:00",
          "DateString": "11/02/2012 02:00:00 AM",
          "East": 0,
          "Hour": 2,
          "JulianDay": 30,
          "WeekDay": 4,
          "West": 2,
          "Year": 2012
         },
         {
          "Date2": "2012-11-02 03:00:00",
          "DateString": "11/02/2012 03:00:00 AM",
          "East": 1,
          "Hour": 3,
          "JulianDay": 30,
          "WeekDay": 4,
          "West": 3,
          "Year": 2012
         },
         {
          "Date2": "2012-11-02 04:00:00",
          "DateString": "11/02/2012 04:00:00 AM",
          "East": 5,
          "Hour": 4,
          "JulianDay": 30,
          "WeekDay": 4,
          "West": 5,
          "Year": 2012
         },
         {
          "Date2": "2012-11-02 05:00:00",
          "DateString": "11/02/2012 05:00:00 AM",
          "East": 6,
          "Hour": 5,
          "JulianDay": 30,
          "WeekDay": 4,
          "West": 11,
          "Year": 2012
         },
         {
          "Date2": "2012-11-02 06:00:00",
          "DateString": "11/02/2012 06:00:00 AM",
          "East": 38,
          "Hour": 6,
          "JulianDay": 30,
          "WeekDay": 4,
          "West": 76,
          "Year": 2012
         },
         {
          "Date2": "2012-11-02 07:00:00",
          "DateString": "11/02/2012 07:00:00 AM",
          "East": 68,
          "Hour": 7,
          "JulianDay": 30,
          "WeekDay": 4,
          "West": 162,
          "Year": 2012
         },
         {
          "Date2": "2012-11-02 08:00:00",
          "DateString": "11/02/2012 08:00:00 AM",
          "East": 91,
          "Hour": 8,
          "JulianDay": 30,
          "WeekDay": 4,
          "West": 245,
          "Year": 2012
         },
         {
          "Date2": "2012-11-02 09:00:00",
          "DateString": "11/02/2012 09:00:00 AM",
          "East": 65,
          "Hour": 9,
          "JulianDay": 30,
          "WeekDay": 4,
          "West": 133,
          "Year": 2012
         },
         {
          "Date2": "2012-11-02 10:00:00",
          "DateString": "11/02/2012 10:00:00 AM",
          "East": 39,
          "Hour": 10,
          "JulianDay": 30,
          "WeekDay": 4,
          "West": 41,
          "Year": 2012
         },
         {
          "Date2": "2012-11-02 11:00:00",
          "DateString": "11/02/2012 11:00:00 AM",
          "East": 34,
          "Hour": 11,
          "JulianDay": 30,
          "WeekDay": 4,
          "West": 41,
          "Year": 2012
         },
         {
          "Date2": "2012-11-02 12:00:00",
          "DateString": "11/02/2012 12:00:00 PM",
          "East": 31,
          "Hour": 12,
          "JulianDay": 30,
          "WeekDay": 4,
          "West": 49,
          "Year": 2012
         },
         {
          "Date2": "2012-11-02 13:00:00",
          "DateString": "11/02/2012 01:00:00 PM",
          "East": 48,
          "Hour": 13,
          "JulianDay": 30,
          "WeekDay": 4,
          "West": 59,
          "Year": 2012
         },
         {
          "Date2": "2012-11-02 14:00:00",
          "DateString": "11/02/2012 02:00:00 PM",
          "East": 29,
          "Hour": 14,
          "JulianDay": 30,
          "WeekDay": 4,
          "West": 62,
          "Year": 2012
         },
         {
          "Date2": "2012-11-02 15:00:00",
          "DateString": "11/02/2012 03:00:00 PM",
          "East": 67,
          "Hour": 15,
          "JulianDay": 30,
          "WeekDay": 4,
          "West": 92,
          "Year": 2012
         },
         {
          "Date2": "2012-11-02 16:00:00",
          "DateString": "11/02/2012 04:00:00 PM",
          "East": 121,
          "Hour": 16,
          "JulianDay": 30,
          "WeekDay": 4,
          "West": 114,
          "Year": 2012
         },
         {
          "Date2": "2012-11-02 17:00:00",
          "DateString": "11/02/2012 05:00:00 PM",
          "East": 254,
          "Hour": 17,
          "JulianDay": 30,
          "WeekDay": 4,
          "West": 94,
          "Year": 2012
         },
         {
          "Date2": "2012-11-02 18:00:00",
          "DateString": "11/02/2012 06:00:00 PM",
          "East": 122,
          "Hour": 18,
          "JulianDay": 30,
          "WeekDay": 4,
          "West": 73,
          "Year": 2012
         },
         {
          "Date2": "2012-11-02 19:00:00",
          "DateString": "11/02/2012 07:00:00 PM",
          "East": 50,
          "Hour": 19,
          "JulianDay": 30,
          "WeekDay": 4,
          "West": 23,
          "Year": 2012
         },
         {
          "Date2": "2012-11-02 20:00:00",
          "DateString": "11/02/2012 08:00:00 PM",
          "East": 24,
          "Hour": 20,
          "JulianDay": 30,
          "WeekDay": 4,
          "West": 17,
          "Year": 2012
         },
         {
          "Date2": "2012-11-02 21:00:00",
          "DateString": "11/02/2012 09:00:00 PM",
          "East": 13,
          "Hour": 21,
          "JulianDay": 30,
          "WeekDay": 4,
          "West": 20,
          "Year": 2012
         },
         {
          "Date2": "2012-11-02 22:00:00",
          "DateString": "11/02/2012 10:00:00 PM",
          "East": 13,
          "Hour": 22,
          "JulianDay": 30,
          "WeekDay": 4,
          "West": 10,
          "Year": 2012
         },
         {
          "Date2": "2012-11-02 23:00:00",
          "DateString": "11/02/2012 11:00:00 PM",
          "East": 8,
          "Hour": 23,
          "JulianDay": 30,
          "WeekDay": 4,
          "West": 6,
          "Year": 2012
         },
         {
          "Date2": "2012-11-03 00:00:00",
          "DateString": "11/03/2012 12:00:00 AM",
          "East": 5,
          "Hour": 0,
          "JulianDay": 31,
          "WeekDay": 5,
          "West": 7,
          "Year": 2012
         },
         {
          "Date2": "2012-11-03 01:00:00",
          "DateString": "11/03/2012 01:00:00 AM",
          "East": 4,
          "Hour": 1,
          "JulianDay": 31,
          "WeekDay": 5,
          "West": 2,
          "Year": 2012
         },
         {
          "Date2": "2012-11-03 02:00:00",
          "DateString": "11/03/2012 02:00:00 AM",
          "East": 2,
          "Hour": 2,
          "JulianDay": 31,
          "WeekDay": 5,
          "West": 3,
          "Year": 2012
         },
         {
          "Date2": "2012-11-03 03:00:00",
          "DateString": "11/03/2012 03:00:00 AM",
          "East": 0,
          "Hour": 3,
          "JulianDay": 31,
          "WeekDay": 5,
          "West": 2,
          "Year": 2012
         },
         {
          "Date2": "2012-11-03 04:00:00",
          "DateString": "11/03/2012 04:00:00 AM",
          "East": 2,
          "Hour": 4,
          "JulianDay": 31,
          "WeekDay": 5,
          "West": 2,
          "Year": 2012
         },
         {
          "Date2": "2012-11-03 05:00:00",
          "DateString": "11/03/2012 05:00:00 AM",
          "East": 6,
          "Hour": 5,
          "JulianDay": 31,
          "WeekDay": 5,
          "West": 6,
          "Year": 2012
         },
         {
          "Date2": "2012-11-03 06:00:00",
          "DateString": "11/03/2012 06:00:00 AM",
          "East": 3,
          "Hour": 6,
          "JulianDay": 31,
          "WeekDay": 5,
          "West": 10,
          "Year": 2012
         },
         {
          "Date2": "2012-11-03 07:00:00",
          "DateString": "11/03/2012 07:00:00 AM",
          "East": 6,
          "Hour": 7,
          "JulianDay": 31,
          "WeekDay": 5,
          "West": 7,
          "Year": 2012
         },
         {
          "Date2": "2012-11-03 08:00:00",
          "DateString": "11/03/2012 08:00:00 AM",
          "East": 14,
          "Hour": 8,
          "JulianDay": 31,
          "WeekDay": 5,
          "West": 19,
          "Year": 2012
         },
         {
          "Date2": "2012-11-03 09:00:00",
          "DateString": "11/03/2012 09:00:00 AM",
          "East": 36,
          "Hour": 9,
          "JulianDay": 31,
          "WeekDay": 5,
          "West": 33,
          "Year": 2012
         },
         {
          "Date2": "2012-11-03 10:00:00",
          "DateString": "11/03/2012 10:00:00 AM",
          "East": 26,
          "Hour": 10,
          "JulianDay": 31,
          "WeekDay": 5,
          "West": 36,
          "Year": 2012
         },
         {
          "Date2": "2012-11-03 11:00:00",
          "DateString": "11/03/2012 11:00:00 AM",
          "East": 39,
          "Hour": 11,
          "JulianDay": 31,
          "WeekDay": 5,
          "West": 49,
          "Year": 2012
         },
         {
          "Date2": "2012-11-03 12:00:00",
          "DateString": "11/03/2012 12:00:00 PM",
          "East": 24,
          "Hour": 12,
          "JulianDay": 31,
          "WeekDay": 5,
          "West": 55,
          "Year": 2012
         },
         {
          "Date2": "2012-11-03 13:00:00",
          "DateString": "11/03/2012 01:00:00 PM",
          "East": 35,
          "Hour": 13,
          "JulianDay": 31,
          "WeekDay": 5,
          "West": 47,
          "Year": 2012
         },
         {
          "Date2": "2012-11-03 14:00:00",
          "DateString": "11/03/2012 02:00:00 PM",
          "East": 54,
          "Hour": 14,
          "JulianDay": 31,
          "WeekDay": 5,
          "West": 55,
          "Year": 2012
         },
         {
          "Date2": "2012-11-03 15:00:00",
          "DateString": "11/03/2012 03:00:00 PM",
          "East": 36,
          "Hour": 15,
          "JulianDay": 31,
          "WeekDay": 5,
          "West": 35,
          "Year": 2012
         },
         {
          "Date2": "2012-11-03 16:00:00",
          "DateString": "11/03/2012 04:00:00 PM",
          "East": 32,
          "Hour": 16,
          "JulianDay": 31,
          "WeekDay": 5,
          "West": 41,
          "Year": 2012
         },
         {
          "Date2": "2012-11-03 17:00:00",
          "DateString": "11/03/2012 05:00:00 PM",
          "East": 34,
          "Hour": 17,
          "JulianDay": 31,
          "WeekDay": 5,
          "West": 31,
          "Year": 2012
         },
         {
          "Date2": "2012-11-03 18:00:00",
          "DateString": "11/03/2012 06:00:00 PM",
          "East": 25,
          "Hour": 18,
          "JulianDay": 31,
          "WeekDay": 5,
          "West": 27,
          "Year": 2012
         },
         {
          "Date2": "2012-11-03 19:00:00",
          "DateString": "11/03/2012 07:00:00 PM",
          "East": 16,
          "Hour": 19,
          "JulianDay": 31,
          "WeekDay": 5,
          "West": 19,
          "Year": 2012
         },
         {
          "Date2": "2012-11-03 20:00:00",
          "DateString": "11/03/2012 08:00:00 PM",
          "East": 15,
          "Hour": 20,
          "JulianDay": 31,
          "WeekDay": 5,
          "West": 9,
          "Year": 2012
         },
         {
          "Date2": "2012-11-03 21:00:00",
          "DateString": "11/03/2012 09:00:00 PM",
          "East": 5,
          "Hour": 21,
          "JulianDay": 31,
          "WeekDay": 5,
          "West": 4,
          "Year": 2012
         },
         {
          "Date2": "2012-11-03 22:00:00",
          "DateString": "11/03/2012 10:00:00 PM",
          "East": 6,
          "Hour": 22,
          "JulianDay": 31,
          "WeekDay": 5,
          "West": 7,
          "Year": 2012
         },
         {
          "Date2": "2012-11-03 23:00:00",
          "DateString": "11/03/2012 11:00:00 PM",
          "East": 14,
          "Hour": 23,
          "JulianDay": 31,
          "WeekDay": 5,
          "West": 7,
          "Year": 2012
         },
         {
          "Date2": "2012-11-04 00:00:00",
          "DateString": "11/04/2012 12:00:00 AM",
          "East": 11,
          "Hour": 0,
          "JulianDay": 32,
          "WeekDay": 6,
          "West": 7,
          "Year": 2012
         },
         {
          "Date2": "2012-11-04 01:00:00",
          "DateString": "11/04/2012 01:00:00 AM",
          "East": 4,
          "Hour": 1,
          "JulianDay": 32,
          "WeekDay": 6,
          "West": 6,
          "Year": 2012
         },
         {
          "Date2": "2012-11-04 02:00:00",
          "DateString": "11/04/2012 02:00:00 AM",
          "East": 5,
          "Hour": 2,
          "JulianDay": 32,
          "WeekDay": 6,
          "West": 5,
          "Year": 2012
         },
         {
          "Date2": "2012-11-04 03:00:00",
          "DateString": "11/04/2012 03:00:00 AM",
          "East": 2,
          "Hour": 3,
          "JulianDay": 32,
          "WeekDay": 6,
          "West": 1,
          "Year": 2012
         },
         {
          "Date2": "2012-11-04 04:00:00",
          "DateString": "11/04/2012 04:00:00 AM",
          "East": 2,
          "Hour": 4,
          "JulianDay": 32,
          "WeekDay": 6,
          "West": 1,
          "Year": 2012
         },
         {
          "Date2": "2012-11-04 05:00:00",
          "DateString": "11/04/2012 05:00:00 AM",
          "East": 2,
          "Hour": 5,
          "JulianDay": 32,
          "WeekDay": 6,
          "West": 5,
          "Year": 2012
         },
         {
          "Date2": "2012-11-04 06:00:00",
          "DateString": "11/04/2012 06:00:00 AM",
          "East": 3,
          "Hour": 6,
          "JulianDay": 32,
          "WeekDay": 6,
          "West": 9,
          "Year": 2012
         },
         {
          "Date2": "2012-11-04 07:00:00",
          "DateString": "11/04/2012 07:00:00 AM",
          "East": 12,
          "Hour": 7,
          "JulianDay": 32,
          "WeekDay": 6,
          "West": 17,
          "Year": 2012
         },
         {
          "Date2": "2012-11-04 08:00:00",
          "DateString": "11/04/2012 08:00:00 AM",
          "East": 24,
          "Hour": 8,
          "JulianDay": 32,
          "WeekDay": 6,
          "West": 27,
          "Year": 2012
         },
         {
          "Date2": "2012-11-04 09:00:00",
          "DateString": "11/04/2012 09:00:00 AM",
          "East": 34,
          "Hour": 9,
          "JulianDay": 32,
          "WeekDay": 6,
          "West": 34,
          "Year": 2012
         },
         {
          "Date2": "2012-11-04 10:00:00",
          "DateString": "11/04/2012 10:00:00 AM",
          "East": 28,
          "Hour": 10,
          "JulianDay": 32,
          "WeekDay": 6,
          "West": 47,
          "Year": 2012
         },
         {
          "Date2": "2012-11-04 11:00:00",
          "DateString": "11/04/2012 11:00:00 AM",
          "East": 34,
          "Hour": 11,
          "JulianDay": 32,
          "WeekDay": 6,
          "West": 56,
          "Year": 2012
         },
         {
          "Date2": "2012-11-04 12:00:00",
          "DateString": "11/04/2012 12:00:00 PM",
          "East": 44,
          "Hour": 12,
          "JulianDay": 32,
          "WeekDay": 6,
          "West": 68,
          "Year": 2012
         },
         {
          "Date2": "2012-11-04 13:00:00",
          "DateString": "11/04/2012 01:00:00 PM",
          "East": 41,
          "Hour": 13,
          "JulianDay": 32,
          "WeekDay": 6,
          "West": 57,
          "Year": 2012
         },
         {
          "Date2": "2012-11-04 14:00:00",
          "DateString": "11/04/2012 02:00:00 PM",
          "East": 29,
          "Hour": 14,
          "JulianDay": 32,
          "WeekDay": 6,
          "West": 44,
          "Year": 2012
         },
         {
          "Date2": "2012-11-04 15:00:00",
          "DateString": "11/04/2012 03:00:00 PM",
          "East": 45,
          "Hour": 15,
          "JulianDay": 32,
          "WeekDay": 6,
          "West": 45,
          "Year": 2012
         },
         {
          "Date2": "2012-11-04 16:00:00",
          "DateString": "11/04/2012 04:00:00 PM",
          "East": 51,
          "Hour": 16,
          "JulianDay": 32,
          "WeekDay": 6,
          "West": 46,
          "Year": 2012
         },
         {
          "Date2": "2012-11-04 17:00:00",
          "DateString": "11/04/2012 05:00:00 PM",
          "East": 36,
          "Hour": 17,
          "JulianDay": 32,
          "WeekDay": 6,
          "West": 19,
          "Year": 2012
         },
         {
          "Date2": "2012-11-04 18:00:00",
          "DateString": "11/04/2012 06:00:00 PM",
          "East": 15,
          "Hour": 18,
          "JulianDay": 32,
          "WeekDay": 6,
          "West": 27,
          "Year": 2012
         },
         {
          "Date2": "2012-11-04 19:00:00",
          "DateString": "11/04/2012 07:00:00 PM",
          "East": 8,
          "Hour": 19,
          "JulianDay": 32,
          "WeekDay": 6,
          "West": 4,
          "Year": 2012
         },
         {
          "Date2": "2012-11-04 20:00:00",
          "DateString": "11/04/2012 08:00:00 PM",
          "East": 11,
          "Hour": 20,
          "JulianDay": 32,
          "WeekDay": 6,
          "West": 10,
          "Year": 2012
         },
         {
          "Date2": "2012-11-04 21:00:00",
          "DateString": "11/04/2012 09:00:00 PM",
          "East": 8,
          "Hour": 21,
          "JulianDay": 32,
          "WeekDay": 6,
          "West": 5,
          "Year": 2012
         },
         {
          "Date2": "2012-11-04 22:00:00",
          "DateString": "11/04/2012 10:00:00 PM",
          "East": 7,
          "Hour": 22,
          "JulianDay": 32,
          "WeekDay": 6,
          "West": 6,
          "Year": 2012
         },
         {
          "Date2": "2012-11-04 23:00:00",
          "DateString": "11/04/2012 11:00:00 PM",
          "East": 7,
          "Hour": 23,
          "JulianDay": 32,
          "WeekDay": 6,
          "West": 2,
          "Year": 2012
         },
         {
          "Date2": "2012-11-05 00:00:00",
          "DateString": "11/05/2012 12:00:00 AM",
          "East": 2,
          "Hour": 0,
          "JulianDay": 33,
          "WeekDay": 0,
          "West": 5,
          "Year": 2012
         },
         {
          "Date2": "2012-11-05 01:00:00",
          "DateString": "11/05/2012 01:00:00 AM",
          "East": 1,
          "Hour": 1,
          "JulianDay": 33,
          "WeekDay": 0,
          "West": 2,
          "Year": 2012
         },
         {
          "Date2": "2012-11-05 02:00:00",
          "DateString": "11/05/2012 02:00:00 AM",
          "East": 1,
          "Hour": 2,
          "JulianDay": 33,
          "WeekDay": 0,
          "West": 1,
          "Year": 2012
         },
         {
          "Date2": "2012-11-05 03:00:00",
          "DateString": "11/05/2012 03:00:00 AM",
          "East": 2,
          "Hour": 3,
          "JulianDay": 33,
          "WeekDay": 0,
          "West": 1,
          "Year": 2012
         },
         {
          "Date2": "2012-11-05 04:00:00",
          "DateString": "11/05/2012 04:00:00 AM",
          "East": 3,
          "Hour": 4,
          "JulianDay": 33,
          "WeekDay": 0,
          "West": 2,
          "Year": 2012
         },
         {
          "Date2": "2012-11-05 05:00:00",
          "DateString": "11/05/2012 05:00:00 AM",
          "East": 7,
          "Hour": 5,
          "JulianDay": 33,
          "WeekDay": 0,
          "West": 18,
          "Year": 2012
         },
         {
          "Date2": "2012-11-05 06:00:00",
          "DateString": "11/05/2012 06:00:00 AM",
          "East": 45,
          "Hour": 6,
          "JulianDay": 33,
          "WeekDay": 0,
          "West": 81,
          "Year": 2012
         },
         {
          "Date2": "2012-11-05 07:00:00",
          "DateString": "11/05/2012 07:00:00 AM",
          "East": 74,
          "Hour": 7,
          "JulianDay": 33,
          "WeekDay": 0,
          "West": 238,
          "Year": 2012
         },
         {
          "Date2": "2012-11-05 08:00:00",
          "DateString": "11/05/2012 08:00:00 AM",
          "East": 121,
          "Hour": 8,
          "JulianDay": 33,
          "WeekDay": 0,
          "West": 252,
          "Year": 2012
         },
         {
          "Date2": "2012-11-05 09:00:00",
          "DateString": "11/05/2012 09:00:00 AM",
          "East": 77,
          "Hour": 9,
          "JulianDay": 33,
          "WeekDay": 0,
          "West": 105,
          "Year": 2012
         },
         {
          "Date2": "2012-11-05 10:00:00",
          "DateString": "11/05/2012 10:00:00 AM",
          "East": 26,
          "Hour": 10,
          "JulianDay": 33,
          "WeekDay": 0,
          "West": 65,
          "Year": 2012
         },
         {
          "Date2": "2012-11-05 11:00:00",
          "DateString": "11/05/2012 11:00:00 AM",
          "East": 19,
          "Hour": 11,
          "JulianDay": 33,
          "WeekDay": 0,
          "West": 38,
          "Year": 2012
         },
         {
          "Date2": "2012-11-05 12:00:00",
          "DateString": "11/05/2012 12:00:00 PM",
          "East": 54,
          "Hour": 12,
          "JulianDay": 33,
          "WeekDay": 0,
          "West": 41,
          "Year": 2012
         },
         {
          "Date2": "2012-11-05 13:00:00",
          "DateString": "11/05/2012 01:00:00 PM",
          "East": 32,
          "Hour": 13,
          "JulianDay": 33,
          "WeekDay": 0,
          "West": 31,
          "Year": 2012
         },
         {
          "Date2": "2012-11-05 14:00:00",
          "DateString": "11/05/2012 02:00:00 PM",
          "East": 40,
          "Hour": 14,
          "JulianDay": 33,
          "WeekDay": 0,
          "West": 58,
          "Year": 2012
         },
         {
          "Date2": "2012-11-05 15:00:00",
          "DateString": "11/05/2012 03:00:00 PM",
          "East": 58,
          "Hour": 15,
          "JulianDay": 33,
          "WeekDay": 0,
          "West": 65,
          "Year": 2012
         },
         {
          "Date2": "2012-11-05 16:00:00",
          "DateString": "11/05/2012 04:00:00 PM",
          "East": 134,
          "Hour": 16,
          "JulianDay": 33,
          "WeekDay": 0,
          "West": 112,
          "Year": 2012
         },
         {
          "Date2": "2012-11-05 17:00:00",
          "DateString": "11/05/2012 05:00:00 PM",
          "East": 344,
          "Hour": 17,
          "JulianDay": 33,
          "WeekDay": 0,
          "West": 126,
          "Year": 2012
         },
         {
          "Date2": "2012-11-05 18:00:00",
          "DateString": "11/05/2012 06:00:00 PM",
          "East": 177,
          "Hour": 18,
          "JulianDay": 33,
          "WeekDay": 0,
          "West": 84,
          "Year": 2012
         },
         {
          "Date2": "2012-11-05 19:00:00",
          "DateString": "11/05/2012 07:00:00 PM",
          "East": 78,
          "Hour": 19,
          "JulianDay": 33,
          "WeekDay": 0,
          "West": 30,
          "Year": 2012
         },
         {
          "Date2": "2012-11-05 20:00:00",
          "DateString": "11/05/2012 08:00:00 PM",
          "East": 36,
          "Hour": 20,
          "JulianDay": 33,
          "WeekDay": 0,
          "West": 32,
          "Year": 2012
         },
         {
          "Date2": "2012-11-05 21:00:00",
          "DateString": "11/05/2012 09:00:00 PM",
          "East": 24,
          "Hour": 21,
          "JulianDay": 33,
          "WeekDay": 0,
          "West": 21,
          "Year": 2012
         },
         {
          "Date2": "2012-11-05 22:00:00",
          "DateString": "11/05/2012 10:00:00 PM",
          "East": 11,
          "Hour": 22,
          "JulianDay": 33,
          "WeekDay": 0,
          "West": 13,
          "Year": 2012
         },
         {
          "Date2": "2012-11-05 23:00:00",
          "DateString": "11/05/2012 11:00:00 PM",
          "East": 14,
          "Hour": 23,
          "JulianDay": 33,
          "WeekDay": 0,
          "West": 9,
          "Year": 2012
         },
         {
          "Date2": "2012-11-06 00:00:00",
          "DateString": "11/06/2012 12:00:00 AM",
          "East": 5,
          "Hour": 0,
          "JulianDay": 34,
          "WeekDay": 1,
          "West": 5,
          "Year": 2012
         },
         {
          "Date2": "2012-11-06 01:00:00",
          "DateString": "11/06/2012 01:00:00 AM",
          "East": 3,
          "Hour": 1,
          "JulianDay": 34,
          "WeekDay": 1,
          "West": 4,
          "Year": 2012
         },
         {
          "Date2": "2012-11-06 02:00:00",
          "DateString": "11/06/2012 02:00:00 AM",
          "East": 2,
          "Hour": 2,
          "JulianDay": 34,
          "WeekDay": 1,
          "West": 3,
          "Year": 2012
         },
         {
          "Date2": "2012-11-06 03:00:00",
          "DateString": "11/06/2012 03:00:00 AM",
          "East": 2,
          "Hour": 3,
          "JulianDay": 34,
          "WeekDay": 1,
          "West": 1,
          "Year": 2012
         },
         {
          "Date2": "2012-11-06 04:00:00",
          "DateString": "11/06/2012 04:00:00 AM",
          "East": 3,
          "Hour": 4,
          "JulianDay": 34,
          "WeekDay": 1,
          "West": 5,
          "Year": 2012
         },
         {
          "Date2": "2012-11-06 05:00:00",
          "DateString": "11/06/2012 05:00:00 AM",
          "East": 9,
          "Hour": 5,
          "JulianDay": 34,
          "WeekDay": 1,
          "West": 18,
          "Year": 2012
         },
         {
          "Date2": "2012-11-06 06:00:00",
          "DateString": "11/06/2012 06:00:00 AM",
          "East": 33,
          "Hour": 6,
          "JulianDay": 34,
          "WeekDay": 1,
          "West": 94,
          "Year": 2012
         },
         {
          "Date2": "2012-11-06 07:00:00",
          "DateString": "11/06/2012 07:00:00 AM",
          "East": 63,
          "Hour": 7,
          "JulianDay": 34,
          "WeekDay": 1,
          "West": 217,
          "Year": 2012
         },
         {
          "Date2": "2012-11-06 08:00:00",
          "DateString": "11/06/2012 08:00:00 AM",
          "East": 113,
          "Hour": 8,
          "JulianDay": 34,
          "WeekDay": 1,
          "West": 258,
          "Year": 2012
         },
         {
          "Date2": "2012-11-06 09:00:00",
          "DateString": "11/06/2012 09:00:00 AM",
          "East": 55,
          "Hour": 9,
          "JulianDay": 34,
          "WeekDay": 1,
          "West": 109,
          "Year": 2012
         },
         {
          "Date2": "2012-11-06 10:00:00",
          "DateString": "11/06/2012 10:00:00 AM",
          "East": 30,
          "Hour": 10,
          "JulianDay": 34,
          "WeekDay": 1,
          "West": 33,
          "Year": 2012
         },
         {
          "Date2": "2012-11-06 11:00:00",
          "DateString": "11/06/2012 11:00:00 AM",
          "East": 22,
          "Hour": 11,
          "JulianDay": 34,
          "WeekDay": 1,
          "West": 32,
          "Year": 2012
         },
         {
          "Date2": "2012-11-06 12:00:00",
          "DateString": "11/06/2012 12:00:00 PM",
          "East": 32,
          "Hour": 12,
          "JulianDay": 34,
          "WeekDay": 1,
          "West": 30,
          "Year": 2012
         },
         {
          "Date2": "2012-11-06 13:00:00",
          "DateString": "11/06/2012 01:00:00 PM",
          "East": 26,
          "Hour": 13,
          "JulianDay": 34,
          "WeekDay": 1,
          "West": 40,
          "Year": 2012
         },
         {
          "Date2": "2012-11-06 14:00:00",
          "DateString": "11/06/2012 02:00:00 PM",
          "East": 38,
          "Hour": 14,
          "JulianDay": 34,
          "WeekDay": 1,
          "West": 37,
          "Year": 2012
         },
         {
          "Date2": "2012-11-06 15:00:00",
          "DateString": "11/06/2012 03:00:00 PM",
          "East": 58,
          "Hour": 15,
          "JulianDay": 34,
          "WeekDay": 1,
          "West": 53,
          "Year": 2012
         },
         {
          "Date2": "2012-11-06 16:00:00",
          "DateString": "11/06/2012 04:00:00 PM",
          "East": 141,
          "Hour": 16,
          "JulianDay": 34,
          "WeekDay": 1,
          "West": 95,
          "Year": 2012
         },
         {
          "Date2": "2012-11-06 17:00:00",
          "DateString": "11/06/2012 05:00:00 PM",
          "East": 298,
          "Hour": 17,
          "JulianDay": 34,
          "WeekDay": 1,
          "West": 105,
          "Year": 2012
         },
         {
          "Date2": "2012-11-06 18:00:00",
          "DateString": "11/06/2012 06:00:00 PM",
          "East": 147,
          "Hour": 18,
          "JulianDay": 34,
          "WeekDay": 1,
          "West": 70,
          "Year": 2012
         },
         {
          "Date2": "2012-11-06 19:00:00",
          "DateString": "11/06/2012 07:00:00 PM",
          "East": 47,
          "Hour": 19,
          "JulianDay": 34,
          "WeekDay": 1,
          "West": 33,
          "Year": 2012
         },
         {
          "Date2": "2012-11-06 20:00:00",
          "DateString": "11/06/2012 08:00:00 PM",
          "East": 27,
          "Hour": 20,
          "JulianDay": 34,
          "WeekDay": 1,
          "West": 16,
          "Year": 2012
         },
         {
          "Date2": "2012-11-06 21:00:00",
          "DateString": "11/06/2012 09:00:00 PM",
          "East": 20,
          "Hour": 21,
          "JulianDay": 34,
          "WeekDay": 1,
          "West": 12,
          "Year": 2012
         },
         {
          "Date2": "2012-11-06 22:00:00",
          "DateString": "11/06/2012 10:00:00 PM",
          "East": 16,
          "Hour": 22,
          "JulianDay": 34,
          "WeekDay": 1,
          "West": 12,
          "Year": 2012
         },
         {
          "Date2": "2012-11-06 23:00:00",
          "DateString": "11/06/2012 11:00:00 PM",
          "East": 16,
          "Hour": 23,
          "JulianDay": 34,
          "WeekDay": 1,
          "West": 5,
          "Year": 2012
         },
         {
          "Date2": "2012-11-07 00:00:00",
          "DateString": "11/07/2012 12:00:00 AM",
          "East": 6,
          "Hour": 0,
          "JulianDay": 35,
          "WeekDay": 2,
          "West": 6,
          "Year": 2012
         },
         {
          "Date2": "2012-11-07 01:00:00",
          "DateString": "11/07/2012 01:00:00 AM",
          "East": 1,
          "Hour": 1,
          "JulianDay": 35,
          "WeekDay": 2,
          "West": 4,
          "Year": 2012
         },
         {
          "Date2": "2012-11-07 02:00:00",
          "DateString": "11/07/2012 02:00:00 AM",
          "East": 2,
          "Hour": 2,
          "JulianDay": 35,
          "WeekDay": 2,
          "West": 4,
          "Year": 2012
         },
         {
          "Date2": "2012-11-07 03:00:00",
          "DateString": "11/07/2012 03:00:00 AM",
          "East": 5,
          "Hour": 3,
          "JulianDay": 35,
          "WeekDay": 2,
          "West": 1,
          "Year": 2012
         },
         {
          "Date2": "2012-11-07 04:00:00",
          "DateString": "11/07/2012 04:00:00 AM",
          "East": 3,
          "Hour": 4,
          "JulianDay": 35,
          "WeekDay": 2,
          "West": 7,
          "Year": 2012
         },
         {
          "Date2": "2012-11-07 05:00:00",
          "DateString": "11/07/2012 05:00:00 AM",
          "East": 5,
          "Hour": 5,
          "JulianDay": 35,
          "WeekDay": 2,
          "West": 9,
          "Year": 2012
         },
         {
          "Date2": "2012-11-07 06:00:00",
          "DateString": "11/07/2012 06:00:00 AM",
          "East": 34,
          "Hour": 6,
          "JulianDay": 35,
          "WeekDay": 2,
          "West": 82,
          "Year": 2012
         },
         {
          "Date2": "2012-11-07 07:00:00",
          "DateString": "11/07/2012 07:00:00 AM",
          "East": 77,
          "Hour": 7,
          "JulianDay": 35,
          "WeekDay": 2,
          "West": 189,
          "Year": 2012
         },
         {
          "Date2": "2012-11-07 08:00:00",
          "DateString": "11/07/2012 08:00:00 AM",
          "East": 115,
          "Hour": 8,
          "JulianDay": 35,
          "WeekDay": 2,
          "West": 256,
          "Year": 2012
         },
         {
          "Date2": "2012-11-07 09:00:00",
          "DateString": "11/07/2012 09:00:00 AM",
          "East": 63,
          "Hour": 9,
          "JulianDay": 35,
          "WeekDay": 2,
          "West": 137,
          "Year": 2012
         },
         {
          "Date2": "2012-11-07 10:00:00",
          "DateString": "11/07/2012 10:00:00 AM",
          "East": 42,
          "Hour": 10,
          "JulianDay": 35,
          "WeekDay": 2,
          "West": 54,
          "Year": 2012
         },
         {
          "Date2": "2012-11-07 11:00:00",
          "DateString": "11/07/2012 11:00:00 AM",
          "East": 24,
          "Hour": 11,
          "JulianDay": 35,
          "WeekDay": 2,
          "West": 34,
          "Year": 2012
         },
         {
          "Date2": "2012-11-07 12:00:00",
          "DateString": "11/07/2012 12:00:00 PM",
          "East": 36,
          "Hour": 12,
          "JulianDay": 35,
          "WeekDay": 2,
          "West": 35,
          "Year": 2012
         },
         {
          "Date2": "2012-11-07 13:00:00",
          "DateString": "11/07/2012 01:00:00 PM",
          "East": 30,
          "Hour": 13,
          "JulianDay": 35,
          "WeekDay": 2,
          "West": 37,
          "Year": 2012
         },
         {
          "Date2": "2012-11-07 14:00:00",
          "DateString": "11/07/2012 02:00:00 PM",
          "East": 45,
          "Hour": 14,
          "JulianDay": 35,
          "WeekDay": 2,
          "West": 59,
          "Year": 2012
         },
         {
          "Date2": "2012-11-07 15:00:00",
          "DateString": "11/07/2012 03:00:00 PM",
          "East": 72,
          "Hour": 15,
          "JulianDay": 35,
          "WeekDay": 2,
          "West": 60,
          "Year": 2012
         },
         {
          "Date2": "2012-11-07 16:00:00",
          "DateString": "11/07/2012 04:00:00 PM",
          "East": 139,
          "Hour": 16,
          "JulianDay": 35,
          "WeekDay": 2,
          "West": 98,
          "Year": 2012
         },
         {
          "Date2": "2012-11-07 17:00:00",
          "DateString": "11/07/2012 05:00:00 PM",
          "East": 275,
          "Hour": 17,
          "JulianDay": 35,
          "WeekDay": 2,
          "West": 112,
          "Year": 2012
         },
         {
          "Date2": "2012-11-07 18:00:00",
          "DateString": "11/07/2012 06:00:00 PM",
          "East": 171,
          "Hour": 18,
          "JulianDay": 35,
          "WeekDay": 2,
          "West": 99,
          "Year": 2012
         },
         {
          "Date2": "2012-11-07 19:00:00",
          "DateString": "11/07/2012 07:00:00 PM",
          "East": 66,
          "Hour": 19,
          "JulianDay": 35,
          "WeekDay": 2,
          "West": 48,
          "Year": 2012
         },
         {
          "Date2": "2012-11-07 20:00:00",
          "DateString": "11/07/2012 08:00:00 PM",
          "East": 44,
          "Hour": 20,
          "JulianDay": 35,
          "WeekDay": 2,
          "West": 23,
          "Year": 2012
         },
         {
          "Date2": "2012-11-07 21:00:00",
          "DateString": "11/07/2012 09:00:00 PM",
          "East": 26,
          "Hour": 21,
          "JulianDay": 35,
          "WeekDay": 2,
          "West": 19,
          "Year": 2012
         },
         {
          "Date2": "2012-11-07 22:00:00",
          "DateString": "11/07/2012 10:00:00 PM",
          "East": 23,
          "Hour": 22,
          "JulianDay": 35,
          "WeekDay": 2,
          "West": 20,
          "Year": 2012
         },
         {
          "Date2": "2012-11-07 23:00:00",
          "DateString": "11/07/2012 11:00:00 PM",
          "East": 9,
          "Hour": 23,
          "JulianDay": 35,
          "WeekDay": 2,
          "West": 13,
          "Year": 2012
         },
         {
          "Date2": "2012-11-08 00:00:00",
          "DateString": "11/08/2012 12:00:00 AM",
          "East": 1,
          "Hour": 0,
          "JulianDay": 36,
          "WeekDay": 3,
          "West": 1,
          "Year": 2012
         },
         {
          "Date2": "2012-11-08 01:00:00",
          "DateString": "11/08/2012 01:00:00 AM",
          "East": 3,
          "Hour": 1,
          "JulianDay": 36,
          "WeekDay": 3,
          "West": 3,
          "Year": 2012
         },
         {
          "Date2": "2012-11-08 02:00:00",
          "DateString": "11/08/2012 02:00:00 AM",
          "East": 3,
          "Hour": 2,
          "JulianDay": 36,
          "WeekDay": 3,
          "West": 1,
          "Year": 2012
         },
         {
          "Date2": "2012-11-08 03:00:00",
          "DateString": "11/08/2012 03:00:00 AM",
          "East": 4,
          "Hour": 3,
          "JulianDay": 36,
          "WeekDay": 3,
          "West": 2,
          "Year": 2012
         },
         {
          "Date2": "2012-11-08 04:00:00",
          "DateString": "11/08/2012 04:00:00 AM",
          "East": 3,
          "Hour": 4,
          "JulianDay": 36,
          "WeekDay": 3,
          "West": 7,
          "Year": 2012
         },
         {
          "Date2": "2012-11-08 05:00:00",
          "DateString": "11/08/2012 05:00:00 AM",
          "East": 9,
          "Hour": 5,
          "JulianDay": 36,
          "WeekDay": 3,
          "West": 15,
          "Year": 2012
         },
         {
          "Date2": "2012-11-08 06:00:00",
          "DateString": "11/08/2012 06:00:00 AM",
          "East": 46,
          "Hour": 6,
          "JulianDay": 36,
          "WeekDay": 3,
          "West": 82,
          "Year": 2012
         },
         {
          "Date2": "2012-11-08 07:00:00",
          "DateString": "11/08/2012 07:00:00 AM",
          "East": 76,
          "Hour": 7,
          "JulianDay": 36,
          "WeekDay": 3,
          "West": 203,
          "Year": 2012
         },
         {
          "Date2": "2012-11-08 08:00:00",
          "DateString": "11/08/2012 08:00:00 AM",
          "East": 94,
          "Hour": 8,
          "JulianDay": 36,
          "WeekDay": 3,
          "West": 254,
          "Year": 2012
         },
         {
          "Date2": "2012-11-08 09:00:00",
          "DateString": "11/08/2012 09:00:00 AM",
          "East": 76,
          "Hour": 9,
          "JulianDay": 36,
          "WeekDay": 3,
          "West": 130,
          "Year": 2012
         },
         {
          "Date2": "2012-11-08 10:00:00",
          "DateString": "11/08/2012 10:00:00 AM",
          "East": 34,
          "Hour": 10,
          "JulianDay": 36,
          "WeekDay": 3,
          "West": 54,
          "Year": 2012
         },
         {
          "Date2": "2012-11-08 11:00:00",
          "DateString": "11/08/2012 11:00:00 AM",
          "East": 32,
          "Hour": 11,
          "JulianDay": 36,
          "WeekDay": 3,
          "West": 44,
          "Year": 2012
         },
         {
          "Date2": "2012-11-08 12:00:00",
          "DateString": "11/08/2012 12:00:00 PM",
          "East": 31,
          "Hour": 12,
          "JulianDay": 36,
          "WeekDay": 3,
          "West": 40,
          "Year": 2012
         },
         {
          "Date2": "2012-11-08 13:00:00",
          "DateString": "11/08/2012 01:00:00 PM",
          "East": 35,
          "Hour": 13,
          "JulianDay": 36,
          "WeekDay": 3,
          "West": 39,
          "Year": 2012
         },
         {
          "Date2": "2012-11-08 14:00:00",
          "DateString": "11/08/2012 02:00:00 PM",
          "East": 35,
          "Hour": 14,
          "JulianDay": 36,
          "WeekDay": 3,
          "West": 54,
          "Year": 2012
         },
         {
          "Date2": "2012-11-08 15:00:00",
          "DateString": "11/08/2012 03:00:00 PM",
          "East": 59,
          "Hour": 15,
          "JulianDay": 36,
          "WeekDay": 3,
          "West": 47,
          "Year": 2012
         },
         {
          "Date2": "2012-11-08 16:00:00",
          "DateString": "11/08/2012 04:00:00 PM",
          "East": 162,
          "Hour": 16,
          "JulianDay": 36,
          "WeekDay": 3,
          "West": 94,
          "Year": 2012
         },
         {
          "Date2": "2012-11-08 17:00:00",
          "DateString": "11/08/2012 05:00:00 PM",
          "East": 290,
          "Hour": 17,
          "JulianDay": 36,
          "WeekDay": 3,
          "West": 104,
          "Year": 2012
         },
         {
          "Date2": "2012-11-08 18:00:00",
          "DateString": "11/08/2012 06:00:00 PM",
          "East": 169,
          "Hour": 18,
          "JulianDay": 36,
          "WeekDay": 3,
          "West": 89,
          "Year": 2012
         },
         {
          "Date2": "2012-11-08 19:00:00",
          "DateString": "11/08/2012 07:00:00 PM",
          "East": 79,
          "Hour": 19,
          "JulianDay": 36,
          "WeekDay": 3,
          "West": 35,
          "Year": 2012
         },
         {
          "Date2": "2012-11-08 20:00:00",
          "DateString": "11/08/2012 08:00:00 PM",
          "East": 39,
          "Hour": 20,
          "JulianDay": 36,
          "WeekDay": 3,
          "West": 20,
          "Year": 2012
         },
         {
          "Date2": "2012-11-08 21:00:00",
          "DateString": "11/08/2012 09:00:00 PM",
          "East": 29,
          "Hour": 21,
          "JulianDay": 36,
          "WeekDay": 3,
          "West": 15,
          "Year": 2012
         },
         {
          "Date2": "2012-11-08 22:00:00",
          "DateString": "11/08/2012 10:00:00 PM",
          "East": 14,
          "Hour": 22,
          "JulianDay": 36,
          "WeekDay": 3,
          "West": 13,
          "Year": 2012
         },
         {
          "Date2": "2012-11-08 23:00:00",
          "DateString": "11/08/2012 11:00:00 PM",
          "East": 13,
          "Hour": 23,
          "JulianDay": 36,
          "WeekDay": 3,
          "West": 9,
          "Year": 2012
         },
         {
          "Date2": "2012-11-09 00:00:00",
          "DateString": "11/09/2012 12:00:00 AM",
          "East": 8,
          "Hour": 0,
          "JulianDay": 37,
          "WeekDay": 4,
          "West": 11,
          "Year": 2012
         },
         {
          "Date2": "2012-11-09 01:00:00",
          "DateString": "11/09/2012 01:00:00 AM",
          "East": 3,
          "Hour": 1,
          "JulianDay": 37,
          "WeekDay": 4,
          "West": 2,
          "Year": 2012
         },
         {
          "Date2": "2012-11-09 02:00:00",
          "DateString": "11/09/2012 02:00:00 AM",
          "East": 1,
          "Hour": 2,
          "JulianDay": 37,
          "WeekDay": 4,
          "West": 4,
          "Year": 2012
         },
         {
          "Date2": "2012-11-09 03:00:00",
          "DateString": "11/09/2012 03:00:00 AM",
          "East": 2,
          "Hour": 3,
          "JulianDay": 37,
          "WeekDay": 4,
          "West": 0,
          "Year": 2012
         },
         {
          "Date2": "2012-11-09 04:00:00",
          "DateString": "11/09/2012 04:00:00 AM",
          "East": 2,
          "Hour": 4,
          "JulianDay": 37,
          "WeekDay": 4,
          "West": 5,
          "Year": 2012
         },
         {
          "Date2": "2012-11-09 05:00:00",
          "DateString": "11/09/2012 05:00:00 AM",
          "East": 4,
          "Hour": 5,
          "JulianDay": 37,
          "WeekDay": 4,
          "West": 11,
          "Year": 2012
         },
         {
          "Date2": "2012-11-09 06:00:00",
          "DateString": "11/09/2012 06:00:00 AM",
          "East": 40,
          "Hour": 6,
          "JulianDay": 37,
          "WeekDay": 4,
          "West": 60,
          "Year": 2012
         },
         {
          "Date2": "2012-11-09 07:00:00",
          "DateString": "11/09/2012 07:00:00 AM",
          "East": 65,
          "Hour": 7,
          "JulianDay": 37,
          "WeekDay": 4,
          "West": 168,
          "Year": 2012
         },
         {
          "Date2": "2012-11-09 08:00:00",
          "DateString": "11/09/2012 08:00:00 AM",
          "East": 97,
          "Hour": 8,
          "JulianDay": 37,
          "WeekDay": 4,
          "West": 232,
          "Year": 2012
         },
         {
          "Date2": "2012-11-09 09:00:00",
          "DateString": "11/09/2012 09:00:00 AM",
          "East": 53,
          "Hour": 9,
          "JulianDay": 37,
          "WeekDay": 4,
          "West": 114,
          "Year": 2012
         },
         {
          "Date2": "2012-11-09 10:00:00",
          "DateString": "11/09/2012 10:00:00 AM",
          "East": 39,
          "Hour": 10,
          "JulianDay": 37,
          "WeekDay": 4,
          "West": 53,
          "Year": 2012
         },
         {
          "Date2": "2012-11-09 11:00:00",
          "DateString": "11/09/2012 11:00:00 AM",
          "East": 28,
          "Hour": 11,
          "JulianDay": 37,
          "WeekDay": 4,
          "West": 47,
          "Year": 2012
         },
         {
          "Date2": "2012-11-09 12:00:00",
          "DateString": "11/09/2012 12:00:00 PM",
          "East": 20,
          "Hour": 12,
          "JulianDay": 37,
          "WeekDay": 4,
          "West": 46,
          "Year": 2012
         },
         {
          "Date2": "2012-11-09 13:00:00",
          "DateString": "11/09/2012 01:00:00 PM",
          "East": 45,
          "Hour": 13,
          "JulianDay": 37,
          "WeekDay": 4,
          "West": 45,
          "Year": 2012
         },
         {
          "Date2": "2012-11-09 14:00:00",
          "DateString": "11/09/2012 02:00:00 PM",
          "East": 48,
          "Hour": 14,
          "JulianDay": 37,
          "WeekDay": 4,
          "West": 54,
          "Year": 2012
         },
         {
          "Date2": "2012-11-09 15:00:00",
          "DateString": "11/09/2012 03:00:00 PM",
          "East": 87,
          "Hour": 15,
          "JulianDay": 37,
          "WeekDay": 4,
          "West": 76,
          "Year": 2012
         },
         {
          "Date2": "2012-11-09 16:00:00",
          "DateString": "11/09/2012 04:00:00 PM",
          "East": 131,
          "Hour": 16,
          "JulianDay": 37,
          "WeekDay": 4,
          "West": 91,
          "Year": 2012
         },
         {
          "Date2": "2012-11-09 17:00:00",
          "DateString": "11/09/2012 05:00:00 PM",
          "East": 225,
          "Hour": 17,
          "JulianDay": 37,
          "WeekDay": 4,
          "West": 99,
          "Year": 2012
         },
         {
          "Date2": "2012-11-09 18:00:00",
          "DateString": "11/09/2012 06:00:00 PM",
          "East": 142,
          "Hour": 18,
          "JulianDay": 37,
          "WeekDay": 4,
          "West": 66,
          "Year": 2012
         },
         {
          "Date2": "2012-11-09 19:00:00",
          "DateString": "11/09/2012 07:00:00 PM",
          "East": 58,
          "Hour": 19,
          "JulianDay": 37,
          "WeekDay": 4,
          "West": 26,
          "Year": 2012
         },
         {
          "Date2": "2012-11-09 20:00:00",
          "DateString": "11/09/2012 08:00:00 PM",
          "East": 25,
          "Hour": 20,
          "JulianDay": 37,
          "WeekDay": 4,
          "West": 7,
          "Year": 2012
         },
         {
          "Date2": "2012-11-09 21:00:00",
          "DateString": "11/09/2012 09:00:00 PM",
          "East": 12,
          "Hour": 21,
          "JulianDay": 37,
          "WeekDay": 4,
          "West": 13,
          "Year": 2012
         },
         {
          "Date2": "2012-11-09 22:00:00",
          "DateString": "11/09/2012 10:00:00 PM",
          "East": 12,
          "Hour": 22,
          "JulianDay": 37,
          "WeekDay": 4,
          "West": 13,
          "Year": 2012
         },
         {
          "Date2": "2012-11-09 23:00:00",
          "DateString": "11/09/2012 11:00:00 PM",
          "East": 8,
          "Hour": 23,
          "JulianDay": 37,
          "WeekDay": 4,
          "West": 8,
          "Year": 2012
         },
         {
          "Date2": "2012-11-10 00:00:00",
          "DateString": "11/10/2012 12:00:00 AM",
          "East": 15,
          "Hour": 0,
          "JulianDay": 38,
          "WeekDay": 5,
          "West": 5,
          "Year": 2012
         },
         {
          "Date2": "2012-11-10 01:00:00",
          "DateString": "11/10/2012 01:00:00 AM",
          "East": 4,
          "Hour": 1,
          "JulianDay": 38,
          "WeekDay": 5,
          "West": 4,
          "Year": 2012
         },
         {
          "Date2": "2012-11-10 02:00:00",
          "DateString": "11/10/2012 02:00:00 AM",
          "East": 6,
          "Hour": 2,
          "JulianDay": 38,
          "WeekDay": 5,
          "West": 4,
          "Year": 2012
         },
         {
          "Date2": "2012-11-10 03:00:00",
          "DateString": "11/10/2012 03:00:00 AM",
          "East": 2,
          "Hour": 3,
          "JulianDay": 38,
          "WeekDay": 5,
          "West": 3,
          "Year": 2012
         },
         {
          "Date2": "2012-11-10 04:00:00",
          "DateString": "11/10/2012 04:00:00 AM",
          "East": 2,
          "Hour": 4,
          "JulianDay": 38,
          "WeekDay": 5,
          "West": 2,
          "Year": 2012
         },
         {
          "Date2": "2012-11-10 05:00:00",
          "DateString": "11/10/2012 05:00:00 AM",
          "East": 5,
          "Hour": 5,
          "JulianDay": 38,
          "WeekDay": 5,
          "West": 4,
          "Year": 2012
         },
         {
          "Date2": "2012-11-10 06:00:00",
          "DateString": "11/10/2012 06:00:00 AM",
          "East": 9,
          "Hour": 6,
          "JulianDay": 38,
          "WeekDay": 5,
          "West": 6,
          "Year": 2012
         },
         {
          "Date2": "2012-11-10 07:00:00",
          "DateString": "11/10/2012 07:00:00 AM",
          "East": 13,
          "Hour": 7,
          "JulianDay": 38,
          "WeekDay": 5,
          "West": 10,
          "Year": 2012
         },
         {
          "Date2": "2012-11-10 08:00:00",
          "DateString": "11/10/2012 08:00:00 AM",
          "East": 19,
          "Hour": 8,
          "JulianDay": 38,
          "WeekDay": 5,
          "West": 25,
          "Year": 2012
         },
         {
          "Date2": "2012-11-10 09:00:00",
          "DateString": "11/10/2012 09:00:00 AM",
          "East": 24,
          "Hour": 9,
          "JulianDay": 38,
          "WeekDay": 5,
          "West": 30,
          "Year": 2012
         },
         {
          "Date2": "2012-11-10 10:00:00",
          "DateString": "11/10/2012 10:00:00 AM",
          "East": 39,
          "Hour": 10,
          "JulianDay": 38,
          "WeekDay": 5,
          "West": 63,
          "Year": 2012
         },
         {
          "Date2": "2012-11-10 11:00:00",
          "DateString": "11/10/2012 11:00:00 AM",
          "East": 33,
          "Hour": 11,
          "JulianDay": 38,
          "WeekDay": 5,
          "West": 69,
          "Year": 2012
         },
         {
          "Date2": "2012-11-10 12:00:00",
          "DateString": "11/10/2012 12:00:00 PM",
          "East": 63,
          "Hour": 12,
          "JulianDay": 38,
          "WeekDay": 5,
          "West": 75,
          "Year": 2012
         },
         {
          "Date2": "2012-11-10 13:00:00",
          "DateString": "11/10/2012 01:00:00 PM",
          "East": 54,
          "Hour": 13,
          "JulianDay": 38,
          "WeekDay": 5,
          "West": 76,
          "Year": 2012
         },
         {
          "Date2": "2012-11-10 14:00:00",
          "DateString": "11/10/2012 02:00:00 PM",
          "East": 73,
          "Hour": 14,
          "JulianDay": 38,
          "WeekDay": 5,
          "West": 69,
          "Year": 2012
         },
         {
          "Date2": "2012-11-10 15:00:00",
          "DateString": "11/10/2012 03:00:00 PM",
          "East": 41,
          "Hour": 15,
          "JulianDay": 38,
          "WeekDay": 5,
          "West": 96,
          "Year": 2012
         },
         {
          "Date2": "2012-11-10 16:00:00",
          "DateString": "11/10/2012 04:00:00 PM",
          "East": 58,
          "Hour": 16,
          "JulianDay": 38,
          "WeekDay": 5,
          "West": 51,
          "Year": 2012
         },
         {
          "Date2": "2012-11-10 17:00:00",
          "DateString": "11/10/2012 05:00:00 PM",
          "East": 37,
          "Hour": 17,
          "JulianDay": 38,
          "WeekDay": 5,
          "West": 35,
          "Year": 2012
         },
         {
          "Date2": "2012-11-10 18:00:00",
          "DateString": "11/10/2012 06:00:00 PM",
          "East": 30,
          "Hour": 18,
          "JulianDay": 38,
          "WeekDay": 5,
          "West": 17,
          "Year": 2012
         },
         {
          "Date2": "2012-11-10 19:00:00",
          "DateString": "11/10/2012 07:00:00 PM",
          "East": 13,
          "Hour": 19,
          "JulianDay": 38,
          "WeekDay": 5,
          "West": 13,
          "Year": 2012
         },
         {
          "Date2": "2012-11-10 20:00:00",
          "DateString": "11/10/2012 08:00:00 PM",
          "East": 14,
          "Hour": 20,
          "JulianDay": 38,
          "WeekDay": 5,
          "West": 10,
          "Year": 2012
         },
         {
          "Date2": "2012-11-10 21:00:00",
          "DateString": "11/10/2012 09:00:00 PM",
          "East": 8,
          "Hour": 21,
          "JulianDay": 38,
          "WeekDay": 5,
          "West": 7,
          "Year": 2012
         },
         {
          "Date2": "2012-11-10 22:00:00",
          "DateString": "11/10/2012 10:00:00 PM",
          "East": 10,
          "Hour": 22,
          "JulianDay": 38,
          "WeekDay": 5,
          "West": 5,
          "Year": 2012
         },
         {
          "Date2": "2012-11-10 23:00:00",
          "DateString": "11/10/2012 11:00:00 PM",
          "East": 12,
          "Hour": 23,
          "JulianDay": 38,
          "WeekDay": 5,
          "West": 6,
          "Year": 2012
         },
         {
          "Date2": "2012-11-11 00:00:00",
          "DateString": "11/11/2012 12:00:00 AM",
          "East": 3,
          "Hour": 0,
          "JulianDay": 39,
          "WeekDay": 6,
          "West": 7,
          "Year": 2012
         },
         {
          "Date2": "2012-11-11 01:00:00",
          "DateString": "11/11/2012 01:00:00 AM",
          "East": 4,
          "Hour": 1,
          "JulianDay": 39,
          "WeekDay": 6,
          "West": 3,
          "Year": 2012
         },
         {
          "Date2": "2012-11-11 02:00:00",
          "DateString": "11/11/2012 02:00:00 AM",
          "East": 8,
          "Hour": 2,
          "JulianDay": 39,
          "WeekDay": 6,
          "West": 0,
          "Year": 2012
         },
         {
          "Date2": "2012-11-11 03:00:00",
          "DateString": "11/11/2012 03:00:00 AM",
          "East": 1,
          "Hour": 3,
          "JulianDay": 39,
          "WeekDay": 6,
          "West": 3,
          "Year": 2012
         },
         {
          "Date2": "2012-11-11 04:00:00",
          "DateString": "11/11/2012 04:00:00 AM",
          "East": 0,
          "Hour": 4,
          "JulianDay": 39,
          "WeekDay": 6,
          "West": 3,
          "Year": 2012
         },
         {
          "Date2": "2012-11-11 05:00:00",
          "DateString": "11/11/2012 05:00:00 AM",
          "East": 3,
          "Hour": 5,
          "JulianDay": 39,
          "WeekDay": 6,
          "West": 0,
          "Year": 2012
         },
         {
          "Date2": "2012-11-11 06:00:00",
          "DateString": "11/11/2012 06:00:00 AM",
          "East": 11,
          "Hour": 6,
          "JulianDay": 39,
          "WeekDay": 6,
          "West": 1,
          "Year": 2012
         },
         {
          "Date2": "2012-11-11 07:00:00",
          "DateString": "11/11/2012 07:00:00 AM",
          "East": 10,
          "Hour": 7,
          "JulianDay": 39,
          "WeekDay": 6,
          "West": 11,
          "Year": 2012
         },
         {
          "Date2": "2012-11-11 08:00:00",
          "DateString": "11/11/2012 08:00:00 AM",
          "East": 15,
          "Hour": 8,
          "JulianDay": 39,
          "WeekDay": 6,
          "West": 21,
          "Year": 2012
         },
         {
          "Date2": "2012-11-11 09:00:00",
          "DateString": "11/11/2012 09:00:00 AM",
          "East": 30,
          "Hour": 9,
          "JulianDay": 39,
          "WeekDay": 6,
          "West": 28,
          "Year": 2012
         },
         {
          "Date2": "2012-11-11 10:00:00",
          "DateString": "11/11/2012 10:00:00 AM",
          "East": 14,
          "Hour": 10,
          "JulianDay": 39,
          "WeekDay": 6,
          "West": 40,
          "Year": 2012
         },
         {
          "Date2": "2012-11-11 11:00:00",
          "DateString": "11/11/2012 11:00:00 AM",
          "East": 30,
          "Hour": 11,
          "JulianDay": 39,
          "WeekDay": 6,
          "West": 28,
          "Year": 2012
         },
         {
          "Date2": "2012-11-11 12:00:00",
          "DateString": "11/11/2012 12:00:00 PM",
          "East": 24,
          "Hour": 12,
          "JulianDay": 39,
          "WeekDay": 6,
          "West": 27,
          "Year": 2012
         },
         {
          "Date2": "2012-11-11 13:00:00",
          "DateString": "11/11/2012 01:00:00 PM",
          "East": 23,
          "Hour": 13,
          "JulianDay": 39,
          "WeekDay": 6,
          "West": 35,
          "Year": 2012
         },
         {
          "Date2": "2012-11-11 14:00:00",
          "DateString": "11/11/2012 02:00:00 PM",
          "East": 32,
          "Hour": 14,
          "JulianDay": 39,
          "WeekDay": 6,
          "West": 39,
          "Year": 2012
         },
         {
          "Date2": "2012-11-11 15:00:00",
          "DateString": "11/11/2012 03:00:00 PM",
          "East": 16,
          "Hour": 15,
          "JulianDay": 39,
          "WeekDay": 6,
          "West": 19,
          "Year": 2012
         },
         {
          "Date2": "2012-11-11 16:00:00",
          "DateString": "11/11/2012 04:00:00 PM",
          "East": 12,
          "Hour": 16,
          "JulianDay": 39,
          "WeekDay": 6,
          "West": 27,
          "Year": 2012
         },
         {
          "Date2": "2012-11-11 17:00:00",
          "DateString": "11/11/2012 05:00:00 PM",
          "East": 20,
          "Hour": 17,
          "JulianDay": 39,
          "WeekDay": 6,
          "West": 7,
          "Year": 2012
         },
         {
          "Date2": "2012-11-11 18:00:00",
          "DateString": "11/11/2012 06:00:00 PM",
          "East": 14,
          "Hour": 18,
          "JulianDay": 39,
          "WeekDay": 6,
          "West": 5,
          "Year": 2012
         },
         {
          "Date2": "2012-11-11 19:00:00",
          "DateString": "11/11/2012 07:00:00 PM",
          "East": 6,
          "Hour": 19,
          "JulianDay": 39,
          "WeekDay": 6,
          "West": 8,
          "Year": 2012
         },
         {
          "Date2": "2012-11-11 20:00:00",
          "DateString": "11/11/2012 08:00:00 PM",
          "East": 6,
          "Hour": 20,
          "JulianDay": 39,
          "WeekDay": 6,
          "West": 5,
          "Year": 2012
         },
         {
          "Date2": "2012-11-11 21:00:00",
          "DateString": "11/11/2012 09:00:00 PM",
          "East": 8,
          "Hour": 21,
          "JulianDay": 39,
          "WeekDay": 6,
          "West": 6,
          "Year": 2012
         },
         {
          "Date2": "2012-11-11 22:00:00",
          "DateString": "11/11/2012 10:00:00 PM",
          "East": 3,
          "Hour": 22,
          "JulianDay": 39,
          "WeekDay": 6,
          "West": 4,
          "Year": 2012
         },
         {
          "Date2": "2012-11-11 23:00:00",
          "DateString": "11/11/2012 11:00:00 PM",
          "East": 8,
          "Hour": 23,
          "JulianDay": 39,
          "WeekDay": 6,
          "West": 0,
          "Year": 2012
         },
         {
          "Date2": "2012-11-12 00:00:00",
          "DateString": "11/12/2012 12:00:00 AM",
          "East": 0,
          "Hour": 0,
          "JulianDay": 40,
          "WeekDay": 0,
          "West": 4,
          "Year": 2012
         },
         {
          "Date2": "2012-11-12 01:00:00",
          "DateString": "11/12/2012 01:00:00 AM",
          "East": 0,
          "Hour": 1,
          "JulianDay": 40,
          "WeekDay": 0,
          "West": 1,
          "Year": 2012
         },
         {
          "Date2": "2012-11-12 02:00:00",
          "DateString": "11/12/2012 02:00:00 AM",
          "East": 2,
          "Hour": 2,
          "JulianDay": 40,
          "WeekDay": 0,
          "West": 2,
          "Year": 2012
         },
         {
          "Date2": "2012-11-12 03:00:00",
          "DateString": "11/12/2012 03:00:00 AM",
          "East": 1,
          "Hour": 3,
          "JulianDay": 40,
          "WeekDay": 0,
          "West": 0,
          "Year": 2012
         },
         {
          "Date2": "2012-11-12 04:00:00",
          "DateString": "11/12/2012 04:00:00 AM",
          "East": 1,
          "Hour": 4,
          "JulianDay": 40,
          "WeekDay": 0,
          "West": 1,
          "Year": 2012
         },
         {
          "Date2": "2012-11-12 05:00:00",
          "DateString": "11/12/2012 05:00:00 AM",
          "East": 2,
          "Hour": 5,
          "JulianDay": 40,
          "WeekDay": 0,
          "West": 9,
          "Year": 2012
         },
         {
          "Date2": "2012-11-12 06:00:00",
          "DateString": "11/12/2012 06:00:00 AM",
          "East": 19,
          "Hour": 6,
          "JulianDay": 40,
          "WeekDay": 0,
          "West": 44,
          "Year": 2012
         },
         {
          "Date2": "2012-11-12 07:00:00",
          "DateString": "11/12/2012 07:00:00 AM",
          "East": 42,
          "Hour": 7,
          "JulianDay": 40,
          "WeekDay": 0,
          "West": 104,
          "Year": 2012
         },
         {
          "Date2": "2012-11-12 08:00:00",
          "DateString": "11/12/2012 08:00:00 AM",
          "East": 65,
          "Hour": 8,
          "JulianDay": 40,
          "WeekDay": 0,
          "West": 148,
          "Year": 2012
         },
         {
          "Date2": "2012-11-12 09:00:00",
          "DateString": "11/12/2012 09:00:00 AM",
          "East": 54,
          "Hour": 9,
          "JulianDay": 40,
          "WeekDay": 0,
          "West": 81,
          "Year": 2012
         },
         {
          "Date2": "2012-11-12 10:00:00",
          "DateString": "11/12/2012 10:00:00 AM",
          "East": 21,
          "Hour": 10,
          "JulianDay": 40,
          "WeekDay": 0,
          "West": 31,
          "Year": 2012
         },
         {
          "Date2": "2012-11-12 11:00:00",
          "DateString": "11/12/2012 11:00:00 AM",
          "East": 18,
          "Hour": 11,
          "JulianDay": 40,
          "WeekDay": 0,
          "West": 28,
          "Year": 2012
         },
         {
          "Date2": "2012-11-12 12:00:00",
          "DateString": "11/12/2012 12:00:00 PM",
          "East": 15,
          "Hour": 12,
          "JulianDay": 40,
          "WeekDay": 0,
          "West": 28,
          "Year": 2012
         },
         {
          "Date2": "2012-11-12 13:00:00",
          "DateString": "11/12/2012 01:00:00 PM",
          "East": 18,
          "Hour": 13,
          "JulianDay": 40,
          "WeekDay": 0,
          "West": 19,
          "Year": 2012
         },
         {
          "Date2": "2012-11-12 14:00:00",
          "DateString": "11/12/2012 02:00:00 PM",
          "East": 26,
          "Hour": 14,
          "JulianDay": 40,
          "WeekDay": 0,
          "West": 34,
          "Year": 2012
         },
         {
          "Date2": "2012-11-12 15:00:00",
          "DateString": "11/12/2012 03:00:00 PM",
          "East": 44,
          "Hour": 15,
          "JulianDay": 40,
          "WeekDay": 0,
          "West": 36,
          "Year": 2012
         },
         {
          "Date2": "2012-11-12 16:00:00",
          "DateString": "11/12/2012 04:00:00 PM",
          "East": 76,
          "Hour": 16,
          "JulianDay": 40,
          "WeekDay": 0,
          "West": 62,
          "Year": 2012
         },
         {
          "Date2": "2012-11-12 17:00:00",
          "DateString": "11/12/2012 05:00:00 PM",
          "East": 178,
          "Hour": 17,
          "JulianDay": 40,
          "WeekDay": 0,
          "West": 83,
          "Year": 2012
         },
         {
          "Date2": "2012-11-12 18:00:00",
          "DateString": "11/12/2012 06:00:00 PM",
          "East": 113,
          "Hour": 18,
          "JulianDay": 40,
          "WeekDay": 0,
          "West": 63,
          "Year": 2012
         },
         {
          "Date2": "2012-11-12 19:00:00",
          "DateString": "11/12/2012 07:00:00 PM",
          "East": 45,
          "Hour": 19,
          "JulianDay": 40,
          "WeekDay": 0,
          "West": 23,
          "Year": 2012
         },
         {
          "Date2": "2012-11-12 20:00:00",
          "DateString": "11/12/2012 08:00:00 PM",
          "East": 16,
          "Hour": 20,
          "JulianDay": 40,
          "WeekDay": 0,
          "West": 7,
          "Year": 2012
         },
         {
          "Date2": "2012-11-12 21:00:00",
          "DateString": "11/12/2012 09:00:00 PM",
          "East": 15,
          "Hour": 21,
          "JulianDay": 40,
          "WeekDay": 0,
          "West": 11,
          "Year": 2012
         },
         {
          "Date2": "2012-11-12 22:00:00",
          "DateString": "11/12/2012 10:00:00 PM",
          "East": 11,
          "Hour": 22,
          "JulianDay": 40,
          "WeekDay": 0,
          "West": 13,
          "Year": 2012
         },
         {
          "Date2": "2012-11-12 23:00:00",
          "DateString": "11/12/2012 11:00:00 PM",
          "East": 10,
          "Hour": 23,
          "JulianDay": 40,
          "WeekDay": 0,
          "West": 7,
          "Year": 2012
         },
         {
          "Date2": "2012-11-13 00:00:00",
          "DateString": "11/13/2012 12:00:00 AM",
          "East": 5,
          "Hour": 0,
          "JulianDay": 41,
          "WeekDay": 1,
          "West": 4,
          "Year": 2012
         },
         {
          "Date2": "2012-11-13 01:00:00",
          "DateString": "11/13/2012 01:00:00 AM",
          "East": 2,
          "Hour": 1,
          "JulianDay": 41,
          "WeekDay": 1,
          "West": 1,
          "Year": 2012
         },
         {
          "Date2": "2012-11-13 02:00:00",
          "DateString": "11/13/2012 02:00:00 AM",
          "East": 1,
          "Hour": 2,
          "JulianDay": 41,
          "WeekDay": 1,
          "West": 3,
          "Year": 2012
         },
         {
          "Date2": "2012-11-13 03:00:00",
          "DateString": "11/13/2012 03:00:00 AM",
          "East": 1,
          "Hour": 3,
          "JulianDay": 41,
          "WeekDay": 1,
          "West": 1,
          "Year": 2012
         },
         {
          "Date2": "2012-11-13 04:00:00",
          "DateString": "11/13/2012 04:00:00 AM",
          "East": 2,
          "Hour": 4,
          "JulianDay": 41,
          "WeekDay": 1,
          "West": 6,
          "Year": 2012
         },
         {
          "Date2": "2012-11-13 05:00:00",
          "DateString": "11/13/2012 05:00:00 AM",
          "East": 8,
          "Hour": 5,
          "JulianDay": 41,
          "WeekDay": 1,
          "West": 17,
          "Year": 2012
         },
         {
          "Date2": "2012-11-13 06:00:00",
          "DateString": "11/13/2012 06:00:00 AM",
          "East": 37,
          "Hour": 6,
          "JulianDay": 41,
          "WeekDay": 1,
          "West": 76,
          "Year": 2012
         },
         {
          "Date2": "2012-11-13 07:00:00",
          "DateString": "11/13/2012 07:00:00 AM",
          "East": 66,
          "Hour": 7,
          "JulianDay": 41,
          "WeekDay": 1,
          "West": 180,
          "Year": 2012
         },
         {
          "Date2": "2012-11-13 08:00:00",
          "DateString": "11/13/2012 08:00:00 AM",
          "East": 100,
          "Hour": 8,
          "JulianDay": 41,
          "WeekDay": 1,
          "West": 218,
          "Year": 2012
         },
         {
          "Date2": "2012-11-13 09:00:00",
          "DateString": "11/13/2012 09:00:00 AM",
          "East": 67,
          "Hour": 9,
          "JulianDay": 41,
          "WeekDay": 1,
          "West": 104,
          "Year": 2012
         },
         {
          "Date2": "2012-11-13 10:00:00",
          "DateString": "11/13/2012 10:00:00 AM",
          "East": 26,
          "Hour": 10,
          "JulianDay": 41,
          "WeekDay": 1,
          "West": 30,
          "Year": 2012
         },
         {
          "Date2": "2012-11-13 11:00:00",
          "DateString": "11/13/2012 11:00:00 AM",
          "East": 18,
          "Hour": 11,
          "JulianDay": 41,
          "WeekDay": 1,
          "West": 34,
          "Year": 2012
         },
         {
          "Date2": "2012-11-13 12:00:00",
          "DateString": "11/13/2012 12:00:00 PM",
          "East": 6,
          "Hour": 12,
          "JulianDay": 41,
          "WeekDay": 1,
          "West": 22,
          "Year": 2012
         },
         {
          "Date2": "2012-11-13 13:00:00",
          "DateString": "11/13/2012 01:00:00 PM",
          "East": 20,
          "Hour": 13,
          "JulianDay": 41,
          "WeekDay": 1,
          "West": 21,
          "Year": 2012
         },
         {
          "Date2": "2012-11-13 14:00:00",
          "DateString": "11/13/2012 02:00:00 PM",
          "East": 30,
          "Hour": 14,
          "JulianDay": 41,
          "WeekDay": 1,
          "West": 21,
          "Year": 2012
         },
         {
          "Date2": "2012-11-13 15:00:00",
          "DateString": "11/13/2012 03:00:00 PM",
          "East": 38,
          "Hour": 15,
          "JulianDay": 41,
          "WeekDay": 1,
          "West": 37,
          "Year": 2012
         }
        ]
       },
       "encoding": {
        "color": {
         "field": "JulianDay",
         "legend": null,
         "scale": {
          "range": [
           "red"
          ]
         },
         "type": "quantitative"
        },
        "x": {
         "field": "Hour",
         "type": "quantitative"
        },
        "y": {
         "field": "East",
         "type": "quantitative"
        }
       },
       "mark": {
        "opacity": 0.1,
        "type": "line"
       }
      },
      "image/png": "[encoded data removed]",
      "text/plain": [
       "<VegaLite 2 object>\n",
       "\n",
       "If you see this message, it means the renderer has not been properly enabled\n",
       "for the frontend that you are using. For more information, see\n",
       "https://altair-viz.github.io/user_guide/troubleshooting.html\n"
      ]
     },
     "execution_count": 26,
     "metadata": {},
     "output_type": "execute_result"
    }
   ],
   "source": [
    "c2 = alt.Chart(bike2_df[0:1000]).mark_line(opacity=0.1).encode(\n",
    "    x=alt.X('Hour:Q'),\n",
    "    y='East:Q',\n",
    "    color=alt.Color('JulianDay:Q',  legend=None, scale=alt.Scale(range=['red'])))\n",
    "c2"
   ]
  },
  {
   "cell_type": "code",
   "execution_count": 27,
   "metadata": {},
   "outputs": [
    {
     "data": {
      "application/vnd.vegalite.v2+json": {
       "$schema": "https://vega.github.io/schema/vega-lite/v2.4.3.json",
       "config": {
        "view": {
         "height": 300,
         "width": 400
        }
       },
       "data": {
        "values": [
         {
          "Date2": "2012-10-03 00:00:00",
          "DateString": "10/03/2012 12:00:00 AM",
          "East": 9,
          "Hour": 0,
          "JulianDay": 0,
          "WeekDay": 2,
          "West": 4,
          "Year": 2012
         },
         {
          "Date2": "2012-10-03 01:00:00",
          "DateString": "10/03/2012 01:00:00 AM",
          "East": 6,
          "Hour": 1,
          "JulianDay": 0,
          "WeekDay": 2,
          "West": 4,
          "Year": 2012
         },
         {
          "Date2": "2012-10-03 02:00:00",
          "DateString": "10/03/2012 02:00:00 AM",
          "East": 1,
          "Hour": 2,
          "JulianDay": 0,
          "WeekDay": 2,
          "West": 1,
          "Year": 2012
         },
         {
          "Date2": "2012-10-03 03:00:00",
          "DateString": "10/03/2012 03:00:00 AM",
          "East": 3,
          "Hour": 3,
          "JulianDay": 0,
          "WeekDay": 2,
          "West": 2,
          "Year": 2012
         },
         {
          "Date2": "2012-10-03 04:00:00",
          "DateString": "10/03/2012 04:00:00 AM",
          "East": 1,
          "Hour": 4,
          "JulianDay": 0,
          "WeekDay": 2,
          "West": 6,
          "Year": 2012
         },
         {
          "Date2": "2012-10-03 05:00:00",
          "DateString": "10/03/2012 05:00:00 AM",
          "East": 10,
          "Hour": 5,
          "JulianDay": 0,
          "WeekDay": 2,
          "West": 21,
          "Year": 2012
         },
         {
          "Date2": "2012-10-03 06:00:00",
          "DateString": "10/03/2012 06:00:00 AM",
          "East": 50,
          "Hour": 6,
          "JulianDay": 0,
          "WeekDay": 2,
          "West": 105,
          "Year": 2012
         },
         {
          "Date2": "2012-10-03 07:00:00",
          "DateString": "10/03/2012 07:00:00 AM",
          "East": 95,
          "Hour": 7,
          "JulianDay": 0,
          "WeekDay": 2,
          "West": 257,
          "Year": 2012
         },
         {
          "Date2": "2012-10-03 08:00:00",
          "DateString": "10/03/2012 08:00:00 AM",
          "East": 146,
          "Hour": 8,
          "JulianDay": 0,
          "WeekDay": 2,
          "West": 291,
          "Year": 2012
         },
         {
          "Date2": "2012-10-03 09:00:00",
          "DateString": "10/03/2012 09:00:00 AM",
          "East": 104,
          "Hour": 9,
          "JulianDay": 0,
          "WeekDay": 2,
          "West": 172,
          "Year": 2012
         },
         {
          "Date2": "2012-10-03 10:00:00",
          "DateString": "10/03/2012 10:00:00 AM",
          "East": 46,
          "Hour": 10,
          "JulianDay": 0,
          "WeekDay": 2,
          "West": 72,
          "Year": 2012
         },
         {
          "Date2": "2012-10-03 11:00:00",
          "DateString": "10/03/2012 11:00:00 AM",
          "East": 32,
          "Hour": 11,
          "JulianDay": 0,
          "WeekDay": 2,
          "West": 10,
          "Year": 2012
         },
         {
          "Date2": "2012-10-03 12:00:00",
          "DateString": "10/03/2012 12:00:00 PM",
          "East": 41,
          "Hour": 12,
          "JulianDay": 0,
          "WeekDay": 2,
          "West": 35,
          "Year": 2012
         },
         {
          "Date2": "2012-10-03 13:00:00",
          "DateString": "10/03/2012 01:00:00 PM",
          "East": 48,
          "Hour": 13,
          "JulianDay": 0,
          "WeekDay": 2,
          "West": 42,
          "Year": 2012
         },
         {
          "Date2": "2012-10-03 14:00:00",
          "DateString": "10/03/2012 02:00:00 PM",
          "East": 51,
          "Hour": 14,
          "JulianDay": 0,
          "WeekDay": 2,
          "West": 77,
          "Year": 2012
         },
         {
          "Date2": "2012-10-03 15:00:00",
          "DateString": "10/03/2012 03:00:00 PM",
          "East": 92,
          "Hour": 15,
          "JulianDay": 0,
          "WeekDay": 2,
          "West": 72,
          "Year": 2012
         },
         {
          "Date2": "2012-10-03 16:00:00",
          "DateString": "10/03/2012 04:00:00 PM",
          "East": 182,
          "Hour": 16,
          "JulianDay": 0,
          "WeekDay": 2,
          "West": 133,
          "Year": 2012
         },
         {
          "Date2": "2012-10-03 17:00:00",
          "DateString": "10/03/2012 05:00:00 PM",
          "East": 391,
          "Hour": 17,
          "JulianDay": 0,
          "WeekDay": 2,
          "West": 192,
          "Year": 2012
         },
         {
          "Date2": "2012-10-03 18:00:00",
          "DateString": "10/03/2012 06:00:00 PM",
          "East": 258,
          "Hour": 18,
          "JulianDay": 0,
          "WeekDay": 2,
          "West": 122,
          "Year": 2012
         },
         {
          "Date2": "2012-10-03 19:00:00",
          "DateString": "10/03/2012 07:00:00 PM",
          "East": 69,
          "Hour": 19,
          "JulianDay": 0,
          "WeekDay": 2,
          "West": 59,
          "Year": 2012
         },
         {
          "Date2": "2012-10-03 20:00:00",
          "DateString": "10/03/2012 08:00:00 PM",
          "East": 51,
          "Hour": 20,
          "JulianDay": 0,
          "WeekDay": 2,
          "West": 29,
          "Year": 2012
         },
         {
          "Date2": "2012-10-03 21:00:00",
          "DateString": "10/03/2012 09:00:00 PM",
          "East": 38,
          "Hour": 21,
          "JulianDay": 0,
          "WeekDay": 2,
          "West": 25,
          "Year": 2012
         },
         {
          "Date2": "2012-10-03 22:00:00",
          "DateString": "10/03/2012 10:00:00 PM",
          "East": 25,
          "Hour": 22,
          "JulianDay": 0,
          "WeekDay": 2,
          "West": 24,
          "Year": 2012
         },
         {
          "Date2": "2012-10-03 23:00:00",
          "DateString": "10/03/2012 11:00:00 PM",
          "East": 12,
          "Hour": 23,
          "JulianDay": 0,
          "WeekDay": 2,
          "West": 5,
          "Year": 2012
         },
         {
          "Date2": "2012-10-04 00:00:00",
          "DateString": "10/04/2012 12:00:00 AM",
          "East": 11,
          "Hour": 0,
          "JulianDay": 1,
          "WeekDay": 3,
          "West": 7,
          "Year": 2012
         },
         {
          "Date2": "2012-10-04 01:00:00",
          "DateString": "10/04/2012 01:00:00 AM",
          "East": 0,
          "Hour": 1,
          "JulianDay": 1,
          "WeekDay": 3,
          "West": 3,
          "Year": 2012
         },
         {
          "Date2": "2012-10-04 02:00:00",
          "DateString": "10/04/2012 02:00:00 AM",
          "East": 6,
          "Hour": 2,
          "JulianDay": 1,
          "WeekDay": 3,
          "West": 3,
          "Year": 2012
         },
         {
          "Date2": "2012-10-04 03:00:00",
          "DateString": "10/04/2012 03:00:00 AM",
          "East": 3,
          "Hour": 3,
          "JulianDay": 1,
          "WeekDay": 3,
          "West": 0,
          "Year": 2012
         },
         {
          "Date2": "2012-10-04 04:00:00",
          "DateString": "10/04/2012 04:00:00 AM",
          "East": 1,
          "Hour": 4,
          "JulianDay": 1,
          "WeekDay": 3,
          "West": 7,
          "Year": 2012
         },
         {
          "Date2": "2012-10-04 05:00:00",
          "DateString": "10/04/2012 05:00:00 AM",
          "East": 11,
          "Hour": 5,
          "JulianDay": 1,
          "WeekDay": 3,
          "West": 15,
          "Year": 2012
         },
         {
          "Date2": "2012-10-04 06:00:00",
          "DateString": "10/04/2012 06:00:00 AM",
          "East": 51,
          "Hour": 6,
          "JulianDay": 1,
          "WeekDay": 3,
          "West": 91,
          "Year": 2012
         },
         {
          "Date2": "2012-10-04 07:00:00",
          "DateString": "10/04/2012 07:00:00 AM",
          "East": 89,
          "Hour": 7,
          "JulianDay": 1,
          "WeekDay": 3,
          "West": 230,
          "Year": 2012
         },
         {
          "Date2": "2012-10-04 08:00:00",
          "DateString": "10/04/2012 08:00:00 AM",
          "East": 134,
          "Hour": 8,
          "JulianDay": 1,
          "WeekDay": 3,
          "West": 284,
          "Year": 2012
         },
         {
          "Date2": "2012-10-04 09:00:00",
          "DateString": "10/04/2012 09:00:00 AM",
          "East": 94,
          "Hour": 9,
          "JulianDay": 1,
          "WeekDay": 3,
          "West": 147,
          "Year": 2012
         },
         {
          "Date2": "2012-10-04 10:00:00",
          "DateString": "10/04/2012 10:00:00 AM",
          "East": 53,
          "Hour": 10,
          "JulianDay": 1,
          "WeekDay": 3,
          "West": 67,
          "Year": 2012
         },
         {
          "Date2": "2012-10-04 11:00:00",
          "DateString": "10/04/2012 11:00:00 AM",
          "East": 55,
          "Hour": 11,
          "JulianDay": 1,
          "WeekDay": 3,
          "West": 53,
          "Year": 2012
         },
         {
          "Date2": "2012-10-04 12:00:00",
          "DateString": "10/04/2012 12:00:00 PM",
          "East": 50,
          "Hour": 12,
          "JulianDay": 1,
          "WeekDay": 3,
          "West": 54,
          "Year": 2012
         },
         {
          "Date2": "2012-10-04 13:00:00",
          "DateString": "10/04/2012 01:00:00 PM",
          "East": 71,
          "Hour": 13,
          "JulianDay": 1,
          "WeekDay": 3,
          "West": 55,
          "Year": 2012
         },
         {
          "Date2": "2012-10-04 14:00:00",
          "DateString": "10/04/2012 02:00:00 PM",
          "East": 56,
          "Hour": 14,
          "JulianDay": 1,
          "WeekDay": 3,
          "West": 63,
          "Year": 2012
         },
         {
          "Date2": "2012-10-04 15:00:00",
          "DateString": "10/04/2012 03:00:00 PM",
          "East": 74,
          "Hour": 15,
          "JulianDay": 1,
          "WeekDay": 3,
          "West": 73,
          "Year": 2012
         },
         {
          "Date2": "2012-10-04 16:00:00",
          "DateString": "10/04/2012 04:00:00 PM",
          "East": 161,
          "Hour": 16,
          "JulianDay": 1,
          "WeekDay": 3,
          "West": 114,
          "Year": 2012
         },
         {
          "Date2": "2012-10-04 17:00:00",
          "DateString": "10/04/2012 05:00:00 PM",
          "East": 353,
          "Hour": 17,
          "JulianDay": 1,
          "WeekDay": 3,
          "West": 154,
          "Year": 2012
         },
         {
          "Date2": "2012-10-04 18:00:00",
          "DateString": "10/04/2012 06:00:00 PM",
          "East": 241,
          "Hour": 18,
          "JulianDay": 1,
          "WeekDay": 3,
          "West": 137,
          "Year": 2012
         },
         {
          "Date2": "2012-10-04 19:00:00",
          "DateString": "10/04/2012 07:00:00 PM",
          "East": 107,
          "Hour": 19,
          "JulianDay": 1,
          "WeekDay": 3,
          "West": 57,
          "Year": 2012
         },
         {
          "Date2": "2012-10-04 20:00:00",
          "DateString": "10/04/2012 08:00:00 PM",
          "East": 56,
          "Hour": 20,
          "JulianDay": 1,
          "WeekDay": 3,
          "West": 27,
          "Year": 2012
         },
         {
          "Date2": "2012-10-04 21:00:00",
          "DateString": "10/04/2012 09:00:00 PM",
          "East": 39,
          "Hour": 21,
          "JulianDay": 1,
          "WeekDay": 3,
          "West": 31,
          "Year": 2012
         },
         {
          "Date2": "2012-10-04 22:00:00",
          "DateString": "10/04/2012 10:00:00 PM",
          "East": 21,
          "Hour": 22,
          "JulianDay": 1,
          "WeekDay": 3,
          "West": 25,
          "Year": 2012
         },
         {
          "Date2": "2012-10-04 23:00:00",
          "DateString": "10/04/2012 11:00:00 PM",
          "East": 30,
          "Hour": 23,
          "JulianDay": 1,
          "WeekDay": 3,
          "West": 11,
          "Year": 2012
         },
         {
          "Date2": "2012-10-05 00:00:00",
          "DateString": "10/05/2012 12:00:00 AM",
          "East": 7,
          "Hour": 0,
          "JulianDay": 2,
          "WeekDay": 4,
          "West": 4,
          "Year": 2012
         },
         {
          "Date2": "2012-10-05 01:00:00",
          "DateString": "10/05/2012 01:00:00 AM",
          "East": 4,
          "Hour": 1,
          "JulianDay": 2,
          "WeekDay": 4,
          "West": 4,
          "Year": 2012
         },
         {
          "Date2": "2012-10-05 02:00:00",
          "DateString": "10/05/2012 02:00:00 AM",
          "East": 3,
          "Hour": 2,
          "JulianDay": 2,
          "WeekDay": 4,
          "West": 4,
          "Year": 2012
         },
         {
          "Date2": "2012-10-05 03:00:00",
          "DateString": "10/05/2012 03:00:00 AM",
          "East": 2,
          "Hour": 3,
          "JulianDay": 2,
          "WeekDay": 4,
          "West": 2,
          "Year": 2012
         },
         {
          "Date2": "2012-10-05 04:00:00",
          "DateString": "10/05/2012 04:00:00 AM",
          "East": 2,
          "Hour": 4,
          "JulianDay": 2,
          "WeekDay": 4,
          "West": 7,
          "Year": 2012
         },
         {
          "Date2": "2012-10-05 05:00:00",
          "DateString": "10/05/2012 05:00:00 AM",
          "East": 7,
          "Hour": 5,
          "JulianDay": 2,
          "WeekDay": 4,
          "West": 18,
          "Year": 2012
         },
         {
          "Date2": "2012-10-05 06:00:00",
          "DateString": "10/05/2012 06:00:00 AM",
          "East": 37,
          "Hour": 6,
          "JulianDay": 2,
          "WeekDay": 4,
          "West": 68,
          "Year": 2012
         },
         {
          "Date2": "2012-10-05 07:00:00",
          "DateString": "10/05/2012 07:00:00 AM",
          "East": 101,
          "Hour": 7,
          "JulianDay": 2,
          "WeekDay": 4,
          "West": 218,
          "Year": 2012
         },
         {
          "Date2": "2012-10-05 08:00:00",
          "DateString": "10/05/2012 08:00:00 AM",
          "East": 119,
          "Hour": 8,
          "JulianDay": 2,
          "WeekDay": 4,
          "West": 251,
          "Year": 2012
         },
         {
          "Date2": "2012-10-05 09:00:00",
          "DateString": "10/05/2012 09:00:00 AM",
          "East": 81,
          "Hour": 9,
          "JulianDay": 2,
          "WeekDay": 4,
          "West": 131,
          "Year": 2012
         },
         {
          "Date2": "2012-10-05 10:00:00",
          "DateString": "10/05/2012 10:00:00 AM",
          "East": 48,
          "Hour": 10,
          "JulianDay": 2,
          "WeekDay": 4,
          "West": 71,
          "Year": 2012
         },
         {
          "Date2": "2012-10-05 11:00:00",
          "DateString": "10/05/2012 11:00:00 AM",
          "East": 61,
          "Hour": 11,
          "JulianDay": 2,
          "WeekDay": 4,
          "West": 43,
          "Year": 2012
         },
         {
          "Date2": "2012-10-05 12:00:00",
          "DateString": "10/05/2012 12:00:00 PM",
          "East": 46,
          "Hour": 12,
          "JulianDay": 2,
          "WeekDay": 4,
          "West": 55,
          "Year": 2012
         },
         {
          "Date2": "2012-10-05 13:00:00",
          "DateString": "10/05/2012 01:00:00 PM",
          "East": 50,
          "Hour": 13,
          "JulianDay": 2,
          "WeekDay": 4,
          "West": 62,
          "Year": 2012
         },
         {
          "Date2": "2012-10-05 14:00:00",
          "DateString": "10/05/2012 02:00:00 PM",
          "East": 62,
          "Hour": 14,
          "JulianDay": 2,
          "WeekDay": 4,
          "West": 63,
          "Year": 2012
         },
         {
          "Date2": "2012-10-05 15:00:00",
          "DateString": "10/05/2012 03:00:00 PM",
          "East": 84,
          "Hour": 15,
          "JulianDay": 2,
          "WeekDay": 4,
          "West": 80,
          "Year": 2012
         },
         {
          "Date2": "2012-10-05 16:00:00",
          "DateString": "10/05/2012 04:00:00 PM",
          "East": 190,
          "Hour": 16,
          "JulianDay": 2,
          "WeekDay": 4,
          "West": 120,
          "Year": 2012
         },
         {
          "Date2": "2012-10-05 17:00:00",
          "DateString": "10/05/2012 05:00:00 PM",
          "East": 290,
          "Hour": 17,
          "JulianDay": 2,
          "WeekDay": 4,
          "West": 144,
          "Year": 2012
         },
         {
          "Date2": "2012-10-05 18:00:00",
          "DateString": "10/05/2012 06:00:00 PM",
          "East": 209,
          "Hour": 18,
          "JulianDay": 2,
          "WeekDay": 4,
          "West": 107,
          "Year": 2012
         },
         {
          "Date2": "2012-10-05 19:00:00",
          "DateString": "10/05/2012 07:00:00 PM",
          "East": 73,
          "Hour": 19,
          "JulianDay": 2,
          "WeekDay": 4,
          "West": 42,
          "Year": 2012
         },
         {
          "Date2": "2012-10-05 20:00:00",
          "DateString": "10/05/2012 08:00:00 PM",
          "East": 41,
          "Hour": 20,
          "JulianDay": 2,
          "WeekDay": 4,
          "West": 27,
          "Year": 2012
         },
         {
          "Date2": "2012-10-05 21:00:00",
          "DateString": "10/05/2012 09:00:00 PM",
          "East": 31,
          "Hour": 21,
          "JulianDay": 2,
          "WeekDay": 4,
          "West": 11,
          "Year": 2012
         },
         {
          "Date2": "2012-10-05 22:00:00",
          "DateString": "10/05/2012 10:00:00 PM",
          "East": 26,
          "Hour": 22,
          "JulianDay": 2,
          "WeekDay": 4,
          "West": 10,
          "Year": 2012
         },
         {
          "Date2": "2012-10-05 23:00:00",
          "DateString": "10/05/2012 11:00:00 PM",
          "East": 16,
          "Hour": 23,
          "JulianDay": 2,
          "WeekDay": 4,
          "West": 16,
          "Year": 2012
         },
         {
          "Date2": "2012-10-06 00:00:00",
          "DateString": "10/06/2012 12:00:00 AM",
          "East": 7,
          "Hour": 0,
          "JulianDay": 3,
          "WeekDay": 5,
          "West": 8,
          "Year": 2012
         },
         {
          "Date2": "2012-10-06 01:00:00",
          "DateString": "10/06/2012 01:00:00 AM",
          "East": 5,
          "Hour": 1,
          "JulianDay": 3,
          "WeekDay": 5,
          "West": 10,
          "Year": 2012
         },
         {
          "Date2": "2012-10-06 02:00:00",
          "DateString": "10/06/2012 02:00:00 AM",
          "East": 2,
          "Hour": 2,
          "JulianDay": 3,
          "WeekDay": 5,
          "West": 7,
          "Year": 2012
         },
         {
          "Date2": "2012-10-06 03:00:00",
          "DateString": "10/06/2012 03:00:00 AM",
          "East": 2,
          "Hour": 3,
          "JulianDay": 3,
          "WeekDay": 5,
          "West": 1,
          "Year": 2012
         },
         {
          "Date2": "2012-10-06 04:00:00",
          "DateString": "10/06/2012 04:00:00 AM",
          "East": 1,
          "Hour": 4,
          "JulianDay": 3,
          "WeekDay": 5,
          "West": 4,
          "Year": 2012
         },
         {
          "Date2": "2012-10-06 05:00:00",
          "DateString": "10/06/2012 05:00:00 AM",
          "East": 2,
          "Hour": 5,
          "JulianDay": 3,
          "WeekDay": 5,
          "West": 3,
          "Year": 2012
         },
         {
          "Date2": "2012-10-06 06:00:00",
          "DateString": "10/06/2012 06:00:00 AM",
          "East": 15,
          "Hour": 6,
          "JulianDay": 3,
          "WeekDay": 5,
          "West": 12,
          "Year": 2012
         },
         {
          "Date2": "2012-10-06 07:00:00",
          "DateString": "10/06/2012 07:00:00 AM",
          "East": 16,
          "Hour": 7,
          "JulianDay": 3,
          "WeekDay": 5,
          "West": 17,
          "Year": 2012
         },
         {
          "Date2": "2012-10-06 08:00:00",
          "DateString": "10/06/2012 08:00:00 AM",
          "East": 47,
          "Hour": 8,
          "JulianDay": 3,
          "WeekDay": 5,
          "West": 58,
          "Year": 2012
         },
         {
          "Date2": "2012-10-06 09:00:00",
          "DateString": "10/06/2012 09:00:00 AM",
          "East": 55,
          "Hour": 9,
          "JulianDay": 3,
          "WeekDay": 5,
          "West": 59,
          "Year": 2012
         },
         {
          "Date2": "2012-10-06 10:00:00",
          "DateString": "10/06/2012 10:00:00 AM",
          "East": 47,
          "Hour": 10,
          "JulianDay": 3,
          "WeekDay": 5,
          "West": 68,
          "Year": 2012
         },
         {
          "Date2": "2012-10-06 11:00:00",
          "DateString": "10/06/2012 11:00:00 AM",
          "East": 48,
          "Hour": 11,
          "JulianDay": 3,
          "WeekDay": 5,
          "West": 76,
          "Year": 2012
         },
         {
          "Date2": "2012-10-06 12:00:00",
          "DateString": "10/06/2012 12:00:00 PM",
          "East": 73,
          "Hour": 12,
          "JulianDay": 3,
          "WeekDay": 5,
          "West": 91,
          "Year": 2012
         },
         {
          "Date2": "2012-10-06 13:00:00",
          "DateString": "10/06/2012 01:00:00 PM",
          "East": 82,
          "Hour": 13,
          "JulianDay": 3,
          "WeekDay": 5,
          "West": 95,
          "Year": 2012
         },
         {
          "Date2": "2012-10-06 14:00:00",
          "DateString": "10/06/2012 02:00:00 PM",
          "East": 114,
          "Hour": 14,
          "JulianDay": 3,
          "WeekDay": 5,
          "West": 89,
          "Year": 2012
         },
         {
          "Date2": "2012-10-06 15:00:00",
          "DateString": "10/06/2012 03:00:00 PM",
          "East": 96,
          "Hour": 15,
          "JulianDay": 3,
          "WeekDay": 5,
          "West": 115,
          "Year": 2012
         },
         {
          "Date2": "2012-10-06 16:00:00",
          "DateString": "10/06/2012 04:00:00 PM",
          "East": 76,
          "Hour": 16,
          "JulianDay": 3,
          "WeekDay": 5,
          "West": 107,
          "Year": 2012
         },
         {
          "Date2": "2012-10-06 17:00:00",
          "DateString": "10/06/2012 05:00:00 PM",
          "East": 73,
          "Hour": 17,
          "JulianDay": 3,
          "WeekDay": 5,
          "West": 107,
          "Year": 2012
         },
         {
          "Date2": "2012-10-06 18:00:00",
          "DateString": "10/06/2012 06:00:00 PM",
          "East": 55,
          "Hour": 18,
          "JulianDay": 3,
          "WeekDay": 5,
          "West": 41,
          "Year": 2012
         },
         {
          "Date2": "2012-10-06 19:00:00",
          "DateString": "10/06/2012 07:00:00 PM",
          "East": 38,
          "Hour": 19,
          "JulianDay": 3,
          "WeekDay": 5,
          "West": 40,
          "Year": 2012
         },
         {
          "Date2": "2012-10-06 20:00:00",
          "DateString": "10/06/2012 08:00:00 PM",
          "East": 18,
          "Hour": 20,
          "JulianDay": 3,
          "WeekDay": 5,
          "West": 25,
          "Year": 2012
         },
         {
          "Date2": "2012-10-06 21:00:00",
          "DateString": "10/06/2012 09:00:00 PM",
          "East": 15,
          "Hour": 21,
          "JulianDay": 3,
          "WeekDay": 5,
          "West": 18,
          "Year": 2012
         },
         {
          "Date2": "2012-10-06 22:00:00",
          "DateString": "10/06/2012 10:00:00 PM",
          "East": 20,
          "Hour": 22,
          "JulianDay": 3,
          "WeekDay": 5,
          "West": 14,
          "Year": 2012
         },
         {
          "Date2": "2012-10-06 23:00:00",
          "DateString": "10/06/2012 11:00:00 PM",
          "East": 19,
          "Hour": 23,
          "JulianDay": 3,
          "WeekDay": 5,
          "West": 15,
          "Year": 2012
         },
         {
          "Date2": "2012-10-07 00:00:00",
          "DateString": "10/07/2012 12:00:00 AM",
          "East": 5,
          "Hour": 0,
          "JulianDay": 4,
          "WeekDay": 6,
          "West": 6,
          "Year": 2012
         },
         {
          "Date2": "2012-10-07 01:00:00",
          "DateString": "10/07/2012 01:00:00 AM",
          "East": 5,
          "Hour": 1,
          "JulianDay": 4,
          "WeekDay": 6,
          "West": 12,
          "Year": 2012
         },
         {
          "Date2": "2012-10-07 02:00:00",
          "DateString": "10/07/2012 02:00:00 AM",
          "East": 1,
          "Hour": 2,
          "JulianDay": 4,
          "WeekDay": 6,
          "West": 2,
          "Year": 2012
         },
         {
          "Date2": "2012-10-07 03:00:00",
          "DateString": "10/07/2012 03:00:00 AM",
          "East": 2,
          "Hour": 3,
          "JulianDay": 4,
          "WeekDay": 6,
          "West": 4,
          "Year": 2012
         },
         {
          "Date2": "2012-10-07 04:00:00",
          "DateString": "10/07/2012 04:00:00 AM",
          "East": 2,
          "Hour": 4,
          "JulianDay": 4,
          "WeekDay": 6,
          "West": 1,
          "Year": 2012
         },
         {
          "Date2": "2012-10-07 05:00:00",
          "DateString": "10/07/2012 05:00:00 AM",
          "East": 3,
          "Hour": 5,
          "JulianDay": 4,
          "WeekDay": 6,
          "West": 6,
          "Year": 2012
         },
         {
          "Date2": "2012-10-07 06:00:00",
          "DateString": "10/07/2012 06:00:00 AM",
          "East": 8,
          "Hour": 6,
          "JulianDay": 4,
          "WeekDay": 6,
          "West": 9,
          "Year": 2012
         },
         {
          "Date2": "2012-10-07 07:00:00",
          "DateString": "10/07/2012 07:00:00 AM",
          "East": 12,
          "Hour": 7,
          "JulianDay": 4,
          "WeekDay": 6,
          "West": 14,
          "Year": 2012
         },
         {
          "Date2": "2012-10-07 08:00:00",
          "DateString": "10/07/2012 08:00:00 AM",
          "East": 26,
          "Hour": 8,
          "JulianDay": 4,
          "WeekDay": 6,
          "West": 43,
          "Year": 2012
         },
         {
          "Date2": "2012-10-07 09:00:00",
          "DateString": "10/07/2012 09:00:00 AM",
          "East": 36,
          "Hour": 9,
          "JulianDay": 4,
          "WeekDay": 6,
          "West": 67,
          "Year": 2012
         },
         {
          "Date2": "2012-10-07 10:00:00",
          "DateString": "10/07/2012 10:00:00 AM",
          "East": 41,
          "Hour": 10,
          "JulianDay": 4,
          "WeekDay": 6,
          "West": 67,
          "Year": 2012
         },
         {
          "Date2": "2012-10-07 11:00:00",
          "DateString": "10/07/2012 11:00:00 AM",
          "East": 71,
          "Hour": 11,
          "JulianDay": 4,
          "WeekDay": 6,
          "West": 94,
          "Year": 2012
         },
         {
          "Date2": "2012-10-07 12:00:00",
          "DateString": "10/07/2012 12:00:00 PM",
          "East": 91,
          "Hour": 12,
          "JulianDay": 4,
          "WeekDay": 6,
          "West": 100,
          "Year": 2012
         },
         {
          "Date2": "2012-10-07 13:00:00",
          "DateString": "10/07/2012 01:00:00 PM",
          "East": 99,
          "Hour": 13,
          "JulianDay": 4,
          "WeekDay": 6,
          "West": 129,
          "Year": 2012
         },
         {
          "Date2": "2012-10-07 14:00:00",
          "DateString": "10/07/2012 02:00:00 PM",
          "East": 115,
          "Hour": 14,
          "JulianDay": 4,
          "WeekDay": 6,
          "West": 126,
          "Year": 2012
         },
         {
          "Date2": "2012-10-07 15:00:00",
          "DateString": "10/07/2012 03:00:00 PM",
          "East": 109,
          "Hour": 15,
          "JulianDay": 4,
          "WeekDay": 6,
          "West": 122,
          "Year": 2012
         },
         {
          "Date2": "2012-10-07 16:00:00",
          "DateString": "10/07/2012 04:00:00 PM",
          "East": 93,
          "Hour": 16,
          "JulianDay": 4,
          "WeekDay": 6,
          "West": 132,
          "Year": 2012
         },
         {
          "Date2": "2012-10-07 17:00:00",
          "DateString": "10/07/2012 05:00:00 PM",
          "East": 73,
          "Hour": 17,
          "JulianDay": 4,
          "WeekDay": 6,
          "West": 118,
          "Year": 2012
         },
         {
          "Date2": "2012-10-07 18:00:00",
          "DateString": "10/07/2012 06:00:00 PM",
          "East": 45,
          "Hour": 18,
          "JulianDay": 4,
          "WeekDay": 6,
          "West": 68,
          "Year": 2012
         },
         {
          "Date2": "2012-10-07 19:00:00",
          "DateString": "10/07/2012 07:00:00 PM",
          "East": 23,
          "Hour": 19,
          "JulianDay": 4,
          "WeekDay": 6,
          "West": 26,
          "Year": 2012
         },
         {
          "Date2": "2012-10-07 20:00:00",
          "DateString": "10/07/2012 08:00:00 PM",
          "East": 36,
          "Hour": 20,
          "JulianDay": 4,
          "WeekDay": 6,
          "West": 19,
          "Year": 2012
         },
         {
          "Date2": "2012-10-07 21:00:00",
          "DateString": "10/07/2012 09:00:00 PM",
          "East": 35,
          "Hour": 21,
          "JulianDay": 4,
          "WeekDay": 6,
          "West": 12,
          "Year": 2012
         },
         {
          "Date2": "2012-10-07 22:00:00",
          "DateString": "10/07/2012 10:00:00 PM",
          "East": 9,
          "Hour": 22,
          "JulianDay": 4,
          "WeekDay": 6,
          "West": 9,
          "Year": 2012
         },
         {
          "Date2": "2012-10-07 23:00:00",
          "DateString": "10/07/2012 11:00:00 PM",
          "East": 11,
          "Hour": 23,
          "JulianDay": 4,
          "WeekDay": 6,
          "West": 5,
          "Year": 2012
         },
         {
          "Date2": "2012-10-08 00:00:00",
          "DateString": "10/08/2012 12:00:00 AM",
          "East": 5,
          "Hour": 0,
          "JulianDay": 5,
          "WeekDay": 0,
          "West": 4,
          "Year": 2012
         },
         {
          "Date2": "2012-10-08 01:00:00",
          "DateString": "10/08/2012 01:00:00 AM",
          "East": 2,
          "Hour": 1,
          "JulianDay": 5,
          "WeekDay": 0,
          "West": 2,
          "Year": 2012
         },
         {
          "Date2": "2012-10-08 02:00:00",
          "DateString": "10/08/2012 02:00:00 AM",
          "East": 0,
          "Hour": 2,
          "JulianDay": 5,
          "WeekDay": 0,
          "West": 5,
          "Year": 2012
         },
         {
          "Date2": "2012-10-08 03:00:00",
          "DateString": "10/08/2012 03:00:00 AM",
          "East": 4,
          "Hour": 3,
          "JulianDay": 5,
          "WeekDay": 0,
          "West": 1,
          "Year": 2012
         },
         {
          "Date2": "2012-10-08 04:00:00",
          "DateString": "10/08/2012 04:00:00 AM",
          "East": 2,
          "Hour": 4,
          "JulianDay": 5,
          "WeekDay": 0,
          "West": 3,
          "Year": 2012
         },
         {
          "Date2": "2012-10-08 05:00:00",
          "DateString": "10/08/2012 05:00:00 AM",
          "East": 7,
          "Hour": 5,
          "JulianDay": 5,
          "WeekDay": 0,
          "West": 16,
          "Year": 2012
         },
         {
          "Date2": "2012-10-08 06:00:00",
          "DateString": "10/08/2012 06:00:00 AM",
          "East": 48,
          "Hour": 6,
          "JulianDay": 5,
          "WeekDay": 0,
          "West": 89,
          "Year": 2012
         },
         {
          "Date2": "2012-10-08 07:00:00",
          "DateString": "10/08/2012 07:00:00 AM",
          "East": 94,
          "Hour": 7,
          "JulianDay": 5,
          "WeekDay": 0,
          "West": 233,
          "Year": 2012
         },
         {
          "Date2": "2012-10-08 08:00:00",
          "DateString": "10/08/2012 08:00:00 AM",
          "East": 153,
          "Hour": 8,
          "JulianDay": 5,
          "WeekDay": 0,
          "West": 304,
          "Year": 2012
         },
         {
          "Date2": "2012-10-08 09:00:00",
          "DateString": "10/08/2012 09:00:00 AM",
          "East": 104,
          "Hour": 9,
          "JulianDay": 5,
          "WeekDay": 0,
          "West": 174,
          "Year": 2012
         },
         {
          "Date2": "2012-10-08 10:00:00",
          "DateString": "10/08/2012 10:00:00 AM",
          "East": 44,
          "Hour": 10,
          "JulianDay": 5,
          "WeekDay": 0,
          "West": 53,
          "Year": 2012
         },
         {
          "Date2": "2012-10-08 11:00:00",
          "DateString": "10/08/2012 11:00:00 AM",
          "East": 44,
          "Hour": 11,
          "JulianDay": 5,
          "WeekDay": 0,
          "West": 55,
          "Year": 2012
         },
         {
          "Date2": "2012-10-08 12:00:00",
          "DateString": "10/08/2012 12:00:00 PM",
          "East": 55,
          "Hour": 12,
          "JulianDay": 5,
          "WeekDay": 0,
          "West": 53,
          "Year": 2012
         },
         {
          "Date2": "2012-10-08 13:00:00",
          "DateString": "10/08/2012 01:00:00 PM",
          "East": 44,
          "Hour": 13,
          "JulianDay": 5,
          "WeekDay": 0,
          "West": 52,
          "Year": 2012
         },
         {
          "Date2": "2012-10-08 14:00:00",
          "DateString": "10/08/2012 02:00:00 PM",
          "East": 62,
          "Hour": 14,
          "JulianDay": 5,
          "WeekDay": 0,
          "West": 59,
          "Year": 2012
         },
         {
          "Date2": "2012-10-08 15:00:00",
          "DateString": "10/08/2012 03:00:00 PM",
          "East": 75,
          "Hour": 15,
          "JulianDay": 5,
          "WeekDay": 0,
          "West": 92,
          "Year": 2012
         },
         {
          "Date2": "2012-10-08 16:00:00",
          "DateString": "10/08/2012 04:00:00 PM",
          "East": 135,
          "Hour": 16,
          "JulianDay": 5,
          "WeekDay": 0,
          "West": 117,
          "Year": 2012
         },
         {
          "Date2": "2012-10-08 17:00:00",
          "DateString": "10/08/2012 05:00:00 PM",
          "East": 390,
          "Hour": 17,
          "JulianDay": 5,
          "WeekDay": 0,
          "West": 214,
          "Year": 2012
         },
         {
          "Date2": "2012-10-08 18:00:00",
          "DateString": "10/08/2012 06:00:00 PM",
          "East": 226,
          "Hour": 18,
          "JulianDay": 5,
          "WeekDay": 0,
          "West": 139,
          "Year": 2012
         },
         {
          "Date2": "2012-10-08 19:00:00",
          "DateString": "10/08/2012 07:00:00 PM",
          "East": 95,
          "Hour": 19,
          "JulianDay": 5,
          "WeekDay": 0,
          "West": 73,
          "Year": 2012
         },
         {
          "Date2": "2012-10-08 20:00:00",
          "DateString": "10/08/2012 08:00:00 PM",
          "East": 57,
          "Hour": 20,
          "JulianDay": 5,
          "WeekDay": 0,
          "West": 37,
          "Year": 2012
         },
         {
          "Date2": "2012-10-08 21:00:00",
          "DateString": "10/08/2012 09:00:00 PM",
          "East": 35,
          "Hour": 21,
          "JulianDay": 5,
          "WeekDay": 0,
          "West": 28,
          "Year": 2012
         },
         {
          "Date2": "2012-10-08 22:00:00",
          "DateString": "10/08/2012 10:00:00 PM",
          "East": 14,
          "Hour": 22,
          "JulianDay": 5,
          "WeekDay": 0,
          "West": 15,
          "Year": 2012
         },
         {
          "Date2": "2012-10-08 23:00:00",
          "DateString": "10/08/2012 11:00:00 PM",
          "East": 13,
          "Hour": 23,
          "JulianDay": 5,
          "WeekDay": 0,
          "West": 11,
          "Year": 2012
         },
         {
          "Date2": "2012-10-09 00:00:00",
          "DateString": "10/09/2012 12:00:00 AM",
          "East": 4,
          "Hour": 0,
          "JulianDay": 6,
          "WeekDay": 1,
          "West": 8,
          "Year": 2012
         },
         {
          "Date2": "2012-10-09 01:00:00",
          "DateString": "10/09/2012 01:00:00 AM",
          "East": 2,
          "Hour": 1,
          "JulianDay": 6,
          "WeekDay": 1,
          "West": 1,
          "Year": 2012
         },
         {
          "Date2": "2012-10-09 02:00:00",
          "DateString": "10/09/2012 02:00:00 AM",
          "East": 2,
          "Hour": 2,
          "JulianDay": 6,
          "WeekDay": 1,
          "West": 2,
          "Year": 2012
         },
         {
          "Date2": "2012-10-09 03:00:00",
          "DateString": "10/09/2012 03:00:00 AM",
          "East": 3,
          "Hour": 3,
          "JulianDay": 6,
          "WeekDay": 1,
          "West": 5,
          "Year": 2012
         },
         {
          "Date2": "2012-10-09 04:00:00",
          "DateString": "10/09/2012 04:00:00 AM",
          "East": 5,
          "Hour": 4,
          "JulianDay": 6,
          "WeekDay": 1,
          "West": 4,
          "Year": 2012
         },
         {
          "Date2": "2012-10-09 05:00:00",
          "DateString": "10/09/2012 05:00:00 AM",
          "East": 9,
          "Hour": 5,
          "JulianDay": 6,
          "WeekDay": 1,
          "West": 22,
          "Year": 2012
         },
         {
          "Date2": "2012-10-09 06:00:00",
          "DateString": "10/09/2012 06:00:00 AM",
          "East": 50,
          "Hour": 6,
          "JulianDay": 6,
          "WeekDay": 1,
          "West": 103,
          "Year": 2012
         },
         {
          "Date2": "2012-10-09 07:00:00",
          "DateString": "10/09/2012 07:00:00 AM",
          "East": 110,
          "Hour": 7,
          "JulianDay": 6,
          "WeekDay": 1,
          "West": 258,
          "Year": 2012
         },
         {
          "Date2": "2012-10-09 08:00:00",
          "DateString": "10/09/2012 08:00:00 AM",
          "East": 145,
          "Hour": 8,
          "JulianDay": 6,
          "WeekDay": 1,
          "West": 317,
          "Year": 2012
         },
         {
          "Date2": "2012-10-09 09:00:00",
          "DateString": "10/09/2012 09:00:00 AM",
          "East": 112,
          "Hour": 9,
          "JulianDay": 6,
          "WeekDay": 1,
          "West": 163,
          "Year": 2012
         },
         {
          "Date2": "2012-10-09 10:00:00",
          "DateString": "10/09/2012 10:00:00 AM",
          "East": 36,
          "Hour": 10,
          "JulianDay": 6,
          "WeekDay": 1,
          "West": 58,
          "Year": 2012
         },
         {
          "Date2": "2012-10-09 11:00:00",
          "DateString": "10/09/2012 11:00:00 AM",
          "East": 45,
          "Hour": 11,
          "JulianDay": 6,
          "WeekDay": 1,
          "West": 29,
          "Year": 2012
         },
         {
          "Date2": "2012-10-09 12:00:00",
          "DateString": "10/09/2012 12:00:00 PM",
          "East": 40,
          "Hour": 12,
          "JulianDay": 6,
          "WeekDay": 1,
          "West": 37,
          "Year": 2012
         },
         {
          "Date2": "2012-10-09 13:00:00",
          "DateString": "10/09/2012 01:00:00 PM",
          "East": 37,
          "Hour": 13,
          "JulianDay": 6,
          "WeekDay": 1,
          "West": 46,
          "Year": 2012
         },
         {
          "Date2": "2012-10-09 14:00:00",
          "DateString": "10/09/2012 02:00:00 PM",
          "East": 54,
          "Hour": 14,
          "JulianDay": 6,
          "WeekDay": 1,
          "West": 54,
          "Year": 2012
         },
         {
          "Date2": "2012-10-09 15:00:00",
          "DateString": "10/09/2012 03:00:00 PM",
          "East": 72,
          "Hour": 15,
          "JulianDay": 6,
          "WeekDay": 1,
          "West": 62,
          "Year": 2012
         },
         {
          "Date2": "2012-10-09 16:00:00",
          "DateString": "10/09/2012 04:00:00 PM",
          "East": 149,
          "Hour": 16,
          "JulianDay": 6,
          "WeekDay": 1,
          "West": 95,
          "Year": 2012
         },
         {
          "Date2": "2012-10-09 17:00:00",
          "DateString": "10/09/2012 05:00:00 PM",
          "East": 400,
          "Hour": 17,
          "JulianDay": 6,
          "WeekDay": 1,
          "West": 197,
          "Year": 2012
         },
         {
          "Date2": "2012-10-09 18:00:00",
          "DateString": "10/09/2012 06:00:00 PM",
          "East": 244,
          "Hour": 18,
          "JulianDay": 6,
          "WeekDay": 1,
          "West": 152,
          "Year": 2012
         },
         {
          "Date2": "2012-10-09 19:00:00",
          "DateString": "10/09/2012 07:00:00 PM",
          "East": 105,
          "Hour": 19,
          "JulianDay": 6,
          "WeekDay": 1,
          "West": 58,
          "Year": 2012
         },
         {
          "Date2": "2012-10-09 20:00:00",
          "DateString": "10/09/2012 08:00:00 PM",
          "East": 53,
          "Hour": 20,
          "JulianDay": 6,
          "WeekDay": 1,
          "West": 32,
          "Year": 2012
         },
         {
          "Date2": "2012-10-09 21:00:00",
          "DateString": "10/09/2012 09:00:00 PM",
          "East": 34,
          "Hour": 21,
          "JulianDay": 6,
          "WeekDay": 1,
          "West": 30,
          "Year": 2012
         },
         {
          "Date2": "2012-10-09 22:00:00",
          "DateString": "10/09/2012 10:00:00 PM",
          "East": 17,
          "Hour": 22,
          "JulianDay": 6,
          "WeekDay": 1,
          "West": 17,
          "Year": 2012
         },
         {
          "Date2": "2012-10-09 23:00:00",
          "DateString": "10/09/2012 11:00:00 PM",
          "East": 14,
          "Hour": 23,
          "JulianDay": 6,
          "WeekDay": 1,
          "West": 9,
          "Year": 2012
         },
         {
          "Date2": "2012-10-10 00:00:00",
          "DateString": "10/10/2012 12:00:00 AM",
          "East": 7,
          "Hour": 0,
          "JulianDay": 7,
          "WeekDay": 2,
          "West": 8,
          "Year": 2012
         },
         {
          "Date2": "2012-10-10 01:00:00",
          "DateString": "10/10/2012 01:00:00 AM",
          "East": 2,
          "Hour": 1,
          "JulianDay": 7,
          "WeekDay": 2,
          "West": 1,
          "Year": 2012
         },
         {
          "Date2": "2012-10-10 02:00:00",
          "DateString": "10/10/2012 02:00:00 AM",
          "East": 0,
          "Hour": 2,
          "JulianDay": 7,
          "WeekDay": 2,
          "West": 3,
          "Year": 2012
         },
         {
          "Date2": "2012-10-10 03:00:00",
          "DateString": "10/10/2012 03:00:00 AM",
          "East": 3,
          "Hour": 3,
          "JulianDay": 7,
          "WeekDay": 2,
          "West": 1,
          "Year": 2012
         },
         {
          "Date2": "2012-10-10 04:00:00",
          "DateString": "10/10/2012 04:00:00 AM",
          "East": 2,
          "Hour": 4,
          "JulianDay": 7,
          "WeekDay": 2,
          "West": 3,
          "Year": 2012
         },
         {
          "Date2": "2012-10-10 05:00:00",
          "DateString": "10/10/2012 05:00:00 AM",
          "East": 9,
          "Hour": 5,
          "JulianDay": 7,
          "WeekDay": 2,
          "West": 16,
          "Year": 2012
         },
         {
          "Date2": "2012-10-10 06:00:00",
          "DateString": "10/10/2012 06:00:00 AM",
          "East": 40,
          "Hour": 6,
          "JulianDay": 7,
          "WeekDay": 2,
          "West": 109,
          "Year": 2012
         },
         {
          "Date2": "2012-10-10 07:00:00",
          "DateString": "10/10/2012 07:00:00 AM",
          "East": 95,
          "Hour": 7,
          "JulianDay": 7,
          "WeekDay": 2,
          "West": 245,
          "Year": 2012
         },
         {
          "Date2": "2012-10-10 08:00:00",
          "DateString": "10/10/2012 08:00:00 AM",
          "East": 133,
          "Hour": 8,
          "JulianDay": 7,
          "WeekDay": 2,
          "West": 302,
          "Year": 2012
         },
         {
          "Date2": "2012-10-10 09:00:00",
          "DateString": "10/10/2012 09:00:00 AM",
          "East": 99,
          "Hour": 9,
          "JulianDay": 7,
          "WeekDay": 2,
          "West": 156,
          "Year": 2012
         },
         {
          "Date2": "2012-10-10 10:00:00",
          "DateString": "10/10/2012 10:00:00 AM",
          "East": 44,
          "Hour": 10,
          "JulianDay": 7,
          "WeekDay": 2,
          "West": 53,
          "Year": 2012
         },
         {
          "Date2": "2012-10-10 11:00:00",
          "DateString": "10/10/2012 11:00:00 AM",
          "East": 21,
          "Hour": 11,
          "JulianDay": 7,
          "WeekDay": 2,
          "West": 34,
          "Year": 2012
         },
         {
          "Date2": "2012-10-10 12:00:00",
          "DateString": "10/10/2012 12:00:00 PM",
          "East": 40,
          "Hour": 12,
          "JulianDay": 7,
          "WeekDay": 2,
          "West": 47,
          "Year": 2012
         },
         {
          "Date2": "2012-10-10 13:00:00",
          "DateString": "10/10/2012 01:00:00 PM",
          "East": 48,
          "Hour": 13,
          "JulianDay": 7,
          "WeekDay": 2,
          "West": 46,
          "Year": 2012
         },
         {
          "Date2": "2012-10-10 14:00:00",
          "DateString": "10/10/2012 02:00:00 PM",
          "East": 39,
          "Hour": 14,
          "JulianDay": 7,
          "WeekDay": 2,
          "West": 54,
          "Year": 2012
         },
         {
          "Date2": "2012-10-10 15:00:00",
          "DateString": "10/10/2012 03:00:00 PM",
          "East": 65,
          "Hour": 15,
          "JulianDay": 7,
          "WeekDay": 2,
          "West": 65,
          "Year": 2012
         },
         {
          "Date2": "2012-10-10 16:00:00",
          "DateString": "10/10/2012 04:00:00 PM",
          "East": 128,
          "Hour": 16,
          "JulianDay": 7,
          "WeekDay": 2,
          "West": 102,
          "Year": 2012
         },
         {
          "Date2": "2012-10-10 17:00:00",
          "DateString": "10/10/2012 05:00:00 PM",
          "East": 377,
          "Hour": 17,
          "JulianDay": 7,
          "WeekDay": 2,
          "West": 155,
          "Year": 2012
         },
         {
          "Date2": "2012-10-10 18:00:00",
          "DateString": "10/10/2012 06:00:00 PM",
          "East": 215,
          "Hour": 18,
          "JulianDay": 7,
          "WeekDay": 2,
          "West": 116,
          "Year": 2012
         },
         {
          "Date2": "2012-10-10 19:00:00",
          "DateString": "10/10/2012 07:00:00 PM",
          "East": 94,
          "Hour": 19,
          "JulianDay": 7,
          "WeekDay": 2,
          "West": 51,
          "Year": 2012
         },
         {
          "Date2": "2012-10-10 20:00:00",
          "DateString": "10/10/2012 08:00:00 PM",
          "East": 56,
          "Hour": 20,
          "JulianDay": 7,
          "WeekDay": 2,
          "West": 30,
          "Year": 2012
         },
         {
          "Date2": "2012-10-10 21:00:00",
          "DateString": "10/10/2012 09:00:00 PM",
          "East": 38,
          "Hour": 21,
          "JulianDay": 7,
          "WeekDay": 2,
          "West": 24,
          "Year": 2012
         },
         {
          "Date2": "2012-10-10 22:00:00",
          "DateString": "10/10/2012 10:00:00 PM",
          "East": 19,
          "Hour": 22,
          "JulianDay": 7,
          "WeekDay": 2,
          "West": 17,
          "Year": 2012
         },
         {
          "Date2": "2012-10-10 23:00:00",
          "DateString": "10/10/2012 11:00:00 PM",
          "East": 13,
          "Hour": 23,
          "JulianDay": 7,
          "WeekDay": 2,
          "West": 10,
          "Year": 2012
         },
         {
          "Date2": "2012-10-11 00:00:00",
          "DateString": "10/11/2012 12:00:00 AM",
          "East": 14,
          "Hour": 0,
          "JulianDay": 8,
          "WeekDay": 3,
          "West": 7,
          "Year": 2012
         },
         {
          "Date2": "2012-10-11 01:00:00",
          "DateString": "10/11/2012 01:00:00 AM",
          "East": 6,
          "Hour": 1,
          "JulianDay": 8,
          "WeekDay": 3,
          "West": 4,
          "Year": 2012
         },
         {
          "Date2": "2012-10-11 02:00:00",
          "DateString": "10/11/2012 02:00:00 AM",
          "East": 5,
          "Hour": 2,
          "JulianDay": 8,
          "WeekDay": 3,
          "West": 8,
          "Year": 2012
         },
         {
          "Date2": "2012-10-11 03:00:00",
          "DateString": "10/11/2012 03:00:00 AM",
          "East": 2,
          "Hour": 3,
          "JulianDay": 8,
          "WeekDay": 3,
          "West": 0,
          "Year": 2012
         },
         {
          "Date2": "2012-10-11 04:00:00",
          "DateString": "10/11/2012 04:00:00 AM",
          "East": 1,
          "Hour": 4,
          "JulianDay": 8,
          "WeekDay": 3,
          "West": 11,
          "Year": 2012
         },
         {
          "Date2": "2012-10-11 05:00:00",
          "DateString": "10/11/2012 05:00:00 AM",
          "East": 12,
          "Hour": 5,
          "JulianDay": 8,
          "WeekDay": 3,
          "West": 0,
          "Year": 2012
         },
         {
          "Date2": "2012-10-11 06:00:00",
          "DateString": "10/11/2012 06:00:00 AM",
          "East": 41,
          "Hour": 6,
          "JulianDay": 8,
          "WeekDay": 3,
          "West": 2,
          "Year": 2012
         },
         {
          "Date2": "2012-10-11 07:00:00",
          "DateString": "10/11/2012 07:00:00 AM",
          "East": 79,
          "Hour": 7,
          "JulianDay": 8,
          "WeekDay": 3,
          "West": 225,
          "Year": 2012
         },
         {
          "Date2": "2012-10-11 08:00:00",
          "DateString": "10/11/2012 08:00:00 AM",
          "East": 122,
          "Hour": 8,
          "JulianDay": 8,
          "WeekDay": 3,
          "West": 282,
          "Year": 2012
         },
         {
          "Date2": "2012-10-11 09:00:00",
          "DateString": "10/11/2012 09:00:00 AM",
          "East": 48,
          "Hour": 9,
          "JulianDay": 8,
          "WeekDay": 3,
          "West": 141,
          "Year": 2012
         },
         {
          "Date2": "2012-10-11 10:00:00",
          "DateString": "10/11/2012 10:00:00 AM",
          "East": 0,
          "Hour": 10,
          "JulianDay": 8,
          "WeekDay": 3,
          "West": 4,
          "Year": 2012
         },
         {
          "Date2": "2012-10-11 11:00:00",
          "DateString": "10/11/2012 11:00:00 AM",
          "East": 5,
          "Hour": 11,
          "JulianDay": 8,
          "WeekDay": 3,
          "West": 87,
          "Year": 2012
         },
         {
          "Date2": "2012-10-11 12:00:00",
          "DateString": "10/11/2012 12:00:00 PM",
          "East": 37,
          "Hour": 12,
          "JulianDay": 8,
          "WeekDay": 3,
          "West": 44,
          "Year": 2012
         },
         {
          "Date2": "2012-10-11 13:00:00",
          "DateString": "10/11/2012 01:00:00 PM",
          "East": 58,
          "Hour": 13,
          "JulianDay": 8,
          "WeekDay": 3,
          "West": 60,
          "Year": 2012
         },
         {
          "Date2": "2012-10-11 14:00:00",
          "DateString": "10/11/2012 02:00:00 PM",
          "East": 56,
          "Hour": 14,
          "JulianDay": 8,
          "WeekDay": 3,
          "West": 52,
          "Year": 2012
         },
         {
          "Date2": "2012-10-11 15:00:00",
          "DateString": "10/11/2012 03:00:00 PM",
          "East": 69,
          "Hour": 15,
          "JulianDay": 8,
          "WeekDay": 3,
          "West": 74,
          "Year": 2012
         },
         {
          "Date2": "2012-10-11 16:00:00",
          "DateString": "10/11/2012 04:00:00 PM",
          "East": 135,
          "Hour": 16,
          "JulianDay": 8,
          "WeekDay": 3,
          "West": 135,
          "Year": 2012
         },
         {
          "Date2": "2012-10-11 17:00:00",
          "DateString": "10/11/2012 05:00:00 PM",
          "East": 360,
          "Hour": 17,
          "JulianDay": 8,
          "WeekDay": 3,
          "West": 157,
          "Year": 2012
         },
         {
          "Date2": "2012-10-11 18:00:00",
          "DateString": "10/11/2012 06:00:00 PM",
          "East": 186,
          "Hour": 18,
          "JulianDay": 8,
          "WeekDay": 3,
          "West": 113,
          "Year": 2012
         },
         {
          "Date2": "2012-10-11 19:00:00",
          "DateString": "10/11/2012 07:00:00 PM",
          "East": 92,
          "Hour": 19,
          "JulianDay": 8,
          "WeekDay": 3,
          "West": 57,
          "Year": 2012
         },
         {
          "Date2": "2012-10-11 20:00:00",
          "DateString": "10/11/2012 08:00:00 PM",
          "East": 60,
          "Hour": 20,
          "JulianDay": 8,
          "WeekDay": 3,
          "West": 44,
          "Year": 2012
         },
         {
          "Date2": "2012-10-11 21:00:00",
          "DateString": "10/11/2012 09:00:00 PM",
          "East": 45,
          "Hour": 21,
          "JulianDay": 8,
          "WeekDay": 3,
          "West": 26,
          "Year": 2012
         },
         {
          "Date2": "2012-10-11 22:00:00",
          "DateString": "10/11/2012 10:00:00 PM",
          "East": 19,
          "Hour": 22,
          "JulianDay": 8,
          "WeekDay": 3,
          "West": 29,
          "Year": 2012
         },
         {
          "Date2": "2012-10-11 23:00:00",
          "DateString": "10/11/2012 11:00:00 PM",
          "East": 16,
          "Hour": 23,
          "JulianDay": 8,
          "WeekDay": 3,
          "West": 17,
          "Year": 2012
         },
         {
          "Date2": "2012-10-12 00:00:00",
          "DateString": "10/12/2012 12:00:00 AM",
          "East": 9,
          "Hour": 0,
          "JulianDay": 9,
          "WeekDay": 4,
          "West": 8,
          "Year": 2012
         },
         {
          "Date2": "2012-10-12 01:00:00",
          "DateString": "10/12/2012 01:00:00 AM",
          "East": 6,
          "Hour": 1,
          "JulianDay": 9,
          "WeekDay": 4,
          "West": 7,
          "Year": 2012
         },
         {
          "Date2": "2012-10-12 02:00:00",
          "DateString": "10/12/2012 02:00:00 AM",
          "East": 1,
          "Hour": 2,
          "JulianDay": 9,
          "WeekDay": 4,
          "West": 4,
          "Year": 2012
         },
         {
          "Date2": "2012-10-12 03:00:00",
          "DateString": "10/12/2012 03:00:00 AM",
          "East": 3,
          "Hour": 3,
          "JulianDay": 9,
          "WeekDay": 4,
          "West": 4,
          "Year": 2012
         },
         {
          "Date2": "2012-10-12 04:00:00",
          "DateString": "10/12/2012 04:00:00 AM",
          "East": 3,
          "Hour": 4,
          "JulianDay": 9,
          "WeekDay": 4,
          "West": 2,
          "Year": 2012
         },
         {
          "Date2": "2012-10-12 05:00:00",
          "DateString": "10/12/2012 05:00:00 AM",
          "East": 4,
          "Hour": 5,
          "JulianDay": 9,
          "WeekDay": 4,
          "West": 10,
          "Year": 2012
         },
         {
          "Date2": "2012-10-12 06:00:00",
          "DateString": "10/12/2012 06:00:00 AM",
          "East": 30,
          "Hour": 6,
          "JulianDay": 9,
          "WeekDay": 4,
          "West": 57,
          "Year": 2012
         },
         {
          "Date2": "2012-10-12 07:00:00",
          "DateString": "10/12/2012 07:00:00 AM",
          "East": 58,
          "Hour": 7,
          "JulianDay": 9,
          "WeekDay": 4,
          "West": 125,
          "Year": 2012
         },
         {
          "Date2": "2012-10-12 08:00:00",
          "DateString": "10/12/2012 08:00:00 AM",
          "East": 86,
          "Hour": 8,
          "JulianDay": 9,
          "WeekDay": 4,
          "West": 182,
          "Year": 2012
         },
         {
          "Date2": "2012-10-12 09:00:00",
          "DateString": "10/12/2012 09:00:00 AM",
          "East": 45,
          "Hour": 9,
          "JulianDay": 9,
          "WeekDay": 4,
          "West": 100,
          "Year": 2012
         },
         {
          "Date2": "2012-10-12 10:00:00",
          "DateString": "10/12/2012 10:00:00 AM",
          "East": 29,
          "Hour": 10,
          "JulianDay": 9,
          "WeekDay": 4,
          "West": 33,
          "Year": 2012
         },
         {
          "Date2": "2012-10-12 11:00:00",
          "DateString": "10/12/2012 11:00:00 AM",
          "East": 31,
          "Hour": 11,
          "JulianDay": 9,
          "WeekDay": 4,
          "West": 27,
          "Year": 2012
         },
         {
          "Date2": "2012-10-12 12:00:00",
          "DateString": "10/12/2012 12:00:00 PM",
          "East": 28,
          "Hour": 12,
          "JulianDay": 9,
          "WeekDay": 4,
          "West": 41,
          "Year": 2012
         },
         {
          "Date2": "2012-10-12 13:00:00",
          "DateString": "10/12/2012 01:00:00 PM",
          "East": 33,
          "Hour": 13,
          "JulianDay": 9,
          "WeekDay": 4,
          "West": 39,
          "Year": 2012
         },
         {
          "Date2": "2012-10-12 14:00:00",
          "DateString": "10/12/2012 02:00:00 PM",
          "East": 30,
          "Hour": 14,
          "JulianDay": 9,
          "WeekDay": 4,
          "West": 35,
          "Year": 2012
         },
         {
          "Date2": "2012-10-12 15:00:00",
          "DateString": "10/12/2012 03:00:00 PM",
          "East": 63,
          "Hour": 15,
          "JulianDay": 9,
          "WeekDay": 4,
          "West": 50,
          "Year": 2012
         },
         {
          "Date2": "2012-10-12 16:00:00",
          "DateString": "10/12/2012 04:00:00 PM",
          "East": 96,
          "Hour": 16,
          "JulianDay": 9,
          "WeekDay": 4,
          "West": 69,
          "Year": 2012
         },
         {
          "Date2": "2012-10-12 17:00:00",
          "DateString": "10/12/2012 05:00:00 PM",
          "East": 212,
          "Hour": 17,
          "JulianDay": 9,
          "WeekDay": 4,
          "West": 92,
          "Year": 2012
         },
         {
          "Date2": "2012-10-12 18:00:00",
          "DateString": "10/12/2012 06:00:00 PM",
          "East": 112,
          "Hour": 18,
          "JulianDay": 9,
          "WeekDay": 4,
          "West": 66,
          "Year": 2012
         },
         {
          "Date2": "2012-10-12 19:00:00",
          "DateString": "10/12/2012 07:00:00 PM",
          "East": 49,
          "Hour": 19,
          "JulianDay": 9,
          "WeekDay": 4,
          "West": 30,
          "Year": 2012
         },
         {
          "Date2": "2012-10-12 20:00:00",
          "DateString": "10/12/2012 08:00:00 PM",
          "East": 27,
          "Hour": 20,
          "JulianDay": 9,
          "WeekDay": 4,
          "West": 11,
          "Year": 2012
         },
         {
          "Date2": "2012-10-12 21:00:00",
          "DateString": "10/12/2012 09:00:00 PM",
          "East": 16,
          "Hour": 21,
          "JulianDay": 9,
          "WeekDay": 4,
          "West": 10,
          "Year": 2012
         },
         {
          "Date2": "2012-10-12 22:00:00",
          "DateString": "10/12/2012 10:00:00 PM",
          "East": 3,
          "Hour": 22,
          "JulianDay": 9,
          "WeekDay": 4,
          "West": 11,
          "Year": 2012
         },
         {
          "Date2": "2012-10-12 23:00:00",
          "DateString": "10/12/2012 11:00:00 PM",
          "East": 15,
          "Hour": 23,
          "JulianDay": 9,
          "WeekDay": 4,
          "West": 9,
          "Year": 2012
         },
         {
          "Date2": "2012-10-13 00:00:00",
          "DateString": "10/13/2012 12:00:00 AM",
          "East": 12,
          "Hour": 0,
          "JulianDay": 10,
          "WeekDay": 5,
          "West": 6,
          "Year": 2012
         },
         {
          "Date2": "2012-10-13 01:00:00",
          "DateString": "10/13/2012 01:00:00 AM",
          "East": 6,
          "Hour": 1,
          "JulianDay": 10,
          "WeekDay": 5,
          "West": 5,
          "Year": 2012
         },
         {
          "Date2": "2012-10-13 02:00:00",
          "DateString": "10/13/2012 02:00:00 AM",
          "East": 6,
          "Hour": 2,
          "JulianDay": 10,
          "WeekDay": 5,
          "West": 10,
          "Year": 2012
         },
         {
          "Date2": "2012-10-13 03:00:00",
          "DateString": "10/13/2012 03:00:00 AM",
          "East": 0,
          "Hour": 3,
          "JulianDay": 10,
          "WeekDay": 5,
          "West": 4,
          "Year": 2012
         },
         {
          "Date2": "2012-10-13 04:00:00",
          "DateString": "10/13/2012 04:00:00 AM",
          "East": 2,
          "Hour": 4,
          "JulianDay": 10,
          "WeekDay": 5,
          "West": 1,
          "Year": 2012
         },
         {
          "Date2": "2012-10-13 05:00:00",
          "DateString": "10/13/2012 05:00:00 AM",
          "East": 3,
          "Hour": 5,
          "JulianDay": 10,
          "WeekDay": 5,
          "West": 7,
          "Year": 2012
         },
         {
          "Date2": "2012-10-13 06:00:00",
          "DateString": "10/13/2012 06:00:00 AM",
          "East": 5,
          "Hour": 6,
          "JulianDay": 10,
          "WeekDay": 5,
          "West": 9,
          "Year": 2012
         },
         {
          "Date2": "2012-10-13 07:00:00",
          "DateString": "10/13/2012 07:00:00 AM",
          "East": 13,
          "Hour": 7,
          "JulianDay": 10,
          "WeekDay": 5,
          "West": 17,
          "Year": 2012
         },
         {
          "Date2": "2012-10-13 08:00:00",
          "DateString": "10/13/2012 08:00:00 AM",
          "East": 8,
          "Hour": 8,
          "JulianDay": 10,
          "WeekDay": 5,
          "West": 24,
          "Year": 2012
         },
         {
          "Date2": "2012-10-13 09:00:00",
          "DateString": "10/13/2012 09:00:00 AM",
          "East": 20,
          "Hour": 9,
          "JulianDay": 10,
          "WeekDay": 5,
          "West": 21,
          "Year": 2012
         },
         {
          "Date2": "2012-10-13 10:00:00",
          "DateString": "10/13/2012 10:00:00 AM",
          "East": 17,
          "Hour": 10,
          "JulianDay": 10,
          "WeekDay": 5,
          "West": 29,
          "Year": 2012
         },
         {
          "Date2": "2012-10-13 11:00:00",
          "DateString": "10/13/2012 11:00:00 AM",
          "East": 14,
          "Hour": 11,
          "JulianDay": 10,
          "WeekDay": 5,
          "West": 28,
          "Year": 2012
         },
         {
          "Date2": "2012-10-13 12:00:00",
          "DateString": "10/13/2012 12:00:00 PM",
          "East": 24,
          "Hour": 12,
          "JulianDay": 10,
          "WeekDay": 5,
          "West": 48,
          "Year": 2012
         },
         {
          "Date2": "2012-10-13 13:00:00",
          "DateString": "10/13/2012 01:00:00 PM",
          "East": 26,
          "Hour": 13,
          "JulianDay": 10,
          "WeekDay": 5,
          "West": 38,
          "Year": 2012
         },
         {
          "Date2": "2012-10-13 14:00:00",
          "DateString": "10/13/2012 02:00:00 PM",
          "East": 32,
          "Hour": 14,
          "JulianDay": 10,
          "WeekDay": 5,
          "West": 30,
          "Year": 2012
         },
         {
          "Date2": "2012-10-13 15:00:00",
          "DateString": "10/13/2012 03:00:00 PM",
          "East": 20,
          "Hour": 15,
          "JulianDay": 10,
          "WeekDay": 5,
          "West": 21,
          "Year": 2012
         },
         {
          "Date2": "2012-10-13 16:00:00",
          "DateString": "10/13/2012 04:00:00 PM",
          "East": 32,
          "Hour": 16,
          "JulianDay": 10,
          "WeekDay": 5,
          "West": 26,
          "Year": 2012
         },
         {
          "Date2": "2012-10-13 17:00:00",
          "DateString": "10/13/2012 05:00:00 PM",
          "East": 25,
          "Hour": 17,
          "JulianDay": 10,
          "WeekDay": 5,
          "West": 25,
          "Year": 2012
         },
         {
          "Date2": "2012-10-13 18:00:00",
          "DateString": "10/13/2012 06:00:00 PM",
          "East": 24,
          "Hour": 18,
          "JulianDay": 10,
          "WeekDay": 5,
          "West": 35,
          "Year": 2012
         },
         {
          "Date2": "2012-10-13 19:00:00",
          "DateString": "10/13/2012 07:00:00 PM",
          "East": 17,
          "Hour": 19,
          "JulianDay": 10,
          "WeekDay": 5,
          "West": 10,
          "Year": 2012
         },
         {
          "Date2": "2012-10-13 20:00:00",
          "DateString": "10/13/2012 08:00:00 PM",
          "East": 10,
          "Hour": 20,
          "JulianDay": 10,
          "WeekDay": 5,
          "West": 9,
          "Year": 2012
         },
         {
          "Date2": "2012-10-13 21:00:00",
          "DateString": "10/13/2012 09:00:00 PM",
          "East": 6,
          "Hour": 21,
          "JulianDay": 10,
          "WeekDay": 5,
          "West": 4,
          "Year": 2012
         },
         {
          "Date2": "2012-10-13 22:00:00",
          "DateString": "10/13/2012 10:00:00 PM",
          "East": 14,
          "Hour": 22,
          "JulianDay": 10,
          "WeekDay": 5,
          "West": 4,
          "Year": 2012
         },
         {
          "Date2": "2012-10-13 23:00:00",
          "DateString": "10/13/2012 11:00:00 PM",
          "East": 15,
          "Hour": 23,
          "JulianDay": 10,
          "WeekDay": 5,
          "West": 4,
          "Year": 2012
         },
         {
          "Date2": "2012-10-14 00:00:00",
          "DateString": "10/14/2012 12:00:00 AM",
          "East": 3,
          "Hour": 0,
          "JulianDay": 11,
          "WeekDay": 6,
          "West": 3,
          "Year": 2012
         },
         {
          "Date2": "2012-10-14 01:00:00",
          "DateString": "10/14/2012 01:00:00 AM",
          "East": 4,
          "Hour": 1,
          "JulianDay": 11,
          "WeekDay": 6,
          "West": 5,
          "Year": 2012
         },
         {
          "Date2": "2012-10-14 02:00:00",
          "DateString": "10/14/2012 02:00:00 AM",
          "East": 4,
          "Hour": 2,
          "JulianDay": 11,
          "WeekDay": 6,
          "West": 4,
          "Year": 2012
         },
         {
          "Date2": "2012-10-14 03:00:00",
          "DateString": "10/14/2012 03:00:00 AM",
          "East": 0,
          "Hour": 3,
          "JulianDay": 11,
          "WeekDay": 6,
          "West": 4,
          "Year": 2012
         },
         {
          "Date2": "2012-10-14 04:00:00",
          "DateString": "10/14/2012 04:00:00 AM",
          "East": 1,
          "Hour": 4,
          "JulianDay": 11,
          "WeekDay": 6,
          "West": 4,
          "Year": 2012
         },
         {
          "Date2": "2012-10-14 05:00:00",
          "DateString": "10/14/2012 05:00:00 AM",
          "East": 0,
          "Hour": 5,
          "JulianDay": 11,
          "WeekDay": 6,
          "West": 3,
          "Year": 2012
         },
         {
          "Date2": "2012-10-14 06:00:00",
          "DateString": "10/14/2012 06:00:00 AM",
          "East": 7,
          "Hour": 6,
          "JulianDay": 11,
          "WeekDay": 6,
          "West": 5,
          "Year": 2012
         },
         {
          "Date2": "2012-10-14 07:00:00",
          "DateString": "10/14/2012 07:00:00 AM",
          "East": 4,
          "Hour": 7,
          "JulianDay": 11,
          "WeekDay": 6,
          "West": 10,
          "Year": 2012
         },
         {
          "Date2": "2012-10-14 08:00:00",
          "DateString": "10/14/2012 08:00:00 AM",
          "East": 8,
          "Hour": 8,
          "JulianDay": 11,
          "WeekDay": 6,
          "West": 16,
          "Year": 2012
         },
         {
          "Date2": "2012-10-14 09:00:00",
          "DateString": "10/14/2012 09:00:00 AM",
          "East": 26,
          "Hour": 9,
          "JulianDay": 11,
          "WeekDay": 6,
          "West": 28,
          "Year": 2012
         },
         {
          "Date2": "2012-10-14 10:00:00",
          "DateString": "10/14/2012 10:00:00 AM",
          "East": 25,
          "Hour": 10,
          "JulianDay": 11,
          "WeekDay": 6,
          "West": 47,
          "Year": 2012
         },
         {
          "Date2": "2012-10-14 11:00:00",
          "DateString": "10/14/2012 11:00:00 AM",
          "East": 18,
          "Hour": 11,
          "JulianDay": 11,
          "WeekDay": 6,
          "West": 63,
          "Year": 2012
         },
         {
          "Date2": "2012-10-14 12:00:00",
          "DateString": "10/14/2012 12:00:00 PM",
          "East": 22,
          "Hour": 12,
          "JulianDay": 11,
          "WeekDay": 6,
          "West": 40,
          "Year": 2012
         },
         {
          "Date2": "2012-10-14 13:00:00",
          "DateString": "10/14/2012 01:00:00 PM",
          "East": 33,
          "Hour": 13,
          "JulianDay": 11,
          "WeekDay": 6,
          "West": 49,
          "Year": 2012
         },
         {
          "Date2": "2012-10-14 14:00:00",
          "DateString": "10/14/2012 02:00:00 PM",
          "East": 30,
          "Hour": 14,
          "JulianDay": 11,
          "WeekDay": 6,
          "West": 28,
          "Year": 2012
         },
         {
          "Date2": "2012-10-14 15:00:00",
          "DateString": "10/14/2012 03:00:00 PM",
          "East": 15,
          "Hour": 15,
          "JulianDay": 11,
          "WeekDay": 6,
          "West": 22,
          "Year": 2012
         },
         {
          "Date2": "2012-10-14 16:00:00",
          "DateString": "10/14/2012 04:00:00 PM",
          "East": 16,
          "Hour": 16,
          "JulianDay": 11,
          "WeekDay": 6,
          "West": 18,
          "Year": 2012
         },
         {
          "Date2": "2012-10-14 17:00:00",
          "DateString": "10/14/2012 05:00:00 PM",
          "East": 10,
          "Hour": 17,
          "JulianDay": 11,
          "WeekDay": 6,
          "West": 27,
          "Year": 2012
         },
         {
          "Date2": "2012-10-14 18:00:00",
          "DateString": "10/14/2012 06:00:00 PM",
          "East": 9,
          "Hour": 18,
          "JulianDay": 11,
          "WeekDay": 6,
          "West": 18,
          "Year": 2012
         },
         {
          "Date2": "2012-10-14 19:00:00",
          "DateString": "10/14/2012 07:00:00 PM",
          "East": 13,
          "Hour": 19,
          "JulianDay": 11,
          "WeekDay": 6,
          "West": 10,
          "Year": 2012
         },
         {
          "Date2": "2012-10-14 20:00:00",
          "DateString": "10/14/2012 08:00:00 PM",
          "East": 6,
          "Hour": 20,
          "JulianDay": 11,
          "WeekDay": 6,
          "West": 5,
          "Year": 2012
         },
         {
          "Date2": "2012-10-14 21:00:00",
          "DateString": "10/14/2012 09:00:00 PM",
          "East": 4,
          "Hour": 21,
          "JulianDay": 11,
          "WeekDay": 6,
          "West": 8,
          "Year": 2012
         },
         {
          "Date2": "2012-10-14 22:00:00",
          "DateString": "10/14/2012 10:00:00 PM",
          "East": 6,
          "Hour": 22,
          "JulianDay": 11,
          "WeekDay": 6,
          "West": 7,
          "Year": 2012
         },
         {
          "Date2": "2012-10-14 23:00:00",
          "DateString": "10/14/2012 11:00:00 PM",
          "East": 7,
          "Hour": 23,
          "JulianDay": 11,
          "WeekDay": 6,
          "West": 3,
          "Year": 2012
         },
         {
          "Date2": "2012-10-15 00:00:00",
          "DateString": "10/15/2012 12:00:00 AM",
          "East": 5,
          "Hour": 0,
          "JulianDay": 12,
          "WeekDay": 0,
          "West": 2,
          "Year": 2012
         },
         {
          "Date2": "2012-10-15 01:00:00",
          "DateString": "10/15/2012 01:00:00 AM",
          "East": 1,
          "Hour": 1,
          "JulianDay": 12,
          "WeekDay": 0,
          "West": 2,
          "Year": 2012
         },
         {
          "Date2": "2012-10-15 02:00:00",
          "DateString": "10/15/2012 02:00:00 AM",
          "East": 1,
          "Hour": 2,
          "JulianDay": 12,
          "WeekDay": 0,
          "West": 4,
          "Year": 2012
         },
         {
          "Date2": "2012-10-15 03:00:00",
          "DateString": "10/15/2012 03:00:00 AM",
          "East": 2,
          "Hour": 3,
          "JulianDay": 12,
          "WeekDay": 0,
          "West": 1,
          "Year": 2012
         },
         {
          "Date2": "2012-10-15 04:00:00",
          "DateString": "10/15/2012 04:00:00 AM",
          "East": 2,
          "Hour": 4,
          "JulianDay": 12,
          "WeekDay": 0,
          "West": 4,
          "Year": 2012
         },
         {
          "Date2": "2012-10-15 05:00:00",
          "DateString": "10/15/2012 05:00:00 AM",
          "East": 7,
          "Hour": 5,
          "JulianDay": 12,
          "WeekDay": 0,
          "West": 19,
          "Year": 2012
         },
         {
          "Date2": "2012-10-15 06:00:00",
          "DateString": "10/15/2012 06:00:00 AM",
          "East": 34,
          "Hour": 6,
          "JulianDay": 12,
          "WeekDay": 0,
          "West": 59,
          "Year": 2012
         },
         {
          "Date2": "2012-10-15 07:00:00",
          "DateString": "10/15/2012 07:00:00 AM",
          "East": 58,
          "Hour": 7,
          "JulianDay": 12,
          "WeekDay": 0,
          "West": 167,
          "Year": 2012
         },
         {
          "Date2": "2012-10-15 08:00:00",
          "DateString": "10/15/2012 08:00:00 AM",
          "East": 92,
          "Hour": 8,
          "JulianDay": 12,
          "WeekDay": 0,
          "West": 235,
          "Year": 2012
         },
         {
          "Date2": "2012-10-15 09:00:00",
          "DateString": "10/15/2012 09:00:00 AM",
          "East": 73,
          "Hour": 9,
          "JulianDay": 12,
          "WeekDay": 0,
          "West": 130,
          "Year": 2012
         },
         {
          "Date2": "2012-10-15 10:00:00",
          "DateString": "10/15/2012 10:00:00 AM",
          "East": 29,
          "Hour": 10,
          "JulianDay": 12,
          "WeekDay": 0,
          "West": 57,
          "Year": 2012
         },
         {
          "Date2": "2012-10-15 11:00:00",
          "DateString": "10/15/2012 11:00:00 AM",
          "East": 21,
          "Hour": 11,
          "JulianDay": 12,
          "WeekDay": 0,
          "West": 45,
          "Year": 2012
         },
         {
          "Date2": "2012-10-15 12:00:00",
          "DateString": "10/15/2012 12:00:00 PM",
          "East": 38,
          "Hour": 12,
          "JulianDay": 12,
          "WeekDay": 0,
          "West": 46,
          "Year": 2012
         },
         {
          "Date2": "2012-10-15 13:00:00",
          "DateString": "10/15/2012 01:00:00 PM",
          "East": 29,
          "Hour": 13,
          "JulianDay": 12,
          "WeekDay": 0,
          "West": 42,
          "Year": 2012
         },
         {
          "Date2": "2012-10-15 14:00:00",
          "DateString": "10/15/2012 02:00:00 PM",
          "East": 33,
          "Hour": 14,
          "JulianDay": 12,
          "WeekDay": 0,
          "West": 40,
          "Year": 2012
         },
         {
          "Date2": "2012-10-15 15:00:00",
          "DateString": "10/15/2012 03:00:00 PM",
          "East": 58,
          "Hour": 15,
          "JulianDay": 12,
          "WeekDay": 0,
          "West": 49,
          "Year": 2012
         },
         {
          "Date2": "2012-10-15 16:00:00",
          "DateString": "10/15/2012 04:00:00 PM",
          "East": 76,
          "Hour": 16,
          "JulianDay": 12,
          "WeekDay": 0,
          "West": 64,
          "Year": 2012
         },
         {
          "Date2": "2012-10-15 17:00:00",
          "DateString": "10/15/2012 05:00:00 PM",
          "East": 239,
          "Hour": 17,
          "JulianDay": 12,
          "WeekDay": 0,
          "West": 96,
          "Year": 2012
         },
         {
          "Date2": "2012-10-15 18:00:00",
          "DateString": "10/15/2012 06:00:00 PM",
          "East": 150,
          "Hour": 18,
          "JulianDay": 12,
          "WeekDay": 0,
          "West": 54,
          "Year": 2012
         },
         {
          "Date2": "2012-10-15 19:00:00",
          "DateString": "10/15/2012 07:00:00 PM",
          "East": 51,
          "Hour": 19,
          "JulianDay": 12,
          "WeekDay": 0,
          "West": 27,
          "Year": 2012
         },
         {
          "Date2": "2012-10-15 20:00:00",
          "DateString": "10/15/2012 08:00:00 PM",
          "East": 38,
          "Hour": 20,
          "JulianDay": 12,
          "WeekDay": 0,
          "West": 17,
          "Year": 2012
         },
         {
          "Date2": "2012-10-15 21:00:00",
          "DateString": "10/15/2012 09:00:00 PM",
          "East": 18,
          "Hour": 21,
          "JulianDay": 12,
          "WeekDay": 0,
          "West": 18,
          "Year": 2012
         },
         {
          "Date2": "2012-10-15 22:00:00",
          "DateString": "10/15/2012 10:00:00 PM",
          "East": 11,
          "Hour": 22,
          "JulianDay": 12,
          "WeekDay": 0,
          "West": 15,
          "Year": 2012
         },
         {
          "Date2": "2012-10-15 23:00:00",
          "DateString": "10/15/2012 11:00:00 PM",
          "East": 7,
          "Hour": 23,
          "JulianDay": 12,
          "WeekDay": 0,
          "West": 7,
          "Year": 2012
         },
         {
          "Date2": "2012-10-16 00:00:00",
          "DateString": "10/16/2012 12:00:00 AM",
          "East": 4,
          "Hour": 0,
          "JulianDay": 13,
          "WeekDay": 1,
          "West": 6,
          "Year": 2012
         },
         {
          "Date2": "2012-10-16 01:00:00",
          "DateString": "10/16/2012 01:00:00 AM",
          "East": 3,
          "Hour": 1,
          "JulianDay": 13,
          "WeekDay": 1,
          "West": 2,
          "Year": 2012
         },
         {
          "Date2": "2012-10-16 02:00:00",
          "DateString": "10/16/2012 02:00:00 AM",
          "East": 0,
          "Hour": 2,
          "JulianDay": 13,
          "WeekDay": 1,
          "West": 3,
          "Year": 2012
         },
         {
          "Date2": "2012-10-16 03:00:00",
          "DateString": "10/16/2012 03:00:00 AM",
          "East": 4,
          "Hour": 3,
          "JulianDay": 13,
          "WeekDay": 1,
          "West": 1,
          "Year": 2012
         },
         {
          "Date2": "2012-10-16 04:00:00",
          "DateString": "10/16/2012 04:00:00 AM",
          "East": 3,
          "Hour": 4,
          "JulianDay": 13,
          "WeekDay": 1,
          "West": 2,
          "Year": 2012
         },
         {
          "Date2": "2012-10-16 05:00:00",
          "DateString": "10/16/2012 05:00:00 AM",
          "East": 8,
          "Hour": 5,
          "JulianDay": 13,
          "WeekDay": 1,
          "West": 21,
          "Year": 2012
         },
         {
          "Date2": "2012-10-16 06:00:00",
          "DateString": "10/16/2012 06:00:00 AM",
          "East": 34,
          "Hour": 6,
          "JulianDay": 13,
          "WeekDay": 1,
          "West": 88,
          "Year": 2012
         },
         {
          "Date2": "2012-10-16 07:00:00",
          "DateString": "10/16/2012 07:00:00 AM",
          "East": 69,
          "Hour": 7,
          "JulianDay": 13,
          "WeekDay": 1,
          "West": 187,
          "Year": 2012
         },
         {
          "Date2": "2012-10-16 08:00:00",
          "DateString": "10/16/2012 08:00:00 AM",
          "East": 104,
          "Hour": 8,
          "JulianDay": 13,
          "WeekDay": 1,
          "West": 253,
          "Year": 2012
         },
         {
          "Date2": "2012-10-16 09:00:00",
          "DateString": "10/16/2012 09:00:00 AM",
          "East": 77,
          "Hour": 9,
          "JulianDay": 13,
          "WeekDay": 1,
          "West": 130,
          "Year": 2012
         },
         {
          "Date2": "2012-10-16 10:00:00",
          "DateString": "10/16/2012 10:00:00 AM",
          "East": 47,
          "Hour": 10,
          "JulianDay": 13,
          "WeekDay": 1,
          "West": 77,
          "Year": 2012
         },
         {
          "Date2": "2012-10-16 11:00:00",
          "DateString": "10/16/2012 11:00:00 AM",
          "East": 36,
          "Hour": 11,
          "JulianDay": 13,
          "WeekDay": 1,
          "West": 47,
          "Year": 2012
         },
         {
          "Date2": "2012-10-16 12:00:00",
          "DateString": "10/16/2012 12:00:00 PM",
          "East": 26,
          "Hour": 12,
          "JulianDay": 13,
          "WeekDay": 1,
          "West": 49,
          "Year": 2012
         },
         {
          "Date2": "2012-10-16 13:00:00",
          "DateString": "10/16/2012 01:00:00 PM",
          "East": 42,
          "Hour": 13,
          "JulianDay": 13,
          "WeekDay": 1,
          "West": 48,
          "Year": 2012
         },
         {
          "Date2": "2012-10-16 14:00:00",
          "DateString": "10/16/2012 02:00:00 PM",
          "East": 44,
          "Hour": 14,
          "JulianDay": 13,
          "WeekDay": 1,
          "West": 53,
          "Year": 2012
         },
         {
          "Date2": "2012-10-16 15:00:00",
          "DateString": "10/16/2012 03:00:00 PM",
          "East": 86,
          "Hour": 15,
          "JulianDay": 13,
          "WeekDay": 1,
          "West": 77,
          "Year": 2012
         },
         {
          "Date2": "2012-10-16 16:00:00",
          "DateString": "10/16/2012 04:00:00 PM",
          "East": 146,
          "Hour": 16,
          "JulianDay": 13,
          "WeekDay": 1,
          "West": 109,
          "Year": 2012
         },
         {
          "Date2": "2012-10-16 17:00:00",
          "DateString": "10/16/2012 05:00:00 PM",
          "East": 353,
          "Hour": 17,
          "JulianDay": 13,
          "WeekDay": 1,
          "West": 147,
          "Year": 2012
         },
         {
          "Date2": "2012-10-16 18:00:00",
          "DateString": "10/16/2012 06:00:00 PM",
          "East": 198,
          "Hour": 18,
          "JulianDay": 13,
          "WeekDay": 1,
          "West": 109,
          "Year": 2012
         },
         {
          "Date2": "2012-10-16 19:00:00",
          "DateString": "10/16/2012 07:00:00 PM",
          "East": 90,
          "Hour": 19,
          "JulianDay": 13,
          "WeekDay": 1,
          "West": 45,
          "Year": 2012
         },
         {
          "Date2": "2012-10-16 20:00:00",
          "DateString": "10/16/2012 08:00:00 PM",
          "East": 47,
          "Hour": 20,
          "JulianDay": 13,
          "WeekDay": 1,
          "West": 41,
          "Year": 2012
         },
         {
          "Date2": "2012-10-16 21:00:00",
          "DateString": "10/16/2012 09:00:00 PM",
          "East": 30,
          "Hour": 21,
          "JulianDay": 13,
          "WeekDay": 1,
          "West": 35,
          "Year": 2012
         },
         {
          "Date2": "2012-10-16 22:00:00",
          "DateString": "10/16/2012 10:00:00 PM",
          "East": 14,
          "Hour": 22,
          "JulianDay": 13,
          "WeekDay": 1,
          "West": 16,
          "Year": 2012
         },
         {
          "Date2": "2012-10-16 23:00:00",
          "DateString": "10/16/2012 11:00:00 PM",
          "East": 12,
          "Hour": 23,
          "JulianDay": 13,
          "WeekDay": 1,
          "West": 13,
          "Year": 2012
         },
         {
          "Date2": "2012-10-17 00:00:00",
          "DateString": "10/17/2012 12:00:00 AM",
          "East": 9,
          "Hour": 0,
          "JulianDay": 14,
          "WeekDay": 2,
          "West": 13,
          "Year": 2012
         },
         {
          "Date2": "2012-10-17 01:00:00",
          "DateString": "10/17/2012 01:00:00 AM",
          "East": 3,
          "Hour": 1,
          "JulianDay": 14,
          "WeekDay": 2,
          "West": 3,
          "Year": 2012
         },
         {
          "Date2": "2012-10-17 02:00:00",
          "DateString": "10/17/2012 02:00:00 AM",
          "East": 3,
          "Hour": 2,
          "JulianDay": 14,
          "WeekDay": 2,
          "West": 2,
          "Year": 2012
         },
         {
          "Date2": "2012-10-17 03:00:00",
          "DateString": "10/17/2012 03:00:00 AM",
          "East": 4,
          "Hour": 3,
          "JulianDay": 14,
          "WeekDay": 2,
          "West": 0,
          "Year": 2012
         },
         {
          "Date2": "2012-10-17 04:00:00",
          "DateString": "10/17/2012 04:00:00 AM",
          "East": 3,
          "Hour": 4,
          "JulianDay": 14,
          "WeekDay": 2,
          "West": 4,
          "Year": 2012
         },
         {
          "Date2": "2012-10-17 05:00:00",
          "DateString": "10/17/2012 05:00:00 AM",
          "East": 9,
          "Hour": 5,
          "JulianDay": 14,
          "WeekDay": 2,
          "West": 21,
          "Year": 2012
         },
         {
          "Date2": "2012-10-17 06:00:00",
          "DateString": "10/17/2012 06:00:00 AM",
          "East": 44,
          "Hour": 6,
          "JulianDay": 14,
          "WeekDay": 2,
          "West": 89,
          "Year": 2012
         },
         {
          "Date2": "2012-10-17 07:00:00",
          "DateString": "10/17/2012 07:00:00 AM",
          "East": 85,
          "Hour": 7,
          "JulianDay": 14,
          "WeekDay": 2,
          "West": 213,
          "Year": 2012
         },
         {
          "Date2": "2012-10-17 08:00:00",
          "DateString": "10/17/2012 08:00:00 AM",
          "East": 133,
          "Hour": 8,
          "JulianDay": 14,
          "WeekDay": 2,
          "West": 283,
          "Year": 2012
         },
         {
          "Date2": "2012-10-17 09:00:00",
          "DateString": "10/17/2012 09:00:00 AM",
          "East": 78,
          "Hour": 9,
          "JulianDay": 14,
          "WeekDay": 2,
          "West": 166,
          "Year": 2012
         },
         {
          "Date2": "2012-10-17 10:00:00",
          "DateString": "10/17/2012 10:00:00 AM",
          "East": 47,
          "Hour": 10,
          "JulianDay": 14,
          "WeekDay": 2,
          "West": 49,
          "Year": 2012
         },
         {
          "Date2": "2012-10-17 11:00:00",
          "DateString": "10/17/2012 11:00:00 AM",
          "East": 26,
          "Hour": 11,
          "JulianDay": 14,
          "WeekDay": 2,
          "West": 52,
          "Year": 2012
         },
         {
          "Date2": "2012-10-17 12:00:00",
          "DateString": "10/17/2012 12:00:00 PM",
          "East": 50,
          "Hour": 12,
          "JulianDay": 14,
          "WeekDay": 2,
          "West": 61,
          "Year": 2012
         },
         {
          "Date2": "2012-10-17 13:00:00",
          "DateString": "10/17/2012 01:00:00 PM",
          "East": 40,
          "Hour": 13,
          "JulianDay": 14,
          "WeekDay": 2,
          "West": 56,
          "Year": 2012
         },
         {
          "Date2": "2012-10-17 14:00:00",
          "DateString": "10/17/2012 02:00:00 PM",
          "East": 51,
          "Hour": 14,
          "JulianDay": 14,
          "WeekDay": 2,
          "West": 54,
          "Year": 2012
         },
         {
          "Date2": "2012-10-17 15:00:00",
          "DateString": "10/17/2012 03:00:00 PM",
          "East": 89,
          "Hour": 15,
          "JulianDay": 14,
          "WeekDay": 2,
          "West": 72,
          "Year": 2012
         },
         {
          "Date2": "2012-10-17 16:00:00",
          "DateString": "10/17/2012 04:00:00 PM",
          "East": 145,
          "Hour": 16,
          "JulianDay": 14,
          "WeekDay": 2,
          "West": 113,
          "Year": 2012
         },
         {
          "Date2": "2012-10-17 17:00:00",
          "DateString": "10/17/2012 05:00:00 PM",
          "East": 332,
          "Hour": 17,
          "JulianDay": 14,
          "WeekDay": 2,
          "West": 150,
          "Year": 2012
         },
         {
          "Date2": "2012-10-17 18:00:00",
          "DateString": "10/17/2012 06:00:00 PM",
          "East": 241,
          "Hour": 18,
          "JulianDay": 14,
          "WeekDay": 2,
          "West": 117,
          "Year": 2012
         },
         {
          "Date2": "2012-10-17 19:00:00",
          "DateString": "10/17/2012 07:00:00 PM",
          "East": 94,
          "Hour": 19,
          "JulianDay": 14,
          "WeekDay": 2,
          "West": 51,
          "Year": 2012
         },
         {
          "Date2": "2012-10-17 20:00:00",
          "DateString": "10/17/2012 08:00:00 PM",
          "East": 40,
          "Hour": 20,
          "JulianDay": 14,
          "WeekDay": 2,
          "West": 18,
          "Year": 2012
         },
         {
          "Date2": "2012-10-17 21:00:00",
          "DateString": "10/17/2012 09:00:00 PM",
          "East": 41,
          "Hour": 21,
          "JulianDay": 14,
          "WeekDay": 2,
          "West": 25,
          "Year": 2012
         },
         {
          "Date2": "2012-10-17 22:00:00",
          "DateString": "10/17/2012 10:00:00 PM",
          "East": 23,
          "Hour": 22,
          "JulianDay": 14,
          "WeekDay": 2,
          "West": 25,
          "Year": 2012
         },
         {
          "Date2": "2012-10-17 23:00:00",
          "DateString": "10/17/2012 11:00:00 PM",
          "East": 6,
          "Hour": 23,
          "JulianDay": 14,
          "WeekDay": 2,
          "West": 10,
          "Year": 2012
         },
         {
          "Date2": "2012-10-18 00:00:00",
          "DateString": "10/18/2012 12:00:00 AM",
          "East": 0,
          "Hour": 0,
          "JulianDay": 15,
          "WeekDay": 3,
          "West": 7,
          "Year": 2012
         },
         {
          "Date2": "2012-10-18 01:00:00",
          "DateString": "10/18/2012 01:00:00 AM",
          "East": 4,
          "Hour": 1,
          "JulianDay": 15,
          "WeekDay": 3,
          "West": 3,
          "Year": 2012
         },
         {
          "Date2": "2012-10-18 02:00:00",
          "DateString": "10/18/2012 02:00:00 AM",
          "East": 4,
          "Hour": 2,
          "JulianDay": 15,
          "WeekDay": 3,
          "West": 5,
          "Year": 2012
         },
         {
          "Date2": "2012-10-18 03:00:00",
          "DateString": "10/18/2012 03:00:00 AM",
          "East": 4,
          "Hour": 3,
          "JulianDay": 15,
          "WeekDay": 3,
          "West": 1,
          "Year": 2012
         },
         {
          "Date2": "2012-10-18 04:00:00",
          "DateString": "10/18/2012 04:00:00 AM",
          "East": 1,
          "Hour": 4,
          "JulianDay": 15,
          "WeekDay": 3,
          "West": 7,
          "Year": 2012
         },
         {
          "Date2": "2012-10-18 05:00:00",
          "DateString": "10/18/2012 05:00:00 AM",
          "East": 12,
          "Hour": 5,
          "JulianDay": 15,
          "WeekDay": 3,
          "West": 14,
          "Year": 2012
         },
         {
          "Date2": "2012-10-18 06:00:00",
          "DateString": "10/18/2012 06:00:00 AM",
          "East": 35,
          "Hour": 6,
          "JulianDay": 15,
          "WeekDay": 3,
          "West": 88,
          "Year": 2012
         },
         {
          "Date2": "2012-10-18 07:00:00",
          "DateString": "10/18/2012 07:00:00 AM",
          "East": 73,
          "Hour": 7,
          "JulianDay": 15,
          "WeekDay": 3,
          "West": 206,
          "Year": 2012
         },
         {
          "Date2": "2012-10-18 08:00:00",
          "DateString": "10/18/2012 08:00:00 AM",
          "East": 130,
          "Hour": 8,
          "JulianDay": 15,
          "WeekDay": 3,
          "West": 246,
          "Year": 2012
         },
         {
          "Date2": "2012-10-18 09:00:00",
          "DateString": "10/18/2012 09:00:00 AM",
          "East": 83,
          "Hour": 9,
          "JulianDay": 15,
          "WeekDay": 3,
          "West": 147,
          "Year": 2012
         },
         {
          "Date2": "2012-10-18 10:00:00",
          "DateString": "10/18/2012 10:00:00 AM",
          "East": 35,
          "Hour": 10,
          "JulianDay": 15,
          "WeekDay": 3,
          "West": 59,
          "Year": 2012
         },
         {
          "Date2": "2012-10-18 11:00:00",
          "DateString": "10/18/2012 11:00:00 AM",
          "East": 46,
          "Hour": 11,
          "JulianDay": 15,
          "WeekDay": 3,
          "West": 47,
          "Year": 2012
         },
         {
          "Date2": "2012-10-18 12:00:00",
          "DateString": "10/18/2012 12:00:00 PM",
          "East": 56,
          "Hour": 12,
          "JulianDay": 15,
          "WeekDay": 3,
          "West": 54,
          "Year": 2012
         },
         {
          "Date2": "2012-10-18 13:00:00",
          "DateString": "10/18/2012 01:00:00 PM",
          "East": 70,
          "Hour": 13,
          "JulianDay": 15,
          "WeekDay": 3,
          "West": 51,
          "Year": 2012
         },
         {
          "Date2": "2012-10-18 14:00:00",
          "DateString": "10/18/2012 02:00:00 PM",
          "East": 51,
          "Hour": 14,
          "JulianDay": 15,
          "WeekDay": 3,
          "West": 53,
          "Year": 2012
         },
         {
          "Date2": "2012-10-18 15:00:00",
          "DateString": "10/18/2012 03:00:00 PM",
          "East": 77,
          "Hour": 15,
          "JulianDay": 15,
          "WeekDay": 3,
          "West": 68,
          "Year": 2012
         },
         {
          "Date2": "2012-10-18 16:00:00",
          "DateString": "10/18/2012 04:00:00 PM",
          "East": 132,
          "Hour": 16,
          "JulianDay": 15,
          "WeekDay": 3,
          "West": 98,
          "Year": 2012
         },
         {
          "Date2": "2012-10-18 17:00:00",
          "DateString": "10/18/2012 05:00:00 PM",
          "East": 334,
          "Hour": 17,
          "JulianDay": 15,
          "WeekDay": 3,
          "West": 130,
          "Year": 2012
         },
         {
          "Date2": "2012-10-18 18:00:00",
          "DateString": "10/18/2012 06:00:00 PM",
          "East": 191,
          "Hour": 18,
          "JulianDay": 15,
          "WeekDay": 3,
          "West": 89,
          "Year": 2012
         },
         {
          "Date2": "2012-10-18 19:00:00",
          "DateString": "10/18/2012 07:00:00 PM",
          "East": 62,
          "Hour": 19,
          "JulianDay": 15,
          "WeekDay": 3,
          "West": 25,
          "Year": 2012
         },
         {
          "Date2": "2012-10-18 20:00:00",
          "DateString": "10/18/2012 08:00:00 PM",
          "East": 34,
          "Hour": 20,
          "JulianDay": 15,
          "WeekDay": 3,
          "West": 25,
          "Year": 2012
         },
         {
          "Date2": "2012-10-18 21:00:00",
          "DateString": "10/18/2012 09:00:00 PM",
          "East": 23,
          "Hour": 21,
          "JulianDay": 15,
          "WeekDay": 3,
          "West": 13,
          "Year": 2012
         },
         {
          "Date2": "2012-10-18 22:00:00",
          "DateString": "10/18/2012 10:00:00 PM",
          "East": 10,
          "Hour": 22,
          "JulianDay": 15,
          "WeekDay": 3,
          "West": 6,
          "Year": 2012
         },
         {
          "Date2": "2012-10-18 23:00:00",
          "DateString": "10/18/2012 11:00:00 PM",
          "East": 7,
          "Hour": 23,
          "JulianDay": 15,
          "WeekDay": 3,
          "West": 7,
          "Year": 2012
         },
         {
          "Date2": "2012-10-19 00:00:00",
          "DateString": "10/19/2012 12:00:00 AM",
          "East": 9,
          "Hour": 0,
          "JulianDay": 16,
          "WeekDay": 4,
          "West": 3,
          "Year": 2012
         },
         {
          "Date2": "2012-10-19 01:00:00",
          "DateString": "10/19/2012 01:00:00 AM",
          "East": 1,
          "Hour": 1,
          "JulianDay": 16,
          "WeekDay": 4,
          "West": 3,
          "Year": 2012
         },
         {
          "Date2": "2012-10-19 02:00:00",
          "DateString": "10/19/2012 02:00:00 AM",
          "East": 1,
          "Hour": 2,
          "JulianDay": 16,
          "WeekDay": 4,
          "West": 4,
          "Year": 2012
         },
         {
          "Date2": "2012-10-19 03:00:00",
          "DateString": "10/19/2012 03:00:00 AM",
          "East": 2,
          "Hour": 3,
          "JulianDay": 16,
          "WeekDay": 4,
          "West": 0,
          "Year": 2012
         },
         {
          "Date2": "2012-10-19 04:00:00",
          "DateString": "10/19/2012 04:00:00 AM",
          "East": 5,
          "Hour": 4,
          "JulianDay": 16,
          "WeekDay": 4,
          "West": 4,
          "Year": 2012
         },
         {
          "Date2": "2012-10-19 05:00:00",
          "DateString": "10/19/2012 05:00:00 AM",
          "East": 6,
          "Hour": 5,
          "JulianDay": 16,
          "WeekDay": 4,
          "West": 20,
          "Year": 2012
         },
         {
          "Date2": "2012-10-19 06:00:00",
          "DateString": "10/19/2012 06:00:00 AM",
          "East": 21,
          "Hour": 6,
          "JulianDay": 16,
          "WeekDay": 4,
          "West": 50,
          "Year": 2012
         },
         {
          "Date2": "2012-10-19 07:00:00",
          "DateString": "10/19/2012 07:00:00 AM",
          "East": 54,
          "Hour": 7,
          "JulianDay": 16,
          "WeekDay": 4,
          "West": 126,
          "Year": 2012
         },
         {
          "Date2": "2012-10-19 08:00:00",
          "DateString": "10/19/2012 08:00:00 AM",
          "East": 76,
          "Hour": 8,
          "JulianDay": 16,
          "WeekDay": 4,
          "West": 169,
          "Year": 2012
         },
         {
          "Date2": "2012-10-19 09:00:00",
          "DateString": "10/19/2012 09:00:00 AM",
          "East": 76,
          "Hour": 9,
          "JulianDay": 16,
          "WeekDay": 4,
          "West": 93,
          "Year": 2012
         },
         {
          "Date2": "2012-10-19 10:00:00",
          "DateString": "10/19/2012 10:00:00 AM",
          "East": 24,
          "Hour": 10,
          "JulianDay": 16,
          "WeekDay": 4,
          "West": 41,
          "Year": 2012
         },
         {
          "Date2": "2012-10-19 11:00:00",
          "DateString": "10/19/2012 11:00:00 AM",
          "East": 26,
          "Hour": 11,
          "JulianDay": 16,
          "WeekDay": 4,
          "West": 26,
          "Year": 2012
         },
         {
          "Date2": "2012-10-19 12:00:00",
          "DateString": "10/19/2012 12:00:00 PM",
          "East": 24,
          "Hour": 12,
          "JulianDay": 16,
          "WeekDay": 4,
          "West": 26,
          "Year": 2012
         },
         {
          "Date2": "2012-10-19 13:00:00",
          "DateString": "10/19/2012 01:00:00 PM",
          "East": 44,
          "Hour": 13,
          "JulianDay": 16,
          "WeekDay": 4,
          "West": 34,
          "Year": 2012
         },
         {
          "Date2": "2012-10-19 14:00:00",
          "DateString": "10/19/2012 02:00:00 PM",
          "East": 36,
          "Hour": 14,
          "JulianDay": 16,
          "WeekDay": 4,
          "West": 39,
          "Year": 2012
         },
         {
          "Date2": "2012-10-19 15:00:00",
          "DateString": "10/19/2012 03:00:00 PM",
          "East": 56,
          "Hour": 15,
          "JulianDay": 16,
          "WeekDay": 4,
          "West": 54,
          "Year": 2012
         },
         {
          "Date2": "2012-10-19 16:00:00",
          "DateString": "10/19/2012 04:00:00 PM",
          "East": 98,
          "Hour": 16,
          "JulianDay": 16,
          "WeekDay": 4,
          "West": 79,
          "Year": 2012
         },
         {
          "Date2": "2012-10-19 17:00:00",
          "DateString": "10/19/2012 05:00:00 PM",
          "East": 212,
          "Hour": 17,
          "JulianDay": 16,
          "WeekDay": 4,
          "West": 85,
          "Year": 2012
         },
         {
          "Date2": "2012-10-19 18:00:00",
          "DateString": "10/19/2012 06:00:00 PM",
          "East": 134,
          "Hour": 18,
          "JulianDay": 16,
          "WeekDay": 4,
          "West": 57,
          "Year": 2012
         },
         {
          "Date2": "2012-10-19 19:00:00",
          "DateString": "10/19/2012 07:00:00 PM",
          "East": 46,
          "Hour": 19,
          "JulianDay": 16,
          "WeekDay": 4,
          "West": 16,
          "Year": 2012
         },
         {
          "Date2": "2012-10-19 20:00:00",
          "DateString": "10/19/2012 08:00:00 PM",
          "East": 29,
          "Hour": 20,
          "JulianDay": 16,
          "WeekDay": 4,
          "West": 13,
          "Year": 2012
         },
         {
          "Date2": "2012-10-19 21:00:00",
          "DateString": "10/19/2012 09:00:00 PM",
          "East": 12,
          "Hour": 21,
          "JulianDay": 16,
          "WeekDay": 4,
          "West": 7,
          "Year": 2012
         },
         {
          "Date2": "2012-10-19 22:00:00",
          "DateString": "10/19/2012 10:00:00 PM",
          "East": 9,
          "Hour": 22,
          "JulianDay": 16,
          "WeekDay": 4,
          "West": 8,
          "Year": 2012
         },
         {
          "Date2": "2012-10-19 23:00:00",
          "DateString": "10/19/2012 11:00:00 PM",
          "East": 11,
          "Hour": 23,
          "JulianDay": 16,
          "WeekDay": 4,
          "West": 8,
          "Year": 2012
         },
         {
          "Date2": "2012-10-20 00:00:00",
          "DateString": "10/20/2012 12:00:00 AM",
          "East": 5,
          "Hour": 0,
          "JulianDay": 17,
          "WeekDay": 5,
          "West": 4,
          "Year": 2012
         },
         {
          "Date2": "2012-10-20 01:00:00",
          "DateString": "10/20/2012 01:00:00 AM",
          "East": 7,
          "Hour": 1,
          "JulianDay": 17,
          "WeekDay": 5,
          "West": 1,
          "Year": 2012
         },
         {
          "Date2": "2012-10-20 02:00:00",
          "DateString": "10/20/2012 02:00:00 AM",
          "East": 4,
          "Hour": 2,
          "JulianDay": 17,
          "WeekDay": 5,
          "West": 8,
          "Year": 2012
         },
         {
          "Date2": "2012-10-20 03:00:00",
          "DateString": "10/20/2012 03:00:00 AM",
          "East": 3,
          "Hour": 3,
          "JulianDay": 17,
          "WeekDay": 5,
          "West": 2,
          "Year": 2012
         },
         {
          "Date2": "2012-10-20 04:00:00",
          "DateString": "10/20/2012 04:00:00 AM",
          "East": 2,
          "Hour": 4,
          "JulianDay": 17,
          "WeekDay": 5,
          "West": 1,
          "Year": 2012
         },
         {
          "Date2": "2012-10-20 05:00:00",
          "DateString": "10/20/2012 05:00:00 AM",
          "East": 6,
          "Hour": 5,
          "JulianDay": 17,
          "WeekDay": 5,
          "West": 9,
          "Year": 2012
         },
         {
          "Date2": "2012-10-20 06:00:00",
          "DateString": "10/20/2012 06:00:00 AM",
          "East": 6,
          "Hour": 6,
          "JulianDay": 17,
          "WeekDay": 5,
          "West": 10,
          "Year": 2012
         },
         {
          "Date2": "2012-10-20 07:00:00",
          "DateString": "10/20/2012 07:00:00 AM",
          "East": 12,
          "Hour": 7,
          "JulianDay": 17,
          "WeekDay": 5,
          "West": 16,
          "Year": 2012
         },
         {
          "Date2": "2012-10-20 08:00:00",
          "DateString": "10/20/2012 08:00:00 AM",
          "East": 18,
          "Hour": 8,
          "JulianDay": 17,
          "WeekDay": 5,
          "West": 28,
          "Year": 2012
         },
         {
          "Date2": "2012-10-20 09:00:00",
          "DateString": "10/20/2012 09:00:00 AM",
          "East": 30,
          "Hour": 9,
          "JulianDay": 17,
          "WeekDay": 5,
          "West": 29,
          "Year": 2012
         },
         {
          "Date2": "2012-10-20 10:00:00",
          "DateString": "10/20/2012 10:00:00 AM",
          "East": 31,
          "Hour": 10,
          "JulianDay": 17,
          "WeekDay": 5,
          "West": 52,
          "Year": 2012
         },
         {
          "Date2": "2012-10-20 11:00:00",
          "DateString": "10/20/2012 11:00:00 AM",
          "East": 33,
          "Hour": 11,
          "JulianDay": 17,
          "WeekDay": 5,
          "West": 59,
          "Year": 2012
         },
         {
          "Date2": "2012-10-20 12:00:00",
          "DateString": "10/20/2012 12:00:00 PM",
          "East": 34,
          "Hour": 12,
          "JulianDay": 17,
          "WeekDay": 5,
          "West": 64,
          "Year": 2012
         },
         {
          "Date2": "2012-10-20 13:00:00",
          "DateString": "10/20/2012 01:00:00 PM",
          "East": 51,
          "Hour": 13,
          "JulianDay": 17,
          "WeekDay": 5,
          "West": 62,
          "Year": 2012
         },
         {
          "Date2": "2012-10-20 14:00:00",
          "DateString": "10/20/2012 02:00:00 PM",
          "East": 46,
          "Hour": 14,
          "JulianDay": 17,
          "WeekDay": 5,
          "West": 52,
          "Year": 2012
         },
         {
          "Date2": "2012-10-20 15:00:00",
          "DateString": "10/20/2012 03:00:00 PM",
          "East": 28,
          "Hour": 15,
          "JulianDay": 17,
          "WeekDay": 5,
          "West": 44,
          "Year": 2012
         },
         {
          "Date2": "2012-10-20 16:00:00",
          "DateString": "10/20/2012 04:00:00 PM",
          "East": 46,
          "Hour": 16,
          "JulianDay": 17,
          "WeekDay": 5,
          "West": 30,
          "Year": 2012
         },
         {
          "Date2": "2012-10-20 17:00:00",
          "DateString": "10/20/2012 05:00:00 PM",
          "East": 26,
          "Hour": 17,
          "JulianDay": 17,
          "WeekDay": 5,
          "West": 37,
          "Year": 2012
         },
         {
          "Date2": "2012-10-20 18:00:00",
          "DateString": "10/20/2012 06:00:00 PM",
          "East": 38,
          "Hour": 18,
          "JulianDay": 17,
          "WeekDay": 5,
          "West": 31,
          "Year": 2012
         },
         {
          "Date2": "2012-10-20 19:00:00",
          "DateString": "10/20/2012 07:00:00 PM",
          "East": 18,
          "Hour": 19,
          "JulianDay": 17,
          "WeekDay": 5,
          "West": 18,
          "Year": 2012
         },
         {
          "Date2": "2012-10-20 20:00:00",
          "DateString": "10/20/2012 08:00:00 PM",
          "East": 12,
          "Hour": 20,
          "JulianDay": 17,
          "WeekDay": 5,
          "West": 10,
          "Year": 2012
         },
         {
          "Date2": "2012-10-20 21:00:00",
          "DateString": "10/20/2012 09:00:00 PM",
          "East": 8,
          "Hour": 21,
          "JulianDay": 17,
          "WeekDay": 5,
          "West": 5,
          "Year": 2012
         },
         {
          "Date2": "2012-10-20 22:00:00",
          "DateString": "10/20/2012 10:00:00 PM",
          "East": 6,
          "Hour": 22,
          "JulianDay": 17,
          "WeekDay": 5,
          "West": 6,
          "Year": 2012
         },
         {
          "Date2": "2012-10-20 23:00:00",
          "DateString": "10/20/2012 11:00:00 PM",
          "East": 12,
          "Hour": 23,
          "JulianDay": 17,
          "WeekDay": 5,
          "West": 8,
          "Year": 2012
         },
         {
          "Date2": "2012-10-21 00:00:00",
          "DateString": "10/21/2012 12:00:00 AM",
          "East": 12,
          "Hour": 0,
          "JulianDay": 18,
          "WeekDay": 6,
          "West": 5,
          "Year": 2012
         },
         {
          "Date2": "2012-10-21 01:00:00",
          "DateString": "10/21/2012 01:00:00 AM",
          "East": 9,
          "Hour": 1,
          "JulianDay": 18,
          "WeekDay": 6,
          "West": 2,
          "Year": 2012
         },
         {
          "Date2": "2012-10-21 02:00:00",
          "DateString": "10/21/2012 02:00:00 AM",
          "East": 4,
          "Hour": 2,
          "JulianDay": 18,
          "WeekDay": 6,
          "West": 7,
          "Year": 2012
         },
         {
          "Date2": "2012-10-21 03:00:00",
          "DateString": "10/21/2012 03:00:00 AM",
          "East": 1,
          "Hour": 3,
          "JulianDay": 18,
          "WeekDay": 6,
          "West": 3,
          "Year": 2012
         },
         {
          "Date2": "2012-10-21 04:00:00",
          "DateString": "10/21/2012 04:00:00 AM",
          "East": 1,
          "Hour": 4,
          "JulianDay": 18,
          "WeekDay": 6,
          "West": 3,
          "Year": 2012
         },
         {
          "Date2": "2012-10-21 05:00:00",
          "DateString": "10/21/2012 05:00:00 AM",
          "East": 4,
          "Hour": 5,
          "JulianDay": 18,
          "WeekDay": 6,
          "West": 4,
          "Year": 2012
         },
         {
          "Date2": "2012-10-21 06:00:00",
          "DateString": "10/21/2012 06:00:00 AM",
          "East": 5,
          "Hour": 6,
          "JulianDay": 18,
          "WeekDay": 6,
          "West": 8,
          "Year": 2012
         },
         {
          "Date2": "2012-10-21 07:00:00",
          "DateString": "10/21/2012 07:00:00 AM",
          "East": 6,
          "Hour": 7,
          "JulianDay": 18,
          "WeekDay": 6,
          "West": 9,
          "Year": 2012
         },
         {
          "Date2": "2012-10-21 08:00:00",
          "DateString": "10/21/2012 08:00:00 AM",
          "East": 11,
          "Hour": 8,
          "JulianDay": 18,
          "WeekDay": 6,
          "West": 26,
          "Year": 2012
         },
         {
          "Date2": "2012-10-21 09:00:00",
          "DateString": "10/21/2012 09:00:00 AM",
          "East": 22,
          "Hour": 9,
          "JulianDay": 18,
          "WeekDay": 6,
          "West": 28,
          "Year": 2012
         },
         {
          "Date2": "2012-10-21 10:00:00",
          "DateString": "10/21/2012 10:00:00 AM",
          "East": 28,
          "Hour": 10,
          "JulianDay": 18,
          "WeekDay": 6,
          "West": 38,
          "Year": 2012
         },
         {
          "Date2": "2012-10-21 11:00:00",
          "DateString": "10/21/2012 11:00:00 AM",
          "East": 23,
          "Hour": 11,
          "JulianDay": 18,
          "WeekDay": 6,
          "West": 34,
          "Year": 2012
         },
         {
          "Date2": "2012-10-21 12:00:00",
          "DateString": "10/21/2012 12:00:00 PM",
          "East": 37,
          "Hour": 12,
          "JulianDay": 18,
          "WeekDay": 6,
          "West": 63,
          "Year": 2012
         },
         {
          "Date2": "2012-10-21 13:00:00",
          "DateString": "10/21/2012 01:00:00 PM",
          "East": 41,
          "Hour": 13,
          "JulianDay": 18,
          "WeekDay": 6,
          "West": 48,
          "Year": 2012
         },
         {
          "Date2": "2012-10-21 14:00:00",
          "DateString": "10/21/2012 02:00:00 PM",
          "East": 47,
          "Hour": 14,
          "JulianDay": 18,
          "WeekDay": 6,
          "West": 67,
          "Year": 2012
         },
         {
          "Date2": "2012-10-21 15:00:00",
          "DateString": "10/21/2012 03:00:00 PM",
          "East": 52,
          "Hour": 15,
          "JulianDay": 18,
          "WeekDay": 6,
          "West": 63,
          "Year": 2012
         },
         {
          "Date2": "2012-10-21 16:00:00",
          "DateString": "10/21/2012 04:00:00 PM",
          "East": 30,
          "Hour": 16,
          "JulianDay": 18,
          "WeekDay": 6,
          "West": 42,
          "Year": 2012
         },
         {
          "Date2": "2012-10-21 17:00:00",
          "DateString": "10/21/2012 05:00:00 PM",
          "East": 46,
          "Hour": 17,
          "JulianDay": 18,
          "WeekDay": 6,
          "West": 36,
          "Year": 2012
         },
         {
          "Date2": "2012-10-21 18:00:00",
          "DateString": "10/21/2012 06:00:00 PM",
          "East": 19,
          "Hour": 18,
          "JulianDay": 18,
          "WeekDay": 6,
          "West": 25,
          "Year": 2012
         },
         {
          "Date2": "2012-10-21 19:00:00",
          "DateString": "10/21/2012 07:00:00 PM",
          "East": 10,
          "Hour": 19,
          "JulianDay": 18,
          "WeekDay": 6,
          "West": 7,
          "Year": 2012
         },
         {
          "Date2": "2012-10-21 20:00:00",
          "DateString": "10/21/2012 08:00:00 PM",
          "East": 18,
          "Hour": 20,
          "JulianDay": 18,
          "WeekDay": 6,
          "West": 3,
          "Year": 2012
         },
         {
          "Date2": "2012-10-21 21:00:00",
          "DateString": "10/21/2012 09:00:00 PM",
          "East": 10,
          "Hour": 21,
          "JulianDay": 18,
          "WeekDay": 6,
          "West": 16,
          "Year": 2012
         },
         {
          "Date2": "2012-10-21 22:00:00",
          "DateString": "10/21/2012 10:00:00 PM",
          "East": 7,
          "Hour": 22,
          "JulianDay": 18,
          "WeekDay": 6,
          "West": 2,
          "Year": 2012
         },
         {
          "Date2": "2012-10-21 23:00:00",
          "DateString": "10/21/2012 11:00:00 PM",
          "East": 6,
          "Hour": 23,
          "JulianDay": 18,
          "WeekDay": 6,
          "West": 1,
          "Year": 2012
         },
         {
          "Date2": "2012-10-22 00:00:00",
          "DateString": "10/22/2012 12:00:00 AM",
          "East": 2,
          "Hour": 0,
          "JulianDay": 19,
          "WeekDay": 0,
          "West": 4,
          "Year": 2012
         },
         {
          "Date2": "2012-10-22 01:00:00",
          "DateString": "10/22/2012 01:00:00 AM",
          "East": 3,
          "Hour": 1,
          "JulianDay": 19,
          "WeekDay": 0,
          "West": 1,
          "Year": 2012
         },
         {
          "Date2": "2012-10-22 02:00:00",
          "DateString": "10/22/2012 02:00:00 AM",
          "East": 0,
          "Hour": 2,
          "JulianDay": 19,
          "WeekDay": 0,
          "West": 2,
          "Year": 2012
         },
         {
          "Date2": "2012-10-22 03:00:00",
          "DateString": "10/22/2012 03:00:00 AM",
          "East": 3,
          "Hour": 3,
          "JulianDay": 19,
          "WeekDay": 0,
          "West": 1,
          "Year": 2012
         },
         {
          "Date2": "2012-10-22 04:00:00",
          "DateString": "10/22/2012 04:00:00 AM",
          "East": 5,
          "Hour": 4,
          "JulianDay": 19,
          "WeekDay": 0,
          "West": 5,
          "Year": 2012
         },
         {
          "Date2": "2012-10-22 05:00:00",
          "DateString": "10/22/2012 05:00:00 AM",
          "East": 8,
          "Hour": 5,
          "JulianDay": 19,
          "WeekDay": 0,
          "West": 19,
          "Year": 2012
         },
         {
          "Date2": "2012-10-22 06:00:00",
          "DateString": "10/22/2012 06:00:00 AM",
          "East": 32,
          "Hour": 6,
          "JulianDay": 19,
          "WeekDay": 0,
          "West": 85,
          "Year": 2012
         },
         {
          "Date2": "2012-10-22 07:00:00",
          "DateString": "10/22/2012 07:00:00 AM",
          "East": 74,
          "Hour": 7,
          "JulianDay": 19,
          "WeekDay": 0,
          "West": 184,
          "Year": 2012
         },
         {
          "Date2": "2012-10-22 08:00:00",
          "DateString": "10/22/2012 08:00:00 AM",
          "East": 92,
          "Hour": 8,
          "JulianDay": 19,
          "WeekDay": 0,
          "West": 256,
          "Year": 2012
         },
         {
          "Date2": "2012-10-22 09:00:00",
          "DateString": "10/22/2012 09:00:00 AM",
          "East": 54,
          "Hour": 9,
          "JulianDay": 19,
          "WeekDay": 0,
          "West": 107,
          "Year": 2012
         },
         {
          "Date2": "2012-10-22 10:00:00",
          "DateString": "10/22/2012 10:00:00 AM",
          "East": 38,
          "Hour": 10,
          "JulianDay": 19,
          "WeekDay": 0,
          "West": 29,
          "Year": 2012
         },
         {
          "Date2": "2012-10-22 11:00:00",
          "DateString": "10/22/2012 11:00:00 AM",
          "East": 20,
          "Hour": 11,
          "JulianDay": 19,
          "WeekDay": 0,
          "West": 22,
          "Year": 2012
         },
         {
          "Date2": "2012-10-22 12:00:00",
          "DateString": "10/22/2012 12:00:00 PM",
          "East": 23,
          "Hour": 12,
          "JulianDay": 19,
          "WeekDay": 0,
          "West": 18,
          "Year": 2012
         },
         {
          "Date2": "2012-10-22 13:00:00",
          "DateString": "10/22/2012 01:00:00 PM",
          "East": 20,
          "Hour": 13,
          "JulianDay": 19,
          "WeekDay": 0,
          "West": 20,
          "Year": 2012
         },
         {
          "Date2": "2012-10-22 14:00:00",
          "DateString": "10/22/2012 02:00:00 PM",
          "East": 26,
          "Hour": 14,
          "JulianDay": 19,
          "WeekDay": 0,
          "West": 19,
          "Year": 2012
         },
         {
          "Date2": "2012-10-22 15:00:00",
          "DateString": "10/22/2012 03:00:00 PM",
          "East": 38,
          "Hour": 15,
          "JulianDay": 19,
          "WeekDay": 0,
          "West": 33,
          "Year": 2012
         },
         {
          "Date2": "2012-10-22 16:00:00",
          "DateString": "10/22/2012 04:00:00 PM",
          "East": 87,
          "Hour": 16,
          "JulianDay": 19,
          "WeekDay": 0,
          "West": 63,
          "Year": 2012
         },
         {
          "Date2": "2012-10-22 17:00:00",
          "DateString": "10/22/2012 05:00:00 PM",
          "East": 272,
          "Hour": 17,
          "JulianDay": 19,
          "WeekDay": 0,
          "West": 97,
          "Year": 2012
         },
         {
          "Date2": "2012-10-22 18:00:00",
          "DateString": "10/22/2012 06:00:00 PM",
          "East": 145,
          "Hour": 18,
          "JulianDay": 19,
          "WeekDay": 0,
          "West": 54,
          "Year": 2012
         },
         {
          "Date2": "2012-10-22 19:00:00",
          "DateString": "10/22/2012 07:00:00 PM",
          "East": 49,
          "Hour": 19,
          "JulianDay": 19,
          "WeekDay": 0,
          "West": 25,
          "Year": 2012
         },
         {
          "Date2": "2012-10-22 20:00:00",
          "DateString": "10/22/2012 08:00:00 PM",
          "East": 26,
          "Hour": 20,
          "JulianDay": 19,
          "WeekDay": 0,
          "West": 14,
          "Year": 2012
         },
         {
          "Date2": "2012-10-22 21:00:00",
          "DateString": "10/22/2012 09:00:00 PM",
          "East": 11,
          "Hour": 21,
          "JulianDay": 19,
          "WeekDay": 0,
          "West": 17,
          "Year": 2012
         },
         {
          "Date2": "2012-10-22 22:00:00",
          "DateString": "10/22/2012 10:00:00 PM",
          "East": 9,
          "Hour": 22,
          "JulianDay": 19,
          "WeekDay": 0,
          "West": 6,
          "Year": 2012
         },
         {
          "Date2": "2012-10-22 23:00:00",
          "DateString": "10/22/2012 11:00:00 PM",
          "East": 4,
          "Hour": 23,
          "JulianDay": 19,
          "WeekDay": 0,
          "West": 7,
          "Year": 2012
         },
         {
          "Date2": "2012-10-23 00:00:00",
          "DateString": "10/23/2012 12:00:00 AM",
          "East": 3,
          "Hour": 0,
          "JulianDay": 20,
          "WeekDay": 1,
          "West": 3,
          "Year": 2012
         },
         {
          "Date2": "2012-10-23 01:00:00",
          "DateString": "10/23/2012 01:00:00 AM",
          "East": 1,
          "Hour": 1,
          "JulianDay": 20,
          "WeekDay": 1,
          "West": 1,
          "Year": 2012
         },
         {
          "Date2": "2012-10-23 02:00:00",
          "DateString": "10/23/2012 02:00:00 AM",
          "East": 1,
          "Hour": 2,
          "JulianDay": 20,
          "WeekDay": 1,
          "West": 2,
          "Year": 2012
         },
         {
          "Date2": "2012-10-23 03:00:00",
          "DateString": "10/23/2012 03:00:00 AM",
          "East": 1,
          "Hour": 3,
          "JulianDay": 20,
          "WeekDay": 1,
          "West": 0,
          "Year": 2012
         },
         {
          "Date2": "2012-10-23 04:00:00",
          "DateString": "10/23/2012 04:00:00 AM",
          "East": 6,
          "Hour": 4,
          "JulianDay": 20,
          "WeekDay": 1,
          "West": 5,
          "Year": 2012
         },
         {
          "Date2": "2012-10-23 05:00:00",
          "DateString": "10/23/2012 05:00:00 AM",
          "East": 8,
          "Hour": 5,
          "JulianDay": 20,
          "WeekDay": 1,
          "West": 27,
          "Year": 2012
         },
         {
          "Date2": "2012-10-23 06:00:00",
          "DateString": "10/23/2012 06:00:00 AM",
          "East": 33,
          "Hour": 6,
          "JulianDay": 20,
          "WeekDay": 1,
          "West": 79,
          "Year": 2012
         },
         {
          "Date2": "2012-10-23 07:00:00",
          "DateString": "10/23/2012 07:00:00 AM",
          "East": 67,
          "Hour": 7,
          "JulianDay": 20,
          "WeekDay": 1,
          "West": 169,
          "Year": 2012
         },
         {
          "Date2": "2012-10-23 08:00:00",
          "DateString": "10/23/2012 08:00:00 AM",
          "East": 105,
          "Hour": 8,
          "JulianDay": 20,
          "WeekDay": 1,
          "West": 238,
          "Year": 2012
         },
         {
          "Date2": "2012-10-23 09:00:00",
          "DateString": "10/23/2012 09:00:00 AM",
          "East": 58,
          "Hour": 9,
          "JulianDay": 20,
          "WeekDay": 1,
          "West": 110,
          "Year": 2012
         },
         {
          "Date2": "2012-10-23 10:00:00",
          "DateString": "10/23/2012 10:00:00 AM",
          "East": 31,
          "Hour": 10,
          "JulianDay": 20,
          "WeekDay": 1,
          "West": 48,
          "Year": 2012
         },
         {
          "Date2": "2012-10-23 11:00:00",
          "DateString": "10/23/2012 11:00:00 AM",
          "East": 25,
          "Hour": 11,
          "JulianDay": 20,
          "WeekDay": 1,
          "West": 27,
          "Year": 2012
         },
         {
          "Date2": "2012-10-23 12:00:00",
          "DateString": "10/23/2012 12:00:00 PM",
          "East": 35,
          "Hour": 12,
          "JulianDay": 20,
          "WeekDay": 1,
          "West": 33,
          "Year": 2012
         },
         {
          "Date2": "2012-10-23 13:00:00",
          "DateString": "10/23/2012 01:00:00 PM",
          "East": 23,
          "Hour": 13,
          "JulianDay": 20,
          "WeekDay": 1,
          "West": 36,
          "Year": 2012
         },
         {
          "Date2": "2012-10-23 14:00:00",
          "DateString": "10/23/2012 02:00:00 PM",
          "East": 38,
          "Hour": 14,
          "JulianDay": 20,
          "WeekDay": 1,
          "West": 38,
          "Year": 2012
         },
         {
          "Date2": "2012-10-23 15:00:00",
          "DateString": "10/23/2012 03:00:00 PM",
          "East": 49,
          "Hour": 15,
          "JulianDay": 20,
          "WeekDay": 1,
          "West": 51,
          "Year": 2012
         },
         {
          "Date2": "2012-10-23 16:00:00",
          "DateString": "10/23/2012 04:00:00 PM",
          "East": 114,
          "Hour": 16,
          "JulianDay": 20,
          "WeekDay": 1,
          "West": 76,
          "Year": 2012
         },
         {
          "Date2": "2012-10-23 17:00:00",
          "DateString": "10/23/2012 05:00:00 PM",
          "East": 299,
          "Hour": 17,
          "JulianDay": 20,
          "WeekDay": 1,
          "West": 135,
          "Year": 2012
         },
         {
          "Date2": "2012-10-23 18:00:00",
          "DateString": "10/23/2012 06:00:00 PM",
          "East": 194,
          "Hour": 18,
          "JulianDay": 20,
          "WeekDay": 1,
          "West": 76,
          "Year": 2012
         },
         {
          "Date2": "2012-10-23 19:00:00",
          "DateString": "10/23/2012 07:00:00 PM",
          "East": 67,
          "Hour": 19,
          "JulianDay": 20,
          "WeekDay": 1,
          "West": 37,
          "Year": 2012
         },
         {
          "Date2": "2012-10-23 20:00:00",
          "DateString": "10/23/2012 08:00:00 PM",
          "East": 38,
          "Hour": 20,
          "JulianDay": 20,
          "WeekDay": 1,
          "West": 21,
          "Year": 2012
         },
         {
          "Date2": "2012-10-23 21:00:00",
          "DateString": "10/23/2012 09:00:00 PM",
          "East": 26,
          "Hour": 21,
          "JulianDay": 20,
          "WeekDay": 1,
          "West": 24,
          "Year": 2012
         },
         {
          "Date2": "2012-10-23 22:00:00",
          "DateString": "10/23/2012 10:00:00 PM",
          "East": 10,
          "Hour": 22,
          "JulianDay": 20,
          "WeekDay": 1,
          "West": 11,
          "Year": 2012
         },
         {
          "Date2": "2012-10-23 23:00:00",
          "DateString": "10/23/2012 11:00:00 PM",
          "East": 5,
          "Hour": 23,
          "JulianDay": 20,
          "WeekDay": 1,
          "West": 16,
          "Year": 2012
         },
         {
          "Date2": "2012-10-24 00:00:00",
          "DateString": "10/24/2012 12:00:00 AM",
          "East": 8,
          "Hour": 0,
          "JulianDay": 21,
          "WeekDay": 2,
          "West": 3,
          "Year": 2012
         },
         {
          "Date2": "2012-10-24 01:00:00",
          "DateString": "10/24/2012 01:00:00 AM",
          "East": 9,
          "Hour": 1,
          "JulianDay": 21,
          "WeekDay": 2,
          "West": 2,
          "Year": 2012
         },
         {
          "Date2": "2012-10-24 02:00:00",
          "DateString": "10/24/2012 02:00:00 AM",
          "East": 2,
          "Hour": 2,
          "JulianDay": 21,
          "WeekDay": 2,
          "West": 7,
          "Year": 2012
         },
         {
          "Date2": "2012-10-24 03:00:00",
          "DateString": "10/24/2012 03:00:00 AM",
          "East": 3,
          "Hour": 3,
          "JulianDay": 21,
          "WeekDay": 2,
          "West": 1,
          "Year": 2012
         },
         {
          "Date2": "2012-10-24 04:00:00",
          "DateString": "10/24/2012 04:00:00 AM",
          "East": 3,
          "Hour": 4,
          "JulianDay": 21,
          "WeekDay": 2,
          "West": 2,
          "Year": 2012
         },
         {
          "Date2": "2012-10-24 05:00:00",
          "DateString": "10/24/2012 05:00:00 AM",
          "East": 9,
          "Hour": 5,
          "JulianDay": 21,
          "WeekDay": 2,
          "West": 16,
          "Year": 2012
         },
         {
          "Date2": "2012-10-24 06:00:00",
          "DateString": "10/24/2012 06:00:00 AM",
          "East": 39,
          "Hour": 6,
          "JulianDay": 21,
          "WeekDay": 2,
          "West": 79,
          "Year": 2012
         },
         {
          "Date2": "2012-10-24 07:00:00",
          "DateString": "10/24/2012 07:00:00 AM",
          "East": 67,
          "Hour": 7,
          "JulianDay": 21,
          "WeekDay": 2,
          "West": 158,
          "Year": 2012
         },
         {
          "Date2": "2012-10-24 08:00:00",
          "DateString": "10/24/2012 08:00:00 AM",
          "East": 89,
          "Hour": 8,
          "JulianDay": 21,
          "WeekDay": 2,
          "West": 224,
          "Year": 2012
         },
         {
          "Date2": "2012-10-24 09:00:00",
          "DateString": "10/24/2012 09:00:00 AM",
          "East": 64,
          "Hour": 9,
          "JulianDay": 21,
          "WeekDay": 2,
          "West": 108,
          "Year": 2012
         },
         {
          "Date2": "2012-10-24 10:00:00",
          "DateString": "10/24/2012 10:00:00 AM",
          "East": 38,
          "Hour": 10,
          "JulianDay": 21,
          "WeekDay": 2,
          "West": 40,
          "Year": 2012
         },
         {
          "Date2": "2012-10-24 11:00:00",
          "DateString": "10/24/2012 11:00:00 AM",
          "East": 14,
          "Hour": 11,
          "JulianDay": 21,
          "WeekDay": 2,
          "West": 35,
          "Year": 2012
         },
         {
          "Date2": "2012-10-24 12:00:00",
          "DateString": "10/24/2012 12:00:00 PM",
          "East": 15,
          "Hour": 12,
          "JulianDay": 21,
          "WeekDay": 2,
          "West": 20,
          "Year": 2012
         },
         {
          "Date2": "2012-10-24 13:00:00",
          "DateString": "10/24/2012 01:00:00 PM",
          "East": 28,
          "Hour": 13,
          "JulianDay": 21,
          "WeekDay": 2,
          "West": 38,
          "Year": 2012
         },
         {
          "Date2": "2012-10-24 14:00:00",
          "DateString": "10/24/2012 02:00:00 PM",
          "East": 32,
          "Hour": 14,
          "JulianDay": 21,
          "WeekDay": 2,
          "West": 46,
          "Year": 2012
         },
         {
          "Date2": "2012-10-24 15:00:00",
          "DateString": "10/24/2012 03:00:00 PM",
          "East": 61,
          "Hour": 15,
          "JulianDay": 21,
          "WeekDay": 2,
          "West": 40,
          "Year": 2012
         },
         {
          "Date2": "2012-10-24 16:00:00",
          "DateString": "10/24/2012 04:00:00 PM",
          "East": 104,
          "Hour": 16,
          "JulianDay": 21,
          "WeekDay": 2,
          "West": 88,
          "Year": 2012
         },
         {
          "Date2": "2012-10-24 17:00:00",
          "DateString": "10/24/2012 05:00:00 PM",
          "East": 261,
          "Hour": 17,
          "JulianDay": 21,
          "WeekDay": 2,
          "West": 138,
          "Year": 2012
         },
         {
          "Date2": "2012-10-24 18:00:00",
          "DateString": "10/24/2012 06:00:00 PM",
          "East": 165,
          "Hour": 18,
          "JulianDay": 21,
          "WeekDay": 2,
          "West": 100,
          "Year": 2012
         },
         {
          "Date2": "2012-10-24 19:00:00",
          "DateString": "10/24/2012 07:00:00 PM",
          "East": 79,
          "Hour": 19,
          "JulianDay": 21,
          "WeekDay": 2,
          "West": 38,
          "Year": 2012
         },
         {
          "Date2": "2012-10-24 20:00:00",
          "DateString": "10/24/2012 08:00:00 PM",
          "East": 35,
          "Hour": 20,
          "JulianDay": 21,
          "WeekDay": 2,
          "West": 27,
          "Year": 2012
         },
         {
          "Date2": "2012-10-24 21:00:00",
          "DateString": "10/24/2012 09:00:00 PM",
          "East": 26,
          "Hour": 21,
          "JulianDay": 21,
          "WeekDay": 2,
          "West": 20,
          "Year": 2012
         },
         {
          "Date2": "2012-10-24 22:00:00",
          "DateString": "10/24/2012 10:00:00 PM",
          "East": 21,
          "Hour": 22,
          "JulianDay": 21,
          "WeekDay": 2,
          "West": 12,
          "Year": 2012
         },
         {
          "Date2": "2012-10-24 23:00:00",
          "DateString": "10/24/2012 11:00:00 PM",
          "East": 7,
          "Hour": 23,
          "JulianDay": 21,
          "WeekDay": 2,
          "West": 8,
          "Year": 2012
         },
         {
          "Date2": "2012-10-25 00:00:00",
          "DateString": "10/25/2012 12:00:00 AM",
          "East": 1,
          "Hour": 0,
          "JulianDay": 22,
          "WeekDay": 3,
          "West": 2,
          "Year": 2012
         },
         {
          "Date2": "2012-10-25 01:00:00",
          "DateString": "10/25/2012 01:00:00 AM",
          "East": 5,
          "Hour": 1,
          "JulianDay": 22,
          "WeekDay": 3,
          "West": 1,
          "Year": 2012
         },
         {
          "Date2": "2012-10-25 02:00:00",
          "DateString": "10/25/2012 02:00:00 AM",
          "East": 1,
          "Hour": 2,
          "JulianDay": 22,
          "WeekDay": 3,
          "West": 2,
          "Year": 2012
         },
         {
          "Date2": "2012-10-25 03:00:00",
          "DateString": "10/25/2012 03:00:00 AM",
          "East": 2,
          "Hour": 3,
          "JulianDay": 22,
          "WeekDay": 3,
          "West": 1,
          "Year": 2012
         },
         {
          "Date2": "2012-10-25 04:00:00",
          "DateString": "10/25/2012 04:00:00 AM",
          "East": 1,
          "Hour": 4,
          "JulianDay": 22,
          "WeekDay": 3,
          "West": 4,
          "Year": 2012
         },
         {
          "Date2": "2012-10-25 05:00:00",
          "DateString": "10/25/2012 05:00:00 AM",
          "East": 14,
          "Hour": 5,
          "JulianDay": 22,
          "WeekDay": 3,
          "West": 19,
          "Year": 2012
         },
         {
          "Date2": "2012-10-25 06:00:00",
          "DateString": "10/25/2012 06:00:00 AM",
          "East": 38,
          "Hour": 6,
          "JulianDay": 22,
          "WeekDay": 3,
          "West": 81,
          "Year": 2012
         },
         {
          "Date2": "2012-10-25 07:00:00",
          "DateString": "10/25/2012 07:00:00 AM",
          "East": 60,
          "Hour": 7,
          "JulianDay": 22,
          "WeekDay": 3,
          "West": 184,
          "Year": 2012
         },
         {
          "Date2": "2012-10-25 08:00:00",
          "DateString": "10/25/2012 08:00:00 AM",
          "East": 114,
          "Hour": 8,
          "JulianDay": 22,
          "WeekDay": 3,
          "West": 227,
          "Year": 2012
         },
         {
          "Date2": "2012-10-25 09:00:00",
          "DateString": "10/25/2012 09:00:00 AM",
          "East": 69,
          "Hour": 9,
          "JulianDay": 22,
          "WeekDay": 3,
          "West": 133,
          "Year": 2012
         },
         {
          "Date2": "2012-10-25 10:00:00",
          "DateString": "10/25/2012 10:00:00 AM",
          "East": 23,
          "Hour": 10,
          "JulianDay": 22,
          "WeekDay": 3,
          "West": 60,
          "Year": 2012
         },
         {
          "Date2": "2012-10-25 11:00:00",
          "DateString": "10/25/2012 11:00:00 AM",
          "East": 26,
          "Hour": 11,
          "JulianDay": 22,
          "WeekDay": 3,
          "West": 29,
          "Year": 2012
         },
         {
          "Date2": "2012-10-25 12:00:00",
          "DateString": "10/25/2012 12:00:00 PM",
          "East": 35,
          "Hour": 12,
          "JulianDay": 22,
          "WeekDay": 3,
          "West": 39,
          "Year": 2012
         },
         {
          "Date2": "2012-10-25 13:00:00",
          "DateString": "10/25/2012 01:00:00 PM",
          "East": 38,
          "Hour": 13,
          "JulianDay": 22,
          "WeekDay": 3,
          "West": 42,
          "Year": 2012
         },
         {
          "Date2": "2012-10-25 14:00:00",
          "DateString": "10/25/2012 02:00:00 PM",
          "East": 38,
          "Hour": 14,
          "JulianDay": 22,
          "WeekDay": 3,
          "West": 52,
          "Year": 2012
         },
         {
          "Date2": "2012-10-25 15:00:00",
          "DateString": "10/25/2012 03:00:00 PM",
          "East": 86,
          "Hour": 15,
          "JulianDay": 22,
          "WeekDay": 3,
          "West": 60,
          "Year": 2012
         },
         {
          "Date2": "2012-10-25 16:00:00",
          "DateString": "10/25/2012 04:00:00 PM",
          "East": 138,
          "Hour": 16,
          "JulianDay": 22,
          "WeekDay": 3,
          "West": 93,
          "Year": 2012
         },
         {
          "Date2": "2012-10-25 17:00:00",
          "DateString": "10/25/2012 05:00:00 PM",
          "East": 295,
          "Hour": 17,
          "JulianDay": 22,
          "WeekDay": 3,
          "West": 130,
          "Year": 2012
         },
         {
          "Date2": "2012-10-25 18:00:00",
          "DateString": "10/25/2012 06:00:00 PM",
          "East": 193,
          "Hour": 18,
          "JulianDay": 22,
          "WeekDay": 3,
          "West": 79,
          "Year": 2012
         },
         {
          "Date2": "2012-10-25 19:00:00",
          "DateString": "10/25/2012 07:00:00 PM",
          "East": 61,
          "Hour": 19,
          "JulianDay": 22,
          "WeekDay": 3,
          "West": 47,
          "Year": 2012
         },
         {
          "Date2": "2012-10-25 20:00:00",
          "DateString": "10/25/2012 08:00:00 PM",
          "East": 49,
          "Hour": 20,
          "JulianDay": 22,
          "WeekDay": 3,
          "West": 30,
          "Year": 2012
         },
         {
          "Date2": "2012-10-25 21:00:00",
          "DateString": "10/25/2012 09:00:00 PM",
          "East": 34,
          "Hour": 21,
          "JulianDay": 22,
          "WeekDay": 3,
          "West": 21,
          "Year": 2012
         },
         {
          "Date2": "2012-10-25 22:00:00",
          "DateString": "10/25/2012 10:00:00 PM",
          "East": 19,
          "Hour": 22,
          "JulianDay": 22,
          "WeekDay": 3,
          "West": 9,
          "Year": 2012
         },
         {
          "Date2": "2012-10-25 23:00:00",
          "DateString": "10/25/2012 11:00:00 PM",
          "East": 12,
          "Hour": 23,
          "JulianDay": 22,
          "WeekDay": 3,
          "West": 16,
          "Year": 2012
         },
         {
          "Date2": "2012-10-26 00:00:00",
          "DateString": "10/26/2012 12:00:00 AM",
          "East": 8,
          "Hour": 0,
          "JulianDay": 23,
          "WeekDay": 4,
          "West": 11,
          "Year": 2012
         },
         {
          "Date2": "2012-10-26 01:00:00",
          "DateString": "10/26/2012 01:00:00 AM",
          "East": 7,
          "Hour": 1,
          "JulianDay": 23,
          "WeekDay": 4,
          "West": 9,
          "Year": 2012
         },
         {
          "Date2": "2012-10-26 02:00:00",
          "DateString": "10/26/2012 02:00:00 AM",
          "East": 1,
          "Hour": 2,
          "JulianDay": 23,
          "WeekDay": 4,
          "West": 3,
          "Year": 2012
         },
         {
          "Date2": "2012-10-26 03:00:00",
          "DateString": "10/26/2012 03:00:00 AM",
          "East": 1,
          "Hour": 3,
          "JulianDay": 23,
          "WeekDay": 4,
          "West": 0,
          "Year": 2012
         },
         {
          "Date2": "2012-10-26 04:00:00",
          "DateString": "10/26/2012 04:00:00 AM",
          "East": 6,
          "Hour": 4,
          "JulianDay": 23,
          "WeekDay": 4,
          "West": 4,
          "Year": 2012
         },
         {
          "Date2": "2012-10-26 05:00:00",
          "DateString": "10/26/2012 05:00:00 AM",
          "East": 9,
          "Hour": 5,
          "JulianDay": 23,
          "WeekDay": 4,
          "West": 12,
          "Year": 2012
         },
         {
          "Date2": "2012-10-26 06:00:00",
          "DateString": "10/26/2012 06:00:00 AM",
          "East": 32,
          "Hour": 6,
          "JulianDay": 23,
          "WeekDay": 4,
          "West": 55,
          "Year": 2012
         },
         {
          "Date2": "2012-10-26 07:00:00",
          "DateString": "10/26/2012 07:00:00 AM",
          "East": 66,
          "Hour": 7,
          "JulianDay": 23,
          "WeekDay": 4,
          "West": 137,
          "Year": 2012
         },
         {
          "Date2": "2012-10-26 08:00:00",
          "DateString": "10/26/2012 08:00:00 AM",
          "East": 96,
          "Hour": 8,
          "JulianDay": 23,
          "WeekDay": 4,
          "West": 187,
          "Year": 2012
         },
         {
          "Date2": "2012-10-26 09:00:00",
          "DateString": "10/26/2012 09:00:00 AM",
          "East": 55,
          "Hour": 9,
          "JulianDay": 23,
          "WeekDay": 4,
          "West": 116,
          "Year": 2012
         },
         {
          "Date2": "2012-10-26 10:00:00",
          "DateString": "10/26/2012 10:00:00 AM",
          "East": 27,
          "Hour": 10,
          "JulianDay": 23,
          "WeekDay": 4,
          "West": 59,
          "Year": 2012
         },
         {
          "Date2": "2012-10-26 11:00:00",
          "DateString": "10/26/2012 11:00:00 AM",
          "East": 22,
          "Hour": 11,
          "JulianDay": 23,
          "WeekDay": 4,
          "West": 28,
          "Year": 2012
         },
         {
          "Date2": "2012-10-26 12:00:00",
          "DateString": "10/26/2012 12:00:00 PM",
          "East": 20,
          "Hour": 12,
          "JulianDay": 23,
          "WeekDay": 4,
          "West": 22,
          "Year": 2012
         },
         {
          "Date2": "2012-10-26 13:00:00",
          "DateString": "10/26/2012 01:00:00 PM",
          "East": 27,
          "Hour": 13,
          "JulianDay": 23,
          "WeekDay": 4,
          "West": 13,
          "Year": 2012
         },
         {
          "Date2": "2012-10-26 14:00:00",
          "DateString": "10/26/2012 02:00:00 PM",
          "East": 33,
          "Hour": 14,
          "JulianDay": 23,
          "WeekDay": 4,
          "West": 26,
          "Year": 2012
         },
         {
          "Date2": "2012-10-26 15:00:00",
          "DateString": "10/26/2012 03:00:00 PM",
          "East": 67,
          "Hour": 15,
          "JulianDay": 23,
          "WeekDay": 4,
          "West": 49,
          "Year": 2012
         },
         {
          "Date2": "2012-10-26 16:00:00",
          "DateString": "10/26/2012 04:00:00 PM",
          "East": 108,
          "Hour": 16,
          "JulianDay": 23,
          "WeekDay": 4,
          "West": 90,
          "Year": 2012
         },
         {
          "Date2": "2012-10-26 17:00:00",
          "DateString": "10/26/2012 05:00:00 PM",
          "East": 204,
          "Hour": 17,
          "JulianDay": 23,
          "WeekDay": 4,
          "West": 94,
          "Year": 2012
         },
         {
          "Date2": "2012-10-26 18:00:00",
          "DateString": "10/26/2012 06:00:00 PM",
          "East": 131,
          "Hour": 18,
          "JulianDay": 23,
          "WeekDay": 4,
          "West": 65,
          "Year": 2012
         },
         {
          "Date2": "2012-10-26 19:00:00",
          "DateString": "10/26/2012 07:00:00 PM",
          "East": 43,
          "Hour": 19,
          "JulianDay": 23,
          "WeekDay": 4,
          "West": 22,
          "Year": 2012
         },
         {
          "Date2": "2012-10-26 20:00:00",
          "DateString": "10/26/2012 08:00:00 PM",
          "East": 28,
          "Hour": 20,
          "JulianDay": 23,
          "WeekDay": 4,
          "West": 14,
          "Year": 2012
         },
         {
          "Date2": "2012-10-26 21:00:00",
          "DateString": "10/26/2012 09:00:00 PM",
          "East": 24,
          "Hour": 21,
          "JulianDay": 23,
          "WeekDay": 4,
          "West": 9,
          "Year": 2012
         },
         {
          "Date2": "2012-10-26 22:00:00",
          "DateString": "10/26/2012 10:00:00 PM",
          "East": 9,
          "Hour": 22,
          "JulianDay": 23,
          "WeekDay": 4,
          "West": 6,
          "Year": 2012
         },
         {
          "Date2": "2012-10-26 23:00:00",
          "DateString": "10/26/2012 11:00:00 PM",
          "East": 10,
          "Hour": 23,
          "JulianDay": 23,
          "WeekDay": 4,
          "West": 8,
          "Year": 2012
         },
         {
          "Date2": "2012-10-27 00:00:00",
          "DateString": "10/27/2012 12:00:00 AM",
          "East": 6,
          "Hour": 0,
          "JulianDay": 24,
          "WeekDay": 5,
          "West": 6,
          "Year": 2012
         },
         {
          "Date2": "2012-10-27 01:00:00",
          "DateString": "10/27/2012 01:00:00 AM",
          "East": 3,
          "Hour": 1,
          "JulianDay": 24,
          "WeekDay": 5,
          "West": 6,
          "Year": 2012
         },
         {
          "Date2": "2012-10-27 02:00:00",
          "DateString": "10/27/2012 02:00:00 AM",
          "East": 10,
          "Hour": 2,
          "JulianDay": 24,
          "WeekDay": 5,
          "West": 6,
          "Year": 2012
         },
         {
          "Date2": "2012-10-27 03:00:00",
          "DateString": "10/27/2012 03:00:00 AM",
          "East": 1,
          "Hour": 3,
          "JulianDay": 24,
          "WeekDay": 5,
          "West": 1,
          "Year": 2012
         },
         {
          "Date2": "2012-10-27 04:00:00",
          "DateString": "10/27/2012 04:00:00 AM",
          "East": 3,
          "Hour": 4,
          "JulianDay": 24,
          "WeekDay": 5,
          "West": 2,
          "Year": 2012
         },
         {
          "Date2": "2012-10-27 05:00:00",
          "DateString": "10/27/2012 05:00:00 AM",
          "East": 6,
          "Hour": 5,
          "JulianDay": 24,
          "WeekDay": 5,
          "West": 7,
          "Year": 2012
         },
         {
          "Date2": "2012-10-27 06:00:00",
          "DateString": "10/27/2012 06:00:00 AM",
          "East": 6,
          "Hour": 6,
          "JulianDay": 24,
          "WeekDay": 5,
          "West": 7,
          "Year": 2012
         },
         {
          "Date2": "2012-10-27 07:00:00",
          "DateString": "10/27/2012 07:00:00 AM",
          "East": 6,
          "Hour": 7,
          "JulianDay": 24,
          "WeekDay": 5,
          "West": 9,
          "Year": 2012
         },
         {
          "Date2": "2012-10-27 08:00:00",
          "DateString": "10/27/2012 08:00:00 AM",
          "East": 13,
          "Hour": 8,
          "JulianDay": 24,
          "WeekDay": 5,
          "West": 12,
          "Year": 2012
         },
         {
          "Date2": "2012-10-27 09:00:00",
          "DateString": "10/27/2012 09:00:00 AM",
          "East": 11,
          "Hour": 9,
          "JulianDay": 24,
          "WeekDay": 5,
          "West": 14,
          "Year": 2012
         },
         {
          "Date2": "2012-10-27 10:00:00",
          "DateString": "10/27/2012 10:00:00 AM",
          "East": 11,
          "Hour": 10,
          "JulianDay": 24,
          "WeekDay": 5,
          "West": 10,
          "Year": 2012
         },
         {
          "Date2": "2012-10-27 11:00:00",
          "DateString": "10/27/2012 11:00:00 AM",
          "East": 9,
          "Hour": 11,
          "JulianDay": 24,
          "WeekDay": 5,
          "West": 22,
          "Year": 2012
         },
         {
          "Date2": "2012-10-27 12:00:00",
          "DateString": "10/27/2012 12:00:00 PM",
          "East": 12,
          "Hour": 12,
          "JulianDay": 24,
          "WeekDay": 5,
          "West": 13,
          "Year": 2012
         },
         {
          "Date2": "2012-10-27 13:00:00",
          "DateString": "10/27/2012 01:00:00 PM",
          "East": 13,
          "Hour": 13,
          "JulianDay": 24,
          "WeekDay": 5,
          "West": 28,
          "Year": 2012
         },
         {
          "Date2": "2012-10-27 14:00:00",
          "DateString": "10/27/2012 02:00:00 PM",
          "East": 28,
          "Hour": 14,
          "JulianDay": 24,
          "WeekDay": 5,
          "West": 23,
          "Year": 2012
         },
         {
          "Date2": "2012-10-27 15:00:00",
          "DateString": "10/27/2012 03:00:00 PM",
          "East": 21,
          "Hour": 15,
          "JulianDay": 24,
          "WeekDay": 5,
          "West": 30,
          "Year": 2012
         },
         {
          "Date2": "2012-10-27 16:00:00",
          "DateString": "10/27/2012 04:00:00 PM",
          "East": 32,
          "Hour": 16,
          "JulianDay": 24,
          "WeekDay": 5,
          "West": 27,
          "Year": 2012
         },
         {
          "Date2": "2012-10-27 17:00:00",
          "DateString": "10/27/2012 05:00:00 PM",
          "East": 10,
          "Hour": 17,
          "JulianDay": 24,
          "WeekDay": 5,
          "West": 26,
          "Year": 2012
         },
         {
          "Date2": "2012-10-27 18:00:00",
          "DateString": "10/27/2012 06:00:00 PM",
          "East": 7,
          "Hour": 18,
          "JulianDay": 24,
          "WeekDay": 5,
          "West": 11,
          "Year": 2012
         },
         {
          "Date2": "2012-10-27 19:00:00",
          "DateString": "10/27/2012 07:00:00 PM",
          "East": 7,
          "Hour": 19,
          "JulianDay": 24,
          "WeekDay": 5,
          "West": 8,
          "Year": 2012
         },
         {
          "Date2": "2012-10-27 20:00:00",
          "DateString": "10/27/2012 08:00:00 PM",
          "East": 3,
          "Hour": 20,
          "JulianDay": 24,
          "WeekDay": 5,
          "West": 5,
          "Year": 2012
         },
         {
          "Date2": "2012-10-27 21:00:00",
          "DateString": "10/27/2012 09:00:00 PM",
          "East": 11,
          "Hour": 21,
          "JulianDay": 24,
          "WeekDay": 5,
          "West": 6,
          "Year": 2012
         },
         {
          "Date2": "2012-10-27 22:00:00",
          "DateString": "10/27/2012 10:00:00 PM",
          "East": 5,
          "Hour": 22,
          "JulianDay": 24,
          "WeekDay": 5,
          "West": 7,
          "Year": 2012
         },
         {
          "Date2": "2012-10-27 23:00:00",
          "DateString": "10/27/2012 11:00:00 PM",
          "East": 8,
          "Hour": 23,
          "JulianDay": 24,
          "WeekDay": 5,
          "West": 3,
          "Year": 2012
         },
         {
          "Date2": "2012-10-28 00:00:00",
          "DateString": "10/28/2012 12:00:00 AM",
          "East": 5,
          "Hour": 0,
          "JulianDay": 25,
          "WeekDay": 6,
          "West": 5,
          "Year": 2012
         },
         {
          "Date2": "2012-10-28 01:00:00",
          "DateString": "10/28/2012 01:00:00 AM",
          "East": 11,
          "Hour": 1,
          "JulianDay": 25,
          "WeekDay": 6,
          "West": 0,
          "Year": 2012
         },
         {
          "Date2": "2012-10-28 02:00:00",
          "DateString": "10/28/2012 02:00:00 AM",
          "East": 3,
          "Hour": 2,
          "JulianDay": 25,
          "WeekDay": 6,
          "West": 4,
          "Year": 2012
         },
         {
          "Date2": "2012-10-28 03:00:00",
          "DateString": "10/28/2012 03:00:00 AM",
          "East": 3,
          "Hour": 3,
          "JulianDay": 25,
          "WeekDay": 6,
          "West": 1,
          "Year": 2012
         },
         {
          "Date2": "2012-10-28 04:00:00",
          "DateString": "10/28/2012 04:00:00 AM",
          "East": 1,
          "Hour": 4,
          "JulianDay": 25,
          "WeekDay": 6,
          "West": 2,
          "Year": 2012
         },
         {
          "Date2": "2012-10-28 05:00:00",
          "DateString": "10/28/2012 05:00:00 AM",
          "East": 1,
          "Hour": 5,
          "JulianDay": 25,
          "WeekDay": 6,
          "West": 5,
          "Year": 2012
         },
         {
          "Date2": "2012-10-28 06:00:00",
          "DateString": "10/28/2012 06:00:00 AM",
          "East": 9,
          "Hour": 6,
          "JulianDay": 25,
          "WeekDay": 6,
          "West": 1,
          "Year": 2012
         },
         {
          "Date2": "2012-10-28 07:00:00",
          "DateString": "10/28/2012 07:00:00 AM",
          "East": 6,
          "Hour": 7,
          "JulianDay": 25,
          "WeekDay": 6,
          "West": 11,
          "Year": 2012
         },
         {
          "Date2": "2012-10-28 08:00:00",
          "DateString": "10/28/2012 08:00:00 AM",
          "East": 15,
          "Hour": 8,
          "JulianDay": 25,
          "WeekDay": 6,
          "West": 16,
          "Year": 2012
         },
         {
          "Date2": "2012-10-28 09:00:00",
          "DateString": "10/28/2012 09:00:00 AM",
          "East": 24,
          "Hour": 9,
          "JulianDay": 25,
          "WeekDay": 6,
          "West": 18,
          "Year": 2012
         },
         {
          "Date2": "2012-10-28 10:00:00",
          "DateString": "10/28/2012 10:00:00 AM",
          "East": 24,
          "Hour": 10,
          "JulianDay": 25,
          "WeekDay": 6,
          "West": 29,
          "Year": 2012
         },
         {
          "Date2": "2012-10-28 11:00:00",
          "DateString": "10/28/2012 11:00:00 AM",
          "East": 31,
          "Hour": 11,
          "JulianDay": 25,
          "WeekDay": 6,
          "West": 47,
          "Year": 2012
         },
         {
          "Date2": "2012-10-28 12:00:00",
          "DateString": "10/28/2012 12:00:00 PM",
          "East": 42,
          "Hour": 12,
          "JulianDay": 25,
          "WeekDay": 6,
          "West": 73,
          "Year": 2012
         },
         {
          "Date2": "2012-10-28 13:00:00",
          "DateString": "10/28/2012 01:00:00 PM",
          "East": 51,
          "Hour": 13,
          "JulianDay": 25,
          "WeekDay": 6,
          "West": 74,
          "Year": 2012
         },
         {
          "Date2": "2012-10-28 14:00:00",
          "DateString": "10/28/2012 02:00:00 PM",
          "East": 49,
          "Hour": 14,
          "JulianDay": 25,
          "WeekDay": 6,
          "West": 89,
          "Year": 2012
         },
         {
          "Date2": "2012-10-28 15:00:00",
          "DateString": "10/28/2012 03:00:00 PM",
          "East": 46,
          "Hour": 15,
          "JulianDay": 25,
          "WeekDay": 6,
          "West": 74,
          "Year": 2012
         },
         {
          "Date2": "2012-10-28 16:00:00",
          "DateString": "10/28/2012 04:00:00 PM",
          "East": 40,
          "Hour": 16,
          "JulianDay": 25,
          "WeekDay": 6,
          "West": 59,
          "Year": 2012
         },
         {
          "Date2": "2012-10-28 17:00:00",
          "DateString": "10/28/2012 05:00:00 PM",
          "East": 39,
          "Hour": 17,
          "JulianDay": 25,
          "WeekDay": 6,
          "West": 50,
          "Year": 2012
         },
         {
          "Date2": "2012-10-28 18:00:00",
          "DateString": "10/28/2012 06:00:00 PM",
          "East": 13,
          "Hour": 18,
          "JulianDay": 25,
          "WeekDay": 6,
          "West": 21,
          "Year": 2012
         },
         {
          "Date2": "2012-10-28 19:00:00",
          "DateString": "10/28/2012 07:00:00 PM",
          "East": 11,
          "Hour": 19,
          "JulianDay": 25,
          "WeekDay": 6,
          "West": 10,
          "Year": 2012
         },
         {
          "Date2": "2012-10-28 20:00:00",
          "DateString": "10/28/2012 08:00:00 PM",
          "East": 9,
          "Hour": 20,
          "JulianDay": 25,
          "WeekDay": 6,
          "West": 8,
          "Year": 2012
         },
         {
          "Date2": "2012-10-28 21:00:00",
          "DateString": "10/28/2012 09:00:00 PM",
          "East": 7,
          "Hour": 21,
          "JulianDay": 25,
          "WeekDay": 6,
          "West": 5,
          "Year": 2012
         },
         {
          "Date2": "2012-10-28 22:00:00",
          "DateString": "10/28/2012 10:00:00 PM",
          "East": 6,
          "Hour": 22,
          "JulianDay": 25,
          "WeekDay": 6,
          "West": 8,
          "Year": 2012
         },
         {
          "Date2": "2012-10-28 23:00:00",
          "DateString": "10/28/2012 11:00:00 PM",
          "East": 5,
          "Hour": 23,
          "JulianDay": 25,
          "WeekDay": 6,
          "West": 1,
          "Year": 2012
         },
         {
          "Date2": "2012-10-29 00:00:00",
          "DateString": "10/29/2012 12:00:00 AM",
          "East": 7,
          "Hour": 0,
          "JulianDay": 26,
          "WeekDay": 0,
          "West": 4,
          "Year": 2012
         },
         {
          "Date2": "2012-10-29 01:00:00",
          "DateString": "10/29/2012 01:00:00 AM",
          "East": 1,
          "Hour": 1,
          "JulianDay": 26,
          "WeekDay": 0,
          "West": 0,
          "Year": 2012
         },
         {
          "Date2": "2012-10-29 02:00:00",
          "DateString": "10/29/2012 02:00:00 AM",
          "East": 1,
          "Hour": 2,
          "JulianDay": 26,
          "WeekDay": 0,
          "West": 2,
          "Year": 2012
         },
         {
          "Date2": "2012-10-29 03:00:00",
          "DateString": "10/29/2012 03:00:00 AM",
          "East": 2,
          "Hour": 3,
          "JulianDay": 26,
          "WeekDay": 0,
          "West": 0,
          "Year": 2012
         },
         {
          "Date2": "2012-10-29 04:00:00",
          "DateString": "10/29/2012 04:00:00 AM",
          "East": 3,
          "Hour": 4,
          "JulianDay": 26,
          "WeekDay": 0,
          "West": 2,
          "Year": 2012
         },
         {
          "Date2": "2012-10-29 05:00:00",
          "DateString": "10/29/2012 05:00:00 AM",
          "East": 5,
          "Hour": 5,
          "JulianDay": 26,
          "WeekDay": 0,
          "West": 17,
          "Year": 2012
         },
         {
          "Date2": "2012-10-29 06:00:00",
          "DateString": "10/29/2012 06:00:00 AM",
          "East": 30,
          "Hour": 6,
          "JulianDay": 26,
          "WeekDay": 0,
          "West": 65,
          "Year": 2012
         },
         {
          "Date2": "2012-10-29 07:00:00",
          "DateString": "10/29/2012 07:00:00 AM",
          "East": 53,
          "Hour": 7,
          "JulianDay": 26,
          "WeekDay": 0,
          "West": 161,
          "Year": 2012
         },
         {
          "Date2": "2012-10-29 08:00:00",
          "DateString": "10/29/2012 08:00:00 AM",
          "East": 87,
          "Hour": 8,
          "JulianDay": 26,
          "WeekDay": 0,
          "West": 187,
          "Year": 2012
         },
         {
          "Date2": "2012-10-29 09:00:00",
          "DateString": "10/29/2012 09:00:00 AM",
          "East": 51,
          "Hour": 9,
          "JulianDay": 26,
          "WeekDay": 0,
          "West": 101,
          "Year": 2012
         },
         {
          "Date2": "2012-10-29 10:00:00",
          "DateString": "10/29/2012 10:00:00 AM",
          "East": 36,
          "Hour": 10,
          "JulianDay": 26,
          "WeekDay": 0,
          "West": 37,
          "Year": 2012
         },
         {
          "Date2": "2012-10-29 11:00:00",
          "DateString": "10/29/2012 11:00:00 AM",
          "East": 29,
          "Hour": 11,
          "JulianDay": 26,
          "WeekDay": 0,
          "West": 26,
          "Year": 2012
         },
         {
          "Date2": "2012-10-29 12:00:00",
          "DateString": "10/29/2012 12:00:00 PM",
          "East": 21,
          "Hour": 12,
          "JulianDay": 26,
          "WeekDay": 0,
          "West": 36,
          "Year": 2012
         },
         {
          "Date2": "2012-10-29 13:00:00",
          "DateString": "10/29/2012 01:00:00 PM",
          "East": 23,
          "Hour": 13,
          "JulianDay": 26,
          "WeekDay": 0,
          "West": 40,
          "Year": 2012
         },
         {
          "Date2": "2012-10-29 14:00:00",
          "DateString": "10/29/2012 02:00:00 PM",
          "East": 34,
          "Hour": 14,
          "JulianDay": 26,
          "WeekDay": 0,
          "West": 48,
          "Year": 2012
         },
         {
          "Date2": "2012-10-29 15:00:00",
          "DateString": "10/29/2012 03:00:00 PM",
          "East": 53,
          "Hour": 15,
          "JulianDay": 26,
          "WeekDay": 0,
          "West": 36,
          "Year": 2012
         },
         {
          "Date2": "2012-10-29 16:00:00",
          "DateString": "10/29/2012 04:00:00 PM",
          "East": 85,
          "Hour": 16,
          "JulianDay": 26,
          "WeekDay": 0,
          "West": 92,
          "Year": 2012
         },
         {
          "Date2": "2012-10-29 17:00:00",
          "DateString": "10/29/2012 05:00:00 PM",
          "East": 247,
          "Hour": 17,
          "JulianDay": 26,
          "WeekDay": 0,
          "West": 129,
          "Year": 2012
         },
         {
          "Date2": "2012-10-29 18:00:00",
          "DateString": "10/29/2012 06:00:00 PM",
          "East": 164,
          "Hour": 18,
          "JulianDay": 26,
          "WeekDay": 0,
          "West": 82,
          "Year": 2012
         },
         {
          "Date2": "2012-10-29 19:00:00",
          "DateString": "10/29/2012 07:00:00 PM",
          "East": 58,
          "Hour": 19,
          "JulianDay": 26,
          "WeekDay": 0,
          "West": 35,
          "Year": 2012
         },
         {
          "Date2": "2012-10-29 20:00:00",
          "DateString": "10/29/2012 08:00:00 PM",
          "East": 36,
          "Hour": 20,
          "JulianDay": 26,
          "WeekDay": 0,
          "West": 19,
          "Year": 2012
         },
         {
          "Date2": "2012-10-29 21:00:00",
          "DateString": "10/29/2012 09:00:00 PM",
          "East": 27,
          "Hour": 21,
          "JulianDay": 26,
          "WeekDay": 0,
          "West": 13,
          "Year": 2012
         },
         {
          "Date2": "2012-10-29 22:00:00",
          "DateString": "10/29/2012 10:00:00 PM",
          "East": 9,
          "Hour": 22,
          "JulianDay": 26,
          "WeekDay": 0,
          "West": 6,
          "Year": 2012
         },
         {
          "Date2": "2012-10-29 23:00:00",
          "DateString": "10/29/2012 11:00:00 PM",
          "East": 9,
          "Hour": 23,
          "JulianDay": 26,
          "WeekDay": 0,
          "West": 8,
          "Year": 2012
         },
         {
          "Date2": "2012-10-30 00:00:00",
          "DateString": "10/30/2012 12:00:00 AM",
          "East": 7,
          "Hour": 0,
          "JulianDay": 27,
          "WeekDay": 1,
          "West": 8,
          "Year": 2012
         },
         {
          "Date2": "2012-10-30 01:00:00",
          "DateString": "10/30/2012 01:00:00 AM",
          "East": 0,
          "Hour": 1,
          "JulianDay": 27,
          "WeekDay": 1,
          "West": 1,
          "Year": 2012
         },
         {
          "Date2": "2012-10-30 02:00:00",
          "DateString": "10/30/2012 02:00:00 AM",
          "East": 1,
          "Hour": 2,
          "JulianDay": 27,
          "WeekDay": 1,
          "West": 4,
          "Year": 2012
         },
         {
          "Date2": "2012-10-30 03:00:00",
          "DateString": "10/30/2012 03:00:00 AM",
          "East": 2,
          "Hour": 3,
          "JulianDay": 27,
          "WeekDay": 1,
          "West": 1,
          "Year": 2012
         },
         {
          "Date2": "2012-10-30 04:00:00",
          "DateString": "10/30/2012 04:00:00 AM",
          "East": 3,
          "Hour": 4,
          "JulianDay": 27,
          "WeekDay": 1,
          "West": 3,
          "Year": 2012
         },
         {
          "Date2": "2012-10-30 05:00:00",
          "DateString": "10/30/2012 05:00:00 AM",
          "East": 6,
          "Hour": 5,
          "JulianDay": 27,
          "WeekDay": 1,
          "West": 18,
          "Year": 2012
         },
         {
          "Date2": "2012-10-30 06:00:00",
          "DateString": "10/30/2012 06:00:00 AM",
          "East": 23,
          "Hour": 6,
          "JulianDay": 27,
          "WeekDay": 1,
          "West": 59,
          "Year": 2012
         },
         {
          "Date2": "2012-10-30 07:00:00",
          "DateString": "10/30/2012 07:00:00 AM",
          "East": 49,
          "Hour": 7,
          "JulianDay": 27,
          "WeekDay": 1,
          "West": 151,
          "Year": 2012
         },
         {
          "Date2": "2012-10-30 08:00:00",
          "DateString": "10/30/2012 08:00:00 AM",
          "East": 75,
          "Hour": 8,
          "JulianDay": 27,
          "WeekDay": 1,
          "West": 185,
          "Year": 2012
         },
         {
          "Date2": "2012-10-30 09:00:00",
          "DateString": "10/30/2012 09:00:00 AM",
          "East": 53,
          "Hour": 9,
          "JulianDay": 27,
          "WeekDay": 1,
          "West": 88,
          "Year": 2012
         },
         {
          "Date2": "2012-10-30 10:00:00",
          "DateString": "10/30/2012 10:00:00 AM",
          "East": 23,
          "Hour": 10,
          "JulianDay": 27,
          "WeekDay": 1,
          "West": 33,
          "Year": 2012
         },
         {
          "Date2": "2012-10-30 11:00:00",
          "DateString": "10/30/2012 11:00:00 AM",
          "East": 13,
          "Hour": 11,
          "JulianDay": 27,
          "WeekDay": 1,
          "West": 22,
          "Year": 2012
         },
         {
          "Date2": "2012-10-30 12:00:00",
          "DateString": "10/30/2012 12:00:00 PM",
          "East": 13,
          "Hour": 12,
          "JulianDay": 27,
          "WeekDay": 1,
          "West": 17,
          "Year": 2012
         },
         {
          "Date2": "2012-10-30 13:00:00",
          "DateString": "10/30/2012 01:00:00 PM",
          "East": 14,
          "Hour": 13,
          "JulianDay": 27,
          "WeekDay": 1,
          "West": 27,
          "Year": 2012
         },
         {
          "Date2": "2012-10-30 14:00:00",
          "DateString": "10/30/2012 02:00:00 PM",
          "East": 24,
          "Hour": 14,
          "JulianDay": 27,
          "WeekDay": 1,
          "West": 19,
          "Year": 2012
         },
         {
          "Date2": "2012-10-30 15:00:00",
          "DateString": "10/30/2012 03:00:00 PM",
          "East": 31,
          "Hour": 15,
          "JulianDay": 27,
          "WeekDay": 1,
          "West": 33,
          "Year": 2012
         },
         {
          "Date2": "2012-10-30 16:00:00",
          "DateString": "10/30/2012 04:00:00 PM",
          "East": 70,
          "Hour": 16,
          "JulianDay": 27,
          "WeekDay": 1,
          "West": 43,
          "Year": 2012
         },
         {
          "Date2": "2012-10-30 17:00:00",
          "DateString": "10/30/2012 05:00:00 PM",
          "East": 199,
          "Hour": 17,
          "JulianDay": 27,
          "WeekDay": 1,
          "West": 83,
          "Year": 2012
         },
         {
          "Date2": "2012-10-30 18:00:00",
          "DateString": "10/30/2012 06:00:00 PM",
          "East": 132,
          "Hour": 18,
          "JulianDay": 27,
          "WeekDay": 1,
          "West": 57,
          "Year": 2012
         },
         {
          "Date2": "2012-10-30 19:00:00",
          "DateString": "10/30/2012 07:00:00 PM",
          "East": 44,
          "Hour": 19,
          "JulianDay": 27,
          "WeekDay": 1,
          "West": 21,
          "Year": 2012
         },
         {
          "Date2": "2012-10-30 20:00:00",
          "DateString": "10/30/2012 08:00:00 PM",
          "East": 20,
          "Hour": 20,
          "JulianDay": 27,
          "WeekDay": 1,
          "West": 15,
          "Year": 2012
         },
         {
          "Date2": "2012-10-30 21:00:00",
          "DateString": "10/30/2012 09:00:00 PM",
          "East": 8,
          "Hour": 21,
          "JulianDay": 27,
          "WeekDay": 1,
          "West": 8,
          "Year": 2012
         },
         {
          "Date2": "2012-10-30 22:00:00",
          "DateString": "10/30/2012 10:00:00 PM",
          "East": 8,
          "Hour": 22,
          "JulianDay": 27,
          "WeekDay": 1,
          "West": 8,
          "Year": 2012
         },
         {
          "Date2": "2012-10-30 23:00:00",
          "DateString": "10/30/2012 11:00:00 PM",
          "East": 5,
          "Hour": 23,
          "JulianDay": 27,
          "WeekDay": 1,
          "West": 8,
          "Year": 2012
         },
         {
          "Date2": "2012-10-31 00:00:00",
          "DateString": "10/31/2012 12:00:00 AM",
          "East": 2,
          "Hour": 0,
          "JulianDay": 28,
          "WeekDay": 2,
          "West": 2,
          "Year": 2012
         },
         {
          "Date2": "2012-10-31 01:00:00",
          "DateString": "10/31/2012 01:00:00 AM",
          "East": 1,
          "Hour": 1,
          "JulianDay": 28,
          "WeekDay": 2,
          "West": 4,
          "Year": 2012
         },
         {
          "Date2": "2012-10-31 02:00:00",
          "DateString": "10/31/2012 02:00:00 AM",
          "East": 0,
          "Hour": 2,
          "JulianDay": 28,
          "WeekDay": 2,
          "West": 2,
          "Year": 2012
         },
         {
          "Date2": "2012-10-31 03:00:00",
          "DateString": "10/31/2012 03:00:00 AM",
          "East": 1,
          "Hour": 3,
          "JulianDay": 28,
          "WeekDay": 2,
          "West": 0,
          "Year": 2012
         },
         {
          "Date2": "2012-10-31 04:00:00",
          "DateString": "10/31/2012 04:00:00 AM",
          "East": 4,
          "Hour": 4,
          "JulianDay": 28,
          "WeekDay": 2,
          "West": 7,
          "Year": 2012
         },
         {
          "Date2": "2012-10-31 05:00:00",
          "DateString": "10/31/2012 05:00:00 AM",
          "East": 4,
          "Hour": 5,
          "JulianDay": 28,
          "WeekDay": 2,
          "West": 7,
          "Year": 2012
         },
         {
          "Date2": "2012-10-31 06:00:00",
          "DateString": "10/31/2012 06:00:00 AM",
          "East": 22,
          "Hour": 6,
          "JulianDay": 28,
          "WeekDay": 2,
          "West": 47,
          "Year": 2012
         },
         {
          "Date2": "2012-10-31 07:00:00",
          "DateString": "10/31/2012 07:00:00 AM",
          "East": 37,
          "Hour": 7,
          "JulianDay": 28,
          "WeekDay": 2,
          "West": 133,
          "Year": 2012
         },
         {
          "Date2": "2012-10-31 08:00:00",
          "DateString": "10/31/2012 08:00:00 AM",
          "East": 76,
          "Hour": 8,
          "JulianDay": 28,
          "WeekDay": 2,
          "West": 169,
          "Year": 2012
         },
         {
          "Date2": "2012-10-31 09:00:00",
          "DateString": "10/31/2012 09:00:00 AM",
          "East": 37,
          "Hour": 9,
          "JulianDay": 28,
          "WeekDay": 2,
          "West": 88,
          "Year": 2012
         },
         {
          "Date2": "2012-10-31 10:00:00",
          "DateString": "10/31/2012 10:00:00 AM",
          "East": 16,
          "Hour": 10,
          "JulianDay": 28,
          "WeekDay": 2,
          "West": 26,
          "Year": 2012
         },
         {
          "Date2": "2012-10-31 11:00:00",
          "DateString": "10/31/2012 11:00:00 AM",
          "East": 17,
          "Hour": 11,
          "JulianDay": 28,
          "WeekDay": 2,
          "West": 36,
          "Year": 2012
         },
         {
          "Date2": "2012-10-31 12:00:00",
          "DateString": "10/31/2012 12:00:00 PM",
          "East": 27,
          "Hour": 12,
          "JulianDay": 28,
          "WeekDay": 2,
          "West": 28,
          "Year": 2012
         },
         {
          "Date2": "2012-10-31 13:00:00",
          "DateString": "10/31/2012 01:00:00 PM",
          "East": 21,
          "Hour": 13,
          "JulianDay": 28,
          "WeekDay": 2,
          "West": 14,
          "Year": 2012
         },
         {
          "Date2": "2012-10-31 14:00:00",
          "DateString": "10/31/2012 02:00:00 PM",
          "East": 21,
          "Hour": 14,
          "JulianDay": 28,
          "WeekDay": 2,
          "West": 28,
          "Year": 2012
         },
         {
          "Date2": "2012-10-31 15:00:00",
          "DateString": "10/31/2012 03:00:00 PM",
          "East": 48,
          "Hour": 15,
          "JulianDay": 28,
          "WeekDay": 2,
          "West": 32,
          "Year": 2012
         },
         {
          "Date2": "2012-10-31 16:00:00",
          "DateString": "10/31/2012 04:00:00 PM",
          "East": 94,
          "Hour": 16,
          "JulianDay": 28,
          "WeekDay": 2,
          "West": 57,
          "Year": 2012
         },
         {
          "Date2": "2012-10-31 17:00:00",
          "DateString": "10/31/2012 05:00:00 PM",
          "East": 189,
          "Hour": 17,
          "JulianDay": 28,
          "WeekDay": 2,
          "West": 91,
          "Year": 2012
         },
         {
          "Date2": "2012-10-31 18:00:00",
          "DateString": "10/31/2012 06:00:00 PM",
          "East": 100,
          "Hour": 18,
          "JulianDay": 28,
          "WeekDay": 2,
          "West": 43,
          "Year": 2012
         },
         {
          "Date2": "2012-10-31 19:00:00",
          "DateString": "10/31/2012 07:00:00 PM",
          "East": 54,
          "Hour": 19,
          "JulianDay": 28,
          "WeekDay": 2,
          "West": 34,
          "Year": 2012
         },
         {
          "Date2": "2012-10-31 20:00:00",
          "DateString": "10/31/2012 08:00:00 PM",
          "East": 31,
          "Hour": 20,
          "JulianDay": 28,
          "WeekDay": 2,
          "West": 14,
          "Year": 2012
         },
         {
          "Date2": "2012-10-31 21:00:00",
          "DateString": "10/31/2012 09:00:00 PM",
          "East": 6,
          "Hour": 21,
          "JulianDay": 28,
          "WeekDay": 2,
          "West": 8,
          "Year": 2012
         },
         {
          "Date2": "2012-10-31 22:00:00",
          "DateString": "10/31/2012 10:00:00 PM",
          "East": 6,
          "Hour": 22,
          "JulianDay": 28,
          "WeekDay": 2,
          "West": 8,
          "Year": 2012
         },
         {
          "Date2": "2012-10-31 23:00:00",
          "DateString": "10/31/2012 11:00:00 PM",
          "East": 13,
          "Hour": 23,
          "JulianDay": 28,
          "WeekDay": 2,
          "West": 5,
          "Year": 2012
         },
         {
          "Date2": "2012-11-01 00:00:00",
          "DateString": "11/01/2012 12:00:00 AM",
          "East": 3,
          "Hour": 0,
          "JulianDay": 29,
          "WeekDay": 3,
          "West": 4,
          "Year": 2012
         },
         {
          "Date2": "2012-11-01 01:00:00",
          "DateString": "11/01/2012 01:00:00 AM",
          "East": 3,
          "Hour": 1,
          "JulianDay": 29,
          "WeekDay": 3,
          "West": 2,
          "Year": 2012
         },
         {
          "Date2": "2012-11-01 02:00:00",
          "DateString": "11/01/2012 02:00:00 AM",
          "East": 1,
          "Hour": 2,
          "JulianDay": 29,
          "WeekDay": 3,
          "West": 1,
          "Year": 2012
         },
         {
          "Date2": "2012-11-01 03:00:00",
          "DateString": "11/01/2012 03:00:00 AM",
          "East": 0,
          "Hour": 3,
          "JulianDay": 29,
          "WeekDay": 3,
          "West": 0,
          "Year": 2012
         },
         {
          "Date2": "2012-11-01 04:00:00",
          "DateString": "11/01/2012 04:00:00 AM",
          "East": 4,
          "Hour": 4,
          "JulianDay": 29,
          "WeekDay": 3,
          "West": 2,
          "Year": 2012
         },
         {
          "Date2": "2012-11-01 05:00:00",
          "DateString": "11/01/2012 05:00:00 AM",
          "East": 7,
          "Hour": 5,
          "JulianDay": 29,
          "WeekDay": 3,
          "West": 11,
          "Year": 2012
         },
         {
          "Date2": "2012-11-01 06:00:00",
          "DateString": "11/01/2012 06:00:00 AM",
          "East": 26,
          "Hour": 6,
          "JulianDay": 29,
          "WeekDay": 3,
          "West": 63,
          "Year": 2012
         },
         {
          "Date2": "2012-11-01 07:00:00",
          "DateString": "11/01/2012 07:00:00 AM",
          "East": 52,
          "Hour": 7,
          "JulianDay": 29,
          "WeekDay": 3,
          "West": 146,
          "Year": 2012
         },
         {
          "Date2": "2012-11-01 08:00:00",
          "DateString": "11/01/2012 08:00:00 AM",
          "East": 81,
          "Hour": 8,
          "JulianDay": 29,
          "WeekDay": 3,
          "West": 179,
          "Year": 2012
         },
         {
          "Date2": "2012-11-01 09:00:00",
          "DateString": "11/01/2012 09:00:00 AM",
          "East": 55,
          "Hour": 9,
          "JulianDay": 29,
          "WeekDay": 3,
          "West": 75,
          "Year": 2012
         },
         {
          "Date2": "2012-11-01 10:00:00",
          "DateString": "11/01/2012 10:00:00 AM",
          "East": 17,
          "Hour": 10,
          "JulianDay": 29,
          "WeekDay": 3,
          "West": 39,
          "Year": 2012
         },
         {
          "Date2": "2012-11-01 11:00:00",
          "DateString": "11/01/2012 11:00:00 AM",
          "East": 17,
          "Hour": 11,
          "JulianDay": 29,
          "WeekDay": 3,
          "West": 23,
          "Year": 2012
         },
         {
          "Date2": "2012-11-01 12:00:00",
          "DateString": "11/01/2012 12:00:00 PM",
          "East": 31,
          "Hour": 12,
          "JulianDay": 29,
          "WeekDay": 3,
          "West": 27,
          "Year": 2012
         },
         {
          "Date2": "2012-11-01 13:00:00",
          "DateString": "11/01/2012 01:00:00 PM",
          "East": 27,
          "Hour": 13,
          "JulianDay": 29,
          "WeekDay": 3,
          "West": 41,
          "Year": 2012
         },
         {
          "Date2": "2012-11-01 14:00:00",
          "DateString": "11/01/2012 02:00:00 PM",
          "East": 29,
          "Hour": 14,
          "JulianDay": 29,
          "WeekDay": 3,
          "West": 42,
          "Year": 2012
         },
         {
          "Date2": "2012-11-01 15:00:00",
          "DateString": "11/01/2012 03:00:00 PM",
          "East": 60,
          "Hour": 15,
          "JulianDay": 29,
          "WeekDay": 3,
          "West": 40,
          "Year": 2012
         },
         {
          "Date2": "2012-11-01 16:00:00",
          "DateString": "11/01/2012 04:00:00 PM",
          "East": 93,
          "Hour": 16,
          "JulianDay": 29,
          "WeekDay": 3,
          "West": 94,
          "Year": 2012
         },
         {
          "Date2": "2012-11-01 17:00:00",
          "DateString": "11/01/2012 05:00:00 PM",
          "East": 223,
          "Hour": 17,
          "JulianDay": 29,
          "WeekDay": 3,
          "West": 93,
          "Year": 2012
         },
         {
          "Date2": "2012-11-01 18:00:00",
          "DateString": "11/01/2012 06:00:00 PM",
          "East": 162,
          "Hour": 18,
          "JulianDay": 29,
          "WeekDay": 3,
          "West": 71,
          "Year": 2012
         },
         {
          "Date2": "2012-11-01 19:00:00",
          "DateString": "11/01/2012 07:00:00 PM",
          "East": 68,
          "Hour": 19,
          "JulianDay": 29,
          "WeekDay": 3,
          "West": 38,
          "Year": 2012
         },
         {
          "Date2": "2012-11-01 20:00:00",
          "DateString": "11/01/2012 08:00:00 PM",
          "East": 35,
          "Hour": 20,
          "JulianDay": 29,
          "WeekDay": 3,
          "West": 24,
          "Year": 2012
         },
         {
          "Date2": "2012-11-01 21:00:00",
          "DateString": "11/01/2012 09:00:00 PM",
          "East": 18,
          "Hour": 21,
          "JulianDay": 29,
          "WeekDay": 3,
          "West": 22,
          "Year": 2012
         },
         {
          "Date2": "2012-11-01 22:00:00",
          "DateString": "11/01/2012 10:00:00 PM",
          "East": 8,
          "Hour": 22,
          "JulianDay": 29,
          "WeekDay": 3,
          "West": 13,
          "Year": 2012
         },
         {
          "Date2": "2012-11-01 23:00:00",
          "DateString": "11/01/2012 11:00:00 PM",
          "East": 10,
          "Hour": 23,
          "JulianDay": 29,
          "WeekDay": 3,
          "West": 11,
          "Year": 2012
         },
         {
          "Date2": "2012-11-02 00:00:00",
          "DateString": "11/02/2012 12:00:00 AM",
          "East": 2,
          "Hour": 0,
          "JulianDay": 30,
          "WeekDay": 4,
          "West": 4,
          "Year": 2012
         },
         {
          "Date2": "2012-11-02 01:00:00",
          "DateString": "11/02/2012 01:00:00 AM",
          "East": 4,
          "Hour": 1,
          "JulianDay": 30,
          "WeekDay": 4,
          "West": 3,
          "Year": 2012
         },
         {
          "Date2": "2012-11-02 02:00:00",
          "DateString": "11/02/2012 02:00:00 AM",
          "East": 0,
          "Hour": 2,
          "JulianDay": 30,
          "WeekDay": 4,
          "West": 2,
          "Year": 2012
         },
         {
          "Date2": "2012-11-02 03:00:00",
          "DateString": "11/02/2012 03:00:00 AM",
          "East": 1,
          "Hour": 3,
          "JulianDay": 30,
          "WeekDay": 4,
          "West": 3,
          "Year": 2012
         },
         {
          "Date2": "2012-11-02 04:00:00",
          "DateString": "11/02/2012 04:00:00 AM",
          "East": 5,
          "Hour": 4,
          "JulianDay": 30,
          "WeekDay": 4,
          "West": 5,
          "Year": 2012
         },
         {
          "Date2": "2012-11-02 05:00:00",
          "DateString": "11/02/2012 05:00:00 AM",
          "East": 6,
          "Hour": 5,
          "JulianDay": 30,
          "WeekDay": 4,
          "West": 11,
          "Year": 2012
         },
         {
          "Date2": "2012-11-02 06:00:00",
          "DateString": "11/02/2012 06:00:00 AM",
          "East": 38,
          "Hour": 6,
          "JulianDay": 30,
          "WeekDay": 4,
          "West": 76,
          "Year": 2012
         },
         {
          "Date2": "2012-11-02 07:00:00",
          "DateString": "11/02/2012 07:00:00 AM",
          "East": 68,
          "Hour": 7,
          "JulianDay": 30,
          "WeekDay": 4,
          "West": 162,
          "Year": 2012
         },
         {
          "Date2": "2012-11-02 08:00:00",
          "DateString": "11/02/2012 08:00:00 AM",
          "East": 91,
          "Hour": 8,
          "JulianDay": 30,
          "WeekDay": 4,
          "West": 245,
          "Year": 2012
         },
         {
          "Date2": "2012-11-02 09:00:00",
          "DateString": "11/02/2012 09:00:00 AM",
          "East": 65,
          "Hour": 9,
          "JulianDay": 30,
          "WeekDay": 4,
          "West": 133,
          "Year": 2012
         },
         {
          "Date2": "2012-11-02 10:00:00",
          "DateString": "11/02/2012 10:00:00 AM",
          "East": 39,
          "Hour": 10,
          "JulianDay": 30,
          "WeekDay": 4,
          "West": 41,
          "Year": 2012
         },
         {
          "Date2": "2012-11-02 11:00:00",
          "DateString": "11/02/2012 11:00:00 AM",
          "East": 34,
          "Hour": 11,
          "JulianDay": 30,
          "WeekDay": 4,
          "West": 41,
          "Year": 2012
         },
         {
          "Date2": "2012-11-02 12:00:00",
          "DateString": "11/02/2012 12:00:00 PM",
          "East": 31,
          "Hour": 12,
          "JulianDay": 30,
          "WeekDay": 4,
          "West": 49,
          "Year": 2012
         },
         {
          "Date2": "2012-11-02 13:00:00",
          "DateString": "11/02/2012 01:00:00 PM",
          "East": 48,
          "Hour": 13,
          "JulianDay": 30,
          "WeekDay": 4,
          "West": 59,
          "Year": 2012
         },
         {
          "Date2": "2012-11-02 14:00:00",
          "DateString": "11/02/2012 02:00:00 PM",
          "East": 29,
          "Hour": 14,
          "JulianDay": 30,
          "WeekDay": 4,
          "West": 62,
          "Year": 2012
         },
         {
          "Date2": "2012-11-02 15:00:00",
          "DateString": "11/02/2012 03:00:00 PM",
          "East": 67,
          "Hour": 15,
          "JulianDay": 30,
          "WeekDay": 4,
          "West": 92,
          "Year": 2012
         },
         {
          "Date2": "2012-11-02 16:00:00",
          "DateString": "11/02/2012 04:00:00 PM",
          "East": 121,
          "Hour": 16,
          "JulianDay": 30,
          "WeekDay": 4,
          "West": 114,
          "Year": 2012
         },
         {
          "Date2": "2012-11-02 17:00:00",
          "DateString": "11/02/2012 05:00:00 PM",
          "East": 254,
          "Hour": 17,
          "JulianDay": 30,
          "WeekDay": 4,
          "West": 94,
          "Year": 2012
         },
         {
          "Date2": "2012-11-02 18:00:00",
          "DateString": "11/02/2012 06:00:00 PM",
          "East": 122,
          "Hour": 18,
          "JulianDay": 30,
          "WeekDay": 4,
          "West": 73,
          "Year": 2012
         },
         {
          "Date2": "2012-11-02 19:00:00",
          "DateString": "11/02/2012 07:00:00 PM",
          "East": 50,
          "Hour": 19,
          "JulianDay": 30,
          "WeekDay": 4,
          "West": 23,
          "Year": 2012
         },
         {
          "Date2": "2012-11-02 20:00:00",
          "DateString": "11/02/2012 08:00:00 PM",
          "East": 24,
          "Hour": 20,
          "JulianDay": 30,
          "WeekDay": 4,
          "West": 17,
          "Year": 2012
         },
         {
          "Date2": "2012-11-02 21:00:00",
          "DateString": "11/02/2012 09:00:00 PM",
          "East": 13,
          "Hour": 21,
          "JulianDay": 30,
          "WeekDay": 4,
          "West": 20,
          "Year": 2012
         },
         {
          "Date2": "2012-11-02 22:00:00",
          "DateString": "11/02/2012 10:00:00 PM",
          "East": 13,
          "Hour": 22,
          "JulianDay": 30,
          "WeekDay": 4,
          "West": 10,
          "Year": 2012
         },
         {
          "Date2": "2012-11-02 23:00:00",
          "DateString": "11/02/2012 11:00:00 PM",
          "East": 8,
          "Hour": 23,
          "JulianDay": 30,
          "WeekDay": 4,
          "West": 6,
          "Year": 2012
         },
         {
          "Date2": "2012-11-03 00:00:00",
          "DateString": "11/03/2012 12:00:00 AM",
          "East": 5,
          "Hour": 0,
          "JulianDay": 31,
          "WeekDay": 5,
          "West": 7,
          "Year": 2012
         },
         {
          "Date2": "2012-11-03 01:00:00",
          "DateString": "11/03/2012 01:00:00 AM",
          "East": 4,
          "Hour": 1,
          "JulianDay": 31,
          "WeekDay": 5,
          "West": 2,
          "Year": 2012
         },
         {
          "Date2": "2012-11-03 02:00:00",
          "DateString": "11/03/2012 02:00:00 AM",
          "East": 2,
          "Hour": 2,
          "JulianDay": 31,
          "WeekDay": 5,
          "West": 3,
          "Year": 2012
         },
         {
          "Date2": "2012-11-03 03:00:00",
          "DateString": "11/03/2012 03:00:00 AM",
          "East": 0,
          "Hour": 3,
          "JulianDay": 31,
          "WeekDay": 5,
          "West": 2,
          "Year": 2012
         },
         {
          "Date2": "2012-11-03 04:00:00",
          "DateString": "11/03/2012 04:00:00 AM",
          "East": 2,
          "Hour": 4,
          "JulianDay": 31,
          "WeekDay": 5,
          "West": 2,
          "Year": 2012
         },
         {
          "Date2": "2012-11-03 05:00:00",
          "DateString": "11/03/2012 05:00:00 AM",
          "East": 6,
          "Hour": 5,
          "JulianDay": 31,
          "WeekDay": 5,
          "West": 6,
          "Year": 2012
         },
         {
          "Date2": "2012-11-03 06:00:00",
          "DateString": "11/03/2012 06:00:00 AM",
          "East": 3,
          "Hour": 6,
          "JulianDay": 31,
          "WeekDay": 5,
          "West": 10,
          "Year": 2012
         },
         {
          "Date2": "2012-11-03 07:00:00",
          "DateString": "11/03/2012 07:00:00 AM",
          "East": 6,
          "Hour": 7,
          "JulianDay": 31,
          "WeekDay": 5,
          "West": 7,
          "Year": 2012
         },
         {
          "Date2": "2012-11-03 08:00:00",
          "DateString": "11/03/2012 08:00:00 AM",
          "East": 14,
          "Hour": 8,
          "JulianDay": 31,
          "WeekDay": 5,
          "West": 19,
          "Year": 2012
         },
         {
          "Date2": "2012-11-03 09:00:00",
          "DateString": "11/03/2012 09:00:00 AM",
          "East": 36,
          "Hour": 9,
          "JulianDay": 31,
          "WeekDay": 5,
          "West": 33,
          "Year": 2012
         },
         {
          "Date2": "2012-11-03 10:00:00",
          "DateString": "11/03/2012 10:00:00 AM",
          "East": 26,
          "Hour": 10,
          "JulianDay": 31,
          "WeekDay": 5,
          "West": 36,
          "Year": 2012
         },
         {
          "Date2": "2012-11-03 11:00:00",
          "DateString": "11/03/2012 11:00:00 AM",
          "East": 39,
          "Hour": 11,
          "JulianDay": 31,
          "WeekDay": 5,
          "West": 49,
          "Year": 2012
         },
         {
          "Date2": "2012-11-03 12:00:00",
          "DateString": "11/03/2012 12:00:00 PM",
          "East": 24,
          "Hour": 12,
          "JulianDay": 31,
          "WeekDay": 5,
          "West": 55,
          "Year": 2012
         },
         {
          "Date2": "2012-11-03 13:00:00",
          "DateString": "11/03/2012 01:00:00 PM",
          "East": 35,
          "Hour": 13,
          "JulianDay": 31,
          "WeekDay": 5,
          "West": 47,
          "Year": 2012
         },
         {
          "Date2": "2012-11-03 14:00:00",
          "DateString": "11/03/2012 02:00:00 PM",
          "East": 54,
          "Hour": 14,
          "JulianDay": 31,
          "WeekDay": 5,
          "West": 55,
          "Year": 2012
         },
         {
          "Date2": "2012-11-03 15:00:00",
          "DateString": "11/03/2012 03:00:00 PM",
          "East": 36,
          "Hour": 15,
          "JulianDay": 31,
          "WeekDay": 5,
          "West": 35,
          "Year": 2012
         },
         {
          "Date2": "2012-11-03 16:00:00",
          "DateString": "11/03/2012 04:00:00 PM",
          "East": 32,
          "Hour": 16,
          "JulianDay": 31,
          "WeekDay": 5,
          "West": 41,
          "Year": 2012
         },
         {
          "Date2": "2012-11-03 17:00:00",
          "DateString": "11/03/2012 05:00:00 PM",
          "East": 34,
          "Hour": 17,
          "JulianDay": 31,
          "WeekDay": 5,
          "West": 31,
          "Year": 2012
         },
         {
          "Date2": "2012-11-03 18:00:00",
          "DateString": "11/03/2012 06:00:00 PM",
          "East": 25,
          "Hour": 18,
          "JulianDay": 31,
          "WeekDay": 5,
          "West": 27,
          "Year": 2012
         },
         {
          "Date2": "2012-11-03 19:00:00",
          "DateString": "11/03/2012 07:00:00 PM",
          "East": 16,
          "Hour": 19,
          "JulianDay": 31,
          "WeekDay": 5,
          "West": 19,
          "Year": 2012
         },
         {
          "Date2": "2012-11-03 20:00:00",
          "DateString": "11/03/2012 08:00:00 PM",
          "East": 15,
          "Hour": 20,
          "JulianDay": 31,
          "WeekDay": 5,
          "West": 9,
          "Year": 2012
         },
         {
          "Date2": "2012-11-03 21:00:00",
          "DateString": "11/03/2012 09:00:00 PM",
          "East": 5,
          "Hour": 21,
          "JulianDay": 31,
          "WeekDay": 5,
          "West": 4,
          "Year": 2012
         },
         {
          "Date2": "2012-11-03 22:00:00",
          "DateString": "11/03/2012 10:00:00 PM",
          "East": 6,
          "Hour": 22,
          "JulianDay": 31,
          "WeekDay": 5,
          "West": 7,
          "Year": 2012
         },
         {
          "Date2": "2012-11-03 23:00:00",
          "DateString": "11/03/2012 11:00:00 PM",
          "East": 14,
          "Hour": 23,
          "JulianDay": 31,
          "WeekDay": 5,
          "West": 7,
          "Year": 2012
         },
         {
          "Date2": "2012-11-04 00:00:00",
          "DateString": "11/04/2012 12:00:00 AM",
          "East": 11,
          "Hour": 0,
          "JulianDay": 32,
          "WeekDay": 6,
          "West": 7,
          "Year": 2012
         },
         {
          "Date2": "2012-11-04 01:00:00",
          "DateString": "11/04/2012 01:00:00 AM",
          "East": 4,
          "Hour": 1,
          "JulianDay": 32,
          "WeekDay": 6,
          "West": 6,
          "Year": 2012
         },
         {
          "Date2": "2012-11-04 02:00:00",
          "DateString": "11/04/2012 02:00:00 AM",
          "East": 5,
          "Hour": 2,
          "JulianDay": 32,
          "WeekDay": 6,
          "West": 5,
          "Year": 2012
         },
         {
          "Date2": "2012-11-04 03:00:00",
          "DateString": "11/04/2012 03:00:00 AM",
          "East": 2,
          "Hour": 3,
          "JulianDay": 32,
          "WeekDay": 6,
          "West": 1,
          "Year": 2012
         },
         {
          "Date2": "2012-11-04 04:00:00",
          "DateString": "11/04/2012 04:00:00 AM",
          "East": 2,
          "Hour": 4,
          "JulianDay": 32,
          "WeekDay": 6,
          "West": 1,
          "Year": 2012
         },
         {
          "Date2": "2012-11-04 05:00:00",
          "DateString": "11/04/2012 05:00:00 AM",
          "East": 2,
          "Hour": 5,
          "JulianDay": 32,
          "WeekDay": 6,
          "West": 5,
          "Year": 2012
         },
         {
          "Date2": "2012-11-04 06:00:00",
          "DateString": "11/04/2012 06:00:00 AM",
          "East": 3,
          "Hour": 6,
          "JulianDay": 32,
          "WeekDay": 6,
          "West": 9,
          "Year": 2012
         },
         {
          "Date2": "2012-11-04 07:00:00",
          "DateString": "11/04/2012 07:00:00 AM",
          "East": 12,
          "Hour": 7,
          "JulianDay": 32,
          "WeekDay": 6,
          "West": 17,
          "Year": 2012
         },
         {
          "Date2": "2012-11-04 08:00:00",
          "DateString": "11/04/2012 08:00:00 AM",
          "East": 24,
          "Hour": 8,
          "JulianDay": 32,
          "WeekDay": 6,
          "West": 27,
          "Year": 2012
         },
         {
          "Date2": "2012-11-04 09:00:00",
          "DateString": "11/04/2012 09:00:00 AM",
          "East": 34,
          "Hour": 9,
          "JulianDay": 32,
          "WeekDay": 6,
          "West": 34,
          "Year": 2012
         },
         {
          "Date2": "2012-11-04 10:00:00",
          "DateString": "11/04/2012 10:00:00 AM",
          "East": 28,
          "Hour": 10,
          "JulianDay": 32,
          "WeekDay": 6,
          "West": 47,
          "Year": 2012
         },
         {
          "Date2": "2012-11-04 11:00:00",
          "DateString": "11/04/2012 11:00:00 AM",
          "East": 34,
          "Hour": 11,
          "JulianDay": 32,
          "WeekDay": 6,
          "West": 56,
          "Year": 2012
         },
         {
          "Date2": "2012-11-04 12:00:00",
          "DateString": "11/04/2012 12:00:00 PM",
          "East": 44,
          "Hour": 12,
          "JulianDay": 32,
          "WeekDay": 6,
          "West": 68,
          "Year": 2012
         },
         {
          "Date2": "2012-11-04 13:00:00",
          "DateString": "11/04/2012 01:00:00 PM",
          "East": 41,
          "Hour": 13,
          "JulianDay": 32,
          "WeekDay": 6,
          "West": 57,
          "Year": 2012
         },
         {
          "Date2": "2012-11-04 14:00:00",
          "DateString": "11/04/2012 02:00:00 PM",
          "East": 29,
          "Hour": 14,
          "JulianDay": 32,
          "WeekDay": 6,
          "West": 44,
          "Year": 2012
         },
         {
          "Date2": "2012-11-04 15:00:00",
          "DateString": "11/04/2012 03:00:00 PM",
          "East": 45,
          "Hour": 15,
          "JulianDay": 32,
          "WeekDay": 6,
          "West": 45,
          "Year": 2012
         },
         {
          "Date2": "2012-11-04 16:00:00",
          "DateString": "11/04/2012 04:00:00 PM",
          "East": 51,
          "Hour": 16,
          "JulianDay": 32,
          "WeekDay": 6,
          "West": 46,
          "Year": 2012
         },
         {
          "Date2": "2012-11-04 17:00:00",
          "DateString": "11/04/2012 05:00:00 PM",
          "East": 36,
          "Hour": 17,
          "JulianDay": 32,
          "WeekDay": 6,
          "West": 19,
          "Year": 2012
         },
         {
          "Date2": "2012-11-04 18:00:00",
          "DateString": "11/04/2012 06:00:00 PM",
          "East": 15,
          "Hour": 18,
          "JulianDay": 32,
          "WeekDay": 6,
          "West": 27,
          "Year": 2012
         },
         {
          "Date2": "2012-11-04 19:00:00",
          "DateString": "11/04/2012 07:00:00 PM",
          "East": 8,
          "Hour": 19,
          "JulianDay": 32,
          "WeekDay": 6,
          "West": 4,
          "Year": 2012
         },
         {
          "Date2": "2012-11-04 20:00:00",
          "DateString": "11/04/2012 08:00:00 PM",
          "East": 11,
          "Hour": 20,
          "JulianDay": 32,
          "WeekDay": 6,
          "West": 10,
          "Year": 2012
         },
         {
          "Date2": "2012-11-04 21:00:00",
          "DateString": "11/04/2012 09:00:00 PM",
          "East": 8,
          "Hour": 21,
          "JulianDay": 32,
          "WeekDay": 6,
          "West": 5,
          "Year": 2012
         },
         {
          "Date2": "2012-11-04 22:00:00",
          "DateString": "11/04/2012 10:00:00 PM",
          "East": 7,
          "Hour": 22,
          "JulianDay": 32,
          "WeekDay": 6,
          "West": 6,
          "Year": 2012
         },
         {
          "Date2": "2012-11-04 23:00:00",
          "DateString": "11/04/2012 11:00:00 PM",
          "East": 7,
          "Hour": 23,
          "JulianDay": 32,
          "WeekDay": 6,
          "West": 2,
          "Year": 2012
         },
         {
          "Date2": "2012-11-05 00:00:00",
          "DateString": "11/05/2012 12:00:00 AM",
          "East": 2,
          "Hour": 0,
          "JulianDay": 33,
          "WeekDay": 0,
          "West": 5,
          "Year": 2012
         },
         {
          "Date2": "2012-11-05 01:00:00",
          "DateString": "11/05/2012 01:00:00 AM",
          "East": 1,
          "Hour": 1,
          "JulianDay": 33,
          "WeekDay": 0,
          "West": 2,
          "Year": 2012
         },
         {
          "Date2": "2012-11-05 02:00:00",
          "DateString": "11/05/2012 02:00:00 AM",
          "East": 1,
          "Hour": 2,
          "JulianDay": 33,
          "WeekDay": 0,
          "West": 1,
          "Year": 2012
         },
         {
          "Date2": "2012-11-05 03:00:00",
          "DateString": "11/05/2012 03:00:00 AM",
          "East": 2,
          "Hour": 3,
          "JulianDay": 33,
          "WeekDay": 0,
          "West": 1,
          "Year": 2012
         },
         {
          "Date2": "2012-11-05 04:00:00",
          "DateString": "11/05/2012 04:00:00 AM",
          "East": 3,
          "Hour": 4,
          "JulianDay": 33,
          "WeekDay": 0,
          "West": 2,
          "Year": 2012
         },
         {
          "Date2": "2012-11-05 05:00:00",
          "DateString": "11/05/2012 05:00:00 AM",
          "East": 7,
          "Hour": 5,
          "JulianDay": 33,
          "WeekDay": 0,
          "West": 18,
          "Year": 2012
         },
         {
          "Date2": "2012-11-05 06:00:00",
          "DateString": "11/05/2012 06:00:00 AM",
          "East": 45,
          "Hour": 6,
          "JulianDay": 33,
          "WeekDay": 0,
          "West": 81,
          "Year": 2012
         },
         {
          "Date2": "2012-11-05 07:00:00",
          "DateString": "11/05/2012 07:00:00 AM",
          "East": 74,
          "Hour": 7,
          "JulianDay": 33,
          "WeekDay": 0,
          "West": 238,
          "Year": 2012
         },
         {
          "Date2": "2012-11-05 08:00:00",
          "DateString": "11/05/2012 08:00:00 AM",
          "East": 121,
          "Hour": 8,
          "JulianDay": 33,
          "WeekDay": 0,
          "West": 252,
          "Year": 2012
         },
         {
          "Date2": "2012-11-05 09:00:00",
          "DateString": "11/05/2012 09:00:00 AM",
          "East": 77,
          "Hour": 9,
          "JulianDay": 33,
          "WeekDay": 0,
          "West": 105,
          "Year": 2012
         },
         {
          "Date2": "2012-11-05 10:00:00",
          "DateString": "11/05/2012 10:00:00 AM",
          "East": 26,
          "Hour": 10,
          "JulianDay": 33,
          "WeekDay": 0,
          "West": 65,
          "Year": 2012
         },
         {
          "Date2": "2012-11-05 11:00:00",
          "DateString": "11/05/2012 11:00:00 AM",
          "East": 19,
          "Hour": 11,
          "JulianDay": 33,
          "WeekDay": 0,
          "West": 38,
          "Year": 2012
         },
         {
          "Date2": "2012-11-05 12:00:00",
          "DateString": "11/05/2012 12:00:00 PM",
          "East": 54,
          "Hour": 12,
          "JulianDay": 33,
          "WeekDay": 0,
          "West": 41,
          "Year": 2012
         },
         {
          "Date2": "2012-11-05 13:00:00",
          "DateString": "11/05/2012 01:00:00 PM",
          "East": 32,
          "Hour": 13,
          "JulianDay": 33,
          "WeekDay": 0,
          "West": 31,
          "Year": 2012
         },
         {
          "Date2": "2012-11-05 14:00:00",
          "DateString": "11/05/2012 02:00:00 PM",
          "East": 40,
          "Hour": 14,
          "JulianDay": 33,
          "WeekDay": 0,
          "West": 58,
          "Year": 2012
         },
         {
          "Date2": "2012-11-05 15:00:00",
          "DateString": "11/05/2012 03:00:00 PM",
          "East": 58,
          "Hour": 15,
          "JulianDay": 33,
          "WeekDay": 0,
          "West": 65,
          "Year": 2012
         },
         {
          "Date2": "2012-11-05 16:00:00",
          "DateString": "11/05/2012 04:00:00 PM",
          "East": 134,
          "Hour": 16,
          "JulianDay": 33,
          "WeekDay": 0,
          "West": 112,
          "Year": 2012
         },
         {
          "Date2": "2012-11-05 17:00:00",
          "DateString": "11/05/2012 05:00:00 PM",
          "East": 344,
          "Hour": 17,
          "JulianDay": 33,
          "WeekDay": 0,
          "West": 126,
          "Year": 2012
         },
         {
          "Date2": "2012-11-05 18:00:00",
          "DateString": "11/05/2012 06:00:00 PM",
          "East": 177,
          "Hour": 18,
          "JulianDay": 33,
          "WeekDay": 0,
          "West": 84,
          "Year": 2012
         },
         {
          "Date2": "2012-11-05 19:00:00",
          "DateString": "11/05/2012 07:00:00 PM",
          "East": 78,
          "Hour": 19,
          "JulianDay": 33,
          "WeekDay": 0,
          "West": 30,
          "Year": 2012
         },
         {
          "Date2": "2012-11-05 20:00:00",
          "DateString": "11/05/2012 08:00:00 PM",
          "East": 36,
          "Hour": 20,
          "JulianDay": 33,
          "WeekDay": 0,
          "West": 32,
          "Year": 2012
         },
         {
          "Date2": "2012-11-05 21:00:00",
          "DateString": "11/05/2012 09:00:00 PM",
          "East": 24,
          "Hour": 21,
          "JulianDay": 33,
          "WeekDay": 0,
          "West": 21,
          "Year": 2012
         },
         {
          "Date2": "2012-11-05 22:00:00",
          "DateString": "11/05/2012 10:00:00 PM",
          "East": 11,
          "Hour": 22,
          "JulianDay": 33,
          "WeekDay": 0,
          "West": 13,
          "Year": 2012
         },
         {
          "Date2": "2012-11-05 23:00:00",
          "DateString": "11/05/2012 11:00:00 PM",
          "East": 14,
          "Hour": 23,
          "JulianDay": 33,
          "WeekDay": 0,
          "West": 9,
          "Year": 2012
         },
         {
          "Date2": "2012-11-06 00:00:00",
          "DateString": "11/06/2012 12:00:00 AM",
          "East": 5,
          "Hour": 0,
          "JulianDay": 34,
          "WeekDay": 1,
          "West": 5,
          "Year": 2012
         },
         {
          "Date2": "2012-11-06 01:00:00",
          "DateString": "11/06/2012 01:00:00 AM",
          "East": 3,
          "Hour": 1,
          "JulianDay": 34,
          "WeekDay": 1,
          "West": 4,
          "Year": 2012
         },
         {
          "Date2": "2012-11-06 02:00:00",
          "DateString": "11/06/2012 02:00:00 AM",
          "East": 2,
          "Hour": 2,
          "JulianDay": 34,
          "WeekDay": 1,
          "West": 3,
          "Year": 2012
         },
         {
          "Date2": "2012-11-06 03:00:00",
          "DateString": "11/06/2012 03:00:00 AM",
          "East": 2,
          "Hour": 3,
          "JulianDay": 34,
          "WeekDay": 1,
          "West": 1,
          "Year": 2012
         },
         {
          "Date2": "2012-11-06 04:00:00",
          "DateString": "11/06/2012 04:00:00 AM",
          "East": 3,
          "Hour": 4,
          "JulianDay": 34,
          "WeekDay": 1,
          "West": 5,
          "Year": 2012
         },
         {
          "Date2": "2012-11-06 05:00:00",
          "DateString": "11/06/2012 05:00:00 AM",
          "East": 9,
          "Hour": 5,
          "JulianDay": 34,
          "WeekDay": 1,
          "West": 18,
          "Year": 2012
         },
         {
          "Date2": "2012-11-06 06:00:00",
          "DateString": "11/06/2012 06:00:00 AM",
          "East": 33,
          "Hour": 6,
          "JulianDay": 34,
          "WeekDay": 1,
          "West": 94,
          "Year": 2012
         },
         {
          "Date2": "2012-11-06 07:00:00",
          "DateString": "11/06/2012 07:00:00 AM",
          "East": 63,
          "Hour": 7,
          "JulianDay": 34,
          "WeekDay": 1,
          "West": 217,
          "Year": 2012
         },
         {
          "Date2": "2012-11-06 08:00:00",
          "DateString": "11/06/2012 08:00:00 AM",
          "East": 113,
          "Hour": 8,
          "JulianDay": 34,
          "WeekDay": 1,
          "West": 258,
          "Year": 2012
         },
         {
          "Date2": "2012-11-06 09:00:00",
          "DateString": "11/06/2012 09:00:00 AM",
          "East": 55,
          "Hour": 9,
          "JulianDay": 34,
          "WeekDay": 1,
          "West": 109,
          "Year": 2012
         },
         {
          "Date2": "2012-11-06 10:00:00",
          "DateString": "11/06/2012 10:00:00 AM",
          "East": 30,
          "Hour": 10,
          "JulianDay": 34,
          "WeekDay": 1,
          "West": 33,
          "Year": 2012
         },
         {
          "Date2": "2012-11-06 11:00:00",
          "DateString": "11/06/2012 11:00:00 AM",
          "East": 22,
          "Hour": 11,
          "JulianDay": 34,
          "WeekDay": 1,
          "West": 32,
          "Year": 2012
         },
         {
          "Date2": "2012-11-06 12:00:00",
          "DateString": "11/06/2012 12:00:00 PM",
          "East": 32,
          "Hour": 12,
          "JulianDay": 34,
          "WeekDay": 1,
          "West": 30,
          "Year": 2012
         },
         {
          "Date2": "2012-11-06 13:00:00",
          "DateString": "11/06/2012 01:00:00 PM",
          "East": 26,
          "Hour": 13,
          "JulianDay": 34,
          "WeekDay": 1,
          "West": 40,
          "Year": 2012
         },
         {
          "Date2": "2012-11-06 14:00:00",
          "DateString": "11/06/2012 02:00:00 PM",
          "East": 38,
          "Hour": 14,
          "JulianDay": 34,
          "WeekDay": 1,
          "West": 37,
          "Year": 2012
         },
         {
          "Date2": "2012-11-06 15:00:00",
          "DateString": "11/06/2012 03:00:00 PM",
          "East": 58,
          "Hour": 15,
          "JulianDay": 34,
          "WeekDay": 1,
          "West": 53,
          "Year": 2012
         },
         {
          "Date2": "2012-11-06 16:00:00",
          "DateString": "11/06/2012 04:00:00 PM",
          "East": 141,
          "Hour": 16,
          "JulianDay": 34,
          "WeekDay": 1,
          "West": 95,
          "Year": 2012
         },
         {
          "Date2": "2012-11-06 17:00:00",
          "DateString": "11/06/2012 05:00:00 PM",
          "East": 298,
          "Hour": 17,
          "JulianDay": 34,
          "WeekDay": 1,
          "West": 105,
          "Year": 2012
         },
         {
          "Date2": "2012-11-06 18:00:00",
          "DateString": "11/06/2012 06:00:00 PM",
          "East": 147,
          "Hour": 18,
          "JulianDay": 34,
          "WeekDay": 1,
          "West": 70,
          "Year": 2012
         },
         {
          "Date2": "2012-11-06 19:00:00",
          "DateString": "11/06/2012 07:00:00 PM",
          "East": 47,
          "Hour": 19,
          "JulianDay": 34,
          "WeekDay": 1,
          "West": 33,
          "Year": 2012
         },
         {
          "Date2": "2012-11-06 20:00:00",
          "DateString": "11/06/2012 08:00:00 PM",
          "East": 27,
          "Hour": 20,
          "JulianDay": 34,
          "WeekDay": 1,
          "West": 16,
          "Year": 2012
         },
         {
          "Date2": "2012-11-06 21:00:00",
          "DateString": "11/06/2012 09:00:00 PM",
          "East": 20,
          "Hour": 21,
          "JulianDay": 34,
          "WeekDay": 1,
          "West": 12,
          "Year": 2012
         },
         {
          "Date2": "2012-11-06 22:00:00",
          "DateString": "11/06/2012 10:00:00 PM",
          "East": 16,
          "Hour": 22,
          "JulianDay": 34,
          "WeekDay": 1,
          "West": 12,
          "Year": 2012
         },
         {
          "Date2": "2012-11-06 23:00:00",
          "DateString": "11/06/2012 11:00:00 PM",
          "East": 16,
          "Hour": 23,
          "JulianDay": 34,
          "WeekDay": 1,
          "West": 5,
          "Year": 2012
         },
         {
          "Date2": "2012-11-07 00:00:00",
          "DateString": "11/07/2012 12:00:00 AM",
          "East": 6,
          "Hour": 0,
          "JulianDay": 35,
          "WeekDay": 2,
          "West": 6,
          "Year": 2012
         },
         {
          "Date2": "2012-11-07 01:00:00",
          "DateString": "11/07/2012 01:00:00 AM",
          "East": 1,
          "Hour": 1,
          "JulianDay": 35,
          "WeekDay": 2,
          "West": 4,
          "Year": 2012
         },
         {
          "Date2": "2012-11-07 02:00:00",
          "DateString": "11/07/2012 02:00:00 AM",
          "East": 2,
          "Hour": 2,
          "JulianDay": 35,
          "WeekDay": 2,
          "West": 4,
          "Year": 2012
         },
         {
          "Date2": "2012-11-07 03:00:00",
          "DateString": "11/07/2012 03:00:00 AM",
          "East": 5,
          "Hour": 3,
          "JulianDay": 35,
          "WeekDay": 2,
          "West": 1,
          "Year": 2012
         },
         {
          "Date2": "2012-11-07 04:00:00",
          "DateString": "11/07/2012 04:00:00 AM",
          "East": 3,
          "Hour": 4,
          "JulianDay": 35,
          "WeekDay": 2,
          "West": 7,
          "Year": 2012
         },
         {
          "Date2": "2012-11-07 05:00:00",
          "DateString": "11/07/2012 05:00:00 AM",
          "East": 5,
          "Hour": 5,
          "JulianDay": 35,
          "WeekDay": 2,
          "West": 9,
          "Year": 2012
         },
         {
          "Date2": "2012-11-07 06:00:00",
          "DateString": "11/07/2012 06:00:00 AM",
          "East": 34,
          "Hour": 6,
          "JulianDay": 35,
          "WeekDay": 2,
          "West": 82,
          "Year": 2012
         },
         {
          "Date2": "2012-11-07 07:00:00",
          "DateString": "11/07/2012 07:00:00 AM",
          "East": 77,
          "Hour": 7,
          "JulianDay": 35,
          "WeekDay": 2,
          "West": 189,
          "Year": 2012
         },
         {
          "Date2": "2012-11-07 08:00:00",
          "DateString": "11/07/2012 08:00:00 AM",
          "East": 115,
          "Hour": 8,
          "JulianDay": 35,
          "WeekDay": 2,
          "West": 256,
          "Year": 2012
         },
         {
          "Date2": "2012-11-07 09:00:00",
          "DateString": "11/07/2012 09:00:00 AM",
          "East": 63,
          "Hour": 9,
          "JulianDay": 35,
          "WeekDay": 2,
          "West": 137,
          "Year": 2012
         },
         {
          "Date2": "2012-11-07 10:00:00",
          "DateString": "11/07/2012 10:00:00 AM",
          "East": 42,
          "Hour": 10,
          "JulianDay": 35,
          "WeekDay": 2,
          "West": 54,
          "Year": 2012
         },
         {
          "Date2": "2012-11-07 11:00:00",
          "DateString": "11/07/2012 11:00:00 AM",
          "East": 24,
          "Hour": 11,
          "JulianDay": 35,
          "WeekDay": 2,
          "West": 34,
          "Year": 2012
         },
         {
          "Date2": "2012-11-07 12:00:00",
          "DateString": "11/07/2012 12:00:00 PM",
          "East": 36,
          "Hour": 12,
          "JulianDay": 35,
          "WeekDay": 2,
          "West": 35,
          "Year": 2012
         },
         {
          "Date2": "2012-11-07 13:00:00",
          "DateString": "11/07/2012 01:00:00 PM",
          "East": 30,
          "Hour": 13,
          "JulianDay": 35,
          "WeekDay": 2,
          "West": 37,
          "Year": 2012
         },
         {
          "Date2": "2012-11-07 14:00:00",
          "DateString": "11/07/2012 02:00:00 PM",
          "East": 45,
          "Hour": 14,
          "JulianDay": 35,
          "WeekDay": 2,
          "West": 59,
          "Year": 2012
         },
         {
          "Date2": "2012-11-07 15:00:00",
          "DateString": "11/07/2012 03:00:00 PM",
          "East": 72,
          "Hour": 15,
          "JulianDay": 35,
          "WeekDay": 2,
          "West": 60,
          "Year": 2012
         },
         {
          "Date2": "2012-11-07 16:00:00",
          "DateString": "11/07/2012 04:00:00 PM",
          "East": 139,
          "Hour": 16,
          "JulianDay": 35,
          "WeekDay": 2,
          "West": 98,
          "Year": 2012
         },
         {
          "Date2": "2012-11-07 17:00:00",
          "DateString": "11/07/2012 05:00:00 PM",
          "East": 275,
          "Hour": 17,
          "JulianDay": 35,
          "WeekDay": 2,
          "West": 112,
          "Year": 2012
         },
         {
          "Date2": "2012-11-07 18:00:00",
          "DateString": "11/07/2012 06:00:00 PM",
          "East": 171,
          "Hour": 18,
          "JulianDay": 35,
          "WeekDay": 2,
          "West": 99,
          "Year": 2012
         },
         {
          "Date2": "2012-11-07 19:00:00",
          "DateString": "11/07/2012 07:00:00 PM",
          "East": 66,
          "Hour": 19,
          "JulianDay": 35,
          "WeekDay": 2,
          "West": 48,
          "Year": 2012
         },
         {
          "Date2": "2012-11-07 20:00:00",
          "DateString": "11/07/2012 08:00:00 PM",
          "East": 44,
          "Hour": 20,
          "JulianDay": 35,
          "WeekDay": 2,
          "West": 23,
          "Year": 2012
         },
         {
          "Date2": "2012-11-07 21:00:00",
          "DateString": "11/07/2012 09:00:00 PM",
          "East": 26,
          "Hour": 21,
          "JulianDay": 35,
          "WeekDay": 2,
          "West": 19,
          "Year": 2012
         },
         {
          "Date2": "2012-11-07 22:00:00",
          "DateString": "11/07/2012 10:00:00 PM",
          "East": 23,
          "Hour": 22,
          "JulianDay": 35,
          "WeekDay": 2,
          "West": 20,
          "Year": 2012
         },
         {
          "Date2": "2012-11-07 23:00:00",
          "DateString": "11/07/2012 11:00:00 PM",
          "East": 9,
          "Hour": 23,
          "JulianDay": 35,
          "WeekDay": 2,
          "West": 13,
          "Year": 2012
         },
         {
          "Date2": "2012-11-08 00:00:00",
          "DateString": "11/08/2012 12:00:00 AM",
          "East": 1,
          "Hour": 0,
          "JulianDay": 36,
          "WeekDay": 3,
          "West": 1,
          "Year": 2012
         },
         {
          "Date2": "2012-11-08 01:00:00",
          "DateString": "11/08/2012 01:00:00 AM",
          "East": 3,
          "Hour": 1,
          "JulianDay": 36,
          "WeekDay": 3,
          "West": 3,
          "Year": 2012
         },
         {
          "Date2": "2012-11-08 02:00:00",
          "DateString": "11/08/2012 02:00:00 AM",
          "East": 3,
          "Hour": 2,
          "JulianDay": 36,
          "WeekDay": 3,
          "West": 1,
          "Year": 2012
         },
         {
          "Date2": "2012-11-08 03:00:00",
          "DateString": "11/08/2012 03:00:00 AM",
          "East": 4,
          "Hour": 3,
          "JulianDay": 36,
          "WeekDay": 3,
          "West": 2,
          "Year": 2012
         },
         {
          "Date2": "2012-11-08 04:00:00",
          "DateString": "11/08/2012 04:00:00 AM",
          "East": 3,
          "Hour": 4,
          "JulianDay": 36,
          "WeekDay": 3,
          "West": 7,
          "Year": 2012
         },
         {
          "Date2": "2012-11-08 05:00:00",
          "DateString": "11/08/2012 05:00:00 AM",
          "East": 9,
          "Hour": 5,
          "JulianDay": 36,
          "WeekDay": 3,
          "West": 15,
          "Year": 2012
         },
         {
          "Date2": "2012-11-08 06:00:00",
          "DateString": "11/08/2012 06:00:00 AM",
          "East": 46,
          "Hour": 6,
          "JulianDay": 36,
          "WeekDay": 3,
          "West": 82,
          "Year": 2012
         },
         {
          "Date2": "2012-11-08 07:00:00",
          "DateString": "11/08/2012 07:00:00 AM",
          "East": 76,
          "Hour": 7,
          "JulianDay": 36,
          "WeekDay": 3,
          "West": 203,
          "Year": 2012
         },
         {
          "Date2": "2012-11-08 08:00:00",
          "DateString": "11/08/2012 08:00:00 AM",
          "East": 94,
          "Hour": 8,
          "JulianDay": 36,
          "WeekDay": 3,
          "West": 254,
          "Year": 2012
         },
         {
          "Date2": "2012-11-08 09:00:00",
          "DateString": "11/08/2012 09:00:00 AM",
          "East": 76,
          "Hour": 9,
          "JulianDay": 36,
          "WeekDay": 3,
          "West": 130,
          "Year": 2012
         },
         {
          "Date2": "2012-11-08 10:00:00",
          "DateString": "11/08/2012 10:00:00 AM",
          "East": 34,
          "Hour": 10,
          "JulianDay": 36,
          "WeekDay": 3,
          "West": 54,
          "Year": 2012
         },
         {
          "Date2": "2012-11-08 11:00:00",
          "DateString": "11/08/2012 11:00:00 AM",
          "East": 32,
          "Hour": 11,
          "JulianDay": 36,
          "WeekDay": 3,
          "West": 44,
          "Year": 2012
         },
         {
          "Date2": "2012-11-08 12:00:00",
          "DateString": "11/08/2012 12:00:00 PM",
          "East": 31,
          "Hour": 12,
          "JulianDay": 36,
          "WeekDay": 3,
          "West": 40,
          "Year": 2012
         },
         {
          "Date2": "2012-11-08 13:00:00",
          "DateString": "11/08/2012 01:00:00 PM",
          "East": 35,
          "Hour": 13,
          "JulianDay": 36,
          "WeekDay": 3,
          "West": 39,
          "Year": 2012
         },
         {
          "Date2": "2012-11-08 14:00:00",
          "DateString": "11/08/2012 02:00:00 PM",
          "East": 35,
          "Hour": 14,
          "JulianDay": 36,
          "WeekDay": 3,
          "West": 54,
          "Year": 2012
         },
         {
          "Date2": "2012-11-08 15:00:00",
          "DateString": "11/08/2012 03:00:00 PM",
          "East": 59,
          "Hour": 15,
          "JulianDay": 36,
          "WeekDay": 3,
          "West": 47,
          "Year": 2012
         },
         {
          "Date2": "2012-11-08 16:00:00",
          "DateString": "11/08/2012 04:00:00 PM",
          "East": 162,
          "Hour": 16,
          "JulianDay": 36,
          "WeekDay": 3,
          "West": 94,
          "Year": 2012
         },
         {
          "Date2": "2012-11-08 17:00:00",
          "DateString": "11/08/2012 05:00:00 PM",
          "East": 290,
          "Hour": 17,
          "JulianDay": 36,
          "WeekDay": 3,
          "West": 104,
          "Year": 2012
         },
         {
          "Date2": "2012-11-08 18:00:00",
          "DateString": "11/08/2012 06:00:00 PM",
          "East": 169,
          "Hour": 18,
          "JulianDay": 36,
          "WeekDay": 3,
          "West": 89,
          "Year": 2012
         },
         {
          "Date2": "2012-11-08 19:00:00",
          "DateString": "11/08/2012 07:00:00 PM",
          "East": 79,
          "Hour": 19,
          "JulianDay": 36,
          "WeekDay": 3,
          "West": 35,
          "Year": 2012
         },
         {
          "Date2": "2012-11-08 20:00:00",
          "DateString": "11/08/2012 08:00:00 PM",
          "East": 39,
          "Hour": 20,
          "JulianDay": 36,
          "WeekDay": 3,
          "West": 20,
          "Year": 2012
         },
         {
          "Date2": "2012-11-08 21:00:00",
          "DateString": "11/08/2012 09:00:00 PM",
          "East": 29,
          "Hour": 21,
          "JulianDay": 36,
          "WeekDay": 3,
          "West": 15,
          "Year": 2012
         },
         {
          "Date2": "2012-11-08 22:00:00",
          "DateString": "11/08/2012 10:00:00 PM",
          "East": 14,
          "Hour": 22,
          "JulianDay": 36,
          "WeekDay": 3,
          "West": 13,
          "Year": 2012
         },
         {
          "Date2": "2012-11-08 23:00:00",
          "DateString": "11/08/2012 11:00:00 PM",
          "East": 13,
          "Hour": 23,
          "JulianDay": 36,
          "WeekDay": 3,
          "West": 9,
          "Year": 2012
         },
         {
          "Date2": "2012-11-09 00:00:00",
          "DateString": "11/09/2012 12:00:00 AM",
          "East": 8,
          "Hour": 0,
          "JulianDay": 37,
          "WeekDay": 4,
          "West": 11,
          "Year": 2012
         },
         {
          "Date2": "2012-11-09 01:00:00",
          "DateString": "11/09/2012 01:00:00 AM",
          "East": 3,
          "Hour": 1,
          "JulianDay": 37,
          "WeekDay": 4,
          "West": 2,
          "Year": 2012
         },
         {
          "Date2": "2012-11-09 02:00:00",
          "DateString": "11/09/2012 02:00:00 AM",
          "East": 1,
          "Hour": 2,
          "JulianDay": 37,
          "WeekDay": 4,
          "West": 4,
          "Year": 2012
         },
         {
          "Date2": "2012-11-09 03:00:00",
          "DateString": "11/09/2012 03:00:00 AM",
          "East": 2,
          "Hour": 3,
          "JulianDay": 37,
          "WeekDay": 4,
          "West": 0,
          "Year": 2012
         },
         {
          "Date2": "2012-11-09 04:00:00",
          "DateString": "11/09/2012 04:00:00 AM",
          "East": 2,
          "Hour": 4,
          "JulianDay": 37,
          "WeekDay": 4,
          "West": 5,
          "Year": 2012
         },
         {
          "Date2": "2012-11-09 05:00:00",
          "DateString": "11/09/2012 05:00:00 AM",
          "East": 4,
          "Hour": 5,
          "JulianDay": 37,
          "WeekDay": 4,
          "West": 11,
          "Year": 2012
         },
         {
          "Date2": "2012-11-09 06:00:00",
          "DateString": "11/09/2012 06:00:00 AM",
          "East": 40,
          "Hour": 6,
          "JulianDay": 37,
          "WeekDay": 4,
          "West": 60,
          "Year": 2012
         },
         {
          "Date2": "2012-11-09 07:00:00",
          "DateString": "11/09/2012 07:00:00 AM",
          "East": 65,
          "Hour": 7,
          "JulianDay": 37,
          "WeekDay": 4,
          "West": 168,
          "Year": 2012
         },
         {
          "Date2": "2012-11-09 08:00:00",
          "DateString": "11/09/2012 08:00:00 AM",
          "East": 97,
          "Hour": 8,
          "JulianDay": 37,
          "WeekDay": 4,
          "West": 232,
          "Year": 2012
         },
         {
          "Date2": "2012-11-09 09:00:00",
          "DateString": "11/09/2012 09:00:00 AM",
          "East": 53,
          "Hour": 9,
          "JulianDay": 37,
          "WeekDay": 4,
          "West": 114,
          "Year": 2012
         },
         {
          "Date2": "2012-11-09 10:00:00",
          "DateString": "11/09/2012 10:00:00 AM",
          "East": 39,
          "Hour": 10,
          "JulianDay": 37,
          "WeekDay": 4,
          "West": 53,
          "Year": 2012
         },
         {
          "Date2": "2012-11-09 11:00:00",
          "DateString": "11/09/2012 11:00:00 AM",
          "East": 28,
          "Hour": 11,
          "JulianDay": 37,
          "WeekDay": 4,
          "West": 47,
          "Year": 2012
         },
         {
          "Date2": "2012-11-09 12:00:00",
          "DateString": "11/09/2012 12:00:00 PM",
          "East": 20,
          "Hour": 12,
          "JulianDay": 37,
          "WeekDay": 4,
          "West": 46,
          "Year": 2012
         },
         {
          "Date2": "2012-11-09 13:00:00",
          "DateString": "11/09/2012 01:00:00 PM",
          "East": 45,
          "Hour": 13,
          "JulianDay": 37,
          "WeekDay": 4,
          "West": 45,
          "Year": 2012
         },
         {
          "Date2": "2012-11-09 14:00:00",
          "DateString": "11/09/2012 02:00:00 PM",
          "East": 48,
          "Hour": 14,
          "JulianDay": 37,
          "WeekDay": 4,
          "West": 54,
          "Year": 2012
         },
         {
          "Date2": "2012-11-09 15:00:00",
          "DateString": "11/09/2012 03:00:00 PM",
          "East": 87,
          "Hour": 15,
          "JulianDay": 37,
          "WeekDay": 4,
          "West": 76,
          "Year": 2012
         },
         {
          "Date2": "2012-11-09 16:00:00",
          "DateString": "11/09/2012 04:00:00 PM",
          "East": 131,
          "Hour": 16,
          "JulianDay": 37,
          "WeekDay": 4,
          "West": 91,
          "Year": 2012
         },
         {
          "Date2": "2012-11-09 17:00:00",
          "DateString": "11/09/2012 05:00:00 PM",
          "East": 225,
          "Hour": 17,
          "JulianDay": 37,
          "WeekDay": 4,
          "West": 99,
          "Year": 2012
         },
         {
          "Date2": "2012-11-09 18:00:00",
          "DateString": "11/09/2012 06:00:00 PM",
          "East": 142,
          "Hour": 18,
          "JulianDay": 37,
          "WeekDay": 4,
          "West": 66,
          "Year": 2012
         },
         {
          "Date2": "2012-11-09 19:00:00",
          "DateString": "11/09/2012 07:00:00 PM",
          "East": 58,
          "Hour": 19,
          "JulianDay": 37,
          "WeekDay": 4,
          "West": 26,
          "Year": 2012
         },
         {
          "Date2": "2012-11-09 20:00:00",
          "DateString": "11/09/2012 08:00:00 PM",
          "East": 25,
          "Hour": 20,
          "JulianDay": 37,
          "WeekDay": 4,
          "West": 7,
          "Year": 2012
         },
         {
          "Date2": "2012-11-09 21:00:00",
          "DateString": "11/09/2012 09:00:00 PM",
          "East": 12,
          "Hour": 21,
          "JulianDay": 37,
          "WeekDay": 4,
          "West": 13,
          "Year": 2012
         },
         {
          "Date2": "2012-11-09 22:00:00",
          "DateString": "11/09/2012 10:00:00 PM",
          "East": 12,
          "Hour": 22,
          "JulianDay": 37,
          "WeekDay": 4,
          "West": 13,
          "Year": 2012
         },
         {
          "Date2": "2012-11-09 23:00:00",
          "DateString": "11/09/2012 11:00:00 PM",
          "East": 8,
          "Hour": 23,
          "JulianDay": 37,
          "WeekDay": 4,
          "West": 8,
          "Year": 2012
         },
         {
          "Date2": "2012-11-10 00:00:00",
          "DateString": "11/10/2012 12:00:00 AM",
          "East": 15,
          "Hour": 0,
          "JulianDay": 38,
          "WeekDay": 5,
          "West": 5,
          "Year": 2012
         },
         {
          "Date2": "2012-11-10 01:00:00",
          "DateString": "11/10/2012 01:00:00 AM",
          "East": 4,
          "Hour": 1,
          "JulianDay": 38,
          "WeekDay": 5,
          "West": 4,
          "Year": 2012
         },
         {
          "Date2": "2012-11-10 02:00:00",
          "DateString": "11/10/2012 02:00:00 AM",
          "East": 6,
          "Hour": 2,
          "JulianDay": 38,
          "WeekDay": 5,
          "West": 4,
          "Year": 2012
         },
         {
          "Date2": "2012-11-10 03:00:00",
          "DateString": "11/10/2012 03:00:00 AM",
          "East": 2,
          "Hour": 3,
          "JulianDay": 38,
          "WeekDay": 5,
          "West": 3,
          "Year": 2012
         },
         {
          "Date2": "2012-11-10 04:00:00",
          "DateString": "11/10/2012 04:00:00 AM",
          "East": 2,
          "Hour": 4,
          "JulianDay": 38,
          "WeekDay": 5,
          "West": 2,
          "Year": 2012
         },
         {
          "Date2": "2012-11-10 05:00:00",
          "DateString": "11/10/2012 05:00:00 AM",
          "East": 5,
          "Hour": 5,
          "JulianDay": 38,
          "WeekDay": 5,
          "West": 4,
          "Year": 2012
         },
         {
          "Date2": "2012-11-10 06:00:00",
          "DateString": "11/10/2012 06:00:00 AM",
          "East": 9,
          "Hour": 6,
          "JulianDay": 38,
          "WeekDay": 5,
          "West": 6,
          "Year": 2012
         },
         {
          "Date2": "2012-11-10 07:00:00",
          "DateString": "11/10/2012 07:00:00 AM",
          "East": 13,
          "Hour": 7,
          "JulianDay": 38,
          "WeekDay": 5,
          "West": 10,
          "Year": 2012
         },
         {
          "Date2": "2012-11-10 08:00:00",
          "DateString": "11/10/2012 08:00:00 AM",
          "East": 19,
          "Hour": 8,
          "JulianDay": 38,
          "WeekDay": 5,
          "West": 25,
          "Year": 2012
         },
         {
          "Date2": "2012-11-10 09:00:00",
          "DateString": "11/10/2012 09:00:00 AM",
          "East": 24,
          "Hour": 9,
          "JulianDay": 38,
          "WeekDay": 5,
          "West": 30,
          "Year": 2012
         },
         {
          "Date2": "2012-11-10 10:00:00",
          "DateString": "11/10/2012 10:00:00 AM",
          "East": 39,
          "Hour": 10,
          "JulianDay": 38,
          "WeekDay": 5,
          "West": 63,
          "Year": 2012
         },
         {
          "Date2": "2012-11-10 11:00:00",
          "DateString": "11/10/2012 11:00:00 AM",
          "East": 33,
          "Hour": 11,
          "JulianDay": 38,
          "WeekDay": 5,
          "West": 69,
          "Year": 2012
         },
         {
          "Date2": "2012-11-10 12:00:00",
          "DateString": "11/10/2012 12:00:00 PM",
          "East": 63,
          "Hour": 12,
          "JulianDay": 38,
          "WeekDay": 5,
          "West": 75,
          "Year": 2012
         },
         {
          "Date2": "2012-11-10 13:00:00",
          "DateString": "11/10/2012 01:00:00 PM",
          "East": 54,
          "Hour": 13,
          "JulianDay": 38,
          "WeekDay": 5,
          "West": 76,
          "Year": 2012
         },
         {
          "Date2": "2012-11-10 14:00:00",
          "DateString": "11/10/2012 02:00:00 PM",
          "East": 73,
          "Hour": 14,
          "JulianDay": 38,
          "WeekDay": 5,
          "West": 69,
          "Year": 2012
         },
         {
          "Date2": "2012-11-10 15:00:00",
          "DateString": "11/10/2012 03:00:00 PM",
          "East": 41,
          "Hour": 15,
          "JulianDay": 38,
          "WeekDay": 5,
          "West": 96,
          "Year": 2012
         },
         {
          "Date2": "2012-11-10 16:00:00",
          "DateString": "11/10/2012 04:00:00 PM",
          "East": 58,
          "Hour": 16,
          "JulianDay": 38,
          "WeekDay": 5,
          "West": 51,
          "Year": 2012
         },
         {
          "Date2": "2012-11-10 17:00:00",
          "DateString": "11/10/2012 05:00:00 PM",
          "East": 37,
          "Hour": 17,
          "JulianDay": 38,
          "WeekDay": 5,
          "West": 35,
          "Year": 2012
         },
         {
          "Date2": "2012-11-10 18:00:00",
          "DateString": "11/10/2012 06:00:00 PM",
          "East": 30,
          "Hour": 18,
          "JulianDay": 38,
          "WeekDay": 5,
          "West": 17,
          "Year": 2012
         },
         {
          "Date2": "2012-11-10 19:00:00",
          "DateString": "11/10/2012 07:00:00 PM",
          "East": 13,
          "Hour": 19,
          "JulianDay": 38,
          "WeekDay": 5,
          "West": 13,
          "Year": 2012
         },
         {
          "Date2": "2012-11-10 20:00:00",
          "DateString": "11/10/2012 08:00:00 PM",
          "East": 14,
          "Hour": 20,
          "JulianDay": 38,
          "WeekDay": 5,
          "West": 10,
          "Year": 2012
         },
         {
          "Date2": "2012-11-10 21:00:00",
          "DateString": "11/10/2012 09:00:00 PM",
          "East": 8,
          "Hour": 21,
          "JulianDay": 38,
          "WeekDay": 5,
          "West": 7,
          "Year": 2012
         },
         {
          "Date2": "2012-11-10 22:00:00",
          "DateString": "11/10/2012 10:00:00 PM",
          "East": 10,
          "Hour": 22,
          "JulianDay": 38,
          "WeekDay": 5,
          "West": 5,
          "Year": 2012
         },
         {
          "Date2": "2012-11-10 23:00:00",
          "DateString": "11/10/2012 11:00:00 PM",
          "East": 12,
          "Hour": 23,
          "JulianDay": 38,
          "WeekDay": 5,
          "West": 6,
          "Year": 2012
         },
         {
          "Date2": "2012-11-11 00:00:00",
          "DateString": "11/11/2012 12:00:00 AM",
          "East": 3,
          "Hour": 0,
          "JulianDay": 39,
          "WeekDay": 6,
          "West": 7,
          "Year": 2012
         },
         {
          "Date2": "2012-11-11 01:00:00",
          "DateString": "11/11/2012 01:00:00 AM",
          "East": 4,
          "Hour": 1,
          "JulianDay": 39,
          "WeekDay": 6,
          "West": 3,
          "Year": 2012
         },
         {
          "Date2": "2012-11-11 02:00:00",
          "DateString": "11/11/2012 02:00:00 AM",
          "East": 8,
          "Hour": 2,
          "JulianDay": 39,
          "WeekDay": 6,
          "West": 0,
          "Year": 2012
         },
         {
          "Date2": "2012-11-11 03:00:00",
          "DateString": "11/11/2012 03:00:00 AM",
          "East": 1,
          "Hour": 3,
          "JulianDay": 39,
          "WeekDay": 6,
          "West": 3,
          "Year": 2012
         },
         {
          "Date2": "2012-11-11 04:00:00",
          "DateString": "11/11/2012 04:00:00 AM",
          "East": 0,
          "Hour": 4,
          "JulianDay": 39,
          "WeekDay": 6,
          "West": 3,
          "Year": 2012
         },
         {
          "Date2": "2012-11-11 05:00:00",
          "DateString": "11/11/2012 05:00:00 AM",
          "East": 3,
          "Hour": 5,
          "JulianDay": 39,
          "WeekDay": 6,
          "West": 0,
          "Year": 2012
         },
         {
          "Date2": "2012-11-11 06:00:00",
          "DateString": "11/11/2012 06:00:00 AM",
          "East": 11,
          "Hour": 6,
          "JulianDay": 39,
          "WeekDay": 6,
          "West": 1,
          "Year": 2012
         },
         {
          "Date2": "2012-11-11 07:00:00",
          "DateString": "11/11/2012 07:00:00 AM",
          "East": 10,
          "Hour": 7,
          "JulianDay": 39,
          "WeekDay": 6,
          "West": 11,
          "Year": 2012
         },
         {
          "Date2": "2012-11-11 08:00:00",
          "DateString": "11/11/2012 08:00:00 AM",
          "East": 15,
          "Hour": 8,
          "JulianDay": 39,
          "WeekDay": 6,
          "West": 21,
          "Year": 2012
         },
         {
          "Date2": "2012-11-11 09:00:00",
          "DateString": "11/11/2012 09:00:00 AM",
          "East": 30,
          "Hour": 9,
          "JulianDay": 39,
          "WeekDay": 6,
          "West": 28,
          "Year": 2012
         },
         {
          "Date2": "2012-11-11 10:00:00",
          "DateString": "11/11/2012 10:00:00 AM",
          "East": 14,
          "Hour": 10,
          "JulianDay": 39,
          "WeekDay": 6,
          "West": 40,
          "Year": 2012
         },
         {
          "Date2": "2012-11-11 11:00:00",
          "DateString": "11/11/2012 11:00:00 AM",
          "East": 30,
          "Hour": 11,
          "JulianDay": 39,
          "WeekDay": 6,
          "West": 28,
          "Year": 2012
         },
         {
          "Date2": "2012-11-11 12:00:00",
          "DateString": "11/11/2012 12:00:00 PM",
          "East": 24,
          "Hour": 12,
          "JulianDay": 39,
          "WeekDay": 6,
          "West": 27,
          "Year": 2012
         },
         {
          "Date2": "2012-11-11 13:00:00",
          "DateString": "11/11/2012 01:00:00 PM",
          "East": 23,
          "Hour": 13,
          "JulianDay": 39,
          "WeekDay": 6,
          "West": 35,
          "Year": 2012
         },
         {
          "Date2": "2012-11-11 14:00:00",
          "DateString": "11/11/2012 02:00:00 PM",
          "East": 32,
          "Hour": 14,
          "JulianDay": 39,
          "WeekDay": 6,
          "West": 39,
          "Year": 2012
         },
         {
          "Date2": "2012-11-11 15:00:00",
          "DateString": "11/11/2012 03:00:00 PM",
          "East": 16,
          "Hour": 15,
          "JulianDay": 39,
          "WeekDay": 6,
          "West": 19,
          "Year": 2012
         },
         {
          "Date2": "2012-11-11 16:00:00",
          "DateString": "11/11/2012 04:00:00 PM",
          "East": 12,
          "Hour": 16,
          "JulianDay": 39,
          "WeekDay": 6,
          "West": 27,
          "Year": 2012
         },
         {
          "Date2": "2012-11-11 17:00:00",
          "DateString": "11/11/2012 05:00:00 PM",
          "East": 20,
          "Hour": 17,
          "JulianDay": 39,
          "WeekDay": 6,
          "West": 7,
          "Year": 2012
         },
         {
          "Date2": "2012-11-11 18:00:00",
          "DateString": "11/11/2012 06:00:00 PM",
          "East": 14,
          "Hour": 18,
          "JulianDay": 39,
          "WeekDay": 6,
          "West": 5,
          "Year": 2012
         },
         {
          "Date2": "2012-11-11 19:00:00",
          "DateString": "11/11/2012 07:00:00 PM",
          "East": 6,
          "Hour": 19,
          "JulianDay": 39,
          "WeekDay": 6,
          "West": 8,
          "Year": 2012
         },
         {
          "Date2": "2012-11-11 20:00:00",
          "DateString": "11/11/2012 08:00:00 PM",
          "East": 6,
          "Hour": 20,
          "JulianDay": 39,
          "WeekDay": 6,
          "West": 5,
          "Year": 2012
         },
         {
          "Date2": "2012-11-11 21:00:00",
          "DateString": "11/11/2012 09:00:00 PM",
          "East": 8,
          "Hour": 21,
          "JulianDay": 39,
          "WeekDay": 6,
          "West": 6,
          "Year": 2012
         },
         {
          "Date2": "2012-11-11 22:00:00",
          "DateString": "11/11/2012 10:00:00 PM",
          "East": 3,
          "Hour": 22,
          "JulianDay": 39,
          "WeekDay": 6,
          "West": 4,
          "Year": 2012
         },
         {
          "Date2": "2012-11-11 23:00:00",
          "DateString": "11/11/2012 11:00:00 PM",
          "East": 8,
          "Hour": 23,
          "JulianDay": 39,
          "WeekDay": 6,
          "West": 0,
          "Year": 2012
         },
         {
          "Date2": "2012-11-12 00:00:00",
          "DateString": "11/12/2012 12:00:00 AM",
          "East": 0,
          "Hour": 0,
          "JulianDay": 40,
          "WeekDay": 0,
          "West": 4,
          "Year": 2012
         },
         {
          "Date2": "2012-11-12 01:00:00",
          "DateString": "11/12/2012 01:00:00 AM",
          "East": 0,
          "Hour": 1,
          "JulianDay": 40,
          "WeekDay": 0,
          "West": 1,
          "Year": 2012
         },
         {
          "Date2": "2012-11-12 02:00:00",
          "DateString": "11/12/2012 02:00:00 AM",
          "East": 2,
          "Hour": 2,
          "JulianDay": 40,
          "WeekDay": 0,
          "West": 2,
          "Year": 2012
         },
         {
          "Date2": "2012-11-12 03:00:00",
          "DateString": "11/12/2012 03:00:00 AM",
          "East": 1,
          "Hour": 3,
          "JulianDay": 40,
          "WeekDay": 0,
          "West": 0,
          "Year": 2012
         },
         {
          "Date2": "2012-11-12 04:00:00",
          "DateString": "11/12/2012 04:00:00 AM",
          "East": 1,
          "Hour": 4,
          "JulianDay": 40,
          "WeekDay": 0,
          "West": 1,
          "Year": 2012
         },
         {
          "Date2": "2012-11-12 05:00:00",
          "DateString": "11/12/2012 05:00:00 AM",
          "East": 2,
          "Hour": 5,
          "JulianDay": 40,
          "WeekDay": 0,
          "West": 9,
          "Year": 2012
         },
         {
          "Date2": "2012-11-12 06:00:00",
          "DateString": "11/12/2012 06:00:00 AM",
          "East": 19,
          "Hour": 6,
          "JulianDay": 40,
          "WeekDay": 0,
          "West": 44,
          "Year": 2012
         },
         {
          "Date2": "2012-11-12 07:00:00",
          "DateString": "11/12/2012 07:00:00 AM",
          "East": 42,
          "Hour": 7,
          "JulianDay": 40,
          "WeekDay": 0,
          "West": 104,
          "Year": 2012
         },
         {
          "Date2": "2012-11-12 08:00:00",
          "DateString": "11/12/2012 08:00:00 AM",
          "East": 65,
          "Hour": 8,
          "JulianDay": 40,
          "WeekDay": 0,
          "West": 148,
          "Year": 2012
         },
         {
          "Date2": "2012-11-12 09:00:00",
          "DateString": "11/12/2012 09:00:00 AM",
          "East": 54,
          "Hour": 9,
          "JulianDay": 40,
          "WeekDay": 0,
          "West": 81,
          "Year": 2012
         },
         {
          "Date2": "2012-11-12 10:00:00",
          "DateString": "11/12/2012 10:00:00 AM",
          "East": 21,
          "Hour": 10,
          "JulianDay": 40,
          "WeekDay": 0,
          "West": 31,
          "Year": 2012
         },
         {
          "Date2": "2012-11-12 11:00:00",
          "DateString": "11/12/2012 11:00:00 AM",
          "East": 18,
          "Hour": 11,
          "JulianDay": 40,
          "WeekDay": 0,
          "West": 28,
          "Year": 2012
         },
         {
          "Date2": "2012-11-12 12:00:00",
          "DateString": "11/12/2012 12:00:00 PM",
          "East": 15,
          "Hour": 12,
          "JulianDay": 40,
          "WeekDay": 0,
          "West": 28,
          "Year": 2012
         },
         {
          "Date2": "2012-11-12 13:00:00",
          "DateString": "11/12/2012 01:00:00 PM",
          "East": 18,
          "Hour": 13,
          "JulianDay": 40,
          "WeekDay": 0,
          "West": 19,
          "Year": 2012
         },
         {
          "Date2": "2012-11-12 14:00:00",
          "DateString": "11/12/2012 02:00:00 PM",
          "East": 26,
          "Hour": 14,
          "JulianDay": 40,
          "WeekDay": 0,
          "West": 34,
          "Year": 2012
         },
         {
          "Date2": "2012-11-12 15:00:00",
          "DateString": "11/12/2012 03:00:00 PM",
          "East": 44,
          "Hour": 15,
          "JulianDay": 40,
          "WeekDay": 0,
          "West": 36,
          "Year": 2012
         },
         {
          "Date2": "2012-11-12 16:00:00",
          "DateString": "11/12/2012 04:00:00 PM",
          "East": 76,
          "Hour": 16,
          "JulianDay": 40,
          "WeekDay": 0,
          "West": 62,
          "Year": 2012
         },
         {
          "Date2": "2012-11-12 17:00:00",
          "DateString": "11/12/2012 05:00:00 PM",
          "East": 178,
          "Hour": 17,
          "JulianDay": 40,
          "WeekDay": 0,
          "West": 83,
          "Year": 2012
         },
         {
          "Date2": "2012-11-12 18:00:00",
          "DateString": "11/12/2012 06:00:00 PM",
          "East": 113,
          "Hour": 18,
          "JulianDay": 40,
          "WeekDay": 0,
          "West": 63,
          "Year": 2012
         },
         {
          "Date2": "2012-11-12 19:00:00",
          "DateString": "11/12/2012 07:00:00 PM",
          "East": 45,
          "Hour": 19,
          "JulianDay": 40,
          "WeekDay": 0,
          "West": 23,
          "Year": 2012
         },
         {
          "Date2": "2012-11-12 20:00:00",
          "DateString": "11/12/2012 08:00:00 PM",
          "East": 16,
          "Hour": 20,
          "JulianDay": 40,
          "WeekDay": 0,
          "West": 7,
          "Year": 2012
         },
         {
          "Date2": "2012-11-12 21:00:00",
          "DateString": "11/12/2012 09:00:00 PM",
          "East": 15,
          "Hour": 21,
          "JulianDay": 40,
          "WeekDay": 0,
          "West": 11,
          "Year": 2012
         },
         {
          "Date2": "2012-11-12 22:00:00",
          "DateString": "11/12/2012 10:00:00 PM",
          "East": 11,
          "Hour": 22,
          "JulianDay": 40,
          "WeekDay": 0,
          "West": 13,
          "Year": 2012
         },
         {
          "Date2": "2012-11-12 23:00:00",
          "DateString": "11/12/2012 11:00:00 PM",
          "East": 10,
          "Hour": 23,
          "JulianDay": 40,
          "WeekDay": 0,
          "West": 7,
          "Year": 2012
         },
         {
          "Date2": "2012-11-13 00:00:00",
          "DateString": "11/13/2012 12:00:00 AM",
          "East": 5,
          "Hour": 0,
          "JulianDay": 41,
          "WeekDay": 1,
          "West": 4,
          "Year": 2012
         },
         {
          "Date2": "2012-11-13 01:00:00",
          "DateString": "11/13/2012 01:00:00 AM",
          "East": 2,
          "Hour": 1,
          "JulianDay": 41,
          "WeekDay": 1,
          "West": 1,
          "Year": 2012
         },
         {
          "Date2": "2012-11-13 02:00:00",
          "DateString": "11/13/2012 02:00:00 AM",
          "East": 1,
          "Hour": 2,
          "JulianDay": 41,
          "WeekDay": 1,
          "West": 3,
          "Year": 2012
         },
         {
          "Date2": "2012-11-13 03:00:00",
          "DateString": "11/13/2012 03:00:00 AM",
          "East": 1,
          "Hour": 3,
          "JulianDay": 41,
          "WeekDay": 1,
          "West": 1,
          "Year": 2012
         },
         {
          "Date2": "2012-11-13 04:00:00",
          "DateString": "11/13/2012 04:00:00 AM",
          "East": 2,
          "Hour": 4,
          "JulianDay": 41,
          "WeekDay": 1,
          "West": 6,
          "Year": 2012
         },
         {
          "Date2": "2012-11-13 05:00:00",
          "DateString": "11/13/2012 05:00:00 AM",
          "East": 8,
          "Hour": 5,
          "JulianDay": 41,
          "WeekDay": 1,
          "West": 17,
          "Year": 2012
         },
         {
          "Date2": "2012-11-13 06:00:00",
          "DateString": "11/13/2012 06:00:00 AM",
          "East": 37,
          "Hour": 6,
          "JulianDay": 41,
          "WeekDay": 1,
          "West": 76,
          "Year": 2012
         },
         {
          "Date2": "2012-11-13 07:00:00",
          "DateString": "11/13/2012 07:00:00 AM",
          "East": 66,
          "Hour": 7,
          "JulianDay": 41,
          "WeekDay": 1,
          "West": 180,
          "Year": 2012
         },
         {
          "Date2": "2012-11-13 08:00:00",
          "DateString": "11/13/2012 08:00:00 AM",
          "East": 100,
          "Hour": 8,
          "JulianDay": 41,
          "WeekDay": 1,
          "West": 218,
          "Year": 2012
         },
         {
          "Date2": "2012-11-13 09:00:00",
          "DateString": "11/13/2012 09:00:00 AM",
          "East": 67,
          "Hour": 9,
          "JulianDay": 41,
          "WeekDay": 1,
          "West": 104,
          "Year": 2012
         },
         {
          "Date2": "2012-11-13 10:00:00",
          "DateString": "11/13/2012 10:00:00 AM",
          "East": 26,
          "Hour": 10,
          "JulianDay": 41,
          "WeekDay": 1,
          "West": 30,
          "Year": 2012
         },
         {
          "Date2": "2012-11-13 11:00:00",
          "DateString": "11/13/2012 11:00:00 AM",
          "East": 18,
          "Hour": 11,
          "JulianDay": 41,
          "WeekDay": 1,
          "West": 34,
          "Year": 2012
         },
         {
          "Date2": "2012-11-13 12:00:00",
          "DateString": "11/13/2012 12:00:00 PM",
          "East": 6,
          "Hour": 12,
          "JulianDay": 41,
          "WeekDay": 1,
          "West": 22,
          "Year": 2012
         },
         {
          "Date2": "2012-11-13 13:00:00",
          "DateString": "11/13/2012 01:00:00 PM",
          "East": 20,
          "Hour": 13,
          "JulianDay": 41,
          "WeekDay": 1,
          "West": 21,
          "Year": 2012
         },
         {
          "Date2": "2012-11-13 14:00:00",
          "DateString": "11/13/2012 02:00:00 PM",
          "East": 30,
          "Hour": 14,
          "JulianDay": 41,
          "WeekDay": 1,
          "West": 21,
          "Year": 2012
         },
         {
          "Date2": "2012-11-13 15:00:00",
          "DateString": "11/13/2012 03:00:00 PM",
          "East": 38,
          "Hour": 15,
          "JulianDay": 41,
          "WeekDay": 1,
          "West": 37,
          "Year": 2012
         }
        ]
       },
       "encoding": {
        "color": {
         "field": "JulianDay",
         "legend": null,
         "scale": {
          "range": [
           "red"
          ]
         },
         "type": "ordinal"
        },
        "x": {
         "field": "Hour",
         "type": "quantitative"
        },
        "y": {
         "field": "East",
         "type": "quantitative"
        }
       },
       "mark": {
        "opacity": 0.1,
        "type": "line"
       }
      },
      "image/png": "[encoded data removed]",
      "text/plain": [
       "<VegaLite 2 object>\n",
       "\n",
       "If you see this message, it means the renderer has not been properly enabled\n",
       "for the frontend that you are using. For more information, see\n",
       "https://altair-viz.github.io/user_guide/troubleshooting.html\n"
      ]
     },
     "execution_count": 27,
     "metadata": {},
     "output_type": "execute_result"
    }
   ],
   "source": [
    "c3 = alt.Chart(bike2_df[0:1000]).mark_line(opacity=0.1).encode(\n",
    "    x=alt.X('Hour:Q'),\n",
    "    y='East:Q',\n",
    "    color=alt.Color('JulianDay:O',  legend=None, scale=alt.Scale(range=['red'])))\n",
    "c3"
   ]
  },
  {
   "cell_type": "code",
   "execution_count": 28,
   "metadata": {},
   "outputs": [],
   "source": [
    "c3.save('singleColorRangeOrdinal.png')\n",
    "c2.save('singleColorRangeQuant.png')\n",
    "c1.save('singleColorRangeNominal.png')"
   ]
  },
  {
   "cell_type": "code",
   "execution_count": null,
   "metadata": {},
   "outputs": [],
   "source": []
  }
 ],
 "metadata": {
  "kernelspec": {
   "display_name": "Python [conda env:root36]",
   "language": "python",
   "name": "conda-env-root36-py"
  },
  "language_info": {
   "codemirror_mode": {
    "name": "ipython",
    "version": 3
   },
   "file_extension": ".py",
   "mimetype": "text/x-python",
   "name": "python",
   "nbconvert_exporter": "python",
   "pygments_lexer": "ipython3",
   "version": "3.6.3"
  }
 },
 "nbformat": 4,
 "nbformat_minor": 2
}
