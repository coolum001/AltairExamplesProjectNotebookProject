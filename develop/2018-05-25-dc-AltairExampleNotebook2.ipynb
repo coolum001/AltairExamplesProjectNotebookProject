{
 "cells": [
  {
   "cell_type": "markdown",
   "metadata": {
    "toc": true
   },
   "source": [
    "<h1>Table of Contents<span class=\"tocSkip\"></span></h1>\n",
    "<div class=\"toc\"><ul class=\"toc-item\"><li><span><a href=\"#Contents-of-Notebook\" data-toc-modified-id=\"Contents-of-Notebook-1\"><span class=\"toc-item-num\">1&nbsp;&nbsp;</span>Contents of Notebook</a></span><ul class=\"toc-item\"><li><span><a href=\"#Notebook-magic-commands\" data-toc-modified-id=\"Notebook-magic-commands-1.1\"><span class=\"toc-item-num\">1.1&nbsp;&nbsp;</span>Notebook magic commands</a></span></li><li><span><a href=\"#Notebook-imports\" data-toc-modified-id=\"Notebook-imports-1.2\"><span class=\"toc-item-num\">1.2&nbsp;&nbsp;</span>Notebook imports</a></span></li><li><span><a href=\"#Notebook-version-status\" data-toc-modified-id=\"Notebook-version-status-1.3\"><span class=\"toc-item-num\">1.3&nbsp;&nbsp;</span>Notebook version status</a></span></li><li><span><a href=\"#Customizations-for-notebook\" data-toc-modified-id=\"Customizations-for-notebook-1.4\"><span class=\"toc-item-num\">1.4&nbsp;&nbsp;</span>Customizations for notebook</a></span></li><li><span><a href=\"#Required-notebooks-to-be-run-first\" data-toc-modified-id=\"Required-notebooks-to-be-run-first-1.5\"><span class=\"toc-item-num\">1.5&nbsp;&nbsp;</span>Required notebooks to be run first</a></span></li><li><span><a href=\"#Display-associated-webpages-(eg-source-of-data)\" data-toc-modified-id=\"Display-associated-webpages-(eg-source-of-data)-1.6\"><span class=\"toc-item-num\">1.6&nbsp;&nbsp;</span>Display associated webpages (eg source of data)</a></span></li><li><span><a href=\"#Save-figures-to-figures-directory\" data-toc-modified-id=\"Save-figures-to-figures-directory-1.7\"><span class=\"toc-item-num\">1.7&nbsp;&nbsp;</span>Save figures to figures directory</a></span></li><li><span><a href=\"#Display-images\" data-toc-modified-id=\"Display-images-1.8\"><span class=\"toc-item-num\">1.8&nbsp;&nbsp;</span>Display images</a></span></li></ul></li><li><span><a href=\"#Conclusions-/-Summary\" data-toc-modified-id=\"Conclusions-/-Summary-2\"><span class=\"toc-item-num\">2&nbsp;&nbsp;</span>Conclusions / Summary</a></span></li></ul></div>"
   ]
  },
  {
   "cell_type": "markdown",
   "metadata": {},
   "source": [
    "# Jupyter Notebook Title"
   ]
  },
  {
   "cell_type": "markdown",
   "metadata": {},
   "source": [
    "## Contents of Notebook\n",
    "Description of contents:\n",
    "\n",
    "Example of Altair usage for visualization\n",
    "\n",
    "Author: Don Cameron\n",
    "\n",
    "Contact: donrcameron@gmail.com, +61 (0) 413208746"
   ]
  },
  {
   "cell_type": "markdown",
   "metadata": {},
   "source": [
    "### Notebook magic commands"
   ]
  },
  {
   "cell_type": "code",
   "execution_count": 1,
   "metadata": {},
   "outputs": [],
   "source": [
    "#  %matplotlib inline\n"
   ]
  },
  {
   "cell_type": "markdown",
   "metadata": {},
   "source": [
    "### Notebook imports"
   ]
  },
  {
   "cell_type": "code",
   "execution_count": 1,
   "metadata": {},
   "outputs": [],
   "source": [
    "# all imports should go here\n",
    "\n",
    "import pandas as pd\n",
    "import sys\n",
    "import os\n",
    "import subprocess\n",
    "import datetime\n",
    "import platform\n",
    "import datetime\n",
    "\n",
    "import numpy as np\n",
    "import pandas as pd\n",
    "import geopandas as gpd\n",
    "\n",
    "# import matplotlib.pyplot\n",
    "\n",
    "import altair as alt\n",
    "import vega_datasets"
   ]
  },
  {
   "cell_type": "markdown",
   "metadata": {},
   "source": [
    "### Notebook version status"
   ]
  },
  {
   "cell_type": "code",
   "execution_count": 2,
   "metadata": {},
   "outputs": [],
   "source": [
    "# hard code the notebook name, until javascript hack works in jupyterlab \n",
    "theNotebook = '2018-05-25-dc-AltairExampleNotebook'"
   ]
  },
  {
   "cell_type": "code",
   "execution_count": 3,
   "metadata": {},
   "outputs": [
    {
     "data": {
      "application/javascript": [
       "var kernel = IPython.notebook.kernel;\n",
       "var thename = window.document.getElementById(\"notebook_name\").innerHTML;\n",
       "var command = \"theNotebook = \" + \"'\"+thename+\"'\";\n",
       "kernel.execute(command);"
      ],
      "text/plain": [
       "<IPython.core.display.Javascript object>"
      ]
     },
     "metadata": {},
     "output_type": "display_data"
    }
   ],
   "source": [
    "%%javascript\n",
    "var kernel = IPython.notebook.kernel;\n",
    "var thename = window.document.getElementById(\"notebook_name\").innerHTML;\n",
    "var command = \"theNotebook = \" + \"'\"+thename+\"'\";\n",
    "kernel.execute(command);"
   ]
  },
  {
   "cell_type": "markdown",
   "metadata": {},
   "source": [
    "### Show reproducability related information"
   ]
  },
  {
   "cell_type": "code",
   "execution_count": 4,
   "metadata": {},
   "outputs": [
    {
     "name": "stdout",
     "output_type": "stream",
     "text": [
      "python version : 3.6.3 | packaged by conda-forge | (default, Nov  4 2017, 10:10:42) [MSC v.1900 64 bit (AMD64)]\n",
      "python environment : root36\n",
      "pandas version : 0.22.0\n",
      "current wkg dir: C:\\Users\\donrc\\Documents\\JupyterNotebooks\\AltairExamplesProjectNotebookProject\\develop\n",
      "Notebook name: 2018-05-25-dc-AltairExampleNotebook\n",
      "Notebook run at: 2018-06-22 17:38:48.985879 local time\n",
      "Notebook run at: 2018-06-22 07:38:48.985879 UTC\n",
      "Notebook run on: Windows-10-10.0.17134-SP0\n"
     ]
    }
   ],
   "source": [
    "# show info to support reproducability\n",
    "\n",
    "def python_env_name():\n",
    "    envs = subprocess.check_output('conda env list').splitlines()\n",
    "    # get unicode version of binary subprocess output\n",
    "    envu = [x.decode('ascii') for x in envs]\n",
    "    active_env = list(filter(lambda s: '*' in str(s), envu))[0]\n",
    "    env_name = str(active_env).split()[0]\n",
    "    return env_name\n",
    "#end python_env_name\n",
    "\n",
    "print('python version : ' + sys.version)\n",
    "print('python environment :', python_env_name())\n",
    "print('pandas version : ' + pd.__version__)\n",
    "\n",
    "print('current wkg dir: ' + os.getcwd())\n",
    "print('Notebook name: ' + theNotebook)\n",
    "print('Notebook run at: ' + str(datetime.datetime.now())+ ' local time')\n",
    "print('Notebook run at: ' + str(datetime.datetime.utcnow()) + ' UTC') \n",
    "print('Notebook run on: ' + platform.platform())\n"
   ]
  },
  {
   "cell_type": "markdown",
   "metadata": {},
   "source": [
    "### Customizations for notebook"
   ]
  },
  {
   "cell_type": "code",
   "execution_count": 6,
   "metadata": {},
   "outputs": [],
   "source": [
    "# path to saved figures\n",
    "FIGURE_PREFIX = '../figures/'"
   ]
  },
  {
   "cell_type": "markdown",
   "metadata": {},
   "source": [
    "### Required notebooks to be run first"
   ]
  },
  {
   "cell_type": "code",
   "execution_count": 43,
   "metadata": {},
   "outputs": [],
   "source": [
    "pass"
   ]
  },
  {
   "cell_type": "markdown",
   "metadata": {},
   "source": [
    "## Example Altair charts\n",
    "### Scatter plot with points color coded"
   ]
  },
  {
   "cell_type": "code",
   "execution_count": 44,
   "metadata": {},
   "outputs": [],
   "source": [
    "cars = vega_datasets.data.cars()"
   ]
  },
  {
   "cell_type": "code",
   "execution_count": 45,
   "metadata": {},
   "outputs": [
    {
     "data": {
      "text/html": [
       "<div>\n",
       "<style scoped>\n",
       "    .dataframe tbody tr th:only-of-type {\n",
       "        vertical-align: middle;\n",
       "    }\n",
       "\n",
       "    .dataframe tbody tr th {\n",
       "        vertical-align: top;\n",
       "    }\n",
       "\n",
       "    .dataframe thead th {\n",
       "        text-align: right;\n",
       "    }\n",
       "</style>\n",
       "<table border=\"1\" class=\"dataframe\">\n",
       "  <thead>\n",
       "    <tr style=\"text-align: right;\">\n",
       "      <th></th>\n",
       "      <th>Acceleration</th>\n",
       "      <th>Cylinders</th>\n",
       "      <th>Displacement</th>\n",
       "      <th>Horsepower</th>\n",
       "      <th>Miles_per_Gallon</th>\n",
       "      <th>Name</th>\n",
       "      <th>Origin</th>\n",
       "      <th>Weight_in_lbs</th>\n",
       "      <th>Year</th>\n",
       "    </tr>\n",
       "  </thead>\n",
       "  <tbody>\n",
       "    <tr>\n",
       "      <th>0</th>\n",
       "      <td>12.0</td>\n",
       "      <td>8</td>\n",
       "      <td>307.0</td>\n",
       "      <td>130.0</td>\n",
       "      <td>18.0</td>\n",
       "      <td>chevrolet chevelle malibu</td>\n",
       "      <td>USA</td>\n",
       "      <td>3504</td>\n",
       "      <td>1970-01-01</td>\n",
       "    </tr>\n",
       "    <tr>\n",
       "      <th>1</th>\n",
       "      <td>11.5</td>\n",
       "      <td>8</td>\n",
       "      <td>350.0</td>\n",
       "      <td>165.0</td>\n",
       "      <td>15.0</td>\n",
       "      <td>buick skylark 320</td>\n",
       "      <td>USA</td>\n",
       "      <td>3693</td>\n",
       "      <td>1970-01-01</td>\n",
       "    </tr>\n",
       "    <tr>\n",
       "      <th>2</th>\n",
       "      <td>11.0</td>\n",
       "      <td>8</td>\n",
       "      <td>318.0</td>\n",
       "      <td>150.0</td>\n",
       "      <td>18.0</td>\n",
       "      <td>plymouth satellite</td>\n",
       "      <td>USA</td>\n",
       "      <td>3436</td>\n",
       "      <td>1970-01-01</td>\n",
       "    </tr>\n",
       "    <tr>\n",
       "      <th>3</th>\n",
       "      <td>12.0</td>\n",
       "      <td>8</td>\n",
       "      <td>304.0</td>\n",
       "      <td>150.0</td>\n",
       "      <td>16.0</td>\n",
       "      <td>amc rebel sst</td>\n",
       "      <td>USA</td>\n",
       "      <td>3433</td>\n",
       "      <td>1970-01-01</td>\n",
       "    </tr>\n",
       "    <tr>\n",
       "      <th>4</th>\n",
       "      <td>10.5</td>\n",
       "      <td>8</td>\n",
       "      <td>302.0</td>\n",
       "      <td>140.0</td>\n",
       "      <td>17.0</td>\n",
       "      <td>ford torino</td>\n",
       "      <td>USA</td>\n",
       "      <td>3449</td>\n",
       "      <td>1970-01-01</td>\n",
       "    </tr>\n",
       "  </tbody>\n",
       "</table>\n",
       "</div>"
      ],
      "text/plain": [
       "   Acceleration  Cylinders  Displacement  Horsepower  Miles_per_Gallon  \\\n",
       "0          12.0          8         307.0       130.0              18.0   \n",
       "1          11.5          8         350.0       165.0              15.0   \n",
       "2          11.0          8         318.0       150.0              18.0   \n",
       "3          12.0          8         304.0       150.0              16.0   \n",
       "4          10.5          8         302.0       140.0              17.0   \n",
       "\n",
       "                        Name Origin  Weight_in_lbs       Year  \n",
       "0  chevrolet chevelle malibu    USA           3504 1970-01-01  \n",
       "1          buick skylark 320    USA           3693 1970-01-01  \n",
       "2         plymouth satellite    USA           3436 1970-01-01  \n",
       "3              amc rebel sst    USA           3433 1970-01-01  \n",
       "4                ford torino    USA           3449 1970-01-01  "
      ]
     },
     "execution_count": 45,
     "metadata": {},
     "output_type": "execute_result"
    }
   ],
   "source": [
    "cars.head()"
   ]
  },
  {
   "cell_type": "code",
   "execution_count": 46,
   "metadata": {},
   "outputs": [
    {
     "data": {
      "application/vnd.vegalite.v2+json": {
       "$schema": "https://vega.github.io/schema/vega-lite/v2.4.1.json",
       "config": {
        "view": {
         "height": 300,
         "width": 400
        }
       },
       "data": {
        "values": [
         {
          "Acceleration": 12,
          "Cylinders": 8,
          "Displacement": 307,
          "Horsepower": 130,
          "Miles_per_Gallon": 18,
          "Name": "chevrolet chevelle malibu",
          "Origin": "USA",
          "Weight_in_lbs": 3504,
          "Year": "1970-01-01"
         },
         {
          "Acceleration": 11.5,
          "Cylinders": 8,
          "Displacement": 350,
          "Horsepower": 165,
          "Miles_per_Gallon": 15,
          "Name": "buick skylark 320",
          "Origin": "USA",
          "Weight_in_lbs": 3693,
          "Year": "1970-01-01"
         },
         {
          "Acceleration": 11,
          "Cylinders": 8,
          "Displacement": 318,
          "Horsepower": 150,
          "Miles_per_Gallon": 18,
          "Name": "plymouth satellite",
          "Origin": "USA",
          "Weight_in_lbs": 3436,
          "Year": "1970-01-01"
         },
         {
          "Acceleration": 12,
          "Cylinders": 8,
          "Displacement": 304,
          "Horsepower": 150,
          "Miles_per_Gallon": 16,
          "Name": "amc rebel sst",
          "Origin": "USA",
          "Weight_in_lbs": 3433,
          "Year": "1970-01-01"
         },
         {
          "Acceleration": 10.5,
          "Cylinders": 8,
          "Displacement": 302,
          "Horsepower": 140,
          "Miles_per_Gallon": 17,
          "Name": "ford torino",
          "Origin": "USA",
          "Weight_in_lbs": 3449,
          "Year": "1970-01-01"
         },
         {
          "Acceleration": 10,
          "Cylinders": 8,
          "Displacement": 429,
          "Horsepower": 198,
          "Miles_per_Gallon": 15,
          "Name": "ford galaxie 500",
          "Origin": "USA",
          "Weight_in_lbs": 4341,
          "Year": "1970-01-01"
         },
         {
          "Acceleration": 9,
          "Cylinders": 8,
          "Displacement": 454,
          "Horsepower": 220,
          "Miles_per_Gallon": 14,
          "Name": "chevrolet impala",
          "Origin": "USA",
          "Weight_in_lbs": 4354,
          "Year": "1970-01-01"
         },
         {
          "Acceleration": 8.5,
          "Cylinders": 8,
          "Displacement": 440,
          "Horsepower": 215,
          "Miles_per_Gallon": 14,
          "Name": "plymouth fury iii",
          "Origin": "USA",
          "Weight_in_lbs": 4312,
          "Year": "1970-01-01"
         },
         {
          "Acceleration": 10,
          "Cylinders": 8,
          "Displacement": 455,
          "Horsepower": 225,
          "Miles_per_Gallon": 14,
          "Name": "pontiac catalina",
          "Origin": "USA",
          "Weight_in_lbs": 4425,
          "Year": "1970-01-01"
         },
         {
          "Acceleration": 8.5,
          "Cylinders": 8,
          "Displacement": 390,
          "Horsepower": 190,
          "Miles_per_Gallon": 15,
          "Name": "amc ambassador dpl",
          "Origin": "USA",
          "Weight_in_lbs": 3850,
          "Year": "1970-01-01"
         },
         {
          "Acceleration": 17.5,
          "Cylinders": 4,
          "Displacement": 133,
          "Horsepower": 115,
          "Miles_per_Gallon": null,
          "Name": "citroen ds-21 pallas",
          "Origin": "Europe",
          "Weight_in_lbs": 3090,
          "Year": "1970-01-01"
         },
         {
          "Acceleration": 11.5,
          "Cylinders": 8,
          "Displacement": 350,
          "Horsepower": 165,
          "Miles_per_Gallon": null,
          "Name": "chevrolet chevelle concours (sw)",
          "Origin": "USA",
          "Weight_in_lbs": 4142,
          "Year": "1970-01-01"
         },
         {
          "Acceleration": 11,
          "Cylinders": 8,
          "Displacement": 351,
          "Horsepower": 153,
          "Miles_per_Gallon": null,
          "Name": "ford torino (sw)",
          "Origin": "USA",
          "Weight_in_lbs": 4034,
          "Year": "1970-01-01"
         },
         {
          "Acceleration": 10.5,
          "Cylinders": 8,
          "Displacement": 383,
          "Horsepower": 175,
          "Miles_per_Gallon": null,
          "Name": "plymouth satellite (sw)",
          "Origin": "USA",
          "Weight_in_lbs": 4166,
          "Year": "1970-01-01"
         },
         {
          "Acceleration": 11,
          "Cylinders": 8,
          "Displacement": 360,
          "Horsepower": 175,
          "Miles_per_Gallon": null,
          "Name": "amc rebel sst (sw)",
          "Origin": "USA",
          "Weight_in_lbs": 3850,
          "Year": "1970-01-01"
         },
         {
          "Acceleration": 10,
          "Cylinders": 8,
          "Displacement": 383,
          "Horsepower": 170,
          "Miles_per_Gallon": 15,
          "Name": "dodge challenger se",
          "Origin": "USA",
          "Weight_in_lbs": 3563,
          "Year": "1970-01-01"
         },
         {
          "Acceleration": 8,
          "Cylinders": 8,
          "Displacement": 340,
          "Horsepower": 160,
          "Miles_per_Gallon": 14,
          "Name": "plymouth 'cuda 340",
          "Origin": "USA",
          "Weight_in_lbs": 3609,
          "Year": "1970-01-01"
         },
         {
          "Acceleration": 8,
          "Cylinders": 8,
          "Displacement": 302,
          "Horsepower": 140,
          "Miles_per_Gallon": null,
          "Name": "ford mustang boss 302",
          "Origin": "USA",
          "Weight_in_lbs": 3353,
          "Year": "1970-01-01"
         },
         {
          "Acceleration": 9.5,
          "Cylinders": 8,
          "Displacement": 400,
          "Horsepower": 150,
          "Miles_per_Gallon": 15,
          "Name": "chevrolet monte carlo",
          "Origin": "USA",
          "Weight_in_lbs": 3761,
          "Year": "1970-01-01"
         },
         {
          "Acceleration": 10,
          "Cylinders": 8,
          "Displacement": 455,
          "Horsepower": 225,
          "Miles_per_Gallon": 14,
          "Name": "buick estate wagon (sw)",
          "Origin": "USA",
          "Weight_in_lbs": 3086,
          "Year": "1970-01-01"
         },
         {
          "Acceleration": 15,
          "Cylinders": 4,
          "Displacement": 113,
          "Horsepower": 95,
          "Miles_per_Gallon": 24,
          "Name": "toyota corona mark ii",
          "Origin": "Japan",
          "Weight_in_lbs": 2372,
          "Year": "1970-01-01"
         },
         {
          "Acceleration": 15.5,
          "Cylinders": 6,
          "Displacement": 198,
          "Horsepower": 95,
          "Miles_per_Gallon": 22,
          "Name": "plymouth duster",
          "Origin": "USA",
          "Weight_in_lbs": 2833,
          "Year": "1970-01-01"
         },
         {
          "Acceleration": 15.5,
          "Cylinders": 6,
          "Displacement": 199,
          "Horsepower": 97,
          "Miles_per_Gallon": 18,
          "Name": "amc hornet",
          "Origin": "USA",
          "Weight_in_lbs": 2774,
          "Year": "1970-01-01"
         },
         {
          "Acceleration": 16,
          "Cylinders": 6,
          "Displacement": 200,
          "Horsepower": 85,
          "Miles_per_Gallon": 21,
          "Name": "ford maverick",
          "Origin": "USA",
          "Weight_in_lbs": 2587,
          "Year": "1970-01-01"
         },
         {
          "Acceleration": 14.5,
          "Cylinders": 4,
          "Displacement": 97,
          "Horsepower": 88,
          "Miles_per_Gallon": 27,
          "Name": "datsun pl510",
          "Origin": "Japan",
          "Weight_in_lbs": 2130,
          "Year": "1970-01-01"
         },
         {
          "Acceleration": 20.5,
          "Cylinders": 4,
          "Displacement": 97,
          "Horsepower": 46,
          "Miles_per_Gallon": 26,
          "Name": "volkswagen 1131 deluxe sedan",
          "Origin": "Europe",
          "Weight_in_lbs": 1835,
          "Year": "1970-01-01"
         },
         {
          "Acceleration": 17.5,
          "Cylinders": 4,
          "Displacement": 110,
          "Horsepower": 87,
          "Miles_per_Gallon": 25,
          "Name": "peugeot 504",
          "Origin": "Europe",
          "Weight_in_lbs": 2672,
          "Year": "1970-01-01"
         },
         {
          "Acceleration": 14.5,
          "Cylinders": 4,
          "Displacement": 107,
          "Horsepower": 90,
          "Miles_per_Gallon": 24,
          "Name": "audi 100 ls",
          "Origin": "Europe",
          "Weight_in_lbs": 2430,
          "Year": "1970-01-01"
         },
         {
          "Acceleration": 17.5,
          "Cylinders": 4,
          "Displacement": 104,
          "Horsepower": 95,
          "Miles_per_Gallon": 25,
          "Name": "saab 99e",
          "Origin": "Europe",
          "Weight_in_lbs": 2375,
          "Year": "1970-01-01"
         },
         {
          "Acceleration": 12.5,
          "Cylinders": 4,
          "Displacement": 121,
          "Horsepower": 113,
          "Miles_per_Gallon": 26,
          "Name": "bmw 2002",
          "Origin": "Europe",
          "Weight_in_lbs": 2234,
          "Year": "1970-01-01"
         },
         {
          "Acceleration": 15,
          "Cylinders": 6,
          "Displacement": 199,
          "Horsepower": 90,
          "Miles_per_Gallon": 21,
          "Name": "amc gremlin",
          "Origin": "USA",
          "Weight_in_lbs": 2648,
          "Year": "1970-01-01"
         },
         {
          "Acceleration": 14,
          "Cylinders": 8,
          "Displacement": 360,
          "Horsepower": 215,
          "Miles_per_Gallon": 10,
          "Name": "ford f250",
          "Origin": "USA",
          "Weight_in_lbs": 4615,
          "Year": "1970-01-01"
         },
         {
          "Acceleration": 15,
          "Cylinders": 8,
          "Displacement": 307,
          "Horsepower": 200,
          "Miles_per_Gallon": 10,
          "Name": "chevy c20",
          "Origin": "USA",
          "Weight_in_lbs": 4376,
          "Year": "1970-01-01"
         },
         {
          "Acceleration": 13.5,
          "Cylinders": 8,
          "Displacement": 318,
          "Horsepower": 210,
          "Miles_per_Gallon": 11,
          "Name": "dodge d200",
          "Origin": "USA",
          "Weight_in_lbs": 4382,
          "Year": "1970-01-01"
         },
         {
          "Acceleration": 18.5,
          "Cylinders": 8,
          "Displacement": 304,
          "Horsepower": 193,
          "Miles_per_Gallon": 9,
          "Name": "hi 1200d",
          "Origin": "USA",
          "Weight_in_lbs": 4732,
          "Year": "1970-01-01"
         },
         {
          "Acceleration": 14.5,
          "Cylinders": 4,
          "Displacement": 97,
          "Horsepower": 88,
          "Miles_per_Gallon": 27,
          "Name": "datsun pl510",
          "Origin": "Japan",
          "Weight_in_lbs": 2130,
          "Year": "1971-01-01"
         },
         {
          "Acceleration": 15.5,
          "Cylinders": 4,
          "Displacement": 140,
          "Horsepower": 90,
          "Miles_per_Gallon": 28,
          "Name": "chevrolet vega 2300",
          "Origin": "USA",
          "Weight_in_lbs": 2264,
          "Year": "1971-01-01"
         },
         {
          "Acceleration": 14,
          "Cylinders": 4,
          "Displacement": 113,
          "Horsepower": 95,
          "Miles_per_Gallon": 25,
          "Name": "toyota corona",
          "Origin": "Japan",
          "Weight_in_lbs": 2228,
          "Year": "1971-01-01"
         },
         {
          "Acceleration": 19,
          "Cylinders": 4,
          "Displacement": 98,
          "Horsepower": null,
          "Miles_per_Gallon": 25,
          "Name": "ford pinto",
          "Origin": "USA",
          "Weight_in_lbs": 2046,
          "Year": "1971-01-01"
         },
         {
          "Acceleration": 20,
          "Cylinders": 4,
          "Displacement": 97,
          "Horsepower": 48,
          "Miles_per_Gallon": null,
          "Name": "volkswagen super beetle 117",
          "Origin": "Europe",
          "Weight_in_lbs": 1978,
          "Year": "1971-01-01"
         },
         {
          "Acceleration": 13,
          "Cylinders": 6,
          "Displacement": 232,
          "Horsepower": 100,
          "Miles_per_Gallon": 19,
          "Name": "amc gremlin",
          "Origin": "USA",
          "Weight_in_lbs": 2634,
          "Year": "1971-01-01"
         },
         {
          "Acceleration": 15.5,
          "Cylinders": 6,
          "Displacement": 225,
          "Horsepower": 105,
          "Miles_per_Gallon": 16,
          "Name": "plymouth satellite custom",
          "Origin": "USA",
          "Weight_in_lbs": 3439,
          "Year": "1971-01-01"
         },
         {
          "Acceleration": 15.5,
          "Cylinders": 6,
          "Displacement": 250,
          "Horsepower": 100,
          "Miles_per_Gallon": 17,
          "Name": "chevrolet chevelle malibu",
          "Origin": "USA",
          "Weight_in_lbs": 3329,
          "Year": "1971-01-01"
         },
         {
          "Acceleration": 15.5,
          "Cylinders": 6,
          "Displacement": 250,
          "Horsepower": 88,
          "Miles_per_Gallon": 19,
          "Name": "ford torino 500",
          "Origin": "USA",
          "Weight_in_lbs": 3302,
          "Year": "1971-01-01"
         },
         {
          "Acceleration": 15.5,
          "Cylinders": 6,
          "Displacement": 232,
          "Horsepower": 100,
          "Miles_per_Gallon": 18,
          "Name": "amc matador",
          "Origin": "USA",
          "Weight_in_lbs": 3288,
          "Year": "1971-01-01"
         },
         {
          "Acceleration": 12,
          "Cylinders": 8,
          "Displacement": 350,
          "Horsepower": 165,
          "Miles_per_Gallon": 14,
          "Name": "chevrolet impala",
          "Origin": "USA",
          "Weight_in_lbs": 4209,
          "Year": "1971-01-01"
         },
         {
          "Acceleration": 11.5,
          "Cylinders": 8,
          "Displacement": 400,
          "Horsepower": 175,
          "Miles_per_Gallon": 14,
          "Name": "pontiac catalina brougham",
          "Origin": "USA",
          "Weight_in_lbs": 4464,
          "Year": "1971-01-01"
         },
         {
          "Acceleration": 13.5,
          "Cylinders": 8,
          "Displacement": 351,
          "Horsepower": 153,
          "Miles_per_Gallon": 14,
          "Name": "ford galaxie 500",
          "Origin": "USA",
          "Weight_in_lbs": 4154,
          "Year": "1971-01-01"
         },
         {
          "Acceleration": 13,
          "Cylinders": 8,
          "Displacement": 318,
          "Horsepower": 150,
          "Miles_per_Gallon": 14,
          "Name": "plymouth fury iii",
          "Origin": "USA",
          "Weight_in_lbs": 4096,
          "Year": "1971-01-01"
         },
         {
          "Acceleration": 11.5,
          "Cylinders": 8,
          "Displacement": 383,
          "Horsepower": 180,
          "Miles_per_Gallon": 12,
          "Name": "dodge monaco (sw)",
          "Origin": "USA",
          "Weight_in_lbs": 4955,
          "Year": "1971-01-01"
         },
         {
          "Acceleration": 12,
          "Cylinders": 8,
          "Displacement": 400,
          "Horsepower": 170,
          "Miles_per_Gallon": 13,
          "Name": "ford country squire (sw)",
          "Origin": "USA",
          "Weight_in_lbs": 4746,
          "Year": "1971-01-01"
         },
         {
          "Acceleration": 12,
          "Cylinders": 8,
          "Displacement": 400,
          "Horsepower": 175,
          "Miles_per_Gallon": 13,
          "Name": "pontiac safari (sw)",
          "Origin": "USA",
          "Weight_in_lbs": 5140,
          "Year": "1971-01-01"
         },
         {
          "Acceleration": 13.5,
          "Cylinders": 6,
          "Displacement": 258,
          "Horsepower": 110,
          "Miles_per_Gallon": 18,
          "Name": "amc hornet sportabout (sw)",
          "Origin": "USA",
          "Weight_in_lbs": 2962,
          "Year": "1971-01-01"
         },
         {
          "Acceleration": 19,
          "Cylinders": 4,
          "Displacement": 140,
          "Horsepower": 72,
          "Miles_per_Gallon": 22,
          "Name": "chevrolet vega (sw)",
          "Origin": "USA",
          "Weight_in_lbs": 2408,
          "Year": "1971-01-01"
         },
         {
          "Acceleration": 15,
          "Cylinders": 6,
          "Displacement": 250,
          "Horsepower": 100,
          "Miles_per_Gallon": 19,
          "Name": "pontiac firebird",
          "Origin": "USA",
          "Weight_in_lbs": 3282,
          "Year": "1971-01-01"
         },
         {
          "Acceleration": 14.5,
          "Cylinders": 6,
          "Displacement": 250,
          "Horsepower": 88,
          "Miles_per_Gallon": 18,
          "Name": "ford mustang",
          "Origin": "USA",
          "Weight_in_lbs": 3139,
          "Year": "1971-01-01"
         },
         {
          "Acceleration": 14,
          "Cylinders": 4,
          "Displacement": 122,
          "Horsepower": 86,
          "Miles_per_Gallon": 23,
          "Name": "mercury capri 2000",
          "Origin": "USA",
          "Weight_in_lbs": 2220,
          "Year": "1971-01-01"
         },
         {
          "Acceleration": 14,
          "Cylinders": 4,
          "Displacement": 116,
          "Horsepower": 90,
          "Miles_per_Gallon": 28,
          "Name": "opel 1900",
          "Origin": "Europe",
          "Weight_in_lbs": 2123,
          "Year": "1971-01-01"
         },
         {
          "Acceleration": 19.5,
          "Cylinders": 4,
          "Displacement": 79,
          "Horsepower": 70,
          "Miles_per_Gallon": 30,
          "Name": "peugeot 304",
          "Origin": "Europe",
          "Weight_in_lbs": 2074,
          "Year": "1971-01-01"
         },
         {
          "Acceleration": 14.5,
          "Cylinders": 4,
          "Displacement": 88,
          "Horsepower": 76,
          "Miles_per_Gallon": 30,
          "Name": "fiat 124b",
          "Origin": "Europe",
          "Weight_in_lbs": 2065,
          "Year": "1971-01-01"
         },
         {
          "Acceleration": 19,
          "Cylinders": 4,
          "Displacement": 71,
          "Horsepower": 65,
          "Miles_per_Gallon": 31,
          "Name": "toyota corolla 1200",
          "Origin": "Japan",
          "Weight_in_lbs": 1773,
          "Year": "1971-01-01"
         },
         {
          "Acceleration": 18,
          "Cylinders": 4,
          "Displacement": 72,
          "Horsepower": 69,
          "Miles_per_Gallon": 35,
          "Name": "datsun 1200",
          "Origin": "Japan",
          "Weight_in_lbs": 1613,
          "Year": "1971-01-01"
         },
         {
          "Acceleration": 19,
          "Cylinders": 4,
          "Displacement": 97,
          "Horsepower": 60,
          "Miles_per_Gallon": 27,
          "Name": "volkswagen model 111",
          "Origin": "Europe",
          "Weight_in_lbs": 1834,
          "Year": "1971-01-01"
         },
         {
          "Acceleration": 20.5,
          "Cylinders": 4,
          "Displacement": 91,
          "Horsepower": 70,
          "Miles_per_Gallon": 26,
          "Name": "plymouth cricket",
          "Origin": "USA",
          "Weight_in_lbs": 1955,
          "Year": "1971-01-01"
         },
         {
          "Acceleration": 15.5,
          "Cylinders": 4,
          "Displacement": 113,
          "Horsepower": 95,
          "Miles_per_Gallon": 24,
          "Name": "toyota corona hardtop",
          "Origin": "Japan",
          "Weight_in_lbs": 2278,
          "Year": "1972-01-01"
         },
         {
          "Acceleration": 17,
          "Cylinders": 4,
          "Displacement": 97.5,
          "Horsepower": 80,
          "Miles_per_Gallon": 25,
          "Name": "dodge colt hardtop",
          "Origin": "USA",
          "Weight_in_lbs": 2126,
          "Year": "1972-01-01"
         },
         {
          "Acceleration": 23.5,
          "Cylinders": 4,
          "Displacement": 97,
          "Horsepower": 54,
          "Miles_per_Gallon": 23,
          "Name": "volkswagen type 3",
          "Origin": "Europe",
          "Weight_in_lbs": 2254,
          "Year": "1972-01-01"
         },
         {
          "Acceleration": 19.5,
          "Cylinders": 4,
          "Displacement": 140,
          "Horsepower": 90,
          "Miles_per_Gallon": 20,
          "Name": "chevrolet vega",
          "Origin": "USA",
          "Weight_in_lbs": 2408,
          "Year": "1972-01-01"
         },
         {
          "Acceleration": 16.5,
          "Cylinders": 4,
          "Displacement": 122,
          "Horsepower": 86,
          "Miles_per_Gallon": 21,
          "Name": "ford pinto runabout",
          "Origin": "USA",
          "Weight_in_lbs": 2226,
          "Year": "1972-01-01"
         },
         {
          "Acceleration": 12,
          "Cylinders": 8,
          "Displacement": 350,
          "Horsepower": 165,
          "Miles_per_Gallon": 13,
          "Name": "chevrolet impala",
          "Origin": "USA",
          "Weight_in_lbs": 4274,
          "Year": "1972-01-01"
         },
         {
          "Acceleration": 12,
          "Cylinders": 8,
          "Displacement": 400,
          "Horsepower": 175,
          "Miles_per_Gallon": 14,
          "Name": "pontiac catalina",
          "Origin": "USA",
          "Weight_in_lbs": 4385,
          "Year": "1972-01-01"
         },
         {
          "Acceleration": 13.5,
          "Cylinders": 8,
          "Displacement": 318,
          "Horsepower": 150,
          "Miles_per_Gallon": 15,
          "Name": "plymouth fury iii",
          "Origin": "USA",
          "Weight_in_lbs": 4135,
          "Year": "1972-01-01"
         },
         {
          "Acceleration": 13,
          "Cylinders": 8,
          "Displacement": 351,
          "Horsepower": 153,
          "Miles_per_Gallon": 14,
          "Name": "ford galaxie 500",
          "Origin": "USA",
          "Weight_in_lbs": 4129,
          "Year": "1972-01-01"
         },
         {
          "Acceleration": 11.5,
          "Cylinders": 8,
          "Displacement": 304,
          "Horsepower": 150,
          "Miles_per_Gallon": 17,
          "Name": "amc ambassador sst",
          "Origin": "USA",
          "Weight_in_lbs": 3672,
          "Year": "1972-01-01"
         },
         {
          "Acceleration": 11,
          "Cylinders": 8,
          "Displacement": 429,
          "Horsepower": 208,
          "Miles_per_Gallon": 11,
          "Name": "mercury marquis",
          "Origin": "USA",
          "Weight_in_lbs": 4633,
          "Year": "1972-01-01"
         },
         {
          "Acceleration": 13.5,
          "Cylinders": 8,
          "Displacement": 350,
          "Horsepower": 155,
          "Miles_per_Gallon": 13,
          "Name": "buick lesabre custom",
          "Origin": "USA",
          "Weight_in_lbs": 4502,
          "Year": "1972-01-01"
         },
         {
          "Acceleration": 13.5,
          "Cylinders": 8,
          "Displacement": 350,
          "Horsepower": 160,
          "Miles_per_Gallon": 12,
          "Name": "oldsmobile delta 88 royale",
          "Origin": "USA",
          "Weight_in_lbs": 4456,
          "Year": "1972-01-01"
         },
         {
          "Acceleration": 12.5,
          "Cylinders": 8,
          "Displacement": 400,
          "Horsepower": 190,
          "Miles_per_Gallon": 13,
          "Name": "chrysler newport royal",
          "Origin": "USA",
          "Weight_in_lbs": 4422,
          "Year": "1972-01-01"
         },
         {
          "Acceleration": 13.5,
          "Cylinders": 3,
          "Displacement": 70,
          "Horsepower": 97,
          "Miles_per_Gallon": 19,
          "Name": "mazda rx2 coupe",
          "Origin": "Japan",
          "Weight_in_lbs": 2330,
          "Year": "1972-01-01"
         },
         {
          "Acceleration": 12.5,
          "Cylinders": 8,
          "Displacement": 304,
          "Horsepower": 150,
          "Miles_per_Gallon": 15,
          "Name": "amc matador (sw)",
          "Origin": "USA",
          "Weight_in_lbs": 3892,
          "Year": "1972-01-01"
         },
         {
          "Acceleration": 14,
          "Cylinders": 8,
          "Displacement": 307,
          "Horsepower": 130,
          "Miles_per_Gallon": 13,
          "Name": "chevrolet chevelle concours (sw)",
          "Origin": "USA",
          "Weight_in_lbs": 4098,
          "Year": "1972-01-01"
         },
         {
          "Acceleration": 16,
          "Cylinders": 8,
          "Displacement": 302,
          "Horsepower": 140,
          "Miles_per_Gallon": 13,
          "Name": "ford gran torino (sw)",
          "Origin": "USA",
          "Weight_in_lbs": 4294,
          "Year": "1972-01-01"
         },
         {
          "Acceleration": 14,
          "Cylinders": 8,
          "Displacement": 318,
          "Horsepower": 150,
          "Miles_per_Gallon": 14,
          "Name": "plymouth satellite custom (sw)",
          "Origin": "USA",
          "Weight_in_lbs": 4077,
          "Year": "1972-01-01"
         },
         {
          "Acceleration": 14.5,
          "Cylinders": 4,
          "Displacement": 121,
          "Horsepower": 112,
          "Miles_per_Gallon": 18,
          "Name": "volvo 145e (sw)",
          "Origin": "Europe",
          "Weight_in_lbs": 2933,
          "Year": "1972-01-01"
         },
         {
          "Acceleration": 18,
          "Cylinders": 4,
          "Displacement": 121,
          "Horsepower": 76,
          "Miles_per_Gallon": 22,
          "Name": "volkswagen 411 (sw)",
          "Origin": "Europe",
          "Weight_in_lbs": 2511,
          "Year": "1972-01-01"
         },
         {
          "Acceleration": 19.5,
          "Cylinders": 4,
          "Displacement": 120,
          "Horsepower": 87,
          "Miles_per_Gallon": 21,
          "Name": "peugeot 504 (sw)",
          "Origin": "Europe",
          "Weight_in_lbs": 2979,
          "Year": "1972-01-01"
         },
         {
          "Acceleration": 18,
          "Cylinders": 4,
          "Displacement": 96,
          "Horsepower": 69,
          "Miles_per_Gallon": 26,
          "Name": "renault 12 (sw)",
          "Origin": "Europe",
          "Weight_in_lbs": 2189,
          "Year": "1972-01-01"
         },
         {
          "Acceleration": 16,
          "Cylinders": 4,
          "Displacement": 122,
          "Horsepower": 86,
          "Miles_per_Gallon": 22,
          "Name": "ford pinto (sw)",
          "Origin": "USA",
          "Weight_in_lbs": 2395,
          "Year": "1972-01-01"
         },
         {
          "Acceleration": 17,
          "Cylinders": 4,
          "Displacement": 97,
          "Horsepower": 92,
          "Miles_per_Gallon": 28,
          "Name": "datsun 510 (sw)",
          "Origin": "Japan",
          "Weight_in_lbs": 2288,
          "Year": "1972-01-01"
         },
         {
          "Acceleration": 14.5,
          "Cylinders": 4,
          "Displacement": 120,
          "Horsepower": 97,
          "Miles_per_Gallon": 23,
          "Name": "toyouta corona mark ii (sw)",
          "Origin": "Japan",
          "Weight_in_lbs": 2506,
          "Year": "1972-01-01"
         },
         {
          "Acceleration": 15,
          "Cylinders": 4,
          "Displacement": 98,
          "Horsepower": 80,
          "Miles_per_Gallon": 28,
          "Name": "dodge colt (sw)",
          "Origin": "USA",
          "Weight_in_lbs": 2164,
          "Year": "1972-01-01"
         },
         {
          "Acceleration": 16.5,
          "Cylinders": 4,
          "Displacement": 97,
          "Horsepower": 88,
          "Miles_per_Gallon": 27,
          "Name": "toyota corolla 1600 (sw)",
          "Origin": "Japan",
          "Weight_in_lbs": 2100,
          "Year": "1972-01-01"
         },
         {
          "Acceleration": 13,
          "Cylinders": 8,
          "Displacement": 350,
          "Horsepower": 175,
          "Miles_per_Gallon": 13,
          "Name": "buick century 350",
          "Origin": "USA",
          "Weight_in_lbs": 4100,
          "Year": "1973-01-01"
         },
         {
          "Acceleration": 11.5,
          "Cylinders": 8,
          "Displacement": 304,
          "Horsepower": 150,
          "Miles_per_Gallon": 14,
          "Name": "amc matador",
          "Origin": "USA",
          "Weight_in_lbs": 3672,
          "Year": "1973-01-01"
         },
         {
          "Acceleration": 13,
          "Cylinders": 8,
          "Displacement": 350,
          "Horsepower": 145,
          "Miles_per_Gallon": 13,
          "Name": "chevrolet malibu",
          "Origin": "USA",
          "Weight_in_lbs": 3988,
          "Year": "1973-01-01"
         },
         {
          "Acceleration": 14.5,
          "Cylinders": 8,
          "Displacement": 302,
          "Horsepower": 137,
          "Miles_per_Gallon": 14,
          "Name": "ford gran torino",
          "Origin": "USA",
          "Weight_in_lbs": 4042,
          "Year": "1973-01-01"
         },
         {
          "Acceleration": 12.5,
          "Cylinders": 8,
          "Displacement": 318,
          "Horsepower": 150,
          "Miles_per_Gallon": 15,
          "Name": "dodge coronet custom",
          "Origin": "USA",
          "Weight_in_lbs": 3777,
          "Year": "1973-01-01"
         },
         {
          "Acceleration": 11.5,
          "Cylinders": 8,
          "Displacement": 429,
          "Horsepower": 198,
          "Miles_per_Gallon": 12,
          "Name": "mercury marquis brougham",
          "Origin": "USA",
          "Weight_in_lbs": 4952,
          "Year": "1973-01-01"
         },
         {
          "Acceleration": 12,
          "Cylinders": 8,
          "Displacement": 400,
          "Horsepower": 150,
          "Miles_per_Gallon": 13,
          "Name": "chevrolet caprice classic",
          "Origin": "USA",
          "Weight_in_lbs": 4464,
          "Year": "1973-01-01"
         },
         {
          "Acceleration": 13,
          "Cylinders": 8,
          "Displacement": 351,
          "Horsepower": 158,
          "Miles_per_Gallon": 13,
          "Name": "ford ltd",
          "Origin": "USA",
          "Weight_in_lbs": 4363,
          "Year": "1973-01-01"
         },
         {
          "Acceleration": 14.5,
          "Cylinders": 8,
          "Displacement": 318,
          "Horsepower": 150,
          "Miles_per_Gallon": 14,
          "Name": "plymouth fury gran sedan",
          "Origin": "USA",
          "Weight_in_lbs": 4237,
          "Year": "1973-01-01"
         },
         {
          "Acceleration": 11,
          "Cylinders": 8,
          "Displacement": 440,
          "Horsepower": 215,
          "Miles_per_Gallon": 13,
          "Name": "chrysler new yorker brougham",
          "Origin": "USA",
          "Weight_in_lbs": 4735,
          "Year": "1973-01-01"
         },
         {
          "Acceleration": 11,
          "Cylinders": 8,
          "Displacement": 455,
          "Horsepower": 225,
          "Miles_per_Gallon": 12,
          "Name": "buick electra 225 custom",
          "Origin": "USA",
          "Weight_in_lbs": 4951,
          "Year": "1973-01-01"
         },
         {
          "Acceleration": 11,
          "Cylinders": 8,
          "Displacement": 360,
          "Horsepower": 175,
          "Miles_per_Gallon": 13,
          "Name": "amc ambassador brougham",
          "Origin": "USA",
          "Weight_in_lbs": 3821,
          "Year": "1973-01-01"
         },
         {
          "Acceleration": 16.5,
          "Cylinders": 6,
          "Displacement": 225,
          "Horsepower": 105,
          "Miles_per_Gallon": 18,
          "Name": "plymouth valiant",
          "Origin": "USA",
          "Weight_in_lbs": 3121,
          "Year": "1973-01-01"
         },
         {
          "Acceleration": 18,
          "Cylinders": 6,
          "Displacement": 250,
          "Horsepower": 100,
          "Miles_per_Gallon": 16,
          "Name": "chevrolet nova custom",
          "Origin": "USA",
          "Weight_in_lbs": 3278,
          "Year": "1973-01-01"
         },
         {
          "Acceleration": 16,
          "Cylinders": 6,
          "Displacement": 232,
          "Horsepower": 100,
          "Miles_per_Gallon": 18,
          "Name": "amc hornet",
          "Origin": "USA",
          "Weight_in_lbs": 2945,
          "Year": "1973-01-01"
         },
         {
          "Acceleration": 16.5,
          "Cylinders": 6,
          "Displacement": 250,
          "Horsepower": 88,
          "Miles_per_Gallon": 18,
          "Name": "ford maverick",
          "Origin": "USA",
          "Weight_in_lbs": 3021,
          "Year": "1973-01-01"
         },
         {
          "Acceleration": 16,
          "Cylinders": 6,
          "Displacement": 198,
          "Horsepower": 95,
          "Miles_per_Gallon": 23,
          "Name": "plymouth duster",
          "Origin": "USA",
          "Weight_in_lbs": 2904,
          "Year": "1973-01-01"
         },
         {
          "Acceleration": 21,
          "Cylinders": 4,
          "Displacement": 97,
          "Horsepower": 46,
          "Miles_per_Gallon": 26,
          "Name": "volkswagen super beetle",
          "Origin": "Europe",
          "Weight_in_lbs": 1950,
          "Year": "1973-01-01"
         },
         {
          "Acceleration": 14,
          "Cylinders": 8,
          "Displacement": 400,
          "Horsepower": 150,
          "Miles_per_Gallon": 11,
          "Name": "chevrolet impala",
          "Origin": "USA",
          "Weight_in_lbs": 4997,
          "Year": "1973-01-01"
         },
         {
          "Acceleration": 12.5,
          "Cylinders": 8,
          "Displacement": 400,
          "Horsepower": 167,
          "Miles_per_Gallon": 12,
          "Name": "ford country",
          "Origin": "USA",
          "Weight_in_lbs": 4906,
          "Year": "1973-01-01"
         },
         {
          "Acceleration": 13,
          "Cylinders": 8,
          "Displacement": 360,
          "Horsepower": 170,
          "Miles_per_Gallon": 13,
          "Name": "plymouth custom suburb",
          "Origin": "USA",
          "Weight_in_lbs": 4654,
          "Year": "1973-01-01"
         },
         {
          "Acceleration": 12.5,
          "Cylinders": 8,
          "Displacement": 350,
          "Horsepower": 180,
          "Miles_per_Gallon": 12,
          "Name": "oldsmobile vista cruiser",
          "Origin": "USA",
          "Weight_in_lbs": 4499,
          "Year": "1973-01-01"
         },
         {
          "Acceleration": 15,
          "Cylinders": 6,
          "Displacement": 232,
          "Horsepower": 100,
          "Miles_per_Gallon": 18,
          "Name": "amc gremlin",
          "Origin": "USA",
          "Weight_in_lbs": 2789,
          "Year": "1973-01-01"
         },
         {
          "Acceleration": 19,
          "Cylinders": 4,
          "Displacement": 97,
          "Horsepower": 88,
          "Miles_per_Gallon": 20,
          "Name": "toyota carina",
          "Origin": "Japan",
          "Weight_in_lbs": 2279,
          "Year": "1973-01-01"
         },
         {
          "Acceleration": 19.5,
          "Cylinders": 4,
          "Displacement": 140,
          "Horsepower": 72,
          "Miles_per_Gallon": 21,
          "Name": "chevrolet vega",
          "Origin": "USA",
          "Weight_in_lbs": 2401,
          "Year": "1973-01-01"
         },
         {
          "Acceleration": 16.5,
          "Cylinders": 4,
          "Displacement": 108,
          "Horsepower": 94,
          "Miles_per_Gallon": 22,
          "Name": "datsun 610",
          "Origin": "Japan",
          "Weight_in_lbs": 2379,
          "Year": "1973-01-01"
         },
         {
          "Acceleration": 13.5,
          "Cylinders": 3,
          "Displacement": 70,
          "Horsepower": 90,
          "Miles_per_Gallon": 18,
          "Name": "maxda rx3",
          "Origin": "Japan",
          "Weight_in_lbs": 2124,
          "Year": "1973-01-01"
         },
         {
          "Acceleration": 18.5,
          "Cylinders": 4,
          "Displacement": 122,
          "Horsepower": 85,
          "Miles_per_Gallon": 19,
          "Name": "ford pinto",
          "Origin": "USA",
          "Weight_in_lbs": 2310,
          "Year": "1973-01-01"
         },
         {
          "Acceleration": 14,
          "Cylinders": 6,
          "Displacement": 155,
          "Horsepower": 107,
          "Miles_per_Gallon": 21,
          "Name": "mercury capri v6",
          "Origin": "USA",
          "Weight_in_lbs": 2472,
          "Year": "1973-01-01"
         },
         {
          "Acceleration": 15.5,
          "Cylinders": 4,
          "Displacement": 98,
          "Horsepower": 90,
          "Miles_per_Gallon": 26,
          "Name": "fiat 124 sport coupe",
          "Origin": "Europe",
          "Weight_in_lbs": 2265,
          "Year": "1973-01-01"
         },
         {
          "Acceleration": 13,
          "Cylinders": 8,
          "Displacement": 350,
          "Horsepower": 145,
          "Miles_per_Gallon": 15,
          "Name": "chevrolet monte carlo s",
          "Origin": "USA",
          "Weight_in_lbs": 4082,
          "Year": "1973-01-01"
         },
         {
          "Acceleration": 9.5,
          "Cylinders": 8,
          "Displacement": 400,
          "Horsepower": 230,
          "Miles_per_Gallon": 16,
          "Name": "pontiac grand prix",
          "Origin": "USA",
          "Weight_in_lbs": 4278,
          "Year": "1973-01-01"
         },
         {
          "Acceleration": 19.5,
          "Cylinders": 4,
          "Displacement": 68,
          "Horsepower": 49,
          "Miles_per_Gallon": 29,
          "Name": "fiat 128",
          "Origin": "Europe",
          "Weight_in_lbs": 1867,
          "Year": "1973-01-01"
         },
         {
          "Acceleration": 15.5,
          "Cylinders": 4,
          "Displacement": 116,
          "Horsepower": 75,
          "Miles_per_Gallon": 24,
          "Name": "opel manta",
          "Origin": "Europe",
          "Weight_in_lbs": 2158,
          "Year": "1973-01-01"
         },
         {
          "Acceleration": 14,
          "Cylinders": 4,
          "Displacement": 114,
          "Horsepower": 91,
          "Miles_per_Gallon": 20,
          "Name": "audi 100ls",
          "Origin": "Europe",
          "Weight_in_lbs": 2582,
          "Year": "1973-01-01"
         },
         {
          "Acceleration": 15.5,
          "Cylinders": 4,
          "Displacement": 121,
          "Horsepower": 112,
          "Miles_per_Gallon": 19,
          "Name": "volvo 144ea",
          "Origin": "Europe",
          "Weight_in_lbs": 2868,
          "Year": "1973-01-01"
         },
         {
          "Acceleration": 11,
          "Cylinders": 8,
          "Displacement": 318,
          "Horsepower": 150,
          "Miles_per_Gallon": 15,
          "Name": "dodge dart custom",
          "Origin": "USA",
          "Weight_in_lbs": 3399,
          "Year": "1973-01-01"
         },
         {
          "Acceleration": 14,
          "Cylinders": 4,
          "Displacement": 121,
          "Horsepower": 110,
          "Miles_per_Gallon": 24,
          "Name": "saab 99le",
          "Origin": "Europe",
          "Weight_in_lbs": 2660,
          "Year": "1973-01-01"
         },
         {
          "Acceleration": 13.5,
          "Cylinders": 6,
          "Displacement": 156,
          "Horsepower": 122,
          "Miles_per_Gallon": 20,
          "Name": "toyota mark ii",
          "Origin": "Japan",
          "Weight_in_lbs": 2807,
          "Year": "1973-01-01"
         },
         {
          "Acceleration": 11,
          "Cylinders": 8,
          "Displacement": 350,
          "Horsepower": 180,
          "Miles_per_Gallon": 11,
          "Name": "oldsmobile omega",
          "Origin": "USA",
          "Weight_in_lbs": 3664,
          "Year": "1973-01-01"
         },
         {
          "Acceleration": 16.5,
          "Cylinders": 6,
          "Displacement": 198,
          "Horsepower": 95,
          "Miles_per_Gallon": 20,
          "Name": "plymouth duster",
          "Origin": "USA",
          "Weight_in_lbs": 3102,
          "Year": "1974-01-01"
         },
         {
          "Acceleration": 17,
          "Cylinders": 6,
          "Displacement": 200,
          "Horsepower": null,
          "Miles_per_Gallon": 21,
          "Name": "ford maverick",
          "Origin": "USA",
          "Weight_in_lbs": 2875,
          "Year": "1974-01-01"
         },
         {
          "Acceleration": 16,
          "Cylinders": 6,
          "Displacement": 232,
          "Horsepower": 100,
          "Miles_per_Gallon": 19,
          "Name": "amc hornet",
          "Origin": "USA",
          "Weight_in_lbs": 2901,
          "Year": "1974-01-01"
         },
         {
          "Acceleration": 17,
          "Cylinders": 6,
          "Displacement": 250,
          "Horsepower": 100,
          "Miles_per_Gallon": 15,
          "Name": "chevrolet nova",
          "Origin": "USA",
          "Weight_in_lbs": 3336,
          "Year": "1974-01-01"
         },
         {
          "Acceleration": 19,
          "Cylinders": 4,
          "Displacement": 79,
          "Horsepower": 67,
          "Miles_per_Gallon": 31,
          "Name": "datsun b210",
          "Origin": "Japan",
          "Weight_in_lbs": 1950,
          "Year": "1974-01-01"
         },
         {
          "Acceleration": 16.5,
          "Cylinders": 4,
          "Displacement": 122,
          "Horsepower": 80,
          "Miles_per_Gallon": 26,
          "Name": "ford pinto",
          "Origin": "USA",
          "Weight_in_lbs": 2451,
          "Year": "1974-01-01"
         },
         {
          "Acceleration": 21,
          "Cylinders": 4,
          "Displacement": 71,
          "Horsepower": 65,
          "Miles_per_Gallon": 32,
          "Name": "toyota corolla 1200",
          "Origin": "Japan",
          "Weight_in_lbs": 1836,
          "Year": "1974-01-01"
         },
         {
          "Acceleration": 17,
          "Cylinders": 4,
          "Displacement": 140,
          "Horsepower": 75,
          "Miles_per_Gallon": 25,
          "Name": "chevrolet vega",
          "Origin": "USA",
          "Weight_in_lbs": 2542,
          "Year": "1974-01-01"
         },
         {
          "Acceleration": 17,
          "Cylinders": 6,
          "Displacement": 250,
          "Horsepower": 100,
          "Miles_per_Gallon": 16,
          "Name": "chevrolet chevelle malibu classic",
          "Origin": "USA",
          "Weight_in_lbs": 3781,
          "Year": "1974-01-01"
         },
         {
          "Acceleration": 18,
          "Cylinders": 6,
          "Displacement": 258,
          "Horsepower": 110,
          "Miles_per_Gallon": 16,
          "Name": "amc matador",
          "Origin": "USA",
          "Weight_in_lbs": 3632,
          "Year": "1974-01-01"
         },
         {
          "Acceleration": 16.5,
          "Cylinders": 6,
          "Displacement": 225,
          "Horsepower": 105,
          "Miles_per_Gallon": 18,
          "Name": "plymouth satellite sebring",
          "Origin": "USA",
          "Weight_in_lbs": 3613,
          "Year": "1974-01-01"
         },
         {
          "Acceleration": 14,
          "Cylinders": 8,
          "Displacement": 302,
          "Horsepower": 140,
          "Miles_per_Gallon": 16,
          "Name": "ford gran torino",
          "Origin": "USA",
          "Weight_in_lbs": 4141,
          "Year": "1974-01-01"
         },
         {
          "Acceleration": 14.5,
          "Cylinders": 8,
          "Displacement": 350,
          "Horsepower": 150,
          "Miles_per_Gallon": 13,
          "Name": "buick century luxus (sw)",
          "Origin": "USA",
          "Weight_in_lbs": 4699,
          "Year": "1974-01-01"
         },
         {
          "Acceleration": 13.5,
          "Cylinders": 8,
          "Displacement": 318,
          "Horsepower": 150,
          "Miles_per_Gallon": 14,
          "Name": "dodge coronet custom (sw)",
          "Origin": "USA",
          "Weight_in_lbs": 4457,
          "Year": "1974-01-01"
         },
         {
          "Acceleration": 16,
          "Cylinders": 8,
          "Displacement": 302,
          "Horsepower": 140,
          "Miles_per_Gallon": 14,
          "Name": "ford gran torino (sw)",
          "Origin": "USA",
          "Weight_in_lbs": 4638,
          "Year": "1974-01-01"
         },
         {
          "Acceleration": 15.5,
          "Cylinders": 8,
          "Displacement": 304,
          "Horsepower": 150,
          "Miles_per_Gallon": 14,
          "Name": "amc matador (sw)",
          "Origin": "USA",
          "Weight_in_lbs": 4257,
          "Year": "1974-01-01"
         },
         {
          "Acceleration": 16.5,
          "Cylinders": 4,
          "Displacement": 98,
          "Horsepower": 83,
          "Miles_per_Gallon": 29,
          "Name": "audi fox",
          "Origin": "Europe",
          "Weight_in_lbs": 2219,
          "Year": "1974-01-01"
         },
         {
          "Acceleration": 15.5,
          "Cylinders": 4,
          "Displacement": 79,
          "Horsepower": 67,
          "Miles_per_Gallon": 26,
          "Name": "volkswagen dasher",
          "Origin": "Europe",
          "Weight_in_lbs": 1963,
          "Year": "1974-01-01"
         },
         {
          "Acceleration": 14.5,
          "Cylinders": 4,
          "Displacement": 97,
          "Horsepower": 78,
          "Miles_per_Gallon": 26,
          "Name": "opel manta",
          "Origin": "Europe",
          "Weight_in_lbs": 2300,
          "Year": "1974-01-01"
         },
         {
          "Acceleration": 16.5,
          "Cylinders": 4,
          "Displacement": 76,
          "Horsepower": 52,
          "Miles_per_Gallon": 31,
          "Name": "toyota corona",
          "Origin": "Japan",
          "Weight_in_lbs": 1649,
          "Year": "1974-01-01"
         },
         {
          "Acceleration": 19,
          "Cylinders": 4,
          "Displacement": 83,
          "Horsepower": 61,
          "Miles_per_Gallon": 32,
          "Name": "datsun 710",
          "Origin": "Japan",
          "Weight_in_lbs": 2003,
          "Year": "1974-01-01"
         },
         {
          "Acceleration": 14.5,
          "Cylinders": 4,
          "Displacement": 90,
          "Horsepower": 75,
          "Miles_per_Gallon": 28,
          "Name": "dodge colt",
          "Origin": "USA",
          "Weight_in_lbs": 2125,
          "Year": "1974-01-01"
         },
         {
          "Acceleration": 15.5,
          "Cylinders": 4,
          "Displacement": 90,
          "Horsepower": 75,
          "Miles_per_Gallon": 24,
          "Name": "fiat 128",
          "Origin": "Europe",
          "Weight_in_lbs": 2108,
          "Year": "1974-01-01"
         },
         {
          "Acceleration": 14,
          "Cylinders": 4,
          "Displacement": 116,
          "Horsepower": 75,
          "Miles_per_Gallon": 26,
          "Name": "fiat 124 tc",
          "Origin": "Europe",
          "Weight_in_lbs": 2246,
          "Year": "1974-01-01"
         },
         {
          "Acceleration": 15,
          "Cylinders": 4,
          "Displacement": 120,
          "Horsepower": 97,
          "Miles_per_Gallon": 24,
          "Name": "honda civic",
          "Origin": "Japan",
          "Weight_in_lbs": 2489,
          "Year": "1974-01-01"
         },
         {
          "Acceleration": 15.5,
          "Cylinders": 4,
          "Displacement": 108,
          "Horsepower": 93,
          "Miles_per_Gallon": 26,
          "Name": "subaru",
          "Origin": "Japan",
          "Weight_in_lbs": 2391,
          "Year": "1974-01-01"
         },
         {
          "Acceleration": 16,
          "Cylinders": 4,
          "Displacement": 79,
          "Horsepower": 67,
          "Miles_per_Gallon": 31,
          "Name": "fiat x1.9",
          "Origin": "Europe",
          "Weight_in_lbs": 2000,
          "Year": "1974-01-01"
         },
         {
          "Acceleration": 16,
          "Cylinders": 6,
          "Displacement": 225,
          "Horsepower": 95,
          "Miles_per_Gallon": 19,
          "Name": "plymouth valiant custom",
          "Origin": "USA",
          "Weight_in_lbs": 3264,
          "Year": "1975-01-01"
         },
         {
          "Acceleration": 16,
          "Cylinders": 6,
          "Displacement": 250,
          "Horsepower": 105,
          "Miles_per_Gallon": 18,
          "Name": "chevrolet nova",
          "Origin": "USA",
          "Weight_in_lbs": 3459,
          "Year": "1975-01-01"
         },
         {
          "Acceleration": 21,
          "Cylinders": 6,
          "Displacement": 250,
          "Horsepower": 72,
          "Miles_per_Gallon": 15,
          "Name": "mercury monarch",
          "Origin": "USA",
          "Weight_in_lbs": 3432,
          "Year": "1975-01-01"
         },
         {
          "Acceleration": 19.5,
          "Cylinders": 6,
          "Displacement": 250,
          "Horsepower": 72,
          "Miles_per_Gallon": 15,
          "Name": "ford maverick",
          "Origin": "USA",
          "Weight_in_lbs": 3158,
          "Year": "1975-01-01"
         },
         {
          "Acceleration": 11.5,
          "Cylinders": 8,
          "Displacement": 400,
          "Horsepower": 170,
          "Miles_per_Gallon": 16,
          "Name": "pontiac catalina",
          "Origin": "USA",
          "Weight_in_lbs": 4668,
          "Year": "1975-01-01"
         },
         {
          "Acceleration": 14,
          "Cylinders": 8,
          "Displacement": 350,
          "Horsepower": 145,
          "Miles_per_Gallon": 15,
          "Name": "chevrolet bel air",
          "Origin": "USA",
          "Weight_in_lbs": 4440,
          "Year": "1975-01-01"
         },
         {
          "Acceleration": 14.5,
          "Cylinders": 8,
          "Displacement": 318,
          "Horsepower": 150,
          "Miles_per_Gallon": 16,
          "Name": "plymouth grand fury",
          "Origin": "USA",
          "Weight_in_lbs": 4498,
          "Year": "1975-01-01"
         },
         {
          "Acceleration": 13.5,
          "Cylinders": 8,
          "Displacement": 351,
          "Horsepower": 148,
          "Miles_per_Gallon": 14,
          "Name": "ford ltd",
          "Origin": "USA",
          "Weight_in_lbs": 4657,
          "Year": "1975-01-01"
         },
         {
          "Acceleration": 21,
          "Cylinders": 6,
          "Displacement": 231,
          "Horsepower": 110,
          "Miles_per_Gallon": 17,
          "Name": "buick century",
          "Origin": "USA",
          "Weight_in_lbs": 3907,
          "Year": "1975-01-01"
         },
         {
          "Acceleration": 18.5,
          "Cylinders": 6,
          "Displacement": 250,
          "Horsepower": 105,
          "Miles_per_Gallon": 16,
          "Name": "chevroelt chevelle malibu",
          "Origin": "USA",
          "Weight_in_lbs": 3897,
          "Year": "1975-01-01"
         },
         {
          "Acceleration": 19,
          "Cylinders": 6,
          "Displacement": 258,
          "Horsepower": 110,
          "Miles_per_Gallon": 15,
          "Name": "amc matador",
          "Origin": "USA",
          "Weight_in_lbs": 3730,
          "Year": "1975-01-01"
         },
         {
          "Acceleration": 19,
          "Cylinders": 6,
          "Displacement": 225,
          "Horsepower": 95,
          "Miles_per_Gallon": 18,
          "Name": "plymouth fury",
          "Origin": "USA",
          "Weight_in_lbs": 3785,
          "Year": "1975-01-01"
         },
         {
          "Acceleration": 15,
          "Cylinders": 6,
          "Displacement": 231,
          "Horsepower": 110,
          "Miles_per_Gallon": 21,
          "Name": "buick skyhawk",
          "Origin": "USA",
          "Weight_in_lbs": 3039,
          "Year": "1975-01-01"
         },
         {
          "Acceleration": 13.5,
          "Cylinders": 8,
          "Displacement": 262,
          "Horsepower": 110,
          "Miles_per_Gallon": 20,
          "Name": "chevrolet monza 2+2",
          "Origin": "USA",
          "Weight_in_lbs": 3221,
          "Year": "1975-01-01"
         },
         {
          "Acceleration": 12,
          "Cylinders": 8,
          "Displacement": 302,
          "Horsepower": 129,
          "Miles_per_Gallon": 13,
          "Name": "ford mustang ii",
          "Origin": "USA",
          "Weight_in_lbs": 3169,
          "Year": "1975-01-01"
         },
         {
          "Acceleration": 16,
          "Cylinders": 4,
          "Displacement": 97,
          "Horsepower": 75,
          "Miles_per_Gallon": 29,
          "Name": "toyota corolla",
          "Origin": "Japan",
          "Weight_in_lbs": 2171,
          "Year": "1975-01-01"
         },
         {
          "Acceleration": 17,
          "Cylinders": 4,
          "Displacement": 140,
          "Horsepower": 83,
          "Miles_per_Gallon": 23,
          "Name": "ford pinto",
          "Origin": "USA",
          "Weight_in_lbs": 2639,
          "Year": "1975-01-01"
         },
         {
          "Acceleration": 16,
          "Cylinders": 6,
          "Displacement": 232,
          "Horsepower": 100,
          "Miles_per_Gallon": 20,
          "Name": "amc gremlin",
          "Origin": "USA",
          "Weight_in_lbs": 2914,
          "Year": "1975-01-01"
         },
         {
          "Acceleration": 18.5,
          "Cylinders": 4,
          "Displacement": 140,
          "Horsepower": 78,
          "Miles_per_Gallon": 23,
          "Name": "pontiac astro",
          "Origin": "USA",
          "Weight_in_lbs": 2592,
          "Year": "1975-01-01"
         },
         {
          "Acceleration": 13.5,
          "Cylinders": 4,
          "Displacement": 134,
          "Horsepower": 96,
          "Miles_per_Gallon": 24,
          "Name": "toyota corona",
          "Origin": "Japan",
          "Weight_in_lbs": 2702,
          "Year": "1975-01-01"
         },
         {
          "Acceleration": 16.5,
          "Cylinders": 4,
          "Displacement": 90,
          "Horsepower": 71,
          "Miles_per_Gallon": 25,
          "Name": "volkswagen dasher",
          "Origin": "Europe",
          "Weight_in_lbs": 2223,
          "Year": "1975-01-01"
         },
         {
          "Acceleration": 17,
          "Cylinders": 4,
          "Displacement": 119,
          "Horsepower": 97,
          "Miles_per_Gallon": 24,
          "Name": "datsun 710",
          "Origin": "Japan",
          "Weight_in_lbs": 2545,
          "Year": "1975-01-01"
         },
         {
          "Acceleration": 14.5,
          "Cylinders": 6,
          "Displacement": 171,
          "Horsepower": 97,
          "Miles_per_Gallon": 18,
          "Name": "ford pinto",
          "Origin": "USA",
          "Weight_in_lbs": 2984,
          "Year": "1975-01-01"
         },
         {
          "Acceleration": 14,
          "Cylinders": 4,
          "Displacement": 90,
          "Horsepower": 70,
          "Miles_per_Gallon": 29,
          "Name": "volkswagen rabbit",
          "Origin": "Europe",
          "Weight_in_lbs": 1937,
          "Year": "1975-01-01"
         },
         {
          "Acceleration": 17,
          "Cylinders": 6,
          "Displacement": 232,
          "Horsepower": 90,
          "Miles_per_Gallon": 19,
          "Name": "amc pacer",
          "Origin": "USA",
          "Weight_in_lbs": 3211,
          "Year": "1975-01-01"
         },
         {
          "Acceleration": 15,
          "Cylinders": 4,
          "Displacement": 115,
          "Horsepower": 95,
          "Miles_per_Gallon": 23,
          "Name": "audi 100ls",
          "Origin": "Europe",
          "Weight_in_lbs": 2694,
          "Year": "1975-01-01"
         },
         {
          "Acceleration": 17,
          "Cylinders": 4,
          "Displacement": 120,
          "Horsepower": 88,
          "Miles_per_Gallon": 23,
          "Name": "peugeot 504",
          "Origin": "Europe",
          "Weight_in_lbs": 2957,
          "Year": "1975-01-01"
         },
         {
          "Acceleration": 14.5,
          "Cylinders": 4,
          "Displacement": 121,
          "Horsepower": 98,
          "Miles_per_Gallon": 22,
          "Name": "volvo 244dl",
          "Origin": "Europe",
          "Weight_in_lbs": 2945,
          "Year": "1975-01-01"
         },
         {
          "Acceleration": 13.5,
          "Cylinders": 4,
          "Displacement": 121,
          "Horsepower": 115,
          "Miles_per_Gallon": 25,
          "Name": "saab 99le",
          "Origin": "Europe",
          "Weight_in_lbs": 2671,
          "Year": "1975-01-01"
         },
         {
          "Acceleration": 17.5,
          "Cylinders": 4,
          "Displacement": 91,
          "Horsepower": 53,
          "Miles_per_Gallon": 33,
          "Name": "honda civic cvcc",
          "Origin": "Japan",
          "Weight_in_lbs": 1795,
          "Year": "1975-01-01"
         },
         {
          "Acceleration": 15.5,
          "Cylinders": 4,
          "Displacement": 107,
          "Horsepower": 86,
          "Miles_per_Gallon": 28,
          "Name": "fiat 131",
          "Origin": "Europe",
          "Weight_in_lbs": 2464,
          "Year": "1976-01-01"
         },
         {
          "Acceleration": 16.9,
          "Cylinders": 4,
          "Displacement": 116,
          "Horsepower": 81,
          "Miles_per_Gallon": 25,
          "Name": "opel 1900",
          "Origin": "Europe",
          "Weight_in_lbs": 2220,
          "Year": "1976-01-01"
         },
         {
          "Acceleration": 14.9,
          "Cylinders": 4,
          "Displacement": 140,
          "Horsepower": 92,
          "Miles_per_Gallon": 25,
          "Name": "capri ii",
          "Origin": "USA",
          "Weight_in_lbs": 2572,
          "Year": "1976-01-01"
         },
         {
          "Acceleration": 17.7,
          "Cylinders": 4,
          "Displacement": 98,
          "Horsepower": 79,
          "Miles_per_Gallon": 26,
          "Name": "dodge colt",
          "Origin": "USA",
          "Weight_in_lbs": 2255,
          "Year": "1976-01-01"
         },
         {
          "Acceleration": 15.3,
          "Cylinders": 4,
          "Displacement": 101,
          "Horsepower": 83,
          "Miles_per_Gallon": 27,
          "Name": "renault 12tl",
          "Origin": "Europe",
          "Weight_in_lbs": 2202,
          "Year": "1976-01-01"
         },
         {
          "Acceleration": 13,
          "Cylinders": 8,
          "Displacement": 305,
          "Horsepower": 140,
          "Miles_per_Gallon": 17.5,
          "Name": "chevrolet chevelle malibu classic",
          "Origin": "USA",
          "Weight_in_lbs": 4215,
          "Year": "1976-01-01"
         },
         {
          "Acceleration": 13,
          "Cylinders": 8,
          "Displacement": 318,
          "Horsepower": 150,
          "Miles_per_Gallon": 16,
          "Name": "dodge coronet brougham",
          "Origin": "USA",
          "Weight_in_lbs": 4190,
          "Year": "1976-01-01"
         },
         {
          "Acceleration": 13.9,
          "Cylinders": 8,
          "Displacement": 304,
          "Horsepower": 120,
          "Miles_per_Gallon": 15.5,
          "Name": "amc matador",
          "Origin": "USA",
          "Weight_in_lbs": 3962,
          "Year": "1976-01-01"
         },
         {
          "Acceleration": 12.8,
          "Cylinders": 8,
          "Displacement": 351,
          "Horsepower": 152,
          "Miles_per_Gallon": 14.5,
          "Name": "ford gran torino",
          "Origin": "USA",
          "Weight_in_lbs": 4215,
          "Year": "1976-01-01"
         },
         {
          "Acceleration": 15.4,
          "Cylinders": 6,
          "Displacement": 225,
          "Horsepower": 100,
          "Miles_per_Gallon": 22,
          "Name": "plymouth valiant",
          "Origin": "USA",
          "Weight_in_lbs": 3233,
          "Year": "1976-01-01"
         },
         {
          "Acceleration": 14.5,
          "Cylinders": 6,
          "Displacement": 250,
          "Horsepower": 105,
          "Miles_per_Gallon": 22,
          "Name": "chevrolet nova",
          "Origin": "USA",
          "Weight_in_lbs": 3353,
          "Year": "1976-01-01"
         },
         {
          "Acceleration": 17.6,
          "Cylinders": 6,
          "Displacement": 200,
          "Horsepower": 81,
          "Miles_per_Gallon": 24,
          "Name": "ford maverick",
          "Origin": "USA",
          "Weight_in_lbs": 3012,
          "Year": "1976-01-01"
         },
         {
          "Acceleration": 17.6,
          "Cylinders": 6,
          "Displacement": 232,
          "Horsepower": 90,
          "Miles_per_Gallon": 22.5,
          "Name": "amc hornet",
          "Origin": "USA",
          "Weight_in_lbs": 3085,
          "Year": "1976-01-01"
         },
         {
          "Acceleration": 22.2,
          "Cylinders": 4,
          "Displacement": 85,
          "Horsepower": 52,
          "Miles_per_Gallon": 29,
          "Name": "chevrolet chevette",
          "Origin": "USA",
          "Weight_in_lbs": 2035,
          "Year": "1976-01-01"
         },
         {
          "Acceleration": 22.1,
          "Cylinders": 4,
          "Displacement": 98,
          "Horsepower": 60,
          "Miles_per_Gallon": 24.5,
          "Name": "chevrolet woody",
          "Origin": "USA",
          "Weight_in_lbs": 2164,
          "Year": "1976-01-01"
         },
         {
          "Acceleration": 14.2,
          "Cylinders": 4,
          "Displacement": 90,
          "Horsepower": 70,
          "Miles_per_Gallon": 29,
          "Name": "vw rabbit",
          "Origin": "Europe",
          "Weight_in_lbs": 1937,
          "Year": "1976-01-01"
         },
         {
          "Acceleration": 17.4,
          "Cylinders": 4,
          "Displacement": 91,
          "Horsepower": 53,
          "Miles_per_Gallon": 33,
          "Name": "honda civic",
          "Origin": "Japan",
          "Weight_in_lbs": 1795,
          "Year": "1976-01-01"
         },
         {
          "Acceleration": 17.7,
          "Cylinders": 6,
          "Displacement": 225,
          "Horsepower": 100,
          "Miles_per_Gallon": 20,
          "Name": "dodge aspen se",
          "Origin": "USA",
          "Weight_in_lbs": 3651,
          "Year": "1976-01-01"
         },
         {
          "Acceleration": 21,
          "Cylinders": 6,
          "Displacement": 250,
          "Horsepower": 78,
          "Miles_per_Gallon": 18,
          "Name": "ford granada ghia",
          "Origin": "USA",
          "Weight_in_lbs": 3574,
          "Year": "1976-01-01"
         },
         {
          "Acceleration": 16.2,
          "Cylinders": 6,
          "Displacement": 250,
          "Horsepower": 110,
          "Miles_per_Gallon": 18.5,
          "Name": "pontiac ventura sj",
          "Origin": "USA",
          "Weight_in_lbs": 3645,
          "Year": "1976-01-01"
         },
         {
          "Acceleration": 17.8,
          "Cylinders": 6,
          "Displacement": 258,
          "Horsepower": 95,
          "Miles_per_Gallon": 17.5,
          "Name": "amc pacer d/l",
          "Origin": "USA",
          "Weight_in_lbs": 3193,
          "Year": "1976-01-01"
         },
         {
          "Acceleration": 12.2,
          "Cylinders": 4,
          "Displacement": 97,
          "Horsepower": 71,
          "Miles_per_Gallon": 29.5,
          "Name": "volkswagen rabbit",
          "Origin": "Europe",
          "Weight_in_lbs": 1825,
          "Year": "1976-01-01"
         },
         {
          "Acceleration": 17,
          "Cylinders": 4,
          "Displacement": 85,
          "Horsepower": 70,
          "Miles_per_Gallon": 32,
          "Name": "datsun b-210",
          "Origin": "Japan",
          "Weight_in_lbs": 1990,
          "Year": "1976-01-01"
         },
         {
          "Acceleration": 16.4,
          "Cylinders": 4,
          "Displacement": 97,
          "Horsepower": 75,
          "Miles_per_Gallon": 28,
          "Name": "toyota corolla",
          "Origin": "Japan",
          "Weight_in_lbs": 2155,
          "Year": "1976-01-01"
         },
         {
          "Acceleration": 13.6,
          "Cylinders": 4,
          "Displacement": 140,
          "Horsepower": 72,
          "Miles_per_Gallon": 26.5,
          "Name": "ford pinto",
          "Origin": "USA",
          "Weight_in_lbs": 2565,
          "Year": "1976-01-01"
         },
         {
          "Acceleration": 15.7,
          "Cylinders": 4,
          "Displacement": 130,
          "Horsepower": 102,
          "Miles_per_Gallon": 20,
          "Name": "volvo 245",
          "Origin": "Europe",
          "Weight_in_lbs": 3150,
          "Year": "1976-01-01"
         },
         {
          "Acceleration": 13.2,
          "Cylinders": 8,
          "Displacement": 318,
          "Horsepower": 150,
          "Miles_per_Gallon": 13,
          "Name": "plymouth volare premier v8",
          "Origin": "USA",
          "Weight_in_lbs": 3940,
          "Year": "1976-01-01"
         },
         {
          "Acceleration": 21.9,
          "Cylinders": 4,
          "Displacement": 120,
          "Horsepower": 88,
          "Miles_per_Gallon": 19,
          "Name": "peugeot 504",
          "Origin": "Europe",
          "Weight_in_lbs": 3270,
          "Year": "1976-01-01"
         },
         {
          "Acceleration": 15.5,
          "Cylinders": 6,
          "Displacement": 156,
          "Horsepower": 108,
          "Miles_per_Gallon": 19,
          "Name": "toyota mark ii",
          "Origin": "Japan",
          "Weight_in_lbs": 2930,
          "Year": "1976-01-01"
         },
         {
          "Acceleration": 16.7,
          "Cylinders": 6,
          "Displacement": 168,
          "Horsepower": 120,
          "Miles_per_Gallon": 16.5,
          "Name": "mercedes-benz 280s",
          "Origin": "Europe",
          "Weight_in_lbs": 3820,
          "Year": "1976-01-01"
         },
         {
          "Acceleration": 12.1,
          "Cylinders": 8,
          "Displacement": 350,
          "Horsepower": 180,
          "Miles_per_Gallon": 16.5,
          "Name": "cadillac seville",
          "Origin": "USA",
          "Weight_in_lbs": 4380,
          "Year": "1976-01-01"
         },
         {
          "Acceleration": 12,
          "Cylinders": 8,
          "Displacement": 350,
          "Horsepower": 145,
          "Miles_per_Gallon": 13,
          "Name": "chevy c10",
          "Origin": "USA",
          "Weight_in_lbs": 4055,
          "Year": "1976-01-01"
         },
         {
          "Acceleration": 15,
          "Cylinders": 8,
          "Displacement": 302,
          "Horsepower": 130,
          "Miles_per_Gallon": 13,
          "Name": "ford f108",
          "Origin": "USA",
          "Weight_in_lbs": 3870,
          "Year": "1976-01-01"
         },
         {
          "Acceleration": 14,
          "Cylinders": 8,
          "Displacement": 318,
          "Horsepower": 150,
          "Miles_per_Gallon": 13,
          "Name": "dodge d100",
          "Origin": "USA",
          "Weight_in_lbs": 3755,
          "Year": "1976-01-01"
         },
         {
          "Acceleration": 18.5,
          "Cylinders": 4,
          "Displacement": 98,
          "Horsepower": 68,
          "Miles_per_Gallon": 31.5,
          "Name": "honda Accelerationord cvcc",
          "Origin": "Japan",
          "Weight_in_lbs": 2045,
          "Year": "1977-01-01"
         },
         {
          "Acceleration": 14.8,
          "Cylinders": 4,
          "Displacement": 111,
          "Horsepower": 80,
          "Miles_per_Gallon": 30,
          "Name": "buick opel isuzu deluxe",
          "Origin": "USA",
          "Weight_in_lbs": 2155,
          "Year": "1977-01-01"
         },
         {
          "Acceleration": 18.6,
          "Cylinders": 4,
          "Displacement": 79,
          "Horsepower": 58,
          "Miles_per_Gallon": 36,
          "Name": "renault 5 gtl",
          "Origin": "Europe",
          "Weight_in_lbs": 1825,
          "Year": "1977-01-01"
         },
         {
          "Acceleration": 15.5,
          "Cylinders": 4,
          "Displacement": 122,
          "Horsepower": 96,
          "Miles_per_Gallon": 25.5,
          "Name": "plymouth arrow gs",
          "Origin": "USA",
          "Weight_in_lbs": 2300,
          "Year": "1977-01-01"
         },
         {
          "Acceleration": 16.8,
          "Cylinders": 4,
          "Displacement": 85,
          "Horsepower": 70,
          "Miles_per_Gallon": 33.5,
          "Name": "datsun f-10 hatchback",
          "Origin": "Japan",
          "Weight_in_lbs": 1945,
          "Year": "1977-01-01"
         },
         {
          "Acceleration": 12.5,
          "Cylinders": 8,
          "Displacement": 305,
          "Horsepower": 145,
          "Miles_per_Gallon": 17.5,
          "Name": "chevrolet caprice classic",
          "Origin": "USA",
          "Weight_in_lbs": 3880,
          "Year": "1977-01-01"
         },
         {
          "Acceleration": 19,
          "Cylinders": 8,
          "Displacement": 260,
          "Horsepower": 110,
          "Miles_per_Gallon": 17,
          "Name": "oldsmobile cutlass supreme",
          "Origin": "USA",
          "Weight_in_lbs": 4060,
          "Year": "1977-01-01"
         },
         {
          "Acceleration": 13.7,
          "Cylinders": 8,
          "Displacement": 318,
          "Horsepower": 145,
          "Miles_per_Gallon": 15.5,
          "Name": "dodge monaco brougham",
          "Origin": "USA",
          "Weight_in_lbs": 4140,
          "Year": "1977-01-01"
         },
         {
          "Acceleration": 14.9,
          "Cylinders": 8,
          "Displacement": 302,
          "Horsepower": 130,
          "Miles_per_Gallon": 15,
          "Name": "mercury cougar brougham",
          "Origin": "USA",
          "Weight_in_lbs": 4295,
          "Year": "1977-01-01"
         },
         {
          "Acceleration": 16.4,
          "Cylinders": 6,
          "Displacement": 250,
          "Horsepower": 110,
          "Miles_per_Gallon": 17.5,
          "Name": "chevrolet concours",
          "Origin": "USA",
          "Weight_in_lbs": 3520,
          "Year": "1977-01-01"
         },
         {
          "Acceleration": 16.9,
          "Cylinders": 6,
          "Displacement": 231,
          "Horsepower": 105,
          "Miles_per_Gallon": 20.5,
          "Name": "buick skylark",
          "Origin": "USA",
          "Weight_in_lbs": 3425,
          "Year": "1977-01-01"
         },
         {
          "Acceleration": 17.7,
          "Cylinders": 6,
          "Displacement": 225,
          "Horsepower": 100,
          "Miles_per_Gallon": 19,
          "Name": "plymouth volare custom",
          "Origin": "USA",
          "Weight_in_lbs": 3630,
          "Year": "1977-01-01"
         },
         {
          "Acceleration": 19,
          "Cylinders": 6,
          "Displacement": 250,
          "Horsepower": 98,
          "Miles_per_Gallon": 18.5,
          "Name": "ford granada",
          "Origin": "USA",
          "Weight_in_lbs": 3525,
          "Year": "1977-01-01"
         },
         {
          "Acceleration": 11.1,
          "Cylinders": 8,
          "Displacement": 400,
          "Horsepower": 180,
          "Miles_per_Gallon": 16,
          "Name": "pontiac grand prix lj",
          "Origin": "USA",
          "Weight_in_lbs": 4220,
          "Year": "1977-01-01"
         },
         {
          "Acceleration": 11.4,
          "Cylinders": 8,
          "Displacement": 350,
          "Horsepower": 170,
          "Miles_per_Gallon": 15.5,
          "Name": "chevrolet monte carlo landau",
          "Origin": "USA",
          "Weight_in_lbs": 4165,
          "Year": "1977-01-01"
         },
         {
          "Acceleration": 12.2,
          "Cylinders": 8,
          "Displacement": 400,
          "Horsepower": 190,
          "Miles_per_Gallon": 15.5,
          "Name": "chrysler cordoba",
          "Origin": "USA",
          "Weight_in_lbs": 4325,
          "Year": "1977-01-01"
         },
         {
          "Acceleration": 14.5,
          "Cylinders": 8,
          "Displacement": 351,
          "Horsepower": 149,
          "Miles_per_Gallon": 16,
          "Name": "ford thunderbird",
          "Origin": "USA",
          "Weight_in_lbs": 4335,
          "Year": "1977-01-01"
         },
         {
          "Acceleration": 14.5,
          "Cylinders": 4,
          "Displacement": 97,
          "Horsepower": 78,
          "Miles_per_Gallon": 29,
          "Name": "volkswagen rabbit custom",
          "Origin": "Europe",
          "Weight_in_lbs": 1940,
          "Year": "1977-01-01"
         },
         {
          "Acceleration": 16,
          "Cylinders": 4,
          "Displacement": 151,
          "Horsepower": 88,
          "Miles_per_Gallon": 24.5,
          "Name": "pontiac sunbird coupe",
          "Origin": "USA",
          "Weight_in_lbs": 2740,
          "Year": "1977-01-01"
         },
         {
          "Acceleration": 18.2,
          "Cylinders": 4,
          "Displacement": 97,
          "Horsepower": 75,
          "Miles_per_Gallon": 26,
          "Name": "toyota corolla liftback",
          "Origin": "Japan",
          "Weight_in_lbs": 2265,
          "Year": "1977-01-01"
         },
         {
          "Acceleration": 15.8,
          "Cylinders": 4,
          "Displacement": 140,
          "Horsepower": 89,
          "Miles_per_Gallon": 25.5,
          "Name": "ford mustang ii 2+2",
          "Origin": "USA",
          "Weight_in_lbs": 2755,
          "Year": "1977-01-01"
         },
         {
          "Acceleration": 17,
          "Cylinders": 4,
          "Displacement": 98,
          "Horsepower": 63,
          "Miles_per_Gallon": 30.5,
          "Name": "chevrolet chevette",
          "Origin": "USA",
          "Weight_in_lbs": 2051,
          "Year": "1977-01-01"
         },
         {
          "Acceleration": 15.9,
          "Cylinders": 4,
          "Displacement": 98,
          "Horsepower": 83,
          "Miles_per_Gallon": 33.5,
          "Name": "dodge colt m/m",
          "Origin": "USA",
          "Weight_in_lbs": 2075,
          "Year": "1977-01-01"
         },
         {
          "Acceleration": 16.4,
          "Cylinders": 4,
          "Displacement": 97,
          "Horsepower": 67,
          "Miles_per_Gallon": 30,
          "Name": "subaru dl",
          "Origin": "Japan",
          "Weight_in_lbs": 1985,
          "Year": "1977-01-01"
         },
         {
          "Acceleration": 14.1,
          "Cylinders": 4,
          "Displacement": 97,
          "Horsepower": 78,
          "Miles_per_Gallon": 30.5,
          "Name": "volkswagen dasher",
          "Origin": "Europe",
          "Weight_in_lbs": 2190,
          "Year": "1977-01-01"
         },
         {
          "Acceleration": 14.5,
          "Cylinders": 6,
          "Displacement": 146,
          "Horsepower": 97,
          "Miles_per_Gallon": 22,
          "Name": "datsun 810",
          "Origin": "Japan",
          "Weight_in_lbs": 2815,
          "Year": "1977-01-01"
         },
         {
          "Acceleration": 12.8,
          "Cylinders": 4,
          "Displacement": 121,
          "Horsepower": 110,
          "Miles_per_Gallon": 21.5,
          "Name": "bmw 320i",
          "Origin": "Europe",
          "Weight_in_lbs": 2600,
          "Year": "1977-01-01"
         },
         {
          "Acceleration": 13.5,
          "Cylinders": 3,
          "Displacement": 80,
          "Horsepower": 110,
          "Miles_per_Gallon": 21.5,
          "Name": "mazda rx-4",
          "Origin": "Japan",
          "Weight_in_lbs": 2720,
          "Year": "1977-01-01"
         },
         {
          "Acceleration": 21.5,
          "Cylinders": 4,
          "Displacement": 90,
          "Horsepower": 48,
          "Miles_per_Gallon": 43.1,
          "Name": "volkswagen rabbit custom diesel",
          "Origin": "Europe",
          "Weight_in_lbs": 1985,
          "Year": "1978-01-01"
         },
         {
          "Acceleration": 14.4,
          "Cylinders": 4,
          "Displacement": 98,
          "Horsepower": 66,
          "Miles_per_Gallon": 36.1,
          "Name": "ford fiesta",
          "Origin": "USA",
          "Weight_in_lbs": 1800,
          "Year": "1978-01-01"
         },
         {
          "Acceleration": 19.4,
          "Cylinders": 4,
          "Displacement": 78,
          "Horsepower": 52,
          "Miles_per_Gallon": 32.8,
          "Name": "mazda glc deluxe",
          "Origin": "Japan",
          "Weight_in_lbs": 1985,
          "Year": "1978-01-01"
         },
         {
          "Acceleration": 18.6,
          "Cylinders": 4,
          "Displacement": 85,
          "Horsepower": 70,
          "Miles_per_Gallon": 39.4,
          "Name": "datsun b210 gx",
          "Origin": "Japan",
          "Weight_in_lbs": 2070,
          "Year": "1978-01-01"
         },
         {
          "Acceleration": 16.4,
          "Cylinders": 4,
          "Displacement": 91,
          "Horsepower": 60,
          "Miles_per_Gallon": 36.1,
          "Name": "honda civic cvcc",
          "Origin": "Japan",
          "Weight_in_lbs": 1800,
          "Year": "1978-01-01"
         },
         {
          "Acceleration": 15.5,
          "Cylinders": 8,
          "Displacement": 260,
          "Horsepower": 110,
          "Miles_per_Gallon": 19.9,
          "Name": "oldsmobile cutlass salon brougham",
          "Origin": "USA",
          "Weight_in_lbs": 3365,
          "Year": "1978-01-01"
         },
         {
          "Acceleration": 13.2,
          "Cylinders": 8,
          "Displacement": 318,
          "Horsepower": 140,
          "Miles_per_Gallon": 19.4,
          "Name": "dodge diplomat",
          "Origin": "USA",
          "Weight_in_lbs": 3735,
          "Year": "1978-01-01"
         },
         {
          "Acceleration": 12.8,
          "Cylinders": 8,
          "Displacement": 302,
          "Horsepower": 139,
          "Miles_per_Gallon": 20.2,
          "Name": "mercury monarch ghia",
          "Origin": "USA",
          "Weight_in_lbs": 3570,
          "Year": "1978-01-01"
         },
         {
          "Acceleration": 19.2,
          "Cylinders": 6,
          "Displacement": 231,
          "Horsepower": 105,
          "Miles_per_Gallon": 19.2,
          "Name": "pontiac phoenix lj",
          "Origin": "USA",
          "Weight_in_lbs": 3535,
          "Year": "1978-01-01"
         },
         {
          "Acceleration": 18.2,
          "Cylinders": 6,
          "Displacement": 200,
          "Horsepower": 95,
          "Miles_per_Gallon": 20.5,
          "Name": "chevrolet malibu",
          "Origin": "USA",
          "Weight_in_lbs": 3155,
          "Year": "1978-01-01"
         },
         {
          "Acceleration": 15.8,
          "Cylinders": 6,
          "Displacement": 200,
          "Horsepower": 85,
          "Miles_per_Gallon": 20.2,
          "Name": "ford fairmont (auto)",
          "Origin": "USA",
          "Weight_in_lbs": 2965,
          "Year": "1978-01-01"
         },
         {
          "Acceleration": 15.4,
          "Cylinders": 4,
          "Displacement": 140,
          "Horsepower": 88,
          "Miles_per_Gallon": 25.1,
          "Name": "ford fairmont (man)",
          "Origin": "USA",
          "Weight_in_lbs": 2720,
          "Year": "1978-01-01"
         },
         {
          "Acceleration": 17.2,
          "Cylinders": 6,
          "Displacement": 225,
          "Horsepower": 100,
          "Miles_per_Gallon": 20.5,
          "Name": "plymouth volare",
          "Origin": "USA",
          "Weight_in_lbs": 3430,
          "Year": "1978-01-01"
         },
         {
          "Acceleration": 17.2,
          "Cylinders": 6,
          "Displacement": 232,
          "Horsepower": 90,
          "Miles_per_Gallon": 19.4,
          "Name": "amc concord",
          "Origin": "USA",
          "Weight_in_lbs": 3210,
          "Year": "1978-01-01"
         },
         {
          "Acceleration": 15.8,
          "Cylinders": 6,
          "Displacement": 231,
          "Horsepower": 105,
          "Miles_per_Gallon": 20.6,
          "Name": "buick century special",
          "Origin": "USA",
          "Weight_in_lbs": 3380,
          "Year": "1978-01-01"
         },
         {
          "Acceleration": 16.7,
          "Cylinders": 6,
          "Displacement": 200,
          "Horsepower": 85,
          "Miles_per_Gallon": 20.8,
          "Name": "mercury zephyr",
          "Origin": "USA",
          "Weight_in_lbs": 3070,
          "Year": "1978-01-01"
         },
         {
          "Acceleration": 18.7,
          "Cylinders": 6,
          "Displacement": 225,
          "Horsepower": 110,
          "Miles_per_Gallon": 18.6,
          "Name": "dodge aspen",
          "Origin": "USA",
          "Weight_in_lbs": 3620,
          "Year": "1978-01-01"
         },
         {
          "Acceleration": 15.1,
          "Cylinders": 6,
          "Displacement": 258,
          "Horsepower": 120,
          "Miles_per_Gallon": 18.1,
          "Name": "amc concord d/l",
          "Origin": "USA",
          "Weight_in_lbs": 3410,
          "Year": "1978-01-01"
         },
         {
          "Acceleration": 13.2,
          "Cylinders": 8,
          "Displacement": 305,
          "Horsepower": 145,
          "Miles_per_Gallon": 19.2,
          "Name": "chevrolet monte carlo landau",
          "Origin": "USA",
          "Weight_in_lbs": 3425,
          "Year": "1978-01-01"
         },
         {
          "Acceleration": 13.4,
          "Cylinders": 6,
          "Displacement": 231,
          "Horsepower": 165,
          "Miles_per_Gallon": 17.7,
          "Name": "buick regal sport coupe (turbo)",
          "Origin": "USA",
          "Weight_in_lbs": 3445,
          "Year": "1978-01-01"
         },
         {
          "Acceleration": 11.2,
          "Cylinders": 8,
          "Displacement": 302,
          "Horsepower": 139,
          "Miles_per_Gallon": 18.1,
          "Name": "ford futura",
          "Origin": "USA",
          "Weight_in_lbs": 3205,
          "Year": "1978-01-01"
         },
         {
          "Acceleration": 13.7,
          "Cylinders": 8,
          "Displacement": 318,
          "Horsepower": 140,
          "Miles_per_Gallon": 17.5,
          "Name": "dodge magnum xe",
          "Origin": "USA",
          "Weight_in_lbs": 4080,
          "Year": "1978-01-01"
         },
         {
          "Acceleration": 16.5,
          "Cylinders": 4,
          "Displacement": 98,
          "Horsepower": 68,
          "Miles_per_Gallon": 30,
          "Name": "chevrolet chevette",
          "Origin": "USA",
          "Weight_in_lbs": 2155,
          "Year": "1978-01-01"
         },
         {
          "Acceleration": 14.2,
          "Cylinders": 4,
          "Displacement": 134,
          "Horsepower": 95,
          "Miles_per_Gallon": 27.5,
          "Name": "toyota corona",
          "Origin": "Japan",
          "Weight_in_lbs": 2560,
          "Year": "1978-01-01"
         },
         {
          "Acceleration": 14.7,
          "Cylinders": 4,
          "Displacement": 119,
          "Horsepower": 97,
          "Miles_per_Gallon": 27.2,
          "Name": "datsun 510",
          "Origin": "Japan",
          "Weight_in_lbs": 2300,
          "Year": "1978-01-01"
         },
         {
          "Acceleration": 14.5,
          "Cylinders": 4,
          "Displacement": 105,
          "Horsepower": 75,
          "Miles_per_Gallon": 30.9,
          "Name": "dodge omni",
          "Origin": "USA",
          "Weight_in_lbs": 2230,
          "Year": "1978-01-01"
         },
         {
          "Acceleration": 14.8,
          "Cylinders": 4,
          "Displacement": 134,
          "Horsepower": 95,
          "Miles_per_Gallon": 21.1,
          "Name": "toyota celica gt liftback",
          "Origin": "Japan",
          "Weight_in_lbs": 2515,
          "Year": "1978-01-01"
         },
         {
          "Acceleration": 16.7,
          "Cylinders": 4,
          "Displacement": 156,
          "Horsepower": 105,
          "Miles_per_Gallon": 23.2,
          "Name": "plymouth sapporo",
          "Origin": "USA",
          "Weight_in_lbs": 2745,
          "Year": "1978-01-01"
         },
         {
          "Acceleration": 17.6,
          "Cylinders": 4,
          "Displacement": 151,
          "Horsepower": 85,
          "Miles_per_Gallon": 23.8,
          "Name": "oldsmobile starfire sx",
          "Origin": "USA",
          "Weight_in_lbs": 2855,
          "Year": "1978-01-01"
         },
         {
          "Acceleration": 14.9,
          "Cylinders": 4,
          "Displacement": 119,
          "Horsepower": 97,
          "Miles_per_Gallon": 23.9,
          "Name": "datsun 200-sx",
          "Origin": "Japan",
          "Weight_in_lbs": 2405,
          "Year": "1978-01-01"
         },
         {
          "Acceleration": 15.9,
          "Cylinders": 5,
          "Displacement": 131,
          "Horsepower": 103,
          "Miles_per_Gallon": 20.3,
          "Name": "audi 5000",
          "Origin": "Europe",
          "Weight_in_lbs": 2830,
          "Year": "1978-01-01"
         },
         {
          "Acceleration": 13.6,
          "Cylinders": 6,
          "Displacement": 163,
          "Horsepower": 125,
          "Miles_per_Gallon": 17,
          "Name": "volvo 264gl",
          "Origin": "Europe",
          "Weight_in_lbs": 3140,
          "Year": "1978-01-01"
         },
         {
          "Acceleration": 15.7,
          "Cylinders": 4,
          "Displacement": 121,
          "Horsepower": 115,
          "Miles_per_Gallon": 21.6,
          "Name": "saab 99gle",
          "Origin": "Europe",
          "Weight_in_lbs": 2795,
          "Year": "1978-01-01"
         },
         {
          "Acceleration": 15.8,
          "Cylinders": 6,
          "Displacement": 163,
          "Horsepower": 133,
          "Miles_per_Gallon": 16.2,
          "Name": "peugeot 604sl",
          "Origin": "Europe",
          "Weight_in_lbs": 3410,
          "Year": "1978-01-01"
         },
         {
          "Acceleration": 14.9,
          "Cylinders": 4,
          "Displacement": 89,
          "Horsepower": 71,
          "Miles_per_Gallon": 31.5,
          "Name": "volkswagen scirocco",
          "Origin": "Europe",
          "Weight_in_lbs": 1990,
          "Year": "1978-01-01"
         },
         {
          "Acceleration": 16.6,
          "Cylinders": 4,
          "Displacement": 98,
          "Horsepower": 68,
          "Miles_per_Gallon": 29.5,
          "Name": "honda Accelerationord lx",
          "Origin": "Japan",
          "Weight_in_lbs": 2135,
          "Year": "1978-01-01"
         },
         {
          "Acceleration": 15.4,
          "Cylinders": 6,
          "Displacement": 231,
          "Horsepower": 115,
          "Miles_per_Gallon": 21.5,
          "Name": "pontiac lemans v6",
          "Origin": "USA",
          "Weight_in_lbs": 3245,
          "Year": "1979-01-01"
         },
         {
          "Acceleration": 18.2,
          "Cylinders": 6,
          "Displacement": 200,
          "Horsepower": 85,
          "Miles_per_Gallon": 19.8,
          "Name": "mercury zephyr 6",
          "Origin": "USA",
          "Weight_in_lbs": 2990,
          "Year": "1979-01-01"
         },
         {
          "Acceleration": 17.3,
          "Cylinders": 4,
          "Displacement": 140,
          "Horsepower": 88,
          "Miles_per_Gallon": 22.3,
          "Name": "ford fairmont 4",
          "Origin": "USA",
          "Weight_in_lbs": 2890,
          "Year": "1979-01-01"
         },
         {
          "Acceleration": 18.2,
          "Cylinders": 6,
          "Displacement": 232,
          "Horsepower": 90,
          "Miles_per_Gallon": 20.2,
          "Name": "amc concord dl 6",
          "Origin": "USA",
          "Weight_in_lbs": 3265,
          "Year": "1979-01-01"
         },
         {
          "Acceleration": 16.6,
          "Cylinders": 6,
          "Displacement": 225,
          "Horsepower": 110,
          "Miles_per_Gallon": 20.6,
          "Name": "dodge aspen 6",
          "Origin": "USA",
          "Weight_in_lbs": 3360,
          "Year": "1979-01-01"
         },
         {
          "Acceleration": 15.4,
          "Cylinders": 8,
          "Displacement": 305,
          "Horsepower": 130,
          "Miles_per_Gallon": 17,
          "Name": "chevrolet caprice classic",
          "Origin": "USA",
          "Weight_in_lbs": 3840,
          "Year": "1979-01-01"
         },
         {
          "Acceleration": 13.4,
          "Cylinders": 8,
          "Displacement": 302,
          "Horsepower": 129,
          "Miles_per_Gallon": 17.6,
          "Name": "ford ltd landau",
          "Origin": "USA",
          "Weight_in_lbs": 3725,
          "Year": "1979-01-01"
         },
         {
          "Acceleration": 13.2,
          "Cylinders": 8,
          "Displacement": 351,
          "Horsepower": 138,
          "Miles_per_Gallon": 16.5,
          "Name": "mercury grand marquis",
          "Origin": "USA",
          "Weight_in_lbs": 3955,
          "Year": "1979-01-01"
         },
         {
          "Acceleration": 15.2,
          "Cylinders": 8,
          "Displacement": 318,
          "Horsepower": 135,
          "Miles_per_Gallon": 18.2,
          "Name": "dodge st. regis",
          "Origin": "USA",
          "Weight_in_lbs": 3830,
          "Year": "1979-01-01"
         },
         {
          "Acceleration": 14.9,
          "Cylinders": 8,
          "Displacement": 350,
          "Horsepower": 155,
          "Miles_per_Gallon": 16.9,
          "Name": "buick estate wagon (sw)",
          "Origin": "USA",
          "Weight_in_lbs": 4360,
          "Year": "1979-01-01"
         },
         {
          "Acceleration": 14.3,
          "Cylinders": 8,
          "Displacement": 351,
          "Horsepower": 142,
          "Miles_per_Gallon": 15.5,
          "Name": "ford country squire (sw)",
          "Origin": "USA",
          "Weight_in_lbs": 4054,
          "Year": "1979-01-01"
         },
         {
          "Acceleration": 15,
          "Cylinders": 8,
          "Displacement": 267,
          "Horsepower": 125,
          "Miles_per_Gallon": 19.2,
          "Name": "chevrolet malibu classic (sw)",
          "Origin": "USA",
          "Weight_in_lbs": 3605,
          "Year": "1979-01-01"
         },
         {
          "Acceleration": 13,
          "Cylinders": 8,
          "Displacement": 360,
          "Horsepower": 150,
          "Miles_per_Gallon": 18.5,
          "Name": "chrysler lebaron town @ country (sw)",
          "Origin": "USA",
          "Weight_in_lbs": 3940,
          "Year": "1979-01-01"
         },
         {
          "Acceleration": 14,
          "Cylinders": 4,
          "Displacement": 89,
          "Horsepower": 71,
          "Miles_per_Gallon": 31.9,
          "Name": "vw rabbit custom",
          "Origin": "Europe",
          "Weight_in_lbs": 1925,
          "Year": "1979-01-01"
         },
         {
          "Acceleration": 15.2,
          "Cylinders": 4,
          "Displacement": 86,
          "Horsepower": 65,
          "Miles_per_Gallon": 34.1,
          "Name": "maxda glc deluxe",
          "Origin": "Japan",
          "Weight_in_lbs": 1975,
          "Year": "1979-01-01"
         },
         {
          "Acceleration": 14.4,
          "Cylinders": 4,
          "Displacement": 98,
          "Horsepower": 80,
          "Miles_per_Gallon": 35.7,
          "Name": "dodge colt hatchback custom",
          "Origin": "USA",
          "Weight_in_lbs": 1915,
          "Year": "1979-01-01"
         },
         {
          "Acceleration": 15,
          "Cylinders": 4,
          "Displacement": 121,
          "Horsepower": 80,
          "Miles_per_Gallon": 27.4,
          "Name": "amc spirit dl",
          "Origin": "USA",
          "Weight_in_lbs": 2670,
          "Year": "1979-01-01"
         },
         {
          "Acceleration": 20.1,
          "Cylinders": 5,
          "Displacement": 183,
          "Horsepower": 77,
          "Miles_per_Gallon": 25.4,
          "Name": "mercedes benz 300d",
          "Origin": "Europe",
          "Weight_in_lbs": 3530,
          "Year": "1979-01-01"
         },
         {
          "Acceleration": 17.4,
          "Cylinders": 8,
          "Displacement": 350,
          "Horsepower": 125,
          "Miles_per_Gallon": 23,
          "Name": "cadillac eldorado",
          "Origin": "USA",
          "Weight_in_lbs": 3900,
          "Year": "1979-01-01"
         },
         {
          "Acceleration": 24.8,
          "Cylinders": 4,
          "Displacement": 141,
          "Horsepower": 71,
          "Miles_per_Gallon": 27.2,
          "Name": "peugeot 504",
          "Origin": "Europe",
          "Weight_in_lbs": 3190,
          "Year": "1979-01-01"
         },
         {
          "Acceleration": 22.2,
          "Cylinders": 8,
          "Displacement": 260,
          "Horsepower": 90,
          "Miles_per_Gallon": 23.9,
          "Name": "oldsmobile cutlass salon brougham",
          "Origin": "USA",
          "Weight_in_lbs": 3420,
          "Year": "1979-01-01"
         },
         {
          "Acceleration": 13.2,
          "Cylinders": 4,
          "Displacement": 105,
          "Horsepower": 70,
          "Miles_per_Gallon": 34.2,
          "Name": "plymouth horizon",
          "Origin": "USA",
          "Weight_in_lbs": 2200,
          "Year": "1979-01-01"
         },
         {
          "Acceleration": 14.9,
          "Cylinders": 4,
          "Displacement": 105,
          "Horsepower": 70,
          "Miles_per_Gallon": 34.5,
          "Name": "plymouth horizon tc3",
          "Origin": "USA",
          "Weight_in_lbs": 2150,
          "Year": "1979-01-01"
         },
         {
          "Acceleration": 19.2,
          "Cylinders": 4,
          "Displacement": 85,
          "Horsepower": 65,
          "Miles_per_Gallon": 31.8,
          "Name": "datsun 210",
          "Origin": "Japan",
          "Weight_in_lbs": 2020,
          "Year": "1979-01-01"
         },
         {
          "Acceleration": 14.7,
          "Cylinders": 4,
          "Displacement": 91,
          "Horsepower": 69,
          "Miles_per_Gallon": 37.3,
          "Name": "fiat strada custom",
          "Origin": "Europe",
          "Weight_in_lbs": 2130,
          "Year": "1979-01-01"
         },
         {
          "Acceleration": 16,
          "Cylinders": 4,
          "Displacement": 151,
          "Horsepower": 90,
          "Miles_per_Gallon": 28.4,
          "Name": "buick skylark limited",
          "Origin": "USA",
          "Weight_in_lbs": 2670,
          "Year": "1979-01-01"
         },
         {
          "Acceleration": 11.3,
          "Cylinders": 6,
          "Displacement": 173,
          "Horsepower": 115,
          "Miles_per_Gallon": 28.8,
          "Name": "chevrolet citation",
          "Origin": "USA",
          "Weight_in_lbs": 2595,
          "Year": "1979-01-01"
         },
         {
          "Acceleration": 12.9,
          "Cylinders": 6,
          "Displacement": 173,
          "Horsepower": 115,
          "Miles_per_Gallon": 26.8,
          "Name": "oldsmobile omega brougham",
          "Origin": "USA",
          "Weight_in_lbs": 2700,
          "Year": "1979-01-01"
         },
         {
          "Acceleration": 13.2,
          "Cylinders": 4,
          "Displacement": 151,
          "Horsepower": 90,
          "Miles_per_Gallon": 33.5,
          "Name": "pontiac phoenix",
          "Origin": "USA",
          "Weight_in_lbs": 2556,
          "Year": "1979-01-01"
         },
         {
          "Acceleration": 14.7,
          "Cylinders": 4,
          "Displacement": 98,
          "Horsepower": 76,
          "Miles_per_Gallon": 41.5,
          "Name": "vw rabbit",
          "Origin": "Europe",
          "Weight_in_lbs": 2144,
          "Year": "1980-01-01"
         },
         {
          "Acceleration": 18.8,
          "Cylinders": 4,
          "Displacement": 89,
          "Horsepower": 60,
          "Miles_per_Gallon": 38.1,
          "Name": "toyota corolla tercel",
          "Origin": "Japan",
          "Weight_in_lbs": 1968,
          "Year": "1980-01-01"
         },
         {
          "Acceleration": 15.5,
          "Cylinders": 4,
          "Displacement": 98,
          "Horsepower": 70,
          "Miles_per_Gallon": 32.1,
          "Name": "chevrolet chevette",
          "Origin": "USA",
          "Weight_in_lbs": 2120,
          "Year": "1980-01-01"
         },
         {
          "Acceleration": 16.4,
          "Cylinders": 4,
          "Displacement": 86,
          "Horsepower": 65,
          "Miles_per_Gallon": 37.2,
          "Name": "datsun 310",
          "Origin": "Japan",
          "Weight_in_lbs": 2019,
          "Year": "1980-01-01"
         },
         {
          "Acceleration": 16.5,
          "Cylinders": 4,
          "Displacement": 151,
          "Horsepower": 90,
          "Miles_per_Gallon": 28,
          "Name": "chevrolet citation",
          "Origin": "USA",
          "Weight_in_lbs": 2678,
          "Year": "1980-01-01"
         },
         {
          "Acceleration": 18.1,
          "Cylinders": 4,
          "Displacement": 140,
          "Horsepower": 88,
          "Miles_per_Gallon": 26.4,
          "Name": "ford fairmont",
          "Origin": "USA",
          "Weight_in_lbs": 2870,
          "Year": "1980-01-01"
         },
         {
          "Acceleration": 20.1,
          "Cylinders": 4,
          "Displacement": 151,
          "Horsepower": 90,
          "Miles_per_Gallon": 24.3,
          "Name": "amc concord",
          "Origin": "USA",
          "Weight_in_lbs": 3003,
          "Year": "1980-01-01"
         },
         {
          "Acceleration": 18.7,
          "Cylinders": 6,
          "Displacement": 225,
          "Horsepower": 90,
          "Miles_per_Gallon": 19.1,
          "Name": "dodge aspen",
          "Origin": "USA",
          "Weight_in_lbs": 3381,
          "Year": "1980-01-01"
         },
         {
          "Acceleration": 15.8,
          "Cylinders": 4,
          "Displacement": 97,
          "Horsepower": 78,
          "Miles_per_Gallon": 34.3,
          "Name": "audi 4000",
          "Origin": "Europe",
          "Weight_in_lbs": 2188,
          "Year": "1980-01-01"
         },
         {
          "Acceleration": 15.5,
          "Cylinders": 4,
          "Displacement": 134,
          "Horsepower": 90,
          "Miles_per_Gallon": 29.8,
          "Name": "toyota corona liftback",
          "Origin": "Japan",
          "Weight_in_lbs": 2711,
          "Year": "1980-01-01"
         },
         {
          "Acceleration": 17.5,
          "Cylinders": 4,
          "Displacement": 120,
          "Horsepower": 75,
          "Miles_per_Gallon": 31.3,
          "Name": "mazda 626",
          "Origin": "Japan",
          "Weight_in_lbs": 2542,
          "Year": "1980-01-01"
         },
         {
          "Acceleration": 15,
          "Cylinders": 4,
          "Displacement": 119,
          "Horsepower": 92,
          "Miles_per_Gallon": 37,
          "Name": "datsun 510 hatchback",
          "Origin": "Japan",
          "Weight_in_lbs": 2434,
          "Year": "1980-01-01"
         },
         {
          "Acceleration": 15.2,
          "Cylinders": 4,
          "Displacement": 108,
          "Horsepower": 75,
          "Miles_per_Gallon": 32.2,
          "Name": "toyota corolla",
          "Origin": "Japan",
          "Weight_in_lbs": 2265,
          "Year": "1980-01-01"
         },
         {
          "Acceleration": 17.9,
          "Cylinders": 4,
          "Displacement": 86,
          "Horsepower": 65,
          "Miles_per_Gallon": 46.6,
          "Name": "mazda glc",
          "Origin": "Japan",
          "Weight_in_lbs": 2110,
          "Year": "1980-01-01"
         },
         {
          "Acceleration": 14.4,
          "Cylinders": 4,
          "Displacement": 156,
          "Horsepower": 105,
          "Miles_per_Gallon": 27.9,
          "Name": "dodge colt",
          "Origin": "USA",
          "Weight_in_lbs": 2800,
          "Year": "1980-01-01"
         },
         {
          "Acceleration": 19.2,
          "Cylinders": 4,
          "Displacement": 85,
          "Horsepower": 65,
          "Miles_per_Gallon": 40.8,
          "Name": "datsun 210",
          "Origin": "Japan",
          "Weight_in_lbs": 2110,
          "Year": "1980-01-01"
         },
         {
          "Acceleration": 21.7,
          "Cylinders": 4,
          "Displacement": 90,
          "Horsepower": 48,
          "Miles_per_Gallon": 44.3,
          "Name": "vw rabbit c (diesel)",
          "Origin": "Europe",
          "Weight_in_lbs": 2085,
          "Year": "1980-01-01"
         },
         {
          "Acceleration": 23.7,
          "Cylinders": 4,
          "Displacement": 90,
          "Horsepower": 48,
          "Miles_per_Gallon": 43.4,
          "Name": "vw dasher (diesel)",
          "Origin": "Europe",
          "Weight_in_lbs": 2335,
          "Year": "1980-01-01"
         },
         {
          "Acceleration": 19.9,
          "Cylinders": 5,
          "Displacement": 121,
          "Horsepower": 67,
          "Miles_per_Gallon": 36.4,
          "Name": "audi 5000s (diesel)",
          "Origin": "Europe",
          "Weight_in_lbs": 2950,
          "Year": "1980-01-01"
         },
         {
          "Acceleration": 21.8,
          "Cylinders": 4,
          "Displacement": 146,
          "Horsepower": 67,
          "Miles_per_Gallon": 30,
          "Name": "mercedes-benz 240d",
          "Origin": "Europe",
          "Weight_in_lbs": 3250,
          "Year": "1980-01-01"
         },
         {
          "Acceleration": 13.8,
          "Cylinders": 4,
          "Displacement": 91,
          "Horsepower": 67,
          "Miles_per_Gallon": 44.6,
          "Name": "honda civic 1500 gl",
          "Origin": "Japan",
          "Weight_in_lbs": 1850,
          "Year": "1980-01-01"
         },
         {
          "Acceleration": 17.3,
          "Cylinders": 4,
          "Displacement": 85,
          "Horsepower": null,
          "Miles_per_Gallon": 40.9,
          "Name": "renault lecar deluxe",
          "Origin": "Europe",
          "Weight_in_lbs": 1835,
          "Year": "1980-01-01"
         },
         {
          "Acceleration": 18,
          "Cylinders": 4,
          "Displacement": 97,
          "Horsepower": 67,
          "Miles_per_Gallon": 33.8,
          "Name": "subaru dl",
          "Origin": "Japan",
          "Weight_in_lbs": 2145,
          "Year": "1980-01-01"
         },
         {
          "Acceleration": 15.3,
          "Cylinders": 4,
          "Displacement": 89,
          "Horsepower": 62,
          "Miles_per_Gallon": 29.8,
          "Name": "vokswagen rabbit",
          "Origin": "Europe",
          "Weight_in_lbs": 1845,
          "Year": "1980-01-01"
         },
         {
          "Acceleration": 11.4,
          "Cylinders": 6,
          "Displacement": 168,
          "Horsepower": 132,
          "Miles_per_Gallon": 32.7,
          "Name": "datsun 280-zx",
          "Origin": "Japan",
          "Weight_in_lbs": 2910,
          "Year": "1980-01-01"
         },
         {
          "Acceleration": 12.5,
          "Cylinders": 3,
          "Displacement": 70,
          "Horsepower": 100,
          "Miles_per_Gallon": 23.7,
          "Name": "mazda rx-7 gs",
          "Origin": "Japan",
          "Weight_in_lbs": 2420,
          "Year": "1980-01-01"
         },
         {
          "Acceleration": 15.1,
          "Cylinders": 4,
          "Displacement": 122,
          "Horsepower": 88,
          "Miles_per_Gallon": 35,
          "Name": "triumph tr7 coupe",
          "Origin": "Europe",
          "Weight_in_lbs": 2500,
          "Year": "1980-01-01"
         },
         {
          "Acceleration": 14.3,
          "Cylinders": 4,
          "Displacement": 140,
          "Horsepower": null,
          "Miles_per_Gallon": 23.6,
          "Name": "ford mustang cobra",
          "Origin": "USA",
          "Weight_in_lbs": 2905,
          "Year": "1980-01-01"
         },
         {
          "Acceleration": 17,
          "Cylinders": 4,
          "Displacement": 107,
          "Horsepower": 72,
          "Miles_per_Gallon": 32.4,
          "Name": "honda Accelerationord",
          "Origin": "Japan",
          "Weight_in_lbs": 2290,
          "Year": "1980-01-01"
         },
         {
          "Acceleration": 15.7,
          "Cylinders": 4,
          "Displacement": 135,
          "Horsepower": 84,
          "Miles_per_Gallon": 27.2,
          "Name": "plymouth reliant",
          "Origin": "USA",
          "Weight_in_lbs": 2490,
          "Year": "1982-01-01"
         },
         {
          "Acceleration": 16.4,
          "Cylinders": 4,
          "Displacement": 151,
          "Horsepower": 84,
          "Miles_per_Gallon": 26.6,
          "Name": "buick skylark",
          "Origin": "USA",
          "Weight_in_lbs": 2635,
          "Year": "1982-01-01"
         },
         {
          "Acceleration": 14.4,
          "Cylinders": 4,
          "Displacement": 156,
          "Horsepower": 92,
          "Miles_per_Gallon": 25.8,
          "Name": "dodge aries wagon (sw)",
          "Origin": "USA",
          "Weight_in_lbs": 2620,
          "Year": "1982-01-01"
         },
         {
          "Acceleration": 12.6,
          "Cylinders": 6,
          "Displacement": 173,
          "Horsepower": 110,
          "Miles_per_Gallon": 23.5,
          "Name": "chevrolet citation",
          "Origin": "USA",
          "Weight_in_lbs": 2725,
          "Year": "1982-01-01"
         },
         {
          "Acceleration": 12.9,
          "Cylinders": 4,
          "Displacement": 135,
          "Horsepower": 84,
          "Miles_per_Gallon": 30,
          "Name": "plymouth reliant",
          "Origin": "USA",
          "Weight_in_lbs": 2385,
          "Year": "1982-01-01"
         },
         {
          "Acceleration": 16.9,
          "Cylinders": 4,
          "Displacement": 79,
          "Horsepower": 58,
          "Miles_per_Gallon": 39.1,
          "Name": "toyota starlet",
          "Origin": "Japan",
          "Weight_in_lbs": 1755,
          "Year": "1982-01-01"
         },
         {
          "Acceleration": 16.4,
          "Cylinders": 4,
          "Displacement": 86,
          "Horsepower": 64,
          "Miles_per_Gallon": 39,
          "Name": "plymouth champ",
          "Origin": "USA",
          "Weight_in_lbs": 1875,
          "Year": "1982-01-01"
         },
         {
          "Acceleration": 16.1,
          "Cylinders": 4,
          "Displacement": 81,
          "Horsepower": 60,
          "Miles_per_Gallon": 35.1,
          "Name": "honda civic 1300",
          "Origin": "Japan",
          "Weight_in_lbs": 1760,
          "Year": "1982-01-01"
         },
         {
          "Acceleration": 17.8,
          "Cylinders": 4,
          "Displacement": 97,
          "Horsepower": 67,
          "Miles_per_Gallon": 32.3,
          "Name": "subaru",
          "Origin": "Japan",
          "Weight_in_lbs": 2065,
          "Year": "1982-01-01"
         },
         {
          "Acceleration": 19.4,
          "Cylinders": 4,
          "Displacement": 85,
          "Horsepower": 65,
          "Miles_per_Gallon": 37,
          "Name": "datsun 210",
          "Origin": "Japan",
          "Weight_in_lbs": 1975,
          "Year": "1982-01-01"
         },
         {
          "Acceleration": 17.3,
          "Cylinders": 4,
          "Displacement": 89,
          "Horsepower": 62,
          "Miles_per_Gallon": 37.7,
          "Name": "toyota tercel",
          "Origin": "Japan",
          "Weight_in_lbs": 2050,
          "Year": "1982-01-01"
         },
         {
          "Acceleration": 16,
          "Cylinders": 4,
          "Displacement": 91,
          "Horsepower": 68,
          "Miles_per_Gallon": 34.1,
          "Name": "mazda glc 4",
          "Origin": "Japan",
          "Weight_in_lbs": 1985,
          "Year": "1982-01-01"
         },
         {
          "Acceleration": 14.9,
          "Cylinders": 4,
          "Displacement": 105,
          "Horsepower": 63,
          "Miles_per_Gallon": 34.7,
          "Name": "plymouth horizon 4",
          "Origin": "USA",
          "Weight_in_lbs": 2215,
          "Year": "1982-01-01"
         },
         {
          "Acceleration": 16.2,
          "Cylinders": 4,
          "Displacement": 98,
          "Horsepower": 65,
          "Miles_per_Gallon": 34.4,
          "Name": "ford escort 4w",
          "Origin": "USA",
          "Weight_in_lbs": 2045,
          "Year": "1982-01-01"
         },
         {
          "Acceleration": 20.7,
          "Cylinders": 4,
          "Displacement": 98,
          "Horsepower": 65,
          "Miles_per_Gallon": 29.9,
          "Name": "ford escort 2h",
          "Origin": "USA",
          "Weight_in_lbs": 2380,
          "Year": "1982-01-01"
         },
         {
          "Acceleration": 14.2,
          "Cylinders": 4,
          "Displacement": 105,
          "Horsepower": 74,
          "Miles_per_Gallon": 33,
          "Name": "volkswagen jetta",
          "Origin": "Europe",
          "Weight_in_lbs": 2190,
          "Year": "1982-01-01"
         },
         {
          "Acceleration": 15.8,
          "Cylinders": 4,
          "Displacement": 100,
          "Horsepower": null,
          "Miles_per_Gallon": 34.5,
          "Name": "renault 18i",
          "Origin": "Europe",
          "Weight_in_lbs": 2320,
          "Year": "1982-01-01"
         },
         {
          "Acceleration": 14.4,
          "Cylinders": 4,
          "Displacement": 107,
          "Horsepower": 75,
          "Miles_per_Gallon": 33.7,
          "Name": "honda prelude",
          "Origin": "Japan",
          "Weight_in_lbs": 2210,
          "Year": "1982-01-01"
         },
         {
          "Acceleration": 16.8,
          "Cylinders": 4,
          "Displacement": 108,
          "Horsepower": 75,
          "Miles_per_Gallon": 32.4,
          "Name": "toyota corolla",
          "Origin": "Japan",
          "Weight_in_lbs": 2350,
          "Year": "1982-01-01"
         },
         {
          "Acceleration": 14.8,
          "Cylinders": 4,
          "Displacement": 119,
          "Horsepower": 100,
          "Miles_per_Gallon": 32.9,
          "Name": "datsun 200sx",
          "Origin": "Japan",
          "Weight_in_lbs": 2615,
          "Year": "1982-01-01"
         },
         {
          "Acceleration": 18.3,
          "Cylinders": 4,
          "Displacement": 120,
          "Horsepower": 74,
          "Miles_per_Gallon": 31.6,
          "Name": "mazda 626",
          "Origin": "Japan",
          "Weight_in_lbs": 2635,
          "Year": "1982-01-01"
         },
         {
          "Acceleration": 20.4,
          "Cylinders": 4,
          "Displacement": 141,
          "Horsepower": 80,
          "Miles_per_Gallon": 28.1,
          "Name": "peugeot 505s turbo diesel",
          "Origin": "Europe",
          "Weight_in_lbs": 3230,
          "Year": "1982-01-01"
         },
         {
          "Acceleration": 15.4,
          "Cylinders": 4,
          "Displacement": 121,
          "Horsepower": 110,
          "Miles_per_Gallon": null,
          "Name": "saab 900s",
          "Origin": "Europe",
          "Weight_in_lbs": 2800,
          "Year": "1982-01-01"
         },
         {
          "Acceleration": 19.6,
          "Cylinders": 6,
          "Displacement": 145,
          "Horsepower": 76,
          "Miles_per_Gallon": 30.7,
          "Name": "volvo diesel",
          "Origin": "Europe",
          "Weight_in_lbs": 3160,
          "Year": "1982-01-01"
         },
         {
          "Acceleration": 12.6,
          "Cylinders": 6,
          "Displacement": 168,
          "Horsepower": 116,
          "Miles_per_Gallon": 25.4,
          "Name": "toyota cressida",
          "Origin": "Japan",
          "Weight_in_lbs": 2900,
          "Year": "1982-01-01"
         },
         {
          "Acceleration": 13.8,
          "Cylinders": 6,
          "Displacement": 146,
          "Horsepower": 120,
          "Miles_per_Gallon": 24.2,
          "Name": "datsun 810 maxima",
          "Origin": "Japan",
          "Weight_in_lbs": 2930,
          "Year": "1982-01-01"
         },
         {
          "Acceleration": 15.8,
          "Cylinders": 6,
          "Displacement": 231,
          "Horsepower": 110,
          "Miles_per_Gallon": 22.4,
          "Name": "buick century",
          "Origin": "USA",
          "Weight_in_lbs": 3415,
          "Year": "1982-01-01"
         },
         {
          "Acceleration": 19,
          "Cylinders": 8,
          "Displacement": 350,
          "Horsepower": 105,
          "Miles_per_Gallon": 26.6,
          "Name": "oldsmobile cutlass ls",
          "Origin": "USA",
          "Weight_in_lbs": 3725,
          "Year": "1982-01-01"
         },
         {
          "Acceleration": 17.1,
          "Cylinders": 6,
          "Displacement": 200,
          "Horsepower": 88,
          "Miles_per_Gallon": 20.2,
          "Name": "ford granada gl",
          "Origin": "USA",
          "Weight_in_lbs": 3060,
          "Year": "1982-01-01"
         },
         {
          "Acceleration": 16.6,
          "Cylinders": 6,
          "Displacement": 225,
          "Horsepower": 85,
          "Miles_per_Gallon": 17.6,
          "Name": "chrysler lebaron salon",
          "Origin": "USA",
          "Weight_in_lbs": 3465,
          "Year": "1982-01-01"
         },
         {
          "Acceleration": 19.6,
          "Cylinders": 4,
          "Displacement": 112,
          "Horsepower": 88,
          "Miles_per_Gallon": 28,
          "Name": "chevrolet cavalier",
          "Origin": "USA",
          "Weight_in_lbs": 2605,
          "Year": "1982-01-01"
         },
         {
          "Acceleration": 18.6,
          "Cylinders": 4,
          "Displacement": 112,
          "Horsepower": 88,
          "Miles_per_Gallon": 27,
          "Name": "chevrolet cavalier wagon",
          "Origin": "USA",
          "Weight_in_lbs": 2640,
          "Year": "1982-01-01"
         },
         {
          "Acceleration": 18,
          "Cylinders": 4,
          "Displacement": 112,
          "Horsepower": 88,
          "Miles_per_Gallon": 34,
          "Name": "chevrolet cavalier 2-door",
          "Origin": "USA",
          "Weight_in_lbs": 2395,
          "Year": "1982-01-01"
         },
         {
          "Acceleration": 16.2,
          "Cylinders": 4,
          "Displacement": 112,
          "Horsepower": 85,
          "Miles_per_Gallon": 31,
          "Name": "pontiac j2000 se hatchback",
          "Origin": "USA",
          "Weight_in_lbs": 2575,
          "Year": "1982-01-01"
         },
         {
          "Acceleration": 16,
          "Cylinders": 4,
          "Displacement": 135,
          "Horsepower": 84,
          "Miles_per_Gallon": 29,
          "Name": "dodge aries se",
          "Origin": "USA",
          "Weight_in_lbs": 2525,
          "Year": "1982-01-01"
         },
         {
          "Acceleration": 18,
          "Cylinders": 4,
          "Displacement": 151,
          "Horsepower": 90,
          "Miles_per_Gallon": 27,
          "Name": "pontiac phoenix",
          "Origin": "USA",
          "Weight_in_lbs": 2735,
          "Year": "1982-01-01"
         },
         {
          "Acceleration": 16.4,
          "Cylinders": 4,
          "Displacement": 140,
          "Horsepower": 92,
          "Miles_per_Gallon": 24,
          "Name": "ford fairmont futura",
          "Origin": "USA",
          "Weight_in_lbs": 2865,
          "Year": "1982-01-01"
         },
         {
          "Acceleration": 20.5,
          "Cylinders": 4,
          "Displacement": 151,
          "Horsepower": null,
          "Miles_per_Gallon": 23,
          "Name": "amc concord dl",
          "Origin": "USA",
          "Weight_in_lbs": 3035,
          "Year": "1982-01-01"
         },
         {
          "Acceleration": 15.3,
          "Cylinders": 4,
          "Displacement": 105,
          "Horsepower": 74,
          "Miles_per_Gallon": 36,
          "Name": "volkswagen rabbit l",
          "Origin": "Europe",
          "Weight_in_lbs": 1980,
          "Year": "1982-01-01"
         },
         {
          "Acceleration": 18.2,
          "Cylinders": 4,
          "Displacement": 91,
          "Horsepower": 68,
          "Miles_per_Gallon": 37,
          "Name": "mazda glc custom l",
          "Origin": "Japan",
          "Weight_in_lbs": 2025,
          "Year": "1982-01-01"
         },
         {
          "Acceleration": 17.6,
          "Cylinders": 4,
          "Displacement": 91,
          "Horsepower": 68,
          "Miles_per_Gallon": 31,
          "Name": "mazda glc custom",
          "Origin": "Japan",
          "Weight_in_lbs": 1970,
          "Year": "1982-01-01"
         },
         {
          "Acceleration": 14.7,
          "Cylinders": 4,
          "Displacement": 105,
          "Horsepower": 63,
          "Miles_per_Gallon": 38,
          "Name": "plymouth horizon miser",
          "Origin": "USA",
          "Weight_in_lbs": 2125,
          "Year": "1982-01-01"
         },
         {
          "Acceleration": 17.3,
          "Cylinders": 4,
          "Displacement": 98,
          "Horsepower": 70,
          "Miles_per_Gallon": 36,
          "Name": "mercury lynx l",
          "Origin": "USA",
          "Weight_in_lbs": 2125,
          "Year": "1982-01-01"
         },
         {
          "Acceleration": 14.5,
          "Cylinders": 4,
          "Displacement": 120,
          "Horsepower": 88,
          "Miles_per_Gallon": 36,
          "Name": "nissan stanza xe",
          "Origin": "Japan",
          "Weight_in_lbs": 2160,
          "Year": "1982-01-01"
         },
         {
          "Acceleration": 14.5,
          "Cylinders": 4,
          "Displacement": 107,
          "Horsepower": 75,
          "Miles_per_Gallon": 36,
          "Name": "honda Accelerationord",
          "Origin": "Japan",
          "Weight_in_lbs": 2205,
          "Year": "1982-01-01"
         },
         {
          "Acceleration": 16.9,
          "Cylinders": 4,
          "Displacement": 108,
          "Horsepower": 70,
          "Miles_per_Gallon": 34,
          "Name": "toyota corolla",
          "Origin": "Japan",
          "Weight_in_lbs": 2245,
          "Year": "1982-01-01"
         },
         {
          "Acceleration": 15,
          "Cylinders": 4,
          "Displacement": 91,
          "Horsepower": 67,
          "Miles_per_Gallon": 38,
          "Name": "honda civic",
          "Origin": "Japan",
          "Weight_in_lbs": 1965,
          "Year": "1982-01-01"
         },
         {
          "Acceleration": 15.7,
          "Cylinders": 4,
          "Displacement": 91,
          "Horsepower": 67,
          "Miles_per_Gallon": 32,
          "Name": "honda civic (auto)",
          "Origin": "Japan",
          "Weight_in_lbs": 1965,
          "Year": "1982-01-01"
         },
         {
          "Acceleration": 16.2,
          "Cylinders": 4,
          "Displacement": 91,
          "Horsepower": 67,
          "Miles_per_Gallon": 38,
          "Name": "datsun 310 gx",
          "Origin": "Japan",
          "Weight_in_lbs": 1995,
          "Year": "1982-01-01"
         },
         {
          "Acceleration": 16.4,
          "Cylinders": 6,
          "Displacement": 181,
          "Horsepower": 110,
          "Miles_per_Gallon": 25,
          "Name": "buick century limited",
          "Origin": "USA",
          "Weight_in_lbs": 2945,
          "Year": "1982-01-01"
         },
         {
          "Acceleration": 17,
          "Cylinders": 6,
          "Displacement": 262,
          "Horsepower": 85,
          "Miles_per_Gallon": 38,
          "Name": "oldsmobile cutlass ciera (diesel)",
          "Origin": "USA",
          "Weight_in_lbs": 3015,
          "Year": "1982-01-01"
         },
         {
          "Acceleration": 14.5,
          "Cylinders": 4,
          "Displacement": 156,
          "Horsepower": 92,
          "Miles_per_Gallon": 26,
          "Name": "chrysler lebaron medallion",
          "Origin": "USA",
          "Weight_in_lbs": 2585,
          "Year": "1982-01-01"
         },
         {
          "Acceleration": 14.7,
          "Cylinders": 6,
          "Displacement": 232,
          "Horsepower": 112,
          "Miles_per_Gallon": 22,
          "Name": "ford granada l",
          "Origin": "USA",
          "Weight_in_lbs": 2835,
          "Year": "1982-01-01"
         },
         {
          "Acceleration": 13.9,
          "Cylinders": 4,
          "Displacement": 144,
          "Horsepower": 96,
          "Miles_per_Gallon": 32,
          "Name": "toyota celica gt",
          "Origin": "Japan",
          "Weight_in_lbs": 2665,
          "Year": "1982-01-01"
         },
         {
          "Acceleration": 13,
          "Cylinders": 4,
          "Displacement": 135,
          "Horsepower": 84,
          "Miles_per_Gallon": 36,
          "Name": "dodge charger 2.2",
          "Origin": "USA",
          "Weight_in_lbs": 2370,
          "Year": "1982-01-01"
         },
         {
          "Acceleration": 17.3,
          "Cylinders": 4,
          "Displacement": 151,
          "Horsepower": 90,
          "Miles_per_Gallon": 27,
          "Name": "chevrolet camaro",
          "Origin": "USA",
          "Weight_in_lbs": 2950,
          "Year": "1982-01-01"
         },
         {
          "Acceleration": 15.6,
          "Cylinders": 4,
          "Displacement": 140,
          "Horsepower": 86,
          "Miles_per_Gallon": 27,
          "Name": "ford mustang gl",
          "Origin": "USA",
          "Weight_in_lbs": 2790,
          "Year": "1982-01-01"
         },
         {
          "Acceleration": 24.6,
          "Cylinders": 4,
          "Displacement": 97,
          "Horsepower": 52,
          "Miles_per_Gallon": 44,
          "Name": "vw pickup",
          "Origin": "Europe",
          "Weight_in_lbs": 2130,
          "Year": "1982-01-01"
         },
         {
          "Acceleration": 11.6,
          "Cylinders": 4,
          "Displacement": 135,
          "Horsepower": 84,
          "Miles_per_Gallon": 32,
          "Name": "dodge rampage",
          "Origin": "USA",
          "Weight_in_lbs": 2295,
          "Year": "1982-01-01"
         },
         {
          "Acceleration": 18.6,
          "Cylinders": 4,
          "Displacement": 120,
          "Horsepower": 79,
          "Miles_per_Gallon": 28,
          "Name": "ford ranger",
          "Origin": "USA",
          "Weight_in_lbs": 2625,
          "Year": "1982-01-01"
         },
         {
          "Acceleration": 19.4,
          "Cylinders": 4,
          "Displacement": 119,
          "Horsepower": 82,
          "Miles_per_Gallon": 31,
          "Name": "chevy s-10",
          "Origin": "USA",
          "Weight_in_lbs": 2720,
          "Year": "1982-01-01"
         }
        ]
       },
       "encoding": {
        "color": {
         "field": "Origin",
         "type": "nominal"
        },
        "x": {
         "field": "Weight_in_lbs",
         "type": "quantitative"
        },
        "y": {
         "field": "Miles_per_Gallon",
         "type": "quantitative"
        }
       },
       "mark": "square"
      },
      "image/png": "[encoded data removed]",
      "text/plain": [
       "<VegaLite 2 object>\n",
       "\n",
       "If you see this message, it means the renderer has not been properly enabled\n",
       "for the frontend that you are using. For more information, see\n",
       "https://altair-viz.github.io/user_guide/troubleshooting.html\n"
      ]
     },
     "execution_count": 46,
     "metadata": {},
     "output_type": "execute_result"
    }
   ],
   "source": [
    "alt.Chart(cars).mark_square().encode(x='Weight_in_lbs', y='Miles_per_Gallon', color='Origin')"
   ]
  },
  {
   "cell_type": "markdown",
   "metadata": {},
   "source": [
    "### Bar Chart of data subset"
   ]
  },
  {
   "cell_type": "code",
   "execution_count": 47,
   "metadata": {},
   "outputs": [
    {
     "data": {
      "application/vnd.vegalite.v2+json": {
       "$schema": "https://vega.github.io/schema/vega-lite/v2.4.1.json",
       "config": {
        "view": {
         "height": 300,
         "width": 400
        }
       },
       "data": {
        "values": [
         {
          "Acceleration": 12,
          "Cylinders": 8,
          "Displacement": 307,
          "Horsepower": 130,
          "Miles_per_Gallon": 18,
          "Name": "chevrolet chevelle malibu",
          "Origin": "USA",
          "Weight_in_lbs": 3504,
          "Year": "1970-01-01"
         },
         {
          "Acceleration": 11.5,
          "Cylinders": 8,
          "Displacement": 350,
          "Horsepower": 165,
          "Miles_per_Gallon": 15,
          "Name": "buick skylark 320",
          "Origin": "USA",
          "Weight_in_lbs": 3693,
          "Year": "1970-01-01"
         },
         {
          "Acceleration": 11,
          "Cylinders": 8,
          "Displacement": 318,
          "Horsepower": 150,
          "Miles_per_Gallon": 18,
          "Name": "plymouth satellite",
          "Origin": "USA",
          "Weight_in_lbs": 3436,
          "Year": "1970-01-01"
         },
         {
          "Acceleration": 12,
          "Cylinders": 8,
          "Displacement": 304,
          "Horsepower": 150,
          "Miles_per_Gallon": 16,
          "Name": "amc rebel sst",
          "Origin": "USA",
          "Weight_in_lbs": 3433,
          "Year": "1970-01-01"
         },
         {
          "Acceleration": 10.5,
          "Cylinders": 8,
          "Displacement": 302,
          "Horsepower": 140,
          "Miles_per_Gallon": 17,
          "Name": "ford torino",
          "Origin": "USA",
          "Weight_in_lbs": 3449,
          "Year": "1970-01-01"
         }
        ]
       },
       "encoding": {
        "x": {
         "field": "Acceleration",
         "type": "quantitative"
        },
        "y": {
         "field": "Name",
         "type": "nominal"
        }
       },
       "mark": "bar"
      },
      "image/png": "[encoded data removed]",
      "text/plain": [
       "<VegaLite 2 object>\n",
       "\n",
       "If you see this message, it means the renderer has not been properly enabled\n",
       "for the frontend that you are using. For more information, see\n",
       "https://altair-viz.github.io/user_guide/troubleshooting.html\n"
      ]
     },
     "execution_count": 47,
     "metadata": {},
     "output_type": "execute_result"
    }
   ],
   "source": [
    "alt.Chart(cars[0:5]).mark_bar().encode(y='Name', x='Acceleration')"
   ]
  },
  {
   "cell_type": "markdown",
   "metadata": {},
   "source": [
    "### Bar chart with aggregation over categories"
   ]
  },
  {
   "cell_type": "code",
   "execution_count": 52,
   "metadata": {},
   "outputs": [],
   "source": [
    "chart = alt.Chart(cars).mark_bar(color='darkblue').encode(y='Origin', x='average(Weight_in_lbs)')"
   ]
  },
  {
   "cell_type": "code",
   "execution_count": 53,
   "metadata": {},
   "outputs": [
    {
     "data": {
      "application/vnd.vegalite.v2+json": {
       "$schema": "https://vega.github.io/schema/vega-lite/v2.4.1.json",
       "config": {
        "view": {
         "height": 300,
         "width": 400
        }
       },
       "data": {
        "values": [
         {
          "Acceleration": 12,
          "Cylinders": 8,
          "Displacement": 307,
          "Horsepower": 130,
          "Miles_per_Gallon": 18,
          "Name": "chevrolet chevelle malibu",
          "Origin": "USA",
          "Weight_in_lbs": 3504,
          "Year": "1970-01-01"
         },
         {
          "Acceleration": 11.5,
          "Cylinders": 8,
          "Displacement": 350,
          "Horsepower": 165,
          "Miles_per_Gallon": 15,
          "Name": "buick skylark 320",
          "Origin": "USA",
          "Weight_in_lbs": 3693,
          "Year": "1970-01-01"
         },
         {
          "Acceleration": 11,
          "Cylinders": 8,
          "Displacement": 318,
          "Horsepower": 150,
          "Miles_per_Gallon": 18,
          "Name": "plymouth satellite",
          "Origin": "USA",
          "Weight_in_lbs": 3436,
          "Year": "1970-01-01"
         },
         {
          "Acceleration": 12,
          "Cylinders": 8,
          "Displacement": 304,
          "Horsepower": 150,
          "Miles_per_Gallon": 16,
          "Name": "amc rebel sst",
          "Origin": "USA",
          "Weight_in_lbs": 3433,
          "Year": "1970-01-01"
         },
         {
          "Acceleration": 10.5,
          "Cylinders": 8,
          "Displacement": 302,
          "Horsepower": 140,
          "Miles_per_Gallon": 17,
          "Name": "ford torino",
          "Origin": "USA",
          "Weight_in_lbs": 3449,
          "Year": "1970-01-01"
         },
         {
          "Acceleration": 10,
          "Cylinders": 8,
          "Displacement": 429,
          "Horsepower": 198,
          "Miles_per_Gallon": 15,
          "Name": "ford galaxie 500",
          "Origin": "USA",
          "Weight_in_lbs": 4341,
          "Year": "1970-01-01"
         },
         {
          "Acceleration": 9,
          "Cylinders": 8,
          "Displacement": 454,
          "Horsepower": 220,
          "Miles_per_Gallon": 14,
          "Name": "chevrolet impala",
          "Origin": "USA",
          "Weight_in_lbs": 4354,
          "Year": "1970-01-01"
         },
         {
          "Acceleration": 8.5,
          "Cylinders": 8,
          "Displacement": 440,
          "Horsepower": 215,
          "Miles_per_Gallon": 14,
          "Name": "plymouth fury iii",
          "Origin": "USA",
          "Weight_in_lbs": 4312,
          "Year": "1970-01-01"
         },
         {
          "Acceleration": 10,
          "Cylinders": 8,
          "Displacement": 455,
          "Horsepower": 225,
          "Miles_per_Gallon": 14,
          "Name": "pontiac catalina",
          "Origin": "USA",
          "Weight_in_lbs": 4425,
          "Year": "1970-01-01"
         },
         {
          "Acceleration": 8.5,
          "Cylinders": 8,
          "Displacement": 390,
          "Horsepower": 190,
          "Miles_per_Gallon": 15,
          "Name": "amc ambassador dpl",
          "Origin": "USA",
          "Weight_in_lbs": 3850,
          "Year": "1970-01-01"
         },
         {
          "Acceleration": 17.5,
          "Cylinders": 4,
          "Displacement": 133,
          "Horsepower": 115,
          "Miles_per_Gallon": null,
          "Name": "citroen ds-21 pallas",
          "Origin": "Europe",
          "Weight_in_lbs": 3090,
          "Year": "1970-01-01"
         },
         {
          "Acceleration": 11.5,
          "Cylinders": 8,
          "Displacement": 350,
          "Horsepower": 165,
          "Miles_per_Gallon": null,
          "Name": "chevrolet chevelle concours (sw)",
          "Origin": "USA",
          "Weight_in_lbs": 4142,
          "Year": "1970-01-01"
         },
         {
          "Acceleration": 11,
          "Cylinders": 8,
          "Displacement": 351,
          "Horsepower": 153,
          "Miles_per_Gallon": null,
          "Name": "ford torino (sw)",
          "Origin": "USA",
          "Weight_in_lbs": 4034,
          "Year": "1970-01-01"
         },
         {
          "Acceleration": 10.5,
          "Cylinders": 8,
          "Displacement": 383,
          "Horsepower": 175,
          "Miles_per_Gallon": null,
          "Name": "plymouth satellite (sw)",
          "Origin": "USA",
          "Weight_in_lbs": 4166,
          "Year": "1970-01-01"
         },
         {
          "Acceleration": 11,
          "Cylinders": 8,
          "Displacement": 360,
          "Horsepower": 175,
          "Miles_per_Gallon": null,
          "Name": "amc rebel sst (sw)",
          "Origin": "USA",
          "Weight_in_lbs": 3850,
          "Year": "1970-01-01"
         },
         {
          "Acceleration": 10,
          "Cylinders": 8,
          "Displacement": 383,
          "Horsepower": 170,
          "Miles_per_Gallon": 15,
          "Name": "dodge challenger se",
          "Origin": "USA",
          "Weight_in_lbs": 3563,
          "Year": "1970-01-01"
         },
         {
          "Acceleration": 8,
          "Cylinders": 8,
          "Displacement": 340,
          "Horsepower": 160,
          "Miles_per_Gallon": 14,
          "Name": "plymouth 'cuda 340",
          "Origin": "USA",
          "Weight_in_lbs": 3609,
          "Year": "1970-01-01"
         },
         {
          "Acceleration": 8,
          "Cylinders": 8,
          "Displacement": 302,
          "Horsepower": 140,
          "Miles_per_Gallon": null,
          "Name": "ford mustang boss 302",
          "Origin": "USA",
          "Weight_in_lbs": 3353,
          "Year": "1970-01-01"
         },
         {
          "Acceleration": 9.5,
          "Cylinders": 8,
          "Displacement": 400,
          "Horsepower": 150,
          "Miles_per_Gallon": 15,
          "Name": "chevrolet monte carlo",
          "Origin": "USA",
          "Weight_in_lbs": 3761,
          "Year": "1970-01-01"
         },
         {
          "Acceleration": 10,
          "Cylinders": 8,
          "Displacement": 455,
          "Horsepower": 225,
          "Miles_per_Gallon": 14,
          "Name": "buick estate wagon (sw)",
          "Origin": "USA",
          "Weight_in_lbs": 3086,
          "Year": "1970-01-01"
         },
         {
          "Acceleration": 15,
          "Cylinders": 4,
          "Displacement": 113,
          "Horsepower": 95,
          "Miles_per_Gallon": 24,
          "Name": "toyota corona mark ii",
          "Origin": "Japan",
          "Weight_in_lbs": 2372,
          "Year": "1970-01-01"
         },
         {
          "Acceleration": 15.5,
          "Cylinders": 6,
          "Displacement": 198,
          "Horsepower": 95,
          "Miles_per_Gallon": 22,
          "Name": "plymouth duster",
          "Origin": "USA",
          "Weight_in_lbs": 2833,
          "Year": "1970-01-01"
         },
         {
          "Acceleration": 15.5,
          "Cylinders": 6,
          "Displacement": 199,
          "Horsepower": 97,
          "Miles_per_Gallon": 18,
          "Name": "amc hornet",
          "Origin": "USA",
          "Weight_in_lbs": 2774,
          "Year": "1970-01-01"
         },
         {
          "Acceleration": 16,
          "Cylinders": 6,
          "Displacement": 200,
          "Horsepower": 85,
          "Miles_per_Gallon": 21,
          "Name": "ford maverick",
          "Origin": "USA",
          "Weight_in_lbs": 2587,
          "Year": "1970-01-01"
         },
         {
          "Acceleration": 14.5,
          "Cylinders": 4,
          "Displacement": 97,
          "Horsepower": 88,
          "Miles_per_Gallon": 27,
          "Name": "datsun pl510",
          "Origin": "Japan",
          "Weight_in_lbs": 2130,
          "Year": "1970-01-01"
         },
         {
          "Acceleration": 20.5,
          "Cylinders": 4,
          "Displacement": 97,
          "Horsepower": 46,
          "Miles_per_Gallon": 26,
          "Name": "volkswagen 1131 deluxe sedan",
          "Origin": "Europe",
          "Weight_in_lbs": 1835,
          "Year": "1970-01-01"
         },
         {
          "Acceleration": 17.5,
          "Cylinders": 4,
          "Displacement": 110,
          "Horsepower": 87,
          "Miles_per_Gallon": 25,
          "Name": "peugeot 504",
          "Origin": "Europe",
          "Weight_in_lbs": 2672,
          "Year": "1970-01-01"
         },
         {
          "Acceleration": 14.5,
          "Cylinders": 4,
          "Displacement": 107,
          "Horsepower": 90,
          "Miles_per_Gallon": 24,
          "Name": "audi 100 ls",
          "Origin": "Europe",
          "Weight_in_lbs": 2430,
          "Year": "1970-01-01"
         },
         {
          "Acceleration": 17.5,
          "Cylinders": 4,
          "Displacement": 104,
          "Horsepower": 95,
          "Miles_per_Gallon": 25,
          "Name": "saab 99e",
          "Origin": "Europe",
          "Weight_in_lbs": 2375,
          "Year": "1970-01-01"
         },
         {
          "Acceleration": 12.5,
          "Cylinders": 4,
          "Displacement": 121,
          "Horsepower": 113,
          "Miles_per_Gallon": 26,
          "Name": "bmw 2002",
          "Origin": "Europe",
          "Weight_in_lbs": 2234,
          "Year": "1970-01-01"
         },
         {
          "Acceleration": 15,
          "Cylinders": 6,
          "Displacement": 199,
          "Horsepower": 90,
          "Miles_per_Gallon": 21,
          "Name": "amc gremlin",
          "Origin": "USA",
          "Weight_in_lbs": 2648,
          "Year": "1970-01-01"
         },
         {
          "Acceleration": 14,
          "Cylinders": 8,
          "Displacement": 360,
          "Horsepower": 215,
          "Miles_per_Gallon": 10,
          "Name": "ford f250",
          "Origin": "USA",
          "Weight_in_lbs": 4615,
          "Year": "1970-01-01"
         },
         {
          "Acceleration": 15,
          "Cylinders": 8,
          "Displacement": 307,
          "Horsepower": 200,
          "Miles_per_Gallon": 10,
          "Name": "chevy c20",
          "Origin": "USA",
          "Weight_in_lbs": 4376,
          "Year": "1970-01-01"
         },
         {
          "Acceleration": 13.5,
          "Cylinders": 8,
          "Displacement": 318,
          "Horsepower": 210,
          "Miles_per_Gallon": 11,
          "Name": "dodge d200",
          "Origin": "USA",
          "Weight_in_lbs": 4382,
          "Year": "1970-01-01"
         },
         {
          "Acceleration": 18.5,
          "Cylinders": 8,
          "Displacement": 304,
          "Horsepower": 193,
          "Miles_per_Gallon": 9,
          "Name": "hi 1200d",
          "Origin": "USA",
          "Weight_in_lbs": 4732,
          "Year": "1970-01-01"
         },
         {
          "Acceleration": 14.5,
          "Cylinders": 4,
          "Displacement": 97,
          "Horsepower": 88,
          "Miles_per_Gallon": 27,
          "Name": "datsun pl510",
          "Origin": "Japan",
          "Weight_in_lbs": 2130,
          "Year": "1971-01-01"
         },
         {
          "Acceleration": 15.5,
          "Cylinders": 4,
          "Displacement": 140,
          "Horsepower": 90,
          "Miles_per_Gallon": 28,
          "Name": "chevrolet vega 2300",
          "Origin": "USA",
          "Weight_in_lbs": 2264,
          "Year": "1971-01-01"
         },
         {
          "Acceleration": 14,
          "Cylinders": 4,
          "Displacement": 113,
          "Horsepower": 95,
          "Miles_per_Gallon": 25,
          "Name": "toyota corona",
          "Origin": "Japan",
          "Weight_in_lbs": 2228,
          "Year": "1971-01-01"
         },
         {
          "Acceleration": 19,
          "Cylinders": 4,
          "Displacement": 98,
          "Horsepower": null,
          "Miles_per_Gallon": 25,
          "Name": "ford pinto",
          "Origin": "USA",
          "Weight_in_lbs": 2046,
          "Year": "1971-01-01"
         },
         {
          "Acceleration": 20,
          "Cylinders": 4,
          "Displacement": 97,
          "Horsepower": 48,
          "Miles_per_Gallon": null,
          "Name": "volkswagen super beetle 117",
          "Origin": "Europe",
          "Weight_in_lbs": 1978,
          "Year": "1971-01-01"
         },
         {
          "Acceleration": 13,
          "Cylinders": 6,
          "Displacement": 232,
          "Horsepower": 100,
          "Miles_per_Gallon": 19,
          "Name": "amc gremlin",
          "Origin": "USA",
          "Weight_in_lbs": 2634,
          "Year": "1971-01-01"
         },
         {
          "Acceleration": 15.5,
          "Cylinders": 6,
          "Displacement": 225,
          "Horsepower": 105,
          "Miles_per_Gallon": 16,
          "Name": "plymouth satellite custom",
          "Origin": "USA",
          "Weight_in_lbs": 3439,
          "Year": "1971-01-01"
         },
         {
          "Acceleration": 15.5,
          "Cylinders": 6,
          "Displacement": 250,
          "Horsepower": 100,
          "Miles_per_Gallon": 17,
          "Name": "chevrolet chevelle malibu",
          "Origin": "USA",
          "Weight_in_lbs": 3329,
          "Year": "1971-01-01"
         },
         {
          "Acceleration": 15.5,
          "Cylinders": 6,
          "Displacement": 250,
          "Horsepower": 88,
          "Miles_per_Gallon": 19,
          "Name": "ford torino 500",
          "Origin": "USA",
          "Weight_in_lbs": 3302,
          "Year": "1971-01-01"
         },
         {
          "Acceleration": 15.5,
          "Cylinders": 6,
          "Displacement": 232,
          "Horsepower": 100,
          "Miles_per_Gallon": 18,
          "Name": "amc matador",
          "Origin": "USA",
          "Weight_in_lbs": 3288,
          "Year": "1971-01-01"
         },
         {
          "Acceleration": 12,
          "Cylinders": 8,
          "Displacement": 350,
          "Horsepower": 165,
          "Miles_per_Gallon": 14,
          "Name": "chevrolet impala",
          "Origin": "USA",
          "Weight_in_lbs": 4209,
          "Year": "1971-01-01"
         },
         {
          "Acceleration": 11.5,
          "Cylinders": 8,
          "Displacement": 400,
          "Horsepower": 175,
          "Miles_per_Gallon": 14,
          "Name": "pontiac catalina brougham",
          "Origin": "USA",
          "Weight_in_lbs": 4464,
          "Year": "1971-01-01"
         },
         {
          "Acceleration": 13.5,
          "Cylinders": 8,
          "Displacement": 351,
          "Horsepower": 153,
          "Miles_per_Gallon": 14,
          "Name": "ford galaxie 500",
          "Origin": "USA",
          "Weight_in_lbs": 4154,
          "Year": "1971-01-01"
         },
         {
          "Acceleration": 13,
          "Cylinders": 8,
          "Displacement": 318,
          "Horsepower": 150,
          "Miles_per_Gallon": 14,
          "Name": "plymouth fury iii",
          "Origin": "USA",
          "Weight_in_lbs": 4096,
          "Year": "1971-01-01"
         },
         {
          "Acceleration": 11.5,
          "Cylinders": 8,
          "Displacement": 383,
          "Horsepower": 180,
          "Miles_per_Gallon": 12,
          "Name": "dodge monaco (sw)",
          "Origin": "USA",
          "Weight_in_lbs": 4955,
          "Year": "1971-01-01"
         },
         {
          "Acceleration": 12,
          "Cylinders": 8,
          "Displacement": 400,
          "Horsepower": 170,
          "Miles_per_Gallon": 13,
          "Name": "ford country squire (sw)",
          "Origin": "USA",
          "Weight_in_lbs": 4746,
          "Year": "1971-01-01"
         },
         {
          "Acceleration": 12,
          "Cylinders": 8,
          "Displacement": 400,
          "Horsepower": 175,
          "Miles_per_Gallon": 13,
          "Name": "pontiac safari (sw)",
          "Origin": "USA",
          "Weight_in_lbs": 5140,
          "Year": "1971-01-01"
         },
         {
          "Acceleration": 13.5,
          "Cylinders": 6,
          "Displacement": 258,
          "Horsepower": 110,
          "Miles_per_Gallon": 18,
          "Name": "amc hornet sportabout (sw)",
          "Origin": "USA",
          "Weight_in_lbs": 2962,
          "Year": "1971-01-01"
         },
         {
          "Acceleration": 19,
          "Cylinders": 4,
          "Displacement": 140,
          "Horsepower": 72,
          "Miles_per_Gallon": 22,
          "Name": "chevrolet vega (sw)",
          "Origin": "USA",
          "Weight_in_lbs": 2408,
          "Year": "1971-01-01"
         },
         {
          "Acceleration": 15,
          "Cylinders": 6,
          "Displacement": 250,
          "Horsepower": 100,
          "Miles_per_Gallon": 19,
          "Name": "pontiac firebird",
          "Origin": "USA",
          "Weight_in_lbs": 3282,
          "Year": "1971-01-01"
         },
         {
          "Acceleration": 14.5,
          "Cylinders": 6,
          "Displacement": 250,
          "Horsepower": 88,
          "Miles_per_Gallon": 18,
          "Name": "ford mustang",
          "Origin": "USA",
          "Weight_in_lbs": 3139,
          "Year": "1971-01-01"
         },
         {
          "Acceleration": 14,
          "Cylinders": 4,
          "Displacement": 122,
          "Horsepower": 86,
          "Miles_per_Gallon": 23,
          "Name": "mercury capri 2000",
          "Origin": "USA",
          "Weight_in_lbs": 2220,
          "Year": "1971-01-01"
         },
         {
          "Acceleration": 14,
          "Cylinders": 4,
          "Displacement": 116,
          "Horsepower": 90,
          "Miles_per_Gallon": 28,
          "Name": "opel 1900",
          "Origin": "Europe",
          "Weight_in_lbs": 2123,
          "Year": "1971-01-01"
         },
         {
          "Acceleration": 19.5,
          "Cylinders": 4,
          "Displacement": 79,
          "Horsepower": 70,
          "Miles_per_Gallon": 30,
          "Name": "peugeot 304",
          "Origin": "Europe",
          "Weight_in_lbs": 2074,
          "Year": "1971-01-01"
         },
         {
          "Acceleration": 14.5,
          "Cylinders": 4,
          "Displacement": 88,
          "Horsepower": 76,
          "Miles_per_Gallon": 30,
          "Name": "fiat 124b",
          "Origin": "Europe",
          "Weight_in_lbs": 2065,
          "Year": "1971-01-01"
         },
         {
          "Acceleration": 19,
          "Cylinders": 4,
          "Displacement": 71,
          "Horsepower": 65,
          "Miles_per_Gallon": 31,
          "Name": "toyota corolla 1200",
          "Origin": "Japan",
          "Weight_in_lbs": 1773,
          "Year": "1971-01-01"
         },
         {
          "Acceleration": 18,
          "Cylinders": 4,
          "Displacement": 72,
          "Horsepower": 69,
          "Miles_per_Gallon": 35,
          "Name": "datsun 1200",
          "Origin": "Japan",
          "Weight_in_lbs": 1613,
          "Year": "1971-01-01"
         },
         {
          "Acceleration": 19,
          "Cylinders": 4,
          "Displacement": 97,
          "Horsepower": 60,
          "Miles_per_Gallon": 27,
          "Name": "volkswagen model 111",
          "Origin": "Europe",
          "Weight_in_lbs": 1834,
          "Year": "1971-01-01"
         },
         {
          "Acceleration": 20.5,
          "Cylinders": 4,
          "Displacement": 91,
          "Horsepower": 70,
          "Miles_per_Gallon": 26,
          "Name": "plymouth cricket",
          "Origin": "USA",
          "Weight_in_lbs": 1955,
          "Year": "1971-01-01"
         },
         {
          "Acceleration": 15.5,
          "Cylinders": 4,
          "Displacement": 113,
          "Horsepower": 95,
          "Miles_per_Gallon": 24,
          "Name": "toyota corona hardtop",
          "Origin": "Japan",
          "Weight_in_lbs": 2278,
          "Year": "1972-01-01"
         },
         {
          "Acceleration": 17,
          "Cylinders": 4,
          "Displacement": 97.5,
          "Horsepower": 80,
          "Miles_per_Gallon": 25,
          "Name": "dodge colt hardtop",
          "Origin": "USA",
          "Weight_in_lbs": 2126,
          "Year": "1972-01-01"
         },
         {
          "Acceleration": 23.5,
          "Cylinders": 4,
          "Displacement": 97,
          "Horsepower": 54,
          "Miles_per_Gallon": 23,
          "Name": "volkswagen type 3",
          "Origin": "Europe",
          "Weight_in_lbs": 2254,
          "Year": "1972-01-01"
         },
         {
          "Acceleration": 19.5,
          "Cylinders": 4,
          "Displacement": 140,
          "Horsepower": 90,
          "Miles_per_Gallon": 20,
          "Name": "chevrolet vega",
          "Origin": "USA",
          "Weight_in_lbs": 2408,
          "Year": "1972-01-01"
         },
         {
          "Acceleration": 16.5,
          "Cylinders": 4,
          "Displacement": 122,
          "Horsepower": 86,
          "Miles_per_Gallon": 21,
          "Name": "ford pinto runabout",
          "Origin": "USA",
          "Weight_in_lbs": 2226,
          "Year": "1972-01-01"
         },
         {
          "Acceleration": 12,
          "Cylinders": 8,
          "Displacement": 350,
          "Horsepower": 165,
          "Miles_per_Gallon": 13,
          "Name": "chevrolet impala",
          "Origin": "USA",
          "Weight_in_lbs": 4274,
          "Year": "1972-01-01"
         },
         {
          "Acceleration": 12,
          "Cylinders": 8,
          "Displacement": 400,
          "Horsepower": 175,
          "Miles_per_Gallon": 14,
          "Name": "pontiac catalina",
          "Origin": "USA",
          "Weight_in_lbs": 4385,
          "Year": "1972-01-01"
         },
         {
          "Acceleration": 13.5,
          "Cylinders": 8,
          "Displacement": 318,
          "Horsepower": 150,
          "Miles_per_Gallon": 15,
          "Name": "plymouth fury iii",
          "Origin": "USA",
          "Weight_in_lbs": 4135,
          "Year": "1972-01-01"
         },
         {
          "Acceleration": 13,
          "Cylinders": 8,
          "Displacement": 351,
          "Horsepower": 153,
          "Miles_per_Gallon": 14,
          "Name": "ford galaxie 500",
          "Origin": "USA",
          "Weight_in_lbs": 4129,
          "Year": "1972-01-01"
         },
         {
          "Acceleration": 11.5,
          "Cylinders": 8,
          "Displacement": 304,
          "Horsepower": 150,
          "Miles_per_Gallon": 17,
          "Name": "amc ambassador sst",
          "Origin": "USA",
          "Weight_in_lbs": 3672,
          "Year": "1972-01-01"
         },
         {
          "Acceleration": 11,
          "Cylinders": 8,
          "Displacement": 429,
          "Horsepower": 208,
          "Miles_per_Gallon": 11,
          "Name": "mercury marquis",
          "Origin": "USA",
          "Weight_in_lbs": 4633,
          "Year": "1972-01-01"
         },
         {
          "Acceleration": 13.5,
          "Cylinders": 8,
          "Displacement": 350,
          "Horsepower": 155,
          "Miles_per_Gallon": 13,
          "Name": "buick lesabre custom",
          "Origin": "USA",
          "Weight_in_lbs": 4502,
          "Year": "1972-01-01"
         },
         {
          "Acceleration": 13.5,
          "Cylinders": 8,
          "Displacement": 350,
          "Horsepower": 160,
          "Miles_per_Gallon": 12,
          "Name": "oldsmobile delta 88 royale",
          "Origin": "USA",
          "Weight_in_lbs": 4456,
          "Year": "1972-01-01"
         },
         {
          "Acceleration": 12.5,
          "Cylinders": 8,
          "Displacement": 400,
          "Horsepower": 190,
          "Miles_per_Gallon": 13,
          "Name": "chrysler newport royal",
          "Origin": "USA",
          "Weight_in_lbs": 4422,
          "Year": "1972-01-01"
         },
         {
          "Acceleration": 13.5,
          "Cylinders": 3,
          "Displacement": 70,
          "Horsepower": 97,
          "Miles_per_Gallon": 19,
          "Name": "mazda rx2 coupe",
          "Origin": "Japan",
          "Weight_in_lbs": 2330,
          "Year": "1972-01-01"
         },
         {
          "Acceleration": 12.5,
          "Cylinders": 8,
          "Displacement": 304,
          "Horsepower": 150,
          "Miles_per_Gallon": 15,
          "Name": "amc matador (sw)",
          "Origin": "USA",
          "Weight_in_lbs": 3892,
          "Year": "1972-01-01"
         },
         {
          "Acceleration": 14,
          "Cylinders": 8,
          "Displacement": 307,
          "Horsepower": 130,
          "Miles_per_Gallon": 13,
          "Name": "chevrolet chevelle concours (sw)",
          "Origin": "USA",
          "Weight_in_lbs": 4098,
          "Year": "1972-01-01"
         },
         {
          "Acceleration": 16,
          "Cylinders": 8,
          "Displacement": 302,
          "Horsepower": 140,
          "Miles_per_Gallon": 13,
          "Name": "ford gran torino (sw)",
          "Origin": "USA",
          "Weight_in_lbs": 4294,
          "Year": "1972-01-01"
         },
         {
          "Acceleration": 14,
          "Cylinders": 8,
          "Displacement": 318,
          "Horsepower": 150,
          "Miles_per_Gallon": 14,
          "Name": "plymouth satellite custom (sw)",
          "Origin": "USA",
          "Weight_in_lbs": 4077,
          "Year": "1972-01-01"
         },
         {
          "Acceleration": 14.5,
          "Cylinders": 4,
          "Displacement": 121,
          "Horsepower": 112,
          "Miles_per_Gallon": 18,
          "Name": "volvo 145e (sw)",
          "Origin": "Europe",
          "Weight_in_lbs": 2933,
          "Year": "1972-01-01"
         },
         {
          "Acceleration": 18,
          "Cylinders": 4,
          "Displacement": 121,
          "Horsepower": 76,
          "Miles_per_Gallon": 22,
          "Name": "volkswagen 411 (sw)",
          "Origin": "Europe",
          "Weight_in_lbs": 2511,
          "Year": "1972-01-01"
         },
         {
          "Acceleration": 19.5,
          "Cylinders": 4,
          "Displacement": 120,
          "Horsepower": 87,
          "Miles_per_Gallon": 21,
          "Name": "peugeot 504 (sw)",
          "Origin": "Europe",
          "Weight_in_lbs": 2979,
          "Year": "1972-01-01"
         },
         {
          "Acceleration": 18,
          "Cylinders": 4,
          "Displacement": 96,
          "Horsepower": 69,
          "Miles_per_Gallon": 26,
          "Name": "renault 12 (sw)",
          "Origin": "Europe",
          "Weight_in_lbs": 2189,
          "Year": "1972-01-01"
         },
         {
          "Acceleration": 16,
          "Cylinders": 4,
          "Displacement": 122,
          "Horsepower": 86,
          "Miles_per_Gallon": 22,
          "Name": "ford pinto (sw)",
          "Origin": "USA",
          "Weight_in_lbs": 2395,
          "Year": "1972-01-01"
         },
         {
          "Acceleration": 17,
          "Cylinders": 4,
          "Displacement": 97,
          "Horsepower": 92,
          "Miles_per_Gallon": 28,
          "Name": "datsun 510 (sw)",
          "Origin": "Japan",
          "Weight_in_lbs": 2288,
          "Year": "1972-01-01"
         },
         {
          "Acceleration": 14.5,
          "Cylinders": 4,
          "Displacement": 120,
          "Horsepower": 97,
          "Miles_per_Gallon": 23,
          "Name": "toyouta corona mark ii (sw)",
          "Origin": "Japan",
          "Weight_in_lbs": 2506,
          "Year": "1972-01-01"
         },
         {
          "Acceleration": 15,
          "Cylinders": 4,
          "Displacement": 98,
          "Horsepower": 80,
          "Miles_per_Gallon": 28,
          "Name": "dodge colt (sw)",
          "Origin": "USA",
          "Weight_in_lbs": 2164,
          "Year": "1972-01-01"
         },
         {
          "Acceleration": 16.5,
          "Cylinders": 4,
          "Displacement": 97,
          "Horsepower": 88,
          "Miles_per_Gallon": 27,
          "Name": "toyota corolla 1600 (sw)",
          "Origin": "Japan",
          "Weight_in_lbs": 2100,
          "Year": "1972-01-01"
         },
         {
          "Acceleration": 13,
          "Cylinders": 8,
          "Displacement": 350,
          "Horsepower": 175,
          "Miles_per_Gallon": 13,
          "Name": "buick century 350",
          "Origin": "USA",
          "Weight_in_lbs": 4100,
          "Year": "1973-01-01"
         },
         {
          "Acceleration": 11.5,
          "Cylinders": 8,
          "Displacement": 304,
          "Horsepower": 150,
          "Miles_per_Gallon": 14,
          "Name": "amc matador",
          "Origin": "USA",
          "Weight_in_lbs": 3672,
          "Year": "1973-01-01"
         },
         {
          "Acceleration": 13,
          "Cylinders": 8,
          "Displacement": 350,
          "Horsepower": 145,
          "Miles_per_Gallon": 13,
          "Name": "chevrolet malibu",
          "Origin": "USA",
          "Weight_in_lbs": 3988,
          "Year": "1973-01-01"
         },
         {
          "Acceleration": 14.5,
          "Cylinders": 8,
          "Displacement": 302,
          "Horsepower": 137,
          "Miles_per_Gallon": 14,
          "Name": "ford gran torino",
          "Origin": "USA",
          "Weight_in_lbs": 4042,
          "Year": "1973-01-01"
         },
         {
          "Acceleration": 12.5,
          "Cylinders": 8,
          "Displacement": 318,
          "Horsepower": 150,
          "Miles_per_Gallon": 15,
          "Name": "dodge coronet custom",
          "Origin": "USA",
          "Weight_in_lbs": 3777,
          "Year": "1973-01-01"
         },
         {
          "Acceleration": 11.5,
          "Cylinders": 8,
          "Displacement": 429,
          "Horsepower": 198,
          "Miles_per_Gallon": 12,
          "Name": "mercury marquis brougham",
          "Origin": "USA",
          "Weight_in_lbs": 4952,
          "Year": "1973-01-01"
         },
         {
          "Acceleration": 12,
          "Cylinders": 8,
          "Displacement": 400,
          "Horsepower": 150,
          "Miles_per_Gallon": 13,
          "Name": "chevrolet caprice classic",
          "Origin": "USA",
          "Weight_in_lbs": 4464,
          "Year": "1973-01-01"
         },
         {
          "Acceleration": 13,
          "Cylinders": 8,
          "Displacement": 351,
          "Horsepower": 158,
          "Miles_per_Gallon": 13,
          "Name": "ford ltd",
          "Origin": "USA",
          "Weight_in_lbs": 4363,
          "Year": "1973-01-01"
         },
         {
          "Acceleration": 14.5,
          "Cylinders": 8,
          "Displacement": 318,
          "Horsepower": 150,
          "Miles_per_Gallon": 14,
          "Name": "plymouth fury gran sedan",
          "Origin": "USA",
          "Weight_in_lbs": 4237,
          "Year": "1973-01-01"
         },
         {
          "Acceleration": 11,
          "Cylinders": 8,
          "Displacement": 440,
          "Horsepower": 215,
          "Miles_per_Gallon": 13,
          "Name": "chrysler new yorker brougham",
          "Origin": "USA",
          "Weight_in_lbs": 4735,
          "Year": "1973-01-01"
         },
         {
          "Acceleration": 11,
          "Cylinders": 8,
          "Displacement": 455,
          "Horsepower": 225,
          "Miles_per_Gallon": 12,
          "Name": "buick electra 225 custom",
          "Origin": "USA",
          "Weight_in_lbs": 4951,
          "Year": "1973-01-01"
         },
         {
          "Acceleration": 11,
          "Cylinders": 8,
          "Displacement": 360,
          "Horsepower": 175,
          "Miles_per_Gallon": 13,
          "Name": "amc ambassador brougham",
          "Origin": "USA",
          "Weight_in_lbs": 3821,
          "Year": "1973-01-01"
         },
         {
          "Acceleration": 16.5,
          "Cylinders": 6,
          "Displacement": 225,
          "Horsepower": 105,
          "Miles_per_Gallon": 18,
          "Name": "plymouth valiant",
          "Origin": "USA",
          "Weight_in_lbs": 3121,
          "Year": "1973-01-01"
         },
         {
          "Acceleration": 18,
          "Cylinders": 6,
          "Displacement": 250,
          "Horsepower": 100,
          "Miles_per_Gallon": 16,
          "Name": "chevrolet nova custom",
          "Origin": "USA",
          "Weight_in_lbs": 3278,
          "Year": "1973-01-01"
         },
         {
          "Acceleration": 16,
          "Cylinders": 6,
          "Displacement": 232,
          "Horsepower": 100,
          "Miles_per_Gallon": 18,
          "Name": "amc hornet",
          "Origin": "USA",
          "Weight_in_lbs": 2945,
          "Year": "1973-01-01"
         },
         {
          "Acceleration": 16.5,
          "Cylinders": 6,
          "Displacement": 250,
          "Horsepower": 88,
          "Miles_per_Gallon": 18,
          "Name": "ford maverick",
          "Origin": "USA",
          "Weight_in_lbs": 3021,
          "Year": "1973-01-01"
         },
         {
          "Acceleration": 16,
          "Cylinders": 6,
          "Displacement": 198,
          "Horsepower": 95,
          "Miles_per_Gallon": 23,
          "Name": "plymouth duster",
          "Origin": "USA",
          "Weight_in_lbs": 2904,
          "Year": "1973-01-01"
         },
         {
          "Acceleration": 21,
          "Cylinders": 4,
          "Displacement": 97,
          "Horsepower": 46,
          "Miles_per_Gallon": 26,
          "Name": "volkswagen super beetle",
          "Origin": "Europe",
          "Weight_in_lbs": 1950,
          "Year": "1973-01-01"
         },
         {
          "Acceleration": 14,
          "Cylinders": 8,
          "Displacement": 400,
          "Horsepower": 150,
          "Miles_per_Gallon": 11,
          "Name": "chevrolet impala",
          "Origin": "USA",
          "Weight_in_lbs": 4997,
          "Year": "1973-01-01"
         },
         {
          "Acceleration": 12.5,
          "Cylinders": 8,
          "Displacement": 400,
          "Horsepower": 167,
          "Miles_per_Gallon": 12,
          "Name": "ford country",
          "Origin": "USA",
          "Weight_in_lbs": 4906,
          "Year": "1973-01-01"
         },
         {
          "Acceleration": 13,
          "Cylinders": 8,
          "Displacement": 360,
          "Horsepower": 170,
          "Miles_per_Gallon": 13,
          "Name": "plymouth custom suburb",
          "Origin": "USA",
          "Weight_in_lbs": 4654,
          "Year": "1973-01-01"
         },
         {
          "Acceleration": 12.5,
          "Cylinders": 8,
          "Displacement": 350,
          "Horsepower": 180,
          "Miles_per_Gallon": 12,
          "Name": "oldsmobile vista cruiser",
          "Origin": "USA",
          "Weight_in_lbs": 4499,
          "Year": "1973-01-01"
         },
         {
          "Acceleration": 15,
          "Cylinders": 6,
          "Displacement": 232,
          "Horsepower": 100,
          "Miles_per_Gallon": 18,
          "Name": "amc gremlin",
          "Origin": "USA",
          "Weight_in_lbs": 2789,
          "Year": "1973-01-01"
         },
         {
          "Acceleration": 19,
          "Cylinders": 4,
          "Displacement": 97,
          "Horsepower": 88,
          "Miles_per_Gallon": 20,
          "Name": "toyota carina",
          "Origin": "Japan",
          "Weight_in_lbs": 2279,
          "Year": "1973-01-01"
         },
         {
          "Acceleration": 19.5,
          "Cylinders": 4,
          "Displacement": 140,
          "Horsepower": 72,
          "Miles_per_Gallon": 21,
          "Name": "chevrolet vega",
          "Origin": "USA",
          "Weight_in_lbs": 2401,
          "Year": "1973-01-01"
         },
         {
          "Acceleration": 16.5,
          "Cylinders": 4,
          "Displacement": 108,
          "Horsepower": 94,
          "Miles_per_Gallon": 22,
          "Name": "datsun 610",
          "Origin": "Japan",
          "Weight_in_lbs": 2379,
          "Year": "1973-01-01"
         },
         {
          "Acceleration": 13.5,
          "Cylinders": 3,
          "Displacement": 70,
          "Horsepower": 90,
          "Miles_per_Gallon": 18,
          "Name": "maxda rx3",
          "Origin": "Japan",
          "Weight_in_lbs": 2124,
          "Year": "1973-01-01"
         },
         {
          "Acceleration": 18.5,
          "Cylinders": 4,
          "Displacement": 122,
          "Horsepower": 85,
          "Miles_per_Gallon": 19,
          "Name": "ford pinto",
          "Origin": "USA",
          "Weight_in_lbs": 2310,
          "Year": "1973-01-01"
         },
         {
          "Acceleration": 14,
          "Cylinders": 6,
          "Displacement": 155,
          "Horsepower": 107,
          "Miles_per_Gallon": 21,
          "Name": "mercury capri v6",
          "Origin": "USA",
          "Weight_in_lbs": 2472,
          "Year": "1973-01-01"
         },
         {
          "Acceleration": 15.5,
          "Cylinders": 4,
          "Displacement": 98,
          "Horsepower": 90,
          "Miles_per_Gallon": 26,
          "Name": "fiat 124 sport coupe",
          "Origin": "Europe",
          "Weight_in_lbs": 2265,
          "Year": "1973-01-01"
         },
         {
          "Acceleration": 13,
          "Cylinders": 8,
          "Displacement": 350,
          "Horsepower": 145,
          "Miles_per_Gallon": 15,
          "Name": "chevrolet monte carlo s",
          "Origin": "USA",
          "Weight_in_lbs": 4082,
          "Year": "1973-01-01"
         },
         {
          "Acceleration": 9.5,
          "Cylinders": 8,
          "Displacement": 400,
          "Horsepower": 230,
          "Miles_per_Gallon": 16,
          "Name": "pontiac grand prix",
          "Origin": "USA",
          "Weight_in_lbs": 4278,
          "Year": "1973-01-01"
         },
         {
          "Acceleration": 19.5,
          "Cylinders": 4,
          "Displacement": 68,
          "Horsepower": 49,
          "Miles_per_Gallon": 29,
          "Name": "fiat 128",
          "Origin": "Europe",
          "Weight_in_lbs": 1867,
          "Year": "1973-01-01"
         },
         {
          "Acceleration": 15.5,
          "Cylinders": 4,
          "Displacement": 116,
          "Horsepower": 75,
          "Miles_per_Gallon": 24,
          "Name": "opel manta",
          "Origin": "Europe",
          "Weight_in_lbs": 2158,
          "Year": "1973-01-01"
         },
         {
          "Acceleration": 14,
          "Cylinders": 4,
          "Displacement": 114,
          "Horsepower": 91,
          "Miles_per_Gallon": 20,
          "Name": "audi 100ls",
          "Origin": "Europe",
          "Weight_in_lbs": 2582,
          "Year": "1973-01-01"
         },
         {
          "Acceleration": 15.5,
          "Cylinders": 4,
          "Displacement": 121,
          "Horsepower": 112,
          "Miles_per_Gallon": 19,
          "Name": "volvo 144ea",
          "Origin": "Europe",
          "Weight_in_lbs": 2868,
          "Year": "1973-01-01"
         },
         {
          "Acceleration": 11,
          "Cylinders": 8,
          "Displacement": 318,
          "Horsepower": 150,
          "Miles_per_Gallon": 15,
          "Name": "dodge dart custom",
          "Origin": "USA",
          "Weight_in_lbs": 3399,
          "Year": "1973-01-01"
         },
         {
          "Acceleration": 14,
          "Cylinders": 4,
          "Displacement": 121,
          "Horsepower": 110,
          "Miles_per_Gallon": 24,
          "Name": "saab 99le",
          "Origin": "Europe",
          "Weight_in_lbs": 2660,
          "Year": "1973-01-01"
         },
         {
          "Acceleration": 13.5,
          "Cylinders": 6,
          "Displacement": 156,
          "Horsepower": 122,
          "Miles_per_Gallon": 20,
          "Name": "toyota mark ii",
          "Origin": "Japan",
          "Weight_in_lbs": 2807,
          "Year": "1973-01-01"
         },
         {
          "Acceleration": 11,
          "Cylinders": 8,
          "Displacement": 350,
          "Horsepower": 180,
          "Miles_per_Gallon": 11,
          "Name": "oldsmobile omega",
          "Origin": "USA",
          "Weight_in_lbs": 3664,
          "Year": "1973-01-01"
         },
         {
          "Acceleration": 16.5,
          "Cylinders": 6,
          "Displacement": 198,
          "Horsepower": 95,
          "Miles_per_Gallon": 20,
          "Name": "plymouth duster",
          "Origin": "USA",
          "Weight_in_lbs": 3102,
          "Year": "1974-01-01"
         },
         {
          "Acceleration": 17,
          "Cylinders": 6,
          "Displacement": 200,
          "Horsepower": null,
          "Miles_per_Gallon": 21,
          "Name": "ford maverick",
          "Origin": "USA",
          "Weight_in_lbs": 2875,
          "Year": "1974-01-01"
         },
         {
          "Acceleration": 16,
          "Cylinders": 6,
          "Displacement": 232,
          "Horsepower": 100,
          "Miles_per_Gallon": 19,
          "Name": "amc hornet",
          "Origin": "USA",
          "Weight_in_lbs": 2901,
          "Year": "1974-01-01"
         },
         {
          "Acceleration": 17,
          "Cylinders": 6,
          "Displacement": 250,
          "Horsepower": 100,
          "Miles_per_Gallon": 15,
          "Name": "chevrolet nova",
          "Origin": "USA",
          "Weight_in_lbs": 3336,
          "Year": "1974-01-01"
         },
         {
          "Acceleration": 19,
          "Cylinders": 4,
          "Displacement": 79,
          "Horsepower": 67,
          "Miles_per_Gallon": 31,
          "Name": "datsun b210",
          "Origin": "Japan",
          "Weight_in_lbs": 1950,
          "Year": "1974-01-01"
         },
         {
          "Acceleration": 16.5,
          "Cylinders": 4,
          "Displacement": 122,
          "Horsepower": 80,
          "Miles_per_Gallon": 26,
          "Name": "ford pinto",
          "Origin": "USA",
          "Weight_in_lbs": 2451,
          "Year": "1974-01-01"
         },
         {
          "Acceleration": 21,
          "Cylinders": 4,
          "Displacement": 71,
          "Horsepower": 65,
          "Miles_per_Gallon": 32,
          "Name": "toyota corolla 1200",
          "Origin": "Japan",
          "Weight_in_lbs": 1836,
          "Year": "1974-01-01"
         },
         {
          "Acceleration": 17,
          "Cylinders": 4,
          "Displacement": 140,
          "Horsepower": 75,
          "Miles_per_Gallon": 25,
          "Name": "chevrolet vega",
          "Origin": "USA",
          "Weight_in_lbs": 2542,
          "Year": "1974-01-01"
         },
         {
          "Acceleration": 17,
          "Cylinders": 6,
          "Displacement": 250,
          "Horsepower": 100,
          "Miles_per_Gallon": 16,
          "Name": "chevrolet chevelle malibu classic",
          "Origin": "USA",
          "Weight_in_lbs": 3781,
          "Year": "1974-01-01"
         },
         {
          "Acceleration": 18,
          "Cylinders": 6,
          "Displacement": 258,
          "Horsepower": 110,
          "Miles_per_Gallon": 16,
          "Name": "amc matador",
          "Origin": "USA",
          "Weight_in_lbs": 3632,
          "Year": "1974-01-01"
         },
         {
          "Acceleration": 16.5,
          "Cylinders": 6,
          "Displacement": 225,
          "Horsepower": 105,
          "Miles_per_Gallon": 18,
          "Name": "plymouth satellite sebring",
          "Origin": "USA",
          "Weight_in_lbs": 3613,
          "Year": "1974-01-01"
         },
         {
          "Acceleration": 14,
          "Cylinders": 8,
          "Displacement": 302,
          "Horsepower": 140,
          "Miles_per_Gallon": 16,
          "Name": "ford gran torino",
          "Origin": "USA",
          "Weight_in_lbs": 4141,
          "Year": "1974-01-01"
         },
         {
          "Acceleration": 14.5,
          "Cylinders": 8,
          "Displacement": 350,
          "Horsepower": 150,
          "Miles_per_Gallon": 13,
          "Name": "buick century luxus (sw)",
          "Origin": "USA",
          "Weight_in_lbs": 4699,
          "Year": "1974-01-01"
         },
         {
          "Acceleration": 13.5,
          "Cylinders": 8,
          "Displacement": 318,
          "Horsepower": 150,
          "Miles_per_Gallon": 14,
          "Name": "dodge coronet custom (sw)",
          "Origin": "USA",
          "Weight_in_lbs": 4457,
          "Year": "1974-01-01"
         },
         {
          "Acceleration": 16,
          "Cylinders": 8,
          "Displacement": 302,
          "Horsepower": 140,
          "Miles_per_Gallon": 14,
          "Name": "ford gran torino (sw)",
          "Origin": "USA",
          "Weight_in_lbs": 4638,
          "Year": "1974-01-01"
         },
         {
          "Acceleration": 15.5,
          "Cylinders": 8,
          "Displacement": 304,
          "Horsepower": 150,
          "Miles_per_Gallon": 14,
          "Name": "amc matador (sw)",
          "Origin": "USA",
          "Weight_in_lbs": 4257,
          "Year": "1974-01-01"
         },
         {
          "Acceleration": 16.5,
          "Cylinders": 4,
          "Displacement": 98,
          "Horsepower": 83,
          "Miles_per_Gallon": 29,
          "Name": "audi fox",
          "Origin": "Europe",
          "Weight_in_lbs": 2219,
          "Year": "1974-01-01"
         },
         {
          "Acceleration": 15.5,
          "Cylinders": 4,
          "Displacement": 79,
          "Horsepower": 67,
          "Miles_per_Gallon": 26,
          "Name": "volkswagen dasher",
          "Origin": "Europe",
          "Weight_in_lbs": 1963,
          "Year": "1974-01-01"
         },
         {
          "Acceleration": 14.5,
          "Cylinders": 4,
          "Displacement": 97,
          "Horsepower": 78,
          "Miles_per_Gallon": 26,
          "Name": "opel manta",
          "Origin": "Europe",
          "Weight_in_lbs": 2300,
          "Year": "1974-01-01"
         },
         {
          "Acceleration": 16.5,
          "Cylinders": 4,
          "Displacement": 76,
          "Horsepower": 52,
          "Miles_per_Gallon": 31,
          "Name": "toyota corona",
          "Origin": "Japan",
          "Weight_in_lbs": 1649,
          "Year": "1974-01-01"
         },
         {
          "Acceleration": 19,
          "Cylinders": 4,
          "Displacement": 83,
          "Horsepower": 61,
          "Miles_per_Gallon": 32,
          "Name": "datsun 710",
          "Origin": "Japan",
          "Weight_in_lbs": 2003,
          "Year": "1974-01-01"
         },
         {
          "Acceleration": 14.5,
          "Cylinders": 4,
          "Displacement": 90,
          "Horsepower": 75,
          "Miles_per_Gallon": 28,
          "Name": "dodge colt",
          "Origin": "USA",
          "Weight_in_lbs": 2125,
          "Year": "1974-01-01"
         },
         {
          "Acceleration": 15.5,
          "Cylinders": 4,
          "Displacement": 90,
          "Horsepower": 75,
          "Miles_per_Gallon": 24,
          "Name": "fiat 128",
          "Origin": "Europe",
          "Weight_in_lbs": 2108,
          "Year": "1974-01-01"
         },
         {
          "Acceleration": 14,
          "Cylinders": 4,
          "Displacement": 116,
          "Horsepower": 75,
          "Miles_per_Gallon": 26,
          "Name": "fiat 124 tc",
          "Origin": "Europe",
          "Weight_in_lbs": 2246,
          "Year": "1974-01-01"
         },
         {
          "Acceleration": 15,
          "Cylinders": 4,
          "Displacement": 120,
          "Horsepower": 97,
          "Miles_per_Gallon": 24,
          "Name": "honda civic",
          "Origin": "Japan",
          "Weight_in_lbs": 2489,
          "Year": "1974-01-01"
         },
         {
          "Acceleration": 15.5,
          "Cylinders": 4,
          "Displacement": 108,
          "Horsepower": 93,
          "Miles_per_Gallon": 26,
          "Name": "subaru",
          "Origin": "Japan",
          "Weight_in_lbs": 2391,
          "Year": "1974-01-01"
         },
         {
          "Acceleration": 16,
          "Cylinders": 4,
          "Displacement": 79,
          "Horsepower": 67,
          "Miles_per_Gallon": 31,
          "Name": "fiat x1.9",
          "Origin": "Europe",
          "Weight_in_lbs": 2000,
          "Year": "1974-01-01"
         },
         {
          "Acceleration": 16,
          "Cylinders": 6,
          "Displacement": 225,
          "Horsepower": 95,
          "Miles_per_Gallon": 19,
          "Name": "plymouth valiant custom",
          "Origin": "USA",
          "Weight_in_lbs": 3264,
          "Year": "1975-01-01"
         },
         {
          "Acceleration": 16,
          "Cylinders": 6,
          "Displacement": 250,
          "Horsepower": 105,
          "Miles_per_Gallon": 18,
          "Name": "chevrolet nova",
          "Origin": "USA",
          "Weight_in_lbs": 3459,
          "Year": "1975-01-01"
         },
         {
          "Acceleration": 21,
          "Cylinders": 6,
          "Displacement": 250,
          "Horsepower": 72,
          "Miles_per_Gallon": 15,
          "Name": "mercury monarch",
          "Origin": "USA",
          "Weight_in_lbs": 3432,
          "Year": "1975-01-01"
         },
         {
          "Acceleration": 19.5,
          "Cylinders": 6,
          "Displacement": 250,
          "Horsepower": 72,
          "Miles_per_Gallon": 15,
          "Name": "ford maverick",
          "Origin": "USA",
          "Weight_in_lbs": 3158,
          "Year": "1975-01-01"
         },
         {
          "Acceleration": 11.5,
          "Cylinders": 8,
          "Displacement": 400,
          "Horsepower": 170,
          "Miles_per_Gallon": 16,
          "Name": "pontiac catalina",
          "Origin": "USA",
          "Weight_in_lbs": 4668,
          "Year": "1975-01-01"
         },
         {
          "Acceleration": 14,
          "Cylinders": 8,
          "Displacement": 350,
          "Horsepower": 145,
          "Miles_per_Gallon": 15,
          "Name": "chevrolet bel air",
          "Origin": "USA",
          "Weight_in_lbs": 4440,
          "Year": "1975-01-01"
         },
         {
          "Acceleration": 14.5,
          "Cylinders": 8,
          "Displacement": 318,
          "Horsepower": 150,
          "Miles_per_Gallon": 16,
          "Name": "plymouth grand fury",
          "Origin": "USA",
          "Weight_in_lbs": 4498,
          "Year": "1975-01-01"
         },
         {
          "Acceleration": 13.5,
          "Cylinders": 8,
          "Displacement": 351,
          "Horsepower": 148,
          "Miles_per_Gallon": 14,
          "Name": "ford ltd",
          "Origin": "USA",
          "Weight_in_lbs": 4657,
          "Year": "1975-01-01"
         },
         {
          "Acceleration": 21,
          "Cylinders": 6,
          "Displacement": 231,
          "Horsepower": 110,
          "Miles_per_Gallon": 17,
          "Name": "buick century",
          "Origin": "USA",
          "Weight_in_lbs": 3907,
          "Year": "1975-01-01"
         },
         {
          "Acceleration": 18.5,
          "Cylinders": 6,
          "Displacement": 250,
          "Horsepower": 105,
          "Miles_per_Gallon": 16,
          "Name": "chevroelt chevelle malibu",
          "Origin": "USA",
          "Weight_in_lbs": 3897,
          "Year": "1975-01-01"
         },
         {
          "Acceleration": 19,
          "Cylinders": 6,
          "Displacement": 258,
          "Horsepower": 110,
          "Miles_per_Gallon": 15,
          "Name": "amc matador",
          "Origin": "USA",
          "Weight_in_lbs": 3730,
          "Year": "1975-01-01"
         },
         {
          "Acceleration": 19,
          "Cylinders": 6,
          "Displacement": 225,
          "Horsepower": 95,
          "Miles_per_Gallon": 18,
          "Name": "plymouth fury",
          "Origin": "USA",
          "Weight_in_lbs": 3785,
          "Year": "1975-01-01"
         },
         {
          "Acceleration": 15,
          "Cylinders": 6,
          "Displacement": 231,
          "Horsepower": 110,
          "Miles_per_Gallon": 21,
          "Name": "buick skyhawk",
          "Origin": "USA",
          "Weight_in_lbs": 3039,
          "Year": "1975-01-01"
         },
         {
          "Acceleration": 13.5,
          "Cylinders": 8,
          "Displacement": 262,
          "Horsepower": 110,
          "Miles_per_Gallon": 20,
          "Name": "chevrolet monza 2+2",
          "Origin": "USA",
          "Weight_in_lbs": 3221,
          "Year": "1975-01-01"
         },
         {
          "Acceleration": 12,
          "Cylinders": 8,
          "Displacement": 302,
          "Horsepower": 129,
          "Miles_per_Gallon": 13,
          "Name": "ford mustang ii",
          "Origin": "USA",
          "Weight_in_lbs": 3169,
          "Year": "1975-01-01"
         },
         {
          "Acceleration": 16,
          "Cylinders": 4,
          "Displacement": 97,
          "Horsepower": 75,
          "Miles_per_Gallon": 29,
          "Name": "toyota corolla",
          "Origin": "Japan",
          "Weight_in_lbs": 2171,
          "Year": "1975-01-01"
         },
         {
          "Acceleration": 17,
          "Cylinders": 4,
          "Displacement": 140,
          "Horsepower": 83,
          "Miles_per_Gallon": 23,
          "Name": "ford pinto",
          "Origin": "USA",
          "Weight_in_lbs": 2639,
          "Year": "1975-01-01"
         },
         {
          "Acceleration": 16,
          "Cylinders": 6,
          "Displacement": 232,
          "Horsepower": 100,
          "Miles_per_Gallon": 20,
          "Name": "amc gremlin",
          "Origin": "USA",
          "Weight_in_lbs": 2914,
          "Year": "1975-01-01"
         },
         {
          "Acceleration": 18.5,
          "Cylinders": 4,
          "Displacement": 140,
          "Horsepower": 78,
          "Miles_per_Gallon": 23,
          "Name": "pontiac astro",
          "Origin": "USA",
          "Weight_in_lbs": 2592,
          "Year": "1975-01-01"
         },
         {
          "Acceleration": 13.5,
          "Cylinders": 4,
          "Displacement": 134,
          "Horsepower": 96,
          "Miles_per_Gallon": 24,
          "Name": "toyota corona",
          "Origin": "Japan",
          "Weight_in_lbs": 2702,
          "Year": "1975-01-01"
         },
         {
          "Acceleration": 16.5,
          "Cylinders": 4,
          "Displacement": 90,
          "Horsepower": 71,
          "Miles_per_Gallon": 25,
          "Name": "volkswagen dasher",
          "Origin": "Europe",
          "Weight_in_lbs": 2223,
          "Year": "1975-01-01"
         },
         {
          "Acceleration": 17,
          "Cylinders": 4,
          "Displacement": 119,
          "Horsepower": 97,
          "Miles_per_Gallon": 24,
          "Name": "datsun 710",
          "Origin": "Japan",
          "Weight_in_lbs": 2545,
          "Year": "1975-01-01"
         },
         {
          "Acceleration": 14.5,
          "Cylinders": 6,
          "Displacement": 171,
          "Horsepower": 97,
          "Miles_per_Gallon": 18,
          "Name": "ford pinto",
          "Origin": "USA",
          "Weight_in_lbs": 2984,
          "Year": "1975-01-01"
         },
         {
          "Acceleration": 14,
          "Cylinders": 4,
          "Displacement": 90,
          "Horsepower": 70,
          "Miles_per_Gallon": 29,
          "Name": "volkswagen rabbit",
          "Origin": "Europe",
          "Weight_in_lbs": 1937,
          "Year": "1975-01-01"
         },
         {
          "Acceleration": 17,
          "Cylinders": 6,
          "Displacement": 232,
          "Horsepower": 90,
          "Miles_per_Gallon": 19,
          "Name": "amc pacer",
          "Origin": "USA",
          "Weight_in_lbs": 3211,
          "Year": "1975-01-01"
         },
         {
          "Acceleration": 15,
          "Cylinders": 4,
          "Displacement": 115,
          "Horsepower": 95,
          "Miles_per_Gallon": 23,
          "Name": "audi 100ls",
          "Origin": "Europe",
          "Weight_in_lbs": 2694,
          "Year": "1975-01-01"
         },
         {
          "Acceleration": 17,
          "Cylinders": 4,
          "Displacement": 120,
          "Horsepower": 88,
          "Miles_per_Gallon": 23,
          "Name": "peugeot 504",
          "Origin": "Europe",
          "Weight_in_lbs": 2957,
          "Year": "1975-01-01"
         },
         {
          "Acceleration": 14.5,
          "Cylinders": 4,
          "Displacement": 121,
          "Horsepower": 98,
          "Miles_per_Gallon": 22,
          "Name": "volvo 244dl",
          "Origin": "Europe",
          "Weight_in_lbs": 2945,
          "Year": "1975-01-01"
         },
         {
          "Acceleration": 13.5,
          "Cylinders": 4,
          "Displacement": 121,
          "Horsepower": 115,
          "Miles_per_Gallon": 25,
          "Name": "saab 99le",
          "Origin": "Europe",
          "Weight_in_lbs": 2671,
          "Year": "1975-01-01"
         },
         {
          "Acceleration": 17.5,
          "Cylinders": 4,
          "Displacement": 91,
          "Horsepower": 53,
          "Miles_per_Gallon": 33,
          "Name": "honda civic cvcc",
          "Origin": "Japan",
          "Weight_in_lbs": 1795,
          "Year": "1975-01-01"
         },
         {
          "Acceleration": 15.5,
          "Cylinders": 4,
          "Displacement": 107,
          "Horsepower": 86,
          "Miles_per_Gallon": 28,
          "Name": "fiat 131",
          "Origin": "Europe",
          "Weight_in_lbs": 2464,
          "Year": "1976-01-01"
         },
         {
          "Acceleration": 16.9,
          "Cylinders": 4,
          "Displacement": 116,
          "Horsepower": 81,
          "Miles_per_Gallon": 25,
          "Name": "opel 1900",
          "Origin": "Europe",
          "Weight_in_lbs": 2220,
          "Year": "1976-01-01"
         },
         {
          "Acceleration": 14.9,
          "Cylinders": 4,
          "Displacement": 140,
          "Horsepower": 92,
          "Miles_per_Gallon": 25,
          "Name": "capri ii",
          "Origin": "USA",
          "Weight_in_lbs": 2572,
          "Year": "1976-01-01"
         },
         {
          "Acceleration": 17.7,
          "Cylinders": 4,
          "Displacement": 98,
          "Horsepower": 79,
          "Miles_per_Gallon": 26,
          "Name": "dodge colt",
          "Origin": "USA",
          "Weight_in_lbs": 2255,
          "Year": "1976-01-01"
         },
         {
          "Acceleration": 15.3,
          "Cylinders": 4,
          "Displacement": 101,
          "Horsepower": 83,
          "Miles_per_Gallon": 27,
          "Name": "renault 12tl",
          "Origin": "Europe",
          "Weight_in_lbs": 2202,
          "Year": "1976-01-01"
         },
         {
          "Acceleration": 13,
          "Cylinders": 8,
          "Displacement": 305,
          "Horsepower": 140,
          "Miles_per_Gallon": 17.5,
          "Name": "chevrolet chevelle malibu classic",
          "Origin": "USA",
          "Weight_in_lbs": 4215,
          "Year": "1976-01-01"
         },
         {
          "Acceleration": 13,
          "Cylinders": 8,
          "Displacement": 318,
          "Horsepower": 150,
          "Miles_per_Gallon": 16,
          "Name": "dodge coronet brougham",
          "Origin": "USA",
          "Weight_in_lbs": 4190,
          "Year": "1976-01-01"
         },
         {
          "Acceleration": 13.9,
          "Cylinders": 8,
          "Displacement": 304,
          "Horsepower": 120,
          "Miles_per_Gallon": 15.5,
          "Name": "amc matador",
          "Origin": "USA",
          "Weight_in_lbs": 3962,
          "Year": "1976-01-01"
         },
         {
          "Acceleration": 12.8,
          "Cylinders": 8,
          "Displacement": 351,
          "Horsepower": 152,
          "Miles_per_Gallon": 14.5,
          "Name": "ford gran torino",
          "Origin": "USA",
          "Weight_in_lbs": 4215,
          "Year": "1976-01-01"
         },
         {
          "Acceleration": 15.4,
          "Cylinders": 6,
          "Displacement": 225,
          "Horsepower": 100,
          "Miles_per_Gallon": 22,
          "Name": "plymouth valiant",
          "Origin": "USA",
          "Weight_in_lbs": 3233,
          "Year": "1976-01-01"
         },
         {
          "Acceleration": 14.5,
          "Cylinders": 6,
          "Displacement": 250,
          "Horsepower": 105,
          "Miles_per_Gallon": 22,
          "Name": "chevrolet nova",
          "Origin": "USA",
          "Weight_in_lbs": 3353,
          "Year": "1976-01-01"
         },
         {
          "Acceleration": 17.6,
          "Cylinders": 6,
          "Displacement": 200,
          "Horsepower": 81,
          "Miles_per_Gallon": 24,
          "Name": "ford maverick",
          "Origin": "USA",
          "Weight_in_lbs": 3012,
          "Year": "1976-01-01"
         },
         {
          "Acceleration": 17.6,
          "Cylinders": 6,
          "Displacement": 232,
          "Horsepower": 90,
          "Miles_per_Gallon": 22.5,
          "Name": "amc hornet",
          "Origin": "USA",
          "Weight_in_lbs": 3085,
          "Year": "1976-01-01"
         },
         {
          "Acceleration": 22.2,
          "Cylinders": 4,
          "Displacement": 85,
          "Horsepower": 52,
          "Miles_per_Gallon": 29,
          "Name": "chevrolet chevette",
          "Origin": "USA",
          "Weight_in_lbs": 2035,
          "Year": "1976-01-01"
         },
         {
          "Acceleration": 22.1,
          "Cylinders": 4,
          "Displacement": 98,
          "Horsepower": 60,
          "Miles_per_Gallon": 24.5,
          "Name": "chevrolet woody",
          "Origin": "USA",
          "Weight_in_lbs": 2164,
          "Year": "1976-01-01"
         },
         {
          "Acceleration": 14.2,
          "Cylinders": 4,
          "Displacement": 90,
          "Horsepower": 70,
          "Miles_per_Gallon": 29,
          "Name": "vw rabbit",
          "Origin": "Europe",
          "Weight_in_lbs": 1937,
          "Year": "1976-01-01"
         },
         {
          "Acceleration": 17.4,
          "Cylinders": 4,
          "Displacement": 91,
          "Horsepower": 53,
          "Miles_per_Gallon": 33,
          "Name": "honda civic",
          "Origin": "Japan",
          "Weight_in_lbs": 1795,
          "Year": "1976-01-01"
         },
         {
          "Acceleration": 17.7,
          "Cylinders": 6,
          "Displacement": 225,
          "Horsepower": 100,
          "Miles_per_Gallon": 20,
          "Name": "dodge aspen se",
          "Origin": "USA",
          "Weight_in_lbs": 3651,
          "Year": "1976-01-01"
         },
         {
          "Acceleration": 21,
          "Cylinders": 6,
          "Displacement": 250,
          "Horsepower": 78,
          "Miles_per_Gallon": 18,
          "Name": "ford granada ghia",
          "Origin": "USA",
          "Weight_in_lbs": 3574,
          "Year": "1976-01-01"
         },
         {
          "Acceleration": 16.2,
          "Cylinders": 6,
          "Displacement": 250,
          "Horsepower": 110,
          "Miles_per_Gallon": 18.5,
          "Name": "pontiac ventura sj",
          "Origin": "USA",
          "Weight_in_lbs": 3645,
          "Year": "1976-01-01"
         },
         {
          "Acceleration": 17.8,
          "Cylinders": 6,
          "Displacement": 258,
          "Horsepower": 95,
          "Miles_per_Gallon": 17.5,
          "Name": "amc pacer d/l",
          "Origin": "USA",
          "Weight_in_lbs": 3193,
          "Year": "1976-01-01"
         },
         {
          "Acceleration": 12.2,
          "Cylinders": 4,
          "Displacement": 97,
          "Horsepower": 71,
          "Miles_per_Gallon": 29.5,
          "Name": "volkswagen rabbit",
          "Origin": "Europe",
          "Weight_in_lbs": 1825,
          "Year": "1976-01-01"
         },
         {
          "Acceleration": 17,
          "Cylinders": 4,
          "Displacement": 85,
          "Horsepower": 70,
          "Miles_per_Gallon": 32,
          "Name": "datsun b-210",
          "Origin": "Japan",
          "Weight_in_lbs": 1990,
          "Year": "1976-01-01"
         },
         {
          "Acceleration": 16.4,
          "Cylinders": 4,
          "Displacement": 97,
          "Horsepower": 75,
          "Miles_per_Gallon": 28,
          "Name": "toyota corolla",
          "Origin": "Japan",
          "Weight_in_lbs": 2155,
          "Year": "1976-01-01"
         },
         {
          "Acceleration": 13.6,
          "Cylinders": 4,
          "Displacement": 140,
          "Horsepower": 72,
          "Miles_per_Gallon": 26.5,
          "Name": "ford pinto",
          "Origin": "USA",
          "Weight_in_lbs": 2565,
          "Year": "1976-01-01"
         },
         {
          "Acceleration": 15.7,
          "Cylinders": 4,
          "Displacement": 130,
          "Horsepower": 102,
          "Miles_per_Gallon": 20,
          "Name": "volvo 245",
          "Origin": "Europe",
          "Weight_in_lbs": 3150,
          "Year": "1976-01-01"
         },
         {
          "Acceleration": 13.2,
          "Cylinders": 8,
          "Displacement": 318,
          "Horsepower": 150,
          "Miles_per_Gallon": 13,
          "Name": "plymouth volare premier v8",
          "Origin": "USA",
          "Weight_in_lbs": 3940,
          "Year": "1976-01-01"
         },
         {
          "Acceleration": 21.9,
          "Cylinders": 4,
          "Displacement": 120,
          "Horsepower": 88,
          "Miles_per_Gallon": 19,
          "Name": "peugeot 504",
          "Origin": "Europe",
          "Weight_in_lbs": 3270,
          "Year": "1976-01-01"
         },
         {
          "Acceleration": 15.5,
          "Cylinders": 6,
          "Displacement": 156,
          "Horsepower": 108,
          "Miles_per_Gallon": 19,
          "Name": "toyota mark ii",
          "Origin": "Japan",
          "Weight_in_lbs": 2930,
          "Year": "1976-01-01"
         },
         {
          "Acceleration": 16.7,
          "Cylinders": 6,
          "Displacement": 168,
          "Horsepower": 120,
          "Miles_per_Gallon": 16.5,
          "Name": "mercedes-benz 280s",
          "Origin": "Europe",
          "Weight_in_lbs": 3820,
          "Year": "1976-01-01"
         },
         {
          "Acceleration": 12.1,
          "Cylinders": 8,
          "Displacement": 350,
          "Horsepower": 180,
          "Miles_per_Gallon": 16.5,
          "Name": "cadillac seville",
          "Origin": "USA",
          "Weight_in_lbs": 4380,
          "Year": "1976-01-01"
         },
         {
          "Acceleration": 12,
          "Cylinders": 8,
          "Displacement": 350,
          "Horsepower": 145,
          "Miles_per_Gallon": 13,
          "Name": "chevy c10",
          "Origin": "USA",
          "Weight_in_lbs": 4055,
          "Year": "1976-01-01"
         },
         {
          "Acceleration": 15,
          "Cylinders": 8,
          "Displacement": 302,
          "Horsepower": 130,
          "Miles_per_Gallon": 13,
          "Name": "ford f108",
          "Origin": "USA",
          "Weight_in_lbs": 3870,
          "Year": "1976-01-01"
         },
         {
          "Acceleration": 14,
          "Cylinders": 8,
          "Displacement": 318,
          "Horsepower": 150,
          "Miles_per_Gallon": 13,
          "Name": "dodge d100",
          "Origin": "USA",
          "Weight_in_lbs": 3755,
          "Year": "1976-01-01"
         },
         {
          "Acceleration": 18.5,
          "Cylinders": 4,
          "Displacement": 98,
          "Horsepower": 68,
          "Miles_per_Gallon": 31.5,
          "Name": "honda Accelerationord cvcc",
          "Origin": "Japan",
          "Weight_in_lbs": 2045,
          "Year": "1977-01-01"
         },
         {
          "Acceleration": 14.8,
          "Cylinders": 4,
          "Displacement": 111,
          "Horsepower": 80,
          "Miles_per_Gallon": 30,
          "Name": "buick opel isuzu deluxe",
          "Origin": "USA",
          "Weight_in_lbs": 2155,
          "Year": "1977-01-01"
         },
         {
          "Acceleration": 18.6,
          "Cylinders": 4,
          "Displacement": 79,
          "Horsepower": 58,
          "Miles_per_Gallon": 36,
          "Name": "renault 5 gtl",
          "Origin": "Europe",
          "Weight_in_lbs": 1825,
          "Year": "1977-01-01"
         },
         {
          "Acceleration": 15.5,
          "Cylinders": 4,
          "Displacement": 122,
          "Horsepower": 96,
          "Miles_per_Gallon": 25.5,
          "Name": "plymouth arrow gs",
          "Origin": "USA",
          "Weight_in_lbs": 2300,
          "Year": "1977-01-01"
         },
         {
          "Acceleration": 16.8,
          "Cylinders": 4,
          "Displacement": 85,
          "Horsepower": 70,
          "Miles_per_Gallon": 33.5,
          "Name": "datsun f-10 hatchback",
          "Origin": "Japan",
          "Weight_in_lbs": 1945,
          "Year": "1977-01-01"
         },
         {
          "Acceleration": 12.5,
          "Cylinders": 8,
          "Displacement": 305,
          "Horsepower": 145,
          "Miles_per_Gallon": 17.5,
          "Name": "chevrolet caprice classic",
          "Origin": "USA",
          "Weight_in_lbs": 3880,
          "Year": "1977-01-01"
         },
         {
          "Acceleration": 19,
          "Cylinders": 8,
          "Displacement": 260,
          "Horsepower": 110,
          "Miles_per_Gallon": 17,
          "Name": "oldsmobile cutlass supreme",
          "Origin": "USA",
          "Weight_in_lbs": 4060,
          "Year": "1977-01-01"
         },
         {
          "Acceleration": 13.7,
          "Cylinders": 8,
          "Displacement": 318,
          "Horsepower": 145,
          "Miles_per_Gallon": 15.5,
          "Name": "dodge monaco brougham",
          "Origin": "USA",
          "Weight_in_lbs": 4140,
          "Year": "1977-01-01"
         },
         {
          "Acceleration": 14.9,
          "Cylinders": 8,
          "Displacement": 302,
          "Horsepower": 130,
          "Miles_per_Gallon": 15,
          "Name": "mercury cougar brougham",
          "Origin": "USA",
          "Weight_in_lbs": 4295,
          "Year": "1977-01-01"
         },
         {
          "Acceleration": 16.4,
          "Cylinders": 6,
          "Displacement": 250,
          "Horsepower": 110,
          "Miles_per_Gallon": 17.5,
          "Name": "chevrolet concours",
          "Origin": "USA",
          "Weight_in_lbs": 3520,
          "Year": "1977-01-01"
         },
         {
          "Acceleration": 16.9,
          "Cylinders": 6,
          "Displacement": 231,
          "Horsepower": 105,
          "Miles_per_Gallon": 20.5,
          "Name": "buick skylark",
          "Origin": "USA",
          "Weight_in_lbs": 3425,
          "Year": "1977-01-01"
         },
         {
          "Acceleration": 17.7,
          "Cylinders": 6,
          "Displacement": 225,
          "Horsepower": 100,
          "Miles_per_Gallon": 19,
          "Name": "plymouth volare custom",
          "Origin": "USA",
          "Weight_in_lbs": 3630,
          "Year": "1977-01-01"
         },
         {
          "Acceleration": 19,
          "Cylinders": 6,
          "Displacement": 250,
          "Horsepower": 98,
          "Miles_per_Gallon": 18.5,
          "Name": "ford granada",
          "Origin": "USA",
          "Weight_in_lbs": 3525,
          "Year": "1977-01-01"
         },
         {
          "Acceleration": 11.1,
          "Cylinders": 8,
          "Displacement": 400,
          "Horsepower": 180,
          "Miles_per_Gallon": 16,
          "Name": "pontiac grand prix lj",
          "Origin": "USA",
          "Weight_in_lbs": 4220,
          "Year": "1977-01-01"
         },
         {
          "Acceleration": 11.4,
          "Cylinders": 8,
          "Displacement": 350,
          "Horsepower": 170,
          "Miles_per_Gallon": 15.5,
          "Name": "chevrolet monte carlo landau",
          "Origin": "USA",
          "Weight_in_lbs": 4165,
          "Year": "1977-01-01"
         },
         {
          "Acceleration": 12.2,
          "Cylinders": 8,
          "Displacement": 400,
          "Horsepower": 190,
          "Miles_per_Gallon": 15.5,
          "Name": "chrysler cordoba",
          "Origin": "USA",
          "Weight_in_lbs": 4325,
          "Year": "1977-01-01"
         },
         {
          "Acceleration": 14.5,
          "Cylinders": 8,
          "Displacement": 351,
          "Horsepower": 149,
          "Miles_per_Gallon": 16,
          "Name": "ford thunderbird",
          "Origin": "USA",
          "Weight_in_lbs": 4335,
          "Year": "1977-01-01"
         },
         {
          "Acceleration": 14.5,
          "Cylinders": 4,
          "Displacement": 97,
          "Horsepower": 78,
          "Miles_per_Gallon": 29,
          "Name": "volkswagen rabbit custom",
          "Origin": "Europe",
          "Weight_in_lbs": 1940,
          "Year": "1977-01-01"
         },
         {
          "Acceleration": 16,
          "Cylinders": 4,
          "Displacement": 151,
          "Horsepower": 88,
          "Miles_per_Gallon": 24.5,
          "Name": "pontiac sunbird coupe",
          "Origin": "USA",
          "Weight_in_lbs": 2740,
          "Year": "1977-01-01"
         },
         {
          "Acceleration": 18.2,
          "Cylinders": 4,
          "Displacement": 97,
          "Horsepower": 75,
          "Miles_per_Gallon": 26,
          "Name": "toyota corolla liftback",
          "Origin": "Japan",
          "Weight_in_lbs": 2265,
          "Year": "1977-01-01"
         },
         {
          "Acceleration": 15.8,
          "Cylinders": 4,
          "Displacement": 140,
          "Horsepower": 89,
          "Miles_per_Gallon": 25.5,
          "Name": "ford mustang ii 2+2",
          "Origin": "USA",
          "Weight_in_lbs": 2755,
          "Year": "1977-01-01"
         },
         {
          "Acceleration": 17,
          "Cylinders": 4,
          "Displacement": 98,
          "Horsepower": 63,
          "Miles_per_Gallon": 30.5,
          "Name": "chevrolet chevette",
          "Origin": "USA",
          "Weight_in_lbs": 2051,
          "Year": "1977-01-01"
         },
         {
          "Acceleration": 15.9,
          "Cylinders": 4,
          "Displacement": 98,
          "Horsepower": 83,
          "Miles_per_Gallon": 33.5,
          "Name": "dodge colt m/m",
          "Origin": "USA",
          "Weight_in_lbs": 2075,
          "Year": "1977-01-01"
         },
         {
          "Acceleration": 16.4,
          "Cylinders": 4,
          "Displacement": 97,
          "Horsepower": 67,
          "Miles_per_Gallon": 30,
          "Name": "subaru dl",
          "Origin": "Japan",
          "Weight_in_lbs": 1985,
          "Year": "1977-01-01"
         },
         {
          "Acceleration": 14.1,
          "Cylinders": 4,
          "Displacement": 97,
          "Horsepower": 78,
          "Miles_per_Gallon": 30.5,
          "Name": "volkswagen dasher",
          "Origin": "Europe",
          "Weight_in_lbs": 2190,
          "Year": "1977-01-01"
         },
         {
          "Acceleration": 14.5,
          "Cylinders": 6,
          "Displacement": 146,
          "Horsepower": 97,
          "Miles_per_Gallon": 22,
          "Name": "datsun 810",
          "Origin": "Japan",
          "Weight_in_lbs": 2815,
          "Year": "1977-01-01"
         },
         {
          "Acceleration": 12.8,
          "Cylinders": 4,
          "Displacement": 121,
          "Horsepower": 110,
          "Miles_per_Gallon": 21.5,
          "Name": "bmw 320i",
          "Origin": "Europe",
          "Weight_in_lbs": 2600,
          "Year": "1977-01-01"
         },
         {
          "Acceleration": 13.5,
          "Cylinders": 3,
          "Displacement": 80,
          "Horsepower": 110,
          "Miles_per_Gallon": 21.5,
          "Name": "mazda rx-4",
          "Origin": "Japan",
          "Weight_in_lbs": 2720,
          "Year": "1977-01-01"
         },
         {
          "Acceleration": 21.5,
          "Cylinders": 4,
          "Displacement": 90,
          "Horsepower": 48,
          "Miles_per_Gallon": 43.1,
          "Name": "volkswagen rabbit custom diesel",
          "Origin": "Europe",
          "Weight_in_lbs": 1985,
          "Year": "1978-01-01"
         },
         {
          "Acceleration": 14.4,
          "Cylinders": 4,
          "Displacement": 98,
          "Horsepower": 66,
          "Miles_per_Gallon": 36.1,
          "Name": "ford fiesta",
          "Origin": "USA",
          "Weight_in_lbs": 1800,
          "Year": "1978-01-01"
         },
         {
          "Acceleration": 19.4,
          "Cylinders": 4,
          "Displacement": 78,
          "Horsepower": 52,
          "Miles_per_Gallon": 32.8,
          "Name": "mazda glc deluxe",
          "Origin": "Japan",
          "Weight_in_lbs": 1985,
          "Year": "1978-01-01"
         },
         {
          "Acceleration": 18.6,
          "Cylinders": 4,
          "Displacement": 85,
          "Horsepower": 70,
          "Miles_per_Gallon": 39.4,
          "Name": "datsun b210 gx",
          "Origin": "Japan",
          "Weight_in_lbs": 2070,
          "Year": "1978-01-01"
         },
         {
          "Acceleration": 16.4,
          "Cylinders": 4,
          "Displacement": 91,
          "Horsepower": 60,
          "Miles_per_Gallon": 36.1,
          "Name": "honda civic cvcc",
          "Origin": "Japan",
          "Weight_in_lbs": 1800,
          "Year": "1978-01-01"
         },
         {
          "Acceleration": 15.5,
          "Cylinders": 8,
          "Displacement": 260,
          "Horsepower": 110,
          "Miles_per_Gallon": 19.9,
          "Name": "oldsmobile cutlass salon brougham",
          "Origin": "USA",
          "Weight_in_lbs": 3365,
          "Year": "1978-01-01"
         },
         {
          "Acceleration": 13.2,
          "Cylinders": 8,
          "Displacement": 318,
          "Horsepower": 140,
          "Miles_per_Gallon": 19.4,
          "Name": "dodge diplomat",
          "Origin": "USA",
          "Weight_in_lbs": 3735,
          "Year": "1978-01-01"
         },
         {
          "Acceleration": 12.8,
          "Cylinders": 8,
          "Displacement": 302,
          "Horsepower": 139,
          "Miles_per_Gallon": 20.2,
          "Name": "mercury monarch ghia",
          "Origin": "USA",
          "Weight_in_lbs": 3570,
          "Year": "1978-01-01"
         },
         {
          "Acceleration": 19.2,
          "Cylinders": 6,
          "Displacement": 231,
          "Horsepower": 105,
          "Miles_per_Gallon": 19.2,
          "Name": "pontiac phoenix lj",
          "Origin": "USA",
          "Weight_in_lbs": 3535,
          "Year": "1978-01-01"
         },
         {
          "Acceleration": 18.2,
          "Cylinders": 6,
          "Displacement": 200,
          "Horsepower": 95,
          "Miles_per_Gallon": 20.5,
          "Name": "chevrolet malibu",
          "Origin": "USA",
          "Weight_in_lbs": 3155,
          "Year": "1978-01-01"
         },
         {
          "Acceleration": 15.8,
          "Cylinders": 6,
          "Displacement": 200,
          "Horsepower": 85,
          "Miles_per_Gallon": 20.2,
          "Name": "ford fairmont (auto)",
          "Origin": "USA",
          "Weight_in_lbs": 2965,
          "Year": "1978-01-01"
         },
         {
          "Acceleration": 15.4,
          "Cylinders": 4,
          "Displacement": 140,
          "Horsepower": 88,
          "Miles_per_Gallon": 25.1,
          "Name": "ford fairmont (man)",
          "Origin": "USA",
          "Weight_in_lbs": 2720,
          "Year": "1978-01-01"
         },
         {
          "Acceleration": 17.2,
          "Cylinders": 6,
          "Displacement": 225,
          "Horsepower": 100,
          "Miles_per_Gallon": 20.5,
          "Name": "plymouth volare",
          "Origin": "USA",
          "Weight_in_lbs": 3430,
          "Year": "1978-01-01"
         },
         {
          "Acceleration": 17.2,
          "Cylinders": 6,
          "Displacement": 232,
          "Horsepower": 90,
          "Miles_per_Gallon": 19.4,
          "Name": "amc concord",
          "Origin": "USA",
          "Weight_in_lbs": 3210,
          "Year": "1978-01-01"
         },
         {
          "Acceleration": 15.8,
          "Cylinders": 6,
          "Displacement": 231,
          "Horsepower": 105,
          "Miles_per_Gallon": 20.6,
          "Name": "buick century special",
          "Origin": "USA",
          "Weight_in_lbs": 3380,
          "Year": "1978-01-01"
         },
         {
          "Acceleration": 16.7,
          "Cylinders": 6,
          "Displacement": 200,
          "Horsepower": 85,
          "Miles_per_Gallon": 20.8,
          "Name": "mercury zephyr",
          "Origin": "USA",
          "Weight_in_lbs": 3070,
          "Year": "1978-01-01"
         },
         {
          "Acceleration": 18.7,
          "Cylinders": 6,
          "Displacement": 225,
          "Horsepower": 110,
          "Miles_per_Gallon": 18.6,
          "Name": "dodge aspen",
          "Origin": "USA",
          "Weight_in_lbs": 3620,
          "Year": "1978-01-01"
         },
         {
          "Acceleration": 15.1,
          "Cylinders": 6,
          "Displacement": 258,
          "Horsepower": 120,
          "Miles_per_Gallon": 18.1,
          "Name": "amc concord d/l",
          "Origin": "USA",
          "Weight_in_lbs": 3410,
          "Year": "1978-01-01"
         },
         {
          "Acceleration": 13.2,
          "Cylinders": 8,
          "Displacement": 305,
          "Horsepower": 145,
          "Miles_per_Gallon": 19.2,
          "Name": "chevrolet monte carlo landau",
          "Origin": "USA",
          "Weight_in_lbs": 3425,
          "Year": "1978-01-01"
         },
         {
          "Acceleration": 13.4,
          "Cylinders": 6,
          "Displacement": 231,
          "Horsepower": 165,
          "Miles_per_Gallon": 17.7,
          "Name": "buick regal sport coupe (turbo)",
          "Origin": "USA",
          "Weight_in_lbs": 3445,
          "Year": "1978-01-01"
         },
         {
          "Acceleration": 11.2,
          "Cylinders": 8,
          "Displacement": 302,
          "Horsepower": 139,
          "Miles_per_Gallon": 18.1,
          "Name": "ford futura",
          "Origin": "USA",
          "Weight_in_lbs": 3205,
          "Year": "1978-01-01"
         },
         {
          "Acceleration": 13.7,
          "Cylinders": 8,
          "Displacement": 318,
          "Horsepower": 140,
          "Miles_per_Gallon": 17.5,
          "Name": "dodge magnum xe",
          "Origin": "USA",
          "Weight_in_lbs": 4080,
          "Year": "1978-01-01"
         },
         {
          "Acceleration": 16.5,
          "Cylinders": 4,
          "Displacement": 98,
          "Horsepower": 68,
          "Miles_per_Gallon": 30,
          "Name": "chevrolet chevette",
          "Origin": "USA",
          "Weight_in_lbs": 2155,
          "Year": "1978-01-01"
         },
         {
          "Acceleration": 14.2,
          "Cylinders": 4,
          "Displacement": 134,
          "Horsepower": 95,
          "Miles_per_Gallon": 27.5,
          "Name": "toyota corona",
          "Origin": "Japan",
          "Weight_in_lbs": 2560,
          "Year": "1978-01-01"
         },
         {
          "Acceleration": 14.7,
          "Cylinders": 4,
          "Displacement": 119,
          "Horsepower": 97,
          "Miles_per_Gallon": 27.2,
          "Name": "datsun 510",
          "Origin": "Japan",
          "Weight_in_lbs": 2300,
          "Year": "1978-01-01"
         },
         {
          "Acceleration": 14.5,
          "Cylinders": 4,
          "Displacement": 105,
          "Horsepower": 75,
          "Miles_per_Gallon": 30.9,
          "Name": "dodge omni",
          "Origin": "USA",
          "Weight_in_lbs": 2230,
          "Year": "1978-01-01"
         },
         {
          "Acceleration": 14.8,
          "Cylinders": 4,
          "Displacement": 134,
          "Horsepower": 95,
          "Miles_per_Gallon": 21.1,
          "Name": "toyota celica gt liftback",
          "Origin": "Japan",
          "Weight_in_lbs": 2515,
          "Year": "1978-01-01"
         },
         {
          "Acceleration": 16.7,
          "Cylinders": 4,
          "Displacement": 156,
          "Horsepower": 105,
          "Miles_per_Gallon": 23.2,
          "Name": "plymouth sapporo",
          "Origin": "USA",
          "Weight_in_lbs": 2745,
          "Year": "1978-01-01"
         },
         {
          "Acceleration": 17.6,
          "Cylinders": 4,
          "Displacement": 151,
          "Horsepower": 85,
          "Miles_per_Gallon": 23.8,
          "Name": "oldsmobile starfire sx",
          "Origin": "USA",
          "Weight_in_lbs": 2855,
          "Year": "1978-01-01"
         },
         {
          "Acceleration": 14.9,
          "Cylinders": 4,
          "Displacement": 119,
          "Horsepower": 97,
          "Miles_per_Gallon": 23.9,
          "Name": "datsun 200-sx",
          "Origin": "Japan",
          "Weight_in_lbs": 2405,
          "Year": "1978-01-01"
         },
         {
          "Acceleration": 15.9,
          "Cylinders": 5,
          "Displacement": 131,
          "Horsepower": 103,
          "Miles_per_Gallon": 20.3,
          "Name": "audi 5000",
          "Origin": "Europe",
          "Weight_in_lbs": 2830,
          "Year": "1978-01-01"
         },
         {
          "Acceleration": 13.6,
          "Cylinders": 6,
          "Displacement": 163,
          "Horsepower": 125,
          "Miles_per_Gallon": 17,
          "Name": "volvo 264gl",
          "Origin": "Europe",
          "Weight_in_lbs": 3140,
          "Year": "1978-01-01"
         },
         {
          "Acceleration": 15.7,
          "Cylinders": 4,
          "Displacement": 121,
          "Horsepower": 115,
          "Miles_per_Gallon": 21.6,
          "Name": "saab 99gle",
          "Origin": "Europe",
          "Weight_in_lbs": 2795,
          "Year": "1978-01-01"
         },
         {
          "Acceleration": 15.8,
          "Cylinders": 6,
          "Displacement": 163,
          "Horsepower": 133,
          "Miles_per_Gallon": 16.2,
          "Name": "peugeot 604sl",
          "Origin": "Europe",
          "Weight_in_lbs": 3410,
          "Year": "1978-01-01"
         },
         {
          "Acceleration": 14.9,
          "Cylinders": 4,
          "Displacement": 89,
          "Horsepower": 71,
          "Miles_per_Gallon": 31.5,
          "Name": "volkswagen scirocco",
          "Origin": "Europe",
          "Weight_in_lbs": 1990,
          "Year": "1978-01-01"
         },
         {
          "Acceleration": 16.6,
          "Cylinders": 4,
          "Displacement": 98,
          "Horsepower": 68,
          "Miles_per_Gallon": 29.5,
          "Name": "honda Accelerationord lx",
          "Origin": "Japan",
          "Weight_in_lbs": 2135,
          "Year": "1978-01-01"
         },
         {
          "Acceleration": 15.4,
          "Cylinders": 6,
          "Displacement": 231,
          "Horsepower": 115,
          "Miles_per_Gallon": 21.5,
          "Name": "pontiac lemans v6",
          "Origin": "USA",
          "Weight_in_lbs": 3245,
          "Year": "1979-01-01"
         },
         {
          "Acceleration": 18.2,
          "Cylinders": 6,
          "Displacement": 200,
          "Horsepower": 85,
          "Miles_per_Gallon": 19.8,
          "Name": "mercury zephyr 6",
          "Origin": "USA",
          "Weight_in_lbs": 2990,
          "Year": "1979-01-01"
         },
         {
          "Acceleration": 17.3,
          "Cylinders": 4,
          "Displacement": 140,
          "Horsepower": 88,
          "Miles_per_Gallon": 22.3,
          "Name": "ford fairmont 4",
          "Origin": "USA",
          "Weight_in_lbs": 2890,
          "Year": "1979-01-01"
         },
         {
          "Acceleration": 18.2,
          "Cylinders": 6,
          "Displacement": 232,
          "Horsepower": 90,
          "Miles_per_Gallon": 20.2,
          "Name": "amc concord dl 6",
          "Origin": "USA",
          "Weight_in_lbs": 3265,
          "Year": "1979-01-01"
         },
         {
          "Acceleration": 16.6,
          "Cylinders": 6,
          "Displacement": 225,
          "Horsepower": 110,
          "Miles_per_Gallon": 20.6,
          "Name": "dodge aspen 6",
          "Origin": "USA",
          "Weight_in_lbs": 3360,
          "Year": "1979-01-01"
         },
         {
          "Acceleration": 15.4,
          "Cylinders": 8,
          "Displacement": 305,
          "Horsepower": 130,
          "Miles_per_Gallon": 17,
          "Name": "chevrolet caprice classic",
          "Origin": "USA",
          "Weight_in_lbs": 3840,
          "Year": "1979-01-01"
         },
         {
          "Acceleration": 13.4,
          "Cylinders": 8,
          "Displacement": 302,
          "Horsepower": 129,
          "Miles_per_Gallon": 17.6,
          "Name": "ford ltd landau",
          "Origin": "USA",
          "Weight_in_lbs": 3725,
          "Year": "1979-01-01"
         },
         {
          "Acceleration": 13.2,
          "Cylinders": 8,
          "Displacement": 351,
          "Horsepower": 138,
          "Miles_per_Gallon": 16.5,
          "Name": "mercury grand marquis",
          "Origin": "USA",
          "Weight_in_lbs": 3955,
          "Year": "1979-01-01"
         },
         {
          "Acceleration": 15.2,
          "Cylinders": 8,
          "Displacement": 318,
          "Horsepower": 135,
          "Miles_per_Gallon": 18.2,
          "Name": "dodge st. regis",
          "Origin": "USA",
          "Weight_in_lbs": 3830,
          "Year": "1979-01-01"
         },
         {
          "Acceleration": 14.9,
          "Cylinders": 8,
          "Displacement": 350,
          "Horsepower": 155,
          "Miles_per_Gallon": 16.9,
          "Name": "buick estate wagon (sw)",
          "Origin": "USA",
          "Weight_in_lbs": 4360,
          "Year": "1979-01-01"
         },
         {
          "Acceleration": 14.3,
          "Cylinders": 8,
          "Displacement": 351,
          "Horsepower": 142,
          "Miles_per_Gallon": 15.5,
          "Name": "ford country squire (sw)",
          "Origin": "USA",
          "Weight_in_lbs": 4054,
          "Year": "1979-01-01"
         },
         {
          "Acceleration": 15,
          "Cylinders": 8,
          "Displacement": 267,
          "Horsepower": 125,
          "Miles_per_Gallon": 19.2,
          "Name": "chevrolet malibu classic (sw)",
          "Origin": "USA",
          "Weight_in_lbs": 3605,
          "Year": "1979-01-01"
         },
         {
          "Acceleration": 13,
          "Cylinders": 8,
          "Displacement": 360,
          "Horsepower": 150,
          "Miles_per_Gallon": 18.5,
          "Name": "chrysler lebaron town @ country (sw)",
          "Origin": "USA",
          "Weight_in_lbs": 3940,
          "Year": "1979-01-01"
         },
         {
          "Acceleration": 14,
          "Cylinders": 4,
          "Displacement": 89,
          "Horsepower": 71,
          "Miles_per_Gallon": 31.9,
          "Name": "vw rabbit custom",
          "Origin": "Europe",
          "Weight_in_lbs": 1925,
          "Year": "1979-01-01"
         },
         {
          "Acceleration": 15.2,
          "Cylinders": 4,
          "Displacement": 86,
          "Horsepower": 65,
          "Miles_per_Gallon": 34.1,
          "Name": "maxda glc deluxe",
          "Origin": "Japan",
          "Weight_in_lbs": 1975,
          "Year": "1979-01-01"
         },
         {
          "Acceleration": 14.4,
          "Cylinders": 4,
          "Displacement": 98,
          "Horsepower": 80,
          "Miles_per_Gallon": 35.7,
          "Name": "dodge colt hatchback custom",
          "Origin": "USA",
          "Weight_in_lbs": 1915,
          "Year": "1979-01-01"
         },
         {
          "Acceleration": 15,
          "Cylinders": 4,
          "Displacement": 121,
          "Horsepower": 80,
          "Miles_per_Gallon": 27.4,
          "Name": "amc spirit dl",
          "Origin": "USA",
          "Weight_in_lbs": 2670,
          "Year": "1979-01-01"
         },
         {
          "Acceleration": 20.1,
          "Cylinders": 5,
          "Displacement": 183,
          "Horsepower": 77,
          "Miles_per_Gallon": 25.4,
          "Name": "mercedes benz 300d",
          "Origin": "Europe",
          "Weight_in_lbs": 3530,
          "Year": "1979-01-01"
         },
         {
          "Acceleration": 17.4,
          "Cylinders": 8,
          "Displacement": 350,
          "Horsepower": 125,
          "Miles_per_Gallon": 23,
          "Name": "cadillac eldorado",
          "Origin": "USA",
          "Weight_in_lbs": 3900,
          "Year": "1979-01-01"
         },
         {
          "Acceleration": 24.8,
          "Cylinders": 4,
          "Displacement": 141,
          "Horsepower": 71,
          "Miles_per_Gallon": 27.2,
          "Name": "peugeot 504",
          "Origin": "Europe",
          "Weight_in_lbs": 3190,
          "Year": "1979-01-01"
         },
         {
          "Acceleration": 22.2,
          "Cylinders": 8,
          "Displacement": 260,
          "Horsepower": 90,
          "Miles_per_Gallon": 23.9,
          "Name": "oldsmobile cutlass salon brougham",
          "Origin": "USA",
          "Weight_in_lbs": 3420,
          "Year": "1979-01-01"
         },
         {
          "Acceleration": 13.2,
          "Cylinders": 4,
          "Displacement": 105,
          "Horsepower": 70,
          "Miles_per_Gallon": 34.2,
          "Name": "plymouth horizon",
          "Origin": "USA",
          "Weight_in_lbs": 2200,
          "Year": "1979-01-01"
         },
         {
          "Acceleration": 14.9,
          "Cylinders": 4,
          "Displacement": 105,
          "Horsepower": 70,
          "Miles_per_Gallon": 34.5,
          "Name": "plymouth horizon tc3",
          "Origin": "USA",
          "Weight_in_lbs": 2150,
          "Year": "1979-01-01"
         },
         {
          "Acceleration": 19.2,
          "Cylinders": 4,
          "Displacement": 85,
          "Horsepower": 65,
          "Miles_per_Gallon": 31.8,
          "Name": "datsun 210",
          "Origin": "Japan",
          "Weight_in_lbs": 2020,
          "Year": "1979-01-01"
         },
         {
          "Acceleration": 14.7,
          "Cylinders": 4,
          "Displacement": 91,
          "Horsepower": 69,
          "Miles_per_Gallon": 37.3,
          "Name": "fiat strada custom",
          "Origin": "Europe",
          "Weight_in_lbs": 2130,
          "Year": "1979-01-01"
         },
         {
          "Acceleration": 16,
          "Cylinders": 4,
          "Displacement": 151,
          "Horsepower": 90,
          "Miles_per_Gallon": 28.4,
          "Name": "buick skylark limited",
          "Origin": "USA",
          "Weight_in_lbs": 2670,
          "Year": "1979-01-01"
         },
         {
          "Acceleration": 11.3,
          "Cylinders": 6,
          "Displacement": 173,
          "Horsepower": 115,
          "Miles_per_Gallon": 28.8,
          "Name": "chevrolet citation",
          "Origin": "USA",
          "Weight_in_lbs": 2595,
          "Year": "1979-01-01"
         },
         {
          "Acceleration": 12.9,
          "Cylinders": 6,
          "Displacement": 173,
          "Horsepower": 115,
          "Miles_per_Gallon": 26.8,
          "Name": "oldsmobile omega brougham",
          "Origin": "USA",
          "Weight_in_lbs": 2700,
          "Year": "1979-01-01"
         },
         {
          "Acceleration": 13.2,
          "Cylinders": 4,
          "Displacement": 151,
          "Horsepower": 90,
          "Miles_per_Gallon": 33.5,
          "Name": "pontiac phoenix",
          "Origin": "USA",
          "Weight_in_lbs": 2556,
          "Year": "1979-01-01"
         },
         {
          "Acceleration": 14.7,
          "Cylinders": 4,
          "Displacement": 98,
          "Horsepower": 76,
          "Miles_per_Gallon": 41.5,
          "Name": "vw rabbit",
          "Origin": "Europe",
          "Weight_in_lbs": 2144,
          "Year": "1980-01-01"
         },
         {
          "Acceleration": 18.8,
          "Cylinders": 4,
          "Displacement": 89,
          "Horsepower": 60,
          "Miles_per_Gallon": 38.1,
          "Name": "toyota corolla tercel",
          "Origin": "Japan",
          "Weight_in_lbs": 1968,
          "Year": "1980-01-01"
         },
         {
          "Acceleration": 15.5,
          "Cylinders": 4,
          "Displacement": 98,
          "Horsepower": 70,
          "Miles_per_Gallon": 32.1,
          "Name": "chevrolet chevette",
          "Origin": "USA",
          "Weight_in_lbs": 2120,
          "Year": "1980-01-01"
         },
         {
          "Acceleration": 16.4,
          "Cylinders": 4,
          "Displacement": 86,
          "Horsepower": 65,
          "Miles_per_Gallon": 37.2,
          "Name": "datsun 310",
          "Origin": "Japan",
          "Weight_in_lbs": 2019,
          "Year": "1980-01-01"
         },
         {
          "Acceleration": 16.5,
          "Cylinders": 4,
          "Displacement": 151,
          "Horsepower": 90,
          "Miles_per_Gallon": 28,
          "Name": "chevrolet citation",
          "Origin": "USA",
          "Weight_in_lbs": 2678,
          "Year": "1980-01-01"
         },
         {
          "Acceleration": 18.1,
          "Cylinders": 4,
          "Displacement": 140,
          "Horsepower": 88,
          "Miles_per_Gallon": 26.4,
          "Name": "ford fairmont",
          "Origin": "USA",
          "Weight_in_lbs": 2870,
          "Year": "1980-01-01"
         },
         {
          "Acceleration": 20.1,
          "Cylinders": 4,
          "Displacement": 151,
          "Horsepower": 90,
          "Miles_per_Gallon": 24.3,
          "Name": "amc concord",
          "Origin": "USA",
          "Weight_in_lbs": 3003,
          "Year": "1980-01-01"
         },
         {
          "Acceleration": 18.7,
          "Cylinders": 6,
          "Displacement": 225,
          "Horsepower": 90,
          "Miles_per_Gallon": 19.1,
          "Name": "dodge aspen",
          "Origin": "USA",
          "Weight_in_lbs": 3381,
          "Year": "1980-01-01"
         },
         {
          "Acceleration": 15.8,
          "Cylinders": 4,
          "Displacement": 97,
          "Horsepower": 78,
          "Miles_per_Gallon": 34.3,
          "Name": "audi 4000",
          "Origin": "Europe",
          "Weight_in_lbs": 2188,
          "Year": "1980-01-01"
         },
         {
          "Acceleration": 15.5,
          "Cylinders": 4,
          "Displacement": 134,
          "Horsepower": 90,
          "Miles_per_Gallon": 29.8,
          "Name": "toyota corona liftback",
          "Origin": "Japan",
          "Weight_in_lbs": 2711,
          "Year": "1980-01-01"
         },
         {
          "Acceleration": 17.5,
          "Cylinders": 4,
          "Displacement": 120,
          "Horsepower": 75,
          "Miles_per_Gallon": 31.3,
          "Name": "mazda 626",
          "Origin": "Japan",
          "Weight_in_lbs": 2542,
          "Year": "1980-01-01"
         },
         {
          "Acceleration": 15,
          "Cylinders": 4,
          "Displacement": 119,
          "Horsepower": 92,
          "Miles_per_Gallon": 37,
          "Name": "datsun 510 hatchback",
          "Origin": "Japan",
          "Weight_in_lbs": 2434,
          "Year": "1980-01-01"
         },
         {
          "Acceleration": 15.2,
          "Cylinders": 4,
          "Displacement": 108,
          "Horsepower": 75,
          "Miles_per_Gallon": 32.2,
          "Name": "toyota corolla",
          "Origin": "Japan",
          "Weight_in_lbs": 2265,
          "Year": "1980-01-01"
         },
         {
          "Acceleration": 17.9,
          "Cylinders": 4,
          "Displacement": 86,
          "Horsepower": 65,
          "Miles_per_Gallon": 46.6,
          "Name": "mazda glc",
          "Origin": "Japan",
          "Weight_in_lbs": 2110,
          "Year": "1980-01-01"
         },
         {
          "Acceleration": 14.4,
          "Cylinders": 4,
          "Displacement": 156,
          "Horsepower": 105,
          "Miles_per_Gallon": 27.9,
          "Name": "dodge colt",
          "Origin": "USA",
          "Weight_in_lbs": 2800,
          "Year": "1980-01-01"
         },
         {
          "Acceleration": 19.2,
          "Cylinders": 4,
          "Displacement": 85,
          "Horsepower": 65,
          "Miles_per_Gallon": 40.8,
          "Name": "datsun 210",
          "Origin": "Japan",
          "Weight_in_lbs": 2110,
          "Year": "1980-01-01"
         },
         {
          "Acceleration": 21.7,
          "Cylinders": 4,
          "Displacement": 90,
          "Horsepower": 48,
          "Miles_per_Gallon": 44.3,
          "Name": "vw rabbit c (diesel)",
          "Origin": "Europe",
          "Weight_in_lbs": 2085,
          "Year": "1980-01-01"
         },
         {
          "Acceleration": 23.7,
          "Cylinders": 4,
          "Displacement": 90,
          "Horsepower": 48,
          "Miles_per_Gallon": 43.4,
          "Name": "vw dasher (diesel)",
          "Origin": "Europe",
          "Weight_in_lbs": 2335,
          "Year": "1980-01-01"
         },
         {
          "Acceleration": 19.9,
          "Cylinders": 5,
          "Displacement": 121,
          "Horsepower": 67,
          "Miles_per_Gallon": 36.4,
          "Name": "audi 5000s (diesel)",
          "Origin": "Europe",
          "Weight_in_lbs": 2950,
          "Year": "1980-01-01"
         },
         {
          "Acceleration": 21.8,
          "Cylinders": 4,
          "Displacement": 146,
          "Horsepower": 67,
          "Miles_per_Gallon": 30,
          "Name": "mercedes-benz 240d",
          "Origin": "Europe",
          "Weight_in_lbs": 3250,
          "Year": "1980-01-01"
         },
         {
          "Acceleration": 13.8,
          "Cylinders": 4,
          "Displacement": 91,
          "Horsepower": 67,
          "Miles_per_Gallon": 44.6,
          "Name": "honda civic 1500 gl",
          "Origin": "Japan",
          "Weight_in_lbs": 1850,
          "Year": "1980-01-01"
         },
         {
          "Acceleration": 17.3,
          "Cylinders": 4,
          "Displacement": 85,
          "Horsepower": null,
          "Miles_per_Gallon": 40.9,
          "Name": "renault lecar deluxe",
          "Origin": "Europe",
          "Weight_in_lbs": 1835,
          "Year": "1980-01-01"
         },
         {
          "Acceleration": 18,
          "Cylinders": 4,
          "Displacement": 97,
          "Horsepower": 67,
          "Miles_per_Gallon": 33.8,
          "Name": "subaru dl",
          "Origin": "Japan",
          "Weight_in_lbs": 2145,
          "Year": "1980-01-01"
         },
         {
          "Acceleration": 15.3,
          "Cylinders": 4,
          "Displacement": 89,
          "Horsepower": 62,
          "Miles_per_Gallon": 29.8,
          "Name": "vokswagen rabbit",
          "Origin": "Europe",
          "Weight_in_lbs": 1845,
          "Year": "1980-01-01"
         },
         {
          "Acceleration": 11.4,
          "Cylinders": 6,
          "Displacement": 168,
          "Horsepower": 132,
          "Miles_per_Gallon": 32.7,
          "Name": "datsun 280-zx",
          "Origin": "Japan",
          "Weight_in_lbs": 2910,
          "Year": "1980-01-01"
         },
         {
          "Acceleration": 12.5,
          "Cylinders": 3,
          "Displacement": 70,
          "Horsepower": 100,
          "Miles_per_Gallon": 23.7,
          "Name": "mazda rx-7 gs",
          "Origin": "Japan",
          "Weight_in_lbs": 2420,
          "Year": "1980-01-01"
         },
         {
          "Acceleration": 15.1,
          "Cylinders": 4,
          "Displacement": 122,
          "Horsepower": 88,
          "Miles_per_Gallon": 35,
          "Name": "triumph tr7 coupe",
          "Origin": "Europe",
          "Weight_in_lbs": 2500,
          "Year": "1980-01-01"
         },
         {
          "Acceleration": 14.3,
          "Cylinders": 4,
          "Displacement": 140,
          "Horsepower": null,
          "Miles_per_Gallon": 23.6,
          "Name": "ford mustang cobra",
          "Origin": "USA",
          "Weight_in_lbs": 2905,
          "Year": "1980-01-01"
         },
         {
          "Acceleration": 17,
          "Cylinders": 4,
          "Displacement": 107,
          "Horsepower": 72,
          "Miles_per_Gallon": 32.4,
          "Name": "honda Accelerationord",
          "Origin": "Japan",
          "Weight_in_lbs": 2290,
          "Year": "1980-01-01"
         },
         {
          "Acceleration": 15.7,
          "Cylinders": 4,
          "Displacement": 135,
          "Horsepower": 84,
          "Miles_per_Gallon": 27.2,
          "Name": "plymouth reliant",
          "Origin": "USA",
          "Weight_in_lbs": 2490,
          "Year": "1982-01-01"
         },
         {
          "Acceleration": 16.4,
          "Cylinders": 4,
          "Displacement": 151,
          "Horsepower": 84,
          "Miles_per_Gallon": 26.6,
          "Name": "buick skylark",
          "Origin": "USA",
          "Weight_in_lbs": 2635,
          "Year": "1982-01-01"
         },
         {
          "Acceleration": 14.4,
          "Cylinders": 4,
          "Displacement": 156,
          "Horsepower": 92,
          "Miles_per_Gallon": 25.8,
          "Name": "dodge aries wagon (sw)",
          "Origin": "USA",
          "Weight_in_lbs": 2620,
          "Year": "1982-01-01"
         },
         {
          "Acceleration": 12.6,
          "Cylinders": 6,
          "Displacement": 173,
          "Horsepower": 110,
          "Miles_per_Gallon": 23.5,
          "Name": "chevrolet citation",
          "Origin": "USA",
          "Weight_in_lbs": 2725,
          "Year": "1982-01-01"
         },
         {
          "Acceleration": 12.9,
          "Cylinders": 4,
          "Displacement": 135,
          "Horsepower": 84,
          "Miles_per_Gallon": 30,
          "Name": "plymouth reliant",
          "Origin": "USA",
          "Weight_in_lbs": 2385,
          "Year": "1982-01-01"
         },
         {
          "Acceleration": 16.9,
          "Cylinders": 4,
          "Displacement": 79,
          "Horsepower": 58,
          "Miles_per_Gallon": 39.1,
          "Name": "toyota starlet",
          "Origin": "Japan",
          "Weight_in_lbs": 1755,
          "Year": "1982-01-01"
         },
         {
          "Acceleration": 16.4,
          "Cylinders": 4,
          "Displacement": 86,
          "Horsepower": 64,
          "Miles_per_Gallon": 39,
          "Name": "plymouth champ",
          "Origin": "USA",
          "Weight_in_lbs": 1875,
          "Year": "1982-01-01"
         },
         {
          "Acceleration": 16.1,
          "Cylinders": 4,
          "Displacement": 81,
          "Horsepower": 60,
          "Miles_per_Gallon": 35.1,
          "Name": "honda civic 1300",
          "Origin": "Japan",
          "Weight_in_lbs": 1760,
          "Year": "1982-01-01"
         },
         {
          "Acceleration": 17.8,
          "Cylinders": 4,
          "Displacement": 97,
          "Horsepower": 67,
          "Miles_per_Gallon": 32.3,
          "Name": "subaru",
          "Origin": "Japan",
          "Weight_in_lbs": 2065,
          "Year": "1982-01-01"
         },
         {
          "Acceleration": 19.4,
          "Cylinders": 4,
          "Displacement": 85,
          "Horsepower": 65,
          "Miles_per_Gallon": 37,
          "Name": "datsun 210",
          "Origin": "Japan",
          "Weight_in_lbs": 1975,
          "Year": "1982-01-01"
         },
         {
          "Acceleration": 17.3,
          "Cylinders": 4,
          "Displacement": 89,
          "Horsepower": 62,
          "Miles_per_Gallon": 37.7,
          "Name": "toyota tercel",
          "Origin": "Japan",
          "Weight_in_lbs": 2050,
          "Year": "1982-01-01"
         },
         {
          "Acceleration": 16,
          "Cylinders": 4,
          "Displacement": 91,
          "Horsepower": 68,
          "Miles_per_Gallon": 34.1,
          "Name": "mazda glc 4",
          "Origin": "Japan",
          "Weight_in_lbs": 1985,
          "Year": "1982-01-01"
         },
         {
          "Acceleration": 14.9,
          "Cylinders": 4,
          "Displacement": 105,
          "Horsepower": 63,
          "Miles_per_Gallon": 34.7,
          "Name": "plymouth horizon 4",
          "Origin": "USA",
          "Weight_in_lbs": 2215,
          "Year": "1982-01-01"
         },
         {
          "Acceleration": 16.2,
          "Cylinders": 4,
          "Displacement": 98,
          "Horsepower": 65,
          "Miles_per_Gallon": 34.4,
          "Name": "ford escort 4w",
          "Origin": "USA",
          "Weight_in_lbs": 2045,
          "Year": "1982-01-01"
         },
         {
          "Acceleration": 20.7,
          "Cylinders": 4,
          "Displacement": 98,
          "Horsepower": 65,
          "Miles_per_Gallon": 29.9,
          "Name": "ford escort 2h",
          "Origin": "USA",
          "Weight_in_lbs": 2380,
          "Year": "1982-01-01"
         },
         {
          "Acceleration": 14.2,
          "Cylinders": 4,
          "Displacement": 105,
          "Horsepower": 74,
          "Miles_per_Gallon": 33,
          "Name": "volkswagen jetta",
          "Origin": "Europe",
          "Weight_in_lbs": 2190,
          "Year": "1982-01-01"
         },
         {
          "Acceleration": 15.8,
          "Cylinders": 4,
          "Displacement": 100,
          "Horsepower": null,
          "Miles_per_Gallon": 34.5,
          "Name": "renault 18i",
          "Origin": "Europe",
          "Weight_in_lbs": 2320,
          "Year": "1982-01-01"
         },
         {
          "Acceleration": 14.4,
          "Cylinders": 4,
          "Displacement": 107,
          "Horsepower": 75,
          "Miles_per_Gallon": 33.7,
          "Name": "honda prelude",
          "Origin": "Japan",
          "Weight_in_lbs": 2210,
          "Year": "1982-01-01"
         },
         {
          "Acceleration": 16.8,
          "Cylinders": 4,
          "Displacement": 108,
          "Horsepower": 75,
          "Miles_per_Gallon": 32.4,
          "Name": "toyota corolla",
          "Origin": "Japan",
          "Weight_in_lbs": 2350,
          "Year": "1982-01-01"
         },
         {
          "Acceleration": 14.8,
          "Cylinders": 4,
          "Displacement": 119,
          "Horsepower": 100,
          "Miles_per_Gallon": 32.9,
          "Name": "datsun 200sx",
          "Origin": "Japan",
          "Weight_in_lbs": 2615,
          "Year": "1982-01-01"
         },
         {
          "Acceleration": 18.3,
          "Cylinders": 4,
          "Displacement": 120,
          "Horsepower": 74,
          "Miles_per_Gallon": 31.6,
          "Name": "mazda 626",
          "Origin": "Japan",
          "Weight_in_lbs": 2635,
          "Year": "1982-01-01"
         },
         {
          "Acceleration": 20.4,
          "Cylinders": 4,
          "Displacement": 141,
          "Horsepower": 80,
          "Miles_per_Gallon": 28.1,
          "Name": "peugeot 505s turbo diesel",
          "Origin": "Europe",
          "Weight_in_lbs": 3230,
          "Year": "1982-01-01"
         },
         {
          "Acceleration": 15.4,
          "Cylinders": 4,
          "Displacement": 121,
          "Horsepower": 110,
          "Miles_per_Gallon": null,
          "Name": "saab 900s",
          "Origin": "Europe",
          "Weight_in_lbs": 2800,
          "Year": "1982-01-01"
         },
         {
          "Acceleration": 19.6,
          "Cylinders": 6,
          "Displacement": 145,
          "Horsepower": 76,
          "Miles_per_Gallon": 30.7,
          "Name": "volvo diesel",
          "Origin": "Europe",
          "Weight_in_lbs": 3160,
          "Year": "1982-01-01"
         },
         {
          "Acceleration": 12.6,
          "Cylinders": 6,
          "Displacement": 168,
          "Horsepower": 116,
          "Miles_per_Gallon": 25.4,
          "Name": "toyota cressida",
          "Origin": "Japan",
          "Weight_in_lbs": 2900,
          "Year": "1982-01-01"
         },
         {
          "Acceleration": 13.8,
          "Cylinders": 6,
          "Displacement": 146,
          "Horsepower": 120,
          "Miles_per_Gallon": 24.2,
          "Name": "datsun 810 maxima",
          "Origin": "Japan",
          "Weight_in_lbs": 2930,
          "Year": "1982-01-01"
         },
         {
          "Acceleration": 15.8,
          "Cylinders": 6,
          "Displacement": 231,
          "Horsepower": 110,
          "Miles_per_Gallon": 22.4,
          "Name": "buick century",
          "Origin": "USA",
          "Weight_in_lbs": 3415,
          "Year": "1982-01-01"
         },
         {
          "Acceleration": 19,
          "Cylinders": 8,
          "Displacement": 350,
          "Horsepower": 105,
          "Miles_per_Gallon": 26.6,
          "Name": "oldsmobile cutlass ls",
          "Origin": "USA",
          "Weight_in_lbs": 3725,
          "Year": "1982-01-01"
         },
         {
          "Acceleration": 17.1,
          "Cylinders": 6,
          "Displacement": 200,
          "Horsepower": 88,
          "Miles_per_Gallon": 20.2,
          "Name": "ford granada gl",
          "Origin": "USA",
          "Weight_in_lbs": 3060,
          "Year": "1982-01-01"
         },
         {
          "Acceleration": 16.6,
          "Cylinders": 6,
          "Displacement": 225,
          "Horsepower": 85,
          "Miles_per_Gallon": 17.6,
          "Name": "chrysler lebaron salon",
          "Origin": "USA",
          "Weight_in_lbs": 3465,
          "Year": "1982-01-01"
         },
         {
          "Acceleration": 19.6,
          "Cylinders": 4,
          "Displacement": 112,
          "Horsepower": 88,
          "Miles_per_Gallon": 28,
          "Name": "chevrolet cavalier",
          "Origin": "USA",
          "Weight_in_lbs": 2605,
          "Year": "1982-01-01"
         },
         {
          "Acceleration": 18.6,
          "Cylinders": 4,
          "Displacement": 112,
          "Horsepower": 88,
          "Miles_per_Gallon": 27,
          "Name": "chevrolet cavalier wagon",
          "Origin": "USA",
          "Weight_in_lbs": 2640,
          "Year": "1982-01-01"
         },
         {
          "Acceleration": 18,
          "Cylinders": 4,
          "Displacement": 112,
          "Horsepower": 88,
          "Miles_per_Gallon": 34,
          "Name": "chevrolet cavalier 2-door",
          "Origin": "USA",
          "Weight_in_lbs": 2395,
          "Year": "1982-01-01"
         },
         {
          "Acceleration": 16.2,
          "Cylinders": 4,
          "Displacement": 112,
          "Horsepower": 85,
          "Miles_per_Gallon": 31,
          "Name": "pontiac j2000 se hatchback",
          "Origin": "USA",
          "Weight_in_lbs": 2575,
          "Year": "1982-01-01"
         },
         {
          "Acceleration": 16,
          "Cylinders": 4,
          "Displacement": 135,
          "Horsepower": 84,
          "Miles_per_Gallon": 29,
          "Name": "dodge aries se",
          "Origin": "USA",
          "Weight_in_lbs": 2525,
          "Year": "1982-01-01"
         },
         {
          "Acceleration": 18,
          "Cylinders": 4,
          "Displacement": 151,
          "Horsepower": 90,
          "Miles_per_Gallon": 27,
          "Name": "pontiac phoenix",
          "Origin": "USA",
          "Weight_in_lbs": 2735,
          "Year": "1982-01-01"
         },
         {
          "Acceleration": 16.4,
          "Cylinders": 4,
          "Displacement": 140,
          "Horsepower": 92,
          "Miles_per_Gallon": 24,
          "Name": "ford fairmont futura",
          "Origin": "USA",
          "Weight_in_lbs": 2865,
          "Year": "1982-01-01"
         },
         {
          "Acceleration": 20.5,
          "Cylinders": 4,
          "Displacement": 151,
          "Horsepower": null,
          "Miles_per_Gallon": 23,
          "Name": "amc concord dl",
          "Origin": "USA",
          "Weight_in_lbs": 3035,
          "Year": "1982-01-01"
         },
         {
          "Acceleration": 15.3,
          "Cylinders": 4,
          "Displacement": 105,
          "Horsepower": 74,
          "Miles_per_Gallon": 36,
          "Name": "volkswagen rabbit l",
          "Origin": "Europe",
          "Weight_in_lbs": 1980,
          "Year": "1982-01-01"
         },
         {
          "Acceleration": 18.2,
          "Cylinders": 4,
          "Displacement": 91,
          "Horsepower": 68,
          "Miles_per_Gallon": 37,
          "Name": "mazda glc custom l",
          "Origin": "Japan",
          "Weight_in_lbs": 2025,
          "Year": "1982-01-01"
         },
         {
          "Acceleration": 17.6,
          "Cylinders": 4,
          "Displacement": 91,
          "Horsepower": 68,
          "Miles_per_Gallon": 31,
          "Name": "mazda glc custom",
          "Origin": "Japan",
          "Weight_in_lbs": 1970,
          "Year": "1982-01-01"
         },
         {
          "Acceleration": 14.7,
          "Cylinders": 4,
          "Displacement": 105,
          "Horsepower": 63,
          "Miles_per_Gallon": 38,
          "Name": "plymouth horizon miser",
          "Origin": "USA",
          "Weight_in_lbs": 2125,
          "Year": "1982-01-01"
         },
         {
          "Acceleration": 17.3,
          "Cylinders": 4,
          "Displacement": 98,
          "Horsepower": 70,
          "Miles_per_Gallon": 36,
          "Name": "mercury lynx l",
          "Origin": "USA",
          "Weight_in_lbs": 2125,
          "Year": "1982-01-01"
         },
         {
          "Acceleration": 14.5,
          "Cylinders": 4,
          "Displacement": 120,
          "Horsepower": 88,
          "Miles_per_Gallon": 36,
          "Name": "nissan stanza xe",
          "Origin": "Japan",
          "Weight_in_lbs": 2160,
          "Year": "1982-01-01"
         },
         {
          "Acceleration": 14.5,
          "Cylinders": 4,
          "Displacement": 107,
          "Horsepower": 75,
          "Miles_per_Gallon": 36,
          "Name": "honda Accelerationord",
          "Origin": "Japan",
          "Weight_in_lbs": 2205,
          "Year": "1982-01-01"
         },
         {
          "Acceleration": 16.9,
          "Cylinders": 4,
          "Displacement": 108,
          "Horsepower": 70,
          "Miles_per_Gallon": 34,
          "Name": "toyota corolla",
          "Origin": "Japan",
          "Weight_in_lbs": 2245,
          "Year": "1982-01-01"
         },
         {
          "Acceleration": 15,
          "Cylinders": 4,
          "Displacement": 91,
          "Horsepower": 67,
          "Miles_per_Gallon": 38,
          "Name": "honda civic",
          "Origin": "Japan",
          "Weight_in_lbs": 1965,
          "Year": "1982-01-01"
         },
         {
          "Acceleration": 15.7,
          "Cylinders": 4,
          "Displacement": 91,
          "Horsepower": 67,
          "Miles_per_Gallon": 32,
          "Name": "honda civic (auto)",
          "Origin": "Japan",
          "Weight_in_lbs": 1965,
          "Year": "1982-01-01"
         },
         {
          "Acceleration": 16.2,
          "Cylinders": 4,
          "Displacement": 91,
          "Horsepower": 67,
          "Miles_per_Gallon": 38,
          "Name": "datsun 310 gx",
          "Origin": "Japan",
          "Weight_in_lbs": 1995,
          "Year": "1982-01-01"
         },
         {
          "Acceleration": 16.4,
          "Cylinders": 6,
          "Displacement": 181,
          "Horsepower": 110,
          "Miles_per_Gallon": 25,
          "Name": "buick century limited",
          "Origin": "USA",
          "Weight_in_lbs": 2945,
          "Year": "1982-01-01"
         },
         {
          "Acceleration": 17,
          "Cylinders": 6,
          "Displacement": 262,
          "Horsepower": 85,
          "Miles_per_Gallon": 38,
          "Name": "oldsmobile cutlass ciera (diesel)",
          "Origin": "USA",
          "Weight_in_lbs": 3015,
          "Year": "1982-01-01"
         },
         {
          "Acceleration": 14.5,
          "Cylinders": 4,
          "Displacement": 156,
          "Horsepower": 92,
          "Miles_per_Gallon": 26,
          "Name": "chrysler lebaron medallion",
          "Origin": "USA",
          "Weight_in_lbs": 2585,
          "Year": "1982-01-01"
         },
         {
          "Acceleration": 14.7,
          "Cylinders": 6,
          "Displacement": 232,
          "Horsepower": 112,
          "Miles_per_Gallon": 22,
          "Name": "ford granada l",
          "Origin": "USA",
          "Weight_in_lbs": 2835,
          "Year": "1982-01-01"
         },
         {
          "Acceleration": 13.9,
          "Cylinders": 4,
          "Displacement": 144,
          "Horsepower": 96,
          "Miles_per_Gallon": 32,
          "Name": "toyota celica gt",
          "Origin": "Japan",
          "Weight_in_lbs": 2665,
          "Year": "1982-01-01"
         },
         {
          "Acceleration": 13,
          "Cylinders": 4,
          "Displacement": 135,
          "Horsepower": 84,
          "Miles_per_Gallon": 36,
          "Name": "dodge charger 2.2",
          "Origin": "USA",
          "Weight_in_lbs": 2370,
          "Year": "1982-01-01"
         },
         {
          "Acceleration": 17.3,
          "Cylinders": 4,
          "Displacement": 151,
          "Horsepower": 90,
          "Miles_per_Gallon": 27,
          "Name": "chevrolet camaro",
          "Origin": "USA",
          "Weight_in_lbs": 2950,
          "Year": "1982-01-01"
         },
         {
          "Acceleration": 15.6,
          "Cylinders": 4,
          "Displacement": 140,
          "Horsepower": 86,
          "Miles_per_Gallon": 27,
          "Name": "ford mustang gl",
          "Origin": "USA",
          "Weight_in_lbs": 2790,
          "Year": "1982-01-01"
         },
         {
          "Acceleration": 24.6,
          "Cylinders": 4,
          "Displacement": 97,
          "Horsepower": 52,
          "Miles_per_Gallon": 44,
          "Name": "vw pickup",
          "Origin": "Europe",
          "Weight_in_lbs": 2130,
          "Year": "1982-01-01"
         },
         {
          "Acceleration": 11.6,
          "Cylinders": 4,
          "Displacement": 135,
          "Horsepower": 84,
          "Miles_per_Gallon": 32,
          "Name": "dodge rampage",
          "Origin": "USA",
          "Weight_in_lbs": 2295,
          "Year": "1982-01-01"
         },
         {
          "Acceleration": 18.6,
          "Cylinders": 4,
          "Displacement": 120,
          "Horsepower": 79,
          "Miles_per_Gallon": 28,
          "Name": "ford ranger",
          "Origin": "USA",
          "Weight_in_lbs": 2625,
          "Year": "1982-01-01"
         },
         {
          "Acceleration": 19.4,
          "Cylinders": 4,
          "Displacement": 119,
          "Horsepower": 82,
          "Miles_per_Gallon": 31,
          "Name": "chevy s-10",
          "Origin": "USA",
          "Weight_in_lbs": 2720,
          "Year": "1982-01-01"
         }
        ]
       },
       "encoding": {
        "x": {
         "aggregate": "average",
         "field": "Weight_in_lbs",
         "type": "quantitative"
        },
        "y": {
         "field": "Origin",
         "type": "nominal"
        }
       },
       "mark": {
        "color": "darkblue",
        "type": "bar"
       }
      },
      "image/png": "[encoded data removed]",
      "text/plain": [
       "<VegaLite 2 object>\n",
       "\n",
       "If you see this message, it means the renderer has not been properly enabled\n",
       "for the frontend that you are using. For more information, see\n",
       "https://altair-viz.github.io/user_guide/troubleshooting.html\n"
      ]
     },
     "execution_count": 53,
     "metadata": {},
     "output_type": "execute_result"
    }
   ],
   "source": [
    "chart"
   ]
  },
  {
   "cell_type": "markdown",
   "metadata": {},
   "source": [
    "#### Barchart with sorting of bar position"
   ]
  },
  {
   "cell_type": "code",
   "execution_count": 61,
   "metadata": {},
   "outputs": [
    {
     "data": {
      "application/vnd.vegalite.v2+json": {
       "$schema": "https://vega.github.io/schema/vega-lite/v2.4.1.json",
       "config": {
        "view": {
         "height": 300,
         "width": 400
        }
       },
       "data": {
        "values": [
         {
          "Acceleration": 12,
          "Cylinders": 8,
          "Displacement": 307,
          "Horsepower": 130,
          "Miles_per_Gallon": 18,
          "Name": "chevrolet chevelle malibu",
          "Origin": "USA",
          "Weight_in_lbs": 3504,
          "Year": "1970-01-01"
         },
         {
          "Acceleration": 11.5,
          "Cylinders": 8,
          "Displacement": 350,
          "Horsepower": 165,
          "Miles_per_Gallon": 15,
          "Name": "buick skylark 320",
          "Origin": "USA",
          "Weight_in_lbs": 3693,
          "Year": "1970-01-01"
         },
         {
          "Acceleration": 11,
          "Cylinders": 8,
          "Displacement": 318,
          "Horsepower": 150,
          "Miles_per_Gallon": 18,
          "Name": "plymouth satellite",
          "Origin": "USA",
          "Weight_in_lbs": 3436,
          "Year": "1970-01-01"
         },
         {
          "Acceleration": 12,
          "Cylinders": 8,
          "Displacement": 304,
          "Horsepower": 150,
          "Miles_per_Gallon": 16,
          "Name": "amc rebel sst",
          "Origin": "USA",
          "Weight_in_lbs": 3433,
          "Year": "1970-01-01"
         },
         {
          "Acceleration": 10.5,
          "Cylinders": 8,
          "Displacement": 302,
          "Horsepower": 140,
          "Miles_per_Gallon": 17,
          "Name": "ford torino",
          "Origin": "USA",
          "Weight_in_lbs": 3449,
          "Year": "1970-01-01"
         },
         {
          "Acceleration": 10,
          "Cylinders": 8,
          "Displacement": 429,
          "Horsepower": 198,
          "Miles_per_Gallon": 15,
          "Name": "ford galaxie 500",
          "Origin": "USA",
          "Weight_in_lbs": 4341,
          "Year": "1970-01-01"
         },
         {
          "Acceleration": 9,
          "Cylinders": 8,
          "Displacement": 454,
          "Horsepower": 220,
          "Miles_per_Gallon": 14,
          "Name": "chevrolet impala",
          "Origin": "USA",
          "Weight_in_lbs": 4354,
          "Year": "1970-01-01"
         },
         {
          "Acceleration": 8.5,
          "Cylinders": 8,
          "Displacement": 440,
          "Horsepower": 215,
          "Miles_per_Gallon": 14,
          "Name": "plymouth fury iii",
          "Origin": "USA",
          "Weight_in_lbs": 4312,
          "Year": "1970-01-01"
         },
         {
          "Acceleration": 10,
          "Cylinders": 8,
          "Displacement": 455,
          "Horsepower": 225,
          "Miles_per_Gallon": 14,
          "Name": "pontiac catalina",
          "Origin": "USA",
          "Weight_in_lbs": 4425,
          "Year": "1970-01-01"
         },
         {
          "Acceleration": 8.5,
          "Cylinders": 8,
          "Displacement": 390,
          "Horsepower": 190,
          "Miles_per_Gallon": 15,
          "Name": "amc ambassador dpl",
          "Origin": "USA",
          "Weight_in_lbs": 3850,
          "Year": "1970-01-01"
         },
         {
          "Acceleration": 17.5,
          "Cylinders": 4,
          "Displacement": 133,
          "Horsepower": 115,
          "Miles_per_Gallon": null,
          "Name": "citroen ds-21 pallas",
          "Origin": "Europe",
          "Weight_in_lbs": 3090,
          "Year": "1970-01-01"
         },
         {
          "Acceleration": 11.5,
          "Cylinders": 8,
          "Displacement": 350,
          "Horsepower": 165,
          "Miles_per_Gallon": null,
          "Name": "chevrolet chevelle concours (sw)",
          "Origin": "USA",
          "Weight_in_lbs": 4142,
          "Year": "1970-01-01"
         },
         {
          "Acceleration": 11,
          "Cylinders": 8,
          "Displacement": 351,
          "Horsepower": 153,
          "Miles_per_Gallon": null,
          "Name": "ford torino (sw)",
          "Origin": "USA",
          "Weight_in_lbs": 4034,
          "Year": "1970-01-01"
         },
         {
          "Acceleration": 10.5,
          "Cylinders": 8,
          "Displacement": 383,
          "Horsepower": 175,
          "Miles_per_Gallon": null,
          "Name": "plymouth satellite (sw)",
          "Origin": "USA",
          "Weight_in_lbs": 4166,
          "Year": "1970-01-01"
         },
         {
          "Acceleration": 11,
          "Cylinders": 8,
          "Displacement": 360,
          "Horsepower": 175,
          "Miles_per_Gallon": null,
          "Name": "amc rebel sst (sw)",
          "Origin": "USA",
          "Weight_in_lbs": 3850,
          "Year": "1970-01-01"
         },
         {
          "Acceleration": 10,
          "Cylinders": 8,
          "Displacement": 383,
          "Horsepower": 170,
          "Miles_per_Gallon": 15,
          "Name": "dodge challenger se",
          "Origin": "USA",
          "Weight_in_lbs": 3563,
          "Year": "1970-01-01"
         },
         {
          "Acceleration": 8,
          "Cylinders": 8,
          "Displacement": 340,
          "Horsepower": 160,
          "Miles_per_Gallon": 14,
          "Name": "plymouth 'cuda 340",
          "Origin": "USA",
          "Weight_in_lbs": 3609,
          "Year": "1970-01-01"
         },
         {
          "Acceleration": 8,
          "Cylinders": 8,
          "Displacement": 302,
          "Horsepower": 140,
          "Miles_per_Gallon": null,
          "Name": "ford mustang boss 302",
          "Origin": "USA",
          "Weight_in_lbs": 3353,
          "Year": "1970-01-01"
         },
         {
          "Acceleration": 9.5,
          "Cylinders": 8,
          "Displacement": 400,
          "Horsepower": 150,
          "Miles_per_Gallon": 15,
          "Name": "chevrolet monte carlo",
          "Origin": "USA",
          "Weight_in_lbs": 3761,
          "Year": "1970-01-01"
         },
         {
          "Acceleration": 10,
          "Cylinders": 8,
          "Displacement": 455,
          "Horsepower": 225,
          "Miles_per_Gallon": 14,
          "Name": "buick estate wagon (sw)",
          "Origin": "USA",
          "Weight_in_lbs": 3086,
          "Year": "1970-01-01"
         },
         {
          "Acceleration": 15,
          "Cylinders": 4,
          "Displacement": 113,
          "Horsepower": 95,
          "Miles_per_Gallon": 24,
          "Name": "toyota corona mark ii",
          "Origin": "Japan",
          "Weight_in_lbs": 2372,
          "Year": "1970-01-01"
         },
         {
          "Acceleration": 15.5,
          "Cylinders": 6,
          "Displacement": 198,
          "Horsepower": 95,
          "Miles_per_Gallon": 22,
          "Name": "plymouth duster",
          "Origin": "USA",
          "Weight_in_lbs": 2833,
          "Year": "1970-01-01"
         },
         {
          "Acceleration": 15.5,
          "Cylinders": 6,
          "Displacement": 199,
          "Horsepower": 97,
          "Miles_per_Gallon": 18,
          "Name": "amc hornet",
          "Origin": "USA",
          "Weight_in_lbs": 2774,
          "Year": "1970-01-01"
         },
         {
          "Acceleration": 16,
          "Cylinders": 6,
          "Displacement": 200,
          "Horsepower": 85,
          "Miles_per_Gallon": 21,
          "Name": "ford maverick",
          "Origin": "USA",
          "Weight_in_lbs": 2587,
          "Year": "1970-01-01"
         },
         {
          "Acceleration": 14.5,
          "Cylinders": 4,
          "Displacement": 97,
          "Horsepower": 88,
          "Miles_per_Gallon": 27,
          "Name": "datsun pl510",
          "Origin": "Japan",
          "Weight_in_lbs": 2130,
          "Year": "1970-01-01"
         },
         {
          "Acceleration": 20.5,
          "Cylinders": 4,
          "Displacement": 97,
          "Horsepower": 46,
          "Miles_per_Gallon": 26,
          "Name": "volkswagen 1131 deluxe sedan",
          "Origin": "Europe",
          "Weight_in_lbs": 1835,
          "Year": "1970-01-01"
         },
         {
          "Acceleration": 17.5,
          "Cylinders": 4,
          "Displacement": 110,
          "Horsepower": 87,
          "Miles_per_Gallon": 25,
          "Name": "peugeot 504",
          "Origin": "Europe",
          "Weight_in_lbs": 2672,
          "Year": "1970-01-01"
         },
         {
          "Acceleration": 14.5,
          "Cylinders": 4,
          "Displacement": 107,
          "Horsepower": 90,
          "Miles_per_Gallon": 24,
          "Name": "audi 100 ls",
          "Origin": "Europe",
          "Weight_in_lbs": 2430,
          "Year": "1970-01-01"
         },
         {
          "Acceleration": 17.5,
          "Cylinders": 4,
          "Displacement": 104,
          "Horsepower": 95,
          "Miles_per_Gallon": 25,
          "Name": "saab 99e",
          "Origin": "Europe",
          "Weight_in_lbs": 2375,
          "Year": "1970-01-01"
         },
         {
          "Acceleration": 12.5,
          "Cylinders": 4,
          "Displacement": 121,
          "Horsepower": 113,
          "Miles_per_Gallon": 26,
          "Name": "bmw 2002",
          "Origin": "Europe",
          "Weight_in_lbs": 2234,
          "Year": "1970-01-01"
         },
         {
          "Acceleration": 15,
          "Cylinders": 6,
          "Displacement": 199,
          "Horsepower": 90,
          "Miles_per_Gallon": 21,
          "Name": "amc gremlin",
          "Origin": "USA",
          "Weight_in_lbs": 2648,
          "Year": "1970-01-01"
         },
         {
          "Acceleration": 14,
          "Cylinders": 8,
          "Displacement": 360,
          "Horsepower": 215,
          "Miles_per_Gallon": 10,
          "Name": "ford f250",
          "Origin": "USA",
          "Weight_in_lbs": 4615,
          "Year": "1970-01-01"
         },
         {
          "Acceleration": 15,
          "Cylinders": 8,
          "Displacement": 307,
          "Horsepower": 200,
          "Miles_per_Gallon": 10,
          "Name": "chevy c20",
          "Origin": "USA",
          "Weight_in_lbs": 4376,
          "Year": "1970-01-01"
         },
         {
          "Acceleration": 13.5,
          "Cylinders": 8,
          "Displacement": 318,
          "Horsepower": 210,
          "Miles_per_Gallon": 11,
          "Name": "dodge d200",
          "Origin": "USA",
          "Weight_in_lbs": 4382,
          "Year": "1970-01-01"
         },
         {
          "Acceleration": 18.5,
          "Cylinders": 8,
          "Displacement": 304,
          "Horsepower": 193,
          "Miles_per_Gallon": 9,
          "Name": "hi 1200d",
          "Origin": "USA",
          "Weight_in_lbs": 4732,
          "Year": "1970-01-01"
         },
         {
          "Acceleration": 14.5,
          "Cylinders": 4,
          "Displacement": 97,
          "Horsepower": 88,
          "Miles_per_Gallon": 27,
          "Name": "datsun pl510",
          "Origin": "Japan",
          "Weight_in_lbs": 2130,
          "Year": "1971-01-01"
         },
         {
          "Acceleration": 15.5,
          "Cylinders": 4,
          "Displacement": 140,
          "Horsepower": 90,
          "Miles_per_Gallon": 28,
          "Name": "chevrolet vega 2300",
          "Origin": "USA",
          "Weight_in_lbs": 2264,
          "Year": "1971-01-01"
         },
         {
          "Acceleration": 14,
          "Cylinders": 4,
          "Displacement": 113,
          "Horsepower": 95,
          "Miles_per_Gallon": 25,
          "Name": "toyota corona",
          "Origin": "Japan",
          "Weight_in_lbs": 2228,
          "Year": "1971-01-01"
         },
         {
          "Acceleration": 19,
          "Cylinders": 4,
          "Displacement": 98,
          "Horsepower": null,
          "Miles_per_Gallon": 25,
          "Name": "ford pinto",
          "Origin": "USA",
          "Weight_in_lbs": 2046,
          "Year": "1971-01-01"
         },
         {
          "Acceleration": 20,
          "Cylinders": 4,
          "Displacement": 97,
          "Horsepower": 48,
          "Miles_per_Gallon": null,
          "Name": "volkswagen super beetle 117",
          "Origin": "Europe",
          "Weight_in_lbs": 1978,
          "Year": "1971-01-01"
         },
         {
          "Acceleration": 13,
          "Cylinders": 6,
          "Displacement": 232,
          "Horsepower": 100,
          "Miles_per_Gallon": 19,
          "Name": "amc gremlin",
          "Origin": "USA",
          "Weight_in_lbs": 2634,
          "Year": "1971-01-01"
         },
         {
          "Acceleration": 15.5,
          "Cylinders": 6,
          "Displacement": 225,
          "Horsepower": 105,
          "Miles_per_Gallon": 16,
          "Name": "plymouth satellite custom",
          "Origin": "USA",
          "Weight_in_lbs": 3439,
          "Year": "1971-01-01"
         },
         {
          "Acceleration": 15.5,
          "Cylinders": 6,
          "Displacement": 250,
          "Horsepower": 100,
          "Miles_per_Gallon": 17,
          "Name": "chevrolet chevelle malibu",
          "Origin": "USA",
          "Weight_in_lbs": 3329,
          "Year": "1971-01-01"
         },
         {
          "Acceleration": 15.5,
          "Cylinders": 6,
          "Displacement": 250,
          "Horsepower": 88,
          "Miles_per_Gallon": 19,
          "Name": "ford torino 500",
          "Origin": "USA",
          "Weight_in_lbs": 3302,
          "Year": "1971-01-01"
         },
         {
          "Acceleration": 15.5,
          "Cylinders": 6,
          "Displacement": 232,
          "Horsepower": 100,
          "Miles_per_Gallon": 18,
          "Name": "amc matador",
          "Origin": "USA",
          "Weight_in_lbs": 3288,
          "Year": "1971-01-01"
         },
         {
          "Acceleration": 12,
          "Cylinders": 8,
          "Displacement": 350,
          "Horsepower": 165,
          "Miles_per_Gallon": 14,
          "Name": "chevrolet impala",
          "Origin": "USA",
          "Weight_in_lbs": 4209,
          "Year": "1971-01-01"
         },
         {
          "Acceleration": 11.5,
          "Cylinders": 8,
          "Displacement": 400,
          "Horsepower": 175,
          "Miles_per_Gallon": 14,
          "Name": "pontiac catalina brougham",
          "Origin": "USA",
          "Weight_in_lbs": 4464,
          "Year": "1971-01-01"
         },
         {
          "Acceleration": 13.5,
          "Cylinders": 8,
          "Displacement": 351,
          "Horsepower": 153,
          "Miles_per_Gallon": 14,
          "Name": "ford galaxie 500",
          "Origin": "USA",
          "Weight_in_lbs": 4154,
          "Year": "1971-01-01"
         },
         {
          "Acceleration": 13,
          "Cylinders": 8,
          "Displacement": 318,
          "Horsepower": 150,
          "Miles_per_Gallon": 14,
          "Name": "plymouth fury iii",
          "Origin": "USA",
          "Weight_in_lbs": 4096,
          "Year": "1971-01-01"
         },
         {
          "Acceleration": 11.5,
          "Cylinders": 8,
          "Displacement": 383,
          "Horsepower": 180,
          "Miles_per_Gallon": 12,
          "Name": "dodge monaco (sw)",
          "Origin": "USA",
          "Weight_in_lbs": 4955,
          "Year": "1971-01-01"
         },
         {
          "Acceleration": 12,
          "Cylinders": 8,
          "Displacement": 400,
          "Horsepower": 170,
          "Miles_per_Gallon": 13,
          "Name": "ford country squire (sw)",
          "Origin": "USA",
          "Weight_in_lbs": 4746,
          "Year": "1971-01-01"
         },
         {
          "Acceleration": 12,
          "Cylinders": 8,
          "Displacement": 400,
          "Horsepower": 175,
          "Miles_per_Gallon": 13,
          "Name": "pontiac safari (sw)",
          "Origin": "USA",
          "Weight_in_lbs": 5140,
          "Year": "1971-01-01"
         },
         {
          "Acceleration": 13.5,
          "Cylinders": 6,
          "Displacement": 258,
          "Horsepower": 110,
          "Miles_per_Gallon": 18,
          "Name": "amc hornet sportabout (sw)",
          "Origin": "USA",
          "Weight_in_lbs": 2962,
          "Year": "1971-01-01"
         },
         {
          "Acceleration": 19,
          "Cylinders": 4,
          "Displacement": 140,
          "Horsepower": 72,
          "Miles_per_Gallon": 22,
          "Name": "chevrolet vega (sw)",
          "Origin": "USA",
          "Weight_in_lbs": 2408,
          "Year": "1971-01-01"
         },
         {
          "Acceleration": 15,
          "Cylinders": 6,
          "Displacement": 250,
          "Horsepower": 100,
          "Miles_per_Gallon": 19,
          "Name": "pontiac firebird",
          "Origin": "USA",
          "Weight_in_lbs": 3282,
          "Year": "1971-01-01"
         },
         {
          "Acceleration": 14.5,
          "Cylinders": 6,
          "Displacement": 250,
          "Horsepower": 88,
          "Miles_per_Gallon": 18,
          "Name": "ford mustang",
          "Origin": "USA",
          "Weight_in_lbs": 3139,
          "Year": "1971-01-01"
         },
         {
          "Acceleration": 14,
          "Cylinders": 4,
          "Displacement": 122,
          "Horsepower": 86,
          "Miles_per_Gallon": 23,
          "Name": "mercury capri 2000",
          "Origin": "USA",
          "Weight_in_lbs": 2220,
          "Year": "1971-01-01"
         },
         {
          "Acceleration": 14,
          "Cylinders": 4,
          "Displacement": 116,
          "Horsepower": 90,
          "Miles_per_Gallon": 28,
          "Name": "opel 1900",
          "Origin": "Europe",
          "Weight_in_lbs": 2123,
          "Year": "1971-01-01"
         },
         {
          "Acceleration": 19.5,
          "Cylinders": 4,
          "Displacement": 79,
          "Horsepower": 70,
          "Miles_per_Gallon": 30,
          "Name": "peugeot 304",
          "Origin": "Europe",
          "Weight_in_lbs": 2074,
          "Year": "1971-01-01"
         },
         {
          "Acceleration": 14.5,
          "Cylinders": 4,
          "Displacement": 88,
          "Horsepower": 76,
          "Miles_per_Gallon": 30,
          "Name": "fiat 124b",
          "Origin": "Europe",
          "Weight_in_lbs": 2065,
          "Year": "1971-01-01"
         },
         {
          "Acceleration": 19,
          "Cylinders": 4,
          "Displacement": 71,
          "Horsepower": 65,
          "Miles_per_Gallon": 31,
          "Name": "toyota corolla 1200",
          "Origin": "Japan",
          "Weight_in_lbs": 1773,
          "Year": "1971-01-01"
         },
         {
          "Acceleration": 18,
          "Cylinders": 4,
          "Displacement": 72,
          "Horsepower": 69,
          "Miles_per_Gallon": 35,
          "Name": "datsun 1200",
          "Origin": "Japan",
          "Weight_in_lbs": 1613,
          "Year": "1971-01-01"
         },
         {
          "Acceleration": 19,
          "Cylinders": 4,
          "Displacement": 97,
          "Horsepower": 60,
          "Miles_per_Gallon": 27,
          "Name": "volkswagen model 111",
          "Origin": "Europe",
          "Weight_in_lbs": 1834,
          "Year": "1971-01-01"
         },
         {
          "Acceleration": 20.5,
          "Cylinders": 4,
          "Displacement": 91,
          "Horsepower": 70,
          "Miles_per_Gallon": 26,
          "Name": "plymouth cricket",
          "Origin": "USA",
          "Weight_in_lbs": 1955,
          "Year": "1971-01-01"
         },
         {
          "Acceleration": 15.5,
          "Cylinders": 4,
          "Displacement": 113,
          "Horsepower": 95,
          "Miles_per_Gallon": 24,
          "Name": "toyota corona hardtop",
          "Origin": "Japan",
          "Weight_in_lbs": 2278,
          "Year": "1972-01-01"
         },
         {
          "Acceleration": 17,
          "Cylinders": 4,
          "Displacement": 97.5,
          "Horsepower": 80,
          "Miles_per_Gallon": 25,
          "Name": "dodge colt hardtop",
          "Origin": "USA",
          "Weight_in_lbs": 2126,
          "Year": "1972-01-01"
         },
         {
          "Acceleration": 23.5,
          "Cylinders": 4,
          "Displacement": 97,
          "Horsepower": 54,
          "Miles_per_Gallon": 23,
          "Name": "volkswagen type 3",
          "Origin": "Europe",
          "Weight_in_lbs": 2254,
          "Year": "1972-01-01"
         },
         {
          "Acceleration": 19.5,
          "Cylinders": 4,
          "Displacement": 140,
          "Horsepower": 90,
          "Miles_per_Gallon": 20,
          "Name": "chevrolet vega",
          "Origin": "USA",
          "Weight_in_lbs": 2408,
          "Year": "1972-01-01"
         },
         {
          "Acceleration": 16.5,
          "Cylinders": 4,
          "Displacement": 122,
          "Horsepower": 86,
          "Miles_per_Gallon": 21,
          "Name": "ford pinto runabout",
          "Origin": "USA",
          "Weight_in_lbs": 2226,
          "Year": "1972-01-01"
         },
         {
          "Acceleration": 12,
          "Cylinders": 8,
          "Displacement": 350,
          "Horsepower": 165,
          "Miles_per_Gallon": 13,
          "Name": "chevrolet impala",
          "Origin": "USA",
          "Weight_in_lbs": 4274,
          "Year": "1972-01-01"
         },
         {
          "Acceleration": 12,
          "Cylinders": 8,
          "Displacement": 400,
          "Horsepower": 175,
          "Miles_per_Gallon": 14,
          "Name": "pontiac catalina",
          "Origin": "USA",
          "Weight_in_lbs": 4385,
          "Year": "1972-01-01"
         },
         {
          "Acceleration": 13.5,
          "Cylinders": 8,
          "Displacement": 318,
          "Horsepower": 150,
          "Miles_per_Gallon": 15,
          "Name": "plymouth fury iii",
          "Origin": "USA",
          "Weight_in_lbs": 4135,
          "Year": "1972-01-01"
         },
         {
          "Acceleration": 13,
          "Cylinders": 8,
          "Displacement": 351,
          "Horsepower": 153,
          "Miles_per_Gallon": 14,
          "Name": "ford galaxie 500",
          "Origin": "USA",
          "Weight_in_lbs": 4129,
          "Year": "1972-01-01"
         },
         {
          "Acceleration": 11.5,
          "Cylinders": 8,
          "Displacement": 304,
          "Horsepower": 150,
          "Miles_per_Gallon": 17,
          "Name": "amc ambassador sst",
          "Origin": "USA",
          "Weight_in_lbs": 3672,
          "Year": "1972-01-01"
         },
         {
          "Acceleration": 11,
          "Cylinders": 8,
          "Displacement": 429,
          "Horsepower": 208,
          "Miles_per_Gallon": 11,
          "Name": "mercury marquis",
          "Origin": "USA",
          "Weight_in_lbs": 4633,
          "Year": "1972-01-01"
         },
         {
          "Acceleration": 13.5,
          "Cylinders": 8,
          "Displacement": 350,
          "Horsepower": 155,
          "Miles_per_Gallon": 13,
          "Name": "buick lesabre custom",
          "Origin": "USA",
          "Weight_in_lbs": 4502,
          "Year": "1972-01-01"
         },
         {
          "Acceleration": 13.5,
          "Cylinders": 8,
          "Displacement": 350,
          "Horsepower": 160,
          "Miles_per_Gallon": 12,
          "Name": "oldsmobile delta 88 royale",
          "Origin": "USA",
          "Weight_in_lbs": 4456,
          "Year": "1972-01-01"
         },
         {
          "Acceleration": 12.5,
          "Cylinders": 8,
          "Displacement": 400,
          "Horsepower": 190,
          "Miles_per_Gallon": 13,
          "Name": "chrysler newport royal",
          "Origin": "USA",
          "Weight_in_lbs": 4422,
          "Year": "1972-01-01"
         },
         {
          "Acceleration": 13.5,
          "Cylinders": 3,
          "Displacement": 70,
          "Horsepower": 97,
          "Miles_per_Gallon": 19,
          "Name": "mazda rx2 coupe",
          "Origin": "Japan",
          "Weight_in_lbs": 2330,
          "Year": "1972-01-01"
         },
         {
          "Acceleration": 12.5,
          "Cylinders": 8,
          "Displacement": 304,
          "Horsepower": 150,
          "Miles_per_Gallon": 15,
          "Name": "amc matador (sw)",
          "Origin": "USA",
          "Weight_in_lbs": 3892,
          "Year": "1972-01-01"
         },
         {
          "Acceleration": 14,
          "Cylinders": 8,
          "Displacement": 307,
          "Horsepower": 130,
          "Miles_per_Gallon": 13,
          "Name": "chevrolet chevelle concours (sw)",
          "Origin": "USA",
          "Weight_in_lbs": 4098,
          "Year": "1972-01-01"
         },
         {
          "Acceleration": 16,
          "Cylinders": 8,
          "Displacement": 302,
          "Horsepower": 140,
          "Miles_per_Gallon": 13,
          "Name": "ford gran torino (sw)",
          "Origin": "USA",
          "Weight_in_lbs": 4294,
          "Year": "1972-01-01"
         },
         {
          "Acceleration": 14,
          "Cylinders": 8,
          "Displacement": 318,
          "Horsepower": 150,
          "Miles_per_Gallon": 14,
          "Name": "plymouth satellite custom (sw)",
          "Origin": "USA",
          "Weight_in_lbs": 4077,
          "Year": "1972-01-01"
         },
         {
          "Acceleration": 14.5,
          "Cylinders": 4,
          "Displacement": 121,
          "Horsepower": 112,
          "Miles_per_Gallon": 18,
          "Name": "volvo 145e (sw)",
          "Origin": "Europe",
          "Weight_in_lbs": 2933,
          "Year": "1972-01-01"
         },
         {
          "Acceleration": 18,
          "Cylinders": 4,
          "Displacement": 121,
          "Horsepower": 76,
          "Miles_per_Gallon": 22,
          "Name": "volkswagen 411 (sw)",
          "Origin": "Europe",
          "Weight_in_lbs": 2511,
          "Year": "1972-01-01"
         },
         {
          "Acceleration": 19.5,
          "Cylinders": 4,
          "Displacement": 120,
          "Horsepower": 87,
          "Miles_per_Gallon": 21,
          "Name": "peugeot 504 (sw)",
          "Origin": "Europe",
          "Weight_in_lbs": 2979,
          "Year": "1972-01-01"
         },
         {
          "Acceleration": 18,
          "Cylinders": 4,
          "Displacement": 96,
          "Horsepower": 69,
          "Miles_per_Gallon": 26,
          "Name": "renault 12 (sw)",
          "Origin": "Europe",
          "Weight_in_lbs": 2189,
          "Year": "1972-01-01"
         },
         {
          "Acceleration": 16,
          "Cylinders": 4,
          "Displacement": 122,
          "Horsepower": 86,
          "Miles_per_Gallon": 22,
          "Name": "ford pinto (sw)",
          "Origin": "USA",
          "Weight_in_lbs": 2395,
          "Year": "1972-01-01"
         },
         {
          "Acceleration": 17,
          "Cylinders": 4,
          "Displacement": 97,
          "Horsepower": 92,
          "Miles_per_Gallon": 28,
          "Name": "datsun 510 (sw)",
          "Origin": "Japan",
          "Weight_in_lbs": 2288,
          "Year": "1972-01-01"
         },
         {
          "Acceleration": 14.5,
          "Cylinders": 4,
          "Displacement": 120,
          "Horsepower": 97,
          "Miles_per_Gallon": 23,
          "Name": "toyouta corona mark ii (sw)",
          "Origin": "Japan",
          "Weight_in_lbs": 2506,
          "Year": "1972-01-01"
         },
         {
          "Acceleration": 15,
          "Cylinders": 4,
          "Displacement": 98,
          "Horsepower": 80,
          "Miles_per_Gallon": 28,
          "Name": "dodge colt (sw)",
          "Origin": "USA",
          "Weight_in_lbs": 2164,
          "Year": "1972-01-01"
         },
         {
          "Acceleration": 16.5,
          "Cylinders": 4,
          "Displacement": 97,
          "Horsepower": 88,
          "Miles_per_Gallon": 27,
          "Name": "toyota corolla 1600 (sw)",
          "Origin": "Japan",
          "Weight_in_lbs": 2100,
          "Year": "1972-01-01"
         },
         {
          "Acceleration": 13,
          "Cylinders": 8,
          "Displacement": 350,
          "Horsepower": 175,
          "Miles_per_Gallon": 13,
          "Name": "buick century 350",
          "Origin": "USA",
          "Weight_in_lbs": 4100,
          "Year": "1973-01-01"
         },
         {
          "Acceleration": 11.5,
          "Cylinders": 8,
          "Displacement": 304,
          "Horsepower": 150,
          "Miles_per_Gallon": 14,
          "Name": "amc matador",
          "Origin": "USA",
          "Weight_in_lbs": 3672,
          "Year": "1973-01-01"
         },
         {
          "Acceleration": 13,
          "Cylinders": 8,
          "Displacement": 350,
          "Horsepower": 145,
          "Miles_per_Gallon": 13,
          "Name": "chevrolet malibu",
          "Origin": "USA",
          "Weight_in_lbs": 3988,
          "Year": "1973-01-01"
         },
         {
          "Acceleration": 14.5,
          "Cylinders": 8,
          "Displacement": 302,
          "Horsepower": 137,
          "Miles_per_Gallon": 14,
          "Name": "ford gran torino",
          "Origin": "USA",
          "Weight_in_lbs": 4042,
          "Year": "1973-01-01"
         },
         {
          "Acceleration": 12.5,
          "Cylinders": 8,
          "Displacement": 318,
          "Horsepower": 150,
          "Miles_per_Gallon": 15,
          "Name": "dodge coronet custom",
          "Origin": "USA",
          "Weight_in_lbs": 3777,
          "Year": "1973-01-01"
         },
         {
          "Acceleration": 11.5,
          "Cylinders": 8,
          "Displacement": 429,
          "Horsepower": 198,
          "Miles_per_Gallon": 12,
          "Name": "mercury marquis brougham",
          "Origin": "USA",
          "Weight_in_lbs": 4952,
          "Year": "1973-01-01"
         },
         {
          "Acceleration": 12,
          "Cylinders": 8,
          "Displacement": 400,
          "Horsepower": 150,
          "Miles_per_Gallon": 13,
          "Name": "chevrolet caprice classic",
          "Origin": "USA",
          "Weight_in_lbs": 4464,
          "Year": "1973-01-01"
         },
         {
          "Acceleration": 13,
          "Cylinders": 8,
          "Displacement": 351,
          "Horsepower": 158,
          "Miles_per_Gallon": 13,
          "Name": "ford ltd",
          "Origin": "USA",
          "Weight_in_lbs": 4363,
          "Year": "1973-01-01"
         },
         {
          "Acceleration": 14.5,
          "Cylinders": 8,
          "Displacement": 318,
          "Horsepower": 150,
          "Miles_per_Gallon": 14,
          "Name": "plymouth fury gran sedan",
          "Origin": "USA",
          "Weight_in_lbs": 4237,
          "Year": "1973-01-01"
         },
         {
          "Acceleration": 11,
          "Cylinders": 8,
          "Displacement": 440,
          "Horsepower": 215,
          "Miles_per_Gallon": 13,
          "Name": "chrysler new yorker brougham",
          "Origin": "USA",
          "Weight_in_lbs": 4735,
          "Year": "1973-01-01"
         },
         {
          "Acceleration": 11,
          "Cylinders": 8,
          "Displacement": 455,
          "Horsepower": 225,
          "Miles_per_Gallon": 12,
          "Name": "buick electra 225 custom",
          "Origin": "USA",
          "Weight_in_lbs": 4951,
          "Year": "1973-01-01"
         },
         {
          "Acceleration": 11,
          "Cylinders": 8,
          "Displacement": 360,
          "Horsepower": 175,
          "Miles_per_Gallon": 13,
          "Name": "amc ambassador brougham",
          "Origin": "USA",
          "Weight_in_lbs": 3821,
          "Year": "1973-01-01"
         },
         {
          "Acceleration": 16.5,
          "Cylinders": 6,
          "Displacement": 225,
          "Horsepower": 105,
          "Miles_per_Gallon": 18,
          "Name": "plymouth valiant",
          "Origin": "USA",
          "Weight_in_lbs": 3121,
          "Year": "1973-01-01"
         },
         {
          "Acceleration": 18,
          "Cylinders": 6,
          "Displacement": 250,
          "Horsepower": 100,
          "Miles_per_Gallon": 16,
          "Name": "chevrolet nova custom",
          "Origin": "USA",
          "Weight_in_lbs": 3278,
          "Year": "1973-01-01"
         },
         {
          "Acceleration": 16,
          "Cylinders": 6,
          "Displacement": 232,
          "Horsepower": 100,
          "Miles_per_Gallon": 18,
          "Name": "amc hornet",
          "Origin": "USA",
          "Weight_in_lbs": 2945,
          "Year": "1973-01-01"
         },
         {
          "Acceleration": 16.5,
          "Cylinders": 6,
          "Displacement": 250,
          "Horsepower": 88,
          "Miles_per_Gallon": 18,
          "Name": "ford maverick",
          "Origin": "USA",
          "Weight_in_lbs": 3021,
          "Year": "1973-01-01"
         },
         {
          "Acceleration": 16,
          "Cylinders": 6,
          "Displacement": 198,
          "Horsepower": 95,
          "Miles_per_Gallon": 23,
          "Name": "plymouth duster",
          "Origin": "USA",
          "Weight_in_lbs": 2904,
          "Year": "1973-01-01"
         },
         {
          "Acceleration": 21,
          "Cylinders": 4,
          "Displacement": 97,
          "Horsepower": 46,
          "Miles_per_Gallon": 26,
          "Name": "volkswagen super beetle",
          "Origin": "Europe",
          "Weight_in_lbs": 1950,
          "Year": "1973-01-01"
         },
         {
          "Acceleration": 14,
          "Cylinders": 8,
          "Displacement": 400,
          "Horsepower": 150,
          "Miles_per_Gallon": 11,
          "Name": "chevrolet impala",
          "Origin": "USA",
          "Weight_in_lbs": 4997,
          "Year": "1973-01-01"
         },
         {
          "Acceleration": 12.5,
          "Cylinders": 8,
          "Displacement": 400,
          "Horsepower": 167,
          "Miles_per_Gallon": 12,
          "Name": "ford country",
          "Origin": "USA",
          "Weight_in_lbs": 4906,
          "Year": "1973-01-01"
         },
         {
          "Acceleration": 13,
          "Cylinders": 8,
          "Displacement": 360,
          "Horsepower": 170,
          "Miles_per_Gallon": 13,
          "Name": "plymouth custom suburb",
          "Origin": "USA",
          "Weight_in_lbs": 4654,
          "Year": "1973-01-01"
         },
         {
          "Acceleration": 12.5,
          "Cylinders": 8,
          "Displacement": 350,
          "Horsepower": 180,
          "Miles_per_Gallon": 12,
          "Name": "oldsmobile vista cruiser",
          "Origin": "USA",
          "Weight_in_lbs": 4499,
          "Year": "1973-01-01"
         },
         {
          "Acceleration": 15,
          "Cylinders": 6,
          "Displacement": 232,
          "Horsepower": 100,
          "Miles_per_Gallon": 18,
          "Name": "amc gremlin",
          "Origin": "USA",
          "Weight_in_lbs": 2789,
          "Year": "1973-01-01"
         },
         {
          "Acceleration": 19,
          "Cylinders": 4,
          "Displacement": 97,
          "Horsepower": 88,
          "Miles_per_Gallon": 20,
          "Name": "toyota carina",
          "Origin": "Japan",
          "Weight_in_lbs": 2279,
          "Year": "1973-01-01"
         },
         {
          "Acceleration": 19.5,
          "Cylinders": 4,
          "Displacement": 140,
          "Horsepower": 72,
          "Miles_per_Gallon": 21,
          "Name": "chevrolet vega",
          "Origin": "USA",
          "Weight_in_lbs": 2401,
          "Year": "1973-01-01"
         },
         {
          "Acceleration": 16.5,
          "Cylinders": 4,
          "Displacement": 108,
          "Horsepower": 94,
          "Miles_per_Gallon": 22,
          "Name": "datsun 610",
          "Origin": "Japan",
          "Weight_in_lbs": 2379,
          "Year": "1973-01-01"
         },
         {
          "Acceleration": 13.5,
          "Cylinders": 3,
          "Displacement": 70,
          "Horsepower": 90,
          "Miles_per_Gallon": 18,
          "Name": "maxda rx3",
          "Origin": "Japan",
          "Weight_in_lbs": 2124,
          "Year": "1973-01-01"
         },
         {
          "Acceleration": 18.5,
          "Cylinders": 4,
          "Displacement": 122,
          "Horsepower": 85,
          "Miles_per_Gallon": 19,
          "Name": "ford pinto",
          "Origin": "USA",
          "Weight_in_lbs": 2310,
          "Year": "1973-01-01"
         },
         {
          "Acceleration": 14,
          "Cylinders": 6,
          "Displacement": 155,
          "Horsepower": 107,
          "Miles_per_Gallon": 21,
          "Name": "mercury capri v6",
          "Origin": "USA",
          "Weight_in_lbs": 2472,
          "Year": "1973-01-01"
         },
         {
          "Acceleration": 15.5,
          "Cylinders": 4,
          "Displacement": 98,
          "Horsepower": 90,
          "Miles_per_Gallon": 26,
          "Name": "fiat 124 sport coupe",
          "Origin": "Europe",
          "Weight_in_lbs": 2265,
          "Year": "1973-01-01"
         },
         {
          "Acceleration": 13,
          "Cylinders": 8,
          "Displacement": 350,
          "Horsepower": 145,
          "Miles_per_Gallon": 15,
          "Name": "chevrolet monte carlo s",
          "Origin": "USA",
          "Weight_in_lbs": 4082,
          "Year": "1973-01-01"
         },
         {
          "Acceleration": 9.5,
          "Cylinders": 8,
          "Displacement": 400,
          "Horsepower": 230,
          "Miles_per_Gallon": 16,
          "Name": "pontiac grand prix",
          "Origin": "USA",
          "Weight_in_lbs": 4278,
          "Year": "1973-01-01"
         },
         {
          "Acceleration": 19.5,
          "Cylinders": 4,
          "Displacement": 68,
          "Horsepower": 49,
          "Miles_per_Gallon": 29,
          "Name": "fiat 128",
          "Origin": "Europe",
          "Weight_in_lbs": 1867,
          "Year": "1973-01-01"
         },
         {
          "Acceleration": 15.5,
          "Cylinders": 4,
          "Displacement": 116,
          "Horsepower": 75,
          "Miles_per_Gallon": 24,
          "Name": "opel manta",
          "Origin": "Europe",
          "Weight_in_lbs": 2158,
          "Year": "1973-01-01"
         },
         {
          "Acceleration": 14,
          "Cylinders": 4,
          "Displacement": 114,
          "Horsepower": 91,
          "Miles_per_Gallon": 20,
          "Name": "audi 100ls",
          "Origin": "Europe",
          "Weight_in_lbs": 2582,
          "Year": "1973-01-01"
         },
         {
          "Acceleration": 15.5,
          "Cylinders": 4,
          "Displacement": 121,
          "Horsepower": 112,
          "Miles_per_Gallon": 19,
          "Name": "volvo 144ea",
          "Origin": "Europe",
          "Weight_in_lbs": 2868,
          "Year": "1973-01-01"
         },
         {
          "Acceleration": 11,
          "Cylinders": 8,
          "Displacement": 318,
          "Horsepower": 150,
          "Miles_per_Gallon": 15,
          "Name": "dodge dart custom",
          "Origin": "USA",
          "Weight_in_lbs": 3399,
          "Year": "1973-01-01"
         },
         {
          "Acceleration": 14,
          "Cylinders": 4,
          "Displacement": 121,
          "Horsepower": 110,
          "Miles_per_Gallon": 24,
          "Name": "saab 99le",
          "Origin": "Europe",
          "Weight_in_lbs": 2660,
          "Year": "1973-01-01"
         },
         {
          "Acceleration": 13.5,
          "Cylinders": 6,
          "Displacement": 156,
          "Horsepower": 122,
          "Miles_per_Gallon": 20,
          "Name": "toyota mark ii",
          "Origin": "Japan",
          "Weight_in_lbs": 2807,
          "Year": "1973-01-01"
         },
         {
          "Acceleration": 11,
          "Cylinders": 8,
          "Displacement": 350,
          "Horsepower": 180,
          "Miles_per_Gallon": 11,
          "Name": "oldsmobile omega",
          "Origin": "USA",
          "Weight_in_lbs": 3664,
          "Year": "1973-01-01"
         },
         {
          "Acceleration": 16.5,
          "Cylinders": 6,
          "Displacement": 198,
          "Horsepower": 95,
          "Miles_per_Gallon": 20,
          "Name": "plymouth duster",
          "Origin": "USA",
          "Weight_in_lbs": 3102,
          "Year": "1974-01-01"
         },
         {
          "Acceleration": 17,
          "Cylinders": 6,
          "Displacement": 200,
          "Horsepower": null,
          "Miles_per_Gallon": 21,
          "Name": "ford maverick",
          "Origin": "USA",
          "Weight_in_lbs": 2875,
          "Year": "1974-01-01"
         },
         {
          "Acceleration": 16,
          "Cylinders": 6,
          "Displacement": 232,
          "Horsepower": 100,
          "Miles_per_Gallon": 19,
          "Name": "amc hornet",
          "Origin": "USA",
          "Weight_in_lbs": 2901,
          "Year": "1974-01-01"
         },
         {
          "Acceleration": 17,
          "Cylinders": 6,
          "Displacement": 250,
          "Horsepower": 100,
          "Miles_per_Gallon": 15,
          "Name": "chevrolet nova",
          "Origin": "USA",
          "Weight_in_lbs": 3336,
          "Year": "1974-01-01"
         },
         {
          "Acceleration": 19,
          "Cylinders": 4,
          "Displacement": 79,
          "Horsepower": 67,
          "Miles_per_Gallon": 31,
          "Name": "datsun b210",
          "Origin": "Japan",
          "Weight_in_lbs": 1950,
          "Year": "1974-01-01"
         },
         {
          "Acceleration": 16.5,
          "Cylinders": 4,
          "Displacement": 122,
          "Horsepower": 80,
          "Miles_per_Gallon": 26,
          "Name": "ford pinto",
          "Origin": "USA",
          "Weight_in_lbs": 2451,
          "Year": "1974-01-01"
         },
         {
          "Acceleration": 21,
          "Cylinders": 4,
          "Displacement": 71,
          "Horsepower": 65,
          "Miles_per_Gallon": 32,
          "Name": "toyota corolla 1200",
          "Origin": "Japan",
          "Weight_in_lbs": 1836,
          "Year": "1974-01-01"
         },
         {
          "Acceleration": 17,
          "Cylinders": 4,
          "Displacement": 140,
          "Horsepower": 75,
          "Miles_per_Gallon": 25,
          "Name": "chevrolet vega",
          "Origin": "USA",
          "Weight_in_lbs": 2542,
          "Year": "1974-01-01"
         },
         {
          "Acceleration": 17,
          "Cylinders": 6,
          "Displacement": 250,
          "Horsepower": 100,
          "Miles_per_Gallon": 16,
          "Name": "chevrolet chevelle malibu classic",
          "Origin": "USA",
          "Weight_in_lbs": 3781,
          "Year": "1974-01-01"
         },
         {
          "Acceleration": 18,
          "Cylinders": 6,
          "Displacement": 258,
          "Horsepower": 110,
          "Miles_per_Gallon": 16,
          "Name": "amc matador",
          "Origin": "USA",
          "Weight_in_lbs": 3632,
          "Year": "1974-01-01"
         },
         {
          "Acceleration": 16.5,
          "Cylinders": 6,
          "Displacement": 225,
          "Horsepower": 105,
          "Miles_per_Gallon": 18,
          "Name": "plymouth satellite sebring",
          "Origin": "USA",
          "Weight_in_lbs": 3613,
          "Year": "1974-01-01"
         },
         {
          "Acceleration": 14,
          "Cylinders": 8,
          "Displacement": 302,
          "Horsepower": 140,
          "Miles_per_Gallon": 16,
          "Name": "ford gran torino",
          "Origin": "USA",
          "Weight_in_lbs": 4141,
          "Year": "1974-01-01"
         },
         {
          "Acceleration": 14.5,
          "Cylinders": 8,
          "Displacement": 350,
          "Horsepower": 150,
          "Miles_per_Gallon": 13,
          "Name": "buick century luxus (sw)",
          "Origin": "USA",
          "Weight_in_lbs": 4699,
          "Year": "1974-01-01"
         },
         {
          "Acceleration": 13.5,
          "Cylinders": 8,
          "Displacement": 318,
          "Horsepower": 150,
          "Miles_per_Gallon": 14,
          "Name": "dodge coronet custom (sw)",
          "Origin": "USA",
          "Weight_in_lbs": 4457,
          "Year": "1974-01-01"
         },
         {
          "Acceleration": 16,
          "Cylinders": 8,
          "Displacement": 302,
          "Horsepower": 140,
          "Miles_per_Gallon": 14,
          "Name": "ford gran torino (sw)",
          "Origin": "USA",
          "Weight_in_lbs": 4638,
          "Year": "1974-01-01"
         },
         {
          "Acceleration": 15.5,
          "Cylinders": 8,
          "Displacement": 304,
          "Horsepower": 150,
          "Miles_per_Gallon": 14,
          "Name": "amc matador (sw)",
          "Origin": "USA",
          "Weight_in_lbs": 4257,
          "Year": "1974-01-01"
         },
         {
          "Acceleration": 16.5,
          "Cylinders": 4,
          "Displacement": 98,
          "Horsepower": 83,
          "Miles_per_Gallon": 29,
          "Name": "audi fox",
          "Origin": "Europe",
          "Weight_in_lbs": 2219,
          "Year": "1974-01-01"
         },
         {
          "Acceleration": 15.5,
          "Cylinders": 4,
          "Displacement": 79,
          "Horsepower": 67,
          "Miles_per_Gallon": 26,
          "Name": "volkswagen dasher",
          "Origin": "Europe",
          "Weight_in_lbs": 1963,
          "Year": "1974-01-01"
         },
         {
          "Acceleration": 14.5,
          "Cylinders": 4,
          "Displacement": 97,
          "Horsepower": 78,
          "Miles_per_Gallon": 26,
          "Name": "opel manta",
          "Origin": "Europe",
          "Weight_in_lbs": 2300,
          "Year": "1974-01-01"
         },
         {
          "Acceleration": 16.5,
          "Cylinders": 4,
          "Displacement": 76,
          "Horsepower": 52,
          "Miles_per_Gallon": 31,
          "Name": "toyota corona",
          "Origin": "Japan",
          "Weight_in_lbs": 1649,
          "Year": "1974-01-01"
         },
         {
          "Acceleration": 19,
          "Cylinders": 4,
          "Displacement": 83,
          "Horsepower": 61,
          "Miles_per_Gallon": 32,
          "Name": "datsun 710",
          "Origin": "Japan",
          "Weight_in_lbs": 2003,
          "Year": "1974-01-01"
         },
         {
          "Acceleration": 14.5,
          "Cylinders": 4,
          "Displacement": 90,
          "Horsepower": 75,
          "Miles_per_Gallon": 28,
          "Name": "dodge colt",
          "Origin": "USA",
          "Weight_in_lbs": 2125,
          "Year": "1974-01-01"
         },
         {
          "Acceleration": 15.5,
          "Cylinders": 4,
          "Displacement": 90,
          "Horsepower": 75,
          "Miles_per_Gallon": 24,
          "Name": "fiat 128",
          "Origin": "Europe",
          "Weight_in_lbs": 2108,
          "Year": "1974-01-01"
         },
         {
          "Acceleration": 14,
          "Cylinders": 4,
          "Displacement": 116,
          "Horsepower": 75,
          "Miles_per_Gallon": 26,
          "Name": "fiat 124 tc",
          "Origin": "Europe",
          "Weight_in_lbs": 2246,
          "Year": "1974-01-01"
         },
         {
          "Acceleration": 15,
          "Cylinders": 4,
          "Displacement": 120,
          "Horsepower": 97,
          "Miles_per_Gallon": 24,
          "Name": "honda civic",
          "Origin": "Japan",
          "Weight_in_lbs": 2489,
          "Year": "1974-01-01"
         },
         {
          "Acceleration": 15.5,
          "Cylinders": 4,
          "Displacement": 108,
          "Horsepower": 93,
          "Miles_per_Gallon": 26,
          "Name": "subaru",
          "Origin": "Japan",
          "Weight_in_lbs": 2391,
          "Year": "1974-01-01"
         },
         {
          "Acceleration": 16,
          "Cylinders": 4,
          "Displacement": 79,
          "Horsepower": 67,
          "Miles_per_Gallon": 31,
          "Name": "fiat x1.9",
          "Origin": "Europe",
          "Weight_in_lbs": 2000,
          "Year": "1974-01-01"
         },
         {
          "Acceleration": 16,
          "Cylinders": 6,
          "Displacement": 225,
          "Horsepower": 95,
          "Miles_per_Gallon": 19,
          "Name": "plymouth valiant custom",
          "Origin": "USA",
          "Weight_in_lbs": 3264,
          "Year": "1975-01-01"
         },
         {
          "Acceleration": 16,
          "Cylinders": 6,
          "Displacement": 250,
          "Horsepower": 105,
          "Miles_per_Gallon": 18,
          "Name": "chevrolet nova",
          "Origin": "USA",
          "Weight_in_lbs": 3459,
          "Year": "1975-01-01"
         },
         {
          "Acceleration": 21,
          "Cylinders": 6,
          "Displacement": 250,
          "Horsepower": 72,
          "Miles_per_Gallon": 15,
          "Name": "mercury monarch",
          "Origin": "USA",
          "Weight_in_lbs": 3432,
          "Year": "1975-01-01"
         },
         {
          "Acceleration": 19.5,
          "Cylinders": 6,
          "Displacement": 250,
          "Horsepower": 72,
          "Miles_per_Gallon": 15,
          "Name": "ford maverick",
          "Origin": "USA",
          "Weight_in_lbs": 3158,
          "Year": "1975-01-01"
         },
         {
          "Acceleration": 11.5,
          "Cylinders": 8,
          "Displacement": 400,
          "Horsepower": 170,
          "Miles_per_Gallon": 16,
          "Name": "pontiac catalina",
          "Origin": "USA",
          "Weight_in_lbs": 4668,
          "Year": "1975-01-01"
         },
         {
          "Acceleration": 14,
          "Cylinders": 8,
          "Displacement": 350,
          "Horsepower": 145,
          "Miles_per_Gallon": 15,
          "Name": "chevrolet bel air",
          "Origin": "USA",
          "Weight_in_lbs": 4440,
          "Year": "1975-01-01"
         },
         {
          "Acceleration": 14.5,
          "Cylinders": 8,
          "Displacement": 318,
          "Horsepower": 150,
          "Miles_per_Gallon": 16,
          "Name": "plymouth grand fury",
          "Origin": "USA",
          "Weight_in_lbs": 4498,
          "Year": "1975-01-01"
         },
         {
          "Acceleration": 13.5,
          "Cylinders": 8,
          "Displacement": 351,
          "Horsepower": 148,
          "Miles_per_Gallon": 14,
          "Name": "ford ltd",
          "Origin": "USA",
          "Weight_in_lbs": 4657,
          "Year": "1975-01-01"
         },
         {
          "Acceleration": 21,
          "Cylinders": 6,
          "Displacement": 231,
          "Horsepower": 110,
          "Miles_per_Gallon": 17,
          "Name": "buick century",
          "Origin": "USA",
          "Weight_in_lbs": 3907,
          "Year": "1975-01-01"
         },
         {
          "Acceleration": 18.5,
          "Cylinders": 6,
          "Displacement": 250,
          "Horsepower": 105,
          "Miles_per_Gallon": 16,
          "Name": "chevroelt chevelle malibu",
          "Origin": "USA",
          "Weight_in_lbs": 3897,
          "Year": "1975-01-01"
         },
         {
          "Acceleration": 19,
          "Cylinders": 6,
          "Displacement": 258,
          "Horsepower": 110,
          "Miles_per_Gallon": 15,
          "Name": "amc matador",
          "Origin": "USA",
          "Weight_in_lbs": 3730,
          "Year": "1975-01-01"
         },
         {
          "Acceleration": 19,
          "Cylinders": 6,
          "Displacement": 225,
          "Horsepower": 95,
          "Miles_per_Gallon": 18,
          "Name": "plymouth fury",
          "Origin": "USA",
          "Weight_in_lbs": 3785,
          "Year": "1975-01-01"
         },
         {
          "Acceleration": 15,
          "Cylinders": 6,
          "Displacement": 231,
          "Horsepower": 110,
          "Miles_per_Gallon": 21,
          "Name": "buick skyhawk",
          "Origin": "USA",
          "Weight_in_lbs": 3039,
          "Year": "1975-01-01"
         },
         {
          "Acceleration": 13.5,
          "Cylinders": 8,
          "Displacement": 262,
          "Horsepower": 110,
          "Miles_per_Gallon": 20,
          "Name": "chevrolet monza 2+2",
          "Origin": "USA",
          "Weight_in_lbs": 3221,
          "Year": "1975-01-01"
         },
         {
          "Acceleration": 12,
          "Cylinders": 8,
          "Displacement": 302,
          "Horsepower": 129,
          "Miles_per_Gallon": 13,
          "Name": "ford mustang ii",
          "Origin": "USA",
          "Weight_in_lbs": 3169,
          "Year": "1975-01-01"
         },
         {
          "Acceleration": 16,
          "Cylinders": 4,
          "Displacement": 97,
          "Horsepower": 75,
          "Miles_per_Gallon": 29,
          "Name": "toyota corolla",
          "Origin": "Japan",
          "Weight_in_lbs": 2171,
          "Year": "1975-01-01"
         },
         {
          "Acceleration": 17,
          "Cylinders": 4,
          "Displacement": 140,
          "Horsepower": 83,
          "Miles_per_Gallon": 23,
          "Name": "ford pinto",
          "Origin": "USA",
          "Weight_in_lbs": 2639,
          "Year": "1975-01-01"
         },
         {
          "Acceleration": 16,
          "Cylinders": 6,
          "Displacement": 232,
          "Horsepower": 100,
          "Miles_per_Gallon": 20,
          "Name": "amc gremlin",
          "Origin": "USA",
          "Weight_in_lbs": 2914,
          "Year": "1975-01-01"
         },
         {
          "Acceleration": 18.5,
          "Cylinders": 4,
          "Displacement": 140,
          "Horsepower": 78,
          "Miles_per_Gallon": 23,
          "Name": "pontiac astro",
          "Origin": "USA",
          "Weight_in_lbs": 2592,
          "Year": "1975-01-01"
         },
         {
          "Acceleration": 13.5,
          "Cylinders": 4,
          "Displacement": 134,
          "Horsepower": 96,
          "Miles_per_Gallon": 24,
          "Name": "toyota corona",
          "Origin": "Japan",
          "Weight_in_lbs": 2702,
          "Year": "1975-01-01"
         },
         {
          "Acceleration": 16.5,
          "Cylinders": 4,
          "Displacement": 90,
          "Horsepower": 71,
          "Miles_per_Gallon": 25,
          "Name": "volkswagen dasher",
          "Origin": "Europe",
          "Weight_in_lbs": 2223,
          "Year": "1975-01-01"
         },
         {
          "Acceleration": 17,
          "Cylinders": 4,
          "Displacement": 119,
          "Horsepower": 97,
          "Miles_per_Gallon": 24,
          "Name": "datsun 710",
          "Origin": "Japan",
          "Weight_in_lbs": 2545,
          "Year": "1975-01-01"
         },
         {
          "Acceleration": 14.5,
          "Cylinders": 6,
          "Displacement": 171,
          "Horsepower": 97,
          "Miles_per_Gallon": 18,
          "Name": "ford pinto",
          "Origin": "USA",
          "Weight_in_lbs": 2984,
          "Year": "1975-01-01"
         },
         {
          "Acceleration": 14,
          "Cylinders": 4,
          "Displacement": 90,
          "Horsepower": 70,
          "Miles_per_Gallon": 29,
          "Name": "volkswagen rabbit",
          "Origin": "Europe",
          "Weight_in_lbs": 1937,
          "Year": "1975-01-01"
         },
         {
          "Acceleration": 17,
          "Cylinders": 6,
          "Displacement": 232,
          "Horsepower": 90,
          "Miles_per_Gallon": 19,
          "Name": "amc pacer",
          "Origin": "USA",
          "Weight_in_lbs": 3211,
          "Year": "1975-01-01"
         },
         {
          "Acceleration": 15,
          "Cylinders": 4,
          "Displacement": 115,
          "Horsepower": 95,
          "Miles_per_Gallon": 23,
          "Name": "audi 100ls",
          "Origin": "Europe",
          "Weight_in_lbs": 2694,
          "Year": "1975-01-01"
         },
         {
          "Acceleration": 17,
          "Cylinders": 4,
          "Displacement": 120,
          "Horsepower": 88,
          "Miles_per_Gallon": 23,
          "Name": "peugeot 504",
          "Origin": "Europe",
          "Weight_in_lbs": 2957,
          "Year": "1975-01-01"
         },
         {
          "Acceleration": 14.5,
          "Cylinders": 4,
          "Displacement": 121,
          "Horsepower": 98,
          "Miles_per_Gallon": 22,
          "Name": "volvo 244dl",
          "Origin": "Europe",
          "Weight_in_lbs": 2945,
          "Year": "1975-01-01"
         },
         {
          "Acceleration": 13.5,
          "Cylinders": 4,
          "Displacement": 121,
          "Horsepower": 115,
          "Miles_per_Gallon": 25,
          "Name": "saab 99le",
          "Origin": "Europe",
          "Weight_in_lbs": 2671,
          "Year": "1975-01-01"
         },
         {
          "Acceleration": 17.5,
          "Cylinders": 4,
          "Displacement": 91,
          "Horsepower": 53,
          "Miles_per_Gallon": 33,
          "Name": "honda civic cvcc",
          "Origin": "Japan",
          "Weight_in_lbs": 1795,
          "Year": "1975-01-01"
         },
         {
          "Acceleration": 15.5,
          "Cylinders": 4,
          "Displacement": 107,
          "Horsepower": 86,
          "Miles_per_Gallon": 28,
          "Name": "fiat 131",
          "Origin": "Europe",
          "Weight_in_lbs": 2464,
          "Year": "1976-01-01"
         },
         {
          "Acceleration": 16.9,
          "Cylinders": 4,
          "Displacement": 116,
          "Horsepower": 81,
          "Miles_per_Gallon": 25,
          "Name": "opel 1900",
          "Origin": "Europe",
          "Weight_in_lbs": 2220,
          "Year": "1976-01-01"
         },
         {
          "Acceleration": 14.9,
          "Cylinders": 4,
          "Displacement": 140,
          "Horsepower": 92,
          "Miles_per_Gallon": 25,
          "Name": "capri ii",
          "Origin": "USA",
          "Weight_in_lbs": 2572,
          "Year": "1976-01-01"
         },
         {
          "Acceleration": 17.7,
          "Cylinders": 4,
          "Displacement": 98,
          "Horsepower": 79,
          "Miles_per_Gallon": 26,
          "Name": "dodge colt",
          "Origin": "USA",
          "Weight_in_lbs": 2255,
          "Year": "1976-01-01"
         },
         {
          "Acceleration": 15.3,
          "Cylinders": 4,
          "Displacement": 101,
          "Horsepower": 83,
          "Miles_per_Gallon": 27,
          "Name": "renault 12tl",
          "Origin": "Europe",
          "Weight_in_lbs": 2202,
          "Year": "1976-01-01"
         },
         {
          "Acceleration": 13,
          "Cylinders": 8,
          "Displacement": 305,
          "Horsepower": 140,
          "Miles_per_Gallon": 17.5,
          "Name": "chevrolet chevelle malibu classic",
          "Origin": "USA",
          "Weight_in_lbs": 4215,
          "Year": "1976-01-01"
         },
         {
          "Acceleration": 13,
          "Cylinders": 8,
          "Displacement": 318,
          "Horsepower": 150,
          "Miles_per_Gallon": 16,
          "Name": "dodge coronet brougham",
          "Origin": "USA",
          "Weight_in_lbs": 4190,
          "Year": "1976-01-01"
         },
         {
          "Acceleration": 13.9,
          "Cylinders": 8,
          "Displacement": 304,
          "Horsepower": 120,
          "Miles_per_Gallon": 15.5,
          "Name": "amc matador",
          "Origin": "USA",
          "Weight_in_lbs": 3962,
          "Year": "1976-01-01"
         },
         {
          "Acceleration": 12.8,
          "Cylinders": 8,
          "Displacement": 351,
          "Horsepower": 152,
          "Miles_per_Gallon": 14.5,
          "Name": "ford gran torino",
          "Origin": "USA",
          "Weight_in_lbs": 4215,
          "Year": "1976-01-01"
         },
         {
          "Acceleration": 15.4,
          "Cylinders": 6,
          "Displacement": 225,
          "Horsepower": 100,
          "Miles_per_Gallon": 22,
          "Name": "plymouth valiant",
          "Origin": "USA",
          "Weight_in_lbs": 3233,
          "Year": "1976-01-01"
         },
         {
          "Acceleration": 14.5,
          "Cylinders": 6,
          "Displacement": 250,
          "Horsepower": 105,
          "Miles_per_Gallon": 22,
          "Name": "chevrolet nova",
          "Origin": "USA",
          "Weight_in_lbs": 3353,
          "Year": "1976-01-01"
         },
         {
          "Acceleration": 17.6,
          "Cylinders": 6,
          "Displacement": 200,
          "Horsepower": 81,
          "Miles_per_Gallon": 24,
          "Name": "ford maverick",
          "Origin": "USA",
          "Weight_in_lbs": 3012,
          "Year": "1976-01-01"
         },
         {
          "Acceleration": 17.6,
          "Cylinders": 6,
          "Displacement": 232,
          "Horsepower": 90,
          "Miles_per_Gallon": 22.5,
          "Name": "amc hornet",
          "Origin": "USA",
          "Weight_in_lbs": 3085,
          "Year": "1976-01-01"
         },
         {
          "Acceleration": 22.2,
          "Cylinders": 4,
          "Displacement": 85,
          "Horsepower": 52,
          "Miles_per_Gallon": 29,
          "Name": "chevrolet chevette",
          "Origin": "USA",
          "Weight_in_lbs": 2035,
          "Year": "1976-01-01"
         },
         {
          "Acceleration": 22.1,
          "Cylinders": 4,
          "Displacement": 98,
          "Horsepower": 60,
          "Miles_per_Gallon": 24.5,
          "Name": "chevrolet woody",
          "Origin": "USA",
          "Weight_in_lbs": 2164,
          "Year": "1976-01-01"
         },
         {
          "Acceleration": 14.2,
          "Cylinders": 4,
          "Displacement": 90,
          "Horsepower": 70,
          "Miles_per_Gallon": 29,
          "Name": "vw rabbit",
          "Origin": "Europe",
          "Weight_in_lbs": 1937,
          "Year": "1976-01-01"
         },
         {
          "Acceleration": 17.4,
          "Cylinders": 4,
          "Displacement": 91,
          "Horsepower": 53,
          "Miles_per_Gallon": 33,
          "Name": "honda civic",
          "Origin": "Japan",
          "Weight_in_lbs": 1795,
          "Year": "1976-01-01"
         },
         {
          "Acceleration": 17.7,
          "Cylinders": 6,
          "Displacement": 225,
          "Horsepower": 100,
          "Miles_per_Gallon": 20,
          "Name": "dodge aspen se",
          "Origin": "USA",
          "Weight_in_lbs": 3651,
          "Year": "1976-01-01"
         },
         {
          "Acceleration": 21,
          "Cylinders": 6,
          "Displacement": 250,
          "Horsepower": 78,
          "Miles_per_Gallon": 18,
          "Name": "ford granada ghia",
          "Origin": "USA",
          "Weight_in_lbs": 3574,
          "Year": "1976-01-01"
         },
         {
          "Acceleration": 16.2,
          "Cylinders": 6,
          "Displacement": 250,
          "Horsepower": 110,
          "Miles_per_Gallon": 18.5,
          "Name": "pontiac ventura sj",
          "Origin": "USA",
          "Weight_in_lbs": 3645,
          "Year": "1976-01-01"
         },
         {
          "Acceleration": 17.8,
          "Cylinders": 6,
          "Displacement": 258,
          "Horsepower": 95,
          "Miles_per_Gallon": 17.5,
          "Name": "amc pacer d/l",
          "Origin": "USA",
          "Weight_in_lbs": 3193,
          "Year": "1976-01-01"
         },
         {
          "Acceleration": 12.2,
          "Cylinders": 4,
          "Displacement": 97,
          "Horsepower": 71,
          "Miles_per_Gallon": 29.5,
          "Name": "volkswagen rabbit",
          "Origin": "Europe",
          "Weight_in_lbs": 1825,
          "Year": "1976-01-01"
         },
         {
          "Acceleration": 17,
          "Cylinders": 4,
          "Displacement": 85,
          "Horsepower": 70,
          "Miles_per_Gallon": 32,
          "Name": "datsun b-210",
          "Origin": "Japan",
          "Weight_in_lbs": 1990,
          "Year": "1976-01-01"
         },
         {
          "Acceleration": 16.4,
          "Cylinders": 4,
          "Displacement": 97,
          "Horsepower": 75,
          "Miles_per_Gallon": 28,
          "Name": "toyota corolla",
          "Origin": "Japan",
          "Weight_in_lbs": 2155,
          "Year": "1976-01-01"
         },
         {
          "Acceleration": 13.6,
          "Cylinders": 4,
          "Displacement": 140,
          "Horsepower": 72,
          "Miles_per_Gallon": 26.5,
          "Name": "ford pinto",
          "Origin": "USA",
          "Weight_in_lbs": 2565,
          "Year": "1976-01-01"
         },
         {
          "Acceleration": 15.7,
          "Cylinders": 4,
          "Displacement": 130,
          "Horsepower": 102,
          "Miles_per_Gallon": 20,
          "Name": "volvo 245",
          "Origin": "Europe",
          "Weight_in_lbs": 3150,
          "Year": "1976-01-01"
         },
         {
          "Acceleration": 13.2,
          "Cylinders": 8,
          "Displacement": 318,
          "Horsepower": 150,
          "Miles_per_Gallon": 13,
          "Name": "plymouth volare premier v8",
          "Origin": "USA",
          "Weight_in_lbs": 3940,
          "Year": "1976-01-01"
         },
         {
          "Acceleration": 21.9,
          "Cylinders": 4,
          "Displacement": 120,
          "Horsepower": 88,
          "Miles_per_Gallon": 19,
          "Name": "peugeot 504",
          "Origin": "Europe",
          "Weight_in_lbs": 3270,
          "Year": "1976-01-01"
         },
         {
          "Acceleration": 15.5,
          "Cylinders": 6,
          "Displacement": 156,
          "Horsepower": 108,
          "Miles_per_Gallon": 19,
          "Name": "toyota mark ii",
          "Origin": "Japan",
          "Weight_in_lbs": 2930,
          "Year": "1976-01-01"
         },
         {
          "Acceleration": 16.7,
          "Cylinders": 6,
          "Displacement": 168,
          "Horsepower": 120,
          "Miles_per_Gallon": 16.5,
          "Name": "mercedes-benz 280s",
          "Origin": "Europe",
          "Weight_in_lbs": 3820,
          "Year": "1976-01-01"
         },
         {
          "Acceleration": 12.1,
          "Cylinders": 8,
          "Displacement": 350,
          "Horsepower": 180,
          "Miles_per_Gallon": 16.5,
          "Name": "cadillac seville",
          "Origin": "USA",
          "Weight_in_lbs": 4380,
          "Year": "1976-01-01"
         },
         {
          "Acceleration": 12,
          "Cylinders": 8,
          "Displacement": 350,
          "Horsepower": 145,
          "Miles_per_Gallon": 13,
          "Name": "chevy c10",
          "Origin": "USA",
          "Weight_in_lbs": 4055,
          "Year": "1976-01-01"
         },
         {
          "Acceleration": 15,
          "Cylinders": 8,
          "Displacement": 302,
          "Horsepower": 130,
          "Miles_per_Gallon": 13,
          "Name": "ford f108",
          "Origin": "USA",
          "Weight_in_lbs": 3870,
          "Year": "1976-01-01"
         },
         {
          "Acceleration": 14,
          "Cylinders": 8,
          "Displacement": 318,
          "Horsepower": 150,
          "Miles_per_Gallon": 13,
          "Name": "dodge d100",
          "Origin": "USA",
          "Weight_in_lbs": 3755,
          "Year": "1976-01-01"
         },
         {
          "Acceleration": 18.5,
          "Cylinders": 4,
          "Displacement": 98,
          "Horsepower": 68,
          "Miles_per_Gallon": 31.5,
          "Name": "honda Accelerationord cvcc",
          "Origin": "Japan",
          "Weight_in_lbs": 2045,
          "Year": "1977-01-01"
         },
         {
          "Acceleration": 14.8,
          "Cylinders": 4,
          "Displacement": 111,
          "Horsepower": 80,
          "Miles_per_Gallon": 30,
          "Name": "buick opel isuzu deluxe",
          "Origin": "USA",
          "Weight_in_lbs": 2155,
          "Year": "1977-01-01"
         },
         {
          "Acceleration": 18.6,
          "Cylinders": 4,
          "Displacement": 79,
          "Horsepower": 58,
          "Miles_per_Gallon": 36,
          "Name": "renault 5 gtl",
          "Origin": "Europe",
          "Weight_in_lbs": 1825,
          "Year": "1977-01-01"
         },
         {
          "Acceleration": 15.5,
          "Cylinders": 4,
          "Displacement": 122,
          "Horsepower": 96,
          "Miles_per_Gallon": 25.5,
          "Name": "plymouth arrow gs",
          "Origin": "USA",
          "Weight_in_lbs": 2300,
          "Year": "1977-01-01"
         },
         {
          "Acceleration": 16.8,
          "Cylinders": 4,
          "Displacement": 85,
          "Horsepower": 70,
          "Miles_per_Gallon": 33.5,
          "Name": "datsun f-10 hatchback",
          "Origin": "Japan",
          "Weight_in_lbs": 1945,
          "Year": "1977-01-01"
         },
         {
          "Acceleration": 12.5,
          "Cylinders": 8,
          "Displacement": 305,
          "Horsepower": 145,
          "Miles_per_Gallon": 17.5,
          "Name": "chevrolet caprice classic",
          "Origin": "USA",
          "Weight_in_lbs": 3880,
          "Year": "1977-01-01"
         },
         {
          "Acceleration": 19,
          "Cylinders": 8,
          "Displacement": 260,
          "Horsepower": 110,
          "Miles_per_Gallon": 17,
          "Name": "oldsmobile cutlass supreme",
          "Origin": "USA",
          "Weight_in_lbs": 4060,
          "Year": "1977-01-01"
         },
         {
          "Acceleration": 13.7,
          "Cylinders": 8,
          "Displacement": 318,
          "Horsepower": 145,
          "Miles_per_Gallon": 15.5,
          "Name": "dodge monaco brougham",
          "Origin": "USA",
          "Weight_in_lbs": 4140,
          "Year": "1977-01-01"
         },
         {
          "Acceleration": 14.9,
          "Cylinders": 8,
          "Displacement": 302,
          "Horsepower": 130,
          "Miles_per_Gallon": 15,
          "Name": "mercury cougar brougham",
          "Origin": "USA",
          "Weight_in_lbs": 4295,
          "Year": "1977-01-01"
         },
         {
          "Acceleration": 16.4,
          "Cylinders": 6,
          "Displacement": 250,
          "Horsepower": 110,
          "Miles_per_Gallon": 17.5,
          "Name": "chevrolet concours",
          "Origin": "USA",
          "Weight_in_lbs": 3520,
          "Year": "1977-01-01"
         },
         {
          "Acceleration": 16.9,
          "Cylinders": 6,
          "Displacement": 231,
          "Horsepower": 105,
          "Miles_per_Gallon": 20.5,
          "Name": "buick skylark",
          "Origin": "USA",
          "Weight_in_lbs": 3425,
          "Year": "1977-01-01"
         },
         {
          "Acceleration": 17.7,
          "Cylinders": 6,
          "Displacement": 225,
          "Horsepower": 100,
          "Miles_per_Gallon": 19,
          "Name": "plymouth volare custom",
          "Origin": "USA",
          "Weight_in_lbs": 3630,
          "Year": "1977-01-01"
         },
         {
          "Acceleration": 19,
          "Cylinders": 6,
          "Displacement": 250,
          "Horsepower": 98,
          "Miles_per_Gallon": 18.5,
          "Name": "ford granada",
          "Origin": "USA",
          "Weight_in_lbs": 3525,
          "Year": "1977-01-01"
         },
         {
          "Acceleration": 11.1,
          "Cylinders": 8,
          "Displacement": 400,
          "Horsepower": 180,
          "Miles_per_Gallon": 16,
          "Name": "pontiac grand prix lj",
          "Origin": "USA",
          "Weight_in_lbs": 4220,
          "Year": "1977-01-01"
         },
         {
          "Acceleration": 11.4,
          "Cylinders": 8,
          "Displacement": 350,
          "Horsepower": 170,
          "Miles_per_Gallon": 15.5,
          "Name": "chevrolet monte carlo landau",
          "Origin": "USA",
          "Weight_in_lbs": 4165,
          "Year": "1977-01-01"
         },
         {
          "Acceleration": 12.2,
          "Cylinders": 8,
          "Displacement": 400,
          "Horsepower": 190,
          "Miles_per_Gallon": 15.5,
          "Name": "chrysler cordoba",
          "Origin": "USA",
          "Weight_in_lbs": 4325,
          "Year": "1977-01-01"
         },
         {
          "Acceleration": 14.5,
          "Cylinders": 8,
          "Displacement": 351,
          "Horsepower": 149,
          "Miles_per_Gallon": 16,
          "Name": "ford thunderbird",
          "Origin": "USA",
          "Weight_in_lbs": 4335,
          "Year": "1977-01-01"
         },
         {
          "Acceleration": 14.5,
          "Cylinders": 4,
          "Displacement": 97,
          "Horsepower": 78,
          "Miles_per_Gallon": 29,
          "Name": "volkswagen rabbit custom",
          "Origin": "Europe",
          "Weight_in_lbs": 1940,
          "Year": "1977-01-01"
         },
         {
          "Acceleration": 16,
          "Cylinders": 4,
          "Displacement": 151,
          "Horsepower": 88,
          "Miles_per_Gallon": 24.5,
          "Name": "pontiac sunbird coupe",
          "Origin": "USA",
          "Weight_in_lbs": 2740,
          "Year": "1977-01-01"
         },
         {
          "Acceleration": 18.2,
          "Cylinders": 4,
          "Displacement": 97,
          "Horsepower": 75,
          "Miles_per_Gallon": 26,
          "Name": "toyota corolla liftback",
          "Origin": "Japan",
          "Weight_in_lbs": 2265,
          "Year": "1977-01-01"
         },
         {
          "Acceleration": 15.8,
          "Cylinders": 4,
          "Displacement": 140,
          "Horsepower": 89,
          "Miles_per_Gallon": 25.5,
          "Name": "ford mustang ii 2+2",
          "Origin": "USA",
          "Weight_in_lbs": 2755,
          "Year": "1977-01-01"
         },
         {
          "Acceleration": 17,
          "Cylinders": 4,
          "Displacement": 98,
          "Horsepower": 63,
          "Miles_per_Gallon": 30.5,
          "Name": "chevrolet chevette",
          "Origin": "USA",
          "Weight_in_lbs": 2051,
          "Year": "1977-01-01"
         },
         {
          "Acceleration": 15.9,
          "Cylinders": 4,
          "Displacement": 98,
          "Horsepower": 83,
          "Miles_per_Gallon": 33.5,
          "Name": "dodge colt m/m",
          "Origin": "USA",
          "Weight_in_lbs": 2075,
          "Year": "1977-01-01"
         },
         {
          "Acceleration": 16.4,
          "Cylinders": 4,
          "Displacement": 97,
          "Horsepower": 67,
          "Miles_per_Gallon": 30,
          "Name": "subaru dl",
          "Origin": "Japan",
          "Weight_in_lbs": 1985,
          "Year": "1977-01-01"
         },
         {
          "Acceleration": 14.1,
          "Cylinders": 4,
          "Displacement": 97,
          "Horsepower": 78,
          "Miles_per_Gallon": 30.5,
          "Name": "volkswagen dasher",
          "Origin": "Europe",
          "Weight_in_lbs": 2190,
          "Year": "1977-01-01"
         },
         {
          "Acceleration": 14.5,
          "Cylinders": 6,
          "Displacement": 146,
          "Horsepower": 97,
          "Miles_per_Gallon": 22,
          "Name": "datsun 810",
          "Origin": "Japan",
          "Weight_in_lbs": 2815,
          "Year": "1977-01-01"
         },
         {
          "Acceleration": 12.8,
          "Cylinders": 4,
          "Displacement": 121,
          "Horsepower": 110,
          "Miles_per_Gallon": 21.5,
          "Name": "bmw 320i",
          "Origin": "Europe",
          "Weight_in_lbs": 2600,
          "Year": "1977-01-01"
         },
         {
          "Acceleration": 13.5,
          "Cylinders": 3,
          "Displacement": 80,
          "Horsepower": 110,
          "Miles_per_Gallon": 21.5,
          "Name": "mazda rx-4",
          "Origin": "Japan",
          "Weight_in_lbs": 2720,
          "Year": "1977-01-01"
         },
         {
          "Acceleration": 21.5,
          "Cylinders": 4,
          "Displacement": 90,
          "Horsepower": 48,
          "Miles_per_Gallon": 43.1,
          "Name": "volkswagen rabbit custom diesel",
          "Origin": "Europe",
          "Weight_in_lbs": 1985,
          "Year": "1978-01-01"
         },
         {
          "Acceleration": 14.4,
          "Cylinders": 4,
          "Displacement": 98,
          "Horsepower": 66,
          "Miles_per_Gallon": 36.1,
          "Name": "ford fiesta",
          "Origin": "USA",
          "Weight_in_lbs": 1800,
          "Year": "1978-01-01"
         },
         {
          "Acceleration": 19.4,
          "Cylinders": 4,
          "Displacement": 78,
          "Horsepower": 52,
          "Miles_per_Gallon": 32.8,
          "Name": "mazda glc deluxe",
          "Origin": "Japan",
          "Weight_in_lbs": 1985,
          "Year": "1978-01-01"
         },
         {
          "Acceleration": 18.6,
          "Cylinders": 4,
          "Displacement": 85,
          "Horsepower": 70,
          "Miles_per_Gallon": 39.4,
          "Name": "datsun b210 gx",
          "Origin": "Japan",
          "Weight_in_lbs": 2070,
          "Year": "1978-01-01"
         },
         {
          "Acceleration": 16.4,
          "Cylinders": 4,
          "Displacement": 91,
          "Horsepower": 60,
          "Miles_per_Gallon": 36.1,
          "Name": "honda civic cvcc",
          "Origin": "Japan",
          "Weight_in_lbs": 1800,
          "Year": "1978-01-01"
         },
         {
          "Acceleration": 15.5,
          "Cylinders": 8,
          "Displacement": 260,
          "Horsepower": 110,
          "Miles_per_Gallon": 19.9,
          "Name": "oldsmobile cutlass salon brougham",
          "Origin": "USA",
          "Weight_in_lbs": 3365,
          "Year": "1978-01-01"
         },
         {
          "Acceleration": 13.2,
          "Cylinders": 8,
          "Displacement": 318,
          "Horsepower": 140,
          "Miles_per_Gallon": 19.4,
          "Name": "dodge diplomat",
          "Origin": "USA",
          "Weight_in_lbs": 3735,
          "Year": "1978-01-01"
         },
         {
          "Acceleration": 12.8,
          "Cylinders": 8,
          "Displacement": 302,
          "Horsepower": 139,
          "Miles_per_Gallon": 20.2,
          "Name": "mercury monarch ghia",
          "Origin": "USA",
          "Weight_in_lbs": 3570,
          "Year": "1978-01-01"
         },
         {
          "Acceleration": 19.2,
          "Cylinders": 6,
          "Displacement": 231,
          "Horsepower": 105,
          "Miles_per_Gallon": 19.2,
          "Name": "pontiac phoenix lj",
          "Origin": "USA",
          "Weight_in_lbs": 3535,
          "Year": "1978-01-01"
         },
         {
          "Acceleration": 18.2,
          "Cylinders": 6,
          "Displacement": 200,
          "Horsepower": 95,
          "Miles_per_Gallon": 20.5,
          "Name": "chevrolet malibu",
          "Origin": "USA",
          "Weight_in_lbs": 3155,
          "Year": "1978-01-01"
         },
         {
          "Acceleration": 15.8,
          "Cylinders": 6,
          "Displacement": 200,
          "Horsepower": 85,
          "Miles_per_Gallon": 20.2,
          "Name": "ford fairmont (auto)",
          "Origin": "USA",
          "Weight_in_lbs": 2965,
          "Year": "1978-01-01"
         },
         {
          "Acceleration": 15.4,
          "Cylinders": 4,
          "Displacement": 140,
          "Horsepower": 88,
          "Miles_per_Gallon": 25.1,
          "Name": "ford fairmont (man)",
          "Origin": "USA",
          "Weight_in_lbs": 2720,
          "Year": "1978-01-01"
         },
         {
          "Acceleration": 17.2,
          "Cylinders": 6,
          "Displacement": 225,
          "Horsepower": 100,
          "Miles_per_Gallon": 20.5,
          "Name": "plymouth volare",
          "Origin": "USA",
          "Weight_in_lbs": 3430,
          "Year": "1978-01-01"
         },
         {
          "Acceleration": 17.2,
          "Cylinders": 6,
          "Displacement": 232,
          "Horsepower": 90,
          "Miles_per_Gallon": 19.4,
          "Name": "amc concord",
          "Origin": "USA",
          "Weight_in_lbs": 3210,
          "Year": "1978-01-01"
         },
         {
          "Acceleration": 15.8,
          "Cylinders": 6,
          "Displacement": 231,
          "Horsepower": 105,
          "Miles_per_Gallon": 20.6,
          "Name": "buick century special",
          "Origin": "USA",
          "Weight_in_lbs": 3380,
          "Year": "1978-01-01"
         },
         {
          "Acceleration": 16.7,
          "Cylinders": 6,
          "Displacement": 200,
          "Horsepower": 85,
          "Miles_per_Gallon": 20.8,
          "Name": "mercury zephyr",
          "Origin": "USA",
          "Weight_in_lbs": 3070,
          "Year": "1978-01-01"
         },
         {
          "Acceleration": 18.7,
          "Cylinders": 6,
          "Displacement": 225,
          "Horsepower": 110,
          "Miles_per_Gallon": 18.6,
          "Name": "dodge aspen",
          "Origin": "USA",
          "Weight_in_lbs": 3620,
          "Year": "1978-01-01"
         },
         {
          "Acceleration": 15.1,
          "Cylinders": 6,
          "Displacement": 258,
          "Horsepower": 120,
          "Miles_per_Gallon": 18.1,
          "Name": "amc concord d/l",
          "Origin": "USA",
          "Weight_in_lbs": 3410,
          "Year": "1978-01-01"
         },
         {
          "Acceleration": 13.2,
          "Cylinders": 8,
          "Displacement": 305,
          "Horsepower": 145,
          "Miles_per_Gallon": 19.2,
          "Name": "chevrolet monte carlo landau",
          "Origin": "USA",
          "Weight_in_lbs": 3425,
          "Year": "1978-01-01"
         },
         {
          "Acceleration": 13.4,
          "Cylinders": 6,
          "Displacement": 231,
          "Horsepower": 165,
          "Miles_per_Gallon": 17.7,
          "Name": "buick regal sport coupe (turbo)",
          "Origin": "USA",
          "Weight_in_lbs": 3445,
          "Year": "1978-01-01"
         },
         {
          "Acceleration": 11.2,
          "Cylinders": 8,
          "Displacement": 302,
          "Horsepower": 139,
          "Miles_per_Gallon": 18.1,
          "Name": "ford futura",
          "Origin": "USA",
          "Weight_in_lbs": 3205,
          "Year": "1978-01-01"
         },
         {
          "Acceleration": 13.7,
          "Cylinders": 8,
          "Displacement": 318,
          "Horsepower": 140,
          "Miles_per_Gallon": 17.5,
          "Name": "dodge magnum xe",
          "Origin": "USA",
          "Weight_in_lbs": 4080,
          "Year": "1978-01-01"
         },
         {
          "Acceleration": 16.5,
          "Cylinders": 4,
          "Displacement": 98,
          "Horsepower": 68,
          "Miles_per_Gallon": 30,
          "Name": "chevrolet chevette",
          "Origin": "USA",
          "Weight_in_lbs": 2155,
          "Year": "1978-01-01"
         },
         {
          "Acceleration": 14.2,
          "Cylinders": 4,
          "Displacement": 134,
          "Horsepower": 95,
          "Miles_per_Gallon": 27.5,
          "Name": "toyota corona",
          "Origin": "Japan",
          "Weight_in_lbs": 2560,
          "Year": "1978-01-01"
         },
         {
          "Acceleration": 14.7,
          "Cylinders": 4,
          "Displacement": 119,
          "Horsepower": 97,
          "Miles_per_Gallon": 27.2,
          "Name": "datsun 510",
          "Origin": "Japan",
          "Weight_in_lbs": 2300,
          "Year": "1978-01-01"
         },
         {
          "Acceleration": 14.5,
          "Cylinders": 4,
          "Displacement": 105,
          "Horsepower": 75,
          "Miles_per_Gallon": 30.9,
          "Name": "dodge omni",
          "Origin": "USA",
          "Weight_in_lbs": 2230,
          "Year": "1978-01-01"
         },
         {
          "Acceleration": 14.8,
          "Cylinders": 4,
          "Displacement": 134,
          "Horsepower": 95,
          "Miles_per_Gallon": 21.1,
          "Name": "toyota celica gt liftback",
          "Origin": "Japan",
          "Weight_in_lbs": 2515,
          "Year": "1978-01-01"
         },
         {
          "Acceleration": 16.7,
          "Cylinders": 4,
          "Displacement": 156,
          "Horsepower": 105,
          "Miles_per_Gallon": 23.2,
          "Name": "plymouth sapporo",
          "Origin": "USA",
          "Weight_in_lbs": 2745,
          "Year": "1978-01-01"
         },
         {
          "Acceleration": 17.6,
          "Cylinders": 4,
          "Displacement": 151,
          "Horsepower": 85,
          "Miles_per_Gallon": 23.8,
          "Name": "oldsmobile starfire sx",
          "Origin": "USA",
          "Weight_in_lbs": 2855,
          "Year": "1978-01-01"
         },
         {
          "Acceleration": 14.9,
          "Cylinders": 4,
          "Displacement": 119,
          "Horsepower": 97,
          "Miles_per_Gallon": 23.9,
          "Name": "datsun 200-sx",
          "Origin": "Japan",
          "Weight_in_lbs": 2405,
          "Year": "1978-01-01"
         },
         {
          "Acceleration": 15.9,
          "Cylinders": 5,
          "Displacement": 131,
          "Horsepower": 103,
          "Miles_per_Gallon": 20.3,
          "Name": "audi 5000",
          "Origin": "Europe",
          "Weight_in_lbs": 2830,
          "Year": "1978-01-01"
         },
         {
          "Acceleration": 13.6,
          "Cylinders": 6,
          "Displacement": 163,
          "Horsepower": 125,
          "Miles_per_Gallon": 17,
          "Name": "volvo 264gl",
          "Origin": "Europe",
          "Weight_in_lbs": 3140,
          "Year": "1978-01-01"
         },
         {
          "Acceleration": 15.7,
          "Cylinders": 4,
          "Displacement": 121,
          "Horsepower": 115,
          "Miles_per_Gallon": 21.6,
          "Name": "saab 99gle",
          "Origin": "Europe",
          "Weight_in_lbs": 2795,
          "Year": "1978-01-01"
         },
         {
          "Acceleration": 15.8,
          "Cylinders": 6,
          "Displacement": 163,
          "Horsepower": 133,
          "Miles_per_Gallon": 16.2,
          "Name": "peugeot 604sl",
          "Origin": "Europe",
          "Weight_in_lbs": 3410,
          "Year": "1978-01-01"
         },
         {
          "Acceleration": 14.9,
          "Cylinders": 4,
          "Displacement": 89,
          "Horsepower": 71,
          "Miles_per_Gallon": 31.5,
          "Name": "volkswagen scirocco",
          "Origin": "Europe",
          "Weight_in_lbs": 1990,
          "Year": "1978-01-01"
         },
         {
          "Acceleration": 16.6,
          "Cylinders": 4,
          "Displacement": 98,
          "Horsepower": 68,
          "Miles_per_Gallon": 29.5,
          "Name": "honda Accelerationord lx",
          "Origin": "Japan",
          "Weight_in_lbs": 2135,
          "Year": "1978-01-01"
         },
         {
          "Acceleration": 15.4,
          "Cylinders": 6,
          "Displacement": 231,
          "Horsepower": 115,
          "Miles_per_Gallon": 21.5,
          "Name": "pontiac lemans v6",
          "Origin": "USA",
          "Weight_in_lbs": 3245,
          "Year": "1979-01-01"
         },
         {
          "Acceleration": 18.2,
          "Cylinders": 6,
          "Displacement": 200,
          "Horsepower": 85,
          "Miles_per_Gallon": 19.8,
          "Name": "mercury zephyr 6",
          "Origin": "USA",
          "Weight_in_lbs": 2990,
          "Year": "1979-01-01"
         },
         {
          "Acceleration": 17.3,
          "Cylinders": 4,
          "Displacement": 140,
          "Horsepower": 88,
          "Miles_per_Gallon": 22.3,
          "Name": "ford fairmont 4",
          "Origin": "USA",
          "Weight_in_lbs": 2890,
          "Year": "1979-01-01"
         },
         {
          "Acceleration": 18.2,
          "Cylinders": 6,
          "Displacement": 232,
          "Horsepower": 90,
          "Miles_per_Gallon": 20.2,
          "Name": "amc concord dl 6",
          "Origin": "USA",
          "Weight_in_lbs": 3265,
          "Year": "1979-01-01"
         },
         {
          "Acceleration": 16.6,
          "Cylinders": 6,
          "Displacement": 225,
          "Horsepower": 110,
          "Miles_per_Gallon": 20.6,
          "Name": "dodge aspen 6",
          "Origin": "USA",
          "Weight_in_lbs": 3360,
          "Year": "1979-01-01"
         },
         {
          "Acceleration": 15.4,
          "Cylinders": 8,
          "Displacement": 305,
          "Horsepower": 130,
          "Miles_per_Gallon": 17,
          "Name": "chevrolet caprice classic",
          "Origin": "USA",
          "Weight_in_lbs": 3840,
          "Year": "1979-01-01"
         },
         {
          "Acceleration": 13.4,
          "Cylinders": 8,
          "Displacement": 302,
          "Horsepower": 129,
          "Miles_per_Gallon": 17.6,
          "Name": "ford ltd landau",
          "Origin": "USA",
          "Weight_in_lbs": 3725,
          "Year": "1979-01-01"
         },
         {
          "Acceleration": 13.2,
          "Cylinders": 8,
          "Displacement": 351,
          "Horsepower": 138,
          "Miles_per_Gallon": 16.5,
          "Name": "mercury grand marquis",
          "Origin": "USA",
          "Weight_in_lbs": 3955,
          "Year": "1979-01-01"
         },
         {
          "Acceleration": 15.2,
          "Cylinders": 8,
          "Displacement": 318,
          "Horsepower": 135,
          "Miles_per_Gallon": 18.2,
          "Name": "dodge st. regis",
          "Origin": "USA",
          "Weight_in_lbs": 3830,
          "Year": "1979-01-01"
         },
         {
          "Acceleration": 14.9,
          "Cylinders": 8,
          "Displacement": 350,
          "Horsepower": 155,
          "Miles_per_Gallon": 16.9,
          "Name": "buick estate wagon (sw)",
          "Origin": "USA",
          "Weight_in_lbs": 4360,
          "Year": "1979-01-01"
         },
         {
          "Acceleration": 14.3,
          "Cylinders": 8,
          "Displacement": 351,
          "Horsepower": 142,
          "Miles_per_Gallon": 15.5,
          "Name": "ford country squire (sw)",
          "Origin": "USA",
          "Weight_in_lbs": 4054,
          "Year": "1979-01-01"
         },
         {
          "Acceleration": 15,
          "Cylinders": 8,
          "Displacement": 267,
          "Horsepower": 125,
          "Miles_per_Gallon": 19.2,
          "Name": "chevrolet malibu classic (sw)",
          "Origin": "USA",
          "Weight_in_lbs": 3605,
          "Year": "1979-01-01"
         },
         {
          "Acceleration": 13,
          "Cylinders": 8,
          "Displacement": 360,
          "Horsepower": 150,
          "Miles_per_Gallon": 18.5,
          "Name": "chrysler lebaron town @ country (sw)",
          "Origin": "USA",
          "Weight_in_lbs": 3940,
          "Year": "1979-01-01"
         },
         {
          "Acceleration": 14,
          "Cylinders": 4,
          "Displacement": 89,
          "Horsepower": 71,
          "Miles_per_Gallon": 31.9,
          "Name": "vw rabbit custom",
          "Origin": "Europe",
          "Weight_in_lbs": 1925,
          "Year": "1979-01-01"
         },
         {
          "Acceleration": 15.2,
          "Cylinders": 4,
          "Displacement": 86,
          "Horsepower": 65,
          "Miles_per_Gallon": 34.1,
          "Name": "maxda glc deluxe",
          "Origin": "Japan",
          "Weight_in_lbs": 1975,
          "Year": "1979-01-01"
         },
         {
          "Acceleration": 14.4,
          "Cylinders": 4,
          "Displacement": 98,
          "Horsepower": 80,
          "Miles_per_Gallon": 35.7,
          "Name": "dodge colt hatchback custom",
          "Origin": "USA",
          "Weight_in_lbs": 1915,
          "Year": "1979-01-01"
         },
         {
          "Acceleration": 15,
          "Cylinders": 4,
          "Displacement": 121,
          "Horsepower": 80,
          "Miles_per_Gallon": 27.4,
          "Name": "amc spirit dl",
          "Origin": "USA",
          "Weight_in_lbs": 2670,
          "Year": "1979-01-01"
         },
         {
          "Acceleration": 20.1,
          "Cylinders": 5,
          "Displacement": 183,
          "Horsepower": 77,
          "Miles_per_Gallon": 25.4,
          "Name": "mercedes benz 300d",
          "Origin": "Europe",
          "Weight_in_lbs": 3530,
          "Year": "1979-01-01"
         },
         {
          "Acceleration": 17.4,
          "Cylinders": 8,
          "Displacement": 350,
          "Horsepower": 125,
          "Miles_per_Gallon": 23,
          "Name": "cadillac eldorado",
          "Origin": "USA",
          "Weight_in_lbs": 3900,
          "Year": "1979-01-01"
         },
         {
          "Acceleration": 24.8,
          "Cylinders": 4,
          "Displacement": 141,
          "Horsepower": 71,
          "Miles_per_Gallon": 27.2,
          "Name": "peugeot 504",
          "Origin": "Europe",
          "Weight_in_lbs": 3190,
          "Year": "1979-01-01"
         },
         {
          "Acceleration": 22.2,
          "Cylinders": 8,
          "Displacement": 260,
          "Horsepower": 90,
          "Miles_per_Gallon": 23.9,
          "Name": "oldsmobile cutlass salon brougham",
          "Origin": "USA",
          "Weight_in_lbs": 3420,
          "Year": "1979-01-01"
         },
         {
          "Acceleration": 13.2,
          "Cylinders": 4,
          "Displacement": 105,
          "Horsepower": 70,
          "Miles_per_Gallon": 34.2,
          "Name": "plymouth horizon",
          "Origin": "USA",
          "Weight_in_lbs": 2200,
          "Year": "1979-01-01"
         },
         {
          "Acceleration": 14.9,
          "Cylinders": 4,
          "Displacement": 105,
          "Horsepower": 70,
          "Miles_per_Gallon": 34.5,
          "Name": "plymouth horizon tc3",
          "Origin": "USA",
          "Weight_in_lbs": 2150,
          "Year": "1979-01-01"
         },
         {
          "Acceleration": 19.2,
          "Cylinders": 4,
          "Displacement": 85,
          "Horsepower": 65,
          "Miles_per_Gallon": 31.8,
          "Name": "datsun 210",
          "Origin": "Japan",
          "Weight_in_lbs": 2020,
          "Year": "1979-01-01"
         },
         {
          "Acceleration": 14.7,
          "Cylinders": 4,
          "Displacement": 91,
          "Horsepower": 69,
          "Miles_per_Gallon": 37.3,
          "Name": "fiat strada custom",
          "Origin": "Europe",
          "Weight_in_lbs": 2130,
          "Year": "1979-01-01"
         },
         {
          "Acceleration": 16,
          "Cylinders": 4,
          "Displacement": 151,
          "Horsepower": 90,
          "Miles_per_Gallon": 28.4,
          "Name": "buick skylark limited",
          "Origin": "USA",
          "Weight_in_lbs": 2670,
          "Year": "1979-01-01"
         },
         {
          "Acceleration": 11.3,
          "Cylinders": 6,
          "Displacement": 173,
          "Horsepower": 115,
          "Miles_per_Gallon": 28.8,
          "Name": "chevrolet citation",
          "Origin": "USA",
          "Weight_in_lbs": 2595,
          "Year": "1979-01-01"
         },
         {
          "Acceleration": 12.9,
          "Cylinders": 6,
          "Displacement": 173,
          "Horsepower": 115,
          "Miles_per_Gallon": 26.8,
          "Name": "oldsmobile omega brougham",
          "Origin": "USA",
          "Weight_in_lbs": 2700,
          "Year": "1979-01-01"
         },
         {
          "Acceleration": 13.2,
          "Cylinders": 4,
          "Displacement": 151,
          "Horsepower": 90,
          "Miles_per_Gallon": 33.5,
          "Name": "pontiac phoenix",
          "Origin": "USA",
          "Weight_in_lbs": 2556,
          "Year": "1979-01-01"
         },
         {
          "Acceleration": 14.7,
          "Cylinders": 4,
          "Displacement": 98,
          "Horsepower": 76,
          "Miles_per_Gallon": 41.5,
          "Name": "vw rabbit",
          "Origin": "Europe",
          "Weight_in_lbs": 2144,
          "Year": "1980-01-01"
         },
         {
          "Acceleration": 18.8,
          "Cylinders": 4,
          "Displacement": 89,
          "Horsepower": 60,
          "Miles_per_Gallon": 38.1,
          "Name": "toyota corolla tercel",
          "Origin": "Japan",
          "Weight_in_lbs": 1968,
          "Year": "1980-01-01"
         },
         {
          "Acceleration": 15.5,
          "Cylinders": 4,
          "Displacement": 98,
          "Horsepower": 70,
          "Miles_per_Gallon": 32.1,
          "Name": "chevrolet chevette",
          "Origin": "USA",
          "Weight_in_lbs": 2120,
          "Year": "1980-01-01"
         },
         {
          "Acceleration": 16.4,
          "Cylinders": 4,
          "Displacement": 86,
          "Horsepower": 65,
          "Miles_per_Gallon": 37.2,
          "Name": "datsun 310",
          "Origin": "Japan",
          "Weight_in_lbs": 2019,
          "Year": "1980-01-01"
         },
         {
          "Acceleration": 16.5,
          "Cylinders": 4,
          "Displacement": 151,
          "Horsepower": 90,
          "Miles_per_Gallon": 28,
          "Name": "chevrolet citation",
          "Origin": "USA",
          "Weight_in_lbs": 2678,
          "Year": "1980-01-01"
         },
         {
          "Acceleration": 18.1,
          "Cylinders": 4,
          "Displacement": 140,
          "Horsepower": 88,
          "Miles_per_Gallon": 26.4,
          "Name": "ford fairmont",
          "Origin": "USA",
          "Weight_in_lbs": 2870,
          "Year": "1980-01-01"
         },
         {
          "Acceleration": 20.1,
          "Cylinders": 4,
          "Displacement": 151,
          "Horsepower": 90,
          "Miles_per_Gallon": 24.3,
          "Name": "amc concord",
          "Origin": "USA",
          "Weight_in_lbs": 3003,
          "Year": "1980-01-01"
         },
         {
          "Acceleration": 18.7,
          "Cylinders": 6,
          "Displacement": 225,
          "Horsepower": 90,
          "Miles_per_Gallon": 19.1,
          "Name": "dodge aspen",
          "Origin": "USA",
          "Weight_in_lbs": 3381,
          "Year": "1980-01-01"
         },
         {
          "Acceleration": 15.8,
          "Cylinders": 4,
          "Displacement": 97,
          "Horsepower": 78,
          "Miles_per_Gallon": 34.3,
          "Name": "audi 4000",
          "Origin": "Europe",
          "Weight_in_lbs": 2188,
          "Year": "1980-01-01"
         },
         {
          "Acceleration": 15.5,
          "Cylinders": 4,
          "Displacement": 134,
          "Horsepower": 90,
          "Miles_per_Gallon": 29.8,
          "Name": "toyota corona liftback",
          "Origin": "Japan",
          "Weight_in_lbs": 2711,
          "Year": "1980-01-01"
         },
         {
          "Acceleration": 17.5,
          "Cylinders": 4,
          "Displacement": 120,
          "Horsepower": 75,
          "Miles_per_Gallon": 31.3,
          "Name": "mazda 626",
          "Origin": "Japan",
          "Weight_in_lbs": 2542,
          "Year": "1980-01-01"
         },
         {
          "Acceleration": 15,
          "Cylinders": 4,
          "Displacement": 119,
          "Horsepower": 92,
          "Miles_per_Gallon": 37,
          "Name": "datsun 510 hatchback",
          "Origin": "Japan",
          "Weight_in_lbs": 2434,
          "Year": "1980-01-01"
         },
         {
          "Acceleration": 15.2,
          "Cylinders": 4,
          "Displacement": 108,
          "Horsepower": 75,
          "Miles_per_Gallon": 32.2,
          "Name": "toyota corolla",
          "Origin": "Japan",
          "Weight_in_lbs": 2265,
          "Year": "1980-01-01"
         },
         {
          "Acceleration": 17.9,
          "Cylinders": 4,
          "Displacement": 86,
          "Horsepower": 65,
          "Miles_per_Gallon": 46.6,
          "Name": "mazda glc",
          "Origin": "Japan",
          "Weight_in_lbs": 2110,
          "Year": "1980-01-01"
         },
         {
          "Acceleration": 14.4,
          "Cylinders": 4,
          "Displacement": 156,
          "Horsepower": 105,
          "Miles_per_Gallon": 27.9,
          "Name": "dodge colt",
          "Origin": "USA",
          "Weight_in_lbs": 2800,
          "Year": "1980-01-01"
         },
         {
          "Acceleration": 19.2,
          "Cylinders": 4,
          "Displacement": 85,
          "Horsepower": 65,
          "Miles_per_Gallon": 40.8,
          "Name": "datsun 210",
          "Origin": "Japan",
          "Weight_in_lbs": 2110,
          "Year": "1980-01-01"
         },
         {
          "Acceleration": 21.7,
          "Cylinders": 4,
          "Displacement": 90,
          "Horsepower": 48,
          "Miles_per_Gallon": 44.3,
          "Name": "vw rabbit c (diesel)",
          "Origin": "Europe",
          "Weight_in_lbs": 2085,
          "Year": "1980-01-01"
         },
         {
          "Acceleration": 23.7,
          "Cylinders": 4,
          "Displacement": 90,
          "Horsepower": 48,
          "Miles_per_Gallon": 43.4,
          "Name": "vw dasher (diesel)",
          "Origin": "Europe",
          "Weight_in_lbs": 2335,
          "Year": "1980-01-01"
         },
         {
          "Acceleration": 19.9,
          "Cylinders": 5,
          "Displacement": 121,
          "Horsepower": 67,
          "Miles_per_Gallon": 36.4,
          "Name": "audi 5000s (diesel)",
          "Origin": "Europe",
          "Weight_in_lbs": 2950,
          "Year": "1980-01-01"
         },
         {
          "Acceleration": 21.8,
          "Cylinders": 4,
          "Displacement": 146,
          "Horsepower": 67,
          "Miles_per_Gallon": 30,
          "Name": "mercedes-benz 240d",
          "Origin": "Europe",
          "Weight_in_lbs": 3250,
          "Year": "1980-01-01"
         },
         {
          "Acceleration": 13.8,
          "Cylinders": 4,
          "Displacement": 91,
          "Horsepower": 67,
          "Miles_per_Gallon": 44.6,
          "Name": "honda civic 1500 gl",
          "Origin": "Japan",
          "Weight_in_lbs": 1850,
          "Year": "1980-01-01"
         },
         {
          "Acceleration": 17.3,
          "Cylinders": 4,
          "Displacement": 85,
          "Horsepower": null,
          "Miles_per_Gallon": 40.9,
          "Name": "renault lecar deluxe",
          "Origin": "Europe",
          "Weight_in_lbs": 1835,
          "Year": "1980-01-01"
         },
         {
          "Acceleration": 18,
          "Cylinders": 4,
          "Displacement": 97,
          "Horsepower": 67,
          "Miles_per_Gallon": 33.8,
          "Name": "subaru dl",
          "Origin": "Japan",
          "Weight_in_lbs": 2145,
          "Year": "1980-01-01"
         },
         {
          "Acceleration": 15.3,
          "Cylinders": 4,
          "Displacement": 89,
          "Horsepower": 62,
          "Miles_per_Gallon": 29.8,
          "Name": "vokswagen rabbit",
          "Origin": "Europe",
          "Weight_in_lbs": 1845,
          "Year": "1980-01-01"
         },
         {
          "Acceleration": 11.4,
          "Cylinders": 6,
          "Displacement": 168,
          "Horsepower": 132,
          "Miles_per_Gallon": 32.7,
          "Name": "datsun 280-zx",
          "Origin": "Japan",
          "Weight_in_lbs": 2910,
          "Year": "1980-01-01"
         },
         {
          "Acceleration": 12.5,
          "Cylinders": 3,
          "Displacement": 70,
          "Horsepower": 100,
          "Miles_per_Gallon": 23.7,
          "Name": "mazda rx-7 gs",
          "Origin": "Japan",
          "Weight_in_lbs": 2420,
          "Year": "1980-01-01"
         },
         {
          "Acceleration": 15.1,
          "Cylinders": 4,
          "Displacement": 122,
          "Horsepower": 88,
          "Miles_per_Gallon": 35,
          "Name": "triumph tr7 coupe",
          "Origin": "Europe",
          "Weight_in_lbs": 2500,
          "Year": "1980-01-01"
         },
         {
          "Acceleration": 14.3,
          "Cylinders": 4,
          "Displacement": 140,
          "Horsepower": null,
          "Miles_per_Gallon": 23.6,
          "Name": "ford mustang cobra",
          "Origin": "USA",
          "Weight_in_lbs": 2905,
          "Year": "1980-01-01"
         },
         {
          "Acceleration": 17,
          "Cylinders": 4,
          "Displacement": 107,
          "Horsepower": 72,
          "Miles_per_Gallon": 32.4,
          "Name": "honda Accelerationord",
          "Origin": "Japan",
          "Weight_in_lbs": 2290,
          "Year": "1980-01-01"
         },
         {
          "Acceleration": 15.7,
          "Cylinders": 4,
          "Displacement": 135,
          "Horsepower": 84,
          "Miles_per_Gallon": 27.2,
          "Name": "plymouth reliant",
          "Origin": "USA",
          "Weight_in_lbs": 2490,
          "Year": "1982-01-01"
         },
         {
          "Acceleration": 16.4,
          "Cylinders": 4,
          "Displacement": 151,
          "Horsepower": 84,
          "Miles_per_Gallon": 26.6,
          "Name": "buick skylark",
          "Origin": "USA",
          "Weight_in_lbs": 2635,
          "Year": "1982-01-01"
         },
         {
          "Acceleration": 14.4,
          "Cylinders": 4,
          "Displacement": 156,
          "Horsepower": 92,
          "Miles_per_Gallon": 25.8,
          "Name": "dodge aries wagon (sw)",
          "Origin": "USA",
          "Weight_in_lbs": 2620,
          "Year": "1982-01-01"
         },
         {
          "Acceleration": 12.6,
          "Cylinders": 6,
          "Displacement": 173,
          "Horsepower": 110,
          "Miles_per_Gallon": 23.5,
          "Name": "chevrolet citation",
          "Origin": "USA",
          "Weight_in_lbs": 2725,
          "Year": "1982-01-01"
         },
         {
          "Acceleration": 12.9,
          "Cylinders": 4,
          "Displacement": 135,
          "Horsepower": 84,
          "Miles_per_Gallon": 30,
          "Name": "plymouth reliant",
          "Origin": "USA",
          "Weight_in_lbs": 2385,
          "Year": "1982-01-01"
         },
         {
          "Acceleration": 16.9,
          "Cylinders": 4,
          "Displacement": 79,
          "Horsepower": 58,
          "Miles_per_Gallon": 39.1,
          "Name": "toyota starlet",
          "Origin": "Japan",
          "Weight_in_lbs": 1755,
          "Year": "1982-01-01"
         },
         {
          "Acceleration": 16.4,
          "Cylinders": 4,
          "Displacement": 86,
          "Horsepower": 64,
          "Miles_per_Gallon": 39,
          "Name": "plymouth champ",
          "Origin": "USA",
          "Weight_in_lbs": 1875,
          "Year": "1982-01-01"
         },
         {
          "Acceleration": 16.1,
          "Cylinders": 4,
          "Displacement": 81,
          "Horsepower": 60,
          "Miles_per_Gallon": 35.1,
          "Name": "honda civic 1300",
          "Origin": "Japan",
          "Weight_in_lbs": 1760,
          "Year": "1982-01-01"
         },
         {
          "Acceleration": 17.8,
          "Cylinders": 4,
          "Displacement": 97,
          "Horsepower": 67,
          "Miles_per_Gallon": 32.3,
          "Name": "subaru",
          "Origin": "Japan",
          "Weight_in_lbs": 2065,
          "Year": "1982-01-01"
         },
         {
          "Acceleration": 19.4,
          "Cylinders": 4,
          "Displacement": 85,
          "Horsepower": 65,
          "Miles_per_Gallon": 37,
          "Name": "datsun 210",
          "Origin": "Japan",
          "Weight_in_lbs": 1975,
          "Year": "1982-01-01"
         },
         {
          "Acceleration": 17.3,
          "Cylinders": 4,
          "Displacement": 89,
          "Horsepower": 62,
          "Miles_per_Gallon": 37.7,
          "Name": "toyota tercel",
          "Origin": "Japan",
          "Weight_in_lbs": 2050,
          "Year": "1982-01-01"
         },
         {
          "Acceleration": 16,
          "Cylinders": 4,
          "Displacement": 91,
          "Horsepower": 68,
          "Miles_per_Gallon": 34.1,
          "Name": "mazda glc 4",
          "Origin": "Japan",
          "Weight_in_lbs": 1985,
          "Year": "1982-01-01"
         },
         {
          "Acceleration": 14.9,
          "Cylinders": 4,
          "Displacement": 105,
          "Horsepower": 63,
          "Miles_per_Gallon": 34.7,
          "Name": "plymouth horizon 4",
          "Origin": "USA",
          "Weight_in_lbs": 2215,
          "Year": "1982-01-01"
         },
         {
          "Acceleration": 16.2,
          "Cylinders": 4,
          "Displacement": 98,
          "Horsepower": 65,
          "Miles_per_Gallon": 34.4,
          "Name": "ford escort 4w",
          "Origin": "USA",
          "Weight_in_lbs": 2045,
          "Year": "1982-01-01"
         },
         {
          "Acceleration": 20.7,
          "Cylinders": 4,
          "Displacement": 98,
          "Horsepower": 65,
          "Miles_per_Gallon": 29.9,
          "Name": "ford escort 2h",
          "Origin": "USA",
          "Weight_in_lbs": 2380,
          "Year": "1982-01-01"
         },
         {
          "Acceleration": 14.2,
          "Cylinders": 4,
          "Displacement": 105,
          "Horsepower": 74,
          "Miles_per_Gallon": 33,
          "Name": "volkswagen jetta",
          "Origin": "Europe",
          "Weight_in_lbs": 2190,
          "Year": "1982-01-01"
         },
         {
          "Acceleration": 15.8,
          "Cylinders": 4,
          "Displacement": 100,
          "Horsepower": null,
          "Miles_per_Gallon": 34.5,
          "Name": "renault 18i",
          "Origin": "Europe",
          "Weight_in_lbs": 2320,
          "Year": "1982-01-01"
         },
         {
          "Acceleration": 14.4,
          "Cylinders": 4,
          "Displacement": 107,
          "Horsepower": 75,
          "Miles_per_Gallon": 33.7,
          "Name": "honda prelude",
          "Origin": "Japan",
          "Weight_in_lbs": 2210,
          "Year": "1982-01-01"
         },
         {
          "Acceleration": 16.8,
          "Cylinders": 4,
          "Displacement": 108,
          "Horsepower": 75,
          "Miles_per_Gallon": 32.4,
          "Name": "toyota corolla",
          "Origin": "Japan",
          "Weight_in_lbs": 2350,
          "Year": "1982-01-01"
         },
         {
          "Acceleration": 14.8,
          "Cylinders": 4,
          "Displacement": 119,
          "Horsepower": 100,
          "Miles_per_Gallon": 32.9,
          "Name": "datsun 200sx",
          "Origin": "Japan",
          "Weight_in_lbs": 2615,
          "Year": "1982-01-01"
         },
         {
          "Acceleration": 18.3,
          "Cylinders": 4,
          "Displacement": 120,
          "Horsepower": 74,
          "Miles_per_Gallon": 31.6,
          "Name": "mazda 626",
          "Origin": "Japan",
          "Weight_in_lbs": 2635,
          "Year": "1982-01-01"
         },
         {
          "Acceleration": 20.4,
          "Cylinders": 4,
          "Displacement": 141,
          "Horsepower": 80,
          "Miles_per_Gallon": 28.1,
          "Name": "peugeot 505s turbo diesel",
          "Origin": "Europe",
          "Weight_in_lbs": 3230,
          "Year": "1982-01-01"
         },
         {
          "Acceleration": 15.4,
          "Cylinders": 4,
          "Displacement": 121,
          "Horsepower": 110,
          "Miles_per_Gallon": null,
          "Name": "saab 900s",
          "Origin": "Europe",
          "Weight_in_lbs": 2800,
          "Year": "1982-01-01"
         },
         {
          "Acceleration": 19.6,
          "Cylinders": 6,
          "Displacement": 145,
          "Horsepower": 76,
          "Miles_per_Gallon": 30.7,
          "Name": "volvo diesel",
          "Origin": "Europe",
          "Weight_in_lbs": 3160,
          "Year": "1982-01-01"
         },
         {
          "Acceleration": 12.6,
          "Cylinders": 6,
          "Displacement": 168,
          "Horsepower": 116,
          "Miles_per_Gallon": 25.4,
          "Name": "toyota cressida",
          "Origin": "Japan",
          "Weight_in_lbs": 2900,
          "Year": "1982-01-01"
         },
         {
          "Acceleration": 13.8,
          "Cylinders": 6,
          "Displacement": 146,
          "Horsepower": 120,
          "Miles_per_Gallon": 24.2,
          "Name": "datsun 810 maxima",
          "Origin": "Japan",
          "Weight_in_lbs": 2930,
          "Year": "1982-01-01"
         },
         {
          "Acceleration": 15.8,
          "Cylinders": 6,
          "Displacement": 231,
          "Horsepower": 110,
          "Miles_per_Gallon": 22.4,
          "Name": "buick century",
          "Origin": "USA",
          "Weight_in_lbs": 3415,
          "Year": "1982-01-01"
         },
         {
          "Acceleration": 19,
          "Cylinders": 8,
          "Displacement": 350,
          "Horsepower": 105,
          "Miles_per_Gallon": 26.6,
          "Name": "oldsmobile cutlass ls",
          "Origin": "USA",
          "Weight_in_lbs": 3725,
          "Year": "1982-01-01"
         },
         {
          "Acceleration": 17.1,
          "Cylinders": 6,
          "Displacement": 200,
          "Horsepower": 88,
          "Miles_per_Gallon": 20.2,
          "Name": "ford granada gl",
          "Origin": "USA",
          "Weight_in_lbs": 3060,
          "Year": "1982-01-01"
         },
         {
          "Acceleration": 16.6,
          "Cylinders": 6,
          "Displacement": 225,
          "Horsepower": 85,
          "Miles_per_Gallon": 17.6,
          "Name": "chrysler lebaron salon",
          "Origin": "USA",
          "Weight_in_lbs": 3465,
          "Year": "1982-01-01"
         },
         {
          "Acceleration": 19.6,
          "Cylinders": 4,
          "Displacement": 112,
          "Horsepower": 88,
          "Miles_per_Gallon": 28,
          "Name": "chevrolet cavalier",
          "Origin": "USA",
          "Weight_in_lbs": 2605,
          "Year": "1982-01-01"
         },
         {
          "Acceleration": 18.6,
          "Cylinders": 4,
          "Displacement": 112,
          "Horsepower": 88,
          "Miles_per_Gallon": 27,
          "Name": "chevrolet cavalier wagon",
          "Origin": "USA",
          "Weight_in_lbs": 2640,
          "Year": "1982-01-01"
         },
         {
          "Acceleration": 18,
          "Cylinders": 4,
          "Displacement": 112,
          "Horsepower": 88,
          "Miles_per_Gallon": 34,
          "Name": "chevrolet cavalier 2-door",
          "Origin": "USA",
          "Weight_in_lbs": 2395,
          "Year": "1982-01-01"
         },
         {
          "Acceleration": 16.2,
          "Cylinders": 4,
          "Displacement": 112,
          "Horsepower": 85,
          "Miles_per_Gallon": 31,
          "Name": "pontiac j2000 se hatchback",
          "Origin": "USA",
          "Weight_in_lbs": 2575,
          "Year": "1982-01-01"
         },
         {
          "Acceleration": 16,
          "Cylinders": 4,
          "Displacement": 135,
          "Horsepower": 84,
          "Miles_per_Gallon": 29,
          "Name": "dodge aries se",
          "Origin": "USA",
          "Weight_in_lbs": 2525,
          "Year": "1982-01-01"
         },
         {
          "Acceleration": 18,
          "Cylinders": 4,
          "Displacement": 151,
          "Horsepower": 90,
          "Miles_per_Gallon": 27,
          "Name": "pontiac phoenix",
          "Origin": "USA",
          "Weight_in_lbs": 2735,
          "Year": "1982-01-01"
         },
         {
          "Acceleration": 16.4,
          "Cylinders": 4,
          "Displacement": 140,
          "Horsepower": 92,
          "Miles_per_Gallon": 24,
          "Name": "ford fairmont futura",
          "Origin": "USA",
          "Weight_in_lbs": 2865,
          "Year": "1982-01-01"
         },
         {
          "Acceleration": 20.5,
          "Cylinders": 4,
          "Displacement": 151,
          "Horsepower": null,
          "Miles_per_Gallon": 23,
          "Name": "amc concord dl",
          "Origin": "USA",
          "Weight_in_lbs": 3035,
          "Year": "1982-01-01"
         },
         {
          "Acceleration": 15.3,
          "Cylinders": 4,
          "Displacement": 105,
          "Horsepower": 74,
          "Miles_per_Gallon": 36,
          "Name": "volkswagen rabbit l",
          "Origin": "Europe",
          "Weight_in_lbs": 1980,
          "Year": "1982-01-01"
         },
         {
          "Acceleration": 18.2,
          "Cylinders": 4,
          "Displacement": 91,
          "Horsepower": 68,
          "Miles_per_Gallon": 37,
          "Name": "mazda glc custom l",
          "Origin": "Japan",
          "Weight_in_lbs": 2025,
          "Year": "1982-01-01"
         },
         {
          "Acceleration": 17.6,
          "Cylinders": 4,
          "Displacement": 91,
          "Horsepower": 68,
          "Miles_per_Gallon": 31,
          "Name": "mazda glc custom",
          "Origin": "Japan",
          "Weight_in_lbs": 1970,
          "Year": "1982-01-01"
         },
         {
          "Acceleration": 14.7,
          "Cylinders": 4,
          "Displacement": 105,
          "Horsepower": 63,
          "Miles_per_Gallon": 38,
          "Name": "plymouth horizon miser",
          "Origin": "USA",
          "Weight_in_lbs": 2125,
          "Year": "1982-01-01"
         },
         {
          "Acceleration": 17.3,
          "Cylinders": 4,
          "Displacement": 98,
          "Horsepower": 70,
          "Miles_per_Gallon": 36,
          "Name": "mercury lynx l",
          "Origin": "USA",
          "Weight_in_lbs": 2125,
          "Year": "1982-01-01"
         },
         {
          "Acceleration": 14.5,
          "Cylinders": 4,
          "Displacement": 120,
          "Horsepower": 88,
          "Miles_per_Gallon": 36,
          "Name": "nissan stanza xe",
          "Origin": "Japan",
          "Weight_in_lbs": 2160,
          "Year": "1982-01-01"
         },
         {
          "Acceleration": 14.5,
          "Cylinders": 4,
          "Displacement": 107,
          "Horsepower": 75,
          "Miles_per_Gallon": 36,
          "Name": "honda Accelerationord",
          "Origin": "Japan",
          "Weight_in_lbs": 2205,
          "Year": "1982-01-01"
         },
         {
          "Acceleration": 16.9,
          "Cylinders": 4,
          "Displacement": 108,
          "Horsepower": 70,
          "Miles_per_Gallon": 34,
          "Name": "toyota corolla",
          "Origin": "Japan",
          "Weight_in_lbs": 2245,
          "Year": "1982-01-01"
         },
         {
          "Acceleration": 15,
          "Cylinders": 4,
          "Displacement": 91,
          "Horsepower": 67,
          "Miles_per_Gallon": 38,
          "Name": "honda civic",
          "Origin": "Japan",
          "Weight_in_lbs": 1965,
          "Year": "1982-01-01"
         },
         {
          "Acceleration": 15.7,
          "Cylinders": 4,
          "Displacement": 91,
          "Horsepower": 67,
          "Miles_per_Gallon": 32,
          "Name": "honda civic (auto)",
          "Origin": "Japan",
          "Weight_in_lbs": 1965,
          "Year": "1982-01-01"
         },
         {
          "Acceleration": 16.2,
          "Cylinders": 4,
          "Displacement": 91,
          "Horsepower": 67,
          "Miles_per_Gallon": 38,
          "Name": "datsun 310 gx",
          "Origin": "Japan",
          "Weight_in_lbs": 1995,
          "Year": "1982-01-01"
         },
         {
          "Acceleration": 16.4,
          "Cylinders": 6,
          "Displacement": 181,
          "Horsepower": 110,
          "Miles_per_Gallon": 25,
          "Name": "buick century limited",
          "Origin": "USA",
          "Weight_in_lbs": 2945,
          "Year": "1982-01-01"
         },
         {
          "Acceleration": 17,
          "Cylinders": 6,
          "Displacement": 262,
          "Horsepower": 85,
          "Miles_per_Gallon": 38,
          "Name": "oldsmobile cutlass ciera (diesel)",
          "Origin": "USA",
          "Weight_in_lbs": 3015,
          "Year": "1982-01-01"
         },
         {
          "Acceleration": 14.5,
          "Cylinders": 4,
          "Displacement": 156,
          "Horsepower": 92,
          "Miles_per_Gallon": 26,
          "Name": "chrysler lebaron medallion",
          "Origin": "USA",
          "Weight_in_lbs": 2585,
          "Year": "1982-01-01"
         },
         {
          "Acceleration": 14.7,
          "Cylinders": 6,
          "Displacement": 232,
          "Horsepower": 112,
          "Miles_per_Gallon": 22,
          "Name": "ford granada l",
          "Origin": "USA",
          "Weight_in_lbs": 2835,
          "Year": "1982-01-01"
         },
         {
          "Acceleration": 13.9,
          "Cylinders": 4,
          "Displacement": 144,
          "Horsepower": 96,
          "Miles_per_Gallon": 32,
          "Name": "toyota celica gt",
          "Origin": "Japan",
          "Weight_in_lbs": 2665,
          "Year": "1982-01-01"
         },
         {
          "Acceleration": 13,
          "Cylinders": 4,
          "Displacement": 135,
          "Horsepower": 84,
          "Miles_per_Gallon": 36,
          "Name": "dodge charger 2.2",
          "Origin": "USA",
          "Weight_in_lbs": 2370,
          "Year": "1982-01-01"
         },
         {
          "Acceleration": 17.3,
          "Cylinders": 4,
          "Displacement": 151,
          "Horsepower": 90,
          "Miles_per_Gallon": 27,
          "Name": "chevrolet camaro",
          "Origin": "USA",
          "Weight_in_lbs": 2950,
          "Year": "1982-01-01"
         },
         {
          "Acceleration": 15.6,
          "Cylinders": 4,
          "Displacement": 140,
          "Horsepower": 86,
          "Miles_per_Gallon": 27,
          "Name": "ford mustang gl",
          "Origin": "USA",
          "Weight_in_lbs": 2790,
          "Year": "1982-01-01"
         },
         {
          "Acceleration": 24.6,
          "Cylinders": 4,
          "Displacement": 97,
          "Horsepower": 52,
          "Miles_per_Gallon": 44,
          "Name": "vw pickup",
          "Origin": "Europe",
          "Weight_in_lbs": 2130,
          "Year": "1982-01-01"
         },
         {
          "Acceleration": 11.6,
          "Cylinders": 4,
          "Displacement": 135,
          "Horsepower": 84,
          "Miles_per_Gallon": 32,
          "Name": "dodge rampage",
          "Origin": "USA",
          "Weight_in_lbs": 2295,
          "Year": "1982-01-01"
         },
         {
          "Acceleration": 18.6,
          "Cylinders": 4,
          "Displacement": 120,
          "Horsepower": 79,
          "Miles_per_Gallon": 28,
          "Name": "ford ranger",
          "Origin": "USA",
          "Weight_in_lbs": 2625,
          "Year": "1982-01-01"
         },
         {
          "Acceleration": 19.4,
          "Cylinders": 4,
          "Displacement": 119,
          "Horsepower": 82,
          "Miles_per_Gallon": 31,
          "Name": "chevy s-10",
          "Origin": "USA",
          "Weight_in_lbs": 2720,
          "Year": "1982-01-01"
         }
        ]
       },
       "encoding": {
        "x": {
         "aggregate": "average",
         "field": "Weight_in_lbs",
         "type": "quantitative"
        },
        "y": {
         "field": "Origin",
         "sort": {
          "field": "Weight_in_lbs",
          "op": "average",
          "order": "descending"
         },
         "type": "nominal"
        }
       },
       "mark": {
        "color": "darkblue",
        "type": "bar"
       }
      },
      "image/png": "[encoded data removed]",
      "text/plain": [
       "<VegaLite 2 object>\n",
       "\n",
       "If you see this message, it means the renderer has not been properly enabled\n",
       "for the frontend that you are using. For more information, see\n",
       "https://altair-viz.github.io/user_guide/troubleshooting.html\n"
      ]
     },
     "execution_count": 61,
     "metadata": {},
     "output_type": "execute_result"
    }
   ],
   "source": [
    "alt.Chart(cars).mark_bar(color='darkblue').encode(\n",
    "    y=alt.Y('Origin', \n",
    "            sort=alt.SortField(field='Weight_in_lbs', order='descending', op='average') ), \n",
    "    x='average(Weight_in_lbs)')"
   ]
  },
  {
   "cell_type": "code",
   "execution_count": null,
   "metadata": {},
   "outputs": [],
   "source": []
  },
  {
   "cell_type": "code",
   "execution_count": null,
   "metadata": {},
   "outputs": [],
   "source": []
  },
  {
   "cell_type": "markdown",
   "metadata": {},
   "source": [
    "### Saving a chart as html"
   ]
  },
  {
   "cell_type": "code",
   "execution_count": 49,
   "metadata": {},
   "outputs": [],
   "source": [
    "chart.save('carbars.html', 'html')"
   ]
  },
  {
   "cell_type": "code",
   "execution_count": 50,
   "metadata": {},
   "outputs": [
    {
     "data": {
      "application/vnd.vegalite.v2+json": {
       "$schema": "https://vega.github.io/schema/vega-lite/v2.4.1.json",
       "config": {
        "view": {
         "height": 300,
         "width": 400
        }
       },
       "data": {
        "values": [
         {
          "Acceleration": 12,
          "Cylinders": 8,
          "Displacement": 307,
          "Horsepower": 130,
          "Miles_per_Gallon": 18,
          "Name": "chevrolet chevelle malibu",
          "Origin": "USA",
          "Weight_in_lbs": 3504,
          "Year": "1970-01-01"
         },
         {
          "Acceleration": 11.5,
          "Cylinders": 8,
          "Displacement": 350,
          "Horsepower": 165,
          "Miles_per_Gallon": 15,
          "Name": "buick skylark 320",
          "Origin": "USA",
          "Weight_in_lbs": 3693,
          "Year": "1970-01-01"
         },
         {
          "Acceleration": 11,
          "Cylinders": 8,
          "Displacement": 318,
          "Horsepower": 150,
          "Miles_per_Gallon": 18,
          "Name": "plymouth satellite",
          "Origin": "USA",
          "Weight_in_lbs": 3436,
          "Year": "1970-01-01"
         },
         {
          "Acceleration": 12,
          "Cylinders": 8,
          "Displacement": 304,
          "Horsepower": 150,
          "Miles_per_Gallon": 16,
          "Name": "amc rebel sst",
          "Origin": "USA",
          "Weight_in_lbs": 3433,
          "Year": "1970-01-01"
         },
         {
          "Acceleration": 10.5,
          "Cylinders": 8,
          "Displacement": 302,
          "Horsepower": 140,
          "Miles_per_Gallon": 17,
          "Name": "ford torino",
          "Origin": "USA",
          "Weight_in_lbs": 3449,
          "Year": "1970-01-01"
         },
         {
          "Acceleration": 10,
          "Cylinders": 8,
          "Displacement": 429,
          "Horsepower": 198,
          "Miles_per_Gallon": 15,
          "Name": "ford galaxie 500",
          "Origin": "USA",
          "Weight_in_lbs": 4341,
          "Year": "1970-01-01"
         },
         {
          "Acceleration": 9,
          "Cylinders": 8,
          "Displacement": 454,
          "Horsepower": 220,
          "Miles_per_Gallon": 14,
          "Name": "chevrolet impala",
          "Origin": "USA",
          "Weight_in_lbs": 4354,
          "Year": "1970-01-01"
         },
         {
          "Acceleration": 8.5,
          "Cylinders": 8,
          "Displacement": 440,
          "Horsepower": 215,
          "Miles_per_Gallon": 14,
          "Name": "plymouth fury iii",
          "Origin": "USA",
          "Weight_in_lbs": 4312,
          "Year": "1970-01-01"
         },
         {
          "Acceleration": 10,
          "Cylinders": 8,
          "Displacement": 455,
          "Horsepower": 225,
          "Miles_per_Gallon": 14,
          "Name": "pontiac catalina",
          "Origin": "USA",
          "Weight_in_lbs": 4425,
          "Year": "1970-01-01"
         },
         {
          "Acceleration": 8.5,
          "Cylinders": 8,
          "Displacement": 390,
          "Horsepower": 190,
          "Miles_per_Gallon": 15,
          "Name": "amc ambassador dpl",
          "Origin": "USA",
          "Weight_in_lbs": 3850,
          "Year": "1970-01-01"
         },
         {
          "Acceleration": 17.5,
          "Cylinders": 4,
          "Displacement": 133,
          "Horsepower": 115,
          "Miles_per_Gallon": null,
          "Name": "citroen ds-21 pallas",
          "Origin": "Europe",
          "Weight_in_lbs": 3090,
          "Year": "1970-01-01"
         },
         {
          "Acceleration": 11.5,
          "Cylinders": 8,
          "Displacement": 350,
          "Horsepower": 165,
          "Miles_per_Gallon": null,
          "Name": "chevrolet chevelle concours (sw)",
          "Origin": "USA",
          "Weight_in_lbs": 4142,
          "Year": "1970-01-01"
         },
         {
          "Acceleration": 11,
          "Cylinders": 8,
          "Displacement": 351,
          "Horsepower": 153,
          "Miles_per_Gallon": null,
          "Name": "ford torino (sw)",
          "Origin": "USA",
          "Weight_in_lbs": 4034,
          "Year": "1970-01-01"
         },
         {
          "Acceleration": 10.5,
          "Cylinders": 8,
          "Displacement": 383,
          "Horsepower": 175,
          "Miles_per_Gallon": null,
          "Name": "plymouth satellite (sw)",
          "Origin": "USA",
          "Weight_in_lbs": 4166,
          "Year": "1970-01-01"
         },
         {
          "Acceleration": 11,
          "Cylinders": 8,
          "Displacement": 360,
          "Horsepower": 175,
          "Miles_per_Gallon": null,
          "Name": "amc rebel sst (sw)",
          "Origin": "USA",
          "Weight_in_lbs": 3850,
          "Year": "1970-01-01"
         },
         {
          "Acceleration": 10,
          "Cylinders": 8,
          "Displacement": 383,
          "Horsepower": 170,
          "Miles_per_Gallon": 15,
          "Name": "dodge challenger se",
          "Origin": "USA",
          "Weight_in_lbs": 3563,
          "Year": "1970-01-01"
         },
         {
          "Acceleration": 8,
          "Cylinders": 8,
          "Displacement": 340,
          "Horsepower": 160,
          "Miles_per_Gallon": 14,
          "Name": "plymouth 'cuda 340",
          "Origin": "USA",
          "Weight_in_lbs": 3609,
          "Year": "1970-01-01"
         },
         {
          "Acceleration": 8,
          "Cylinders": 8,
          "Displacement": 302,
          "Horsepower": 140,
          "Miles_per_Gallon": null,
          "Name": "ford mustang boss 302",
          "Origin": "USA",
          "Weight_in_lbs": 3353,
          "Year": "1970-01-01"
         },
         {
          "Acceleration": 9.5,
          "Cylinders": 8,
          "Displacement": 400,
          "Horsepower": 150,
          "Miles_per_Gallon": 15,
          "Name": "chevrolet monte carlo",
          "Origin": "USA",
          "Weight_in_lbs": 3761,
          "Year": "1970-01-01"
         },
         {
          "Acceleration": 10,
          "Cylinders": 8,
          "Displacement": 455,
          "Horsepower": 225,
          "Miles_per_Gallon": 14,
          "Name": "buick estate wagon (sw)",
          "Origin": "USA",
          "Weight_in_lbs": 3086,
          "Year": "1970-01-01"
         },
         {
          "Acceleration": 15,
          "Cylinders": 4,
          "Displacement": 113,
          "Horsepower": 95,
          "Miles_per_Gallon": 24,
          "Name": "toyota corona mark ii",
          "Origin": "Japan",
          "Weight_in_lbs": 2372,
          "Year": "1970-01-01"
         },
         {
          "Acceleration": 15.5,
          "Cylinders": 6,
          "Displacement": 198,
          "Horsepower": 95,
          "Miles_per_Gallon": 22,
          "Name": "plymouth duster",
          "Origin": "USA",
          "Weight_in_lbs": 2833,
          "Year": "1970-01-01"
         },
         {
          "Acceleration": 15.5,
          "Cylinders": 6,
          "Displacement": 199,
          "Horsepower": 97,
          "Miles_per_Gallon": 18,
          "Name": "amc hornet",
          "Origin": "USA",
          "Weight_in_lbs": 2774,
          "Year": "1970-01-01"
         },
         {
          "Acceleration": 16,
          "Cylinders": 6,
          "Displacement": 200,
          "Horsepower": 85,
          "Miles_per_Gallon": 21,
          "Name": "ford maverick",
          "Origin": "USA",
          "Weight_in_lbs": 2587,
          "Year": "1970-01-01"
         },
         {
          "Acceleration": 14.5,
          "Cylinders": 4,
          "Displacement": 97,
          "Horsepower": 88,
          "Miles_per_Gallon": 27,
          "Name": "datsun pl510",
          "Origin": "Japan",
          "Weight_in_lbs": 2130,
          "Year": "1970-01-01"
         },
         {
          "Acceleration": 20.5,
          "Cylinders": 4,
          "Displacement": 97,
          "Horsepower": 46,
          "Miles_per_Gallon": 26,
          "Name": "volkswagen 1131 deluxe sedan",
          "Origin": "Europe",
          "Weight_in_lbs": 1835,
          "Year": "1970-01-01"
         },
         {
          "Acceleration": 17.5,
          "Cylinders": 4,
          "Displacement": 110,
          "Horsepower": 87,
          "Miles_per_Gallon": 25,
          "Name": "peugeot 504",
          "Origin": "Europe",
          "Weight_in_lbs": 2672,
          "Year": "1970-01-01"
         },
         {
          "Acceleration": 14.5,
          "Cylinders": 4,
          "Displacement": 107,
          "Horsepower": 90,
          "Miles_per_Gallon": 24,
          "Name": "audi 100 ls",
          "Origin": "Europe",
          "Weight_in_lbs": 2430,
          "Year": "1970-01-01"
         },
         {
          "Acceleration": 17.5,
          "Cylinders": 4,
          "Displacement": 104,
          "Horsepower": 95,
          "Miles_per_Gallon": 25,
          "Name": "saab 99e",
          "Origin": "Europe",
          "Weight_in_lbs": 2375,
          "Year": "1970-01-01"
         },
         {
          "Acceleration": 12.5,
          "Cylinders": 4,
          "Displacement": 121,
          "Horsepower": 113,
          "Miles_per_Gallon": 26,
          "Name": "bmw 2002",
          "Origin": "Europe",
          "Weight_in_lbs": 2234,
          "Year": "1970-01-01"
         },
         {
          "Acceleration": 15,
          "Cylinders": 6,
          "Displacement": 199,
          "Horsepower": 90,
          "Miles_per_Gallon": 21,
          "Name": "amc gremlin",
          "Origin": "USA",
          "Weight_in_lbs": 2648,
          "Year": "1970-01-01"
         },
         {
          "Acceleration": 14,
          "Cylinders": 8,
          "Displacement": 360,
          "Horsepower": 215,
          "Miles_per_Gallon": 10,
          "Name": "ford f250",
          "Origin": "USA",
          "Weight_in_lbs": 4615,
          "Year": "1970-01-01"
         },
         {
          "Acceleration": 15,
          "Cylinders": 8,
          "Displacement": 307,
          "Horsepower": 200,
          "Miles_per_Gallon": 10,
          "Name": "chevy c20",
          "Origin": "USA",
          "Weight_in_lbs": 4376,
          "Year": "1970-01-01"
         },
         {
          "Acceleration": 13.5,
          "Cylinders": 8,
          "Displacement": 318,
          "Horsepower": 210,
          "Miles_per_Gallon": 11,
          "Name": "dodge d200",
          "Origin": "USA",
          "Weight_in_lbs": 4382,
          "Year": "1970-01-01"
         },
         {
          "Acceleration": 18.5,
          "Cylinders": 8,
          "Displacement": 304,
          "Horsepower": 193,
          "Miles_per_Gallon": 9,
          "Name": "hi 1200d",
          "Origin": "USA",
          "Weight_in_lbs": 4732,
          "Year": "1970-01-01"
         },
         {
          "Acceleration": 14.5,
          "Cylinders": 4,
          "Displacement": 97,
          "Horsepower": 88,
          "Miles_per_Gallon": 27,
          "Name": "datsun pl510",
          "Origin": "Japan",
          "Weight_in_lbs": 2130,
          "Year": "1971-01-01"
         },
         {
          "Acceleration": 15.5,
          "Cylinders": 4,
          "Displacement": 140,
          "Horsepower": 90,
          "Miles_per_Gallon": 28,
          "Name": "chevrolet vega 2300",
          "Origin": "USA",
          "Weight_in_lbs": 2264,
          "Year": "1971-01-01"
         },
         {
          "Acceleration": 14,
          "Cylinders": 4,
          "Displacement": 113,
          "Horsepower": 95,
          "Miles_per_Gallon": 25,
          "Name": "toyota corona",
          "Origin": "Japan",
          "Weight_in_lbs": 2228,
          "Year": "1971-01-01"
         },
         {
          "Acceleration": 19,
          "Cylinders": 4,
          "Displacement": 98,
          "Horsepower": null,
          "Miles_per_Gallon": 25,
          "Name": "ford pinto",
          "Origin": "USA",
          "Weight_in_lbs": 2046,
          "Year": "1971-01-01"
         },
         {
          "Acceleration": 20,
          "Cylinders": 4,
          "Displacement": 97,
          "Horsepower": 48,
          "Miles_per_Gallon": null,
          "Name": "volkswagen super beetle 117",
          "Origin": "Europe",
          "Weight_in_lbs": 1978,
          "Year": "1971-01-01"
         },
         {
          "Acceleration": 13,
          "Cylinders": 6,
          "Displacement": 232,
          "Horsepower": 100,
          "Miles_per_Gallon": 19,
          "Name": "amc gremlin",
          "Origin": "USA",
          "Weight_in_lbs": 2634,
          "Year": "1971-01-01"
         },
         {
          "Acceleration": 15.5,
          "Cylinders": 6,
          "Displacement": 225,
          "Horsepower": 105,
          "Miles_per_Gallon": 16,
          "Name": "plymouth satellite custom",
          "Origin": "USA",
          "Weight_in_lbs": 3439,
          "Year": "1971-01-01"
         },
         {
          "Acceleration": 15.5,
          "Cylinders": 6,
          "Displacement": 250,
          "Horsepower": 100,
          "Miles_per_Gallon": 17,
          "Name": "chevrolet chevelle malibu",
          "Origin": "USA",
          "Weight_in_lbs": 3329,
          "Year": "1971-01-01"
         },
         {
          "Acceleration": 15.5,
          "Cylinders": 6,
          "Displacement": 250,
          "Horsepower": 88,
          "Miles_per_Gallon": 19,
          "Name": "ford torino 500",
          "Origin": "USA",
          "Weight_in_lbs": 3302,
          "Year": "1971-01-01"
         },
         {
          "Acceleration": 15.5,
          "Cylinders": 6,
          "Displacement": 232,
          "Horsepower": 100,
          "Miles_per_Gallon": 18,
          "Name": "amc matador",
          "Origin": "USA",
          "Weight_in_lbs": 3288,
          "Year": "1971-01-01"
         },
         {
          "Acceleration": 12,
          "Cylinders": 8,
          "Displacement": 350,
          "Horsepower": 165,
          "Miles_per_Gallon": 14,
          "Name": "chevrolet impala",
          "Origin": "USA",
          "Weight_in_lbs": 4209,
          "Year": "1971-01-01"
         },
         {
          "Acceleration": 11.5,
          "Cylinders": 8,
          "Displacement": 400,
          "Horsepower": 175,
          "Miles_per_Gallon": 14,
          "Name": "pontiac catalina brougham",
          "Origin": "USA",
          "Weight_in_lbs": 4464,
          "Year": "1971-01-01"
         },
         {
          "Acceleration": 13.5,
          "Cylinders": 8,
          "Displacement": 351,
          "Horsepower": 153,
          "Miles_per_Gallon": 14,
          "Name": "ford galaxie 500",
          "Origin": "USA",
          "Weight_in_lbs": 4154,
          "Year": "1971-01-01"
         },
         {
          "Acceleration": 13,
          "Cylinders": 8,
          "Displacement": 318,
          "Horsepower": 150,
          "Miles_per_Gallon": 14,
          "Name": "plymouth fury iii",
          "Origin": "USA",
          "Weight_in_lbs": 4096,
          "Year": "1971-01-01"
         },
         {
          "Acceleration": 11.5,
          "Cylinders": 8,
          "Displacement": 383,
          "Horsepower": 180,
          "Miles_per_Gallon": 12,
          "Name": "dodge monaco (sw)",
          "Origin": "USA",
          "Weight_in_lbs": 4955,
          "Year": "1971-01-01"
         },
         {
          "Acceleration": 12,
          "Cylinders": 8,
          "Displacement": 400,
          "Horsepower": 170,
          "Miles_per_Gallon": 13,
          "Name": "ford country squire (sw)",
          "Origin": "USA",
          "Weight_in_lbs": 4746,
          "Year": "1971-01-01"
         },
         {
          "Acceleration": 12,
          "Cylinders": 8,
          "Displacement": 400,
          "Horsepower": 175,
          "Miles_per_Gallon": 13,
          "Name": "pontiac safari (sw)",
          "Origin": "USA",
          "Weight_in_lbs": 5140,
          "Year": "1971-01-01"
         },
         {
          "Acceleration": 13.5,
          "Cylinders": 6,
          "Displacement": 258,
          "Horsepower": 110,
          "Miles_per_Gallon": 18,
          "Name": "amc hornet sportabout (sw)",
          "Origin": "USA",
          "Weight_in_lbs": 2962,
          "Year": "1971-01-01"
         },
         {
          "Acceleration": 19,
          "Cylinders": 4,
          "Displacement": 140,
          "Horsepower": 72,
          "Miles_per_Gallon": 22,
          "Name": "chevrolet vega (sw)",
          "Origin": "USA",
          "Weight_in_lbs": 2408,
          "Year": "1971-01-01"
         },
         {
          "Acceleration": 15,
          "Cylinders": 6,
          "Displacement": 250,
          "Horsepower": 100,
          "Miles_per_Gallon": 19,
          "Name": "pontiac firebird",
          "Origin": "USA",
          "Weight_in_lbs": 3282,
          "Year": "1971-01-01"
         },
         {
          "Acceleration": 14.5,
          "Cylinders": 6,
          "Displacement": 250,
          "Horsepower": 88,
          "Miles_per_Gallon": 18,
          "Name": "ford mustang",
          "Origin": "USA",
          "Weight_in_lbs": 3139,
          "Year": "1971-01-01"
         },
         {
          "Acceleration": 14,
          "Cylinders": 4,
          "Displacement": 122,
          "Horsepower": 86,
          "Miles_per_Gallon": 23,
          "Name": "mercury capri 2000",
          "Origin": "USA",
          "Weight_in_lbs": 2220,
          "Year": "1971-01-01"
         },
         {
          "Acceleration": 14,
          "Cylinders": 4,
          "Displacement": 116,
          "Horsepower": 90,
          "Miles_per_Gallon": 28,
          "Name": "opel 1900",
          "Origin": "Europe",
          "Weight_in_lbs": 2123,
          "Year": "1971-01-01"
         },
         {
          "Acceleration": 19.5,
          "Cylinders": 4,
          "Displacement": 79,
          "Horsepower": 70,
          "Miles_per_Gallon": 30,
          "Name": "peugeot 304",
          "Origin": "Europe",
          "Weight_in_lbs": 2074,
          "Year": "1971-01-01"
         },
         {
          "Acceleration": 14.5,
          "Cylinders": 4,
          "Displacement": 88,
          "Horsepower": 76,
          "Miles_per_Gallon": 30,
          "Name": "fiat 124b",
          "Origin": "Europe",
          "Weight_in_lbs": 2065,
          "Year": "1971-01-01"
         },
         {
          "Acceleration": 19,
          "Cylinders": 4,
          "Displacement": 71,
          "Horsepower": 65,
          "Miles_per_Gallon": 31,
          "Name": "toyota corolla 1200",
          "Origin": "Japan",
          "Weight_in_lbs": 1773,
          "Year": "1971-01-01"
         },
         {
          "Acceleration": 18,
          "Cylinders": 4,
          "Displacement": 72,
          "Horsepower": 69,
          "Miles_per_Gallon": 35,
          "Name": "datsun 1200",
          "Origin": "Japan",
          "Weight_in_lbs": 1613,
          "Year": "1971-01-01"
         },
         {
          "Acceleration": 19,
          "Cylinders": 4,
          "Displacement": 97,
          "Horsepower": 60,
          "Miles_per_Gallon": 27,
          "Name": "volkswagen model 111",
          "Origin": "Europe",
          "Weight_in_lbs": 1834,
          "Year": "1971-01-01"
         },
         {
          "Acceleration": 20.5,
          "Cylinders": 4,
          "Displacement": 91,
          "Horsepower": 70,
          "Miles_per_Gallon": 26,
          "Name": "plymouth cricket",
          "Origin": "USA",
          "Weight_in_lbs": 1955,
          "Year": "1971-01-01"
         },
         {
          "Acceleration": 15.5,
          "Cylinders": 4,
          "Displacement": 113,
          "Horsepower": 95,
          "Miles_per_Gallon": 24,
          "Name": "toyota corona hardtop",
          "Origin": "Japan",
          "Weight_in_lbs": 2278,
          "Year": "1972-01-01"
         },
         {
          "Acceleration": 17,
          "Cylinders": 4,
          "Displacement": 97.5,
          "Horsepower": 80,
          "Miles_per_Gallon": 25,
          "Name": "dodge colt hardtop",
          "Origin": "USA",
          "Weight_in_lbs": 2126,
          "Year": "1972-01-01"
         },
         {
          "Acceleration": 23.5,
          "Cylinders": 4,
          "Displacement": 97,
          "Horsepower": 54,
          "Miles_per_Gallon": 23,
          "Name": "volkswagen type 3",
          "Origin": "Europe",
          "Weight_in_lbs": 2254,
          "Year": "1972-01-01"
         },
         {
          "Acceleration": 19.5,
          "Cylinders": 4,
          "Displacement": 140,
          "Horsepower": 90,
          "Miles_per_Gallon": 20,
          "Name": "chevrolet vega",
          "Origin": "USA",
          "Weight_in_lbs": 2408,
          "Year": "1972-01-01"
         },
         {
          "Acceleration": 16.5,
          "Cylinders": 4,
          "Displacement": 122,
          "Horsepower": 86,
          "Miles_per_Gallon": 21,
          "Name": "ford pinto runabout",
          "Origin": "USA",
          "Weight_in_lbs": 2226,
          "Year": "1972-01-01"
         },
         {
          "Acceleration": 12,
          "Cylinders": 8,
          "Displacement": 350,
          "Horsepower": 165,
          "Miles_per_Gallon": 13,
          "Name": "chevrolet impala",
          "Origin": "USA",
          "Weight_in_lbs": 4274,
          "Year": "1972-01-01"
         },
         {
          "Acceleration": 12,
          "Cylinders": 8,
          "Displacement": 400,
          "Horsepower": 175,
          "Miles_per_Gallon": 14,
          "Name": "pontiac catalina",
          "Origin": "USA",
          "Weight_in_lbs": 4385,
          "Year": "1972-01-01"
         },
         {
          "Acceleration": 13.5,
          "Cylinders": 8,
          "Displacement": 318,
          "Horsepower": 150,
          "Miles_per_Gallon": 15,
          "Name": "plymouth fury iii",
          "Origin": "USA",
          "Weight_in_lbs": 4135,
          "Year": "1972-01-01"
         },
         {
          "Acceleration": 13,
          "Cylinders": 8,
          "Displacement": 351,
          "Horsepower": 153,
          "Miles_per_Gallon": 14,
          "Name": "ford galaxie 500",
          "Origin": "USA",
          "Weight_in_lbs": 4129,
          "Year": "1972-01-01"
         },
         {
          "Acceleration": 11.5,
          "Cylinders": 8,
          "Displacement": 304,
          "Horsepower": 150,
          "Miles_per_Gallon": 17,
          "Name": "amc ambassador sst",
          "Origin": "USA",
          "Weight_in_lbs": 3672,
          "Year": "1972-01-01"
         },
         {
          "Acceleration": 11,
          "Cylinders": 8,
          "Displacement": 429,
          "Horsepower": 208,
          "Miles_per_Gallon": 11,
          "Name": "mercury marquis",
          "Origin": "USA",
          "Weight_in_lbs": 4633,
          "Year": "1972-01-01"
         },
         {
          "Acceleration": 13.5,
          "Cylinders": 8,
          "Displacement": 350,
          "Horsepower": 155,
          "Miles_per_Gallon": 13,
          "Name": "buick lesabre custom",
          "Origin": "USA",
          "Weight_in_lbs": 4502,
          "Year": "1972-01-01"
         },
         {
          "Acceleration": 13.5,
          "Cylinders": 8,
          "Displacement": 350,
          "Horsepower": 160,
          "Miles_per_Gallon": 12,
          "Name": "oldsmobile delta 88 royale",
          "Origin": "USA",
          "Weight_in_lbs": 4456,
          "Year": "1972-01-01"
         },
         {
          "Acceleration": 12.5,
          "Cylinders": 8,
          "Displacement": 400,
          "Horsepower": 190,
          "Miles_per_Gallon": 13,
          "Name": "chrysler newport royal",
          "Origin": "USA",
          "Weight_in_lbs": 4422,
          "Year": "1972-01-01"
         },
         {
          "Acceleration": 13.5,
          "Cylinders": 3,
          "Displacement": 70,
          "Horsepower": 97,
          "Miles_per_Gallon": 19,
          "Name": "mazda rx2 coupe",
          "Origin": "Japan",
          "Weight_in_lbs": 2330,
          "Year": "1972-01-01"
         },
         {
          "Acceleration": 12.5,
          "Cylinders": 8,
          "Displacement": 304,
          "Horsepower": 150,
          "Miles_per_Gallon": 15,
          "Name": "amc matador (sw)",
          "Origin": "USA",
          "Weight_in_lbs": 3892,
          "Year": "1972-01-01"
         },
         {
          "Acceleration": 14,
          "Cylinders": 8,
          "Displacement": 307,
          "Horsepower": 130,
          "Miles_per_Gallon": 13,
          "Name": "chevrolet chevelle concours (sw)",
          "Origin": "USA",
          "Weight_in_lbs": 4098,
          "Year": "1972-01-01"
         },
         {
          "Acceleration": 16,
          "Cylinders": 8,
          "Displacement": 302,
          "Horsepower": 140,
          "Miles_per_Gallon": 13,
          "Name": "ford gran torino (sw)",
          "Origin": "USA",
          "Weight_in_lbs": 4294,
          "Year": "1972-01-01"
         },
         {
          "Acceleration": 14,
          "Cylinders": 8,
          "Displacement": 318,
          "Horsepower": 150,
          "Miles_per_Gallon": 14,
          "Name": "plymouth satellite custom (sw)",
          "Origin": "USA",
          "Weight_in_lbs": 4077,
          "Year": "1972-01-01"
         },
         {
          "Acceleration": 14.5,
          "Cylinders": 4,
          "Displacement": 121,
          "Horsepower": 112,
          "Miles_per_Gallon": 18,
          "Name": "volvo 145e (sw)",
          "Origin": "Europe",
          "Weight_in_lbs": 2933,
          "Year": "1972-01-01"
         },
         {
          "Acceleration": 18,
          "Cylinders": 4,
          "Displacement": 121,
          "Horsepower": 76,
          "Miles_per_Gallon": 22,
          "Name": "volkswagen 411 (sw)",
          "Origin": "Europe",
          "Weight_in_lbs": 2511,
          "Year": "1972-01-01"
         },
         {
          "Acceleration": 19.5,
          "Cylinders": 4,
          "Displacement": 120,
          "Horsepower": 87,
          "Miles_per_Gallon": 21,
          "Name": "peugeot 504 (sw)",
          "Origin": "Europe",
          "Weight_in_lbs": 2979,
          "Year": "1972-01-01"
         },
         {
          "Acceleration": 18,
          "Cylinders": 4,
          "Displacement": 96,
          "Horsepower": 69,
          "Miles_per_Gallon": 26,
          "Name": "renault 12 (sw)",
          "Origin": "Europe",
          "Weight_in_lbs": 2189,
          "Year": "1972-01-01"
         },
         {
          "Acceleration": 16,
          "Cylinders": 4,
          "Displacement": 122,
          "Horsepower": 86,
          "Miles_per_Gallon": 22,
          "Name": "ford pinto (sw)",
          "Origin": "USA",
          "Weight_in_lbs": 2395,
          "Year": "1972-01-01"
         },
         {
          "Acceleration": 17,
          "Cylinders": 4,
          "Displacement": 97,
          "Horsepower": 92,
          "Miles_per_Gallon": 28,
          "Name": "datsun 510 (sw)",
          "Origin": "Japan",
          "Weight_in_lbs": 2288,
          "Year": "1972-01-01"
         },
         {
          "Acceleration": 14.5,
          "Cylinders": 4,
          "Displacement": 120,
          "Horsepower": 97,
          "Miles_per_Gallon": 23,
          "Name": "toyouta corona mark ii (sw)",
          "Origin": "Japan",
          "Weight_in_lbs": 2506,
          "Year": "1972-01-01"
         },
         {
          "Acceleration": 15,
          "Cylinders": 4,
          "Displacement": 98,
          "Horsepower": 80,
          "Miles_per_Gallon": 28,
          "Name": "dodge colt (sw)",
          "Origin": "USA",
          "Weight_in_lbs": 2164,
          "Year": "1972-01-01"
         },
         {
          "Acceleration": 16.5,
          "Cylinders": 4,
          "Displacement": 97,
          "Horsepower": 88,
          "Miles_per_Gallon": 27,
          "Name": "toyota corolla 1600 (sw)",
          "Origin": "Japan",
          "Weight_in_lbs": 2100,
          "Year": "1972-01-01"
         },
         {
          "Acceleration": 13,
          "Cylinders": 8,
          "Displacement": 350,
          "Horsepower": 175,
          "Miles_per_Gallon": 13,
          "Name": "buick century 350",
          "Origin": "USA",
          "Weight_in_lbs": 4100,
          "Year": "1973-01-01"
         },
         {
          "Acceleration": 11.5,
          "Cylinders": 8,
          "Displacement": 304,
          "Horsepower": 150,
          "Miles_per_Gallon": 14,
          "Name": "amc matador",
          "Origin": "USA",
          "Weight_in_lbs": 3672,
          "Year": "1973-01-01"
         },
         {
          "Acceleration": 13,
          "Cylinders": 8,
          "Displacement": 350,
          "Horsepower": 145,
          "Miles_per_Gallon": 13,
          "Name": "chevrolet malibu",
          "Origin": "USA",
          "Weight_in_lbs": 3988,
          "Year": "1973-01-01"
         },
         {
          "Acceleration": 14.5,
          "Cylinders": 8,
          "Displacement": 302,
          "Horsepower": 137,
          "Miles_per_Gallon": 14,
          "Name": "ford gran torino",
          "Origin": "USA",
          "Weight_in_lbs": 4042,
          "Year": "1973-01-01"
         },
         {
          "Acceleration": 12.5,
          "Cylinders": 8,
          "Displacement": 318,
          "Horsepower": 150,
          "Miles_per_Gallon": 15,
          "Name": "dodge coronet custom",
          "Origin": "USA",
          "Weight_in_lbs": 3777,
          "Year": "1973-01-01"
         },
         {
          "Acceleration": 11.5,
          "Cylinders": 8,
          "Displacement": 429,
          "Horsepower": 198,
          "Miles_per_Gallon": 12,
          "Name": "mercury marquis brougham",
          "Origin": "USA",
          "Weight_in_lbs": 4952,
          "Year": "1973-01-01"
         },
         {
          "Acceleration": 12,
          "Cylinders": 8,
          "Displacement": 400,
          "Horsepower": 150,
          "Miles_per_Gallon": 13,
          "Name": "chevrolet caprice classic",
          "Origin": "USA",
          "Weight_in_lbs": 4464,
          "Year": "1973-01-01"
         },
         {
          "Acceleration": 13,
          "Cylinders": 8,
          "Displacement": 351,
          "Horsepower": 158,
          "Miles_per_Gallon": 13,
          "Name": "ford ltd",
          "Origin": "USA",
          "Weight_in_lbs": 4363,
          "Year": "1973-01-01"
         },
         {
          "Acceleration": 14.5,
          "Cylinders": 8,
          "Displacement": 318,
          "Horsepower": 150,
          "Miles_per_Gallon": 14,
          "Name": "plymouth fury gran sedan",
          "Origin": "USA",
          "Weight_in_lbs": 4237,
          "Year": "1973-01-01"
         },
         {
          "Acceleration": 11,
          "Cylinders": 8,
          "Displacement": 440,
          "Horsepower": 215,
          "Miles_per_Gallon": 13,
          "Name": "chrysler new yorker brougham",
          "Origin": "USA",
          "Weight_in_lbs": 4735,
          "Year": "1973-01-01"
         },
         {
          "Acceleration": 11,
          "Cylinders": 8,
          "Displacement": 455,
          "Horsepower": 225,
          "Miles_per_Gallon": 12,
          "Name": "buick electra 225 custom",
          "Origin": "USA",
          "Weight_in_lbs": 4951,
          "Year": "1973-01-01"
         },
         {
          "Acceleration": 11,
          "Cylinders": 8,
          "Displacement": 360,
          "Horsepower": 175,
          "Miles_per_Gallon": 13,
          "Name": "amc ambassador brougham",
          "Origin": "USA",
          "Weight_in_lbs": 3821,
          "Year": "1973-01-01"
         },
         {
          "Acceleration": 16.5,
          "Cylinders": 6,
          "Displacement": 225,
          "Horsepower": 105,
          "Miles_per_Gallon": 18,
          "Name": "plymouth valiant",
          "Origin": "USA",
          "Weight_in_lbs": 3121,
          "Year": "1973-01-01"
         },
         {
          "Acceleration": 18,
          "Cylinders": 6,
          "Displacement": 250,
          "Horsepower": 100,
          "Miles_per_Gallon": 16,
          "Name": "chevrolet nova custom",
          "Origin": "USA",
          "Weight_in_lbs": 3278,
          "Year": "1973-01-01"
         },
         {
          "Acceleration": 16,
          "Cylinders": 6,
          "Displacement": 232,
          "Horsepower": 100,
          "Miles_per_Gallon": 18,
          "Name": "amc hornet",
          "Origin": "USA",
          "Weight_in_lbs": 2945,
          "Year": "1973-01-01"
         },
         {
          "Acceleration": 16.5,
          "Cylinders": 6,
          "Displacement": 250,
          "Horsepower": 88,
          "Miles_per_Gallon": 18,
          "Name": "ford maverick",
          "Origin": "USA",
          "Weight_in_lbs": 3021,
          "Year": "1973-01-01"
         },
         {
          "Acceleration": 16,
          "Cylinders": 6,
          "Displacement": 198,
          "Horsepower": 95,
          "Miles_per_Gallon": 23,
          "Name": "plymouth duster",
          "Origin": "USA",
          "Weight_in_lbs": 2904,
          "Year": "1973-01-01"
         },
         {
          "Acceleration": 21,
          "Cylinders": 4,
          "Displacement": 97,
          "Horsepower": 46,
          "Miles_per_Gallon": 26,
          "Name": "volkswagen super beetle",
          "Origin": "Europe",
          "Weight_in_lbs": 1950,
          "Year": "1973-01-01"
         },
         {
          "Acceleration": 14,
          "Cylinders": 8,
          "Displacement": 400,
          "Horsepower": 150,
          "Miles_per_Gallon": 11,
          "Name": "chevrolet impala",
          "Origin": "USA",
          "Weight_in_lbs": 4997,
          "Year": "1973-01-01"
         },
         {
          "Acceleration": 12.5,
          "Cylinders": 8,
          "Displacement": 400,
          "Horsepower": 167,
          "Miles_per_Gallon": 12,
          "Name": "ford country",
          "Origin": "USA",
          "Weight_in_lbs": 4906,
          "Year": "1973-01-01"
         },
         {
          "Acceleration": 13,
          "Cylinders": 8,
          "Displacement": 360,
          "Horsepower": 170,
          "Miles_per_Gallon": 13,
          "Name": "plymouth custom suburb",
          "Origin": "USA",
          "Weight_in_lbs": 4654,
          "Year": "1973-01-01"
         },
         {
          "Acceleration": 12.5,
          "Cylinders": 8,
          "Displacement": 350,
          "Horsepower": 180,
          "Miles_per_Gallon": 12,
          "Name": "oldsmobile vista cruiser",
          "Origin": "USA",
          "Weight_in_lbs": 4499,
          "Year": "1973-01-01"
         },
         {
          "Acceleration": 15,
          "Cylinders": 6,
          "Displacement": 232,
          "Horsepower": 100,
          "Miles_per_Gallon": 18,
          "Name": "amc gremlin",
          "Origin": "USA",
          "Weight_in_lbs": 2789,
          "Year": "1973-01-01"
         },
         {
          "Acceleration": 19,
          "Cylinders": 4,
          "Displacement": 97,
          "Horsepower": 88,
          "Miles_per_Gallon": 20,
          "Name": "toyota carina",
          "Origin": "Japan",
          "Weight_in_lbs": 2279,
          "Year": "1973-01-01"
         },
         {
          "Acceleration": 19.5,
          "Cylinders": 4,
          "Displacement": 140,
          "Horsepower": 72,
          "Miles_per_Gallon": 21,
          "Name": "chevrolet vega",
          "Origin": "USA",
          "Weight_in_lbs": 2401,
          "Year": "1973-01-01"
         },
         {
          "Acceleration": 16.5,
          "Cylinders": 4,
          "Displacement": 108,
          "Horsepower": 94,
          "Miles_per_Gallon": 22,
          "Name": "datsun 610",
          "Origin": "Japan",
          "Weight_in_lbs": 2379,
          "Year": "1973-01-01"
         },
         {
          "Acceleration": 13.5,
          "Cylinders": 3,
          "Displacement": 70,
          "Horsepower": 90,
          "Miles_per_Gallon": 18,
          "Name": "maxda rx3",
          "Origin": "Japan",
          "Weight_in_lbs": 2124,
          "Year": "1973-01-01"
         },
         {
          "Acceleration": 18.5,
          "Cylinders": 4,
          "Displacement": 122,
          "Horsepower": 85,
          "Miles_per_Gallon": 19,
          "Name": "ford pinto",
          "Origin": "USA",
          "Weight_in_lbs": 2310,
          "Year": "1973-01-01"
         },
         {
          "Acceleration": 14,
          "Cylinders": 6,
          "Displacement": 155,
          "Horsepower": 107,
          "Miles_per_Gallon": 21,
          "Name": "mercury capri v6",
          "Origin": "USA",
          "Weight_in_lbs": 2472,
          "Year": "1973-01-01"
         },
         {
          "Acceleration": 15.5,
          "Cylinders": 4,
          "Displacement": 98,
          "Horsepower": 90,
          "Miles_per_Gallon": 26,
          "Name": "fiat 124 sport coupe",
          "Origin": "Europe",
          "Weight_in_lbs": 2265,
          "Year": "1973-01-01"
         },
         {
          "Acceleration": 13,
          "Cylinders": 8,
          "Displacement": 350,
          "Horsepower": 145,
          "Miles_per_Gallon": 15,
          "Name": "chevrolet monte carlo s",
          "Origin": "USA",
          "Weight_in_lbs": 4082,
          "Year": "1973-01-01"
         },
         {
          "Acceleration": 9.5,
          "Cylinders": 8,
          "Displacement": 400,
          "Horsepower": 230,
          "Miles_per_Gallon": 16,
          "Name": "pontiac grand prix",
          "Origin": "USA",
          "Weight_in_lbs": 4278,
          "Year": "1973-01-01"
         },
         {
          "Acceleration": 19.5,
          "Cylinders": 4,
          "Displacement": 68,
          "Horsepower": 49,
          "Miles_per_Gallon": 29,
          "Name": "fiat 128",
          "Origin": "Europe",
          "Weight_in_lbs": 1867,
          "Year": "1973-01-01"
         },
         {
          "Acceleration": 15.5,
          "Cylinders": 4,
          "Displacement": 116,
          "Horsepower": 75,
          "Miles_per_Gallon": 24,
          "Name": "opel manta",
          "Origin": "Europe",
          "Weight_in_lbs": 2158,
          "Year": "1973-01-01"
         },
         {
          "Acceleration": 14,
          "Cylinders": 4,
          "Displacement": 114,
          "Horsepower": 91,
          "Miles_per_Gallon": 20,
          "Name": "audi 100ls",
          "Origin": "Europe",
          "Weight_in_lbs": 2582,
          "Year": "1973-01-01"
         },
         {
          "Acceleration": 15.5,
          "Cylinders": 4,
          "Displacement": 121,
          "Horsepower": 112,
          "Miles_per_Gallon": 19,
          "Name": "volvo 144ea",
          "Origin": "Europe",
          "Weight_in_lbs": 2868,
          "Year": "1973-01-01"
         },
         {
          "Acceleration": 11,
          "Cylinders": 8,
          "Displacement": 318,
          "Horsepower": 150,
          "Miles_per_Gallon": 15,
          "Name": "dodge dart custom",
          "Origin": "USA",
          "Weight_in_lbs": 3399,
          "Year": "1973-01-01"
         },
         {
          "Acceleration": 14,
          "Cylinders": 4,
          "Displacement": 121,
          "Horsepower": 110,
          "Miles_per_Gallon": 24,
          "Name": "saab 99le",
          "Origin": "Europe",
          "Weight_in_lbs": 2660,
          "Year": "1973-01-01"
         },
         {
          "Acceleration": 13.5,
          "Cylinders": 6,
          "Displacement": 156,
          "Horsepower": 122,
          "Miles_per_Gallon": 20,
          "Name": "toyota mark ii",
          "Origin": "Japan",
          "Weight_in_lbs": 2807,
          "Year": "1973-01-01"
         },
         {
          "Acceleration": 11,
          "Cylinders": 8,
          "Displacement": 350,
          "Horsepower": 180,
          "Miles_per_Gallon": 11,
          "Name": "oldsmobile omega",
          "Origin": "USA",
          "Weight_in_lbs": 3664,
          "Year": "1973-01-01"
         },
         {
          "Acceleration": 16.5,
          "Cylinders": 6,
          "Displacement": 198,
          "Horsepower": 95,
          "Miles_per_Gallon": 20,
          "Name": "plymouth duster",
          "Origin": "USA",
          "Weight_in_lbs": 3102,
          "Year": "1974-01-01"
         },
         {
          "Acceleration": 17,
          "Cylinders": 6,
          "Displacement": 200,
          "Horsepower": null,
          "Miles_per_Gallon": 21,
          "Name": "ford maverick",
          "Origin": "USA",
          "Weight_in_lbs": 2875,
          "Year": "1974-01-01"
         },
         {
          "Acceleration": 16,
          "Cylinders": 6,
          "Displacement": 232,
          "Horsepower": 100,
          "Miles_per_Gallon": 19,
          "Name": "amc hornet",
          "Origin": "USA",
          "Weight_in_lbs": 2901,
          "Year": "1974-01-01"
         },
         {
          "Acceleration": 17,
          "Cylinders": 6,
          "Displacement": 250,
          "Horsepower": 100,
          "Miles_per_Gallon": 15,
          "Name": "chevrolet nova",
          "Origin": "USA",
          "Weight_in_lbs": 3336,
          "Year": "1974-01-01"
         },
         {
          "Acceleration": 19,
          "Cylinders": 4,
          "Displacement": 79,
          "Horsepower": 67,
          "Miles_per_Gallon": 31,
          "Name": "datsun b210",
          "Origin": "Japan",
          "Weight_in_lbs": 1950,
          "Year": "1974-01-01"
         },
         {
          "Acceleration": 16.5,
          "Cylinders": 4,
          "Displacement": 122,
          "Horsepower": 80,
          "Miles_per_Gallon": 26,
          "Name": "ford pinto",
          "Origin": "USA",
          "Weight_in_lbs": 2451,
          "Year": "1974-01-01"
         },
         {
          "Acceleration": 21,
          "Cylinders": 4,
          "Displacement": 71,
          "Horsepower": 65,
          "Miles_per_Gallon": 32,
          "Name": "toyota corolla 1200",
          "Origin": "Japan",
          "Weight_in_lbs": 1836,
          "Year": "1974-01-01"
         },
         {
          "Acceleration": 17,
          "Cylinders": 4,
          "Displacement": 140,
          "Horsepower": 75,
          "Miles_per_Gallon": 25,
          "Name": "chevrolet vega",
          "Origin": "USA",
          "Weight_in_lbs": 2542,
          "Year": "1974-01-01"
         },
         {
          "Acceleration": 17,
          "Cylinders": 6,
          "Displacement": 250,
          "Horsepower": 100,
          "Miles_per_Gallon": 16,
          "Name": "chevrolet chevelle malibu classic",
          "Origin": "USA",
          "Weight_in_lbs": 3781,
          "Year": "1974-01-01"
         },
         {
          "Acceleration": 18,
          "Cylinders": 6,
          "Displacement": 258,
          "Horsepower": 110,
          "Miles_per_Gallon": 16,
          "Name": "amc matador",
          "Origin": "USA",
          "Weight_in_lbs": 3632,
          "Year": "1974-01-01"
         },
         {
          "Acceleration": 16.5,
          "Cylinders": 6,
          "Displacement": 225,
          "Horsepower": 105,
          "Miles_per_Gallon": 18,
          "Name": "plymouth satellite sebring",
          "Origin": "USA",
          "Weight_in_lbs": 3613,
          "Year": "1974-01-01"
         },
         {
          "Acceleration": 14,
          "Cylinders": 8,
          "Displacement": 302,
          "Horsepower": 140,
          "Miles_per_Gallon": 16,
          "Name": "ford gran torino",
          "Origin": "USA",
          "Weight_in_lbs": 4141,
          "Year": "1974-01-01"
         },
         {
          "Acceleration": 14.5,
          "Cylinders": 8,
          "Displacement": 350,
          "Horsepower": 150,
          "Miles_per_Gallon": 13,
          "Name": "buick century luxus (sw)",
          "Origin": "USA",
          "Weight_in_lbs": 4699,
          "Year": "1974-01-01"
         },
         {
          "Acceleration": 13.5,
          "Cylinders": 8,
          "Displacement": 318,
          "Horsepower": 150,
          "Miles_per_Gallon": 14,
          "Name": "dodge coronet custom (sw)",
          "Origin": "USA",
          "Weight_in_lbs": 4457,
          "Year": "1974-01-01"
         },
         {
          "Acceleration": 16,
          "Cylinders": 8,
          "Displacement": 302,
          "Horsepower": 140,
          "Miles_per_Gallon": 14,
          "Name": "ford gran torino (sw)",
          "Origin": "USA",
          "Weight_in_lbs": 4638,
          "Year": "1974-01-01"
         },
         {
          "Acceleration": 15.5,
          "Cylinders": 8,
          "Displacement": 304,
          "Horsepower": 150,
          "Miles_per_Gallon": 14,
          "Name": "amc matador (sw)",
          "Origin": "USA",
          "Weight_in_lbs": 4257,
          "Year": "1974-01-01"
         },
         {
          "Acceleration": 16.5,
          "Cylinders": 4,
          "Displacement": 98,
          "Horsepower": 83,
          "Miles_per_Gallon": 29,
          "Name": "audi fox",
          "Origin": "Europe",
          "Weight_in_lbs": 2219,
          "Year": "1974-01-01"
         },
         {
          "Acceleration": 15.5,
          "Cylinders": 4,
          "Displacement": 79,
          "Horsepower": 67,
          "Miles_per_Gallon": 26,
          "Name": "volkswagen dasher",
          "Origin": "Europe",
          "Weight_in_lbs": 1963,
          "Year": "1974-01-01"
         },
         {
          "Acceleration": 14.5,
          "Cylinders": 4,
          "Displacement": 97,
          "Horsepower": 78,
          "Miles_per_Gallon": 26,
          "Name": "opel manta",
          "Origin": "Europe",
          "Weight_in_lbs": 2300,
          "Year": "1974-01-01"
         },
         {
          "Acceleration": 16.5,
          "Cylinders": 4,
          "Displacement": 76,
          "Horsepower": 52,
          "Miles_per_Gallon": 31,
          "Name": "toyota corona",
          "Origin": "Japan",
          "Weight_in_lbs": 1649,
          "Year": "1974-01-01"
         },
         {
          "Acceleration": 19,
          "Cylinders": 4,
          "Displacement": 83,
          "Horsepower": 61,
          "Miles_per_Gallon": 32,
          "Name": "datsun 710",
          "Origin": "Japan",
          "Weight_in_lbs": 2003,
          "Year": "1974-01-01"
         },
         {
          "Acceleration": 14.5,
          "Cylinders": 4,
          "Displacement": 90,
          "Horsepower": 75,
          "Miles_per_Gallon": 28,
          "Name": "dodge colt",
          "Origin": "USA",
          "Weight_in_lbs": 2125,
          "Year": "1974-01-01"
         },
         {
          "Acceleration": 15.5,
          "Cylinders": 4,
          "Displacement": 90,
          "Horsepower": 75,
          "Miles_per_Gallon": 24,
          "Name": "fiat 128",
          "Origin": "Europe",
          "Weight_in_lbs": 2108,
          "Year": "1974-01-01"
         },
         {
          "Acceleration": 14,
          "Cylinders": 4,
          "Displacement": 116,
          "Horsepower": 75,
          "Miles_per_Gallon": 26,
          "Name": "fiat 124 tc",
          "Origin": "Europe",
          "Weight_in_lbs": 2246,
          "Year": "1974-01-01"
         },
         {
          "Acceleration": 15,
          "Cylinders": 4,
          "Displacement": 120,
          "Horsepower": 97,
          "Miles_per_Gallon": 24,
          "Name": "honda civic",
          "Origin": "Japan",
          "Weight_in_lbs": 2489,
          "Year": "1974-01-01"
         },
         {
          "Acceleration": 15.5,
          "Cylinders": 4,
          "Displacement": 108,
          "Horsepower": 93,
          "Miles_per_Gallon": 26,
          "Name": "subaru",
          "Origin": "Japan",
          "Weight_in_lbs": 2391,
          "Year": "1974-01-01"
         },
         {
          "Acceleration": 16,
          "Cylinders": 4,
          "Displacement": 79,
          "Horsepower": 67,
          "Miles_per_Gallon": 31,
          "Name": "fiat x1.9",
          "Origin": "Europe",
          "Weight_in_lbs": 2000,
          "Year": "1974-01-01"
         },
         {
          "Acceleration": 16,
          "Cylinders": 6,
          "Displacement": 225,
          "Horsepower": 95,
          "Miles_per_Gallon": 19,
          "Name": "plymouth valiant custom",
          "Origin": "USA",
          "Weight_in_lbs": 3264,
          "Year": "1975-01-01"
         },
         {
          "Acceleration": 16,
          "Cylinders": 6,
          "Displacement": 250,
          "Horsepower": 105,
          "Miles_per_Gallon": 18,
          "Name": "chevrolet nova",
          "Origin": "USA",
          "Weight_in_lbs": 3459,
          "Year": "1975-01-01"
         },
         {
          "Acceleration": 21,
          "Cylinders": 6,
          "Displacement": 250,
          "Horsepower": 72,
          "Miles_per_Gallon": 15,
          "Name": "mercury monarch",
          "Origin": "USA",
          "Weight_in_lbs": 3432,
          "Year": "1975-01-01"
         },
         {
          "Acceleration": 19.5,
          "Cylinders": 6,
          "Displacement": 250,
          "Horsepower": 72,
          "Miles_per_Gallon": 15,
          "Name": "ford maverick",
          "Origin": "USA",
          "Weight_in_lbs": 3158,
          "Year": "1975-01-01"
         },
         {
          "Acceleration": 11.5,
          "Cylinders": 8,
          "Displacement": 400,
          "Horsepower": 170,
          "Miles_per_Gallon": 16,
          "Name": "pontiac catalina",
          "Origin": "USA",
          "Weight_in_lbs": 4668,
          "Year": "1975-01-01"
         },
         {
          "Acceleration": 14,
          "Cylinders": 8,
          "Displacement": 350,
          "Horsepower": 145,
          "Miles_per_Gallon": 15,
          "Name": "chevrolet bel air",
          "Origin": "USA",
          "Weight_in_lbs": 4440,
          "Year": "1975-01-01"
         },
         {
          "Acceleration": 14.5,
          "Cylinders": 8,
          "Displacement": 318,
          "Horsepower": 150,
          "Miles_per_Gallon": 16,
          "Name": "plymouth grand fury",
          "Origin": "USA",
          "Weight_in_lbs": 4498,
          "Year": "1975-01-01"
         },
         {
          "Acceleration": 13.5,
          "Cylinders": 8,
          "Displacement": 351,
          "Horsepower": 148,
          "Miles_per_Gallon": 14,
          "Name": "ford ltd",
          "Origin": "USA",
          "Weight_in_lbs": 4657,
          "Year": "1975-01-01"
         },
         {
          "Acceleration": 21,
          "Cylinders": 6,
          "Displacement": 231,
          "Horsepower": 110,
          "Miles_per_Gallon": 17,
          "Name": "buick century",
          "Origin": "USA",
          "Weight_in_lbs": 3907,
          "Year": "1975-01-01"
         },
         {
          "Acceleration": 18.5,
          "Cylinders": 6,
          "Displacement": 250,
          "Horsepower": 105,
          "Miles_per_Gallon": 16,
          "Name": "chevroelt chevelle malibu",
          "Origin": "USA",
          "Weight_in_lbs": 3897,
          "Year": "1975-01-01"
         },
         {
          "Acceleration": 19,
          "Cylinders": 6,
          "Displacement": 258,
          "Horsepower": 110,
          "Miles_per_Gallon": 15,
          "Name": "amc matador",
          "Origin": "USA",
          "Weight_in_lbs": 3730,
          "Year": "1975-01-01"
         },
         {
          "Acceleration": 19,
          "Cylinders": 6,
          "Displacement": 225,
          "Horsepower": 95,
          "Miles_per_Gallon": 18,
          "Name": "plymouth fury",
          "Origin": "USA",
          "Weight_in_lbs": 3785,
          "Year": "1975-01-01"
         },
         {
          "Acceleration": 15,
          "Cylinders": 6,
          "Displacement": 231,
          "Horsepower": 110,
          "Miles_per_Gallon": 21,
          "Name": "buick skyhawk",
          "Origin": "USA",
          "Weight_in_lbs": 3039,
          "Year": "1975-01-01"
         },
         {
          "Acceleration": 13.5,
          "Cylinders": 8,
          "Displacement": 262,
          "Horsepower": 110,
          "Miles_per_Gallon": 20,
          "Name": "chevrolet monza 2+2",
          "Origin": "USA",
          "Weight_in_lbs": 3221,
          "Year": "1975-01-01"
         },
         {
          "Acceleration": 12,
          "Cylinders": 8,
          "Displacement": 302,
          "Horsepower": 129,
          "Miles_per_Gallon": 13,
          "Name": "ford mustang ii",
          "Origin": "USA",
          "Weight_in_lbs": 3169,
          "Year": "1975-01-01"
         },
         {
          "Acceleration": 16,
          "Cylinders": 4,
          "Displacement": 97,
          "Horsepower": 75,
          "Miles_per_Gallon": 29,
          "Name": "toyota corolla",
          "Origin": "Japan",
          "Weight_in_lbs": 2171,
          "Year": "1975-01-01"
         },
         {
          "Acceleration": 17,
          "Cylinders": 4,
          "Displacement": 140,
          "Horsepower": 83,
          "Miles_per_Gallon": 23,
          "Name": "ford pinto",
          "Origin": "USA",
          "Weight_in_lbs": 2639,
          "Year": "1975-01-01"
         },
         {
          "Acceleration": 16,
          "Cylinders": 6,
          "Displacement": 232,
          "Horsepower": 100,
          "Miles_per_Gallon": 20,
          "Name": "amc gremlin",
          "Origin": "USA",
          "Weight_in_lbs": 2914,
          "Year": "1975-01-01"
         },
         {
          "Acceleration": 18.5,
          "Cylinders": 4,
          "Displacement": 140,
          "Horsepower": 78,
          "Miles_per_Gallon": 23,
          "Name": "pontiac astro",
          "Origin": "USA",
          "Weight_in_lbs": 2592,
          "Year": "1975-01-01"
         },
         {
          "Acceleration": 13.5,
          "Cylinders": 4,
          "Displacement": 134,
          "Horsepower": 96,
          "Miles_per_Gallon": 24,
          "Name": "toyota corona",
          "Origin": "Japan",
          "Weight_in_lbs": 2702,
          "Year": "1975-01-01"
         },
         {
          "Acceleration": 16.5,
          "Cylinders": 4,
          "Displacement": 90,
          "Horsepower": 71,
          "Miles_per_Gallon": 25,
          "Name": "volkswagen dasher",
          "Origin": "Europe",
          "Weight_in_lbs": 2223,
          "Year": "1975-01-01"
         },
         {
          "Acceleration": 17,
          "Cylinders": 4,
          "Displacement": 119,
          "Horsepower": 97,
          "Miles_per_Gallon": 24,
          "Name": "datsun 710",
          "Origin": "Japan",
          "Weight_in_lbs": 2545,
          "Year": "1975-01-01"
         },
         {
          "Acceleration": 14.5,
          "Cylinders": 6,
          "Displacement": 171,
          "Horsepower": 97,
          "Miles_per_Gallon": 18,
          "Name": "ford pinto",
          "Origin": "USA",
          "Weight_in_lbs": 2984,
          "Year": "1975-01-01"
         },
         {
          "Acceleration": 14,
          "Cylinders": 4,
          "Displacement": 90,
          "Horsepower": 70,
          "Miles_per_Gallon": 29,
          "Name": "volkswagen rabbit",
          "Origin": "Europe",
          "Weight_in_lbs": 1937,
          "Year": "1975-01-01"
         },
         {
          "Acceleration": 17,
          "Cylinders": 6,
          "Displacement": 232,
          "Horsepower": 90,
          "Miles_per_Gallon": 19,
          "Name": "amc pacer",
          "Origin": "USA",
          "Weight_in_lbs": 3211,
          "Year": "1975-01-01"
         },
         {
          "Acceleration": 15,
          "Cylinders": 4,
          "Displacement": 115,
          "Horsepower": 95,
          "Miles_per_Gallon": 23,
          "Name": "audi 100ls",
          "Origin": "Europe",
          "Weight_in_lbs": 2694,
          "Year": "1975-01-01"
         },
         {
          "Acceleration": 17,
          "Cylinders": 4,
          "Displacement": 120,
          "Horsepower": 88,
          "Miles_per_Gallon": 23,
          "Name": "peugeot 504",
          "Origin": "Europe",
          "Weight_in_lbs": 2957,
          "Year": "1975-01-01"
         },
         {
          "Acceleration": 14.5,
          "Cylinders": 4,
          "Displacement": 121,
          "Horsepower": 98,
          "Miles_per_Gallon": 22,
          "Name": "volvo 244dl",
          "Origin": "Europe",
          "Weight_in_lbs": 2945,
          "Year": "1975-01-01"
         },
         {
          "Acceleration": 13.5,
          "Cylinders": 4,
          "Displacement": 121,
          "Horsepower": 115,
          "Miles_per_Gallon": 25,
          "Name": "saab 99le",
          "Origin": "Europe",
          "Weight_in_lbs": 2671,
          "Year": "1975-01-01"
         },
         {
          "Acceleration": 17.5,
          "Cylinders": 4,
          "Displacement": 91,
          "Horsepower": 53,
          "Miles_per_Gallon": 33,
          "Name": "honda civic cvcc",
          "Origin": "Japan",
          "Weight_in_lbs": 1795,
          "Year": "1975-01-01"
         },
         {
          "Acceleration": 15.5,
          "Cylinders": 4,
          "Displacement": 107,
          "Horsepower": 86,
          "Miles_per_Gallon": 28,
          "Name": "fiat 131",
          "Origin": "Europe",
          "Weight_in_lbs": 2464,
          "Year": "1976-01-01"
         },
         {
          "Acceleration": 16.9,
          "Cylinders": 4,
          "Displacement": 116,
          "Horsepower": 81,
          "Miles_per_Gallon": 25,
          "Name": "opel 1900",
          "Origin": "Europe",
          "Weight_in_lbs": 2220,
          "Year": "1976-01-01"
         },
         {
          "Acceleration": 14.9,
          "Cylinders": 4,
          "Displacement": 140,
          "Horsepower": 92,
          "Miles_per_Gallon": 25,
          "Name": "capri ii",
          "Origin": "USA",
          "Weight_in_lbs": 2572,
          "Year": "1976-01-01"
         },
         {
          "Acceleration": 17.7,
          "Cylinders": 4,
          "Displacement": 98,
          "Horsepower": 79,
          "Miles_per_Gallon": 26,
          "Name": "dodge colt",
          "Origin": "USA",
          "Weight_in_lbs": 2255,
          "Year": "1976-01-01"
         },
         {
          "Acceleration": 15.3,
          "Cylinders": 4,
          "Displacement": 101,
          "Horsepower": 83,
          "Miles_per_Gallon": 27,
          "Name": "renault 12tl",
          "Origin": "Europe",
          "Weight_in_lbs": 2202,
          "Year": "1976-01-01"
         },
         {
          "Acceleration": 13,
          "Cylinders": 8,
          "Displacement": 305,
          "Horsepower": 140,
          "Miles_per_Gallon": 17.5,
          "Name": "chevrolet chevelle malibu classic",
          "Origin": "USA",
          "Weight_in_lbs": 4215,
          "Year": "1976-01-01"
         },
         {
          "Acceleration": 13,
          "Cylinders": 8,
          "Displacement": 318,
          "Horsepower": 150,
          "Miles_per_Gallon": 16,
          "Name": "dodge coronet brougham",
          "Origin": "USA",
          "Weight_in_lbs": 4190,
          "Year": "1976-01-01"
         },
         {
          "Acceleration": 13.9,
          "Cylinders": 8,
          "Displacement": 304,
          "Horsepower": 120,
          "Miles_per_Gallon": 15.5,
          "Name": "amc matador",
          "Origin": "USA",
          "Weight_in_lbs": 3962,
          "Year": "1976-01-01"
         },
         {
          "Acceleration": 12.8,
          "Cylinders": 8,
          "Displacement": 351,
          "Horsepower": 152,
          "Miles_per_Gallon": 14.5,
          "Name": "ford gran torino",
          "Origin": "USA",
          "Weight_in_lbs": 4215,
          "Year": "1976-01-01"
         },
         {
          "Acceleration": 15.4,
          "Cylinders": 6,
          "Displacement": 225,
          "Horsepower": 100,
          "Miles_per_Gallon": 22,
          "Name": "plymouth valiant",
          "Origin": "USA",
          "Weight_in_lbs": 3233,
          "Year": "1976-01-01"
         },
         {
          "Acceleration": 14.5,
          "Cylinders": 6,
          "Displacement": 250,
          "Horsepower": 105,
          "Miles_per_Gallon": 22,
          "Name": "chevrolet nova",
          "Origin": "USA",
          "Weight_in_lbs": 3353,
          "Year": "1976-01-01"
         },
         {
          "Acceleration": 17.6,
          "Cylinders": 6,
          "Displacement": 200,
          "Horsepower": 81,
          "Miles_per_Gallon": 24,
          "Name": "ford maverick",
          "Origin": "USA",
          "Weight_in_lbs": 3012,
          "Year": "1976-01-01"
         },
         {
          "Acceleration": 17.6,
          "Cylinders": 6,
          "Displacement": 232,
          "Horsepower": 90,
          "Miles_per_Gallon": 22.5,
          "Name": "amc hornet",
          "Origin": "USA",
          "Weight_in_lbs": 3085,
          "Year": "1976-01-01"
         },
         {
          "Acceleration": 22.2,
          "Cylinders": 4,
          "Displacement": 85,
          "Horsepower": 52,
          "Miles_per_Gallon": 29,
          "Name": "chevrolet chevette",
          "Origin": "USA",
          "Weight_in_lbs": 2035,
          "Year": "1976-01-01"
         },
         {
          "Acceleration": 22.1,
          "Cylinders": 4,
          "Displacement": 98,
          "Horsepower": 60,
          "Miles_per_Gallon": 24.5,
          "Name": "chevrolet woody",
          "Origin": "USA",
          "Weight_in_lbs": 2164,
          "Year": "1976-01-01"
         },
         {
          "Acceleration": 14.2,
          "Cylinders": 4,
          "Displacement": 90,
          "Horsepower": 70,
          "Miles_per_Gallon": 29,
          "Name": "vw rabbit",
          "Origin": "Europe",
          "Weight_in_lbs": 1937,
          "Year": "1976-01-01"
         },
         {
          "Acceleration": 17.4,
          "Cylinders": 4,
          "Displacement": 91,
          "Horsepower": 53,
          "Miles_per_Gallon": 33,
          "Name": "honda civic",
          "Origin": "Japan",
          "Weight_in_lbs": 1795,
          "Year": "1976-01-01"
         },
         {
          "Acceleration": 17.7,
          "Cylinders": 6,
          "Displacement": 225,
          "Horsepower": 100,
          "Miles_per_Gallon": 20,
          "Name": "dodge aspen se",
          "Origin": "USA",
          "Weight_in_lbs": 3651,
          "Year": "1976-01-01"
         },
         {
          "Acceleration": 21,
          "Cylinders": 6,
          "Displacement": 250,
          "Horsepower": 78,
          "Miles_per_Gallon": 18,
          "Name": "ford granada ghia",
          "Origin": "USA",
          "Weight_in_lbs": 3574,
          "Year": "1976-01-01"
         },
         {
          "Acceleration": 16.2,
          "Cylinders": 6,
          "Displacement": 250,
          "Horsepower": 110,
          "Miles_per_Gallon": 18.5,
          "Name": "pontiac ventura sj",
          "Origin": "USA",
          "Weight_in_lbs": 3645,
          "Year": "1976-01-01"
         },
         {
          "Acceleration": 17.8,
          "Cylinders": 6,
          "Displacement": 258,
          "Horsepower": 95,
          "Miles_per_Gallon": 17.5,
          "Name": "amc pacer d/l",
          "Origin": "USA",
          "Weight_in_lbs": 3193,
          "Year": "1976-01-01"
         },
         {
          "Acceleration": 12.2,
          "Cylinders": 4,
          "Displacement": 97,
          "Horsepower": 71,
          "Miles_per_Gallon": 29.5,
          "Name": "volkswagen rabbit",
          "Origin": "Europe",
          "Weight_in_lbs": 1825,
          "Year": "1976-01-01"
         },
         {
          "Acceleration": 17,
          "Cylinders": 4,
          "Displacement": 85,
          "Horsepower": 70,
          "Miles_per_Gallon": 32,
          "Name": "datsun b-210",
          "Origin": "Japan",
          "Weight_in_lbs": 1990,
          "Year": "1976-01-01"
         },
         {
          "Acceleration": 16.4,
          "Cylinders": 4,
          "Displacement": 97,
          "Horsepower": 75,
          "Miles_per_Gallon": 28,
          "Name": "toyota corolla",
          "Origin": "Japan",
          "Weight_in_lbs": 2155,
          "Year": "1976-01-01"
         },
         {
          "Acceleration": 13.6,
          "Cylinders": 4,
          "Displacement": 140,
          "Horsepower": 72,
          "Miles_per_Gallon": 26.5,
          "Name": "ford pinto",
          "Origin": "USA",
          "Weight_in_lbs": 2565,
          "Year": "1976-01-01"
         },
         {
          "Acceleration": 15.7,
          "Cylinders": 4,
          "Displacement": 130,
          "Horsepower": 102,
          "Miles_per_Gallon": 20,
          "Name": "volvo 245",
          "Origin": "Europe",
          "Weight_in_lbs": 3150,
          "Year": "1976-01-01"
         },
         {
          "Acceleration": 13.2,
          "Cylinders": 8,
          "Displacement": 318,
          "Horsepower": 150,
          "Miles_per_Gallon": 13,
          "Name": "plymouth volare premier v8",
          "Origin": "USA",
          "Weight_in_lbs": 3940,
          "Year": "1976-01-01"
         },
         {
          "Acceleration": 21.9,
          "Cylinders": 4,
          "Displacement": 120,
          "Horsepower": 88,
          "Miles_per_Gallon": 19,
          "Name": "peugeot 504",
          "Origin": "Europe",
          "Weight_in_lbs": 3270,
          "Year": "1976-01-01"
         },
         {
          "Acceleration": 15.5,
          "Cylinders": 6,
          "Displacement": 156,
          "Horsepower": 108,
          "Miles_per_Gallon": 19,
          "Name": "toyota mark ii",
          "Origin": "Japan",
          "Weight_in_lbs": 2930,
          "Year": "1976-01-01"
         },
         {
          "Acceleration": 16.7,
          "Cylinders": 6,
          "Displacement": 168,
          "Horsepower": 120,
          "Miles_per_Gallon": 16.5,
          "Name": "mercedes-benz 280s",
          "Origin": "Europe",
          "Weight_in_lbs": 3820,
          "Year": "1976-01-01"
         },
         {
          "Acceleration": 12.1,
          "Cylinders": 8,
          "Displacement": 350,
          "Horsepower": 180,
          "Miles_per_Gallon": 16.5,
          "Name": "cadillac seville",
          "Origin": "USA",
          "Weight_in_lbs": 4380,
          "Year": "1976-01-01"
         },
         {
          "Acceleration": 12,
          "Cylinders": 8,
          "Displacement": 350,
          "Horsepower": 145,
          "Miles_per_Gallon": 13,
          "Name": "chevy c10",
          "Origin": "USA",
          "Weight_in_lbs": 4055,
          "Year": "1976-01-01"
         },
         {
          "Acceleration": 15,
          "Cylinders": 8,
          "Displacement": 302,
          "Horsepower": 130,
          "Miles_per_Gallon": 13,
          "Name": "ford f108",
          "Origin": "USA",
          "Weight_in_lbs": 3870,
          "Year": "1976-01-01"
         },
         {
          "Acceleration": 14,
          "Cylinders": 8,
          "Displacement": 318,
          "Horsepower": 150,
          "Miles_per_Gallon": 13,
          "Name": "dodge d100",
          "Origin": "USA",
          "Weight_in_lbs": 3755,
          "Year": "1976-01-01"
         },
         {
          "Acceleration": 18.5,
          "Cylinders": 4,
          "Displacement": 98,
          "Horsepower": 68,
          "Miles_per_Gallon": 31.5,
          "Name": "honda Accelerationord cvcc",
          "Origin": "Japan",
          "Weight_in_lbs": 2045,
          "Year": "1977-01-01"
         },
         {
          "Acceleration": 14.8,
          "Cylinders": 4,
          "Displacement": 111,
          "Horsepower": 80,
          "Miles_per_Gallon": 30,
          "Name": "buick opel isuzu deluxe",
          "Origin": "USA",
          "Weight_in_lbs": 2155,
          "Year": "1977-01-01"
         },
         {
          "Acceleration": 18.6,
          "Cylinders": 4,
          "Displacement": 79,
          "Horsepower": 58,
          "Miles_per_Gallon": 36,
          "Name": "renault 5 gtl",
          "Origin": "Europe",
          "Weight_in_lbs": 1825,
          "Year": "1977-01-01"
         },
         {
          "Acceleration": 15.5,
          "Cylinders": 4,
          "Displacement": 122,
          "Horsepower": 96,
          "Miles_per_Gallon": 25.5,
          "Name": "plymouth arrow gs",
          "Origin": "USA",
          "Weight_in_lbs": 2300,
          "Year": "1977-01-01"
         },
         {
          "Acceleration": 16.8,
          "Cylinders": 4,
          "Displacement": 85,
          "Horsepower": 70,
          "Miles_per_Gallon": 33.5,
          "Name": "datsun f-10 hatchback",
          "Origin": "Japan",
          "Weight_in_lbs": 1945,
          "Year": "1977-01-01"
         },
         {
          "Acceleration": 12.5,
          "Cylinders": 8,
          "Displacement": 305,
          "Horsepower": 145,
          "Miles_per_Gallon": 17.5,
          "Name": "chevrolet caprice classic",
          "Origin": "USA",
          "Weight_in_lbs": 3880,
          "Year": "1977-01-01"
         },
         {
          "Acceleration": 19,
          "Cylinders": 8,
          "Displacement": 260,
          "Horsepower": 110,
          "Miles_per_Gallon": 17,
          "Name": "oldsmobile cutlass supreme",
          "Origin": "USA",
          "Weight_in_lbs": 4060,
          "Year": "1977-01-01"
         },
         {
          "Acceleration": 13.7,
          "Cylinders": 8,
          "Displacement": 318,
          "Horsepower": 145,
          "Miles_per_Gallon": 15.5,
          "Name": "dodge monaco brougham",
          "Origin": "USA",
          "Weight_in_lbs": 4140,
          "Year": "1977-01-01"
         },
         {
          "Acceleration": 14.9,
          "Cylinders": 8,
          "Displacement": 302,
          "Horsepower": 130,
          "Miles_per_Gallon": 15,
          "Name": "mercury cougar brougham",
          "Origin": "USA",
          "Weight_in_lbs": 4295,
          "Year": "1977-01-01"
         },
         {
          "Acceleration": 16.4,
          "Cylinders": 6,
          "Displacement": 250,
          "Horsepower": 110,
          "Miles_per_Gallon": 17.5,
          "Name": "chevrolet concours",
          "Origin": "USA",
          "Weight_in_lbs": 3520,
          "Year": "1977-01-01"
         },
         {
          "Acceleration": 16.9,
          "Cylinders": 6,
          "Displacement": 231,
          "Horsepower": 105,
          "Miles_per_Gallon": 20.5,
          "Name": "buick skylark",
          "Origin": "USA",
          "Weight_in_lbs": 3425,
          "Year": "1977-01-01"
         },
         {
          "Acceleration": 17.7,
          "Cylinders": 6,
          "Displacement": 225,
          "Horsepower": 100,
          "Miles_per_Gallon": 19,
          "Name": "plymouth volare custom",
          "Origin": "USA",
          "Weight_in_lbs": 3630,
          "Year": "1977-01-01"
         },
         {
          "Acceleration": 19,
          "Cylinders": 6,
          "Displacement": 250,
          "Horsepower": 98,
          "Miles_per_Gallon": 18.5,
          "Name": "ford granada",
          "Origin": "USA",
          "Weight_in_lbs": 3525,
          "Year": "1977-01-01"
         },
         {
          "Acceleration": 11.1,
          "Cylinders": 8,
          "Displacement": 400,
          "Horsepower": 180,
          "Miles_per_Gallon": 16,
          "Name": "pontiac grand prix lj",
          "Origin": "USA",
          "Weight_in_lbs": 4220,
          "Year": "1977-01-01"
         },
         {
          "Acceleration": 11.4,
          "Cylinders": 8,
          "Displacement": 350,
          "Horsepower": 170,
          "Miles_per_Gallon": 15.5,
          "Name": "chevrolet monte carlo landau",
          "Origin": "USA",
          "Weight_in_lbs": 4165,
          "Year": "1977-01-01"
         },
         {
          "Acceleration": 12.2,
          "Cylinders": 8,
          "Displacement": 400,
          "Horsepower": 190,
          "Miles_per_Gallon": 15.5,
          "Name": "chrysler cordoba",
          "Origin": "USA",
          "Weight_in_lbs": 4325,
          "Year": "1977-01-01"
         },
         {
          "Acceleration": 14.5,
          "Cylinders": 8,
          "Displacement": 351,
          "Horsepower": 149,
          "Miles_per_Gallon": 16,
          "Name": "ford thunderbird",
          "Origin": "USA",
          "Weight_in_lbs": 4335,
          "Year": "1977-01-01"
         },
         {
          "Acceleration": 14.5,
          "Cylinders": 4,
          "Displacement": 97,
          "Horsepower": 78,
          "Miles_per_Gallon": 29,
          "Name": "volkswagen rabbit custom",
          "Origin": "Europe",
          "Weight_in_lbs": 1940,
          "Year": "1977-01-01"
         },
         {
          "Acceleration": 16,
          "Cylinders": 4,
          "Displacement": 151,
          "Horsepower": 88,
          "Miles_per_Gallon": 24.5,
          "Name": "pontiac sunbird coupe",
          "Origin": "USA",
          "Weight_in_lbs": 2740,
          "Year": "1977-01-01"
         },
         {
          "Acceleration": 18.2,
          "Cylinders": 4,
          "Displacement": 97,
          "Horsepower": 75,
          "Miles_per_Gallon": 26,
          "Name": "toyota corolla liftback",
          "Origin": "Japan",
          "Weight_in_lbs": 2265,
          "Year": "1977-01-01"
         },
         {
          "Acceleration": 15.8,
          "Cylinders": 4,
          "Displacement": 140,
          "Horsepower": 89,
          "Miles_per_Gallon": 25.5,
          "Name": "ford mustang ii 2+2",
          "Origin": "USA",
          "Weight_in_lbs": 2755,
          "Year": "1977-01-01"
         },
         {
          "Acceleration": 17,
          "Cylinders": 4,
          "Displacement": 98,
          "Horsepower": 63,
          "Miles_per_Gallon": 30.5,
          "Name": "chevrolet chevette",
          "Origin": "USA",
          "Weight_in_lbs": 2051,
          "Year": "1977-01-01"
         },
         {
          "Acceleration": 15.9,
          "Cylinders": 4,
          "Displacement": 98,
          "Horsepower": 83,
          "Miles_per_Gallon": 33.5,
          "Name": "dodge colt m/m",
          "Origin": "USA",
          "Weight_in_lbs": 2075,
          "Year": "1977-01-01"
         },
         {
          "Acceleration": 16.4,
          "Cylinders": 4,
          "Displacement": 97,
          "Horsepower": 67,
          "Miles_per_Gallon": 30,
          "Name": "subaru dl",
          "Origin": "Japan",
          "Weight_in_lbs": 1985,
          "Year": "1977-01-01"
         },
         {
          "Acceleration": 14.1,
          "Cylinders": 4,
          "Displacement": 97,
          "Horsepower": 78,
          "Miles_per_Gallon": 30.5,
          "Name": "volkswagen dasher",
          "Origin": "Europe",
          "Weight_in_lbs": 2190,
          "Year": "1977-01-01"
         },
         {
          "Acceleration": 14.5,
          "Cylinders": 6,
          "Displacement": 146,
          "Horsepower": 97,
          "Miles_per_Gallon": 22,
          "Name": "datsun 810",
          "Origin": "Japan",
          "Weight_in_lbs": 2815,
          "Year": "1977-01-01"
         },
         {
          "Acceleration": 12.8,
          "Cylinders": 4,
          "Displacement": 121,
          "Horsepower": 110,
          "Miles_per_Gallon": 21.5,
          "Name": "bmw 320i",
          "Origin": "Europe",
          "Weight_in_lbs": 2600,
          "Year": "1977-01-01"
         },
         {
          "Acceleration": 13.5,
          "Cylinders": 3,
          "Displacement": 80,
          "Horsepower": 110,
          "Miles_per_Gallon": 21.5,
          "Name": "mazda rx-4",
          "Origin": "Japan",
          "Weight_in_lbs": 2720,
          "Year": "1977-01-01"
         },
         {
          "Acceleration": 21.5,
          "Cylinders": 4,
          "Displacement": 90,
          "Horsepower": 48,
          "Miles_per_Gallon": 43.1,
          "Name": "volkswagen rabbit custom diesel",
          "Origin": "Europe",
          "Weight_in_lbs": 1985,
          "Year": "1978-01-01"
         },
         {
          "Acceleration": 14.4,
          "Cylinders": 4,
          "Displacement": 98,
          "Horsepower": 66,
          "Miles_per_Gallon": 36.1,
          "Name": "ford fiesta",
          "Origin": "USA",
          "Weight_in_lbs": 1800,
          "Year": "1978-01-01"
         },
         {
          "Acceleration": 19.4,
          "Cylinders": 4,
          "Displacement": 78,
          "Horsepower": 52,
          "Miles_per_Gallon": 32.8,
          "Name": "mazda glc deluxe",
          "Origin": "Japan",
          "Weight_in_lbs": 1985,
          "Year": "1978-01-01"
         },
         {
          "Acceleration": 18.6,
          "Cylinders": 4,
          "Displacement": 85,
          "Horsepower": 70,
          "Miles_per_Gallon": 39.4,
          "Name": "datsun b210 gx",
          "Origin": "Japan",
          "Weight_in_lbs": 2070,
          "Year": "1978-01-01"
         },
         {
          "Acceleration": 16.4,
          "Cylinders": 4,
          "Displacement": 91,
          "Horsepower": 60,
          "Miles_per_Gallon": 36.1,
          "Name": "honda civic cvcc",
          "Origin": "Japan",
          "Weight_in_lbs": 1800,
          "Year": "1978-01-01"
         },
         {
          "Acceleration": 15.5,
          "Cylinders": 8,
          "Displacement": 260,
          "Horsepower": 110,
          "Miles_per_Gallon": 19.9,
          "Name": "oldsmobile cutlass salon brougham",
          "Origin": "USA",
          "Weight_in_lbs": 3365,
          "Year": "1978-01-01"
         },
         {
          "Acceleration": 13.2,
          "Cylinders": 8,
          "Displacement": 318,
          "Horsepower": 140,
          "Miles_per_Gallon": 19.4,
          "Name": "dodge diplomat",
          "Origin": "USA",
          "Weight_in_lbs": 3735,
          "Year": "1978-01-01"
         },
         {
          "Acceleration": 12.8,
          "Cylinders": 8,
          "Displacement": 302,
          "Horsepower": 139,
          "Miles_per_Gallon": 20.2,
          "Name": "mercury monarch ghia",
          "Origin": "USA",
          "Weight_in_lbs": 3570,
          "Year": "1978-01-01"
         },
         {
          "Acceleration": 19.2,
          "Cylinders": 6,
          "Displacement": 231,
          "Horsepower": 105,
          "Miles_per_Gallon": 19.2,
          "Name": "pontiac phoenix lj",
          "Origin": "USA",
          "Weight_in_lbs": 3535,
          "Year": "1978-01-01"
         },
         {
          "Acceleration": 18.2,
          "Cylinders": 6,
          "Displacement": 200,
          "Horsepower": 95,
          "Miles_per_Gallon": 20.5,
          "Name": "chevrolet malibu",
          "Origin": "USA",
          "Weight_in_lbs": 3155,
          "Year": "1978-01-01"
         },
         {
          "Acceleration": 15.8,
          "Cylinders": 6,
          "Displacement": 200,
          "Horsepower": 85,
          "Miles_per_Gallon": 20.2,
          "Name": "ford fairmont (auto)",
          "Origin": "USA",
          "Weight_in_lbs": 2965,
          "Year": "1978-01-01"
         },
         {
          "Acceleration": 15.4,
          "Cylinders": 4,
          "Displacement": 140,
          "Horsepower": 88,
          "Miles_per_Gallon": 25.1,
          "Name": "ford fairmont (man)",
          "Origin": "USA",
          "Weight_in_lbs": 2720,
          "Year": "1978-01-01"
         },
         {
          "Acceleration": 17.2,
          "Cylinders": 6,
          "Displacement": 225,
          "Horsepower": 100,
          "Miles_per_Gallon": 20.5,
          "Name": "plymouth volare",
          "Origin": "USA",
          "Weight_in_lbs": 3430,
          "Year": "1978-01-01"
         },
         {
          "Acceleration": 17.2,
          "Cylinders": 6,
          "Displacement": 232,
          "Horsepower": 90,
          "Miles_per_Gallon": 19.4,
          "Name": "amc concord",
          "Origin": "USA",
          "Weight_in_lbs": 3210,
          "Year": "1978-01-01"
         },
         {
          "Acceleration": 15.8,
          "Cylinders": 6,
          "Displacement": 231,
          "Horsepower": 105,
          "Miles_per_Gallon": 20.6,
          "Name": "buick century special",
          "Origin": "USA",
          "Weight_in_lbs": 3380,
          "Year": "1978-01-01"
         },
         {
          "Acceleration": 16.7,
          "Cylinders": 6,
          "Displacement": 200,
          "Horsepower": 85,
          "Miles_per_Gallon": 20.8,
          "Name": "mercury zephyr",
          "Origin": "USA",
          "Weight_in_lbs": 3070,
          "Year": "1978-01-01"
         },
         {
          "Acceleration": 18.7,
          "Cylinders": 6,
          "Displacement": 225,
          "Horsepower": 110,
          "Miles_per_Gallon": 18.6,
          "Name": "dodge aspen",
          "Origin": "USA",
          "Weight_in_lbs": 3620,
          "Year": "1978-01-01"
         },
         {
          "Acceleration": 15.1,
          "Cylinders": 6,
          "Displacement": 258,
          "Horsepower": 120,
          "Miles_per_Gallon": 18.1,
          "Name": "amc concord d/l",
          "Origin": "USA",
          "Weight_in_lbs": 3410,
          "Year": "1978-01-01"
         },
         {
          "Acceleration": 13.2,
          "Cylinders": 8,
          "Displacement": 305,
          "Horsepower": 145,
          "Miles_per_Gallon": 19.2,
          "Name": "chevrolet monte carlo landau",
          "Origin": "USA",
          "Weight_in_lbs": 3425,
          "Year": "1978-01-01"
         },
         {
          "Acceleration": 13.4,
          "Cylinders": 6,
          "Displacement": 231,
          "Horsepower": 165,
          "Miles_per_Gallon": 17.7,
          "Name": "buick regal sport coupe (turbo)",
          "Origin": "USA",
          "Weight_in_lbs": 3445,
          "Year": "1978-01-01"
         },
         {
          "Acceleration": 11.2,
          "Cylinders": 8,
          "Displacement": 302,
          "Horsepower": 139,
          "Miles_per_Gallon": 18.1,
          "Name": "ford futura",
          "Origin": "USA",
          "Weight_in_lbs": 3205,
          "Year": "1978-01-01"
         },
         {
          "Acceleration": 13.7,
          "Cylinders": 8,
          "Displacement": 318,
          "Horsepower": 140,
          "Miles_per_Gallon": 17.5,
          "Name": "dodge magnum xe",
          "Origin": "USA",
          "Weight_in_lbs": 4080,
          "Year": "1978-01-01"
         },
         {
          "Acceleration": 16.5,
          "Cylinders": 4,
          "Displacement": 98,
          "Horsepower": 68,
          "Miles_per_Gallon": 30,
          "Name": "chevrolet chevette",
          "Origin": "USA",
          "Weight_in_lbs": 2155,
          "Year": "1978-01-01"
         },
         {
          "Acceleration": 14.2,
          "Cylinders": 4,
          "Displacement": 134,
          "Horsepower": 95,
          "Miles_per_Gallon": 27.5,
          "Name": "toyota corona",
          "Origin": "Japan",
          "Weight_in_lbs": 2560,
          "Year": "1978-01-01"
         },
         {
          "Acceleration": 14.7,
          "Cylinders": 4,
          "Displacement": 119,
          "Horsepower": 97,
          "Miles_per_Gallon": 27.2,
          "Name": "datsun 510",
          "Origin": "Japan",
          "Weight_in_lbs": 2300,
          "Year": "1978-01-01"
         },
         {
          "Acceleration": 14.5,
          "Cylinders": 4,
          "Displacement": 105,
          "Horsepower": 75,
          "Miles_per_Gallon": 30.9,
          "Name": "dodge omni",
          "Origin": "USA",
          "Weight_in_lbs": 2230,
          "Year": "1978-01-01"
         },
         {
          "Acceleration": 14.8,
          "Cylinders": 4,
          "Displacement": 134,
          "Horsepower": 95,
          "Miles_per_Gallon": 21.1,
          "Name": "toyota celica gt liftback",
          "Origin": "Japan",
          "Weight_in_lbs": 2515,
          "Year": "1978-01-01"
         },
         {
          "Acceleration": 16.7,
          "Cylinders": 4,
          "Displacement": 156,
          "Horsepower": 105,
          "Miles_per_Gallon": 23.2,
          "Name": "plymouth sapporo",
          "Origin": "USA",
          "Weight_in_lbs": 2745,
          "Year": "1978-01-01"
         },
         {
          "Acceleration": 17.6,
          "Cylinders": 4,
          "Displacement": 151,
          "Horsepower": 85,
          "Miles_per_Gallon": 23.8,
          "Name": "oldsmobile starfire sx",
          "Origin": "USA",
          "Weight_in_lbs": 2855,
          "Year": "1978-01-01"
         },
         {
          "Acceleration": 14.9,
          "Cylinders": 4,
          "Displacement": 119,
          "Horsepower": 97,
          "Miles_per_Gallon": 23.9,
          "Name": "datsun 200-sx",
          "Origin": "Japan",
          "Weight_in_lbs": 2405,
          "Year": "1978-01-01"
         },
         {
          "Acceleration": 15.9,
          "Cylinders": 5,
          "Displacement": 131,
          "Horsepower": 103,
          "Miles_per_Gallon": 20.3,
          "Name": "audi 5000",
          "Origin": "Europe",
          "Weight_in_lbs": 2830,
          "Year": "1978-01-01"
         },
         {
          "Acceleration": 13.6,
          "Cylinders": 6,
          "Displacement": 163,
          "Horsepower": 125,
          "Miles_per_Gallon": 17,
          "Name": "volvo 264gl",
          "Origin": "Europe",
          "Weight_in_lbs": 3140,
          "Year": "1978-01-01"
         },
         {
          "Acceleration": 15.7,
          "Cylinders": 4,
          "Displacement": 121,
          "Horsepower": 115,
          "Miles_per_Gallon": 21.6,
          "Name": "saab 99gle",
          "Origin": "Europe",
          "Weight_in_lbs": 2795,
          "Year": "1978-01-01"
         },
         {
          "Acceleration": 15.8,
          "Cylinders": 6,
          "Displacement": 163,
          "Horsepower": 133,
          "Miles_per_Gallon": 16.2,
          "Name": "peugeot 604sl",
          "Origin": "Europe",
          "Weight_in_lbs": 3410,
          "Year": "1978-01-01"
         },
         {
          "Acceleration": 14.9,
          "Cylinders": 4,
          "Displacement": 89,
          "Horsepower": 71,
          "Miles_per_Gallon": 31.5,
          "Name": "volkswagen scirocco",
          "Origin": "Europe",
          "Weight_in_lbs": 1990,
          "Year": "1978-01-01"
         },
         {
          "Acceleration": 16.6,
          "Cylinders": 4,
          "Displacement": 98,
          "Horsepower": 68,
          "Miles_per_Gallon": 29.5,
          "Name": "honda Accelerationord lx",
          "Origin": "Japan",
          "Weight_in_lbs": 2135,
          "Year": "1978-01-01"
         },
         {
          "Acceleration": 15.4,
          "Cylinders": 6,
          "Displacement": 231,
          "Horsepower": 115,
          "Miles_per_Gallon": 21.5,
          "Name": "pontiac lemans v6",
          "Origin": "USA",
          "Weight_in_lbs": 3245,
          "Year": "1979-01-01"
         },
         {
          "Acceleration": 18.2,
          "Cylinders": 6,
          "Displacement": 200,
          "Horsepower": 85,
          "Miles_per_Gallon": 19.8,
          "Name": "mercury zephyr 6",
          "Origin": "USA",
          "Weight_in_lbs": 2990,
          "Year": "1979-01-01"
         },
         {
          "Acceleration": 17.3,
          "Cylinders": 4,
          "Displacement": 140,
          "Horsepower": 88,
          "Miles_per_Gallon": 22.3,
          "Name": "ford fairmont 4",
          "Origin": "USA",
          "Weight_in_lbs": 2890,
          "Year": "1979-01-01"
         },
         {
          "Acceleration": 18.2,
          "Cylinders": 6,
          "Displacement": 232,
          "Horsepower": 90,
          "Miles_per_Gallon": 20.2,
          "Name": "amc concord dl 6",
          "Origin": "USA",
          "Weight_in_lbs": 3265,
          "Year": "1979-01-01"
         },
         {
          "Acceleration": 16.6,
          "Cylinders": 6,
          "Displacement": 225,
          "Horsepower": 110,
          "Miles_per_Gallon": 20.6,
          "Name": "dodge aspen 6",
          "Origin": "USA",
          "Weight_in_lbs": 3360,
          "Year": "1979-01-01"
         },
         {
          "Acceleration": 15.4,
          "Cylinders": 8,
          "Displacement": 305,
          "Horsepower": 130,
          "Miles_per_Gallon": 17,
          "Name": "chevrolet caprice classic",
          "Origin": "USA",
          "Weight_in_lbs": 3840,
          "Year": "1979-01-01"
         },
         {
          "Acceleration": 13.4,
          "Cylinders": 8,
          "Displacement": 302,
          "Horsepower": 129,
          "Miles_per_Gallon": 17.6,
          "Name": "ford ltd landau",
          "Origin": "USA",
          "Weight_in_lbs": 3725,
          "Year": "1979-01-01"
         },
         {
          "Acceleration": 13.2,
          "Cylinders": 8,
          "Displacement": 351,
          "Horsepower": 138,
          "Miles_per_Gallon": 16.5,
          "Name": "mercury grand marquis",
          "Origin": "USA",
          "Weight_in_lbs": 3955,
          "Year": "1979-01-01"
         },
         {
          "Acceleration": 15.2,
          "Cylinders": 8,
          "Displacement": 318,
          "Horsepower": 135,
          "Miles_per_Gallon": 18.2,
          "Name": "dodge st. regis",
          "Origin": "USA",
          "Weight_in_lbs": 3830,
          "Year": "1979-01-01"
         },
         {
          "Acceleration": 14.9,
          "Cylinders": 8,
          "Displacement": 350,
          "Horsepower": 155,
          "Miles_per_Gallon": 16.9,
          "Name": "buick estate wagon (sw)",
          "Origin": "USA",
          "Weight_in_lbs": 4360,
          "Year": "1979-01-01"
         },
         {
          "Acceleration": 14.3,
          "Cylinders": 8,
          "Displacement": 351,
          "Horsepower": 142,
          "Miles_per_Gallon": 15.5,
          "Name": "ford country squire (sw)",
          "Origin": "USA",
          "Weight_in_lbs": 4054,
          "Year": "1979-01-01"
         },
         {
          "Acceleration": 15,
          "Cylinders": 8,
          "Displacement": 267,
          "Horsepower": 125,
          "Miles_per_Gallon": 19.2,
          "Name": "chevrolet malibu classic (sw)",
          "Origin": "USA",
          "Weight_in_lbs": 3605,
          "Year": "1979-01-01"
         },
         {
          "Acceleration": 13,
          "Cylinders": 8,
          "Displacement": 360,
          "Horsepower": 150,
          "Miles_per_Gallon": 18.5,
          "Name": "chrysler lebaron town @ country (sw)",
          "Origin": "USA",
          "Weight_in_lbs": 3940,
          "Year": "1979-01-01"
         },
         {
          "Acceleration": 14,
          "Cylinders": 4,
          "Displacement": 89,
          "Horsepower": 71,
          "Miles_per_Gallon": 31.9,
          "Name": "vw rabbit custom",
          "Origin": "Europe",
          "Weight_in_lbs": 1925,
          "Year": "1979-01-01"
         },
         {
          "Acceleration": 15.2,
          "Cylinders": 4,
          "Displacement": 86,
          "Horsepower": 65,
          "Miles_per_Gallon": 34.1,
          "Name": "maxda glc deluxe",
          "Origin": "Japan",
          "Weight_in_lbs": 1975,
          "Year": "1979-01-01"
         },
         {
          "Acceleration": 14.4,
          "Cylinders": 4,
          "Displacement": 98,
          "Horsepower": 80,
          "Miles_per_Gallon": 35.7,
          "Name": "dodge colt hatchback custom",
          "Origin": "USA",
          "Weight_in_lbs": 1915,
          "Year": "1979-01-01"
         },
         {
          "Acceleration": 15,
          "Cylinders": 4,
          "Displacement": 121,
          "Horsepower": 80,
          "Miles_per_Gallon": 27.4,
          "Name": "amc spirit dl",
          "Origin": "USA",
          "Weight_in_lbs": 2670,
          "Year": "1979-01-01"
         },
         {
          "Acceleration": 20.1,
          "Cylinders": 5,
          "Displacement": 183,
          "Horsepower": 77,
          "Miles_per_Gallon": 25.4,
          "Name": "mercedes benz 300d",
          "Origin": "Europe",
          "Weight_in_lbs": 3530,
          "Year": "1979-01-01"
         },
         {
          "Acceleration": 17.4,
          "Cylinders": 8,
          "Displacement": 350,
          "Horsepower": 125,
          "Miles_per_Gallon": 23,
          "Name": "cadillac eldorado",
          "Origin": "USA",
          "Weight_in_lbs": 3900,
          "Year": "1979-01-01"
         },
         {
          "Acceleration": 24.8,
          "Cylinders": 4,
          "Displacement": 141,
          "Horsepower": 71,
          "Miles_per_Gallon": 27.2,
          "Name": "peugeot 504",
          "Origin": "Europe",
          "Weight_in_lbs": 3190,
          "Year": "1979-01-01"
         },
         {
          "Acceleration": 22.2,
          "Cylinders": 8,
          "Displacement": 260,
          "Horsepower": 90,
          "Miles_per_Gallon": 23.9,
          "Name": "oldsmobile cutlass salon brougham",
          "Origin": "USA",
          "Weight_in_lbs": 3420,
          "Year": "1979-01-01"
         },
         {
          "Acceleration": 13.2,
          "Cylinders": 4,
          "Displacement": 105,
          "Horsepower": 70,
          "Miles_per_Gallon": 34.2,
          "Name": "plymouth horizon",
          "Origin": "USA",
          "Weight_in_lbs": 2200,
          "Year": "1979-01-01"
         },
         {
          "Acceleration": 14.9,
          "Cylinders": 4,
          "Displacement": 105,
          "Horsepower": 70,
          "Miles_per_Gallon": 34.5,
          "Name": "plymouth horizon tc3",
          "Origin": "USA",
          "Weight_in_lbs": 2150,
          "Year": "1979-01-01"
         },
         {
          "Acceleration": 19.2,
          "Cylinders": 4,
          "Displacement": 85,
          "Horsepower": 65,
          "Miles_per_Gallon": 31.8,
          "Name": "datsun 210",
          "Origin": "Japan",
          "Weight_in_lbs": 2020,
          "Year": "1979-01-01"
         },
         {
          "Acceleration": 14.7,
          "Cylinders": 4,
          "Displacement": 91,
          "Horsepower": 69,
          "Miles_per_Gallon": 37.3,
          "Name": "fiat strada custom",
          "Origin": "Europe",
          "Weight_in_lbs": 2130,
          "Year": "1979-01-01"
         },
         {
          "Acceleration": 16,
          "Cylinders": 4,
          "Displacement": 151,
          "Horsepower": 90,
          "Miles_per_Gallon": 28.4,
          "Name": "buick skylark limited",
          "Origin": "USA",
          "Weight_in_lbs": 2670,
          "Year": "1979-01-01"
         },
         {
          "Acceleration": 11.3,
          "Cylinders": 6,
          "Displacement": 173,
          "Horsepower": 115,
          "Miles_per_Gallon": 28.8,
          "Name": "chevrolet citation",
          "Origin": "USA",
          "Weight_in_lbs": 2595,
          "Year": "1979-01-01"
         },
         {
          "Acceleration": 12.9,
          "Cylinders": 6,
          "Displacement": 173,
          "Horsepower": 115,
          "Miles_per_Gallon": 26.8,
          "Name": "oldsmobile omega brougham",
          "Origin": "USA",
          "Weight_in_lbs": 2700,
          "Year": "1979-01-01"
         },
         {
          "Acceleration": 13.2,
          "Cylinders": 4,
          "Displacement": 151,
          "Horsepower": 90,
          "Miles_per_Gallon": 33.5,
          "Name": "pontiac phoenix",
          "Origin": "USA",
          "Weight_in_lbs": 2556,
          "Year": "1979-01-01"
         },
         {
          "Acceleration": 14.7,
          "Cylinders": 4,
          "Displacement": 98,
          "Horsepower": 76,
          "Miles_per_Gallon": 41.5,
          "Name": "vw rabbit",
          "Origin": "Europe",
          "Weight_in_lbs": 2144,
          "Year": "1980-01-01"
         },
         {
          "Acceleration": 18.8,
          "Cylinders": 4,
          "Displacement": 89,
          "Horsepower": 60,
          "Miles_per_Gallon": 38.1,
          "Name": "toyota corolla tercel",
          "Origin": "Japan",
          "Weight_in_lbs": 1968,
          "Year": "1980-01-01"
         },
         {
          "Acceleration": 15.5,
          "Cylinders": 4,
          "Displacement": 98,
          "Horsepower": 70,
          "Miles_per_Gallon": 32.1,
          "Name": "chevrolet chevette",
          "Origin": "USA",
          "Weight_in_lbs": 2120,
          "Year": "1980-01-01"
         },
         {
          "Acceleration": 16.4,
          "Cylinders": 4,
          "Displacement": 86,
          "Horsepower": 65,
          "Miles_per_Gallon": 37.2,
          "Name": "datsun 310",
          "Origin": "Japan",
          "Weight_in_lbs": 2019,
          "Year": "1980-01-01"
         },
         {
          "Acceleration": 16.5,
          "Cylinders": 4,
          "Displacement": 151,
          "Horsepower": 90,
          "Miles_per_Gallon": 28,
          "Name": "chevrolet citation",
          "Origin": "USA",
          "Weight_in_lbs": 2678,
          "Year": "1980-01-01"
         },
         {
          "Acceleration": 18.1,
          "Cylinders": 4,
          "Displacement": 140,
          "Horsepower": 88,
          "Miles_per_Gallon": 26.4,
          "Name": "ford fairmont",
          "Origin": "USA",
          "Weight_in_lbs": 2870,
          "Year": "1980-01-01"
         },
         {
          "Acceleration": 20.1,
          "Cylinders": 4,
          "Displacement": 151,
          "Horsepower": 90,
          "Miles_per_Gallon": 24.3,
          "Name": "amc concord",
          "Origin": "USA",
          "Weight_in_lbs": 3003,
          "Year": "1980-01-01"
         },
         {
          "Acceleration": 18.7,
          "Cylinders": 6,
          "Displacement": 225,
          "Horsepower": 90,
          "Miles_per_Gallon": 19.1,
          "Name": "dodge aspen",
          "Origin": "USA",
          "Weight_in_lbs": 3381,
          "Year": "1980-01-01"
         },
         {
          "Acceleration": 15.8,
          "Cylinders": 4,
          "Displacement": 97,
          "Horsepower": 78,
          "Miles_per_Gallon": 34.3,
          "Name": "audi 4000",
          "Origin": "Europe",
          "Weight_in_lbs": 2188,
          "Year": "1980-01-01"
         },
         {
          "Acceleration": 15.5,
          "Cylinders": 4,
          "Displacement": 134,
          "Horsepower": 90,
          "Miles_per_Gallon": 29.8,
          "Name": "toyota corona liftback",
          "Origin": "Japan",
          "Weight_in_lbs": 2711,
          "Year": "1980-01-01"
         },
         {
          "Acceleration": 17.5,
          "Cylinders": 4,
          "Displacement": 120,
          "Horsepower": 75,
          "Miles_per_Gallon": 31.3,
          "Name": "mazda 626",
          "Origin": "Japan",
          "Weight_in_lbs": 2542,
          "Year": "1980-01-01"
         },
         {
          "Acceleration": 15,
          "Cylinders": 4,
          "Displacement": 119,
          "Horsepower": 92,
          "Miles_per_Gallon": 37,
          "Name": "datsun 510 hatchback",
          "Origin": "Japan",
          "Weight_in_lbs": 2434,
          "Year": "1980-01-01"
         },
         {
          "Acceleration": 15.2,
          "Cylinders": 4,
          "Displacement": 108,
          "Horsepower": 75,
          "Miles_per_Gallon": 32.2,
          "Name": "toyota corolla",
          "Origin": "Japan",
          "Weight_in_lbs": 2265,
          "Year": "1980-01-01"
         },
         {
          "Acceleration": 17.9,
          "Cylinders": 4,
          "Displacement": 86,
          "Horsepower": 65,
          "Miles_per_Gallon": 46.6,
          "Name": "mazda glc",
          "Origin": "Japan",
          "Weight_in_lbs": 2110,
          "Year": "1980-01-01"
         },
         {
          "Acceleration": 14.4,
          "Cylinders": 4,
          "Displacement": 156,
          "Horsepower": 105,
          "Miles_per_Gallon": 27.9,
          "Name": "dodge colt",
          "Origin": "USA",
          "Weight_in_lbs": 2800,
          "Year": "1980-01-01"
         },
         {
          "Acceleration": 19.2,
          "Cylinders": 4,
          "Displacement": 85,
          "Horsepower": 65,
          "Miles_per_Gallon": 40.8,
          "Name": "datsun 210",
          "Origin": "Japan",
          "Weight_in_lbs": 2110,
          "Year": "1980-01-01"
         },
         {
          "Acceleration": 21.7,
          "Cylinders": 4,
          "Displacement": 90,
          "Horsepower": 48,
          "Miles_per_Gallon": 44.3,
          "Name": "vw rabbit c (diesel)",
          "Origin": "Europe",
          "Weight_in_lbs": 2085,
          "Year": "1980-01-01"
         },
         {
          "Acceleration": 23.7,
          "Cylinders": 4,
          "Displacement": 90,
          "Horsepower": 48,
          "Miles_per_Gallon": 43.4,
          "Name": "vw dasher (diesel)",
          "Origin": "Europe",
          "Weight_in_lbs": 2335,
          "Year": "1980-01-01"
         },
         {
          "Acceleration": 19.9,
          "Cylinders": 5,
          "Displacement": 121,
          "Horsepower": 67,
          "Miles_per_Gallon": 36.4,
          "Name": "audi 5000s (diesel)",
          "Origin": "Europe",
          "Weight_in_lbs": 2950,
          "Year": "1980-01-01"
         },
         {
          "Acceleration": 21.8,
          "Cylinders": 4,
          "Displacement": 146,
          "Horsepower": 67,
          "Miles_per_Gallon": 30,
          "Name": "mercedes-benz 240d",
          "Origin": "Europe",
          "Weight_in_lbs": 3250,
          "Year": "1980-01-01"
         },
         {
          "Acceleration": 13.8,
          "Cylinders": 4,
          "Displacement": 91,
          "Horsepower": 67,
          "Miles_per_Gallon": 44.6,
          "Name": "honda civic 1500 gl",
          "Origin": "Japan",
          "Weight_in_lbs": 1850,
          "Year": "1980-01-01"
         },
         {
          "Acceleration": 17.3,
          "Cylinders": 4,
          "Displacement": 85,
          "Horsepower": null,
          "Miles_per_Gallon": 40.9,
          "Name": "renault lecar deluxe",
          "Origin": "Europe",
          "Weight_in_lbs": 1835,
          "Year": "1980-01-01"
         },
         {
          "Acceleration": 18,
          "Cylinders": 4,
          "Displacement": 97,
          "Horsepower": 67,
          "Miles_per_Gallon": 33.8,
          "Name": "subaru dl",
          "Origin": "Japan",
          "Weight_in_lbs": 2145,
          "Year": "1980-01-01"
         },
         {
          "Acceleration": 15.3,
          "Cylinders": 4,
          "Displacement": 89,
          "Horsepower": 62,
          "Miles_per_Gallon": 29.8,
          "Name": "vokswagen rabbit",
          "Origin": "Europe",
          "Weight_in_lbs": 1845,
          "Year": "1980-01-01"
         },
         {
          "Acceleration": 11.4,
          "Cylinders": 6,
          "Displacement": 168,
          "Horsepower": 132,
          "Miles_per_Gallon": 32.7,
          "Name": "datsun 280-zx",
          "Origin": "Japan",
          "Weight_in_lbs": 2910,
          "Year": "1980-01-01"
         },
         {
          "Acceleration": 12.5,
          "Cylinders": 3,
          "Displacement": 70,
          "Horsepower": 100,
          "Miles_per_Gallon": 23.7,
          "Name": "mazda rx-7 gs",
          "Origin": "Japan",
          "Weight_in_lbs": 2420,
          "Year": "1980-01-01"
         },
         {
          "Acceleration": 15.1,
          "Cylinders": 4,
          "Displacement": 122,
          "Horsepower": 88,
          "Miles_per_Gallon": 35,
          "Name": "triumph tr7 coupe",
          "Origin": "Europe",
          "Weight_in_lbs": 2500,
          "Year": "1980-01-01"
         },
         {
          "Acceleration": 14.3,
          "Cylinders": 4,
          "Displacement": 140,
          "Horsepower": null,
          "Miles_per_Gallon": 23.6,
          "Name": "ford mustang cobra",
          "Origin": "USA",
          "Weight_in_lbs": 2905,
          "Year": "1980-01-01"
         },
         {
          "Acceleration": 17,
          "Cylinders": 4,
          "Displacement": 107,
          "Horsepower": 72,
          "Miles_per_Gallon": 32.4,
          "Name": "honda Accelerationord",
          "Origin": "Japan",
          "Weight_in_lbs": 2290,
          "Year": "1980-01-01"
         },
         {
          "Acceleration": 15.7,
          "Cylinders": 4,
          "Displacement": 135,
          "Horsepower": 84,
          "Miles_per_Gallon": 27.2,
          "Name": "plymouth reliant",
          "Origin": "USA",
          "Weight_in_lbs": 2490,
          "Year": "1982-01-01"
         },
         {
          "Acceleration": 16.4,
          "Cylinders": 4,
          "Displacement": 151,
          "Horsepower": 84,
          "Miles_per_Gallon": 26.6,
          "Name": "buick skylark",
          "Origin": "USA",
          "Weight_in_lbs": 2635,
          "Year": "1982-01-01"
         },
         {
          "Acceleration": 14.4,
          "Cylinders": 4,
          "Displacement": 156,
          "Horsepower": 92,
          "Miles_per_Gallon": 25.8,
          "Name": "dodge aries wagon (sw)",
          "Origin": "USA",
          "Weight_in_lbs": 2620,
          "Year": "1982-01-01"
         },
         {
          "Acceleration": 12.6,
          "Cylinders": 6,
          "Displacement": 173,
          "Horsepower": 110,
          "Miles_per_Gallon": 23.5,
          "Name": "chevrolet citation",
          "Origin": "USA",
          "Weight_in_lbs": 2725,
          "Year": "1982-01-01"
         },
         {
          "Acceleration": 12.9,
          "Cylinders": 4,
          "Displacement": 135,
          "Horsepower": 84,
          "Miles_per_Gallon": 30,
          "Name": "plymouth reliant",
          "Origin": "USA",
          "Weight_in_lbs": 2385,
          "Year": "1982-01-01"
         },
         {
          "Acceleration": 16.9,
          "Cylinders": 4,
          "Displacement": 79,
          "Horsepower": 58,
          "Miles_per_Gallon": 39.1,
          "Name": "toyota starlet",
          "Origin": "Japan",
          "Weight_in_lbs": 1755,
          "Year": "1982-01-01"
         },
         {
          "Acceleration": 16.4,
          "Cylinders": 4,
          "Displacement": 86,
          "Horsepower": 64,
          "Miles_per_Gallon": 39,
          "Name": "plymouth champ",
          "Origin": "USA",
          "Weight_in_lbs": 1875,
          "Year": "1982-01-01"
         },
         {
          "Acceleration": 16.1,
          "Cylinders": 4,
          "Displacement": 81,
          "Horsepower": 60,
          "Miles_per_Gallon": 35.1,
          "Name": "honda civic 1300",
          "Origin": "Japan",
          "Weight_in_lbs": 1760,
          "Year": "1982-01-01"
         },
         {
          "Acceleration": 17.8,
          "Cylinders": 4,
          "Displacement": 97,
          "Horsepower": 67,
          "Miles_per_Gallon": 32.3,
          "Name": "subaru",
          "Origin": "Japan",
          "Weight_in_lbs": 2065,
          "Year": "1982-01-01"
         },
         {
          "Acceleration": 19.4,
          "Cylinders": 4,
          "Displacement": 85,
          "Horsepower": 65,
          "Miles_per_Gallon": 37,
          "Name": "datsun 210",
          "Origin": "Japan",
          "Weight_in_lbs": 1975,
          "Year": "1982-01-01"
         },
         {
          "Acceleration": 17.3,
          "Cylinders": 4,
          "Displacement": 89,
          "Horsepower": 62,
          "Miles_per_Gallon": 37.7,
          "Name": "toyota tercel",
          "Origin": "Japan",
          "Weight_in_lbs": 2050,
          "Year": "1982-01-01"
         },
         {
          "Acceleration": 16,
          "Cylinders": 4,
          "Displacement": 91,
          "Horsepower": 68,
          "Miles_per_Gallon": 34.1,
          "Name": "mazda glc 4",
          "Origin": "Japan",
          "Weight_in_lbs": 1985,
          "Year": "1982-01-01"
         },
         {
          "Acceleration": 14.9,
          "Cylinders": 4,
          "Displacement": 105,
          "Horsepower": 63,
          "Miles_per_Gallon": 34.7,
          "Name": "plymouth horizon 4",
          "Origin": "USA",
          "Weight_in_lbs": 2215,
          "Year": "1982-01-01"
         },
         {
          "Acceleration": 16.2,
          "Cylinders": 4,
          "Displacement": 98,
          "Horsepower": 65,
          "Miles_per_Gallon": 34.4,
          "Name": "ford escort 4w",
          "Origin": "USA",
          "Weight_in_lbs": 2045,
          "Year": "1982-01-01"
         },
         {
          "Acceleration": 20.7,
          "Cylinders": 4,
          "Displacement": 98,
          "Horsepower": 65,
          "Miles_per_Gallon": 29.9,
          "Name": "ford escort 2h",
          "Origin": "USA",
          "Weight_in_lbs": 2380,
          "Year": "1982-01-01"
         },
         {
          "Acceleration": 14.2,
          "Cylinders": 4,
          "Displacement": 105,
          "Horsepower": 74,
          "Miles_per_Gallon": 33,
          "Name": "volkswagen jetta",
          "Origin": "Europe",
          "Weight_in_lbs": 2190,
          "Year": "1982-01-01"
         },
         {
          "Acceleration": 15.8,
          "Cylinders": 4,
          "Displacement": 100,
          "Horsepower": null,
          "Miles_per_Gallon": 34.5,
          "Name": "renault 18i",
          "Origin": "Europe",
          "Weight_in_lbs": 2320,
          "Year": "1982-01-01"
         },
         {
          "Acceleration": 14.4,
          "Cylinders": 4,
          "Displacement": 107,
          "Horsepower": 75,
          "Miles_per_Gallon": 33.7,
          "Name": "honda prelude",
          "Origin": "Japan",
          "Weight_in_lbs": 2210,
          "Year": "1982-01-01"
         },
         {
          "Acceleration": 16.8,
          "Cylinders": 4,
          "Displacement": 108,
          "Horsepower": 75,
          "Miles_per_Gallon": 32.4,
          "Name": "toyota corolla",
          "Origin": "Japan",
          "Weight_in_lbs": 2350,
          "Year": "1982-01-01"
         },
         {
          "Acceleration": 14.8,
          "Cylinders": 4,
          "Displacement": 119,
          "Horsepower": 100,
          "Miles_per_Gallon": 32.9,
          "Name": "datsun 200sx",
          "Origin": "Japan",
          "Weight_in_lbs": 2615,
          "Year": "1982-01-01"
         },
         {
          "Acceleration": 18.3,
          "Cylinders": 4,
          "Displacement": 120,
          "Horsepower": 74,
          "Miles_per_Gallon": 31.6,
          "Name": "mazda 626",
          "Origin": "Japan",
          "Weight_in_lbs": 2635,
          "Year": "1982-01-01"
         },
         {
          "Acceleration": 20.4,
          "Cylinders": 4,
          "Displacement": 141,
          "Horsepower": 80,
          "Miles_per_Gallon": 28.1,
          "Name": "peugeot 505s turbo diesel",
          "Origin": "Europe",
          "Weight_in_lbs": 3230,
          "Year": "1982-01-01"
         },
         {
          "Acceleration": 15.4,
          "Cylinders": 4,
          "Displacement": 121,
          "Horsepower": 110,
          "Miles_per_Gallon": null,
          "Name": "saab 900s",
          "Origin": "Europe",
          "Weight_in_lbs": 2800,
          "Year": "1982-01-01"
         },
         {
          "Acceleration": 19.6,
          "Cylinders": 6,
          "Displacement": 145,
          "Horsepower": 76,
          "Miles_per_Gallon": 30.7,
          "Name": "volvo diesel",
          "Origin": "Europe",
          "Weight_in_lbs": 3160,
          "Year": "1982-01-01"
         },
         {
          "Acceleration": 12.6,
          "Cylinders": 6,
          "Displacement": 168,
          "Horsepower": 116,
          "Miles_per_Gallon": 25.4,
          "Name": "toyota cressida",
          "Origin": "Japan",
          "Weight_in_lbs": 2900,
          "Year": "1982-01-01"
         },
         {
          "Acceleration": 13.8,
          "Cylinders": 6,
          "Displacement": 146,
          "Horsepower": 120,
          "Miles_per_Gallon": 24.2,
          "Name": "datsun 810 maxima",
          "Origin": "Japan",
          "Weight_in_lbs": 2930,
          "Year": "1982-01-01"
         },
         {
          "Acceleration": 15.8,
          "Cylinders": 6,
          "Displacement": 231,
          "Horsepower": 110,
          "Miles_per_Gallon": 22.4,
          "Name": "buick century",
          "Origin": "USA",
          "Weight_in_lbs": 3415,
          "Year": "1982-01-01"
         },
         {
          "Acceleration": 19,
          "Cylinders": 8,
          "Displacement": 350,
          "Horsepower": 105,
          "Miles_per_Gallon": 26.6,
          "Name": "oldsmobile cutlass ls",
          "Origin": "USA",
          "Weight_in_lbs": 3725,
          "Year": "1982-01-01"
         },
         {
          "Acceleration": 17.1,
          "Cylinders": 6,
          "Displacement": 200,
          "Horsepower": 88,
          "Miles_per_Gallon": 20.2,
          "Name": "ford granada gl",
          "Origin": "USA",
          "Weight_in_lbs": 3060,
          "Year": "1982-01-01"
         },
         {
          "Acceleration": 16.6,
          "Cylinders": 6,
          "Displacement": 225,
          "Horsepower": 85,
          "Miles_per_Gallon": 17.6,
          "Name": "chrysler lebaron salon",
          "Origin": "USA",
          "Weight_in_lbs": 3465,
          "Year": "1982-01-01"
         },
         {
          "Acceleration": 19.6,
          "Cylinders": 4,
          "Displacement": 112,
          "Horsepower": 88,
          "Miles_per_Gallon": 28,
          "Name": "chevrolet cavalier",
          "Origin": "USA",
          "Weight_in_lbs": 2605,
          "Year": "1982-01-01"
         },
         {
          "Acceleration": 18.6,
          "Cylinders": 4,
          "Displacement": 112,
          "Horsepower": 88,
          "Miles_per_Gallon": 27,
          "Name": "chevrolet cavalier wagon",
          "Origin": "USA",
          "Weight_in_lbs": 2640,
          "Year": "1982-01-01"
         },
         {
          "Acceleration": 18,
          "Cylinders": 4,
          "Displacement": 112,
          "Horsepower": 88,
          "Miles_per_Gallon": 34,
          "Name": "chevrolet cavalier 2-door",
          "Origin": "USA",
          "Weight_in_lbs": 2395,
          "Year": "1982-01-01"
         },
         {
          "Acceleration": 16.2,
          "Cylinders": 4,
          "Displacement": 112,
          "Horsepower": 85,
          "Miles_per_Gallon": 31,
          "Name": "pontiac j2000 se hatchback",
          "Origin": "USA",
          "Weight_in_lbs": 2575,
          "Year": "1982-01-01"
         },
         {
          "Acceleration": 16,
          "Cylinders": 4,
          "Displacement": 135,
          "Horsepower": 84,
          "Miles_per_Gallon": 29,
          "Name": "dodge aries se",
          "Origin": "USA",
          "Weight_in_lbs": 2525,
          "Year": "1982-01-01"
         },
         {
          "Acceleration": 18,
          "Cylinders": 4,
          "Displacement": 151,
          "Horsepower": 90,
          "Miles_per_Gallon": 27,
          "Name": "pontiac phoenix",
          "Origin": "USA",
          "Weight_in_lbs": 2735,
          "Year": "1982-01-01"
         },
         {
          "Acceleration": 16.4,
          "Cylinders": 4,
          "Displacement": 140,
          "Horsepower": 92,
          "Miles_per_Gallon": 24,
          "Name": "ford fairmont futura",
          "Origin": "USA",
          "Weight_in_lbs": 2865,
          "Year": "1982-01-01"
         },
         {
          "Acceleration": 20.5,
          "Cylinders": 4,
          "Displacement": 151,
          "Horsepower": null,
          "Miles_per_Gallon": 23,
          "Name": "amc concord dl",
          "Origin": "USA",
          "Weight_in_lbs": 3035,
          "Year": "1982-01-01"
         },
         {
          "Acceleration": 15.3,
          "Cylinders": 4,
          "Displacement": 105,
          "Horsepower": 74,
          "Miles_per_Gallon": 36,
          "Name": "volkswagen rabbit l",
          "Origin": "Europe",
          "Weight_in_lbs": 1980,
          "Year": "1982-01-01"
         },
         {
          "Acceleration": 18.2,
          "Cylinders": 4,
          "Displacement": 91,
          "Horsepower": 68,
          "Miles_per_Gallon": 37,
          "Name": "mazda glc custom l",
          "Origin": "Japan",
          "Weight_in_lbs": 2025,
          "Year": "1982-01-01"
         },
         {
          "Acceleration": 17.6,
          "Cylinders": 4,
          "Displacement": 91,
          "Horsepower": 68,
          "Miles_per_Gallon": 31,
          "Name": "mazda glc custom",
          "Origin": "Japan",
          "Weight_in_lbs": 1970,
          "Year": "1982-01-01"
         },
         {
          "Acceleration": 14.7,
          "Cylinders": 4,
          "Displacement": 105,
          "Horsepower": 63,
          "Miles_per_Gallon": 38,
          "Name": "plymouth horizon miser",
          "Origin": "USA",
          "Weight_in_lbs": 2125,
          "Year": "1982-01-01"
         },
         {
          "Acceleration": 17.3,
          "Cylinders": 4,
          "Displacement": 98,
          "Horsepower": 70,
          "Miles_per_Gallon": 36,
          "Name": "mercury lynx l",
          "Origin": "USA",
          "Weight_in_lbs": 2125,
          "Year": "1982-01-01"
         },
         {
          "Acceleration": 14.5,
          "Cylinders": 4,
          "Displacement": 120,
          "Horsepower": 88,
          "Miles_per_Gallon": 36,
          "Name": "nissan stanza xe",
          "Origin": "Japan",
          "Weight_in_lbs": 2160,
          "Year": "1982-01-01"
         },
         {
          "Acceleration": 14.5,
          "Cylinders": 4,
          "Displacement": 107,
          "Horsepower": 75,
          "Miles_per_Gallon": 36,
          "Name": "honda Accelerationord",
          "Origin": "Japan",
          "Weight_in_lbs": 2205,
          "Year": "1982-01-01"
         },
         {
          "Acceleration": 16.9,
          "Cylinders": 4,
          "Displacement": 108,
          "Horsepower": 70,
          "Miles_per_Gallon": 34,
          "Name": "toyota corolla",
          "Origin": "Japan",
          "Weight_in_lbs": 2245,
          "Year": "1982-01-01"
         },
         {
          "Acceleration": 15,
          "Cylinders": 4,
          "Displacement": 91,
          "Horsepower": 67,
          "Miles_per_Gallon": 38,
          "Name": "honda civic",
          "Origin": "Japan",
          "Weight_in_lbs": 1965,
          "Year": "1982-01-01"
         },
         {
          "Acceleration": 15.7,
          "Cylinders": 4,
          "Displacement": 91,
          "Horsepower": 67,
          "Miles_per_Gallon": 32,
          "Name": "honda civic (auto)",
          "Origin": "Japan",
          "Weight_in_lbs": 1965,
          "Year": "1982-01-01"
         },
         {
          "Acceleration": 16.2,
          "Cylinders": 4,
          "Displacement": 91,
          "Horsepower": 67,
          "Miles_per_Gallon": 38,
          "Name": "datsun 310 gx",
          "Origin": "Japan",
          "Weight_in_lbs": 1995,
          "Year": "1982-01-01"
         },
         {
          "Acceleration": 16.4,
          "Cylinders": 6,
          "Displacement": 181,
          "Horsepower": 110,
          "Miles_per_Gallon": 25,
          "Name": "buick century limited",
          "Origin": "USA",
          "Weight_in_lbs": 2945,
          "Year": "1982-01-01"
         },
         {
          "Acceleration": 17,
          "Cylinders": 6,
          "Displacement": 262,
          "Horsepower": 85,
          "Miles_per_Gallon": 38,
          "Name": "oldsmobile cutlass ciera (diesel)",
          "Origin": "USA",
          "Weight_in_lbs": 3015,
          "Year": "1982-01-01"
         },
         {
          "Acceleration": 14.5,
          "Cylinders": 4,
          "Displacement": 156,
          "Horsepower": 92,
          "Miles_per_Gallon": 26,
          "Name": "chrysler lebaron medallion",
          "Origin": "USA",
          "Weight_in_lbs": 2585,
          "Year": "1982-01-01"
         },
         {
          "Acceleration": 14.7,
          "Cylinders": 6,
          "Displacement": 232,
          "Horsepower": 112,
          "Miles_per_Gallon": 22,
          "Name": "ford granada l",
          "Origin": "USA",
          "Weight_in_lbs": 2835,
          "Year": "1982-01-01"
         },
         {
          "Acceleration": 13.9,
          "Cylinders": 4,
          "Displacement": 144,
          "Horsepower": 96,
          "Miles_per_Gallon": 32,
          "Name": "toyota celica gt",
          "Origin": "Japan",
          "Weight_in_lbs": 2665,
          "Year": "1982-01-01"
         },
         {
          "Acceleration": 13,
          "Cylinders": 4,
          "Displacement": 135,
          "Horsepower": 84,
          "Miles_per_Gallon": 36,
          "Name": "dodge charger 2.2",
          "Origin": "USA",
          "Weight_in_lbs": 2370,
          "Year": "1982-01-01"
         },
         {
          "Acceleration": 17.3,
          "Cylinders": 4,
          "Displacement": 151,
          "Horsepower": 90,
          "Miles_per_Gallon": 27,
          "Name": "chevrolet camaro",
          "Origin": "USA",
          "Weight_in_lbs": 2950,
          "Year": "1982-01-01"
         },
         {
          "Acceleration": 15.6,
          "Cylinders": 4,
          "Displacement": 140,
          "Horsepower": 86,
          "Miles_per_Gallon": 27,
          "Name": "ford mustang gl",
          "Origin": "USA",
          "Weight_in_lbs": 2790,
          "Year": "1982-01-01"
         },
         {
          "Acceleration": 24.6,
          "Cylinders": 4,
          "Displacement": 97,
          "Horsepower": 52,
          "Miles_per_Gallon": 44,
          "Name": "vw pickup",
          "Origin": "Europe",
          "Weight_in_lbs": 2130,
          "Year": "1982-01-01"
         },
         {
          "Acceleration": 11.6,
          "Cylinders": 4,
          "Displacement": 135,
          "Horsepower": 84,
          "Miles_per_Gallon": 32,
          "Name": "dodge rampage",
          "Origin": "USA",
          "Weight_in_lbs": 2295,
          "Year": "1982-01-01"
         },
         {
          "Acceleration": 18.6,
          "Cylinders": 4,
          "Displacement": 120,
          "Horsepower": 79,
          "Miles_per_Gallon": 28,
          "Name": "ford ranger",
          "Origin": "USA",
          "Weight_in_lbs": 2625,
          "Year": "1982-01-01"
         },
         {
          "Acceleration": 19.4,
          "Cylinders": 4,
          "Displacement": 119,
          "Horsepower": 82,
          "Miles_per_Gallon": 31,
          "Name": "chevy s-10",
          "Origin": "USA",
          "Weight_in_lbs": 2720,
          "Year": "1982-01-01"
         }
        ]
       },
       "encoding": {
        "x": {
         "aggregate": "average",
         "field": "Weight_in_lbs",
         "type": "quantitative"
        },
        "y": {
         "field": "Origin",
         "type": "nominal"
        }
       },
       "mark": {
        "color": "darkblue",
        "type": "bar"
       }
      },
      "image/png": "[encoded data removed]",
      "text/plain": [
       "<VegaLite 2 object>\n",
       "\n",
       "If you see this message, it means the renderer has not been properly enabled\n",
       "for the frontend that you are using. For more information, see\n",
       "https://altair-viz.github.io/user_guide/troubleshooting.html\n"
      ]
     },
     "execution_count": 50,
     "metadata": {},
     "output_type": "execute_result"
    }
   ],
   "source": [
    "chart"
   ]
  },
  {
   "cell_type": "code",
   "execution_count": null,
   "metadata": {},
   "outputs": [],
   "source": []
  },
  {
   "cell_type": "markdown",
   "metadata": {},
   "source": [
    "## Stacked Area Chart"
   ]
  },
  {
   "cell_type": "code",
   "execution_count": 20,
   "metadata": {},
   "outputs": [
    {
     "data": {
      "application/vnd.vegalite.v2+json": {
       "$schema": "https://vega.github.io/schema/vega-lite/v2.4.1.json",
       "config": {
        "view": {
         "height": 300,
         "width": 400
        }
       },
       "data": {
        "format": {
         "type": "json"
        },
        "url": "https://vega.github.io/vega-datasets/data/unemployment-across-industries.json"
       },
       "encoding": {
        "color": {
         "field": "series",
         "type": "nominal"
        },
        "x": {
         "field": "date",
         "timeUnit": "yearmonthdate",
         "type": "temporal"
        },
        "y": {
         "field": "count",
         "type": "quantitative"
        }
       },
       "mark": "area"
      },
      "image/png": "[encoded data removed]",
      "text/plain": [
       "<VegaLite 2 object>\n",
       "\n",
       "If you see this message, it means the renderer has not been properly enabled\n",
       "for the frontend that you are using. For more information, see\n",
       "https://altair-viz.github.io/user_guide/troubleshooting.html\n"
      ]
     },
     "execution_count": 20,
     "metadata": {},
     "output_type": "execute_result"
    }
   ],
   "source": [
    "\n",
    "\n",
    "source = vega_datasets.data.unemployment_across_industries.url\n",
    "\n",
    "alt.Chart(source).mark_area().encode(\n",
    "    alt.X(\"date:T\", timeUnit='yearmonthdate'),\n",
    "    alt.Y(\"count:Q\"),\n",
    "    color=\"series:N\"\n",
    ")"
   ]
  },
  {
   "cell_type": "markdown",
   "metadata": {},
   "source": [
    "## Area Charts with and without Stacking, and with Opacity setting"
   ]
  },
  {
   "cell_type": "code",
   "execution_count": 24,
   "metadata": {},
   "outputs": [],
   "source": [
    "d = {'t':[0,0,1,1,2,2], 'y':[2,3,1,4,6,1], 'sex':['M','F','M','F','M','F',]}"
   ]
  },
  {
   "cell_type": "code",
   "execution_count": 25,
   "metadata": {},
   "outputs": [],
   "source": [
    "df2 = pd.DataFrame(d)"
   ]
  },
  {
   "cell_type": "code",
   "execution_count": 26,
   "metadata": {},
   "outputs": [
    {
     "data": {
      "text/html": [
       "<div>\n",
       "<style scoped>\n",
       "    .dataframe tbody tr th:only-of-type {\n",
       "        vertical-align: middle;\n",
       "    }\n",
       "\n",
       "    .dataframe tbody tr th {\n",
       "        vertical-align: top;\n",
       "    }\n",
       "\n",
       "    .dataframe thead th {\n",
       "        text-align: right;\n",
       "    }\n",
       "</style>\n",
       "<table border=\"1\" class=\"dataframe\">\n",
       "  <thead>\n",
       "    <tr style=\"text-align: right;\">\n",
       "      <th></th>\n",
       "      <th>sex</th>\n",
       "      <th>t</th>\n",
       "      <th>y</th>\n",
       "    </tr>\n",
       "  </thead>\n",
       "  <tbody>\n",
       "    <tr>\n",
       "      <th>0</th>\n",
       "      <td>M</td>\n",
       "      <td>0</td>\n",
       "      <td>2</td>\n",
       "    </tr>\n",
       "    <tr>\n",
       "      <th>1</th>\n",
       "      <td>F</td>\n",
       "      <td>0</td>\n",
       "      <td>3</td>\n",
       "    </tr>\n",
       "    <tr>\n",
       "      <th>2</th>\n",
       "      <td>M</td>\n",
       "      <td>1</td>\n",
       "      <td>1</td>\n",
       "    </tr>\n",
       "    <tr>\n",
       "      <th>3</th>\n",
       "      <td>F</td>\n",
       "      <td>1</td>\n",
       "      <td>4</td>\n",
       "    </tr>\n",
       "    <tr>\n",
       "      <th>4</th>\n",
       "      <td>M</td>\n",
       "      <td>2</td>\n",
       "      <td>6</td>\n",
       "    </tr>\n",
       "    <tr>\n",
       "      <th>5</th>\n",
       "      <td>F</td>\n",
       "      <td>2</td>\n",
       "      <td>1</td>\n",
       "    </tr>\n",
       "  </tbody>\n",
       "</table>\n",
       "</div>"
      ],
      "text/plain": [
       "  sex  t  y\n",
       "0   M  0  2\n",
       "1   F  0  3\n",
       "2   M  1  1\n",
       "3   F  1  4\n",
       "4   M  2  6\n",
       "5   F  2  1"
      ]
     },
     "execution_count": 26,
     "metadata": {},
     "output_type": "execute_result"
    }
   ],
   "source": [
    "df2"
   ]
  },
  {
   "cell_type": "markdown",
   "metadata": {},
   "source": [
    "#### Stacked Areas"
   ]
  },
  {
   "cell_type": "code",
   "execution_count": 28,
   "metadata": {},
   "outputs": [
    {
     "data": {
      "application/vnd.vegalite.v2+json": {
       "$schema": "https://vega.github.io/schema/vega-lite/v2.4.1.json",
       "config": {
        "view": {
         "height": 300,
         "width": 400
        }
       },
       "data": {
        "values": [
         {
          "sex": "M",
          "t": 0,
          "y": 2
         },
         {
          "sex": "F",
          "t": 0,
          "y": 3
         },
         {
          "sex": "M",
          "t": 1,
          "y": 1
         },
         {
          "sex": "F",
          "t": 1,
          "y": 4
         },
         {
          "sex": "M",
          "t": 2,
          "y": 6
         },
         {
          "sex": "F",
          "t": 2,
          "y": 1
         }
        ]
       },
       "encoding": {
        "color": {
         "field": "sex",
         "type": "nominal"
        },
        "x": {
         "field": "t",
         "type": "quantitative"
        },
        "y": {
         "field": "y",
         "stack": "zero",
         "type": "quantitative"
        }
       },
       "mark": "area"
      },
      "image/png": "[encoded data removed]",
      "text/plain": [
       "<VegaLite 2 object>\n",
       "\n",
       "If you see this message, it means the renderer has not been properly enabled\n",
       "for the frontend that you are using. For more information, see\n",
       "https://altair-viz.github.io/user_guide/troubleshooting.html\n"
      ]
     },
     "execution_count": 28,
     "metadata": {},
     "output_type": "execute_result"
    }
   ],
   "source": [
    "alt.Chart(df2).mark_area().encode(alt.X('t'),  alt.Y('y', stack='zero'), color='sex' )"
   ]
  },
  {
   "cell_type": "markdown",
   "metadata": {},
   "source": [
    "#### Overlapping areas"
   ]
  },
  {
   "cell_type": "code",
   "execution_count": 37,
   "metadata": {},
   "outputs": [
    {
     "data": {
      "application/vnd.vegalite.v2+json": {
       "$schema": "https://vega.github.io/schema/vega-lite/v2.4.1.json",
       "config": {
        "view": {
         "height": 300,
         "width": 400
        }
       },
       "data": {
        "values": [
         {
          "sex": "M",
          "t": 0,
          "y": 2
         },
         {
          "sex": "F",
          "t": 0,
          "y": 3
         },
         {
          "sex": "M",
          "t": 1,
          "y": 1
         },
         {
          "sex": "F",
          "t": 1,
          "y": 4
         },
         {
          "sex": "M",
          "t": 2,
          "y": 6
         },
         {
          "sex": "F",
          "t": 2,
          "y": 1
         }
        ]
       },
       "encoding": {
        "color": {
         "field": "sex",
         "type": "nominal"
        },
        "x": {
         "field": "t",
         "type": "quantitative"
        },
        "y": {
         "field": "y",
         "type": "quantitative"
        }
       },
       "mark": "area"
      },
      "image/png": "[encoded data removed]",
      "text/plain": [
       "<VegaLite 2 object>\n",
       "\n",
       "If you see this message, it means the renderer has not been properly enabled\n",
       "for the frontend that you are using. For more information, see\n",
       "https://altair-viz.github.io/user_guide/troubleshooting.html\n"
      ]
     },
     "execution_count": 37,
     "metadata": {},
     "output_type": "execute_result"
    }
   ],
   "source": [
    "alt.Chart(df2).mark_area().encode(x='t',  y='y', color='sex' )"
   ]
  },
  {
   "cell_type": "markdown",
   "metadata": {},
   "source": [
    "#### Areas normalized to 100%"
   ]
  },
  {
   "cell_type": "code",
   "execution_count": 62,
   "metadata": {},
   "outputs": [
    {
     "data": {
      "application/vnd.vegalite.v2+json": {
       "$schema": "https://vega.github.io/schema/vega-lite/v2.4.1.json",
       "config": {
        "view": {
         "height": 300,
         "width": 400
        }
       },
       "data": {
        "values": [
         {
          "sex": "M",
          "t": 0,
          "y": 2
         },
         {
          "sex": "F",
          "t": 0,
          "y": 3
         },
         {
          "sex": "M",
          "t": 1,
          "y": 1
         },
         {
          "sex": "F",
          "t": 1,
          "y": 4
         },
         {
          "sex": "M",
          "t": 2,
          "y": 6
         },
         {
          "sex": "F",
          "t": 2,
          "y": 1
         }
        ]
       },
       "encoding": {
        "color": {
         "field": "sex",
         "type": "nominal"
        },
        "x": {
         "field": "t",
         "type": "quantitative"
        },
        "y": {
         "field": "y",
         "stack": "normalize",
         "type": "quantitative"
        }
       },
       "mark": "area"
      },
      "image/png": "[encoded data removed]",
      "text/plain": [
       "<VegaLite 2 object>\n",
       "\n",
       "If you see this message, it means the renderer has not been properly enabled\n",
       "for the frontend that you are using. For more information, see\n",
       "https://altair-viz.github.io/user_guide/troubleshooting.html\n"
      ]
     },
     "execution_count": 62,
     "metadata": {},
     "output_type": "execute_result"
    }
   ],
   "source": [
    "alt.Chart(df2).mark_area().encode(alt.X('t'),  alt.Y('y', stack='normalize'), color='sex' )"
   ]
  },
  {
   "cell_type": "markdown",
   "metadata": {},
   "source": [
    "#### Areas spread around Y=0 axis"
   ]
  },
  {
   "cell_type": "code",
   "execution_count": 31,
   "metadata": {},
   "outputs": [
    {
     "data": {
      "application/vnd.vegalite.v2+json": {
       "$schema": "https://vega.github.io/schema/vega-lite/v2.4.1.json",
       "config": {
        "view": {
         "height": 300,
         "width": 400
        }
       },
       "data": {
        "values": [
         {
          "sex": "M",
          "t": 0,
          "y": 2
         },
         {
          "sex": "F",
          "t": 0,
          "y": 3
         },
         {
          "sex": "M",
          "t": 1,
          "y": 1
         },
         {
          "sex": "F",
          "t": 1,
          "y": 4
         },
         {
          "sex": "M",
          "t": 2,
          "y": 6
         },
         {
          "sex": "F",
          "t": 2,
          "y": 1
         }
        ]
       },
       "encoding": {
        "color": {
         "field": "sex",
         "type": "nominal"
        },
        "x": {
         "field": "t",
         "type": "quantitative"
        },
        "y": {
         "field": "y",
         "stack": "center",
         "type": "quantitative"
        }
       },
       "mark": "area"
      },
      "image/png": "[encoded data removed]",
      "text/plain": [
       "<VegaLite 2 object>\n",
       "\n",
       "If you see this message, it means the renderer has not been properly enabled\n",
       "for the frontend that you are using. For more information, see\n",
       "https://altair-viz.github.io/user_guide/troubleshooting.html\n"
      ]
     },
     "execution_count": 31,
     "metadata": {},
     "output_type": "execute_result"
    }
   ],
   "source": [
    "alt.Chart(df2).mark_area().encode(alt.X('t'),  alt.Y('y', stack='zero'), color='sex' )"
   ]
  },
  {
   "cell_type": "markdown",
   "metadata": {},
   "source": [
    "#### Overlapping Areas"
   ]
  },
  {
   "cell_type": "code",
   "execution_count": 66,
   "metadata": {},
   "outputs": [
    {
     "data": {
      "application/vnd.vegalite.v2+json": {
       "$schema": "https://vega.github.io/schema/vega-lite/v2.4.1.json",
       "config": {
        "view": {
         "height": 300,
         "width": 400
        }
       },
       "data": {
        "values": [
         {
          "sex": "M",
          "t": 0,
          "y": 2
         },
         {
          "sex": "F",
          "t": 0,
          "y": 3
         },
         {
          "sex": "M",
          "t": 1,
          "y": 1
         },
         {
          "sex": "F",
          "t": 1,
          "y": 4
         },
         {
          "sex": "M",
          "t": 2,
          "y": 6
         },
         {
          "sex": "F",
          "t": 2,
          "y": 1
         }
        ]
       },
       "encoding": {
        "color": {
         "field": "sex",
         "type": "nominal"
        },
        "x": {
         "field": "t",
         "type": "quantitative"
        },
        "y": {
         "field": "y",
         "stack": null,
         "type": "quantitative"
        }
       },
       "mark": "area"
      },
      "image/png": "[encoded data removed]",
      "text/plain": [
       "<VegaLite 2 object>\n",
       "\n",
       "If you see this message, it means the renderer has not been properly enabled\n",
       "for the frontend that you are using. For more information, see\n",
       "https://altair-viz.github.io/user_guide/troubleshooting.html\n"
      ]
     },
     "execution_count": 66,
     "metadata": {},
     "output_type": "execute_result"
    }
   ],
   "source": [
    "alt.Chart(df2).mark_area().encode(alt.X('t'),  alt.Y('y', stack=None), color='sex' )"
   ]
  },
  {
   "cell_type": "markdown",
   "metadata": {},
   "source": [
    "### Setting Opacity in overlapping area chart, three different ways"
   ]
  },
  {
   "cell_type": "code",
   "execution_count": 67,
   "metadata": {},
   "outputs": [
    {
     "data": {
      "application/vnd.vegalite.v2+json": {
       "$schema": "https://vega.github.io/schema/vega-lite/v2.4.1.json",
       "config": {
        "mark": {
         "opacity": 0.5
        },
        "view": {
         "height": 300,
         "width": 400
        }
       },
       "data": {
        "values": [
         {
          "sex": "M",
          "t": 0,
          "y": 2
         },
         {
          "sex": "F",
          "t": 0,
          "y": 3
         },
         {
          "sex": "M",
          "t": 1,
          "y": 1
         },
         {
          "sex": "F",
          "t": 1,
          "y": 4
         },
         {
          "sex": "M",
          "t": 2,
          "y": 6
         },
         {
          "sex": "F",
          "t": 2,
          "y": 1
         }
        ]
       },
       "encoding": {
        "color": {
         "field": "sex",
         "type": "nominal"
        },
        "x": {
         "field": "t",
         "type": "quantitative"
        },
        "y": {
         "field": "y",
         "stack": null,
         "type": "quantitative"
        }
       },
       "mark": "area"
      },
      "image/png": "[encoded data removed]",
      "text/plain": [
       "<VegaLite 2 object>\n",
       "\n",
       "If you see this message, it means the renderer has not been properly enabled\n",
       "for the frontend that you are using. For more information, see\n",
       "https://altair-viz.github.io/user_guide/troubleshooting.html\n"
      ]
     },
     "execution_count": 67,
     "metadata": {},
     "output_type": "execute_result"
    }
   ],
   "source": [
    "alt.Chart(df2).mark_area().encode(alt.X('t'),  alt.Y('y', stack=None), color='sex' ).configure_mark(opacity=0.5)"
   ]
  },
  {
   "cell_type": "code",
   "execution_count": 68,
   "metadata": {},
   "outputs": [
    {
     "data": {
      "application/vnd.vegalite.v2+json": {
       "$schema": "https://vega.github.io/schema/vega-lite/v2.4.1.json",
       "config": {
        "view": {
         "height": 300,
         "width": 400
        }
       },
       "data": {
        "values": [
         {
          "sex": "M",
          "t": 0,
          "y": 2
         },
         {
          "sex": "F",
          "t": 0,
          "y": 3
         },
         {
          "sex": "M",
          "t": 1,
          "y": 1
         },
         {
          "sex": "F",
          "t": 1,
          "y": 4
         },
         {
          "sex": "M",
          "t": 2,
          "y": 6
         },
         {
          "sex": "F",
          "t": 2,
          "y": 1
         }
        ]
       },
       "encoding": {
        "color": {
         "field": "sex",
         "type": "nominal"
        },
        "x": {
         "field": "t",
         "type": "quantitative"
        },
        "y": {
         "field": "y",
         "stack": null,
         "type": "quantitative"
        }
       },
       "mark": {
        "opacity": 0.5,
        "type": "area"
       }
      },
      "image/png": "[encoded data removed]",
      "text/plain": [
       "<VegaLite 2 object>\n",
       "\n",
       "If you see this message, it means the renderer has not been properly enabled\n",
       "for the frontend that you are using. For more information, see\n",
       "https://altair-viz.github.io/user_guide/troubleshooting.html\n"
      ]
     },
     "execution_count": 68,
     "metadata": {},
     "output_type": "execute_result"
    }
   ],
   "source": [
    "alt.Chart(df2).mark_area(opacity=0.5).encode(alt.X('t'),  alt.Y('y', stack=None), color='sex' )"
   ]
  },
  {
   "cell_type": "code",
   "execution_count": 69,
   "metadata": {},
   "outputs": [
    {
     "data": {
      "application/vnd.vegalite.v2+json": {
       "$schema": "https://vega.github.io/schema/vega-lite/v2.4.1.json",
       "config": {
        "view": {
         "height": 300,
         "width": 400
        }
       },
       "data": {
        "values": [
         {
          "sex": "M",
          "t": 0,
          "y": 2
         },
         {
          "sex": "F",
          "t": 0,
          "y": 3
         },
         {
          "sex": "M",
          "t": 1,
          "y": 1
         },
         {
          "sex": "F",
          "t": 1,
          "y": 4
         },
         {
          "sex": "M",
          "t": 2,
          "y": 6
         },
         {
          "sex": "F",
          "t": 2,
          "y": 1
         }
        ]
       },
       "encoding": {
        "color": {
         "field": "sex",
         "type": "nominal"
        },
        "opacity": {
         "value": 0.5
        },
        "x": {
         "field": "t",
         "type": "quantitative"
        },
        "y": {
         "field": "y",
         "stack": null,
         "type": "quantitative"
        }
       },
       "mark": "area"
      },
      "image/png": "[encoded data removed]",
      "text/plain": [
       "<VegaLite 2 object>\n",
       "\n",
       "If you see this message, it means the renderer has not been properly enabled\n",
       "for the frontend that you are using. For more information, see\n",
       "https://altair-viz.github.io/user_guide/troubleshooting.html\n"
      ]
     },
     "execution_count": 69,
     "metadata": {},
     "output_type": "execute_result"
    }
   ],
   "source": [
    "alt.Chart(df2).mark_area().encode(alt.X('t'),  alt.Y('y', stack=None), color='sex', opacity=alt.value(0.5) )"
   ]
  },
  {
   "cell_type": "markdown",
   "metadata": {},
   "source": [
    "### Show details of Altair versions and renderers"
   ]
  },
  {
   "cell_type": "code",
   "execution_count": 8,
   "metadata": {},
   "outputs": [
    {
     "data": {
      "text/plain": [
       "'2.0.1'"
      ]
     },
     "execution_count": 8,
     "metadata": {},
     "output_type": "execute_result"
    }
   ],
   "source": [
    "alt.__version__"
   ]
  },
  {
   "cell_type": "code",
   "execution_count": 13,
   "metadata": {},
   "outputs": [
    {
     "name": "stdout",
     "output_type": "stream",
     "text": [
      "default\n"
     ]
    }
   ],
   "source": [
    "print(alt.renderers.active)"
   ]
  },
  {
   "cell_type": "markdown",
   "metadata": {},
   "source": [
    "## Working with GeoPandas \n",
    "\n",
    "Note that these may generate large json image files, that block Notebook saving \n",
    "\n",
    "Delete cells after viewing"
   ]
  },
  {
   "cell_type": "code",
   "execution_count": null,
   "metadata": {},
   "outputs": [],
   "source": [
    "world = gpd.read_file(gpd.datasets.get_path('naturalearth_lowres'))\n",
    "world  = world[world.continent!='Antarctica'] # do not display Antarctica\n",
    "\n",
    "data  = alt.InlineData(values = world.to_json(), #geopandas to geojson string\n",
    "                       # root object type is \"FeatureCollection\" but we need its features\n",
    "                       format = alt.DataFormat(property='features',type='json')) \n",
    "alt.Chart(data).mark_geoshape(\n",
    ").encode( \n",
    "    color='properties.pop_est:Q', # DataFrame fields are accessible through a \"properties\" object \n",
    "    tooltip='properties.name:N'\n",
    ").properties( \n",
    "    projection={\"type\":'mercator'},\n",
    "    width=500,\n",
    "    height=300\n",
    ")"
   ]
  },
  {
   "cell_type": "code",
   "execution_count": null,
   "metadata": {},
   "outputs": [],
   "source": [
    "postcode_df = gpd.\\\n",
    "read_file('../../GeopandasNotebookProject/data/shapefiles/POA_2011_AUST.shp')\n",
    "\n",
    "\n",
    "data  = alt.InlineData(values = postcode_df.to_json(), #geopandas to geojson string\n",
    "                       # root object type is \"FeatureCollection\" but we need its features\n",
    "                       format = alt.DataFormat(property='features',type='json')) \n",
    "alt.Chart(data).mark_geoshape(\n",
    ").encode( \n",
    "    color='properties.SQKM:Q', # DataFrame fields are accessible through a \"properties\" object \n",
    "    tooltip='properties.POA_NAME:N'\n",
    ").properties( \n",
    "    projection={\"type\":'mercator'},\n",
    "    width=500,\n",
    "    height=300\n",
    ")"
   ]
  },
  {
   "cell_type": "code",
   "execution_count": 5,
   "metadata": {},
   "outputs": [
    {
     "name": "stdout",
     "output_type": "stream",
     "text": [
      "2.1.0\n"
     ]
    }
   ],
   "source": [
    "print(alt.__version__)"
   ]
  },
  {
   "cell_type": "code",
   "execution_count": null,
   "metadata": {},
   "outputs": [],
   "source": []
  },
  {
   "cell_type": "markdown",
   "metadata": {},
   "source": [
    "### Display associated webpages (eg source of data)"
   ]
  },
  {
   "cell_type": "code",
   "execution_count": 77,
   "metadata": {},
   "outputs": [
    {
     "data": {
      "text/html": [
       "\n",
       "        <iframe\n",
       "            width=\"800\"\n",
       "            height=\"200\"\n",
       "            src=\"carbars.html\"\n",
       "            frameborder=\"0\"\n",
       "            allowfullscreen\n",
       "        ></iframe>\n",
       "        "
      ],
      "text/plain": [
       "<IPython.lib.display.IFrame at 0x1a5fda18390>"
      ]
     },
     "execution_count": 77,
     "metadata": {},
     "output_type": "execute_result"
    }
   ],
   "source": [
    "from IPython.display import IFrame\n",
    "IFrame(\"carbars.html\", width = 800, height = 200)"
   ]
  },
  {
   "cell_type": "code",
   "execution_count": 6,
   "metadata": {},
   "outputs": [
    {
     "data": {
      "text/html": [
       "\n",
       "        <iframe\n",
       "            width=\"800\"\n",
       "            height=\"200\"\n",
       "            src=\"http://www.net-analysis.com\"\n",
       "            frameborder=\"0\"\n",
       "            allowfullscreen\n",
       "        ></iframe>\n",
       "        "
      ],
      "text/plain": [
       "<IPython.lib.display.IFrame at 0x18508e6a748>"
      ]
     },
     "execution_count": 6,
     "metadata": {},
     "output_type": "execute_result"
    }
   ],
   "source": [
    "from IPython.display import IFrame\n",
    "IFrame(\"http://www.net-analysis.com\", width = 800, height = 200)"
   ]
  },
  {
   "cell_type": "markdown",
   "metadata": {},
   "source": [
    "### Save figures to figures directory"
   ]
  },
  {
   "cell_type": "code",
   "execution_count": 16,
   "metadata": {},
   "outputs": [
    {
     "name": "stdout",
     "output_type": "stream",
     "text": [
      "../figures/Test20170218-193200.jpg saved.\n"
     ]
    },
    {
     "data": {
      "image/png": "[encoded data removed]",
      "text/plain": [
       "<matplotlib.figure.Figure at 0x261111dc438>"
      ]
     },
     "metadata": {},
     "output_type": "display_data"
    }
   ],
   "source": [
    "def save_figure(figure_title='TemplateNotebookFigure', figure_prefix='../figures/'):\n",
    "    \"\"\"\n",
    "     save_figure:  same the current matplotlib.pyplot figure as a jpg file\n",
    "\n",
    "     a file is generated from the supplied title, and the date and time\n",
    "\n",
    "     Inputs:\n",
    "     figure_title: string, incorporated into file name\n",
    "     figure_prefix: string giving relative (or absolute) path the save location\n",
    "     Returns:\n",
    "     True is save OK\n",
    "     False otherwise\n",
    "\n",
    "     Outputs:\n",
    "     prints error messages on exceptions\n",
    "\n",
    "    \"\"\"\n",
    "\n",
    "    try:\n",
    "        fname     = figure_prefix+figure_title+datetime.datetime.now().strftime(\"%Y%m%d-%H%M%S\")+'.jpg'\n",
    "        plt.savefig(fname)\n",
    "        print(fname+' saved.')\n",
    "    except IOError as err:\n",
    "        print('Unable to save figure - IO Error!')\n",
    "        print(\"IO error: {0}\".format(err))\n",
    "    except OSError as err:\n",
    "        print('Unable to save figure - OS Error!')\n",
    "        print(\"OS error: {0}\".format(err))\n",
    "    except:\n",
    "        print('Unable to save figure - Unexpected Error!')\n",
    "        print(\"Unexpected error:\", sys.exc_info()[0])\n",
    "        raise\n",
    "    #end try\n",
    "#end save_figure\n",
    "\n",
    "x         =[1,2,3,4,5,6]\n",
    "y         =[2,4,5,2,5,9]\n",
    "plot2     = sns.barplot(x=x, y=y)\n",
    "\n",
    "save_figure(figure_title='Test', figure_prefix=FIGURE_PREFIX)\n",
    "\n",
    "plt.show()"
   ]
  },
  {
   "cell_type": "markdown",
   "metadata": {},
   "source": [
    "### Display images"
   ]
  },
  {
   "cell_type": "code",
   "execution_count": 8,
   "metadata": {},
   "outputs": [
    {
     "data": {
      "image/jpeg": "[encoded data removed]",
      "text/plain": [
       "<IPython.core.display.Image object>"
      ]
     },
     "execution_count": 8,
     "metadata": {
      "image/jpeg": {
       "height": 100,
       "width": 200
      }
     },
     "output_type": "execute_result"
    }
   ],
   "source": [
    "from IPython.display import Image\n",
    "Image(filename='../figures/apc.jpg', height = 100, width = 200)"
   ]
  },
  {
   "cell_type": "markdown",
   "metadata": {},
   "source": [
    "## Conclusions / Summary"
   ]
  },
  {
   "cell_type": "code",
   "execution_count": 2,
   "metadata": {},
   "outputs": [
    {
     "data": {
      "text/plain": [
       "{'$schema': 'https://vega.github.io/schema/vega-lite/v2.4.3.json',\n",
       " 'config': {'view': {'height': 300, 'width': 400}},\n",
       " 'data': {'values': [{'x': 1, 'y': 2}, {'x': 2, 'y': 1}, {'x': 3, 'y': 2}]},\n",
       " 'encoding': {'x': {'field': 'x', 'type': 'quantitative'},\n",
       "  'y': {'field': 'y', 'type': 'quantitative'}},\n",
       " 'mark': 'line'}"
      ]
     },
     "execution_count": 2,
     "metadata": {},
     "output_type": "execute_result"
    }
   ],
   "source": [
    "data3 = pd.DataFrame({'x': [1, 2, 3], 'y': [2, 1, 2]})\n",
    "\n",
    "chart3 = alt.Chart(data3).mark_line().encode(\n",
    " x='x:Q',\n",
    " y='y:Q'\n",
    ")\n",
    "\n",
    "chart3.to_dict() "
   ]
  },
  {
   "cell_type": "code",
   "execution_count": null,
   "metadata": {
    "collapsed": true
   },
   "outputs": [],
   "source": []
  }
 ],
 "metadata": {
  "anaconda-cloud": {},
  "kernelspec": {
   "display_name": "Python [default]",
   "language": "python",
   "name": "python3"
  },
  "language_info": {
   "codemirror_mode": {
    "name": "ipython",
    "version": 3
   },
   "file_extension": ".py",
   "mimetype": "text/x-python",
   "name": "python",
   "nbconvert_exporter": "python",
   "pygments_lexer": "ipython3",
   "version": "3.6.3"
  },
  "toc": {
   "nav_menu": {},
   "number_sections": true,
   "sideBar": true,
   "skip_h1_title": true,
   "title_cell": "Table of Contents",
   "title_sidebar": "Contents",
   "toc_cell": true,
   "toc_position": {},
   "toc_section_display": true,
   "toc_window_display": false
  }
 },
 "nbformat": 4,
 "nbformat_minor": 2
}
